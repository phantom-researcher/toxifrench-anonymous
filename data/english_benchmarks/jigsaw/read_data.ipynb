{
 "cells": [
  {
   "cell_type": "markdown",
   "id": "f22e3e99",
   "metadata": {},
   "source": [
    "# Analyse the [Jigsaw's](https://www.kaggle.com/competitions/jigsaw-toxic-comment-classification-challenge/data) data"
   ]
  },
  {
   "cell_type": "markdown",
   "id": "0f0c8a1a",
   "metadata": {},
   "source": [
    "## Libraries"
   ]
  },
  {
   "cell_type": "code",
   "execution_count": 1,
   "id": "6adf7a29",
   "metadata": {},
   "outputs": [],
   "source": [
    "import pandas as pd\n",
    "from pathlib import Path\n",
    "import os\n",
    "import openai\n",
    "from utils.api_batch_handler import OpenAIResponseHandler"
   ]
  },
  {
   "cell_type": "markdown",
   "id": "547f900a",
   "metadata": {},
   "source": [
    "## Global variables"
   ]
  },
  {
   "cell_type": "code",
   "execution_count": 2,
   "id": "2fd844f6",
   "metadata": {},
   "outputs": [],
   "source": [
    "ROOT = Path('.')\n",
    "API_KEY_PATH = ROOT / \"..\" / \"..\" / \"confidential\" / \"GPT_API.txt\"\n",
    "TRAIN_PATH = ROOT / \"train.csv\"\n",
    "proxy = \"socks5h://127.0.0.1:1080\"\n",
    "model = \"gpt-4o-mini\"\n",
    "max_contents = 2000\n",
    "max_tokens = 200\n",
    "system_prompt_path = ROOT / \"utils\" / \"system_prompt.txt\"\n",
    "system_prompt = system_prompt_path.read_text().strip()\n",
    "min_length = 5\n",
    "max_length = 25"
   ]
  },
  {
   "cell_type": "markdown",
   "id": "a1d63df1",
   "metadata": {},
   "source": [
    "## Load data"
   ]
  },
  {
   "cell_type": "code",
   "execution_count": 3,
   "id": "64358061",
   "metadata": {},
   "outputs": [],
   "source": [
    "df_train = pd.read_csv(TRAIN_PATH)\n",
    "df_train = df_train[df_train['comment_text'].apply(lambda x: len(x.split()) > min_length and len(x.split()) < max_length)]"
   ]
  },
  {
   "cell_type": "code",
   "execution_count": 4,
   "id": "2b097046",
   "metadata": {},
   "outputs": [
    {
     "name": "stdout",
     "output_type": "stream",
     "text": [
      "df_toxic: 7096\n",
      "df_severe_toxic: 842\n",
      "df_obscene: 4100\n",
      "df_threat: 246\n",
      "df_insult: 3849\n",
      "df_identity_hate: 698\n",
      "df_non_toxic: 43302\n"
     ]
    }
   ],
   "source": [
    "df_toxic = df_train[df_train[\"toxic\"] == 1]\n",
    "df_severe_toxic = df_train[df_train[\"severe_toxic\"] == 1]\n",
    "df_obscene = df_train[df_train[\"obscene\"] == 1]\n",
    "df_threat = df_train[df_train[\"threat\"] == 1]\n",
    "df_insult = df_train[df_train[\"insult\"] == 1]\n",
    "df_identity_hate = df_train[df_train[\"identity_hate\"] == 1]\n",
    "df_non_toxic = df_train[\n",
    "    (df_train[\"toxic\"] == 0) &\n",
    "    (df_train[\"severe_toxic\"] == 0) &\n",
    "    (df_train[\"obscene\"] == 0) &\n",
    "    (df_train[\"threat\"] == 0) &\n",
    "    (df_train[\"insult\"] == 0) &\n",
    "    (df_train[\"identity_hate\"] == 0)\n",
    "]\n",
    "\n",
    "print(f\"df_toxic: {len(df_toxic)}\\ndf_severe_toxic: {len(df_severe_toxic)}\\ndf_obscene: {len(df_obscene)}\\ndf_threat: {len(df_threat)}\\ndf_insult: {len(df_insult)}\\ndf_identity_hate: {len(df_identity_hate)}\\ndf_non_toxic: {len(df_non_toxic)}\")"
   ]
  },
  {
   "cell_type": "markdown",
   "id": "eab5b735",
   "metadata": {},
   "source": [
    "## Take `200` sample from each type of toxicity"
   ]
  },
  {
   "cell_type": "code",
   "execution_count": 5,
   "id": "8848bf68",
   "metadata": {},
   "outputs": [
    {
     "data": {
      "text/html": [
       "<div>\n",
       "<style scoped>\n",
       "    .dataframe tbody tr th:only-of-type {\n",
       "        vertical-align: middle;\n",
       "    }\n",
       "\n",
       "    .dataframe tbody tr th {\n",
       "        vertical-align: top;\n",
       "    }\n",
       "\n",
       "    .dataframe thead th {\n",
       "        text-align: right;\n",
       "    }\n",
       "</style>\n",
       "<table border=\"1\" class=\"dataframe\">\n",
       "  <thead>\n",
       "    <tr style=\"text-align: right;\">\n",
       "      <th></th>\n",
       "      <th>msg_id</th>\n",
       "      <th>text</th>\n",
       "      <th>toxic</th>\n",
       "      <th>severe_toxic</th>\n",
       "      <th>obscene</th>\n",
       "      <th>threat</th>\n",
       "      <th>insult</th>\n",
       "      <th>identity_hate</th>\n",
       "    </tr>\n",
       "  </thead>\n",
       "  <tbody>\n",
       "    <tr>\n",
       "      <th>0</th>\n",
       "      <td>7169c1b94061458a</td>\n",
       "      <td>I Hate You\\n\\nAnd I hope you die in a fire. 12...</td>\n",
       "      <td>1</td>\n",
       "      <td>0</td>\n",
       "      <td>0</td>\n",
       "      <td>1</td>\n",
       "      <td>1</td>\n",
       "      <td>0</td>\n",
       "    </tr>\n",
       "    <tr>\n",
       "      <th>1</th>\n",
       "      <td>f6e6eb2e0e6dafa6</td>\n",
       "      <td>this guys a fuckin prick and if i ever come cr...</td>\n",
       "      <td>1</td>\n",
       "      <td>0</td>\n",
       "      <td>1</td>\n",
       "      <td>1</td>\n",
       "      <td>1</td>\n",
       "      <td>0</td>\n",
       "    </tr>\n",
       "    <tr>\n",
       "      <th>2</th>\n",
       "      <td>43330593d10e5dc6</td>\n",
       "      <td>Fucking lying nigger, fes up you peice of shit...</td>\n",
       "      <td>1</td>\n",
       "      <td>1</td>\n",
       "      <td>1</td>\n",
       "      <td>0</td>\n",
       "      <td>1</td>\n",
       "      <td>1</td>\n",
       "    </tr>\n",
       "    <tr>\n",
       "      <th>3</th>\n",
       "      <td>620fa4109a8ef333</td>\n",
       "      <td>You fucking piece of shit \\n\\nI'm going to hun...</td>\n",
       "      <td>1</td>\n",
       "      <td>0</td>\n",
       "      <td>1</td>\n",
       "      <td>1</td>\n",
       "      <td>1</td>\n",
       "      <td>1</td>\n",
       "    </tr>\n",
       "    <tr>\n",
       "      <th>4</th>\n",
       "      <td>ae3eff588eca865c</td>\n",
       "      <td>Fucking white trash cunt\\nCould you also be mo...</td>\n",
       "      <td>1</td>\n",
       "      <td>1</td>\n",
       "      <td>1</td>\n",
       "      <td>0</td>\n",
       "      <td>1</td>\n",
       "      <td>1</td>\n",
       "    </tr>\n",
       "    <tr>\n",
       "      <th>...</th>\n",
       "      <td>...</td>\n",
       "      <td>...</td>\n",
       "      <td>...</td>\n",
       "      <td>...</td>\n",
       "      <td>...</td>\n",
       "      <td>...</td>\n",
       "      <td>...</td>\n",
       "      <td>...</td>\n",
       "    </tr>\n",
       "    <tr>\n",
       "      <th>1395</th>\n",
       "      <td>870b32770738ee23</td>\n",
       "      <td>== YOU ARE THE GAYEST KID IN THE FUCKING WORLD...</td>\n",
       "      <td>1</td>\n",
       "      <td>0</td>\n",
       "      <td>1</td>\n",
       "      <td>0</td>\n",
       "      <td>1</td>\n",
       "      <td>1</td>\n",
       "    </tr>\n",
       "    <tr>\n",
       "      <th>1396</th>\n",
       "      <td>493d65b86c3554c0</td>\n",
       "      <td>all chinks and gooks should be deported</td>\n",
       "      <td>1</td>\n",
       "      <td>0</td>\n",
       "      <td>1</td>\n",
       "      <td>0</td>\n",
       "      <td>1</td>\n",
       "      <td>1</td>\n",
       "    </tr>\n",
       "    <tr>\n",
       "      <th>1397</th>\n",
       "      <td>d4dc6fde411bd4c1</td>\n",
       "      <td>color of plates \\n\\nwhy does my state have two...</td>\n",
       "      <td>0</td>\n",
       "      <td>0</td>\n",
       "      <td>0</td>\n",
       "      <td>0</td>\n",
       "      <td>0</td>\n",
       "      <td>0</td>\n",
       "    </tr>\n",
       "    <tr>\n",
       "      <th>1398</th>\n",
       "      <td>1181b4b95a4daeb9</td>\n",
       "      <td>lame \\n\\nYou fuckin queer. Don't you have anyt...</td>\n",
       "      <td>1</td>\n",
       "      <td>1</td>\n",
       "      <td>1</td>\n",
       "      <td>0</td>\n",
       "      <td>1</td>\n",
       "      <td>0</td>\n",
       "    </tr>\n",
       "    <tr>\n",
       "      <th>1399</th>\n",
       "      <td>cf20a945b73123d6</td>\n",
       "      <td>Hey, why don't you and Joe Buck go make sweet ...</td>\n",
       "      <td>1</td>\n",
       "      <td>0</td>\n",
       "      <td>1</td>\n",
       "      <td>0</td>\n",
       "      <td>1</td>\n",
       "      <td>1</td>\n",
       "    </tr>\n",
       "  </tbody>\n",
       "</table>\n",
       "<p>1400 rows × 8 columns</p>\n",
       "</div>"
      ],
      "text/plain": [
       "                msg_id                                               text  \\\n",
       "0     7169c1b94061458a  I Hate You\\n\\nAnd I hope you die in a fire. 12...   \n",
       "1     f6e6eb2e0e6dafa6  this guys a fuckin prick and if i ever come cr...   \n",
       "2     43330593d10e5dc6  Fucking lying nigger, fes up you peice of shit...   \n",
       "3     620fa4109a8ef333  You fucking piece of shit \\n\\nI'm going to hun...   \n",
       "4     ae3eff588eca865c  Fucking white trash cunt\\nCould you also be mo...   \n",
       "...                ...                                                ...   \n",
       "1395  870b32770738ee23  == YOU ARE THE GAYEST KID IN THE FUCKING WORLD...   \n",
       "1396  493d65b86c3554c0            all chinks and gooks should be deported   \n",
       "1397  d4dc6fde411bd4c1  color of plates \\n\\nwhy does my state have two...   \n",
       "1398  1181b4b95a4daeb9  lame \\n\\nYou fuckin queer. Don't you have anyt...   \n",
       "1399  cf20a945b73123d6  Hey, why don't you and Joe Buck go make sweet ...   \n",
       "\n",
       "      toxic  severe_toxic  obscene  threat  insult  identity_hate  \n",
       "0         1             0        0       1       1              0  \n",
       "1         1             0        1       1       1              0  \n",
       "2         1             1        1       0       1              1  \n",
       "3         1             0        1       1       1              1  \n",
       "4         1             1        1       0       1              1  \n",
       "...     ...           ...      ...     ...     ...            ...  \n",
       "1395      1             0        1       0       1              1  \n",
       "1396      1             0        1       0       1              1  \n",
       "1397      0             0        0       0       0              0  \n",
       "1398      1             1        1       0       1              0  \n",
       "1399      1             0        1       0       1              1  \n",
       "\n",
       "[1400 rows x 8 columns]"
      ]
     },
     "execution_count": 5,
     "metadata": {},
     "output_type": "execute_result"
    }
   ],
   "source": [
    "df_merged = pd.concat([\n",
    "    df_toxic.sample(200, random_state=42),\n",
    "    df_severe_toxic.sample(200, random_state=42),\n",
    "    df_obscene.sample(200, random_state=42),\n",
    "    df_threat.sample(200, random_state=42),\n",
    "    df_insult.sample(200, random_state=42),\n",
    "    df_identity_hate.sample(200, random_state=42),\n",
    "    df_non_toxic.sample(200, random_state=42)\n",
    "], ignore_index=True)\n",
    "df_merged = df_merged.sample(frac=1, random_state=42).reset_index(drop=True)\n",
    "df_merged = df_merged.rename(columns={\"id\": \"msg_id\", \"comment_text\": \"text\"})\n",
    "df_merged"
   ]
  },
  {
   "cell_type": "code",
   "execution_count": 6,
   "id": "2319a404",
   "metadata": {},
   "outputs": [],
   "source": [
    "df_merged[\"system_prompt\"] = system_prompt\n",
    "df_merged[\"prompt\"] = df_merged[\"text\"].apply(lambda x: f\"English: {x}\\n\\nFrench:\")"
   ]
  },
  {
   "cell_type": "code",
   "execution_count": null,
   "id": "48ff1a02",
   "metadata": {},
   "outputs": [
    {
     "data": {
      "text/html": [
       "<pre style=\"white-space:pre;overflow-x:auto;line-height:normal;font-family:Menlo,'DejaVu Sans Mono',consolas,'Courier New',monospace\">╭───────────────────────────────────────────────────── <span style=\"color: #008000; text-decoration-color: #008000; font-weight: bold\">Init</span> ──────────────────────────────────────────────────────╮\n",
       "│ Proxy set to: socks5h://127.0.0.1:1080                                                                          │\n",
       "│ OpenAI API key set.                                                                                             │\n",
       "╰─────────────────────────────────────────────────────────────────────────────────────────────────────────────────╯\n",
       "</pre>\n"
      ],
      "text/plain": [
       "╭───────────────────────────────────────────────────── \u001b[1;32mInit\u001b[0m ──────────────────────────────────────────────────────╮\n",
       "│ Proxy set to: socks5h://127.0.0.1:1080                                                                          │\n",
       "│ OpenAI API key set.                                                                                             │\n",
       "╰─────────────────────────────────────────────────────────────────────────────────────────────────────────────────╯\n"
      ]
     },
     "metadata": {},
     "output_type": "display_data"
    }
   ],
   "source": [
    "handler = OpenAIResponseHandler(\n",
    "    df=df_merged,\n",
    "    USE_PROXY=proxy,\n",
    "    MODEL=model,\n",
    "    MAX_CONTENTS=max_contents,\n",
    "    batch_path=ROOT / \"data\" / \"batch.jsonl\",\n",
    "    max_tokens=max_tokens,\n",
    "    path_api_key=API_KEY_PATH,\n",
    "    output_path=ROOT / \"data\" / \"output.jsonl\",\n",
    ")"
   ]
  },
  {
   "cell_type": "code",
   "execution_count": 8,
   "id": "39a5d18c",
   "metadata": {},
   "outputs": [
    {
     "name": "stdout",
     "output_type": "stream",
     "text": [
      "Batch file written to batch.jsonl\n"
     ]
    },
    {
     "data": {
      "text/html": [
       "<pre style=\"white-space:pre;overflow-x:auto;line-height:normal;font-family:Menlo,'DejaVu Sans Mono',consolas,'Courier New',monospace\"><span style=\"color: #008000; text-decoration-color: #008000\">✔ Uploaded batch file. ID: </span><span style=\"color: #008000; text-decoration-color: #008000; font-weight: bold\">file-Hq9bCTdwNkPTVCGC8xRThh</span>\n",
       "</pre>\n"
      ],
      "text/plain": [
       "\u001b[32m✔ Uploaded batch file. ID: \u001b[0m\u001b[1;32mfile-Hq9bCTdwNkPTVCGC8xRThh\u001b[0m\n"
      ]
     },
     "metadata": {},
     "output_type": "display_data"
    },
    {
     "data": {
      "text/html": [
       "<pre style=\"white-space:pre;overflow-x:auto;line-height:normal;font-family:Menlo,'DejaVu Sans Mono',consolas,'Courier New',monospace\"><span style=\"color: #008000; text-decoration-color: #008000\">✔ Batch submitted. ID: </span><span style=\"color: #008000; text-decoration-color: #008000; font-weight: bold\">batch_682ab07ce958819088dedf9a71951a2f</span>\n",
       "</pre>\n"
      ],
      "text/plain": [
       "\u001b[32m✔ Batch submitted. ID: \u001b[0m\u001b[1;32mbatch_682ab07ce958819088dedf9a71951a2f\u001b[0m\n"
      ]
     },
     "metadata": {},
     "output_type": "display_data"
    },
    {
     "data": {
      "text/html": [
       "<pre style=\"white-space:pre;overflow-x:auto;line-height:normal;font-family:Menlo,'DejaVu Sans Mono',consolas,'Courier New',monospace\"><span style=\"color: #808000; text-decoration-color: #808000\"> Batch status </span><span style=\"color: #808000; text-decoration-color: #808000; font-weight: bold\">(</span><span style=\"color: #808000; text-decoration-color: #808000\">after 0s</span><span style=\"color: #808000; text-decoration-color: #808000; font-weight: bold\">)</span><span style=\"color: #808000; text-decoration-color: #808000\">: </span><span style=\"color: #808000; text-decoration-color: #808000; font-weight: bold\">validating</span>\n",
       "</pre>\n"
      ],
      "text/plain": [
       "\u001b[33m Batch status \u001b[0m\u001b[1;33m(\u001b[0m\u001b[33mafter 0s\u001b[0m\u001b[1;33m)\u001b[0m\u001b[33m: \u001b[0m\u001b[1;33mvalidating\u001b[0m\n"
      ]
     },
     "metadata": {},
     "output_type": "display_data"
    },
    {
     "data": {
      "text/html": [
       "<pre style=\"white-space:pre;overflow-x:auto;line-height:normal;font-family:Menlo,'DejaVu Sans Mono',consolas,'Courier New',monospace\"><span style=\"color: #808000; text-decoration-color: #808000\"> Batch status </span><span style=\"color: #808000; text-decoration-color: #808000; font-weight: bold\">(</span><span style=\"color: #808000; text-decoration-color: #808000\">after 60s</span><span style=\"color: #808000; text-decoration-color: #808000; font-weight: bold\">)</span><span style=\"color: #808000; text-decoration-color: #808000\">: </span><span style=\"color: #808000; text-decoration-color: #808000; font-weight: bold\">in_progress</span>\n",
       "</pre>\n"
      ],
      "text/plain": [
       "\u001b[33m Batch status \u001b[0m\u001b[1;33m(\u001b[0m\u001b[33mafter 60s\u001b[0m\u001b[1;33m)\u001b[0m\u001b[33m: \u001b[0m\u001b[1;33min_progress\u001b[0m\n"
      ]
     },
     "metadata": {},
     "output_type": "display_data"
    },
    {
     "data": {
      "text/html": [
       "<pre style=\"white-space:pre;overflow-x:auto;line-height:normal;font-family:Menlo,'DejaVu Sans Mono',consolas,'Courier New',monospace\"><span style=\"color: #808000; text-decoration-color: #808000\"> Batch status </span><span style=\"color: #808000; text-decoration-color: #808000; font-weight: bold\">(</span><span style=\"color: #808000; text-decoration-color: #808000\">after 120s</span><span style=\"color: #808000; text-decoration-color: #808000; font-weight: bold\">)</span><span style=\"color: #808000; text-decoration-color: #808000\">: </span><span style=\"color: #808000; text-decoration-color: #808000; font-weight: bold\">in_progress</span>\n",
       "</pre>\n"
      ],
      "text/plain": [
       "\u001b[33m Batch status \u001b[0m\u001b[1;33m(\u001b[0m\u001b[33mafter 120s\u001b[0m\u001b[1;33m)\u001b[0m\u001b[33m: \u001b[0m\u001b[1;33min_progress\u001b[0m\n"
      ]
     },
     "metadata": {},
     "output_type": "display_data"
    },
    {
     "data": {
      "text/html": [
       "<pre style=\"white-space:pre;overflow-x:auto;line-height:normal;font-family:Menlo,'DejaVu Sans Mono',consolas,'Courier New',monospace\"><span style=\"color: #808000; text-decoration-color: #808000\"> Batch status </span><span style=\"color: #808000; text-decoration-color: #808000; font-weight: bold\">(</span><span style=\"color: #808000; text-decoration-color: #808000\">after 180s</span><span style=\"color: #808000; text-decoration-color: #808000; font-weight: bold\">)</span><span style=\"color: #808000; text-decoration-color: #808000\">: </span><span style=\"color: #808000; text-decoration-color: #808000; font-weight: bold\">in_progress</span>\n",
       "</pre>\n"
      ],
      "text/plain": [
       "\u001b[33m Batch status \u001b[0m\u001b[1;33m(\u001b[0m\u001b[33mafter 180s\u001b[0m\u001b[1;33m)\u001b[0m\u001b[33m: \u001b[0m\u001b[1;33min_progress\u001b[0m\n"
      ]
     },
     "metadata": {},
     "output_type": "display_data"
    },
    {
     "data": {
      "text/html": [
       "<pre style=\"white-space:pre;overflow-x:auto;line-height:normal;font-family:Menlo,'DejaVu Sans Mono',consolas,'Courier New',monospace\"><span style=\"color: #808000; text-decoration-color: #808000\"> Batch status </span><span style=\"color: #808000; text-decoration-color: #808000; font-weight: bold\">(</span><span style=\"color: #808000; text-decoration-color: #808000\">after 240s</span><span style=\"color: #808000; text-decoration-color: #808000; font-weight: bold\">)</span><span style=\"color: #808000; text-decoration-color: #808000\">: </span><span style=\"color: #808000; text-decoration-color: #808000; font-weight: bold\">finalizing</span>\n",
       "</pre>\n"
      ],
      "text/plain": [
       "\u001b[33m Batch status \u001b[0m\u001b[1;33m(\u001b[0m\u001b[33mafter 240s\u001b[0m\u001b[1;33m)\u001b[0m\u001b[33m: \u001b[0m\u001b[1;33mfinalizing\u001b[0m\n"
      ]
     },
     "metadata": {},
     "output_type": "display_data"
    },
    {
     "data": {
      "text/html": [
       "<pre style=\"white-space:pre;overflow-x:auto;line-height:normal;font-family:Menlo,'DejaVu Sans Mono',consolas,'Courier New',monospace\"><span style=\"color: #808000; text-decoration-color: #808000\"> Batch status </span><span style=\"color: #808000; text-decoration-color: #808000; font-weight: bold\">(</span><span style=\"color: #808000; text-decoration-color: #808000\">after 300s</span><span style=\"color: #808000; text-decoration-color: #808000; font-weight: bold\">)</span><span style=\"color: #808000; text-decoration-color: #808000\">: </span><span style=\"color: #808000; text-decoration-color: #808000; font-weight: bold\">completed</span>\n",
       "</pre>\n"
      ],
      "text/plain": [
       "\u001b[33m Batch status \u001b[0m\u001b[1;33m(\u001b[0m\u001b[33mafter 300s\u001b[0m\u001b[1;33m)\u001b[0m\u001b[33m: \u001b[0m\u001b[1;33mcompleted\u001b[0m\n"
      ]
     },
     "metadata": {},
     "output_type": "display_data"
    },
    {
     "data": {
      "text/html": [
       "<pre style=\"white-space:pre;overflow-x:auto;line-height:normal;font-family:Menlo,'DejaVu Sans Mono',consolas,'Courier New',monospace\"><span style=\"color: #008080; text-decoration-color: #008080\">✔ Results merged and saved to </span><span style=\"color: #008080; text-decoration-color: #008080; font-weight: bold\">output.merged.csv</span>\n",
       "</pre>\n"
      ],
      "text/plain": [
       "\u001b[36m✔ Results merged and saved to \u001b[0m\u001b[1;36moutput.merged.csv\u001b[0m\n"
      ]
     },
     "metadata": {},
     "output_type": "display_data"
    },
    {
     "data": {
      "text/html": [
       "<pre style=\"white-space:pre;overflow-x:auto;line-height:normal;font-family:Menlo,'DejaVu Sans Mono',consolas,'Courier New',monospace\"><span style=\"color: #008080; text-decoration-color: #008080\">╭─────── </span><span style=\"color: #008080; text-decoration-color: #008080; font-weight: bold\">Token Summary</span><span style=\"color: #008080; text-decoration-color: #008080\"> ───────╮</span>\n",
       "<span style=\"color: #008080; text-decoration-color: #008080\">│</span> <span style=\"color: #808000; text-decoration-color: #808000\">Prompt tokens</span>     : 277899  <span style=\"color: #008080; text-decoration-color: #008080\">│</span>\n",
       "<span style=\"color: #008080; text-decoration-color: #008080\">│</span> <span style=\"color: #808000; text-decoration-color: #808000\">Completion tokens</span> : 32177   <span style=\"color: #008080; text-decoration-color: #008080\">│</span>\n",
       "<span style=\"color: #008080; text-decoration-color: #008080\">│</span> <span style=\"color: #808000; text-decoration-color: #808000\">Total tokens</span>      : 310076  <span style=\"color: #008080; text-decoration-color: #008080\">│</span>\n",
       "<span style=\"color: #008080; text-decoration-color: #008080\">│</span> <span style=\"color: #008000; text-decoration-color: #008000; font-weight: bold\">Estimated cost</span>    : <span style=\"font-weight: bold\">$0.1872</span> <span style=\"color: #008080; text-decoration-color: #008080\">│</span>\n",
       "<span style=\"color: #008080; text-decoration-color: #008080\">╰─────────────────────────────╯</span>\n",
       "</pre>\n"
      ],
      "text/plain": [
       "\u001b[36m╭─\u001b[0m\u001b[36m──────\u001b[0m\u001b[36m \u001b[0m\u001b[1;36mToken Summary\u001b[0m\u001b[36m \u001b[0m\u001b[36m──────\u001b[0m\u001b[36m─╮\u001b[0m\n",
       "\u001b[36m│\u001b[0m \u001b[33mPrompt tokens\u001b[0m     : 277899  \u001b[36m│\u001b[0m\n",
       "\u001b[36m│\u001b[0m \u001b[33mCompletion tokens\u001b[0m : 32177   \u001b[36m│\u001b[0m\n",
       "\u001b[36m│\u001b[0m \u001b[33mTotal tokens\u001b[0m      : 310076  \u001b[36m│\u001b[0m\n",
       "\u001b[36m│\u001b[0m \u001b[1;32mEstimated cost\u001b[0m    : \u001b[1m$0.1872\u001b[0m \u001b[36m│\u001b[0m\n",
       "\u001b[36m╰─────────────────────────────╯\u001b[0m\n"
      ]
     },
     "metadata": {},
     "output_type": "display_data"
    }
   ],
   "source": [
    "handler.run_pipeline()"
   ]
  },
  {
   "cell_type": "markdown",
   "id": "b1cbd8a7",
   "metadata": {},
   "source": [
    "## Data cleaning\n",
    "\n",
    "When GPT doesn't answer because of moderation they add something like \"je suis désolé\" or \"sorry\", we will remove every answers that contain such elements."
   ]
  },
  {
   "cell_type": "code",
   "execution_count": 12,
   "id": "dadb34b4",
   "metadata": {},
   "outputs": [],
   "source": [
    "df_results = pd.read_csv(ROOT / 'Jigsaw_French.csv')"
   ]
  },
  {
   "cell_type": "code",
   "execution_count": 13,
   "id": "ca1529ba",
   "metadata": {},
   "outputs": [],
   "source": [
    "#When GPT doesn't answer because of moderation they add something like \"je suis désolé\" or \"sorry\", we will remove every answers that contain such elements.\n",
    "df_results = df_results[~df_results['response'].apply(lambda x: \"je suis désolé\" in str(x).lower())]\n",
    "df_results = df_results[~df_results['response'].apply(lambda x: \"i am sorry\" in str(x).lower())]\n",
    "df_results = df_results[~df_results['response'].apply(lambda x: \"i can't assist\" in str(x).lower())]\n",
    "df_results = df_results[~df_results['response'].apply(lambda x: \"je ne peux pas aider\" in str(x).lower())]"
   ]
  },
  {
   "cell_type": "code",
   "execution_count": 14,
   "id": "a2e661ea",
   "metadata": {},
   "outputs": [
    {
     "name": "stdout",
     "output_type": "stream",
     "text": [
      "----------------------------------------\n",
      "msg_id: c9c70092a460548a\n",
      "original: You're sick. I have the right to edit pages about retards like Dora and Barney.\n",
      "translated: Tu es malade. J'ai le droit de modifier des pages sur des débiles comme Dora et Barney.\n",
      "----------------------------------------\n",
      "msg_id: 0cff83251f6a4cab\n",
      "original: You are my bitch! \n",
      "\n",
      "I own your ass.\n",
      "translated: Tu es ma pute ! \n",
      "\n",
      "Je possède ton cul.\n",
      "----------------------------------------\n",
      "msg_id: a62dfd807b61b58f\n",
      "original: I'll be back whenever I want to.  and then I'll bang your mom.\n",
      "translated: Je reviendrai quand je veux. Et ensuite, je vais baiser ta mère.\n",
      "----------------------------------------\n",
      "msg_id: ffde5b109fa7a06a\n",
      "original: Hi Pete \n",
      "\n",
      "You're a prick!\n",
      "\n",
      "Yours sincerely, someone who would never dream of buying such a rag as the MoS.\n",
      "translated: Salut Pete,\n",
      "\n",
      "Tu es un con !\n",
      "\n",
      "Cordialement, quelqu'un qui ne rêve même pas d'acheter une merde pareille comme le MoS.\n",
      "----------------------------------------\n",
      "msg_id: 60b1e953aab2e2a5\n",
      "original: Fuck you! I will go to your house and Kill you with my gun!\n",
      "translated: Va te faire foutre ! J'irai chez toi et je te tuerai avec mon flingue !\n",
      "----------------------------------------\n",
      "msg_id: e7df978258868f5e\n",
      "original: hu.... Does it refresh every time I refresh the page?\n",
      "translated: Euh... Est-ce que ça se met à jour chaque fois que je rafraîchis la page ?\n",
      "----------------------------------------\n",
      "msg_id: 1ce7b9a3f3d85631\n",
      "original: No, really check the fucking diffs you trigger happy cunt\n",
      "translated: Non, vérifie vraiment les putains de diffs, espèce de salope trop rapide à tirer.\n",
      "----------------------------------------\n",
      "msg_id: 580b009a17b651b8\n",
      "original: yo i got me a gun ill shoot u\n",
      "translated: Yo, j'ai un flingue, je te tire dessus.\n",
      "----------------------------------------\n",
      "msg_id: cfb318dd0c7ec3f8\n",
      "original: \"\n",
      "\n",
      " Fuck you Roger \n",
      "\n",
      "Swivel.  talk. \"\n",
      "translated: Va te faire foutre Roger\n",
      "\n",
      "Tourne-toi. Parle.\n",
      "----------------------------------------\n",
      "msg_id: e3e1d8f5d579b158\n",
      "original: \"\n",
      "\n",
      " Mark are you really an entity made of pure energy? Is your ass still painful?  talk & contribs\"\n",
      "translated: Mark, es-tu vraiment une entité faite d'énergie pure ? Ton cul te fait toujours aussi mal ?\n"
     ]
    }
   ],
   "source": [
    "for i,row in df_results.sample(10).iterrows():\n",
    "    print('-'*40)\n",
    "    print(f\"msg_id: {row['msg_id']}\")\n",
    "    print(f\"original: {row['text']}\")\n",
    "    print(f\"translated: {row['response']}\")\n",
    "    "
   ]
  },
  {
   "cell_type": "code",
   "execution_count": 15,
   "id": "09e15e56",
   "metadata": {},
   "outputs": [],
   "source": [
    "df_results.to_csv(ROOT / 'Jigsaw_French.csv', index=False)"
   ]
  },
  {
   "cell_type": "code",
   "execution_count": 17,
   "id": "0873ef55",
   "metadata": {},
   "outputs": [],
   "source": [
    "df_results = df_results.drop(columns=[\"system_prompt\", \"prompt\", \"prompt_tokens\", \"completion_tokens\", \"total_tokens\"])\n",
    "df_results = df_results.rename(columns={\"response\": \"content\", \"text\": \"original_text\"})\n",
    "df_results.to_csv(ROOT / \"..\" / \"..\" / \"subsets_Di\" / \"subset_jigsaw.csv\", index=False)\n",
    "df_results.to_csv(ROOT / \"..\" / \"..\" / \"subsets_Di_annotated\" / \"subset_jigsaw_gpt-4.1-mini.csv\", index=False)"
   ]
  },
  {
   "cell_type": "code",
   "execution_count": 18,
   "id": "31a08367",
   "metadata": {},
   "outputs": [
    {
     "data": {
      "text/html": [
       "<div>\n",
       "<style scoped>\n",
       "    .dataframe tbody tr th:only-of-type {\n",
       "        vertical-align: middle;\n",
       "    }\n",
       "\n",
       "    .dataframe tbody tr th {\n",
       "        vertical-align: top;\n",
       "    }\n",
       "\n",
       "    .dataframe thead th {\n",
       "        text-align: right;\n",
       "    }\n",
       "</style>\n",
       "<table border=\"1\" class=\"dataframe\">\n",
       "  <thead>\n",
       "    <tr style=\"text-align: right;\">\n",
       "      <th></th>\n",
       "      <th>msg_id</th>\n",
       "      <th>original_text</th>\n",
       "      <th>toxic</th>\n",
       "      <th>severe_toxic</th>\n",
       "      <th>obscene</th>\n",
       "      <th>threat</th>\n",
       "      <th>insult</th>\n",
       "      <th>identity_hate</th>\n",
       "      <th>content</th>\n",
       "    </tr>\n",
       "  </thead>\n",
       "  <tbody>\n",
       "    <tr>\n",
       "      <th>0</th>\n",
       "      <td>74795a18fe96b5cb</td>\n",
       "      <td>\"\\nDude, you keep vandalizing it by adding spe...</td>\n",
       "      <td>0</td>\n",
       "      <td>0</td>\n",
       "      <td>0</td>\n",
       "      <td>0</td>\n",
       "      <td>0</td>\n",
       "      <td>0</td>\n",
       "      <td>Mec, tu continues à le vandaliser en ajoutant ...</td>\n",
       "    </tr>\n",
       "    <tr>\n",
       "      <th>1</th>\n",
       "      <td>d42e86cbdec5bd87</td>\n",
       "      <td>shut the fuck up u big dumb bitch ass pussy. i...</td>\n",
       "      <td>1</td>\n",
       "      <td>1</td>\n",
       "      <td>1</td>\n",
       "      <td>0</td>\n",
       "      <td>1</td>\n",
       "      <td>1</td>\n",
       "      <td>ferme ta putain de gueule, espèce de grande co...</td>\n",
       "    </tr>\n",
       "    <tr>\n",
       "      <th>2</th>\n",
       "      <td>a056d6e5e9475bc2</td>\n",
       "      <td>JD IS A RAGING HOMOSEXUAL FAGGOT WHO SHOULD BE...</td>\n",
       "      <td>1</td>\n",
       "      <td>0</td>\n",
       "      <td>1</td>\n",
       "      <td>1</td>\n",
       "      <td>1</td>\n",
       "      <td>1</td>\n",
       "      <td>JD EST UN PETIT P*DÉ EN COLÈRE QUI DEVRAIT ÊTR...</td>\n",
       "    </tr>\n",
       "    <tr>\n",
       "      <th>3</th>\n",
       "      <td>5f38031eb97e7a27</td>\n",
       "      <td>the earth is 6000 years old, don't be stupid</td>\n",
       "      <td>1</td>\n",
       "      <td>0</td>\n",
       "      <td>0</td>\n",
       "      <td>0</td>\n",
       "      <td>1</td>\n",
       "      <td>0</td>\n",
       "      <td>la Terre a 6000 ans, ne sois pas idiot</td>\n",
       "    </tr>\n",
       "    <tr>\n",
       "      <th>4</th>\n",
       "      <td>669b4154433e1608</td>\n",
       "      <td>Why did you remove the information about the t...</td>\n",
       "      <td>0</td>\n",
       "      <td>0</td>\n",
       "      <td>0</td>\n",
       "      <td>0</td>\n",
       "      <td>0</td>\n",
       "      <td>0</td>\n",
       "      <td>Pourquoi as-tu enlevé l'information sur les de...</td>\n",
       "    </tr>\n",
       "    <tr>\n",
       "      <th>...</th>\n",
       "      <td>...</td>\n",
       "      <td>...</td>\n",
       "      <td>...</td>\n",
       "      <td>...</td>\n",
       "      <td>...</td>\n",
       "      <td>...</td>\n",
       "      <td>...</td>\n",
       "      <td>...</td>\n",
       "      <td>...</td>\n",
       "    </tr>\n",
       "    <tr>\n",
       "      <th>1395</th>\n",
       "      <td>122a4b51efb9f1f8</td>\n",
       "      <td>I will kill you with my gun asshole!</td>\n",
       "      <td>1</td>\n",
       "      <td>0</td>\n",
       "      <td>1</td>\n",
       "      <td>1</td>\n",
       "      <td>1</td>\n",
       "      <td>0</td>\n",
       "      <td>Je vais te tuer avec mon flingue, espèce de co...</td>\n",
       "    </tr>\n",
       "    <tr>\n",
       "      <th>1396</th>\n",
       "      <td>facd3642fb412268</td>\n",
       "      <td>Hey\\nYou're a fucking cunt. Go kill yourself.</td>\n",
       "      <td>1</td>\n",
       "      <td>1</td>\n",
       "      <td>1</td>\n",
       "      <td>0</td>\n",
       "      <td>1</td>\n",
       "      <td>0</td>\n",
       "      <td>Hé  \\nTu es une putain de salope. Va te suicider.</td>\n",
       "    </tr>\n",
       "    <tr>\n",
       "      <th>1397</th>\n",
       "      <td>b21072bff8b47665</td>\n",
       "      <td>a crazy nerd who dislikes women</td>\n",
       "      <td>1</td>\n",
       "      <td>0</td>\n",
       "      <td>0</td>\n",
       "      <td>0</td>\n",
       "      <td>0</td>\n",
       "      <td>0</td>\n",
       "      <td>un geek fou qui n'aime pas les femmes</td>\n",
       "    </tr>\n",
       "    <tr>\n",
       "      <th>1398</th>\n",
       "      <td>1ce7b9a3f3d85631</td>\n",
       "      <td>No, really check the fucking diffs you trigger...</td>\n",
       "      <td>1</td>\n",
       "      <td>0</td>\n",
       "      <td>1</td>\n",
       "      <td>0</td>\n",
       "      <td>1</td>\n",
       "      <td>0</td>\n",
       "      <td>Non, vérifie vraiment les putains de diffs, es...</td>\n",
       "    </tr>\n",
       "    <tr>\n",
       "      <th>1399</th>\n",
       "      <td>9d739901c70b13b6</td>\n",
       "      <td>How to kill mozart \\n\\nWOOOOOOOOOOOOOOOOOOOOOO...</td>\n",
       "      <td>1</td>\n",
       "      <td>0</td>\n",
       "      <td>0</td>\n",
       "      <td>1</td>\n",
       "      <td>0</td>\n",
       "      <td>0</td>\n",
       "      <td>Comment tuer Mozart\\n\\nWOOOOOOOOOOOOOOOOOOOOOO...</td>\n",
       "    </tr>\n",
       "  </tbody>\n",
       "</table>\n",
       "<p>1381 rows × 9 columns</p>\n",
       "</div>"
      ],
      "text/plain": [
       "                msg_id                                      original_text  \\\n",
       "0     74795a18fe96b5cb  \"\\nDude, you keep vandalizing it by adding spe...   \n",
       "1     d42e86cbdec5bd87  shut the fuck up u big dumb bitch ass pussy. i...   \n",
       "2     a056d6e5e9475bc2  JD IS A RAGING HOMOSEXUAL FAGGOT WHO SHOULD BE...   \n",
       "3     5f38031eb97e7a27       the earth is 6000 years old, don't be stupid   \n",
       "4     669b4154433e1608  Why did you remove the information about the t...   \n",
       "...                ...                                                ...   \n",
       "1395  122a4b51efb9f1f8               I will kill you with my gun asshole!   \n",
       "1396  facd3642fb412268      Hey\\nYou're a fucking cunt. Go kill yourself.   \n",
       "1397  b21072bff8b47665                    a crazy nerd who dislikes women   \n",
       "1398  1ce7b9a3f3d85631  No, really check the fucking diffs you trigger...   \n",
       "1399  9d739901c70b13b6  How to kill mozart \\n\\nWOOOOOOOOOOOOOOOOOOOOOO...   \n",
       "\n",
       "      toxic  severe_toxic  obscene  threat  insult  identity_hate  \\\n",
       "0         0             0        0       0       0              0   \n",
       "1         1             1        1       0       1              1   \n",
       "2         1             0        1       1       1              1   \n",
       "3         1             0        0       0       1              0   \n",
       "4         0             0        0       0       0              0   \n",
       "...     ...           ...      ...     ...     ...            ...   \n",
       "1395      1             0        1       1       1              0   \n",
       "1396      1             1        1       0       1              0   \n",
       "1397      1             0        0       0       0              0   \n",
       "1398      1             0        1       0       1              0   \n",
       "1399      1             0        0       1       0              0   \n",
       "\n",
       "                                                content  \n",
       "0     Mec, tu continues à le vandaliser en ajoutant ...  \n",
       "1     ferme ta putain de gueule, espèce de grande co...  \n",
       "2     JD EST UN PETIT P*DÉ EN COLÈRE QUI DEVRAIT ÊTR...  \n",
       "3                la Terre a 6000 ans, ne sois pas idiot  \n",
       "4     Pourquoi as-tu enlevé l'information sur les de...  \n",
       "...                                                 ...  \n",
       "1395  Je vais te tuer avec mon flingue, espèce de co...  \n",
       "1396  Hé  \\nTu es une putain de salope. Va te suicider.  \n",
       "1397              un geek fou qui n'aime pas les femmes  \n",
       "1398  Non, vérifie vraiment les putains de diffs, es...  \n",
       "1399  Comment tuer Mozart\\n\\nWOOOOOOOOOOOOOOOOOOOOOO...  \n",
       "\n",
       "[1381 rows x 9 columns]"
      ]
     },
     "execution_count": 18,
     "metadata": {},
     "output_type": "execute_result"
    }
   ],
   "source": [
    "df_results"
   ]
  }
 ],
 "metadata": {
  "kernelspec": {
   "display_name": "SJTU",
   "language": "python",
   "name": "python3"
  },
  "language_info": {
   "codemirror_mode": {
    "name": "ipython",
    "version": 3
   },
   "file_extension": ".py",
   "mimetype": "text/x-python",
   "name": "python",
   "nbconvert_exporter": "python",
   "pygments_lexer": "ipython3",
   "version": "3.10.13"
  }
 },
 "nbformat": 4,
 "nbformat_minor": 5
}
