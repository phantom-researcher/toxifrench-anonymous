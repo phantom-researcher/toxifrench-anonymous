{
 "cells": [
  {
   "cell_type": "markdown",
   "id": "c368980f",
   "metadata": {},
   "source": [
    "# Analysis of the datasets that were unused"
   ]
  },
  {
   "cell_type": "markdown",
   "id": "6c409b4a",
   "metadata": {},
   "source": [
    "## Libraries"
   ]
  },
  {
   "cell_type": "code",
   "execution_count": 18,
   "id": "a080d72f",
   "metadata": {},
   "outputs": [],
   "source": [
    "import pandas as pd\n",
    "from rich.console import Console\n",
    "from rich.table import Table"
   ]
  },
  {
   "cell_type": "markdown",
   "id": "fb438b46",
   "metadata": {},
   "source": [
    "## Global variables"
   ]
  },
  {
   "cell_type": "code",
   "execution_count": 19,
   "id": "cd1f0162",
   "metadata": {},
   "outputs": [],
   "source": [
    "jigsaw_path = 'jigsaw_GPT_annotated_data.parquet'\n",
    "gpt_annotated_path = 'GPT_annotated_data.parquet'\n",
    "non_annotated_path = 'non_annotated_data.parquet'\n",
    "\n",
    "console = Console()"
   ]
  },
  {
   "cell_type": "markdown",
   "id": "10c60264",
   "metadata": {},
   "source": [
    "## Load data"
   ]
  },
  {
   "cell_type": "code",
   "execution_count": 16,
   "id": "14be149a",
   "metadata": {},
   "outputs": [],
   "source": [
    "df_jigsaw = pd.read_parquet(jigsaw_path).drop_duplicates(subset=['msg_id'])\n",
    "df_gpt_annotated = pd.read_parquet(gpt_annotated_path).drop_duplicates(subset=['msg_id'])\n",
    "df_non_annotated = pd.read_parquet(non_annotated_path).drop_duplicates(subset=['msg_id'])"
   ]
  },
  {
   "cell_type": "markdown",
   "id": "73698e03",
   "metadata": {},
   "source": [
    "## Analysis"
   ]
  },
  {
   "cell_type": "code",
   "execution_count": 20,
   "id": "211d5492",
   "metadata": {},
   "outputs": [
    {
     "data": {
      "text/html": [
       "<pre style=\"white-space:pre;overflow-x:auto;line-height:normal;font-family:Menlo,'DejaVu Sans Mono',consolas,'Courier New',monospace\"><span style=\"font-style: italic\">     DataFrame Lengths     </span>\n",
       "┏━━━━━━━━━━━━━━━┳━━━━━━━━━┓\n",
       "┃<span style=\"font-weight: bold\"> DataFrame     </span>┃<span style=\"font-weight: bold\">  Length </span>┃\n",
       "┡━━━━━━━━━━━━━━━╇━━━━━━━━━┩\n",
       "│<span style=\"color: #008080; text-decoration-color: #008080\"> Jigsaw        </span>│<span style=\"color: #800080; text-decoration-color: #800080\">    1092 </span>│\n",
       "│<span style=\"color: #008080; text-decoration-color: #008080\"> GPT Annotated </span>│<span style=\"color: #800080; text-decoration-color: #800080\">    3612 </span>│\n",
       "│<span style=\"color: #008080; text-decoration-color: #008080\"> Non Annotated </span>│<span style=\"color: #800080; text-decoration-color: #800080\"> 1087280 </span>│\n",
       "└───────────────┴─────────┘\n",
       "</pre>\n"
      ],
      "text/plain": [
       "\u001b[3m     DataFrame Lengths     \u001b[0m\n",
       "┏━━━━━━━━━━━━━━━┳━━━━━━━━━┓\n",
       "┃\u001b[1m \u001b[0m\u001b[1mDataFrame    \u001b[0m\u001b[1m \u001b[0m┃\u001b[1m \u001b[0m\u001b[1m Length\u001b[0m\u001b[1m \u001b[0m┃\n",
       "┡━━━━━━━━━━━━━━━╇━━━━━━━━━┩\n",
       "│\u001b[36m \u001b[0m\u001b[36mJigsaw       \u001b[0m\u001b[36m \u001b[0m│\u001b[35m \u001b[0m\u001b[35m   1092\u001b[0m\u001b[35m \u001b[0m│\n",
       "│\u001b[36m \u001b[0m\u001b[36mGPT Annotated\u001b[0m\u001b[36m \u001b[0m│\u001b[35m \u001b[0m\u001b[35m   3612\u001b[0m\u001b[35m \u001b[0m│\n",
       "│\u001b[36m \u001b[0m\u001b[36mNon Annotated\u001b[0m\u001b[36m \u001b[0m│\u001b[35m \u001b[0m\u001b[35m1087280\u001b[0m\u001b[35m \u001b[0m│\n",
       "└───────────────┴─────────┘\n"
      ]
     },
     "metadata": {},
     "output_type": "display_data"
    }
   ],
   "source": [
    "# Make a tabular with the length of each dataframe\n",
    "table = Table(title=\"DataFrame Lengths\")\n",
    "table.add_column(\"DataFrame\", justify=\"left\", style=\"cyan\")\n",
    "table.add_column(\"Length\", justify=\"right\", style=\"magenta\")\n",
    "table.add_row(\"Jigsaw\", str(len(df_jigsaw)))\n",
    "table.add_row(\"GPT Annotated\", str(len(df_gpt_annotated)))\n",
    "table.add_row(\"Non Annotated\", str(len(df_non_annotated)))\n",
    "console.print(table)"
   ]
  },
  {
   "cell_type": "code",
   "execution_count": 21,
   "id": "c8dff12b",
   "metadata": {},
   "outputs": [
    {
     "data": {
      "text/html": [
       "<div>\n",
       "<style scoped>\n",
       "    .dataframe tbody tr th:only-of-type {\n",
       "        vertical-align: middle;\n",
       "    }\n",
       "\n",
       "    .dataframe tbody tr th {\n",
       "        vertical-align: top;\n",
       "    }\n",
       "\n",
       "    .dataframe thead th {\n",
       "        text-align: right;\n",
       "    }\n",
       "</style>\n",
       "<table border=\"1\" class=\"dataframe\">\n",
       "  <thead>\n",
       "    <tr style=\"text-align: right;\">\n",
       "      <th></th>\n",
       "      <th>msg_id</th>\n",
       "      <th>original_text</th>\n",
       "      <th>toxic</th>\n",
       "      <th>severe_toxic</th>\n",
       "      <th>obscene</th>\n",
       "      <th>threat</th>\n",
       "      <th>insult</th>\n",
       "      <th>identity_hate</th>\n",
       "      <th>content</th>\n",
       "      <th>explication</th>\n",
       "      <th>...</th>\n",
       "      <th>categorie</th>\n",
       "      <th>labels</th>\n",
       "      <th>toxicite_score</th>\n",
       "      <th>categorie_list</th>\n",
       "      <th>categorie_justification</th>\n",
       "      <th>labels_list</th>\n",
       "      <th>labels_justification</th>\n",
       "      <th>note</th>\n",
       "      <th>note_justification</th>\n",
       "      <th>certitude</th>\n",
       "    </tr>\n",
       "  </thead>\n",
       "  <tbody>\n",
       "    <tr>\n",
       "      <th>2082</th>\n",
       "      <td>c4554042fc328130</td>\n",
       "      <td>What a shock \\n\\nA wikipedia admin who happens...</td>\n",
       "      <td>1</td>\n",
       "      <td>0</td>\n",
       "      <td>1</td>\n",
       "      <td>0</td>\n",
       "      <td>1</td>\n",
       "      <td>1</td>\n",
       "      <td>Quel choc\\n\\nUn admin de Wikipedia qui n'est q...</td>\n",
       "      <td>**Sujet du message** : Critique d'un administr...</td>\n",
       "      <td>...</td>\n",
       "      <td>Catégories : [\"Critique explicite d’une idée t...</td>\n",
       "      <td>Labels : S0/H3/V0/R0/A3/I2  \\nJustification : ...</td>\n",
       "      <td>Note : 8/10  \\nJustification : Utilisation de ...</td>\n",
       "      <td>[Critique explicite d’une idée toxique, Micro-...</td>\n",
       "      <td>Critique virulente d’un administrateur perçu c...</td>\n",
       "      <td>[S0, H3, V0, R0, A3, I2]</td>\n",
       "      <td>Utilisation de \"petit nazi\" est une haine expl...</td>\n",
       "      <td>8/10</td>\n",
       "      <td>Utilisation de termes déshumanisants et haineu...</td>\n",
       "      <td>élevée</td>\n",
       "    </tr>\n",
       "    <tr>\n",
       "      <th>793</th>\n",
       "      <td>7bbb41cbe7d745ec</td>\n",
       "      <td>Stop editing Karlie's page before I kill you</td>\n",
       "      <td>1</td>\n",
       "      <td>0</td>\n",
       "      <td>0</td>\n",
       "      <td>1</td>\n",
       "      <td>0</td>\n",
       "      <td>0</td>\n",
       "      <td>Arrête d'éditer la page de Karlie avant que je...</td>\n",
       "      <td>**Sujet du message** : Modification d'une page...</td>\n",
       "      <td>...</td>\n",
       "      <td>Catégories : []\\nJustification : Le message es...</td>\n",
       "      <td>Labels : S0/H0/V2/R0/A2/I2  \\nJustification : ...</td>\n",
       "      <td>Note : 5/10  \\nJustification : Bien que le mes...</td>\n",
       "      <td>[]</td>\n",
       "      <td>Le message est agressif mais n'exhibe pas d'id...</td>\n",
       "      <td>[S0, H0, V2, R0, A2, I2]</td>\n",
       "      <td>Le message utilise une menace violente familiè...</td>\n",
       "      <td>5/10</td>\n",
       "      <td>Bien que le message contienne une menace viole...</td>\n",
       "      <td>élevée</td>\n",
       "    </tr>\n",
       "    <tr>\n",
       "      <th>604</th>\n",
       "      <td>0b401ca5cefe355b</td>\n",
       "      <td>Power hungry assholes are annoying. Not pointi...</td>\n",
       "      <td>1</td>\n",
       "      <td>0</td>\n",
       "      <td>1</td>\n",
       "      <td>0</td>\n",
       "      <td>0</td>\n",
       "      <td>0</td>\n",
       "      <td>Les connards assoiffés de pouvoir sont agaçant...</td>\n",
       "      <td>**Sujet du message** : Critique des personnes ...</td>\n",
       "      <td>...</td>\n",
       "      <td>Catégories : []\\nJustification : Critique clai...</td>\n",
       "      <td>Labels : S0/H0/V0/R0/A2/I2  \\nJustification : ...</td>\n",
       "      <td>Note : 4/10  \\nJustification : Critique généra...</td>\n",
       "      <td>[]</td>\n",
       "      <td>Critique claire et générale d’un comportement ...</td>\n",
       "      <td>[S0, H0, V0, R0, A2, I2]</td>\n",
       "      <td>Pas de contenu sexuel, haine ou violence ; ton...</td>\n",
       "      <td>4/10</td>\n",
       "      <td>Critique générale avec un ton condescendant, u...</td>\n",
       "      <td>élevée</td>\n",
       "    </tr>\n",
       "  </tbody>\n",
       "</table>\n",
       "<p>3 rows × 22 columns</p>\n",
       "</div>"
      ],
      "text/plain": [
       "                msg_id                                      original_text  \\\n",
       "2082  c4554042fc328130  What a shock \\n\\nA wikipedia admin who happens...   \n",
       "793   7bbb41cbe7d745ec       Stop editing Karlie's page before I kill you   \n",
       "604   0b401ca5cefe355b  Power hungry assholes are annoying. Not pointi...   \n",
       "\n",
       "      toxic  severe_toxic  obscene  threat  insult  identity_hate  \\\n",
       "2082      1             0        1       0       1              1   \n",
       "793       1             0        0       1       0              0   \n",
       "604       1             0        1       0       0              0   \n",
       "\n",
       "                                                content  \\\n",
       "2082  Quel choc\\n\\nUn admin de Wikipedia qui n'est q...   \n",
       "793   Arrête d'éditer la page de Karlie avant que je...   \n",
       "604   Les connards assoiffés de pouvoir sont agaçant...   \n",
       "\n",
       "                                            explication  ...  \\\n",
       "2082  **Sujet du message** : Critique d'un administr...  ...   \n",
       "793   **Sujet du message** : Modification d'une page...  ...   \n",
       "604   **Sujet du message** : Critique des personnes ...  ...   \n",
       "\n",
       "                                              categorie  \\\n",
       "2082  Catégories : [\"Critique explicite d’une idée t...   \n",
       "793   Catégories : []\\nJustification : Le message es...   \n",
       "604   Catégories : []\\nJustification : Critique clai...   \n",
       "\n",
       "                                                 labels  \\\n",
       "2082  Labels : S0/H3/V0/R0/A3/I2  \\nJustification : ...   \n",
       "793   Labels : S0/H0/V2/R0/A2/I2  \\nJustification : ...   \n",
       "604   Labels : S0/H0/V0/R0/A2/I2  \\nJustification : ...   \n",
       "\n",
       "                                         toxicite_score  \\\n",
       "2082  Note : 8/10  \\nJustification : Utilisation de ...   \n",
       "793   Note : 5/10  \\nJustification : Bien que le mes...   \n",
       "604   Note : 4/10  \\nJustification : Critique généra...   \n",
       "\n",
       "                                         categorie_list  \\\n",
       "2082  [Critique explicite d’une idée toxique, Micro-...   \n",
       "793                                                  []   \n",
       "604                                                  []   \n",
       "\n",
       "                                categorie_justification  \\\n",
       "2082  Critique virulente d’un administrateur perçu c...   \n",
       "793   Le message est agressif mais n'exhibe pas d'id...   \n",
       "604   Critique claire et générale d’un comportement ...   \n",
       "\n",
       "                   labels_list  \\\n",
       "2082  [S0, H3, V0, R0, A3, I2]   \n",
       "793   [S0, H0, V2, R0, A2, I2]   \n",
       "604   [S0, H0, V0, R0, A2, I2]   \n",
       "\n",
       "                                   labels_justification  note  \\\n",
       "2082  Utilisation de \"petit nazi\" est une haine expl...  8/10   \n",
       "793   Le message utilise une menace violente familiè...  5/10   \n",
       "604   Pas de contenu sexuel, haine ou violence ; ton...  4/10   \n",
       "\n",
       "                                     note_justification certitude  \n",
       "2082  Utilisation de termes déshumanisants et haineu...    élevée  \n",
       "793   Bien que le message contienne une menace viole...    élevée  \n",
       "604   Critique générale avec un ton condescendant, u...    élevée  \n",
       "\n",
       "[3 rows x 22 columns]"
      ]
     },
     "execution_count": 21,
     "metadata": {},
     "output_type": "execute_result"
    }
   ],
   "source": [
    "df_jigsaw.sample(3, random_state=42)"
   ]
  },
  {
   "cell_type": "code",
   "execution_count": 22,
   "id": "44909ed3",
   "metadata": {},
   "outputs": [
    {
     "data": {
      "text/html": [
       "<div>\n",
       "<style scoped>\n",
       "    .dataframe tbody tr th:only-of-type {\n",
       "        vertical-align: middle;\n",
       "    }\n",
       "\n",
       "    .dataframe tbody tr th {\n",
       "        vertical-align: top;\n",
       "    }\n",
       "\n",
       "    .dataframe thead th {\n",
       "        text-align: right;\n",
       "    }\n",
       "</style>\n",
       "<table border=\"1\" class=\"dataframe\">\n",
       "  <thead>\n",
       "    <tr style=\"text-align: right;\">\n",
       "      <th></th>\n",
       "      <th>user</th>\n",
       "      <th>banned</th>\n",
       "      <th>categorie_list</th>\n",
       "      <th>deleted</th>\n",
       "      <th>note_justification</th>\n",
       "      <th>labels</th>\n",
       "      <th>categorie_justification</th>\n",
       "      <th>note</th>\n",
       "      <th>msg_id</th>\n",
       "      <th>conclusion</th>\n",
       "      <th>topic</th>\n",
       "      <th>intention</th>\n",
       "      <th>explication</th>\n",
       "      <th>toxicite_score</th>\n",
       "      <th>categorie</th>\n",
       "      <th>labels_list</th>\n",
       "      <th>hour</th>\n",
       "      <th>ton</th>\n",
       "      <th>labels_justification</th>\n",
       "      <th>content</th>\n",
       "    </tr>\n",
       "  </thead>\n",
       "  <tbody>\n",
       "    <tr>\n",
       "      <th>839</th>\n",
       "      <td>anon_user_1314578f00</td>\n",
       "      <td>0</td>\n",
       "      <td>[Micro-agression, Banalisation d’une idée toxi...</td>\n",
       "      <td>1</td>\n",
       "      <td>Le message dévalorise une préoccupation légiti...</td>\n",
       "      <td>Labels : S0/H2/V0/R0/A2/I2  \\nJustification : ...</td>\n",
       "      <td>Le message dévalorise une préoccupation légiti...</td>\n",
       "      <td>5/10</td>\n",
       "      <td>anon_msg_42bc56008024</td>\n",
       "      <td>1</td>\n",
       "      <td>anon_topic_4a2336fc</td>\n",
       "      <td>Le message présente plusieurs intentions princ...</td>\n",
       "      <td>**Sujet du message** : Réaction à une préoccup...</td>\n",
       "      <td>Note : 5/10  \\nJustification : Le message déva...</td>\n",
       "      <td>Catégories : [\"Micro-agression\", \"Banalisation...</td>\n",
       "      <td>[S0, H2, V0, R0, A2, I2]</td>\n",
       "      <td>5</td>\n",
       "      <td>Tons perçus : \\n\\n1. **Indifférent** (certitud...</td>\n",
       "      <td>Le message inclut une moquerie à propos d'une ...</td>\n",
       "      <td>On s'en branle , fait ce que tu veux et fait p...</td>\n",
       "    </tr>\n",
       "    <tr>\n",
       "      <th>2630</th>\n",
       "      <td>anon_user_ab63f83b5a</td>\n",
       "      <td>0</td>\n",
       "      <td>[Inversion toxique, Banalisation d’une idée to...</td>\n",
       "      <td>1</td>\n",
       "      <td>Le message appelle à des mesures extrêmes avec...</td>\n",
       "      <td>Labels : S0/H2/V2/R0/A2/I2  \\nJustification : ...</td>\n",
       "      <td>Le message banalise la peine de mort et présen...</td>\n",
       "      <td>7/10</td>\n",
       "      <td>anon_msg_554c2485254b</td>\n",
       "      <td>1</td>\n",
       "      <td>anon_topic_e2dda6da</td>\n",
       "      <td>Intentions principales du message :\\n\\n1. **Ch...</td>\n",
       "      <td>**Sujet du message** : La peine de mort pour u...</td>\n",
       "      <td>Note : 7/10  \\nJustification : Le message appe...</td>\n",
       "      <td>Catégories : [\"Inversion toxique\", \"Banalisati...</td>\n",
       "      <td>[S0, H2, V2, R0, A2, I2]</td>\n",
       "      <td>12</td>\n",
       "      <td>Tons perçus : \\n\\n1. **Provocateur** : L'appel...</td>\n",
       "      <td>Aucun contenu sexuel ou religieux ; le discour...</td>\n",
       "      <td>Peine de mort à toute la branche généalogique,...</td>\n",
       "    </tr>\n",
       "    <tr>\n",
       "      <th>32</th>\n",
       "      <td>anon_user_ac11d503ac</td>\n",
       "      <td>1</td>\n",
       "      <td>[Évocation ambiguë d’un propos toxique, Humour...</td>\n",
       "      <td>1</td>\n",
       "      <td>Le message présente une moquerie sur les femme...</td>\n",
       "      <td>Labels : S2/H2/V0/R0/A2/I2  \\nJustification : ...</td>\n",
       "      <td>L'auteur évoque un propos sexiste de manière s...</td>\n",
       "      <td>4/10</td>\n",
       "      <td>anon_msg_c9144a26874b</td>\n",
       "      <td>1</td>\n",
       "      <td>anon_topic_f0b4aa42</td>\n",
       "      <td>1. **Critiquer** : L'auteur critique implicite...</td>\n",
       "      <td>**Sujet du message** : Responsabilité des femm...</td>\n",
       "      <td>Note : 4/10  \\nJustification : Le message prés...</td>\n",
       "      <td>Catégories : [\"Évocation ambiguë d’un propos t...</td>\n",
       "      <td>[S2, H2, V0, R0, A2, I2]</td>\n",
       "      <td>11</td>\n",
       "      <td>1. **Sarcastique** : L'expression « c'est la f...</td>\n",
       "      <td>Le message a une tonalité sarcastique et criti...</td>\n",
       "      <td>et voilà c'est la faute de la femme\\nmais d'ac...</td>\n",
       "    </tr>\n",
       "  </tbody>\n",
       "</table>\n",
       "</div>"
      ],
      "text/plain": [
       "                      user  banned  \\\n",
       "839   anon_user_1314578f00       0   \n",
       "2630  anon_user_ab63f83b5a       0   \n",
       "32    anon_user_ac11d503ac       1   \n",
       "\n",
       "                                         categorie_list  deleted  \\\n",
       "839   [Micro-agression, Banalisation d’une idée toxi...        1   \n",
       "2630  [Inversion toxique, Banalisation d’une idée to...        1   \n",
       "32    [Évocation ambiguë d’un propos toxique, Humour...        1   \n",
       "\n",
       "                                     note_justification  \\\n",
       "839   Le message dévalorise une préoccupation légiti...   \n",
       "2630  Le message appelle à des mesures extrêmes avec...   \n",
       "32    Le message présente une moquerie sur les femme...   \n",
       "\n",
       "                                                 labels  \\\n",
       "839   Labels : S0/H2/V0/R0/A2/I2  \\nJustification : ...   \n",
       "2630  Labels : S0/H2/V2/R0/A2/I2  \\nJustification : ...   \n",
       "32    Labels : S2/H2/V0/R0/A2/I2  \\nJustification : ...   \n",
       "\n",
       "                                categorie_justification  note  \\\n",
       "839   Le message dévalorise une préoccupation légiti...  5/10   \n",
       "2630  Le message banalise la peine de mort et présen...  7/10   \n",
       "32    L'auteur évoque un propos sexiste de manière s...  4/10   \n",
       "\n",
       "                     msg_id conclusion                topic  \\\n",
       "839   anon_msg_42bc56008024          1  anon_topic_4a2336fc   \n",
       "2630  anon_msg_554c2485254b          1  anon_topic_e2dda6da   \n",
       "32    anon_msg_c9144a26874b          1  anon_topic_f0b4aa42   \n",
       "\n",
       "                                              intention  \\\n",
       "839   Le message présente plusieurs intentions princ...   \n",
       "2630  Intentions principales du message :\\n\\n1. **Ch...   \n",
       "32    1. **Critiquer** : L'auteur critique implicite...   \n",
       "\n",
       "                                            explication  \\\n",
       "839   **Sujet du message** : Réaction à une préoccup...   \n",
       "2630  **Sujet du message** : La peine de mort pour u...   \n",
       "32    **Sujet du message** : Responsabilité des femm...   \n",
       "\n",
       "                                         toxicite_score  \\\n",
       "839   Note : 5/10  \\nJustification : Le message déva...   \n",
       "2630  Note : 7/10  \\nJustification : Le message appe...   \n",
       "32    Note : 4/10  \\nJustification : Le message prés...   \n",
       "\n",
       "                                              categorie  \\\n",
       "839   Catégories : [\"Micro-agression\", \"Banalisation...   \n",
       "2630  Catégories : [\"Inversion toxique\", \"Banalisati...   \n",
       "32    Catégories : [\"Évocation ambiguë d’un propos t...   \n",
       "\n",
       "                   labels_list  hour  \\\n",
       "839   [S0, H2, V0, R0, A2, I2]     5   \n",
       "2630  [S0, H2, V2, R0, A2, I2]    12   \n",
       "32    [S2, H2, V0, R0, A2, I2]    11   \n",
       "\n",
       "                                                    ton  \\\n",
       "839   Tons perçus : \\n\\n1. **Indifférent** (certitud...   \n",
       "2630  Tons perçus : \\n\\n1. **Provocateur** : L'appel...   \n",
       "32    1. **Sarcastique** : L'expression « c'est la f...   \n",
       "\n",
       "                                   labels_justification  \\\n",
       "839   Le message inclut une moquerie à propos d'une ...   \n",
       "2630  Aucun contenu sexuel ou religieux ; le discour...   \n",
       "32    Le message a une tonalité sarcastique et criti...   \n",
       "\n",
       "                                                content  \n",
       "839   On s'en branle , fait ce que tu veux et fait p...  \n",
       "2630  Peine de mort à toute la branche généalogique,...  \n",
       "32    et voilà c'est la faute de la femme\\nmais d'ac...  "
      ]
     },
     "execution_count": 22,
     "metadata": {},
     "output_type": "execute_result"
    }
   ],
   "source": [
    "df_gpt_annotated.sample(3, random_state=42)"
   ]
  },
  {
   "cell_type": "code",
   "execution_count": 23,
   "id": "60c537b3",
   "metadata": {},
   "outputs": [
    {
     "data": {
      "text/html": [
       "<div>\n",
       "<style scoped>\n",
       "    .dataframe tbody tr th:only-of-type {\n",
       "        vertical-align: middle;\n",
       "    }\n",
       "\n",
       "    .dataframe tbody tr th {\n",
       "        vertical-align: top;\n",
       "    }\n",
       "\n",
       "    .dataframe thead th {\n",
       "        text-align: right;\n",
       "    }\n",
       "</style>\n",
       "<table border=\"1\" class=\"dataframe\">\n",
       "  <thead>\n",
       "    <tr style=\"text-align: right;\">\n",
       "      <th></th>\n",
       "      <th>msg_id</th>\n",
       "      <th>user</th>\n",
       "      <th>content</th>\n",
       "      <th>topic</th>\n",
       "      <th>deleted</th>\n",
       "      <th>banned</th>\n",
       "      <th>hour</th>\n",
       "    </tr>\n",
       "  </thead>\n",
       "  <tbody>\n",
       "    <tr>\n",
       "      <th>366584</th>\n",
       "      <td>anon_msg_7fa03cccac45</td>\n",
       "      <td>anon_user_a92f0c2925</td>\n",
       "      <td>Gonçalo \"Pauleta\" Ramos même pas envoyé à l'éc...</td>\n",
       "      <td>anon_topic_12f74534</td>\n",
       "      <td>0.0</td>\n",
       "      <td>0.0</td>\n",
       "      <td>22.0</td>\n",
       "    </tr>\n",
       "    <tr>\n",
       "      <th>638662</th>\n",
       "      <td>anon_msg_2a7592220855</td>\n",
       "      <td>anon_user_9fc69dea7c</td>\n",
       "      <td>dératiseur selon les dernières informations</td>\n",
       "      <td>anon_topic_17cd4225</td>\n",
       "      <td>1.0</td>\n",
       "      <td>0.0</td>\n",
       "      <td>20.0</td>\n",
       "    </tr>\n",
       "    <tr>\n",
       "      <th>726253</th>\n",
       "      <td>anon_msg_c1fea5517240</td>\n",
       "      <td>anon_user_68655bdaf4</td>\n",
       "      <td>La France a poiré les USA Scorsese</td>\n",
       "      <td>anon_topic_04990460</td>\n",
       "      <td>0.0</td>\n",
       "      <td>0.0</td>\n",
       "      <td>0.0</td>\n",
       "    </tr>\n",
       "  </tbody>\n",
       "</table>\n",
       "</div>"
      ],
      "text/plain": [
       "                       msg_id                  user  \\\n",
       "366584  anon_msg_7fa03cccac45  anon_user_a92f0c2925   \n",
       "638662  anon_msg_2a7592220855  anon_user_9fc69dea7c   \n",
       "726253  anon_msg_c1fea5517240  anon_user_68655bdaf4   \n",
       "\n",
       "                                                  content  \\\n",
       "366584  Gonçalo \"Pauleta\" Ramos même pas envoyé à l'éc...   \n",
       "638662        dératiseur selon les dernières informations   \n",
       "726253                 La France a poiré les USA Scorsese   \n",
       "\n",
       "                      topic  deleted  banned  hour  \n",
       "366584  anon_topic_12f74534      0.0     0.0  22.0  \n",
       "638662  anon_topic_17cd4225      1.0     0.0  20.0  \n",
       "726253  anon_topic_04990460      0.0     0.0   0.0  "
      ]
     },
     "execution_count": 23,
     "metadata": {},
     "output_type": "execute_result"
    }
   ],
   "source": [
    "df_non_annotated.sample(3, random_state=42)"
   ]
  },
  {
   "cell_type": "code",
   "execution_count": 38,
   "id": "1618462c",
   "metadata": {},
   "outputs": [
    {
     "data": {
      "text/html": [
       "<pre style=\"white-space:pre;overflow-x:auto;line-height:normal;font-family:Menlo,'DejaVu Sans Mono',consolas,'Courier New',monospace\">Jigsaw has <span style=\"color: #008080; text-decoration-color: #008080; font-weight: bold\">894</span> toxic samples <span style=\"font-weight: bold\">(</span><span style=\"color: #008080; text-decoration-color: #008080; font-weight: bold\">81.87</span>%<span style=\"font-weight: bold\">)</span> and <span style=\"color: #008080; text-decoration-color: #008080; font-weight: bold\">198</span> non-toxic samples <span style=\"font-weight: bold\">(</span><span style=\"color: #008080; text-decoration-color: #008080; font-weight: bold\">18.13</span>%<span style=\"font-weight: bold\">)</span>\n",
       "</pre>\n"
      ],
      "text/plain": [
       "Jigsaw has \u001b[1;36m894\u001b[0m toxic samples \u001b[1m(\u001b[0m\u001b[1;36m81.87\u001b[0m%\u001b[1m)\u001b[0m and \u001b[1;36m198\u001b[0m non-toxic samples \u001b[1m(\u001b[0m\u001b[1;36m18.13\u001b[0m%\u001b[1m)\u001b[0m\n"
      ]
     },
     "metadata": {},
     "output_type": "display_data"
    }
   ],
   "source": [
    "def is_toxic(row):\n",
    "    return row['toxic'] == 1 or row['severe_toxic'] == 1 or row['obscene'] == 1 or row['threat'] == 1 or row['insult'] == 1 or row['identity_hate'] == 1\n",
    "\n",
    "def calculate_ratios(df):\n",
    "    columns = ['toxic', 'severe_toxic', 'obscene', 'threat', 'insult', 'identity_hate']\n",
    "    \n",
    "    toxic_count = df[columns].any(axis=1).sum()\n",
    "    non_toxic_count = len(df) - toxic_count\n",
    "    return toxic_count, non_toxic_count\n",
    "\n",
    "toxic_jigsaw, non_toxic_jigsaw = calculate_ratios(df_jigsaw)\n",
    "\n",
    "console.print(f\"Jigsaw has {toxic_jigsaw} toxic samples ({toxic_jigsaw / len(df_jigsaw) * 100:.2f}%) and {non_toxic_jigsaw} non-toxic samples ({non_toxic_jigsaw / len(df_jigsaw) * 100:.2f}%)\")"
   ]
  },
  {
   "cell_type": "code",
   "execution_count": 44,
   "id": "b9cb20b6",
   "metadata": {},
   "outputs": [],
   "source": [
    "non_toxic_samples = df_jigsaw[~df_jigsaw.apply(is_toxic, axis=1)].sample(198, random_state=42)\n",
    "toxic_samples = df_jigsaw[df_jigsaw.apply(is_toxic, axis=1)].sample(198, random_state=42)\n",
    "non_toxic_samples['label'] = 0\n",
    "toxic_samples['label'] = 1\n",
    "df_jigsaw_balanced = pd.concat([non_toxic_samples, toxic_samples], ignore_index=True)\n",
    "df_jigsaw_balanced = df_jigsaw_balanced[['msg_id', 'original_text', 'content', 'label']]\n",
    "df_jigsaw_balanced.to_csv('../benchmark_jigsaw/jigsaw_benchmark.csv', index=False)"
   ]
  },
  {
   "cell_type": "code",
   "execution_count": 45,
   "id": "148b82f8",
   "metadata": {},
   "outputs": [
    {
     "data": {
      "text/html": [
       "<pre style=\"white-space:pre;overflow-x:auto;line-height:normal;font-family:Menlo,'DejaVu Sans Mono',consolas,'Courier New',monospace\">Sample from the balanced benchmark:\n",
       "</pre>\n"
      ],
      "text/plain": [
       "Sample from the balanced benchmark:\n"
      ]
     },
     "metadata": {},
     "output_type": "display_data"
    },
    {
     "data": {
      "text/html": [
       "<pre style=\"white-space:pre;overflow-x:auto;line-height:normal;font-family:Menlo,'DejaVu Sans Mono',consolas,'Courier New',monospace\"><span style=\"font-style: italic\">                                                 Benchmark Sample                                                 </span>\n",
       "┏━━━━━━━━━━━━━━━━━━┳━━━━━━━━━━┳━━━━━━━━━━━━━━━━━━━━━━━━━━━━━━━━━━━━━━━┳━━━━━━━━━━━━━━━━━━━━━━━━━━━━━━━━━━━━━━━━━━┓\n",
       "┃<span style=\"font-weight: bold\"> ID               </span>┃<span style=\"font-weight: bold\"> Toxicity </span>┃<span style=\"font-weight: bold\"> Original Text                         </span>┃<span style=\"font-weight: bold\"> Text                                     </span>┃\n",
       "┡━━━━━━━━━━━━━━━━━━╇━━━━━━━━━━╇━━━━━━━━━━━━━━━━━━━━━━━━━━━━━━━━━━━━━━━╇━━━━━━━━━━━━━━━━━━━━━━━━━━━━━━━━━━━━━━━━━━┩\n",
       "│<span style=\"color: #008080; text-decoration-color: #008080\"> ddb11abeca87bb3c </span>│<span style=\"color: #800080; text-decoration-color: #800080\"> 0        </span>│<span style=\"color: #008000; text-decoration-color: #008000\"> birth place                           </span>│<span style=\"color: #008000; text-decoration-color: #008000\"> lieu de naissance                        </span>│\n",
       "│<span style=\"color: #008080; text-decoration-color: #008080\">                  </span>│<span style=\"color: #800080; text-decoration-color: #800080\">          </span>│<span style=\"color: #008000; text-decoration-color: #008000\">                                       </span>│<span style=\"color: #008000; text-decoration-color: #008000\">                                          </span>│\n",
       "│<span style=\"color: #008080; text-decoration-color: #008080\">                  </span>│<span style=\"color: #800080; text-decoration-color: #800080\">          </span>│<span style=\"color: #008000; text-decoration-color: #008000\">  YC was not born in Jonesboro Georgia </span>│<span style=\"color: #008000; text-decoration-color: #008000\"> YC n'est pas né à Jonesboro, en Géorgie. </span>│\n",
       "└──────────────────┴──────────┴───────────────────────────────────────┴──────────────────────────────────────────┘\n",
       "</pre>\n"
      ],
      "text/plain": [
       "\u001b[3m                                                 Benchmark Sample                                                 \u001b[0m\n",
       "┏━━━━━━━━━━━━━━━━━━┳━━━━━━━━━━┳━━━━━━━━━━━━━━━━━━━━━━━━━━━━━━━━━━━━━━━┳━━━━━━━━━━━━━━━━━━━━━━━━━━━━━━━━━━━━━━━━━━┓\n",
       "┃\u001b[1m \u001b[0m\u001b[1mID              \u001b[0m\u001b[1m \u001b[0m┃\u001b[1m \u001b[0m\u001b[1mToxicity\u001b[0m\u001b[1m \u001b[0m┃\u001b[1m \u001b[0m\u001b[1mOriginal Text                        \u001b[0m\u001b[1m \u001b[0m┃\u001b[1m \u001b[0m\u001b[1mText                                    \u001b[0m\u001b[1m \u001b[0m┃\n",
       "┡━━━━━━━━━━━━━━━━━━╇━━━━━━━━━━╇━━━━━━━━━━━━━━━━━━━━━━━━━━━━━━━━━━━━━━━╇━━━━━━━━━━━━━━━━━━━━━━━━━━━━━━━━━━━━━━━━━━┩\n",
       "│\u001b[36m \u001b[0m\u001b[36mddb11abeca87bb3c\u001b[0m\u001b[36m \u001b[0m│\u001b[35m \u001b[0m\u001b[35m0       \u001b[0m\u001b[35m \u001b[0m│\u001b[32m \u001b[0m\u001b[32mbirth place                          \u001b[0m\u001b[32m \u001b[0m│\u001b[32m \u001b[0m\u001b[32mlieu de naissance                       \u001b[0m\u001b[32m \u001b[0m│\n",
       "│\u001b[36m                  \u001b[0m│\u001b[35m          \u001b[0m│\u001b[32m \u001b[0m\u001b[32m                                     \u001b[0m\u001b[32m \u001b[0m│\u001b[32m \u001b[0m\u001b[32m                                        \u001b[0m\u001b[32m \u001b[0m│\n",
       "│\u001b[36m                  \u001b[0m│\u001b[35m          \u001b[0m│\u001b[32m \u001b[0m\u001b[32m YC was not born in Jonesboro Georgia\u001b[0m\u001b[32m \u001b[0m│\u001b[32m \u001b[0m\u001b[32mYC n'est pas né à Jonesboro, en Géorgie.\u001b[0m\u001b[32m \u001b[0m│\n",
       "└──────────────────┴──────────┴───────────────────────────────────────┴──────────────────────────────────────────┘\n"
      ]
     },
     "metadata": {},
     "output_type": "display_data"
    },
    {
     "data": {
      "text/html": [
       "<pre style=\"white-space:pre;overflow-x:auto;line-height:normal;font-family:Menlo,'DejaVu Sans Mono',consolas,'Courier New',monospace\"><span style=\"font-style: italic\">                                                 Benchmark Sample                                                  </span>\n",
       "┏━━━━━━━━━━━━━━━━━━┳━━━━━━━━━━┳━━━━━━━━━━━━━━━━━━━━━━━━━━━━━━━━━━━━━━━━━┳━━━━━━━━━━━━━━━━━━━━━━━━━━━━━━━━━━━━━━━━━┓\n",
       "┃<span style=\"font-weight: bold\"> ID               </span>┃<span style=\"font-weight: bold\"> Toxicity </span>┃<span style=\"font-weight: bold\"> Original Text                           </span>┃<span style=\"font-weight: bold\"> Text                                    </span>┃\n",
       "┡━━━━━━━━━━━━━━━━━━╇━━━━━━━━━━╇━━━━━━━━━━━━━━━━━━━━━━━━━━━━━━━━━━━━━━━━━╇━━━━━━━━━━━━━━━━━━━━━━━━━━━━━━━━━━━━━━━━━┩\n",
       "│<span style=\"color: #008080; text-decoration-color: #008080\"> 6e9826f166b7d7fe </span>│<span style=\"color: #800080; text-decoration-color: #800080\"> 1        </span>│<span style=\"color: #008000; text-decoration-color: #008000\"> Nazis like you deserve worse than       </span>│<span style=\"color: #008000; text-decoration-color: #008000\"> Des nazis comme toi méritent pire que   </span>│\n",
       "│<span style=\"color: #008080; text-decoration-color: #008080\">                  </span>│<span style=\"color: #800080; text-decoration-color: #800080\">          </span>│<span style=\"color: #008000; text-decoration-color: #008000\"> death.                                  </span>│<span style=\"color: #008000; text-decoration-color: #008000\"> la mort.                                </span>│\n",
       "│<span style=\"color: #008080; text-decoration-color: #008080\">                  </span>│<span style=\"color: #800080; text-decoration-color: #800080\">          </span>│<span style=\"color: #008000; text-decoration-color: #008000\">                                         </span>│<span style=\"color: #008000; text-decoration-color: #008000\">                                         </span>│\n",
       "│<span style=\"color: #008080; text-decoration-color: #008080\">                  </span>│<span style=\"color: #800080; text-decoration-color: #800080\">          </span>│<span style=\"color: #008000; text-decoration-color: #008000\"> I will make sure you suffer horribly.   </span>│<span style=\"color: #008000; text-decoration-color: #008000\"> Je vais m'assurer que tu souffres       </span>│\n",
       "│<span style=\"color: #008080; text-decoration-color: #008080\">                  </span>│<span style=\"color: #800080; text-decoration-color: #800080\">          </span>│<span style=\"color: #008000; text-decoration-color: #008000\">                                         </span>│<span style=\"color: #008000; text-decoration-color: #008000\"> horriblement.                           </span>│\n",
       "└──────────────────┴──────────┴─────────────────────────────────────────┴─────────────────────────────────────────┘\n",
       "</pre>\n"
      ],
      "text/plain": [
       "\u001b[3m                                                 Benchmark Sample                                                  \u001b[0m\n",
       "┏━━━━━━━━━━━━━━━━━━┳━━━━━━━━━━┳━━━━━━━━━━━━━━━━━━━━━━━━━━━━━━━━━━━━━━━━━┳━━━━━━━━━━━━━━━━━━━━━━━━━━━━━━━━━━━━━━━━━┓\n",
       "┃\u001b[1m \u001b[0m\u001b[1mID              \u001b[0m\u001b[1m \u001b[0m┃\u001b[1m \u001b[0m\u001b[1mToxicity\u001b[0m\u001b[1m \u001b[0m┃\u001b[1m \u001b[0m\u001b[1mOriginal Text                          \u001b[0m\u001b[1m \u001b[0m┃\u001b[1m \u001b[0m\u001b[1mText                                   \u001b[0m\u001b[1m \u001b[0m┃\n",
       "┡━━━━━━━━━━━━━━━━━━╇━━━━━━━━━━╇━━━━━━━━━━━━━━━━━━━━━━━━━━━━━━━━━━━━━━━━━╇━━━━━━━━━━━━━━━━━━━━━━━━━━━━━━━━━━━━━━━━━┩\n",
       "│\u001b[36m \u001b[0m\u001b[36m6e9826f166b7d7fe\u001b[0m\u001b[36m \u001b[0m│\u001b[35m \u001b[0m\u001b[35m1       \u001b[0m\u001b[35m \u001b[0m│\u001b[32m \u001b[0m\u001b[32mNazis like you deserve worse than      \u001b[0m\u001b[32m \u001b[0m│\u001b[32m \u001b[0m\u001b[32mDes nazis comme toi méritent pire que  \u001b[0m\u001b[32m \u001b[0m│\n",
       "│\u001b[36m                  \u001b[0m│\u001b[35m          \u001b[0m│\u001b[32m \u001b[0m\u001b[32mdeath.                                 \u001b[0m\u001b[32m \u001b[0m│\u001b[32m \u001b[0m\u001b[32mla mort.                               \u001b[0m\u001b[32m \u001b[0m│\n",
       "│\u001b[36m                  \u001b[0m│\u001b[35m          \u001b[0m│\u001b[32m \u001b[0m\u001b[32m                                       \u001b[0m\u001b[32m \u001b[0m│\u001b[32m \u001b[0m\u001b[32m                                       \u001b[0m\u001b[32m \u001b[0m│\n",
       "│\u001b[36m                  \u001b[0m│\u001b[35m          \u001b[0m│\u001b[32m \u001b[0m\u001b[32mI will make sure you suffer horribly.  \u001b[0m\u001b[32m \u001b[0m│\u001b[32m \u001b[0m\u001b[32mJe vais m'assurer que tu souffres      \u001b[0m\u001b[32m \u001b[0m│\n",
       "│\u001b[36m                  \u001b[0m│\u001b[35m          \u001b[0m│\u001b[32m                                         \u001b[0m│\u001b[32m \u001b[0m\u001b[32mhorriblement.                          \u001b[0m\u001b[32m \u001b[0m│\n",
       "└──────────────────┴──────────┴─────────────────────────────────────────┴─────────────────────────────────────────┘\n"
      ]
     },
     "metadata": {},
     "output_type": "display_data"
    },
    {
     "data": {
      "text/html": [
       "<pre style=\"white-space:pre;overflow-x:auto;line-height:normal;font-family:Menlo,'DejaVu Sans Mono',consolas,'Courier New',monospace\"><span style=\"font-style: italic\">                                                 Benchmark Sample                                                  </span>\n",
       "┏━━━━━━━━━━━━━━━━━━┳━━━━━━━━━━┳━━━━━━━━━━━━━━━━━━━━━━━━━━━━━━━━━━━━━━━━━┳━━━━━━━━━━━━━━━━━━━━━━━━━━━━━━━━━━━━━━━━━┓\n",
       "┃<span style=\"font-weight: bold\"> ID               </span>┃<span style=\"font-weight: bold\"> Toxicity </span>┃<span style=\"font-weight: bold\"> Original Text                           </span>┃<span style=\"font-weight: bold\"> Text                                    </span>┃\n",
       "┡━━━━━━━━━━━━━━━━━━╇━━━━━━━━━━╇━━━━━━━━━━━━━━━━━━━━━━━━━━━━━━━━━━━━━━━━━╇━━━━━━━━━━━━━━━━━━━━━━━━━━━━━━━━━━━━━━━━━┩\n",
       "│<span style=\"color: #008080; text-decoration-color: #008080\"> 5bff63ef016af9be </span>│<span style=\"color: #800080; text-decoration-color: #800080\"> 1        </span>│<span style=\"color: #008000; text-decoration-color: #008000\"> You can rationalize your dishonesty     </span>│<span style=\"color: #008000; text-decoration-color: #008000\"> Tu peux rationaliser ton malhonnêteté   </span>│\n",
       "│<span style=\"color: #008080; text-decoration-color: #008080\">                  </span>│<span style=\"color: #800080; text-decoration-color: #800080\">          </span>│<span style=\"color: #008000; text-decoration-color: #008000\"> however you want but even wikipedia has </span>│<span style=\"color: #008000; text-decoration-color: #008000\"> comme tu veux, mais même Wikipédia a un </span>│\n",
       "│<span style=\"color: #008080; text-decoration-color: #008080\">                  </span>│<span style=\"color: #800080; text-decoration-color: #800080\">          </span>│<span style=\"color: #008000; text-decoration-color: #008000\"> an article on the ground zero mosque    </span>│<span style=\"color: #008000; text-decoration-color: #008000\"> article sur la mosquée de Ground Zero,  </span>│\n",
       "│<span style=\"color: #008080; text-decoration-color: #008080\">                  </span>│<span style=\"color: #800080; text-decoration-color: #800080\">          </span>│<span style=\"color: #008000; text-decoration-color: #008000\"> asswhipe                                </span>│<span style=\"color: #008000; text-decoration-color: #008000\"> espèce de connard.                      </span>│\n",
       "└──────────────────┴──────────┴─────────────────────────────────────────┴─────────────────────────────────────────┘\n",
       "</pre>\n"
      ],
      "text/plain": [
       "\u001b[3m                                                 Benchmark Sample                                                  \u001b[0m\n",
       "┏━━━━━━━━━━━━━━━━━━┳━━━━━━━━━━┳━━━━━━━━━━━━━━━━━━━━━━━━━━━━━━━━━━━━━━━━━┳━━━━━━━━━━━━━━━━━━━━━━━━━━━━━━━━━━━━━━━━━┓\n",
       "┃\u001b[1m \u001b[0m\u001b[1mID              \u001b[0m\u001b[1m \u001b[0m┃\u001b[1m \u001b[0m\u001b[1mToxicity\u001b[0m\u001b[1m \u001b[0m┃\u001b[1m \u001b[0m\u001b[1mOriginal Text                          \u001b[0m\u001b[1m \u001b[0m┃\u001b[1m \u001b[0m\u001b[1mText                                   \u001b[0m\u001b[1m \u001b[0m┃\n",
       "┡━━━━━━━━━━━━━━━━━━╇━━━━━━━━━━╇━━━━━━━━━━━━━━━━━━━━━━━━━━━━━━━━━━━━━━━━━╇━━━━━━━━━━━━━━━━━━━━━━━━━━━━━━━━━━━━━━━━━┩\n",
       "│\u001b[36m \u001b[0m\u001b[36m5bff63ef016af9be\u001b[0m\u001b[36m \u001b[0m│\u001b[35m \u001b[0m\u001b[35m1       \u001b[0m\u001b[35m \u001b[0m│\u001b[32m \u001b[0m\u001b[32mYou can rationalize your dishonesty    \u001b[0m\u001b[32m \u001b[0m│\u001b[32m \u001b[0m\u001b[32mTu peux rationaliser ton malhonnêteté  \u001b[0m\u001b[32m \u001b[0m│\n",
       "│\u001b[36m                  \u001b[0m│\u001b[35m          \u001b[0m│\u001b[32m \u001b[0m\u001b[32mhowever you want but even wikipedia has\u001b[0m\u001b[32m \u001b[0m│\u001b[32m \u001b[0m\u001b[32mcomme tu veux, mais même Wikipédia a un\u001b[0m\u001b[32m \u001b[0m│\n",
       "│\u001b[36m                  \u001b[0m│\u001b[35m          \u001b[0m│\u001b[32m \u001b[0m\u001b[32man article on the ground zero mosque   \u001b[0m\u001b[32m \u001b[0m│\u001b[32m \u001b[0m\u001b[32marticle sur la mosquée de Ground Zero, \u001b[0m\u001b[32m \u001b[0m│\n",
       "│\u001b[36m                  \u001b[0m│\u001b[35m          \u001b[0m│\u001b[32m \u001b[0m\u001b[32masswhipe                               \u001b[0m\u001b[32m \u001b[0m│\u001b[32m \u001b[0m\u001b[32mespèce de connard.                     \u001b[0m\u001b[32m \u001b[0m│\n",
       "└──────────────────┴──────────┴─────────────────────────────────────────┴─────────────────────────────────────────┘\n"
      ]
     },
     "metadata": {},
     "output_type": "display_data"
    },
    {
     "data": {
      "text/html": [
       "<pre style=\"white-space:pre;overflow-x:auto;line-height:normal;font-family:Menlo,'DejaVu Sans Mono',consolas,'Courier New',monospace\"><span style=\"font-style: italic\">                                                 Benchmark Sample                                                  </span>\n",
       "┏━━━━━━━━━━━━━━━━━━┳━━━━━━━━━━┳━━━━━━━━━━━━━━━━━━━━━━━━━━━━━━━━━━━━━━━━━┳━━━━━━━━━━━━━━━━━━━━━━━━━━━━━━━━━━━━━━━━━┓\n",
       "┃<span style=\"font-weight: bold\"> ID               </span>┃<span style=\"font-weight: bold\"> Toxicity </span>┃<span style=\"font-weight: bold\"> Original Text                           </span>┃<span style=\"font-weight: bold\"> Text                                    </span>┃\n",
       "┡━━━━━━━━━━━━━━━━━━╇━━━━━━━━━━╇━━━━━━━━━━━━━━━━━━━━━━━━━━━━━━━━━━━━━━━━━╇━━━━━━━━━━━━━━━━━━━━━━━━━━━━━━━━━━━━━━━━━┩\n",
       "│<span style=\"color: #008080; text-decoration-color: #008080\"> e8ea81d9eac81735 </span>│<span style=\"color: #800080; text-decoration-color: #800080\"> 0        </span>│<span style=\"color: #008000; text-decoration-color: #008000\"> Deletion                                </span>│<span style=\"color: #008000; text-decoration-color: #008000\"> Suppression                             </span>│\n",
       "│<span style=\"color: #008080; text-decoration-color: #008080\">                  </span>│<span style=\"color: #800080; text-decoration-color: #800080\">          </span>│<span style=\"color: #008000; text-decoration-color: #008000\"> This has been tagged for Speedy         </span>│<span style=\"color: #008000; text-decoration-color: #008000\"> Ceci a été marqué pour une suppression  </span>│\n",
       "│<span style=\"color: #008080; text-decoration-color: #008080\">                  </span>│<span style=\"color: #800080; text-decoration-color: #800080\">          </span>│<span style=\"color: #008000; text-decoration-color: #008000\"> Deletion as it is the same article      </span>│<span style=\"color: #008000; text-decoration-color: #008000\"> rapide car c'est le même article        </span>│\n",
       "│<span style=\"color: #008080; text-decoration-color: #008080\">                  </span>│<span style=\"color: #800080; text-decoration-color: #800080\">          </span>│<span style=\"color: #008000; text-decoration-color: #008000\"> previously deleted as                   </span>│<span style=\"color: #008000; text-decoration-color: #008000\"> précédemment supprimé sous.             </span>│\n",
       "└──────────────────┴──────────┴─────────────────────────────────────────┴─────────────────────────────────────────┘\n",
       "</pre>\n"
      ],
      "text/plain": [
       "\u001b[3m                                                 Benchmark Sample                                                  \u001b[0m\n",
       "┏━━━━━━━━━━━━━━━━━━┳━━━━━━━━━━┳━━━━━━━━━━━━━━━━━━━━━━━━━━━━━━━━━━━━━━━━━┳━━━━━━━━━━━━━━━━━━━━━━━━━━━━━━━━━━━━━━━━━┓\n",
       "┃\u001b[1m \u001b[0m\u001b[1mID              \u001b[0m\u001b[1m \u001b[0m┃\u001b[1m \u001b[0m\u001b[1mToxicity\u001b[0m\u001b[1m \u001b[0m┃\u001b[1m \u001b[0m\u001b[1mOriginal Text                          \u001b[0m\u001b[1m \u001b[0m┃\u001b[1m \u001b[0m\u001b[1mText                                   \u001b[0m\u001b[1m \u001b[0m┃\n",
       "┡━━━━━━━━━━━━━━━━━━╇━━━━━━━━━━╇━━━━━━━━━━━━━━━━━━━━━━━━━━━━━━━━━━━━━━━━━╇━━━━━━━━━━━━━━━━━━━━━━━━━━━━━━━━━━━━━━━━━┩\n",
       "│\u001b[36m \u001b[0m\u001b[36me8ea81d9eac81735\u001b[0m\u001b[36m \u001b[0m│\u001b[35m \u001b[0m\u001b[35m0       \u001b[0m\u001b[35m \u001b[0m│\u001b[32m \u001b[0m\u001b[32mDeletion                               \u001b[0m\u001b[32m \u001b[0m│\u001b[32m \u001b[0m\u001b[32mSuppression                            \u001b[0m\u001b[32m \u001b[0m│\n",
       "│\u001b[36m                  \u001b[0m│\u001b[35m          \u001b[0m│\u001b[32m \u001b[0m\u001b[32mThis has been tagged for Speedy        \u001b[0m\u001b[32m \u001b[0m│\u001b[32m \u001b[0m\u001b[32mCeci a été marqué pour une suppression \u001b[0m\u001b[32m \u001b[0m│\n",
       "│\u001b[36m                  \u001b[0m│\u001b[35m          \u001b[0m│\u001b[32m \u001b[0m\u001b[32mDeletion as it is the same article     \u001b[0m\u001b[32m \u001b[0m│\u001b[32m \u001b[0m\u001b[32mrapide car c'est le même article       \u001b[0m\u001b[32m \u001b[0m│\n",
       "│\u001b[36m                  \u001b[0m│\u001b[35m          \u001b[0m│\u001b[32m \u001b[0m\u001b[32mpreviously deleted as                  \u001b[0m\u001b[32m \u001b[0m│\u001b[32m \u001b[0m\u001b[32mprécédemment supprimé sous.            \u001b[0m\u001b[32m \u001b[0m│\n",
       "└──────────────────┴──────────┴─────────────────────────────────────────┴─────────────────────────────────────────┘\n"
      ]
     },
     "metadata": {},
     "output_type": "display_data"
    },
    {
     "data": {
      "text/html": [
       "<pre style=\"white-space:pre;overflow-x:auto;line-height:normal;font-family:Menlo,'DejaVu Sans Mono',consolas,'Courier New',monospace\"><span style=\"font-style: italic\">                                       Benchmark Sample                                        </span>\n",
       "┏━━━━━━━━━━━━━━━━━━┳━━━━━━━━━━┳━━━━━━━━━━━━━━━━━━━━━━━━━━━━┳━━━━━━━━━━━━━━━━━━━━━━━━━━━━━━━━━━┓\n",
       "┃<span style=\"font-weight: bold\"> ID               </span>┃<span style=\"font-weight: bold\"> Toxicity </span>┃<span style=\"font-weight: bold\"> Original Text              </span>┃<span style=\"font-weight: bold\"> Text                             </span>┃\n",
       "┡━━━━━━━━━━━━━━━━━━╇━━━━━━━━━━╇━━━━━━━━━━━━━━━━━━━━━━━━━━━━╇━━━━━━━━━━━━━━━━━━━━━━━━━━━━━━━━━━┩\n",
       "│<span style=\"color: #008080; text-decoration-color: #008080\"> bf5aae5b17fb0b77 </span>│<span style=\"color: #800080; text-decoration-color: #800080\"> 1        </span>│<span style=\"color: #008000; text-decoration-color: #008000\"> because I am a huge faggot </span>│<span style=\"color: #008000; text-decoration-color: #008000\"> parce que je suis un énorme pédé </span>│\n",
       "└──────────────────┴──────────┴────────────────────────────┴──────────────────────────────────┘\n",
       "</pre>\n"
      ],
      "text/plain": [
       "\u001b[3m                                       Benchmark Sample                                        \u001b[0m\n",
       "┏━━━━━━━━━━━━━━━━━━┳━━━━━━━━━━┳━━━━━━━━━━━━━━━━━━━━━━━━━━━━┳━━━━━━━━━━━━━━━━━━━━━━━━━━━━━━━━━━┓\n",
       "┃\u001b[1m \u001b[0m\u001b[1mID              \u001b[0m\u001b[1m \u001b[0m┃\u001b[1m \u001b[0m\u001b[1mToxicity\u001b[0m\u001b[1m \u001b[0m┃\u001b[1m \u001b[0m\u001b[1mOriginal Text             \u001b[0m\u001b[1m \u001b[0m┃\u001b[1m \u001b[0m\u001b[1mText                            \u001b[0m\u001b[1m \u001b[0m┃\n",
       "┡━━━━━━━━━━━━━━━━━━╇━━━━━━━━━━╇━━━━━━━━━━━━━━━━━━━━━━━━━━━━╇━━━━━━━━━━━━━━━━━━━━━━━━━━━━━━━━━━┩\n",
       "│\u001b[36m \u001b[0m\u001b[36mbf5aae5b17fb0b77\u001b[0m\u001b[36m \u001b[0m│\u001b[35m \u001b[0m\u001b[35m1       \u001b[0m\u001b[35m \u001b[0m│\u001b[32m \u001b[0m\u001b[32mbecause I am a huge faggot\u001b[0m\u001b[32m \u001b[0m│\u001b[32m \u001b[0m\u001b[32mparce que je suis un énorme pédé\u001b[0m\u001b[32m \u001b[0m│\n",
       "└──────────────────┴──────────┴────────────────────────────┴──────────────────────────────────┘\n"
      ]
     },
     "metadata": {},
     "output_type": "display_data"
    },
    {
     "data": {
      "text/html": [
       "<pre style=\"white-space:pre;overflow-x:auto;line-height:normal;font-family:Menlo,'DejaVu Sans Mono',consolas,'Courier New',monospace\"><span style=\"font-style: italic\">                                                 Benchmark Sample                                                  </span>\n",
       "┏━━━━━━━━━━━━━━━━━━┳━━━━━━━━━━┳━━━━━━━━━━━━━━━━━━━━━━━━━━━━━━━━━━━━━━━━━┳━━━━━━━━━━━━━━━━━━━━━━━━━━━━━━━━━━━━━━━━━┓\n",
       "┃<span style=\"font-weight: bold\"> ID               </span>┃<span style=\"font-weight: bold\"> Toxicity </span>┃<span style=\"font-weight: bold\"> Original Text                           </span>┃<span style=\"font-weight: bold\"> Text                                    </span>┃\n",
       "┡━━━━━━━━━━━━━━━━━━╇━━━━━━━━━━╇━━━━━━━━━━━━━━━━━━━━━━━━━━━━━━━━━━━━━━━━━╇━━━━━━━━━━━━━━━━━━━━━━━━━━━━━━━━━━━━━━━━━┩\n",
       "│<span style=\"color: #008080; text-decoration-color: #008080\"> 2d7c08fe803ddeb4 </span>│<span style=\"color: #800080; text-decoration-color: #800080\"> 1        </span>│<span style=\"color: #008000; text-decoration-color: #008000\"> You are a pathetic american who will    </span>│<span style=\"color: #008000; text-decoration-color: #008000\"> Tu es un américain pathétique qui se    </span>│\n",
       "│<span style=\"color: #008080; text-decoration-color: #008080\">                  </span>│<span style=\"color: #800080; text-decoration-color: #800080\">          </span>│<span style=\"color: #008000; text-decoration-color: #008000\"> distrusts the rest of the world.  Just  </span>│<span style=\"color: #008000; text-decoration-color: #008000\"> méfie du reste du monde. Abandonne,     </span>│\n",
       "│<span style=\"color: #008080; text-decoration-color: #008080\">                  </span>│<span style=\"color: #800080; text-decoration-color: #800080\">          </span>│<span style=\"color: #008000; text-decoration-color: #008000\"> give it up mate you are a sad           </span>│<span style=\"color: #008000; text-decoration-color: #008000\"> mec, tu es vraiment un individu triste. </span>│\n",
       "│<span style=\"color: #008080; text-decoration-color: #008080\">                  </span>│<span style=\"color: #800080; text-decoration-color: #800080\">          </span>│<span style=\"color: #008000; text-decoration-color: #008000\"> individual.                             </span>│<span style=\"color: #008000; text-decoration-color: #008000\">                                         </span>│\n",
       "└──────────────────┴──────────┴─────────────────────────────────────────┴─────────────────────────────────────────┘\n",
       "</pre>\n"
      ],
      "text/plain": [
       "\u001b[3m                                                 Benchmark Sample                                                  \u001b[0m\n",
       "┏━━━━━━━━━━━━━━━━━━┳━━━━━━━━━━┳━━━━━━━━━━━━━━━━━━━━━━━━━━━━━━━━━━━━━━━━━┳━━━━━━━━━━━━━━━━━━━━━━━━━━━━━━━━━━━━━━━━━┓\n",
       "┃\u001b[1m \u001b[0m\u001b[1mID              \u001b[0m\u001b[1m \u001b[0m┃\u001b[1m \u001b[0m\u001b[1mToxicity\u001b[0m\u001b[1m \u001b[0m┃\u001b[1m \u001b[0m\u001b[1mOriginal Text                          \u001b[0m\u001b[1m \u001b[0m┃\u001b[1m \u001b[0m\u001b[1mText                                   \u001b[0m\u001b[1m \u001b[0m┃\n",
       "┡━━━━━━━━━━━━━━━━━━╇━━━━━━━━━━╇━━━━━━━━━━━━━━━━━━━━━━━━━━━━━━━━━━━━━━━━━╇━━━━━━━━━━━━━━━━━━━━━━━━━━━━━━━━━━━━━━━━━┩\n",
       "│\u001b[36m \u001b[0m\u001b[36m2d7c08fe803ddeb4\u001b[0m\u001b[36m \u001b[0m│\u001b[35m \u001b[0m\u001b[35m1       \u001b[0m\u001b[35m \u001b[0m│\u001b[32m \u001b[0m\u001b[32mYou are a pathetic american who will   \u001b[0m\u001b[32m \u001b[0m│\u001b[32m \u001b[0m\u001b[32mTu es un américain pathétique qui se   \u001b[0m\u001b[32m \u001b[0m│\n",
       "│\u001b[36m                  \u001b[0m│\u001b[35m          \u001b[0m│\u001b[32m \u001b[0m\u001b[32mdistrusts the rest of the world.  Just \u001b[0m\u001b[32m \u001b[0m│\u001b[32m \u001b[0m\u001b[32mméfie du reste du monde. Abandonne,    \u001b[0m\u001b[32m \u001b[0m│\n",
       "│\u001b[36m                  \u001b[0m│\u001b[35m          \u001b[0m│\u001b[32m \u001b[0m\u001b[32mgive it up mate you are a sad          \u001b[0m\u001b[32m \u001b[0m│\u001b[32m \u001b[0m\u001b[32mmec, tu es vraiment un individu triste.\u001b[0m\u001b[32m \u001b[0m│\n",
       "│\u001b[36m                  \u001b[0m│\u001b[35m          \u001b[0m│\u001b[32m \u001b[0m\u001b[32mindividual.                            \u001b[0m\u001b[32m \u001b[0m│\u001b[32m                                         \u001b[0m│\n",
       "└──────────────────┴──────────┴─────────────────────────────────────────┴─────────────────────────────────────────┘\n"
      ]
     },
     "metadata": {},
     "output_type": "display_data"
    },
    {
     "data": {
      "text/html": [
       "<pre style=\"white-space:pre;overflow-x:auto;line-height:normal;font-family:Menlo,'DejaVu Sans Mono',consolas,'Courier New',monospace\"><span style=\"font-style: italic\">                                                 Benchmark Sample                                                  </span>\n",
       "┏━━━━━━━━━━━━━━━━━━┳━━━━━━━━━━┳━━━━━━━━━━━━━━━━━━━━━━━━━━━━━━━━━━━━━━━━━┳━━━━━━━━━━━━━━━━━━━━━━━━━━━━━━━━━━━━━━━━━┓\n",
       "┃<span style=\"font-weight: bold\"> ID               </span>┃<span style=\"font-weight: bold\"> Toxicity </span>┃<span style=\"font-weight: bold\"> Original Text                           </span>┃<span style=\"font-weight: bold\"> Text                                    </span>┃\n",
       "┡━━━━━━━━━━━━━━━━━━╇━━━━━━━━━━╇━━━━━━━━━━━━━━━━━━━━━━━━━━━━━━━━━━━━━━━━━╇━━━━━━━━━━━━━━━━━━━━━━━━━━━━━━━━━━━━━━━━━┩\n",
       "│<span style=\"color: #008080; text-decoration-color: #008080\"> a1baa75378bacc1e </span>│<span style=\"color: #800080; text-decoration-color: #800080\"> 0        </span>│<span style=\"color: #008000; text-decoration-color: #008000\"> You might try reviewing the section on  </span>│<span style=\"color: #008000; text-decoration-color: #008000\"> Vous devriez peut-être essayer de lire  </span>│\n",
       "│<span style=\"color: #008080; text-decoration-color: #008080\">                  </span>│<span style=\"color: #800080; text-decoration-color: #800080\">          </span>│<span style=\"color: #008000; text-decoration-color: #008000\"> personal vendettas yourself. This is    </span>│<span style=\"color: #008000; text-decoration-color: #008000\"> vous-même la section sur les vendettas  </span>│\n",
       "│<span style=\"color: #008080; text-decoration-color: #008080\">                  </span>│<span style=\"color: #800080; text-decoration-color: #800080\">          </span>│<span style=\"color: #008000; text-decoration-color: #008000\"> typical of a right wing republican,     </span>│<span style=\"color: #008000; text-decoration-color: #008000\"> personnelles. C'est typique d'un        </span>│\n",
       "│<span style=\"color: #008080; text-decoration-color: #008080\">                  </span>│<span style=\"color: #800080; text-decoration-color: #800080\">          </span>│<span style=\"color: #008000; text-decoration-color: #008000\"> trying to censor the LGBT community     </span>│<span style=\"color: #008000; text-decoration-color: #008000\"> républicain de droite, cherchant à      </span>│\n",
       "│<span style=\"color: #008080; text-decoration-color: #008080\">                  </span>│<span style=\"color: #800080; text-decoration-color: #800080\">          </span>│<span style=\"color: #008000; text-decoration-color: #008000\">                                         </span>│<span style=\"color: #008000; text-decoration-color: #008000\"> censurer la communauté LGBT.            </span>│\n",
       "└──────────────────┴──────────┴─────────────────────────────────────────┴─────────────────────────────────────────┘\n",
       "</pre>\n"
      ],
      "text/plain": [
       "\u001b[3m                                                 Benchmark Sample                                                  \u001b[0m\n",
       "┏━━━━━━━━━━━━━━━━━━┳━━━━━━━━━━┳━━━━━━━━━━━━━━━━━━━━━━━━━━━━━━━━━━━━━━━━━┳━━━━━━━━━━━━━━━━━━━━━━━━━━━━━━━━━━━━━━━━━┓\n",
       "┃\u001b[1m \u001b[0m\u001b[1mID              \u001b[0m\u001b[1m \u001b[0m┃\u001b[1m \u001b[0m\u001b[1mToxicity\u001b[0m\u001b[1m \u001b[0m┃\u001b[1m \u001b[0m\u001b[1mOriginal Text                          \u001b[0m\u001b[1m \u001b[0m┃\u001b[1m \u001b[0m\u001b[1mText                                   \u001b[0m\u001b[1m \u001b[0m┃\n",
       "┡━━━━━━━━━━━━━━━━━━╇━━━━━━━━━━╇━━━━━━━━━━━━━━━━━━━━━━━━━━━━━━━━━━━━━━━━━╇━━━━━━━━━━━━━━━━━━━━━━━━━━━━━━━━━━━━━━━━━┩\n",
       "│\u001b[36m \u001b[0m\u001b[36ma1baa75378bacc1e\u001b[0m\u001b[36m \u001b[0m│\u001b[35m \u001b[0m\u001b[35m0       \u001b[0m\u001b[35m \u001b[0m│\u001b[32m \u001b[0m\u001b[32mYou might try reviewing the section on \u001b[0m\u001b[32m \u001b[0m│\u001b[32m \u001b[0m\u001b[32mVous devriez peut-être essayer de lire \u001b[0m\u001b[32m \u001b[0m│\n",
       "│\u001b[36m                  \u001b[0m│\u001b[35m          \u001b[0m│\u001b[32m \u001b[0m\u001b[32mpersonal vendettas yourself. This is   \u001b[0m\u001b[32m \u001b[0m│\u001b[32m \u001b[0m\u001b[32mvous-même la section sur les vendettas \u001b[0m\u001b[32m \u001b[0m│\n",
       "│\u001b[36m                  \u001b[0m│\u001b[35m          \u001b[0m│\u001b[32m \u001b[0m\u001b[32mtypical of a right wing republican,    \u001b[0m\u001b[32m \u001b[0m│\u001b[32m \u001b[0m\u001b[32mpersonnelles. C'est typique d'un       \u001b[0m\u001b[32m \u001b[0m│\n",
       "│\u001b[36m                  \u001b[0m│\u001b[35m          \u001b[0m│\u001b[32m \u001b[0m\u001b[32mtrying to censor the LGBT community    \u001b[0m\u001b[32m \u001b[0m│\u001b[32m \u001b[0m\u001b[32mrépublicain de droite, cherchant à     \u001b[0m\u001b[32m \u001b[0m│\n",
       "│\u001b[36m                  \u001b[0m│\u001b[35m          \u001b[0m│\u001b[32m                                         \u001b[0m│\u001b[32m \u001b[0m\u001b[32mcensurer la communauté LGBT.           \u001b[0m\u001b[32m \u001b[0m│\n",
       "└──────────────────┴──────────┴─────────────────────────────────────────┴─────────────────────────────────────────┘\n"
      ]
     },
     "metadata": {},
     "output_type": "display_data"
    },
    {
     "data": {
      "text/html": [
       "<pre style=\"white-space:pre;overflow-x:auto;line-height:normal;font-family:Menlo,'DejaVu Sans Mono',consolas,'Courier New',monospace\"><span style=\"font-style: italic\">                                                 Benchmark Sample                                                  </span>\n",
       "┏━━━━━━━━━━━━━━━━━━┳━━━━━━━━━━┳━━━━━━━━━━━━━━━━━━━━━━━━━━━━━━━━━━━┳━━━━━━━━━━━━━━━━━━━━━━━━━━━━━━━━━━━━━━━━━━━━━━━┓\n",
       "┃<span style=\"font-weight: bold\"> ID               </span>┃<span style=\"font-weight: bold\"> Toxicity </span>┃<span style=\"font-weight: bold\"> Original Text                     </span>┃<span style=\"font-weight: bold\"> Text                                          </span>┃\n",
       "┡━━━━━━━━━━━━━━━━━━╇━━━━━━━━━━╇━━━━━━━━━━━━━━━━━━━━━━━━━━━━━━━━━━━╇━━━━━━━━━━━━━━━━━━━━━━━━━━━━━━━━━━━━━━━━━━━━━━━┩\n",
       "│<span style=\"color: #008080; text-decoration-color: #008080\"> f4277cd50a76c909 </span>│<span style=\"color: #800080; text-decoration-color: #800080\"> 1        </span>│<span style=\"color: #008000; text-decoration-color: #008000\"> Hey                               </span>│<span style=\"color: #008000; text-decoration-color: #008000\"> Va te faire foutre, espèce de pute qui aime   </span>│\n",
       "│<span style=\"color: #008080; text-decoration-color: #008080\">                  </span>│<span style=\"color: #800080; text-decoration-color: #800080\">          </span>│<span style=\"color: #008000; text-decoration-color: #008000\"> Fuck you, you Russia-loving cunt. </span>│<span style=\"color: #008000; text-decoration-color: #008000\"> la Russie.                                    </span>│\n",
       "└──────────────────┴──────────┴───────────────────────────────────┴───────────────────────────────────────────────┘\n",
       "</pre>\n"
      ],
      "text/plain": [
       "\u001b[3m                                                 Benchmark Sample                                                  \u001b[0m\n",
       "┏━━━━━━━━━━━━━━━━━━┳━━━━━━━━━━┳━━━━━━━━━━━━━━━━━━━━━━━━━━━━━━━━━━━┳━━━━━━━━━━━━━━━━━━━━━━━━━━━━━━━━━━━━━━━━━━━━━━━┓\n",
       "┃\u001b[1m \u001b[0m\u001b[1mID              \u001b[0m\u001b[1m \u001b[0m┃\u001b[1m \u001b[0m\u001b[1mToxicity\u001b[0m\u001b[1m \u001b[0m┃\u001b[1m \u001b[0m\u001b[1mOriginal Text                    \u001b[0m\u001b[1m \u001b[0m┃\u001b[1m \u001b[0m\u001b[1mText                                         \u001b[0m\u001b[1m \u001b[0m┃\n",
       "┡━━━━━━━━━━━━━━━━━━╇━━━━━━━━━━╇━━━━━━━━━━━━━━━━━━━━━━━━━━━━━━━━━━━╇━━━━━━━━━━━━━━━━━━━━━━━━━━━━━━━━━━━━━━━━━━━━━━━┩\n",
       "│\u001b[36m \u001b[0m\u001b[36mf4277cd50a76c909\u001b[0m\u001b[36m \u001b[0m│\u001b[35m \u001b[0m\u001b[35m1       \u001b[0m\u001b[35m \u001b[0m│\u001b[32m \u001b[0m\u001b[32mHey                              \u001b[0m\u001b[32m \u001b[0m│\u001b[32m \u001b[0m\u001b[32mVa te faire foutre, espèce de pute qui aime  \u001b[0m\u001b[32m \u001b[0m│\n",
       "│\u001b[36m                  \u001b[0m│\u001b[35m          \u001b[0m│\u001b[32m \u001b[0m\u001b[32mFuck you, you Russia-loving cunt.\u001b[0m\u001b[32m \u001b[0m│\u001b[32m \u001b[0m\u001b[32mla Russie.                                   \u001b[0m\u001b[32m \u001b[0m│\n",
       "└──────────────────┴──────────┴───────────────────────────────────┴───────────────────────────────────────────────┘\n"
      ]
     },
     "metadata": {},
     "output_type": "display_data"
    },
    {
     "data": {
      "text/html": [
       "<pre style=\"white-space:pre;overflow-x:auto;line-height:normal;font-family:Menlo,'DejaVu Sans Mono',consolas,'Courier New',monospace\"><span style=\"font-style: italic\">                                                 Benchmark Sample                                                  </span>\n",
       "┏━━━━━━━━━━━━━━━━━━┳━━━━━━━━━━┳━━━━━━━━━━━━━━━━━━━━━━━━━━━━━━━━━━━━━━━━━┳━━━━━━━━━━━━━━━━━━━━━━━━━━━━━━━━━━━━━━━━━┓\n",
       "┃<span style=\"font-weight: bold\"> ID               </span>┃<span style=\"font-weight: bold\"> Toxicity </span>┃<span style=\"font-weight: bold\"> Original Text                           </span>┃<span style=\"font-weight: bold\"> Text                                    </span>┃\n",
       "┡━━━━━━━━━━━━━━━━━━╇━━━━━━━━━━╇━━━━━━━━━━━━━━━━━━━━━━━━━━━━━━━━━━━━━━━━━╇━━━━━━━━━━━━━━━━━━━━━━━━━━━━━━━━━━━━━━━━━┩\n",
       "│<span style=\"color: #008080; text-decoration-color: #008080\"> bcf800f3d696d0e1 </span>│<span style=\"color: #800080; text-decoration-color: #800080\"> 0        </span>│<span style=\"color: #008000; text-decoration-color: #008000\"> On wikitravel you can also see what is  </span>│<span style=\"color: #008000; text-decoration-color: #008000\"> Sur wikitravel, tu peux aussi voir ce   </span>│\n",
       "│<span style=\"color: #008080; text-decoration-color: #008080\">                  </span>│<span style=\"color: #800080; text-decoration-color: #800080\">          </span>│<span style=\"color: #008000; text-decoration-color: #008000\"> correct. That Scandinavia are Den, Nor  </span>│<span style=\"color: #008000; text-decoration-color: #008000\"> qui est correct. Que la Scandinavie     </span>│\n",
       "│<span style=\"color: #008080; text-decoration-color: #008080\">                  </span>│<span style=\"color: #800080; text-decoration-color: #800080\">          </span>│<span style=\"color: #008000; text-decoration-color: #008000\"> and Swe.                                </span>│<span style=\"color: #008000; text-decoration-color: #008000\"> c'est le Danemark, la Norvège et la     </span>│\n",
       "│<span style=\"color: #008080; text-decoration-color: #008080\">                  </span>│<span style=\"color: #800080; text-decoration-color: #800080\">          </span>│<span style=\"color: #008000; text-decoration-color: #008000\"> http://wikitravel.org/en/Scandinavia    </span>│<span style=\"color: #008000; text-decoration-color: #008000\"> Suède.                                  </span>│\n",
       "│<span style=\"color: #008080; text-decoration-color: #008080\">                  </span>│<span style=\"color: #800080; text-decoration-color: #800080\">          </span>│<span style=\"color: #008000; text-decoration-color: #008000\"> Comanche cph                            </span>│<span style=\"color: #008000; text-decoration-color: #008000\">                                         </span>│\n",
       "└──────────────────┴──────────┴─────────────────────────────────────────┴─────────────────────────────────────────┘\n",
       "</pre>\n"
      ],
      "text/plain": [
       "\u001b[3m                                                 Benchmark Sample                                                  \u001b[0m\n",
       "┏━━━━━━━━━━━━━━━━━━┳━━━━━━━━━━┳━━━━━━━━━━━━━━━━━━━━━━━━━━━━━━━━━━━━━━━━━┳━━━━━━━━━━━━━━━━━━━━━━━━━━━━━━━━━━━━━━━━━┓\n",
       "┃\u001b[1m \u001b[0m\u001b[1mID              \u001b[0m\u001b[1m \u001b[0m┃\u001b[1m \u001b[0m\u001b[1mToxicity\u001b[0m\u001b[1m \u001b[0m┃\u001b[1m \u001b[0m\u001b[1mOriginal Text                          \u001b[0m\u001b[1m \u001b[0m┃\u001b[1m \u001b[0m\u001b[1mText                                   \u001b[0m\u001b[1m \u001b[0m┃\n",
       "┡━━━━━━━━━━━━━━━━━━╇━━━━━━━━━━╇━━━━━━━━━━━━━━━━━━━━━━━━━━━━━━━━━━━━━━━━━╇━━━━━━━━━━━━━━━━━━━━━━━━━━━━━━━━━━━━━━━━━┩\n",
       "│\u001b[36m \u001b[0m\u001b[36mbcf800f3d696d0e1\u001b[0m\u001b[36m \u001b[0m│\u001b[35m \u001b[0m\u001b[35m0       \u001b[0m\u001b[35m \u001b[0m│\u001b[32m \u001b[0m\u001b[32mOn wikitravel you can also see what is \u001b[0m\u001b[32m \u001b[0m│\u001b[32m \u001b[0m\u001b[32mSur wikitravel, tu peux aussi voir ce  \u001b[0m\u001b[32m \u001b[0m│\n",
       "│\u001b[36m                  \u001b[0m│\u001b[35m          \u001b[0m│\u001b[32m \u001b[0m\u001b[32mcorrect. That Scandinavia are Den, Nor \u001b[0m\u001b[32m \u001b[0m│\u001b[32m \u001b[0m\u001b[32mqui est correct. Que la Scandinavie    \u001b[0m\u001b[32m \u001b[0m│\n",
       "│\u001b[36m                  \u001b[0m│\u001b[35m          \u001b[0m│\u001b[32m \u001b[0m\u001b[32mand Swe.                               \u001b[0m\u001b[32m \u001b[0m│\u001b[32m \u001b[0m\u001b[32mc'est le Danemark, la Norvège et la    \u001b[0m\u001b[32m \u001b[0m│\n",
       "│\u001b[36m                  \u001b[0m│\u001b[35m          \u001b[0m│\u001b[32m \u001b[0m\u001b[32mhttp://wikitravel.org/en/Scandinavia   \u001b[0m\u001b[32m \u001b[0m│\u001b[32m \u001b[0m\u001b[32mSuède.                                 \u001b[0m\u001b[32m \u001b[0m│\n",
       "│\u001b[36m                  \u001b[0m│\u001b[35m          \u001b[0m│\u001b[32m \u001b[0m\u001b[32mComanche cph                           \u001b[0m\u001b[32m \u001b[0m│\u001b[32m                                         \u001b[0m│\n",
       "└──────────────────┴──────────┴─────────────────────────────────────────┴─────────────────────────────────────────┘\n"
      ]
     },
     "metadata": {},
     "output_type": "display_data"
    },
    {
     "data": {
      "text/html": [
       "<pre style=\"white-space:pre;overflow-x:auto;line-height:normal;font-family:Menlo,'DejaVu Sans Mono',consolas,'Courier New',monospace\"><span style=\"font-style: italic\">                                             Benchmark Sample                                              </span>\n",
       "┏━━━━━━━━━━━━━━━━━━┳━━━━━━━━━━┳━━━━━━━━━━━━━━━━━━━━━━━━━━━━━━━━━━━━━┳━━━━━━━━━━━━━━━━━━━━━━━━━━━━━━━━━━━━━┓\n",
       "┃<span style=\"font-weight: bold\"> ID               </span>┃<span style=\"font-weight: bold\"> Toxicity </span>┃<span style=\"font-weight: bold\"> Original Text                       </span>┃<span style=\"font-weight: bold\"> Text                                </span>┃\n",
       "┡━━━━━━━━━━━━━━━━━━╇━━━━━━━━━━╇━━━━━━━━━━━━━━━━━━━━━━━━━━━━━━━━━━━━━╇━━━━━━━━━━━━━━━━━━━━━━━━━━━━━━━━━━━━━┩\n",
       "│<span style=\"color: #008080; text-decoration-color: #008080\"> 042588634b739f5c </span>│<span style=\"color: #800080; text-decoration-color: #800080\"> 0        </span>│<span style=\"color: #008000; text-decoration-color: #008000\"> Alas, the Autoblock was not lifted. </span>│<span style=\"color: #008000; text-decoration-color: #008000\"> Hélas, le blocage n'a pas été levé. </span>│\n",
       "└──────────────────┴──────────┴─────────────────────────────────────┴─────────────────────────────────────┘\n",
       "</pre>\n"
      ],
      "text/plain": [
       "\u001b[3m                                             Benchmark Sample                                              \u001b[0m\n",
       "┏━━━━━━━━━━━━━━━━━━┳━━━━━━━━━━┳━━━━━━━━━━━━━━━━━━━━━━━━━━━━━━━━━━━━━┳━━━━━━━━━━━━━━━━━━━━━━━━━━━━━━━━━━━━━┓\n",
       "┃\u001b[1m \u001b[0m\u001b[1mID              \u001b[0m\u001b[1m \u001b[0m┃\u001b[1m \u001b[0m\u001b[1mToxicity\u001b[0m\u001b[1m \u001b[0m┃\u001b[1m \u001b[0m\u001b[1mOriginal Text                      \u001b[0m\u001b[1m \u001b[0m┃\u001b[1m \u001b[0m\u001b[1mText                               \u001b[0m\u001b[1m \u001b[0m┃\n",
       "┡━━━━━━━━━━━━━━━━━━╇━━━━━━━━━━╇━━━━━━━━━━━━━━━━━━━━━━━━━━━━━━━━━━━━━╇━━━━━━━━━━━━━━━━━━━━━━━━━━━━━━━━━━━━━┩\n",
       "│\u001b[36m \u001b[0m\u001b[36m042588634b739f5c\u001b[0m\u001b[36m \u001b[0m│\u001b[35m \u001b[0m\u001b[35m0       \u001b[0m\u001b[35m \u001b[0m│\u001b[32m \u001b[0m\u001b[32mAlas, the Autoblock was not lifted.\u001b[0m\u001b[32m \u001b[0m│\u001b[32m \u001b[0m\u001b[32mHélas, le blocage n'a pas été levé.\u001b[0m\u001b[32m \u001b[0m│\n",
       "└──────────────────┴──────────┴─────────────────────────────────────┴─────────────────────────────────────┘\n"
      ]
     },
     "metadata": {},
     "output_type": "display_data"
    }
   ],
   "source": [
    "# Print examples of the benchmark\n",
    "console.print(\"Sample from the balanced benchmark:\")\n",
    "for i, row in df_jigsaw_balanced.sample(10, random_state=42).iterrows():\n",
    "    table = Table(title=\"Benchmark Sample\")\n",
    "    table.add_column(\"ID\", justify=\"left\", style=\"cyan\")\n",
    "    table.add_column(\"Toxicity\", justify=\"left\", style=\"magenta\")\n",
    "    table.add_column(\"Original Text\", justify=\"left\", style=\"green\")\n",
    "    table.add_column(\"Text\", justify=\"left\", style=\"green\")\n",
    "    table.add_row(str(row['msg_id']), str(row['label']), row['original_text'], row['content'])\n",
    "\n",
    "    console.print(table)"
   ]
  }
 ],
 "metadata": {
  "kernelspec": {
   "display_name": "SJTU",
   "language": "python",
   "name": "python3"
  },
  "language_info": {
   "codemirror_mode": {
    "name": "ipython",
    "version": 3
   },
   "file_extension": ".py",
   "mimetype": "text/x-python",
   "name": "python",
   "nbconvert_exporter": "python",
   "pygments_lexer": "ipython3",
   "version": "3.10.13"
  }
 },
 "nbformat": 4,
 "nbformat_minor": 5
}
