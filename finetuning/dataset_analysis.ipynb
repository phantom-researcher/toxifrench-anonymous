{
 "cells": [
  {
   "cell_type": "markdown",
   "id": "8f4de7bc",
   "metadata": {},
   "source": [
    "# Analysing the proportions in the finetuning dataset"
   ]
  },
  {
   "cell_type": "markdown",
   "id": "72c739cc",
   "metadata": {},
   "source": [
    "## Libraries"
   ]
  },
  {
   "cell_type": "code",
   "execution_count": 23,
   "id": "25329e44",
   "metadata": {},
   "outputs": [],
   "source": [
    "from pathlib import Path\n",
    "import pandas as pd \n",
    "from rich.console import Console\n",
    "from rich.table import Table\n",
    "from rich.panel import Panel\n",
    "from statsmodels.stats.proportion import proportion_confint\n",
    "from utils.chain_of_thought import CoTColumnBuilder\n",
    "from utils.experiments_construction import FinetuneDatasetBuilder"
   ]
  },
  {
   "cell_type": "markdown",
   "id": "54e49c4a",
   "metadata": {},
   "source": [
    "## Global variables"
   ]
  },
  {
   "cell_type": "code",
   "execution_count": 24,
   "id": "d9ff503d",
   "metadata": {},
   "outputs": [],
   "source": [
    "DATA_PATH       = Path('../data/finetuning_dataset')\n",
    "TRAIN_PATH      = DATA_PATH / 'finetuning_train.parquet'\n",
    "TEST_PATH       = DATA_PATH / 'finetuning_test.parquet'\n",
    "AUTO_AGREEMENT_PATH  = Path('../data/data_postchecking') / 'auto_agreement_checking.csv'\n",
    "\n",
    "console = Console()"
   ]
  },
  {
   "cell_type": "markdown",
   "id": "bc236076",
   "metadata": {},
   "source": [
    "## Utils"
   ]
  },
  {
   "cell_type": "code",
   "execution_count": 25,
   "id": "42b834c3",
   "metadata": {},
   "outputs": [],
   "source": [
    "def dataset_summary(df, name):\n",
    "    return {\n",
    "        \"Dataset\": name,\n",
    "        \"Rows\": len(df),\n",
    "        \"Toxicity\": int(df[\"annotator's conclusion\"].sum()),\n",
    "        \"Number of columns\": len(df.columns),\n",
    "        \"List of the columns\": list(df.columns),\n",
    "        \"Missing values\": df.isnull().sum().sum()\n",
    "    }\n",
    "\n",
    "def print_examples(df, label, n=3):\n",
    "    examples = df[df[\"annotator's conclusion\"] == label].sample(n=min(n, len(df[df[\"annotator's conclusion\"] == label])), random_state=42)\n",
    "    for idx, row in examples.iterrows():\n",
    "        console.print(\n",
    "            Panel(\n",
    "                row['content'],\n",
    "                title=f\"{'Toxic' if label else 'Non-Toxic'} Example\",\n",
    "                subtitle=f\"Index: {idx}\",\n",
    "                style=\"bold red\" if label else \"bold green\"\n",
    "            )\n",
    "        )"
   ]
  },
  {
   "cell_type": "markdown",
   "id": "a6d6367f",
   "metadata": {},
   "source": [
    "## Load datasets"
   ]
  },
  {
   "cell_type": "code",
   "execution_count": 26,
   "id": "0130e5ba",
   "metadata": {},
   "outputs": [
    {
     "data": {
      "text/html": [
       "<pre style=\"white-space:pre;overflow-x:auto;line-height:normal;font-family:Menlo,'DejaVu Sans Mono',consolas,'Courier New',monospace\"><span style=\"font-style: italic\">                                                  Dataset Summary                                                  </span>\n",
       "┏━━━━━━━━━┳━━━━━━━┳━━━━━━━━━━━━━━━━━━━━┳━━━━━━━━━━━━━━━━━━━┳━━━━━━━━━━━━━━━━━━━━━━━━━━━━━━━━━━━━━┳━━━━━━━━━━━━━━━━┓\n",
       "┃<span style=\"font-weight: bold\"> Dataset </span>┃<span style=\"font-weight: bold\">  Rows </span>┃<span style=\"font-weight: bold\">           Toxicity </span>┃<span style=\"font-weight: bold\"> Number of columns </span>┃<span style=\"font-weight: bold\">                 List of the columns </span>┃<span style=\"font-weight: bold\"> Missing values </span>┃\n",
       "┡━━━━━━━━━╇━━━━━━━╇━━━━━━━━━━━━━━━━━━━━╇━━━━━━━━━━━━━━━━━━━╇━━━━━━━━━━━━━━━━━━━━━━━━━━━━━━━━━━━━━╇━━━━━━━━━━━━━━━━┩\n",
       "│<span style=\"color: #008080; text-decoration-color: #008080\"> Train   </span>│ 52274 │ 2148/52274 (4.11%) │                24 │     msg_id, annotator's conclusion, │              0 │\n",
       "│<span style=\"color: #008080; text-decoration-color: #008080\">         </span>│       │                    │                   │      user, content, topic, deleted, │                │\n",
       "│<span style=\"color: #008080; text-decoration-color: #008080\">         </span>│       │                    │                   │     banned, hour, explication, ton, │                │\n",
       "│<span style=\"color: #008080; text-decoration-color: #008080\">         </span>│       │                    │                   │       intention, categorie, labels, │                │\n",
       "│<span style=\"color: #008080; text-decoration-color: #008080\">         </span>│       │                    │                   │     toxicite_score, categorie_list, │                │\n",
       "│<span style=\"color: #008080; text-decoration-color: #008080\">         </span>│       │                    │                   │            categorie_justification, │                │\n",
       "│<span style=\"color: #008080; text-decoration-color: #008080\">         </span>│       │                    │                   │  labels_list, labels_justification, │                │\n",
       "│<span style=\"color: #008080; text-decoration-color: #008080\">         </span>│       │                    │                   │           note, note_justification, │                │\n",
       "│<span style=\"color: #008080; text-decoration-color: #008080\">         </span>│       │                    │                   │            conclusion, note_string, │                │\n",
       "│<span style=\"color: #008080; text-decoration-color: #008080\">         </span>│       │                    │                   │       literal_conclusion_annotator, │                │\n",
       "│<span style=\"color: #008080; text-decoration-color: #008080\">         </span>│       │                    │                   │                            cot_text │                │\n",
       "│<span style=\"color: #008080; text-decoration-color: #008080\"> Test    </span>│  1388 │  694/1388 (50.00%) │                24 │     msg_id, annotator's conclusion, │              0 │\n",
       "│<span style=\"color: #008080; text-decoration-color: #008080\">         </span>│       │                    │                   │      user, content, topic, deleted, │                │\n",
       "│<span style=\"color: #008080; text-decoration-color: #008080\">         </span>│       │                    │                   │     banned, hour, explication, ton, │                │\n",
       "│<span style=\"color: #008080; text-decoration-color: #008080\">         </span>│       │                    │                   │       intention, categorie, labels, │                │\n",
       "│<span style=\"color: #008080; text-decoration-color: #008080\">         </span>│       │                    │                   │     toxicite_score, categorie_list, │                │\n",
       "│<span style=\"color: #008080; text-decoration-color: #008080\">         </span>│       │                    │                   │            categorie_justification, │                │\n",
       "│<span style=\"color: #008080; text-decoration-color: #008080\">         </span>│       │                    │                   │  labels_list, labels_justification, │                │\n",
       "│<span style=\"color: #008080; text-decoration-color: #008080\">         </span>│       │                    │                   │           note, note_justification, │                │\n",
       "│<span style=\"color: #008080; text-decoration-color: #008080\">         </span>│       │                    │                   │            conclusion, note_string, │                │\n",
       "│<span style=\"color: #008080; text-decoration-color: #008080\">         </span>│       │                    │                   │       literal_conclusion_annotator, │                │\n",
       "│<span style=\"color: #008080; text-decoration-color: #008080\">         </span>│       │                    │                   │                            cot_text │                │\n",
       "└─────────┴───────┴────────────────────┴───────────────────┴─────────────────────────────────────┴────────────────┘\n",
       "</pre>\n"
      ],
      "text/plain": [
       "\u001b[3m                                                  Dataset Summary                                                  \u001b[0m\n",
       "┏━━━━━━━━━┳━━━━━━━┳━━━━━━━━━━━━━━━━━━━━┳━━━━━━━━━━━━━━━━━━━┳━━━━━━━━━━━━━━━━━━━━━━━━━━━━━━━━━━━━━┳━━━━━━━━━━━━━━━━┓\n",
       "┃\u001b[1m \u001b[0m\u001b[1mDataset\u001b[0m\u001b[1m \u001b[0m┃\u001b[1m \u001b[0m\u001b[1m Rows\u001b[0m\u001b[1m \u001b[0m┃\u001b[1m \u001b[0m\u001b[1m          Toxicity\u001b[0m\u001b[1m \u001b[0m┃\u001b[1m \u001b[0m\u001b[1mNumber of columns\u001b[0m\u001b[1m \u001b[0m┃\u001b[1m \u001b[0m\u001b[1m                List of the columns\u001b[0m\u001b[1m \u001b[0m┃\u001b[1m \u001b[0m\u001b[1mMissing values\u001b[0m\u001b[1m \u001b[0m┃\n",
       "┡━━━━━━━━━╇━━━━━━━╇━━━━━━━━━━━━━━━━━━━━╇━━━━━━━━━━━━━━━━━━━╇━━━━━━━━━━━━━━━━━━━━━━━━━━━━━━━━━━━━━╇━━━━━━━━━━━━━━━━┩\n",
       "│\u001b[36m \u001b[0m\u001b[36mTrain  \u001b[0m\u001b[36m \u001b[0m│ 52274 │ 2148/52274 (4.11%) │                24 │     msg_id, annotator's conclusion, │              0 │\n",
       "│\u001b[36m         \u001b[0m│       │                    │                   │      user, content, topic, deleted, │                │\n",
       "│\u001b[36m         \u001b[0m│       │                    │                   │     banned, hour, explication, ton, │                │\n",
       "│\u001b[36m         \u001b[0m│       │                    │                   │       intention, categorie, labels, │                │\n",
       "│\u001b[36m         \u001b[0m│       │                    │                   │     toxicite_score, categorie_list, │                │\n",
       "│\u001b[36m         \u001b[0m│       │                    │                   │            categorie_justification, │                │\n",
       "│\u001b[36m         \u001b[0m│       │                    │                   │  labels_list, labels_justification, │                │\n",
       "│\u001b[36m         \u001b[0m│       │                    │                   │           note, note_justification, │                │\n",
       "│\u001b[36m         \u001b[0m│       │                    │                   │            conclusion, note_string, │                │\n",
       "│\u001b[36m         \u001b[0m│       │                    │                   │       literal_conclusion_annotator, │                │\n",
       "│\u001b[36m         \u001b[0m│       │                    │                   │                            cot_text │                │\n",
       "│\u001b[36m \u001b[0m\u001b[36mTest   \u001b[0m\u001b[36m \u001b[0m│  1388 │  694/1388 (50.00%) │                24 │     msg_id, annotator's conclusion, │              0 │\n",
       "│\u001b[36m         \u001b[0m│       │                    │                   │      user, content, topic, deleted, │                │\n",
       "│\u001b[36m         \u001b[0m│       │                    │                   │     banned, hour, explication, ton, │                │\n",
       "│\u001b[36m         \u001b[0m│       │                    │                   │       intention, categorie, labels, │                │\n",
       "│\u001b[36m         \u001b[0m│       │                    │                   │     toxicite_score, categorie_list, │                │\n",
       "│\u001b[36m         \u001b[0m│       │                    │                   │            categorie_justification, │                │\n",
       "│\u001b[36m         \u001b[0m│       │                    │                   │  labels_list, labels_justification, │                │\n",
       "│\u001b[36m         \u001b[0m│       │                    │                   │           note, note_justification, │                │\n",
       "│\u001b[36m         \u001b[0m│       │                    │                   │            conclusion, note_string, │                │\n",
       "│\u001b[36m         \u001b[0m│       │                    │                   │       literal_conclusion_annotator, │                │\n",
       "│\u001b[36m         \u001b[0m│       │                    │                   │                            cot_text │                │\n",
       "└─────────┴───────┴────────────────────┴───────────────────┴─────────────────────────────────────┴────────────────┘\n"
      ]
     },
     "metadata": {},
     "output_type": "display_data"
    }
   ],
   "source": [
    "df_train    = pd.read_parquet(TRAIN_PATH)\n",
    "df_test     = pd.read_parquet(TEST_PATH)\n",
    "\n",
    "summaries = [\n",
    "    dataset_summary(df_train, \"Train\"),\n",
    "    dataset_summary(df_test, \"Test\")\n",
    "]\n",
    "\n",
    "table = Table(title=\"Dataset Summary\")\n",
    "table.add_column(\"Dataset\", style=\"cyan\", no_wrap=True)\n",
    "table.add_column(\"Rows\", justify=\"right\")\n",
    "table.add_column(\"Toxicity\", justify=\"right\")\n",
    "table.add_column(\"Number of columns\", justify=\"right\")\n",
    "table.add_column(\"List of the columns\", justify=\"right\")\n",
    "table.add_column(\"Missing values\", justify=\"right\")\n",
    "\n",
    "for summary in summaries:\n",
    "    table.add_row(\n",
    "        summary[\"Dataset\"],\n",
    "        str(summary[\"Rows\"]),\n",
    "        f'{summary[\"Toxicity\"]}/{summary[\"Rows\"]} ({summary[\"Toxicity\"] / summary[\"Rows\"]:.2%})',\n",
    "        str(summary[\"Number of columns\"]),\n",
    "        \", \".join(summary[\"List of the columns\"]),\n",
    "        str(summary[\"Missing values\"])\n",
    "    )\n",
    "\n",
    "console.print(table)"
   ]
  },
  {
   "cell_type": "markdown",
   "id": "84517a32",
   "metadata": {},
   "source": [
    "## Print some examples"
   ]
  },
  {
   "cell_type": "code",
   "execution_count": 30,
   "id": "c6879822",
   "metadata": {},
   "outputs": [
    {
     "data": {
      "text/html": [
       "<pre style=\"white-space:pre;overflow-x:auto;line-height:normal;font-family:Menlo,'DejaVu Sans Mono',consolas,'Courier New',monospace\"><span style=\"color: #00ff00; text-decoration-color: #00ff00\">───────────────────────────────────────────── </span><span style=\"color: #808000; text-decoration-color: #808000; font-weight: bold\">Toxic Examples (Train)</span><span style=\"color: #00ff00; text-decoration-color: #00ff00\"> ──────────────────────────────────────────────</span>\n",
       "</pre>\n"
      ],
      "text/plain": [
       "\u001b[92m───────────────────────────────────────────── \u001b[0m\u001b[1;33mToxic Examples \u001b[0m\u001b[1;33m(\u001b[0m\u001b[1;33mTrain\u001b[0m\u001b[1;33m)\u001b[0m\u001b[92m ──────────────────────────────────────────────\u001b[0m\n"
      ]
     },
     "metadata": {},
     "output_type": "display_data"
    },
    {
     "data": {
      "text/html": [
       "<pre style=\"white-space:pre;overflow-x:auto;line-height:normal;font-family:Menlo,'DejaVu Sans Mono',consolas,'Courier New',monospace\"><span style=\"color: #800000; text-decoration-color: #800000; font-weight: bold\">╭─────────────────────────────────────────────────</span> Toxic Example <span style=\"color: #800000; text-decoration-color: #800000; font-weight: bold\">─────────────────────────────────────────────────╮</span>\n",
       "<span style=\"color: #800000; text-decoration-color: #800000; font-weight: bold\">│ La France qui devient une nouvelle Andalousie si un flic tire                                                   │</span>\n",
       "<span style=\"color: #800000; text-decoration-color: #800000; font-weight: bold\">│ :rire:                                                                                                          │</span>\n",
       "<span style=\"color: #800000; text-decoration-color: #800000; font-weight: bold\">│ 8 millions de Maghrébins en France                                                                              │</span>\n",
       "<span style=\"color: #800000; text-decoration-color: #800000; font-weight: bold\">│ :rire:                                                                                                          │</span>\n",
       "<span style=\"color: #800000; text-decoration-color: #800000; font-weight: bold\">╰─────────────────────────────────────────────────</span> Index: 28184 <span style=\"color: #800000; text-decoration-color: #800000; font-weight: bold\">──────────────────────────────────────────────────╯</span>\n",
       "</pre>\n"
      ],
      "text/plain": [
       "\u001b[1;31m╭─\u001b[0m\u001b[1;31m────────────────────────────────────────────────\u001b[0m Toxic Example \u001b[1;31m────────────────────────────────────────────────\u001b[0m\u001b[1;31m─╮\u001b[0m\n",
       "\u001b[1;31m│\u001b[0m\u001b[1;31m \u001b[0m\u001b[1;31mLa France qui devient une nouvelle Andalousie si un flic tire\u001b[0m\u001b[1;31m                                                  \u001b[0m\u001b[1;31m \u001b[0m\u001b[1;31m│\u001b[0m\n",
       "\u001b[1;31m│\u001b[0m\u001b[1;31m \u001b[0m\u001b[1;31m:rire:\u001b[0m\u001b[1;31m                                                                                                         \u001b[0m\u001b[1;31m \u001b[0m\u001b[1;31m│\u001b[0m\n",
       "\u001b[1;31m│\u001b[0m\u001b[1;31m \u001b[0m\u001b[1;31m8 millions de Maghrébins en France\u001b[0m\u001b[1;31m                                                                             \u001b[0m\u001b[1;31m \u001b[0m\u001b[1;31m│\u001b[0m\n",
       "\u001b[1;31m│\u001b[0m\u001b[1;31m \u001b[0m\u001b[1;31m:rire:\u001b[0m\u001b[1;31m                                                                                                         \u001b[0m\u001b[1;31m \u001b[0m\u001b[1;31m│\u001b[0m\n",
       "\u001b[1;31m╰─\u001b[0m\u001b[1;31m────────────────────────────────────────────────\u001b[0m Index: 28184 \u001b[1;31m─────────────────────────────────────────────────\u001b[0m\u001b[1;31m─╯\u001b[0m\n"
      ]
     },
     "metadata": {},
     "output_type": "display_data"
    },
    {
     "data": {
      "text/html": [
       "<pre style=\"white-space:pre;overflow-x:auto;line-height:normal;font-family:Menlo,'DejaVu Sans Mono',consolas,'Courier New',monospace\"><span style=\"color: #800000; text-decoration-color: #800000; font-weight: bold\">╭─────────────────────────────────────────────────</span> Toxic Example <span style=\"color: #800000; text-decoration-color: #800000; font-weight: bold\">─────────────────────────────────────────────────╮</span>\n",
       "<span style=\"color: #800000; text-decoration-color: #800000; font-weight: bold\">│ IL EST TERMINE                                                                                                  │</span>\n",
       "<span style=\"color: #800000; text-decoration-color: #800000; font-weight: bold\">│ 2000% qu'il finit suicidé d'ici 1 mois                                                                          │</span>\n",
       "<span style=\"color: #800000; text-decoration-color: #800000; font-weight: bold\">╰─────────────────────────────────────────────────</span> Index: 48867 <span style=\"color: #800000; text-decoration-color: #800000; font-weight: bold\">──────────────────────────────────────────────────╯</span>\n",
       "</pre>\n"
      ],
      "text/plain": [
       "\u001b[1;31m╭─\u001b[0m\u001b[1;31m────────────────────────────────────────────────\u001b[0m Toxic Example \u001b[1;31m────────────────────────────────────────────────\u001b[0m\u001b[1;31m─╮\u001b[0m\n",
       "\u001b[1;31m│\u001b[0m\u001b[1;31m \u001b[0m\u001b[1;31mIL EST TERMINE\u001b[0m\u001b[1;31m                                                                                                 \u001b[0m\u001b[1;31m \u001b[0m\u001b[1;31m│\u001b[0m\n",
       "\u001b[1;31m│\u001b[0m\u001b[1;31m \u001b[0m\u001b[1;31m2000% qu'il finit suicidé d'ici 1 mois\u001b[0m\u001b[1;31m                                                                         \u001b[0m\u001b[1;31m \u001b[0m\u001b[1;31m│\u001b[0m\n",
       "\u001b[1;31m╰─\u001b[0m\u001b[1;31m────────────────────────────────────────────────\u001b[0m Index: 48867 \u001b[1;31m─────────────────────────────────────────────────\u001b[0m\u001b[1;31m─╯\u001b[0m\n"
      ]
     },
     "metadata": {},
     "output_type": "display_data"
    },
    {
     "data": {
      "text/html": [
       "<pre style=\"white-space:pre;overflow-x:auto;line-height:normal;font-family:Menlo,'DejaVu Sans Mono',consolas,'Courier New',monospace\"><span style=\"color: #800000; text-decoration-color: #800000; font-weight: bold\">╭─────────────────────────────────────────────────</span> Toxic Example <span style=\"color: #800000; text-decoration-color: #800000; font-weight: bold\">─────────────────────────────────────────────────╮</span>\n",
       "<span style=\"color: #800000; text-decoration-color: #800000; font-weight: bold\">│ J'aimerais bien me faire frapper et traîner de la sorte pour être enmener dans une cave                         │</span>\n",
       "<span style=\"color: #800000; text-decoration-color: #800000; font-weight: bold\">│ :bave:                                                                                                          │</span>\n",
       "<span style=\"color: #800000; text-decoration-color: #800000; font-weight: bold\">╰─────────────────────────────────────────────────</span> Index: 23951 <span style=\"color: #800000; text-decoration-color: #800000; font-weight: bold\">──────────────────────────────────────────────────╯</span>\n",
       "</pre>\n"
      ],
      "text/plain": [
       "\u001b[1;31m╭─\u001b[0m\u001b[1;31m────────────────────────────────────────────────\u001b[0m Toxic Example \u001b[1;31m────────────────────────────────────────────────\u001b[0m\u001b[1;31m─╮\u001b[0m\n",
       "\u001b[1;31m│\u001b[0m\u001b[1;31m \u001b[0m\u001b[1;31mJ'aimerais bien me faire frapper et traîner de la sorte pour être enmener dans une cave\u001b[0m\u001b[1;31m                        \u001b[0m\u001b[1;31m \u001b[0m\u001b[1;31m│\u001b[0m\n",
       "\u001b[1;31m│\u001b[0m\u001b[1;31m \u001b[0m\u001b[1;31m:bave:\u001b[0m\u001b[1;31m                                                                                                         \u001b[0m\u001b[1;31m \u001b[0m\u001b[1;31m│\u001b[0m\n",
       "\u001b[1;31m╰─\u001b[0m\u001b[1;31m────────────────────────────────────────────────\u001b[0m Index: 23951 \u001b[1;31m─────────────────────────────────────────────────\u001b[0m\u001b[1;31m─╯\u001b[0m\n"
      ]
     },
     "metadata": {},
     "output_type": "display_data"
    },
    {
     "data": {
      "text/html": [
       "<pre style=\"white-space:pre;overflow-x:auto;line-height:normal;font-family:Menlo,'DejaVu Sans Mono',consolas,'Courier New',monospace\"><span style=\"color: #800000; text-decoration-color: #800000; font-weight: bold\">╭─────────────────────────────────────────────────</span> Toxic Example <span style=\"color: #800000; text-decoration-color: #800000; font-weight: bold\">─────────────────────────────────────────────────╮</span>\n",
       "<span style=\"color: #800000; text-decoration-color: #800000; font-weight: bold\">│ Je pensais pas qu'on pouvait encore plus aplatir la face d'un asiat'                                            │</span>\n",
       "<span style=\"color: #800000; text-decoration-color: #800000; font-weight: bold\">│ :rire:                                                                                                          │</span>\n",
       "<span style=\"color: #800000; text-decoration-color: #800000; font-weight: bold\">╰─────────────────────────────────────────────────</span> Index: 18910 <span style=\"color: #800000; text-decoration-color: #800000; font-weight: bold\">──────────────────────────────────────────────────╯</span>\n",
       "</pre>\n"
      ],
      "text/plain": [
       "\u001b[1;31m╭─\u001b[0m\u001b[1;31m────────────────────────────────────────────────\u001b[0m Toxic Example \u001b[1;31m────────────────────────────────────────────────\u001b[0m\u001b[1;31m─╮\u001b[0m\n",
       "\u001b[1;31m│\u001b[0m\u001b[1;31m \u001b[0m\u001b[1;31mJe pensais pas qu'on pouvait encore plus aplatir la face d'un asiat'\u001b[0m\u001b[1;31m                                           \u001b[0m\u001b[1;31m \u001b[0m\u001b[1;31m│\u001b[0m\n",
       "\u001b[1;31m│\u001b[0m\u001b[1;31m \u001b[0m\u001b[1;31m:rire:\u001b[0m\u001b[1;31m                                                                                                         \u001b[0m\u001b[1;31m \u001b[0m\u001b[1;31m│\u001b[0m\n",
       "\u001b[1;31m╰─\u001b[0m\u001b[1;31m────────────────────────────────────────────────\u001b[0m Index: 18910 \u001b[1;31m─────────────────────────────────────────────────\u001b[0m\u001b[1;31m─╯\u001b[0m\n"
      ]
     },
     "metadata": {},
     "output_type": "display_data"
    },
    {
     "data": {
      "text/html": [
       "<pre style=\"white-space:pre;overflow-x:auto;line-height:normal;font-family:Menlo,'DejaVu Sans Mono',consolas,'Courier New',monospace\"><span style=\"color: #800000; text-decoration-color: #800000; font-weight: bold\">╭─────────────────────────────────────────────────</span> Toxic Example <span style=\"color: #800000; text-decoration-color: #800000; font-weight: bold\">─────────────────────────────────────────────────╮</span>\n",
       "<span style=\"color: #800000; text-decoration-color: #800000; font-weight: bold\">│ Gif et photo du cul d'une escort rencontrée il y a quelques semaines.                                           │</span>\n",
       "<span style=\"color: #800000; text-decoration-color: #800000; font-weight: bold\">│ Mp                                                                                                              │</span>\n",
       "<span style=\"color: #800000; text-decoration-color: #800000; font-weight: bold\">╰─────────────────────────────────────────────────</span> Index: 21722 <span style=\"color: #800000; text-decoration-color: #800000; font-weight: bold\">──────────────────────────────────────────────────╯</span>\n",
       "</pre>\n"
      ],
      "text/plain": [
       "\u001b[1;31m╭─\u001b[0m\u001b[1;31m────────────────────────────────────────────────\u001b[0m Toxic Example \u001b[1;31m────────────────────────────────────────────────\u001b[0m\u001b[1;31m─╮\u001b[0m\n",
       "\u001b[1;31m│\u001b[0m\u001b[1;31m \u001b[0m\u001b[1;31mGif et photo du cul d'une escort rencontrée il y a quelques semaines.\u001b[0m\u001b[1;31m                                          \u001b[0m\u001b[1;31m \u001b[0m\u001b[1;31m│\u001b[0m\n",
       "\u001b[1;31m│\u001b[0m\u001b[1;31m \u001b[0m\u001b[1;31mMp\u001b[0m\u001b[1;31m                                                                                                             \u001b[0m\u001b[1;31m \u001b[0m\u001b[1;31m│\u001b[0m\n",
       "\u001b[1;31m╰─\u001b[0m\u001b[1;31m────────────────────────────────────────────────\u001b[0m Index: 21722 \u001b[1;31m─────────────────────────────────────────────────\u001b[0m\u001b[1;31m─╯\u001b[0m\n"
      ]
     },
     "metadata": {},
     "output_type": "display_data"
    },
    {
     "data": {
      "text/html": [
       "<pre style=\"white-space:pre;overflow-x:auto;line-height:normal;font-family:Menlo,'DejaVu Sans Mono',consolas,'Courier New',monospace\"><span style=\"color: #00ff00; text-decoration-color: #00ff00\">─────────────────────────────────────────── </span><span style=\"color: #808000; text-decoration-color: #808000; font-weight: bold\">Non-Toxic Examples (Train)</span><span style=\"color: #00ff00; text-decoration-color: #00ff00\"> ────────────────────────────────────────────</span>\n",
       "</pre>\n"
      ],
      "text/plain": [
       "\u001b[92m─────────────────────────────────────────── \u001b[0m\u001b[1;33mNon-Toxic Examples \u001b[0m\u001b[1;33m(\u001b[0m\u001b[1;33mTrain\u001b[0m\u001b[1;33m)\u001b[0m\u001b[92m ────────────────────────────────────────────\u001b[0m\n"
      ]
     },
     "metadata": {},
     "output_type": "display_data"
    },
    {
     "data": {
      "text/html": [
       "<pre style=\"white-space:pre;overflow-x:auto;line-height:normal;font-family:Menlo,'DejaVu Sans Mono',consolas,'Courier New',monospace\"><span style=\"color: #008000; text-decoration-color: #008000; font-weight: bold\">╭───────────────────────────────────────────────</span> Non-Toxic Example <span style=\"color: #008000; text-decoration-color: #008000; font-weight: bold\">───────────────────────────────────────────────╮</span>\n",
       "<span style=\"color: #008000; text-decoration-color: #008000; font-weight: bold\">│ Ça me paraît logique très franchement.                                                                          │</span>\n",
       "<span style=\"color: #008000; text-decoration-color: #008000; font-weight: bold\">╰─────────────────────────────────────────────────</span> Index: 23114 <span style=\"color: #008000; text-decoration-color: #008000; font-weight: bold\">──────────────────────────────────────────────────╯</span>\n",
       "</pre>\n"
      ],
      "text/plain": [
       "\u001b[1;32m╭─\u001b[0m\u001b[1;32m──────────────────────────────────────────────\u001b[0m Non-Toxic Example \u001b[1;32m──────────────────────────────────────────────\u001b[0m\u001b[1;32m─╮\u001b[0m\n",
       "\u001b[1;32m│\u001b[0m\u001b[1;32m \u001b[0m\u001b[1;32mÇa me paraît logique très franchement.\u001b[0m\u001b[1;32m                                                                         \u001b[0m\u001b[1;32m \u001b[0m\u001b[1;32m│\u001b[0m\n",
       "\u001b[1;32m╰─\u001b[0m\u001b[1;32m────────────────────────────────────────────────\u001b[0m Index: 23114 \u001b[1;32m─────────────────────────────────────────────────\u001b[0m\u001b[1;32m─╯\u001b[0m\n"
      ]
     },
     "metadata": {},
     "output_type": "display_data"
    },
    {
     "data": {
      "text/html": [
       "<pre style=\"white-space:pre;overflow-x:auto;line-height:normal;font-family:Menlo,'DejaVu Sans Mono',consolas,'Courier New',monospace\"><span style=\"color: #008000; text-decoration-color: #008000; font-weight: bold\">╭───────────────────────────────────────────────</span> Non-Toxic Example <span style=\"color: #008000; text-decoration-color: #008000; font-weight: bold\">───────────────────────────────────────────────╮</span>\n",
       "<span style=\"color: #008000; text-decoration-color: #008000; font-weight: bold\">│ Di carpato aussi                                                                                                │</span>\n",
       "<span style=\"color: #008000; text-decoration-color: #008000; font-weight: bold\">│ Rien à voir avec nous                                                                                           │</span>\n",
       "<span style=\"color: #008000; text-decoration-color: #008000; font-weight: bold\">╰──────────────────────────────────────────────────</span> Index: 1041 <span style=\"color: #008000; text-decoration-color: #008000; font-weight: bold\">──────────────────────────────────────────────────╯</span>\n",
       "</pre>\n"
      ],
      "text/plain": [
       "\u001b[1;32m╭─\u001b[0m\u001b[1;32m──────────────────────────────────────────────\u001b[0m Non-Toxic Example \u001b[1;32m──────────────────────────────────────────────\u001b[0m\u001b[1;32m─╮\u001b[0m\n",
       "\u001b[1;32m│\u001b[0m\u001b[1;32m \u001b[0m\u001b[1;32mDi carpato aussi\u001b[0m\u001b[1;32m                                                                                               \u001b[0m\u001b[1;32m \u001b[0m\u001b[1;32m│\u001b[0m\n",
       "\u001b[1;32m│\u001b[0m\u001b[1;32m \u001b[0m\u001b[1;32mRien à voir avec nous\u001b[0m\u001b[1;32m                                                                                          \u001b[0m\u001b[1;32m \u001b[0m\u001b[1;32m│\u001b[0m\n",
       "\u001b[1;32m╰─\u001b[0m\u001b[1;32m─────────────────────────────────────────────────\u001b[0m Index: 1041 \u001b[1;32m─────────────────────────────────────────────────\u001b[0m\u001b[1;32m─╯\u001b[0m\n"
      ]
     },
     "metadata": {},
     "output_type": "display_data"
    },
    {
     "data": {
      "text/html": [
       "<pre style=\"white-space:pre;overflow-x:auto;line-height:normal;font-family:Menlo,'DejaVu Sans Mono',consolas,'Courier New',monospace\"><span style=\"color: #008000; text-decoration-color: #008000; font-weight: bold\">╭───────────────────────────────────────────────</span> Non-Toxic Example <span style=\"color: #008000; text-decoration-color: #008000; font-weight: bold\">───────────────────────────────────────────────╮</span>\n",
       "<span style=\"color: #008000; text-decoration-color: #008000; font-weight: bold\">│ Met une photo de ton z sur son bureau on t à dit                                                                │</span>\n",
       "<span style=\"color: #008000; text-decoration-color: #008000; font-weight: bold\">╰─────────────────────────────────────────────────</span> Index: 16805 <span style=\"color: #008000; text-decoration-color: #008000; font-weight: bold\">──────────────────────────────────────────────────╯</span>\n",
       "</pre>\n"
      ],
      "text/plain": [
       "\u001b[1;32m╭─\u001b[0m\u001b[1;32m──────────────────────────────────────────────\u001b[0m Non-Toxic Example \u001b[1;32m──────────────────────────────────────────────\u001b[0m\u001b[1;32m─╮\u001b[0m\n",
       "\u001b[1;32m│\u001b[0m\u001b[1;32m \u001b[0m\u001b[1;32mMet une photo de ton z sur son bureau on t à dit\u001b[0m\u001b[1;32m                                                               \u001b[0m\u001b[1;32m \u001b[0m\u001b[1;32m│\u001b[0m\n",
       "\u001b[1;32m╰─\u001b[0m\u001b[1;32m────────────────────────────────────────────────\u001b[0m Index: 16805 \u001b[1;32m─────────────────────────────────────────────────\u001b[0m\u001b[1;32m─╯\u001b[0m\n"
      ]
     },
     "metadata": {},
     "output_type": "display_data"
    },
    {
     "data": {
      "text/html": [
       "<pre style=\"white-space:pre;overflow-x:auto;line-height:normal;font-family:Menlo,'DejaVu Sans Mono',consolas,'Courier New',monospace\"><span style=\"color: #008000; text-decoration-color: #008000; font-weight: bold\">╭───────────────────────────────────────────────</span> Non-Toxic Example <span style=\"color: #008000; text-decoration-color: #008000; font-weight: bold\">───────────────────────────────────────────────╮</span>\n",
       "<span style=\"color: #008000; text-decoration-color: #008000; font-weight: bold\">│ Chez moi, il pleut 4-5 jours sur 7 depuis qques mois, à part pour le mois de février où il a moins plu          │</span>\n",
       "<span style=\"color: #008000; text-decoration-color: #008000; font-weight: bold\">╰─────────────────────────────────────────────────</span> Index: 13299 <span style=\"color: #008000; text-decoration-color: #008000; font-weight: bold\">──────────────────────────────────────────────────╯</span>\n",
       "</pre>\n"
      ],
      "text/plain": [
       "\u001b[1;32m╭─\u001b[0m\u001b[1;32m──────────────────────────────────────────────\u001b[0m Non-Toxic Example \u001b[1;32m──────────────────────────────────────────────\u001b[0m\u001b[1;32m─╮\u001b[0m\n",
       "\u001b[1;32m│\u001b[0m\u001b[1;32m \u001b[0m\u001b[1;32mChez moi, il pleut 4-5 jours sur 7 depuis qques mois, à part pour le mois de février où il a moins plu\u001b[0m\u001b[1;32m         \u001b[0m\u001b[1;32m \u001b[0m\u001b[1;32m│\u001b[0m\n",
       "\u001b[1;32m╰─\u001b[0m\u001b[1;32m────────────────────────────────────────────────\u001b[0m Index: 13299 \u001b[1;32m─────────────────────────────────────────────────\u001b[0m\u001b[1;32m─╯\u001b[0m\n"
      ]
     },
     "metadata": {},
     "output_type": "display_data"
    },
    {
     "data": {
      "text/html": [
       "<pre style=\"white-space:pre;overflow-x:auto;line-height:normal;font-family:Menlo,'DejaVu Sans Mono',consolas,'Courier New',monospace\"><span style=\"color: #008000; text-decoration-color: #008000; font-weight: bold\">╭───────────────────────────────────────────────</span> Non-Toxic Example <span style=\"color: #008000; text-decoration-color: #008000; font-weight: bold\">───────────────────────────────────────────────╮</span>\n",
       "<span style=\"color: #008000; text-decoration-color: #008000; font-weight: bold\">│ les endroits confinés style les mecs qui sont morts coincés dans des grottes la tête en bas. Ca me terrifie.    │</span>\n",
       "<span style=\"color: #008000; text-decoration-color: #008000; font-weight: bold\">╰─────────────────────────────────────────────────</span> Index: 41282 <span style=\"color: #008000; text-decoration-color: #008000; font-weight: bold\">──────────────────────────────────────────────────╯</span>\n",
       "</pre>\n"
      ],
      "text/plain": [
       "\u001b[1;32m╭─\u001b[0m\u001b[1;32m──────────────────────────────────────────────\u001b[0m Non-Toxic Example \u001b[1;32m──────────────────────────────────────────────\u001b[0m\u001b[1;32m─╮\u001b[0m\n",
       "\u001b[1;32m│\u001b[0m\u001b[1;32m \u001b[0m\u001b[1;32mles endroits confinés style les mecs qui sont morts coincés dans des grottes la tête en bas. Ca me terrifie.\u001b[0m\u001b[1;32m   \u001b[0m\u001b[1;32m \u001b[0m\u001b[1;32m│\u001b[0m\n",
       "\u001b[1;32m╰─\u001b[0m\u001b[1;32m────────────────────────────────────────────────\u001b[0m Index: 41282 \u001b[1;32m─────────────────────────────────────────────────\u001b[0m\u001b[1;32m─╯\u001b[0m\n"
      ]
     },
     "metadata": {},
     "output_type": "display_data"
    }
   ],
   "source": [
    "console.rule(\"[bold yellow]Toxic Examples (Train)\")\n",
    "print_examples(df_train, label=1, n=5)\n",
    "\n",
    "console.rule(\"[bold yellow]Non-Toxic Examples (Train)\")\n",
    "print_examples(df_train, label=0, n=5)"
   ]
  },
  {
   "cell_type": "code",
   "execution_count": 34,
   "id": "f5503c1c",
   "metadata": {},
   "outputs": [
    {
     "data": {
      "text/html": [
       "<pre style=\"white-space:pre;overflow-x:auto;line-height:normal;font-family:Menlo,'DejaVu Sans Mono',consolas,'Courier New',monospace\"><span style=\"color: #00ff00; text-decoration-color: #00ff00\">────────────────────────────────────────────── </span><span style=\"color: #808000; text-decoration-color: #808000; font-weight: bold\">Toxic Examples (Test)</span><span style=\"color: #00ff00; text-decoration-color: #00ff00\"> ──────────────────────────────────────────────</span>\n",
       "</pre>\n"
      ],
      "text/plain": [
       "\u001b[92m────────────────────────────────────────────── \u001b[0m\u001b[1;33mToxic Examples \u001b[0m\u001b[1;33m(\u001b[0m\u001b[1;33mTest\u001b[0m\u001b[1;33m)\u001b[0m\u001b[92m ──────────────────────────────────────────────\u001b[0m\n"
      ]
     },
     "metadata": {},
     "output_type": "display_data"
    },
    {
     "data": {
      "text/html": [
       "<pre style=\"white-space:pre;overflow-x:auto;line-height:normal;font-family:Menlo,'DejaVu Sans Mono',consolas,'Courier New',monospace\"><span style=\"color: #800000; text-decoration-color: #800000; font-weight: bold\">╭─────────────────────────────────────────────────</span> Toxic Example <span style=\"color: #800000; text-decoration-color: #800000; font-weight: bold\">─────────────────────────────────────────────────╮</span>\n",
       "<span style=\"color: #800000; text-decoration-color: #800000; font-weight: bold\">│ La police belge qui va devoir contrôler tous les arabes à gilet fluo qui bossent sur des chantiers              │</span>\n",
       "<span style=\"color: #800000; text-decoration-color: #800000; font-weight: bold\">│ :rire:                                                                                                          │</span>\n",
       "<span style=\"color: #800000; text-decoration-color: #800000; font-weight: bold\">╰──────────────────────────────────────────────────</span> Index: 772 <span style=\"color: #800000; text-decoration-color: #800000; font-weight: bold\">───────────────────────────────────────────────────╯</span>\n",
       "</pre>\n"
      ],
      "text/plain": [
       "\u001b[1;31m╭─\u001b[0m\u001b[1;31m────────────────────────────────────────────────\u001b[0m Toxic Example \u001b[1;31m────────────────────────────────────────────────\u001b[0m\u001b[1;31m─╮\u001b[0m\n",
       "\u001b[1;31m│\u001b[0m\u001b[1;31m \u001b[0m\u001b[1;31mLa police belge qui va devoir contrôler tous les arabes à gilet fluo qui bossent sur des chantiers\u001b[0m\u001b[1;31m             \u001b[0m\u001b[1;31m \u001b[0m\u001b[1;31m│\u001b[0m\n",
       "\u001b[1;31m│\u001b[0m\u001b[1;31m \u001b[0m\u001b[1;31m:rire:\u001b[0m\u001b[1;31m                                                                                                         \u001b[0m\u001b[1;31m \u001b[0m\u001b[1;31m│\u001b[0m\n",
       "\u001b[1;31m╰─\u001b[0m\u001b[1;31m─────────────────────────────────────────────────\u001b[0m Index: 772 \u001b[1;31m──────────────────────────────────────────────────\u001b[0m\u001b[1;31m─╯\u001b[0m\n"
      ]
     },
     "metadata": {},
     "output_type": "display_data"
    },
    {
     "data": {
      "text/html": [
       "<pre style=\"white-space:pre;overflow-x:auto;line-height:normal;font-family:Menlo,'DejaVu Sans Mono',consolas,'Courier New',monospace\"><span style=\"color: #800000; text-decoration-color: #800000; font-weight: bold\">╭─────────────────────────────────────────────────</span> Toxic Example <span style=\"color: #800000; text-decoration-color: #800000; font-weight: bold\">─────────────────────────────────────────────────╮</span>\n",
       "<span style=\"color: #800000; text-decoration-color: #800000; font-weight: bold\">│ Ayaaao tout va brûler (et tant mieux) et les policiers n'ont toujours pas le droit de riposter                  │</span>\n",
       "<span style=\"color: #800000; text-decoration-color: #800000; font-weight: bold\">╰──────────────────────────────────────────────────</span> Index: 1330 <span style=\"color: #800000; text-decoration-color: #800000; font-weight: bold\">──────────────────────────────────────────────────╯</span>\n",
       "</pre>\n"
      ],
      "text/plain": [
       "\u001b[1;31m╭─\u001b[0m\u001b[1;31m────────────────────────────────────────────────\u001b[0m Toxic Example \u001b[1;31m────────────────────────────────────────────────\u001b[0m\u001b[1;31m─╮\u001b[0m\n",
       "\u001b[1;31m│\u001b[0m\u001b[1;31m \u001b[0m\u001b[1;31mAyaaao tout va brûler (et tant mieux) et les policiers n'ont toujours pas le droit de riposter\u001b[0m\u001b[1;31m                 \u001b[0m\u001b[1;31m \u001b[0m\u001b[1;31m│\u001b[0m\n",
       "\u001b[1;31m╰─\u001b[0m\u001b[1;31m─────────────────────────────────────────────────\u001b[0m Index: 1330 \u001b[1;31m─────────────────────────────────────────────────\u001b[0m\u001b[1;31m─╯\u001b[0m\n"
      ]
     },
     "metadata": {},
     "output_type": "display_data"
    },
    {
     "data": {
      "text/html": [
       "<pre style=\"white-space:pre;overflow-x:auto;line-height:normal;font-family:Menlo,'DejaVu Sans Mono',consolas,'Courier New',monospace\"><span style=\"color: #800000; text-decoration-color: #800000; font-weight: bold\">╭─────────────────────────────────────────────────</span> Toxic Example <span style=\"color: #800000; text-decoration-color: #800000; font-weight: bold\">─────────────────────────────────────────────────╮</span>\n",
       "<span style=\"color: #800000; text-decoration-color: #800000; font-weight: bold\">│ Change de pseudo sale traitre                                                                                   │</span>\n",
       "<span style=\"color: #800000; text-decoration-color: #800000; font-weight: bold\">╰──────────────────────────────────────────────────</span> Index: 516 <span style=\"color: #800000; text-decoration-color: #800000; font-weight: bold\">───────────────────────────────────────────────────╯</span>\n",
       "</pre>\n"
      ],
      "text/plain": [
       "\u001b[1;31m╭─\u001b[0m\u001b[1;31m────────────────────────────────────────────────\u001b[0m Toxic Example \u001b[1;31m────────────────────────────────────────────────\u001b[0m\u001b[1;31m─╮\u001b[0m\n",
       "\u001b[1;31m│\u001b[0m\u001b[1;31m \u001b[0m\u001b[1;31mChange de pseudo sale traitre\u001b[0m\u001b[1;31m                                                                                  \u001b[0m\u001b[1;31m \u001b[0m\u001b[1;31m│\u001b[0m\n",
       "\u001b[1;31m╰─\u001b[0m\u001b[1;31m─────────────────────────────────────────────────\u001b[0m Index: 516 \u001b[1;31m──────────────────────────────────────────────────\u001b[0m\u001b[1;31m─╯\u001b[0m\n"
      ]
     },
     "metadata": {},
     "output_type": "display_data"
    },
    {
     "data": {
      "text/html": [
       "<pre style=\"white-space:pre;overflow-x:auto;line-height:normal;font-family:Menlo,'DejaVu Sans Mono',consolas,'Courier New',monospace\"><span style=\"color: #00ff00; text-decoration-color: #00ff00\">──────────────────────────────────────────── </span><span style=\"color: #808000; text-decoration-color: #808000; font-weight: bold\">Non-Toxic Examples (Test)</span><span style=\"color: #00ff00; text-decoration-color: #00ff00\"> ────────────────────────────────────────────</span>\n",
       "</pre>\n"
      ],
      "text/plain": [
       "\u001b[92m──────────────────────────────────────────── \u001b[0m\u001b[1;33mNon-Toxic Examples \u001b[0m\u001b[1;33m(\u001b[0m\u001b[1;33mTest\u001b[0m\u001b[1;33m)\u001b[0m\u001b[92m ────────────────────────────────────────────\u001b[0m\n"
      ]
     },
     "metadata": {},
     "output_type": "display_data"
    },
    {
     "data": {
      "text/html": [
       "<pre style=\"white-space:pre;overflow-x:auto;line-height:normal;font-family:Menlo,'DejaVu Sans Mono',consolas,'Courier New',monospace\"><span style=\"color: #008000; text-decoration-color: #008000; font-weight: bold\">╭───────────────────────────────────────────────</span> Non-Toxic Example <span style=\"color: #008000; text-decoration-color: #008000; font-weight: bold\">───────────────────────────────────────────────╮</span>\n",
       "<span style=\"color: #008000; text-decoration-color: #008000; font-weight: bold\">│ Bah oui ce sera contrôlé. Et non infalsifiable car numérique le golem.                                          │</span>\n",
       "<span style=\"color: #008000; text-decoration-color: #008000; font-weight: bold\">╰──────────────────────────────────────────────────</span> Index: 751 <span style=\"color: #008000; text-decoration-color: #008000; font-weight: bold\">───────────────────────────────────────────────────╯</span>\n",
       "</pre>\n"
      ],
      "text/plain": [
       "\u001b[1;32m╭─\u001b[0m\u001b[1;32m──────────────────────────────────────────────\u001b[0m Non-Toxic Example \u001b[1;32m──────────────────────────────────────────────\u001b[0m\u001b[1;32m─╮\u001b[0m\n",
       "\u001b[1;32m│\u001b[0m\u001b[1;32m \u001b[0m\u001b[1;32mBah oui ce sera contrôlé. Et non infalsifiable car numérique le golem.\u001b[0m\u001b[1;32m                                         \u001b[0m\u001b[1;32m \u001b[0m\u001b[1;32m│\u001b[0m\n",
       "\u001b[1;32m╰─\u001b[0m\u001b[1;32m─────────────────────────────────────────────────\u001b[0m Index: 751 \u001b[1;32m──────────────────────────────────────────────────\u001b[0m\u001b[1;32m─╯\u001b[0m\n"
      ]
     },
     "metadata": {},
     "output_type": "display_data"
    },
    {
     "data": {
      "text/html": [
       "<pre style=\"white-space:pre;overflow-x:auto;line-height:normal;font-family:Menlo,'DejaVu Sans Mono',consolas,'Courier New',monospace\"><span style=\"color: #008000; text-decoration-color: #008000; font-weight: bold\">╭───────────────────────────────────────────────</span> Non-Toxic Example <span style=\"color: #008000; text-decoration-color: #008000; font-weight: bold\">───────────────────────────────────────────────╮</span>\n",
       "<span style=\"color: #008000; text-decoration-color: #008000; font-weight: bold\">│ J'ai mon caca du matin qui arrive bordel pile avant le combat                                                   │</span>\n",
       "<span style=\"color: #008000; text-decoration-color: #008000; font-weight: bold\">╰──────────────────────────────────────────────────</span> Index: 1336 <span style=\"color: #008000; text-decoration-color: #008000; font-weight: bold\">──────────────────────────────────────────────────╯</span>\n",
       "</pre>\n"
      ],
      "text/plain": [
       "\u001b[1;32m╭─\u001b[0m\u001b[1;32m──────────────────────────────────────────────\u001b[0m Non-Toxic Example \u001b[1;32m──────────────────────────────────────────────\u001b[0m\u001b[1;32m─╮\u001b[0m\n",
       "\u001b[1;32m│\u001b[0m\u001b[1;32m \u001b[0m\u001b[1;32mJ'ai mon caca du matin qui arrive bordel pile avant le combat\u001b[0m\u001b[1;32m                                                  \u001b[0m\u001b[1;32m \u001b[0m\u001b[1;32m│\u001b[0m\n",
       "\u001b[1;32m╰─\u001b[0m\u001b[1;32m─────────────────────────────────────────────────\u001b[0m Index: 1336 \u001b[1;32m─────────────────────────────────────────────────\u001b[0m\u001b[1;32m─╯\u001b[0m\n"
      ]
     },
     "metadata": {},
     "output_type": "display_data"
    },
    {
     "data": {
      "text/html": [
       "<pre style=\"white-space:pre;overflow-x:auto;line-height:normal;font-family:Menlo,'DejaVu Sans Mono',consolas,'Courier New',monospace\"><span style=\"color: #008000; text-decoration-color: #008000; font-weight: bold\">╭───────────────────────────────────────────────</span> Non-Toxic Example <span style=\"color: #008000; text-decoration-color: #008000; font-weight: bold\">───────────────────────────────────────────────╮</span>\n",
       "<span style=\"color: #008000; text-decoration-color: #008000; font-weight: bold\">│ c'est toi qui va pleurer quand tu vas voir que l'affaiblissement des USA se traduit mathématiquement par une    │</span>\n",
       "<span style=\"color: #008000; text-decoration-color: #008000; font-weight: bold\">│ montée en force du reste du monde                                                                               │</span>\n",
       "<span style=\"color: #008000; text-decoration-color: #008000; font-weight: bold\">╰──────────────────────────────────────────────────</span> Index: 514 <span style=\"color: #008000; text-decoration-color: #008000; font-weight: bold\">───────────────────────────────────────────────────╯</span>\n",
       "</pre>\n"
      ],
      "text/plain": [
       "\u001b[1;32m╭─\u001b[0m\u001b[1;32m──────────────────────────────────────────────\u001b[0m Non-Toxic Example \u001b[1;32m──────────────────────────────────────────────\u001b[0m\u001b[1;32m─╮\u001b[0m\n",
       "\u001b[1;32m│\u001b[0m\u001b[1;32m \u001b[0m\u001b[1;32mc'est toi qui va pleurer quand tu vas voir que l'affaiblissement des USA se traduit mathématiquement par une \u001b[0m\u001b[1;32m  \u001b[0m\u001b[1;32m \u001b[0m\u001b[1;32m│\u001b[0m\n",
       "\u001b[1;32m│\u001b[0m\u001b[1;32m \u001b[0m\u001b[1;32mmontée en force du reste du monde\u001b[0m\u001b[1;32m                                                                              \u001b[0m\u001b[1;32m \u001b[0m\u001b[1;32m│\u001b[0m\n",
       "\u001b[1;32m╰─\u001b[0m\u001b[1;32m─────────────────────────────────────────────────\u001b[0m Index: 514 \u001b[1;32m──────────────────────────────────────────────────\u001b[0m\u001b[1;32m─╯\u001b[0m\n"
      ]
     },
     "metadata": {},
     "output_type": "display_data"
    }
   ],
   "source": [
    "console.rule(\"[bold yellow]Toxic Examples (Test)\")\n",
    "print_examples(df_test, label=1, n=3)\n",
    "\n",
    "console.rule(\"[bold yellow]Non-Toxic Examples (Test)\")\n",
    "print_examples(df_test, label=0, n=3)"
   ]
  },
  {
   "cell_type": "markdown",
   "id": "b8b361aa",
   "metadata": {},
   "source": [
    "## Analysis of the *human-error* rate"
   ]
  },
  {
   "cell_type": "markdown",
   "id": "72e98939",
   "metadata": {},
   "source": [
    "**Toxicity is not well defined; each human has their own perspective on it. There are two main sources of error:**\n",
    "\n",
    "* A human may be **uncertain** about the toxicity of some content.\n",
    "* Different humans may have **different definitions** of toxicity.\n",
    "\n",
    "---\n",
    "\n",
    "### **Notations:**\n",
    "\n",
    "Let $\\Sigma$ be a finite alphabet, and let $\\Sigma^*$ denote the set of all finite strings over $\\Sigma$.\n",
    "Let $L \\subseteq \\Sigma^*$ be the set of all texts in a given language (e.g., the French language).\n",
    "\n",
    "We postulate the existence of a **true toxicity function**:\n",
    "\n",
    "$$\n",
    "T : L \\to \\{0,1\\}\n",
    "$$\n",
    "\n",
    "This represents an objective notion of toxicity (possibly hypothetical or latent).\n",
    "\n",
    "However, each human $h \\in \\mathcal{H}$ has their own **subjective definition** of toxicity, represented by a function:\n",
    "\n",
    "$$\n",
    "T_h : L \\to \\{0,1\\}\n",
    "$$\n",
    "\n",
    "This function is deterministic for each individual human but varies across the population.\n",
    "\n",
    "---\n",
    "\n",
    "### **Uncertainty in Individual Judgment**\n",
    "\n",
    "When human $h$ is asked to annotate a text $s \\in L$, their response is not deterministic due to internal uncertainty, mood, context, etc. Instead, we model their **observed response** as a Bernoulli random variable:\n",
    "\n",
    "$$\n",
    "\\hat{T}_h(s) \\in \\{0,1\\}\n",
    "$$\n",
    "\n",
    "with:\n",
    "\n",
    "$$\n",
    "\\mathbb{E}[\\hat{T}_h(s)] = T_h(s)\n",
    "$$\n",
    "\n",
    "That is, their annotation is a random sample with expectation equal to their internal definition.\n",
    "\n",
    "If we take repeated annotations from the same human on the same sample (e.g., over time or in a crowd-annotated setting), the **law of large numbers** applies:\n",
    "\n",
    "$$\n",
    "\\frac{1}{n} \\sum_{i=1}^n \\hat{T}_h^{(i)}(s) \\xrightarrow[]{\\text{a.s.}} T_h(s)\n",
    "$$\n",
    "\n",
    "---\n",
    "\n",
    "### **Inter-Human Variation**\n",
    "\n",
    "Since humans have diverse backgrounds and norms, the mapping:\n",
    "\n",
    "$$\n",
    "h \\mapsto T_h\n",
    "$$\n",
    "\n",
    "can itself be viewed as a **random function** drawn from a distribution over annotators. Then for any $s \\in L$, the expected value of $T_h(s)$ across the human population is:\n",
    "\n",
    "$$\n",
    "\\mathbb{E}_{h \\sim \\mathcal{H}}[T_h(s)] =: T(s)\n",
    "$$\n",
    "\n",
    "which defines a **population-level expected toxicity** — a probabilistic consensus that approximates the “true” toxicity.\n",
    "\n",
    "--- \n",
    "\n",
    "In fact, we can define $T_{\\mathcal P}(s)$ directly as the *toxicity* of a culture as being the limit of toxicities by taking $\\mathcal P$ instead of $\\mathcal H$, therefore we show that there are different scales to talk about toxicity."
   ]
  },
  {
   "cell_type": "code",
   "execution_count": 5,
   "id": "2fc09d11",
   "metadata": {},
   "outputs": [],
   "source": [
    "# === Load and preprocess data ===\n",
    "df_auto_agreement = pd.read_csv(AUTO_AGREEMENT_PATH, encoding='utf-8')\n",
    "first_annotation = \"annotator's conclusion\"\n",
    "second_annotation = \"2nd annotation score\""
   ]
  },
  {
   "cell_type": "code",
   "execution_count": 20,
   "id": "730aed57",
   "metadata": {},
   "outputs": [],
   "source": [
    "# === Wilson CI Computation ===\n",
    "def compute_stats(count, total):\n",
    "    percent = count / total\n",
    "    ci_low, ci_high = proportion_confint(count, total, method='wilson')\n",
    "    return {\n",
    "        \"count\": count,\n",
    "        \"percent\": percent * 100,\n",
    "        \"ci_low\": ci_low * 100,\n",
    "        \"ci_high\": ci_high * 100\n",
    "    }\n",
    "\n",
    "# === Format function for table output ===\n",
    "def format_stat(s):\n",
    "    return f\"{s['count']} ( {s['percent']:.2f}% [{s['ci_low']:.2f}–{s['ci_high']:.2f}%] )\""
   ]
  },
  {
   "cell_type": "code",
   "execution_count": 21,
   "id": "d32f096e",
   "metadata": {},
   "outputs": [
    {
     "data": {
      "text/html": [
       "<pre style=\"white-space:pre;overflow-x:auto;line-height:normal;font-family:Menlo,'DejaVu Sans Mono',consolas,'Courier New',monospace\"><span style=\"font-style: italic\">                             Auto Agreement Checking Summary                             </span>\n",
       "┏━━━━━━━━━━━━━━━━━━━━━━━┳━━━━━━━━━━━━━━━━━━━━━━━━━━━━━━━┳━━━━━━━━━━━━━━━━━━━━━━━━━━━━━━━┓\n",
       "┃<span style=\"font-weight: bold\"> 2nd Annotation Choice </span>┃<span style=\"font-weight: bold\">      First annotated as toxic </span>┃<span style=\"font-weight: bold\">  First annotated as non-toxic </span>┃\n",
       "┡━━━━━━━━━━━━━━━━━━━━━━━╇━━━━━━━━━━━━━━━━━━━━━━━━━━━━━━━╇━━━━━━━━━━━━━━━━━━━━━━━━━━━━━━━┩\n",
       "│<span style=\"color: #008080; text-decoration-color: #008080\"> Merged Toxic          </span>│ 246 ( 98.40% [95.96–99.38%] ) │      7 ( 2.80% [1.36–5.67%] ) │\n",
       "│<span style=\"color: #008080; text-decoration-color: #008080\"> Yes                   </span>│ 227 ( 90.80% [86.57–93.79%] ) │      1 ( 0.40% [0.07–2.23%] ) │\n",
       "│<span style=\"color: #008080; text-decoration-color: #008080\"> Maybe yes             </span>│    19 ( 7.60% [4.92–11.56%] ) │      6 ( 2.40% [1.10–5.14%] ) │\n",
       "│<span style=\"color: #008080; text-decoration-color: #008080\"> Merge Non-Toxic       </span>│      4 ( 1.60% [0.62–4.04%] ) │ 243 ( 97.20% [94.33–98.64%] ) │\n",
       "│<span style=\"color: #008080; text-decoration-color: #008080\"> Maybe no              </span>│      4 ( 1.60% [0.62–4.04%] ) │     14 ( 5.60% [3.36–9.18%] ) │\n",
       "│<span style=\"color: #008080; text-decoration-color: #008080\"> No                    </span>│      0 ( 0.00% [0.00–1.51%] ) │ 229 ( 91.60% [87.50–94.44%] ) │\n",
       "└───────────────────────┴───────────────────────────────┴───────────────────────────────┘\n",
       "</pre>\n"
      ],
      "text/plain": [
       "\u001b[3m                             Auto Agreement Checking Summary                             \u001b[0m\n",
       "┏━━━━━━━━━━━━━━━━━━━━━━━┳━━━━━━━━━━━━━━━━━━━━━━━━━━━━━━━┳━━━━━━━━━━━━━━━━━━━━━━━━━━━━━━━┓\n",
       "┃\u001b[1m \u001b[0m\u001b[1m2nd Annotation Choice\u001b[0m\u001b[1m \u001b[0m┃\u001b[1m \u001b[0m\u001b[1m     First annotated as toxic\u001b[0m\u001b[1m \u001b[0m┃\u001b[1m \u001b[0m\u001b[1m First annotated as non-toxic\u001b[0m\u001b[1m \u001b[0m┃\n",
       "┡━━━━━━━━━━━━━━━━━━━━━━━╇━━━━━━━━━━━━━━━━━━━━━━━━━━━━━━━╇━━━━━━━━━━━━━━━━━━━━━━━━━━━━━━━┩\n",
       "│\u001b[36m \u001b[0m\u001b[36mMerged Toxic         \u001b[0m\u001b[36m \u001b[0m│ 246 ( 98.40% [95.96–99.38%] ) │      7 ( 2.80% [1.36–5.67%] ) │\n",
       "│\u001b[36m \u001b[0m\u001b[36mYes                  \u001b[0m\u001b[36m \u001b[0m│ 227 ( 90.80% [86.57–93.79%] ) │      1 ( 0.40% [0.07–2.23%] ) │\n",
       "│\u001b[36m \u001b[0m\u001b[36mMaybe yes            \u001b[0m\u001b[36m \u001b[0m│    19 ( 7.60% [4.92–11.56%] ) │      6 ( 2.40% [1.10–5.14%] ) │\n",
       "│\u001b[36m \u001b[0m\u001b[36mMerge Non-Toxic      \u001b[0m\u001b[36m \u001b[0m│      4 ( 1.60% [0.62–4.04%] ) │ 243 ( 97.20% [94.33–98.64%] ) │\n",
       "│\u001b[36m \u001b[0m\u001b[36mMaybe no             \u001b[0m\u001b[36m \u001b[0m│      4 ( 1.60% [0.62–4.04%] ) │     14 ( 5.60% [3.36–9.18%] ) │\n",
       "│\u001b[36m \u001b[0m\u001b[36mNo                   \u001b[0m\u001b[36m \u001b[0m│      0 ( 0.00% [0.00–1.51%] ) │ 229 ( 91.60% [87.50–94.44%] ) │\n",
       "└───────────────────────┴───────────────────────────────┴───────────────────────────────┘\n"
      ]
     },
     "metadata": {},
     "output_type": "display_data"
    }
   ],
   "source": [
    "df_first_toxic = df_auto_agreement[df_auto_agreement[first_annotation] == 1][second_annotation] \n",
    "df_first_non_toxic = df_auto_agreement[df_auto_agreement[first_annotation] == 0][second_annotation]\n",
    "\n",
    "table = Table(title=\"Auto Agreement Checking Summary\")\n",
    "table.add_column(\"2nd Annotation Choice\", style=\"cyan\", no_wrap=True)\n",
    "table.add_column(\"First annotated as toxic\", justify=\"right\")\n",
    "table.add_column(\"First annotated as non-toxic\", justify=\"right\")\n",
    "table.add_row(\n",
    "    \"Merged Toxic\",\n",
    "    str(format_stat(compute_stats(len(df_first_toxic[df_first_toxic > 0.5]), len(df_first_toxic)))),\n",
    "    str(format_stat(compute_stats(len(df_first_non_toxic[df_first_non_toxic > 0.5]), len(df_first_non_toxic))))\n",
    ")\n",
    "table.add_row(\n",
    "    \"Yes\",\n",
    "    str(format_stat(compute_stats(len(df_first_toxic[df_first_toxic == 1]), len(df_first_toxic)))),\n",
    "    str(format_stat(compute_stats(len(df_first_non_toxic[df_first_non_toxic == 1]), len(df_first_non_toxic))))\n",
    ")\n",
    "table.add_row(\n",
    "    \"Maybe yes\",\n",
    "    str(format_stat(compute_stats(len(df_first_toxic[df_first_toxic == 0.75]), len(df_first_toxic)))),\n",
    "    str(format_stat(compute_stats(len(df_first_non_toxic[df_first_non_toxic == 0.75]), len(df_first_non_toxic))))\n",
    ")\n",
    "table.add_row(\n",
    "    \"Merge Non-Toxic\",\n",
    "    str(format_stat(compute_stats(len(df_first_toxic[df_first_toxic < 0.5]), len(df_first_toxic)))),\n",
    "    str(format_stat(compute_stats(len(df_first_non_toxic[df_first_non_toxic < 0.5]), len(df_first_non_toxic))))\n",
    ")\n",
    "table.add_row(\n",
    "    \"Maybe no\",\n",
    "    str(format_stat(compute_stats(len(df_first_toxic[df_first_toxic == 0.25]), len(df_first_toxic)))),\n",
    "    str(format_stat(compute_stats(len(df_first_non_toxic[df_first_non_toxic == 0.25]), len(df_first_non_toxic))))\n",
    ")\n",
    "table.add_row(\n",
    "    \"No\",\n",
    "    str(format_stat(compute_stats(len(df_first_toxic[df_first_toxic == 0]), len(df_first_toxic)))),\n",
    "    str(format_stat(compute_stats(len(df_first_non_toxic[df_first_non_toxic == 0]), len(df_first_non_toxic))))\n",
    ")\n",
    "\n",
    "console.print(table)"
   ]
  },
  {
   "cell_type": "markdown",
   "id": "a0e4af69",
   "metadata": {},
   "source": [
    "## Create several experiments "
   ]
  },
  {
   "cell_type": "markdown",
   "id": "91062015",
   "metadata": {},
   "source": [
    "We will try several finetuning : \n",
    "- (r) Random order of the dataset \n",
    "    - (e) Same proportion of toxic and non-toxic content (smaller dataset) \n",
    "        - (a) With CoT finetuning\n",
    "        - (b) Without CoT finetuning\n",
    "    - (d) Different proportion of toxic and non-toxic content (bigger dataset)\n",
    "        - (a) With CoT finetuning\n",
    "            - (s) small sample (100)\n",
    "            - (m) medium sample (1000)\n",
    "            - (l) large sample (all)\n",
    "        - (b) Without CoT finetuning\n",
    "            - (s) small sample (100)\n",
    "            - (m) medium sample (1000)\n",
    "            - (l) large sample (all)\n",
    "- (o) Ordered dataset (Curriculum learning)\n",
    "    - (e) Same proportion of toxic and non-toxic content (smaller dataset) \n",
    "        - (a) With CoT finetuning\n",
    "        - (b) Without CoT finetuning\n",
    "    - (d) Different proportion of toxic and non-toxic content (bigger dataset)\n",
    "        - (a) With CoT finetuning\n",
    "            - (s) small sample (100)\n",
    "            - (m) medium sample (1000)\n",
    "            - (l) large sample (all)\n",
    "        - (b) Without CoT finetuning\n",
    "            - (s) small sample (100)\n",
    "            - (m) medium sample (1000)\n",
    "            - (l) large sample (all)\n",
    "\n",
    "We could choose an *automatic curriculum learning* approach, as some presented in the paper [A Survey on Curriculum Learning](https://ieeexplore.ieee.org/abstract/document/9392296), which has the advantage of taking into account the model's feedback, however we will choose a predefined curriculum learning approach taking benefit from the grading that GPT has done on the dataset along with statistics on the proportion of toxic content per grade and the agreement between humans and GPT, that is a measure of the difficulty of the task."
   ]
  },
  {
   "cell_type": "code",
   "execution_count": 5,
   "id": "f9d8206b",
   "metadata": {},
   "outputs": [],
   "source": [
    "df_train = CoTColumnBuilder(df_train).add_cot_column()\n",
    "df_test = CoTColumnBuilder(df_test).add_cot_column()"
   ]
  },
  {
   "cell_type": "code",
   "execution_count": 6,
   "id": "109dbf6b",
   "metadata": {},
   "outputs": [
    {
     "name": "stdout",
     "output_type": "stream",
     "text": [
      "<think>\n",
      "Explication :\n",
      "- Sujet : Imagination de dialogues par une personne.\n",
      "- Sens probable : L'auteur du message critique une personne qui crée des dialogues fictifs ou déformés, suggérant un manque de crédibilité ou une tendance à embellir la réalité.\n",
      "</think>\n",
      "<think>\n",
      "Tons :\n",
      "Tons perçus : Critique, Moqueur.\n",
      "\n",
      "Justification : Le terme « s'invente » laisse entendre un jugement négatif sur l'authenticité, tandis que l'expression « lignes de dialogues » peut suggérer une moquerie envers l'inventivité de la personne. Doutes : le ton peut varier selon le contexte.\n",
      "</think>\n",
      "<think>\n",
      "Intentions :\n",
      "**Intentions principales :**\n",
      "\n",
      "1. **Critiquer** (certitude élevée)  \n",
      "   Justification : Le choix des mots « s'invente » indique un jugement négatif sur l'authenticité et remet en question la crédibilité de la personne en cause.\n",
      "\n",
      "2. **Se moquer** (certitude élevée)  \n",
      "   Justification : L'expression « lignes de dialogues » attire une attention moqueuse et dévalorisante sur la nature fictive ou embellie des propos, suggérant une ridiculisation de la créativité perçue comme excessive.\n",
      "\n",
      "3. **Dénoncer** (certitude modérée)  \n",
      "   Justification : Sous-entendu, l'auteur semble vouloir dénoncer un comportement jugé in\n",
      "</think>\n",
      "<think>\n",
      "Catégorie(s) de toxicité implicite :\n",
      "None\n",
      "\n",
      "Justification :\n",
      "Le message critique une personne en moquant son inventivité, dévalorisant ainsi son authenticité.\n",
      "</think>\n",
      "<think>\n",
      "Labels :\n",
      "S2/H0/V0/R0/A0/I0\n",
      "\n",
      "Justification :\n",
      "Message moqueur sans contenu sexuel, haineux, violent ou sensible; l'agressivité est légère (moquerie) avec une intention ambiguë plutôt critique sans volonté manifeste de nuire.\n",
      "</think>\n",
      "<think>\n",
      "Score de toxicité :\n",
      "2/10\n",
      "\n",
      "Justification :\n",
      "Message léger, moqueur et critique sans agressivité ni propos haineux, peu susceptible d'offenser ou de provoquer une réaction négative forte.\n",
      "</think>\n",
      "\n",
      "En conclusion, ce message est-il toxique ?\n",
      "\n",
      "\n"
     ]
    }
   ],
   "source": [
    "print(df_train['cot_text'].iloc[0])"
   ]
  },
  {
   "cell_type": "code",
   "execution_count": 7,
   "id": "4930b084",
   "metadata": {},
   "outputs": [],
   "source": [
    "df_train.to_parquet(TRAIN_PATH, index=False)\n",
    "df_test.to_parquet(TEST_PATH, index=False)"
   ]
  },
  {
   "cell_type": "code",
   "execution_count": 8,
   "id": "319ea698",
   "metadata": {},
   "outputs": [
    {
     "data": {
      "text/html": [
       "<pre style=\"white-space:pre;overflow-x:auto;line-height:normal;font-family:Menlo,'DejaVu Sans Mono',consolas,'Courier New',monospace\"><span style=\"font-style: italic\">          Finetuning Dataset Splits           </span>\n",
       "┏━━━━━━━━━━━━┳━━━━━━━┳━━━━━━━━━━━━━━━━━━━━━━━┓\n",
       "┃<span style=\"font-weight: bold\"> Split Name </span>┃<span style=\"font-weight: bold\">  Rows </span>┃<span style=\"font-weight: bold\"> Toxicity distribution </span>┃\n",
       "┡━━━━━━━━━━━━╇━━━━━━━╇━━━━━━━━━━━━━━━━━━━━━━━┩\n",
       "│<span style=\"color: #008080; text-decoration-color: #008080\"> reas       </span>│   200 │   100/200 (50.00%)    │\n",
       "├────────────┼───────┼───────────────────────┤\n",
       "│<span style=\"color: #008080; text-decoration-color: #008080\"> ream       </span>│  1000 │   500/1000 (50.00%)   │\n",
       "├────────────┼───────┼───────────────────────┤\n",
       "│<span style=\"color: #008080; text-decoration-color: #008080\"> real       </span>│  4296 │  2148/4296 (50.00%)   │\n",
       "├────────────┼───────┼───────────────────────┤\n",
       "│<span style=\"color: #008080; text-decoration-color: #008080\"> rebs       </span>│   200 │   100/200 (50.00%)    │\n",
       "├────────────┼───────┼───────────────────────┤\n",
       "│<span style=\"color: #008080; text-decoration-color: #008080\"> rebm       </span>│  1000 │   500/1000 (50.00%)   │\n",
       "├────────────┼───────┼───────────────────────┤\n",
       "│<span style=\"color: #008080; text-decoration-color: #008080\"> rebl       </span>│  4296 │  2148/4296 (50.00%)   │\n",
       "├────────────┼───────┼───────────────────────┤\n",
       "│<span style=\"color: #008080; text-decoration-color: #008080\"> rdas       </span>│   200 │     9/200 (4.50%)     │\n",
       "├────────────┼───────┼───────────────────────┤\n",
       "│<span style=\"color: #008080; text-decoration-color: #008080\"> rdam       </span>│  1000 │    44/1000 (4.40%)    │\n",
       "├────────────┼───────┼───────────────────────┤\n",
       "│<span style=\"color: #008080; text-decoration-color: #008080\"> rdal       </span>│ 52274 │  2148/52274 (4.11%)   │\n",
       "├────────────┼───────┼───────────────────────┤\n",
       "│<span style=\"color: #008080; text-decoration-color: #008080\"> rdbs       </span>│   200 │     2/200 (1.00%)     │\n",
       "├────────────┼───────┼───────────────────────┤\n",
       "│<span style=\"color: #008080; text-decoration-color: #008080\"> rdbm       </span>│  1000 │    37/1000 (3.70%)    │\n",
       "├────────────┼───────┼───────────────────────┤\n",
       "│<span style=\"color: #008080; text-decoration-color: #008080\"> rdbl       </span>│ 52274 │  2148/52274 (4.11%)   │\n",
       "├────────────┼───────┼───────────────────────┤\n",
       "│<span style=\"color: #008080; text-decoration-color: #008080\"> oeas       </span>│   200 │   100/200 (50.00%)    │\n",
       "├────────────┼───────┼───────────────────────┤\n",
       "│<span style=\"color: #008080; text-decoration-color: #008080\"> oeam       </span>│  1000 │   500/1000 (50.00%)   │\n",
       "├────────────┼───────┼───────────────────────┤\n",
       "│<span style=\"color: #008080; text-decoration-color: #008080\"> oeal       </span>│  4296 │  2148/4296 (50.00%)   │\n",
       "├────────────┼───────┼───────────────────────┤\n",
       "│<span style=\"color: #008080; text-decoration-color: #008080\"> oebs       </span>│   200 │   100/200 (50.00%)    │\n",
       "├────────────┼───────┼───────────────────────┤\n",
       "│<span style=\"color: #008080; text-decoration-color: #008080\"> oebm       </span>│  1000 │   500/1000 (50.00%)   │\n",
       "├────────────┼───────┼───────────────────────┤\n",
       "│<span style=\"color: #008080; text-decoration-color: #008080\"> oebl       </span>│  4296 │  2148/4296 (50.00%)   │\n",
       "├────────────┼───────┼───────────────────────┤\n",
       "│<span style=\"color: #008080; text-decoration-color: #008080\"> odas       </span>│   200 │     8/200 (4.00%)     │\n",
       "├────────────┼───────┼───────────────────────┤\n",
       "│<span style=\"color: #008080; text-decoration-color: #008080\"> odam       </span>│  1000 │    36/1000 (3.60%)    │\n",
       "├────────────┼───────┼───────────────────────┤\n",
       "│<span style=\"color: #008080; text-decoration-color: #008080\"> odal       </span>│ 52274 │  2148/52274 (4.11%)   │\n",
       "├────────────┼───────┼───────────────────────┤\n",
       "│<span style=\"color: #008080; text-decoration-color: #008080\"> odbs       </span>│   200 │     5/200 (2.50%)     │\n",
       "├────────────┼───────┼───────────────────────┤\n",
       "│<span style=\"color: #008080; text-decoration-color: #008080\"> odbm       </span>│  1000 │    36/1000 (3.60%)    │\n",
       "├────────────┼───────┼───────────────────────┤\n",
       "│<span style=\"color: #008080; text-decoration-color: #008080\"> odbl       </span>│ 52274 │  2148/52274 (4.11%)   │\n",
       "└────────────┴───────┴───────────────────────┘\n",
       "</pre>\n"
      ],
      "text/plain": [
       "\u001b[3m          Finetuning Dataset Splits           \u001b[0m\n",
       "┏━━━━━━━━━━━━┳━━━━━━━┳━━━━━━━━━━━━━━━━━━━━━━━┓\n",
       "┃\u001b[1m \u001b[0m\u001b[1mSplit Name\u001b[0m\u001b[1m \u001b[0m┃\u001b[1m \u001b[0m\u001b[1m Rows\u001b[0m\u001b[1m \u001b[0m┃\u001b[1m \u001b[0m\u001b[1mToxicity distribution\u001b[0m\u001b[1m \u001b[0m┃\n",
       "┡━━━━━━━━━━━━╇━━━━━━━╇━━━━━━━━━━━━━━━━━━━━━━━┩\n",
       "│\u001b[36m \u001b[0m\u001b[36mreas      \u001b[0m\u001b[36m \u001b[0m│   200 │   100/200 (50.00%)    │\n",
       "├────────────┼───────┼───────────────────────┤\n",
       "│\u001b[36m \u001b[0m\u001b[36mream      \u001b[0m\u001b[36m \u001b[0m│  1000 │   500/1000 (50.00%)   │\n",
       "├────────────┼───────┼───────────────────────┤\n",
       "│\u001b[36m \u001b[0m\u001b[36mreal      \u001b[0m\u001b[36m \u001b[0m│  4296 │  2148/4296 (50.00%)   │\n",
       "├────────────┼───────┼───────────────────────┤\n",
       "│\u001b[36m \u001b[0m\u001b[36mrebs      \u001b[0m\u001b[36m \u001b[0m│   200 │   100/200 (50.00%)    │\n",
       "├────────────┼───────┼───────────────────────┤\n",
       "│\u001b[36m \u001b[0m\u001b[36mrebm      \u001b[0m\u001b[36m \u001b[0m│  1000 │   500/1000 (50.00%)   │\n",
       "├────────────┼───────┼───────────────────────┤\n",
       "│\u001b[36m \u001b[0m\u001b[36mrebl      \u001b[0m\u001b[36m \u001b[0m│  4296 │  2148/4296 (50.00%)   │\n",
       "├────────────┼───────┼───────────────────────┤\n",
       "│\u001b[36m \u001b[0m\u001b[36mrdas      \u001b[0m\u001b[36m \u001b[0m│   200 │     9/200 (4.50%)     │\n",
       "├────────────┼───────┼───────────────────────┤\n",
       "│\u001b[36m \u001b[0m\u001b[36mrdam      \u001b[0m\u001b[36m \u001b[0m│  1000 │    44/1000 (4.40%)    │\n",
       "├────────────┼───────┼───────────────────────┤\n",
       "│\u001b[36m \u001b[0m\u001b[36mrdal      \u001b[0m\u001b[36m \u001b[0m│ 52274 │  2148/52274 (4.11%)   │\n",
       "├────────────┼───────┼───────────────────────┤\n",
       "│\u001b[36m \u001b[0m\u001b[36mrdbs      \u001b[0m\u001b[36m \u001b[0m│   200 │     2/200 (1.00%)     │\n",
       "├────────────┼───────┼───────────────────────┤\n",
       "│\u001b[36m \u001b[0m\u001b[36mrdbm      \u001b[0m\u001b[36m \u001b[0m│  1000 │    37/1000 (3.70%)    │\n",
       "├────────────┼───────┼───────────────────────┤\n",
       "│\u001b[36m \u001b[0m\u001b[36mrdbl      \u001b[0m\u001b[36m \u001b[0m│ 52274 │  2148/52274 (4.11%)   │\n",
       "├────────────┼───────┼───────────────────────┤\n",
       "│\u001b[36m \u001b[0m\u001b[36moeas      \u001b[0m\u001b[36m \u001b[0m│   200 │   100/200 (50.00%)    │\n",
       "├────────────┼───────┼───────────────────────┤\n",
       "│\u001b[36m \u001b[0m\u001b[36moeam      \u001b[0m\u001b[36m \u001b[0m│  1000 │   500/1000 (50.00%)   │\n",
       "├────────────┼───────┼───────────────────────┤\n",
       "│\u001b[36m \u001b[0m\u001b[36moeal      \u001b[0m\u001b[36m \u001b[0m│  4296 │  2148/4296 (50.00%)   │\n",
       "├────────────┼───────┼───────────────────────┤\n",
       "│\u001b[36m \u001b[0m\u001b[36moebs      \u001b[0m\u001b[36m \u001b[0m│   200 │   100/200 (50.00%)    │\n",
       "├────────────┼───────┼───────────────────────┤\n",
       "│\u001b[36m \u001b[0m\u001b[36moebm      \u001b[0m\u001b[36m \u001b[0m│  1000 │   500/1000 (50.00%)   │\n",
       "├────────────┼───────┼───────────────────────┤\n",
       "│\u001b[36m \u001b[0m\u001b[36moebl      \u001b[0m\u001b[36m \u001b[0m│  4296 │  2148/4296 (50.00%)   │\n",
       "├────────────┼───────┼───────────────────────┤\n",
       "│\u001b[36m \u001b[0m\u001b[36modas      \u001b[0m\u001b[36m \u001b[0m│   200 │     8/200 (4.00%)     │\n",
       "├────────────┼───────┼───────────────────────┤\n",
       "│\u001b[36m \u001b[0m\u001b[36modam      \u001b[0m\u001b[36m \u001b[0m│  1000 │    36/1000 (3.60%)    │\n",
       "├────────────┼───────┼───────────────────────┤\n",
       "│\u001b[36m \u001b[0m\u001b[36modal      \u001b[0m\u001b[36m \u001b[0m│ 52274 │  2148/52274 (4.11%)   │\n",
       "├────────────┼───────┼───────────────────────┤\n",
       "│\u001b[36m \u001b[0m\u001b[36modbs      \u001b[0m\u001b[36m \u001b[0m│   200 │     5/200 (2.50%)     │\n",
       "├────────────┼───────┼───────────────────────┤\n",
       "│\u001b[36m \u001b[0m\u001b[36modbm      \u001b[0m\u001b[36m \u001b[0m│  1000 │    36/1000 (3.60%)    │\n",
       "├────────────┼───────┼───────────────────────┤\n",
       "│\u001b[36m \u001b[0m\u001b[36modbl      \u001b[0m\u001b[36m \u001b[0m│ 52274 │  2148/52274 (4.11%)   │\n",
       "└────────────┴───────┴───────────────────────┘\n"
      ]
     },
     "metadata": {},
     "output_type": "display_data"
    }
   ],
   "source": [
    "builder = FinetuneDatasetBuilder(df_train)\n",
    "all_splits = builder.build_all()\n",
    "\n",
    "keep_columns = [\n",
    "    \"msg_id\", \n",
    "    \"content\", \n",
    "    \"cot_text\",\n",
    "    \"literal_conclusion_annotator\",\n",
    "]\n",
    "\n",
    "for split_name, split_df in all_splits.items():\n",
    "    path_output = DATA_PATH\n",
    "    for i, letter in enumerate(split_name):\n",
    "        path_output = path_output / letter\n",
    "    path_output.mkdir(parents=True, exist_ok=True)\n",
    "    split_df = split_df[[col for col in keep_columns if col in split_df.columns]]\n",
    "    split_df.to_csv(path_output / f\"train_{split_name}.csv\", encoding='utf-8', index=False)\n",
    "\n",
    "table = Table(title=\"Finetuning Dataset Splits\", show_lines=True)\n",
    "table.add_column(\"Split Name\", style=\"cyan\", no_wrap=True)\n",
    "table.add_column(\"Rows\", justify=\"right\")\n",
    "table.add_column(\"Toxicity distribution\", justify=\"center\")\n",
    "\n",
    "for (order, prop, cot, size) in [\n",
    "        (order, prop, cot, size)\n",
    "        for order in (\"r\", \"o\")  # random | ordered\n",
    "        for prop in (\"e\", \"d\")  # equal | different\n",
    "        for cot in (\"a\", \"b\")  # with CoT | without CoT\n",
    "        for size in (\"s\", \"m\", \"l\")  # small | medium | large\n",
    "    ]:\n",
    "    split_name = f\"{order}{prop}{cot}{size}\"\n",
    "    split_df = all_splits[split_name]\n",
    "    toxicity_count = split_df[\"literal_conclusion_annotator\"].apply(lambda x: x == \"oui\").sum()\n",
    "    total_count = len(split_df)\n",
    "    toxicity_distribution = f\"{toxicity_count}/{total_count} ({toxicity_count / total_count:.2%})\"\n",
    "    table.add_row(\n",
    "        split_name,\n",
    "        str(total_count),\n",
    "        toxicity_distribution\n",
    "    )\n",
    "console.print(table)"
   ]
  },
  {
   "cell_type": "markdown",
   "id": "f2f2e418",
   "metadata": {},
   "source": [
    "## Looking at the `Dataset` format "
   ]
  },
  {
   "cell_type": "markdown",
   "id": "11b7d73b",
   "metadata": {},
   "source": [
    "Each dataset looks like : \n",
    "\n",
    "| Column                         | Type  | Description                                                                   |\n",
    "| ------------------------------ | ----- | ----------------------------------------------------------------------------- |\n",
    "| `msg_id`                       | `str` | Unique ID for the message (anonimized)                                        |\n",
    "| `content`                      | `str` | Raw message text to analyze (possibly toxic)                                  |\n",
    "| `cot_text`                     | `str` | Rich, multi-paragraph **Chain-of-Thought analysis** (in Markdown-like format) |\n",
    "| `literal_conclusion_annotator` | `str` | Final binary decision by annotator (e.g., `\"oui\"` or `\"non\"`)                 |"
   ]
  },
  {
   "cell_type": "code",
   "execution_count": 11,
   "id": "72fbd612",
   "metadata": {},
   "outputs": [],
   "source": [
    "path_of_csv = DATA_PATH / 'o' / 'd' / 'a' / 'l' / 'train_odal.csv'"
   ]
  },
  {
   "cell_type": "code",
   "execution_count": 12,
   "id": "b06d2bd3",
   "metadata": {},
   "outputs": [],
   "source": [
    "from datasets import load_dataset, DatasetDict\n",
    "from huggingface_hub import login\n",
    "from pathlib import Path\n",
    "import os\n",
    "from huggingface_hub import HfApi"
   ]
  },
  {
   "cell_type": "code",
   "execution_count": 13,
   "id": "13a805b5",
   "metadata": {},
   "outputs": [],
   "source": [
    "proxy_address=\"socks5h://127.0.0.1:1080\"\n",
    "os.environ[\"HTTP_PROXY\"] = proxy_address\n",
    "os.environ[\"HTTPS_PROXY\"] = proxy_address"
   ]
  },
  {
   "cell_type": "code",
   "execution_count": 14,
   "id": "03a02a2a",
   "metadata": {},
   "outputs": [],
   "source": [
    "login(token=Path('../data/confidential/hf_token.txt').read_text().strip())"
   ]
  },
  {
   "cell_type": "code",
   "execution_count": 15,
   "id": "a54e724b",
   "metadata": {},
   "outputs": [
    {
     "data": {
      "application/vnd.jupyter.widget-view+json": {
       "model_id": "af72345f186e491584034aaabf17cfe8",
       "version_major": 2,
       "version_minor": 0
      },
      "text/plain": [
       "Generating train split: 0 examples [00:00, ? examples/s]"
      ]
     },
     "metadata": {},
     "output_type": "display_data"
    },
    {
     "data": {
      "application/vnd.jupyter.widget-view+json": {
       "model_id": "ba14641d20cc4de388e20a566e4bd78e",
       "version_major": 2,
       "version_minor": 0
      },
      "text/plain": [
       "Generating train split: 0 examples [00:00, ? examples/s]"
      ]
     },
     "metadata": {},
     "output_type": "display_data"
    },
    {
     "data": {
      "application/vnd.jupyter.widget-view+json": {
       "model_id": "31fb6f98dbe844a6983c5647809fb0b4",
       "version_major": 2,
       "version_minor": 0
      },
      "text/plain": [
       "Generating train split: 0 examples [00:00, ? examples/s]"
      ]
     },
     "metadata": {},
     "output_type": "display_data"
    },
    {
     "data": {
      "application/vnd.jupyter.widget-view+json": {
       "model_id": "4c757be8c50247a78fec561fc5d53a9e",
       "version_major": 2,
       "version_minor": 0
      },
      "text/plain": [
       "Generating train split: 0 examples [00:00, ? examples/s]"
      ]
     },
     "metadata": {},
     "output_type": "display_data"
    },
    {
     "data": {
      "application/vnd.jupyter.widget-view+json": {
       "model_id": "6ac3ca2c89db41f18dc7f2acebca4412",
       "version_major": 2,
       "version_minor": 0
      },
      "text/plain": [
       "Generating train split: 0 examples [00:00, ? examples/s]"
      ]
     },
     "metadata": {},
     "output_type": "display_data"
    },
    {
     "data": {
      "application/vnd.jupyter.widget-view+json": {
       "model_id": "e375cc689a18486fa82685230fa4ff6c",
       "version_major": 2,
       "version_minor": 0
      },
      "text/plain": [
       "Generating train split: 0 examples [00:00, ? examples/s]"
      ]
     },
     "metadata": {},
     "output_type": "display_data"
    },
    {
     "data": {
      "application/vnd.jupyter.widget-view+json": {
       "model_id": "474d1947314641aa8a4a525a78b2a02f",
       "version_major": 2,
       "version_minor": 0
      },
      "text/plain": [
       "Generating train split: 0 examples [00:00, ? examples/s]"
      ]
     },
     "metadata": {},
     "output_type": "display_data"
    },
    {
     "data": {
      "application/vnd.jupyter.widget-view+json": {
       "model_id": "d13a3f82d07b4444b3958cd9d248fed3",
       "version_major": 2,
       "version_minor": 0
      },
      "text/plain": [
       "Generating train split: 0 examples [00:00, ? examples/s]"
      ]
     },
     "metadata": {},
     "output_type": "display_data"
    },
    {
     "data": {
      "application/vnd.jupyter.widget-view+json": {
       "model_id": "4194dc0864904b51a7a2299230d2a312",
       "version_major": 2,
       "version_minor": 0
      },
      "text/plain": [
       "Generating train split: 0 examples [00:00, ? examples/s]"
      ]
     },
     "metadata": {},
     "output_type": "display_data"
    },
    {
     "data": {
      "application/vnd.jupyter.widget-view+json": {
       "model_id": "f9d9b0272f314ed3afb82cce7e06635a",
       "version_major": 2,
       "version_minor": 0
      },
      "text/plain": [
       "Generating train split: 0 examples [00:00, ? examples/s]"
      ]
     },
     "metadata": {},
     "output_type": "display_data"
    },
    {
     "data": {
      "application/vnd.jupyter.widget-view+json": {
       "model_id": "0017cfcb22574ecd9b56b27b1c244b8d",
       "version_major": 2,
       "version_minor": 0
      },
      "text/plain": [
       "Generating train split: 0 examples [00:00, ? examples/s]"
      ]
     },
     "metadata": {},
     "output_type": "display_data"
    },
    {
     "data": {
      "application/vnd.jupyter.widget-view+json": {
       "model_id": "8586ce3a4ad34adda1fe2e40cd5f2364",
       "version_major": 2,
       "version_minor": 0
      },
      "text/plain": [
       "Generating train split: 0 examples [00:00, ? examples/s]"
      ]
     },
     "metadata": {},
     "output_type": "display_data"
    },
    {
     "data": {
      "application/vnd.jupyter.widget-view+json": {
       "model_id": "bc13fc85ff6e4c88adecb2d169fbcda7",
       "version_major": 2,
       "version_minor": 0
      },
      "text/plain": [
       "Generating train split: 0 examples [00:00, ? examples/s]"
      ]
     },
     "metadata": {},
     "output_type": "display_data"
    },
    {
     "data": {
      "application/vnd.jupyter.widget-view+json": {
       "model_id": "0b6ddf8e36104861858f768881824461",
       "version_major": 2,
       "version_minor": 0
      },
      "text/plain": [
       "Generating train split: 0 examples [00:00, ? examples/s]"
      ]
     },
     "metadata": {},
     "output_type": "display_data"
    },
    {
     "data": {
      "application/vnd.jupyter.widget-view+json": {
       "model_id": "fd175f083d054f97a46b36279fd26d42",
       "version_major": 2,
       "version_minor": 0
      },
      "text/plain": [
       "Generating train split: 0 examples [00:00, ? examples/s]"
      ]
     },
     "metadata": {},
     "output_type": "display_data"
    },
    {
     "data": {
      "application/vnd.jupyter.widget-view+json": {
       "model_id": "06d5f8e324a842f78cab5f180f6cb70b",
       "version_major": 2,
       "version_minor": 0
      },
      "text/plain": [
       "Generating train split: 0 examples [00:00, ? examples/s]"
      ]
     },
     "metadata": {},
     "output_type": "display_data"
    },
    {
     "data": {
      "application/vnd.jupyter.widget-view+json": {
       "model_id": "2bea01485fdf49c6a57b1af6e5e7a613",
       "version_major": 2,
       "version_minor": 0
      },
      "text/plain": [
       "Generating train split: 0 examples [00:00, ? examples/s]"
      ]
     },
     "metadata": {},
     "output_type": "display_data"
    },
    {
     "data": {
      "application/vnd.jupyter.widget-view+json": {
       "model_id": "b0ceb783ac014e7da9975651c29d1488",
       "version_major": 2,
       "version_minor": 0
      },
      "text/plain": [
       "Generating train split: 0 examples [00:00, ? examples/s]"
      ]
     },
     "metadata": {},
     "output_type": "display_data"
    },
    {
     "data": {
      "application/vnd.jupyter.widget-view+json": {
       "model_id": "2cc6ceea2e88407cb1bc921c2c60bb14",
       "version_major": 2,
       "version_minor": 0
      },
      "text/plain": [
       "Generating train split: 0 examples [00:00, ? examples/s]"
      ]
     },
     "metadata": {},
     "output_type": "display_data"
    },
    {
     "data": {
      "application/vnd.jupyter.widget-view+json": {
       "model_id": "ae54e171eb9c436e8e75806216a16860",
       "version_major": 2,
       "version_minor": 0
      },
      "text/plain": [
       "Generating train split: 0 examples [00:00, ? examples/s]"
      ]
     },
     "metadata": {},
     "output_type": "display_data"
    },
    {
     "data": {
      "application/vnd.jupyter.widget-view+json": {
       "model_id": "1979d621c70a42e9b68ca676fbfdc57e",
       "version_major": 2,
       "version_minor": 0
      },
      "text/plain": [
       "Generating train split: 0 examples [00:00, ? examples/s]"
      ]
     },
     "metadata": {},
     "output_type": "display_data"
    },
    {
     "data": {
      "application/vnd.jupyter.widget-view+json": {
       "model_id": "168771843a634ef7b8e4c93ec42e56d8",
       "version_major": 2,
       "version_minor": 0
      },
      "text/plain": [
       "Generating train split: 0 examples [00:00, ? examples/s]"
      ]
     },
     "metadata": {},
     "output_type": "display_data"
    },
    {
     "data": {
      "application/vnd.jupyter.widget-view+json": {
       "model_id": "55bd09d9412a404e9f850df19883e960",
       "version_major": 2,
       "version_minor": 0
      },
      "text/plain": [
       "Generating train split: 0 examples [00:00, ? examples/s]"
      ]
     },
     "metadata": {},
     "output_type": "display_data"
    },
    {
     "data": {
      "application/vnd.jupyter.widget-view+json": {
       "model_id": "e8610c0d5c5042d68a74629f4b388fb4",
       "version_major": 2,
       "version_minor": 0
      },
      "text/plain": [
       "Generating train split: 0 examples [00:00, ? examples/s]"
      ]
     },
     "metadata": {},
     "output_type": "display_data"
    },
    {
     "data": {
      "application/vnd.jupyter.widget-view+json": {
       "model_id": "17cfc07fc3c840418685d2dc28c14d7d",
       "version_major": 2,
       "version_minor": 0
      },
      "text/plain": [
       "Generating train split: 0 examples [00:00, ? examples/s]"
      ]
     },
     "metadata": {},
     "output_type": "display_data"
    },
    {
     "name": "stdout",
     "output_type": "stream",
     "text": [
      "Loaded experiments: ['oebm', 'oebs', 'oebl', 'oeam', 'oeas', 'oeal', 'odbm', 'odbs', 'odbl', 'odam', 'odas', 'odal', 'rebm', 'rebs', 'rebl', 'ream', 'reas', 'real', 'rdbm', 'rdbs', 'rdbl', 'rdam', 'rdas', 'rdal']\n",
      "Sample from 'odal': {'msg_id': 'anon_msg_cdfe18ce3ff1', 'content': 'Faut les crever ces SALES JUIFS DE MERDE 😂', 'cot_text': '<think>\\nExplication :\\n**Sujet du message** : Attitude hostile envers un groupe particulier.\\n\\n**Sens probable** : L\\'auteur exprime des sentiments de haine ou de mépris à l\\'égard des Juifs, utilisant un langage vulgaire et provocateur. \\n\\n**Explication** : Le terme \"SALES JUIFS\" représente une insulte stéréotypée envers les Juifs, et \"crever\" signifie faire souffrir ou tuer. Utilisation de symboles d’amusement, ici un emoji rieur, renforce le caractère offensant du propos.\\n</think>\\n<think>\\nTons :\\nTons perçus : \\n\\n1. **Hostile** (certitude élevée) : L\\'auteur manifeste une haine claire envers un groupe religieux/ethnique, avec des insultes directes.\\n2. **Provocateur** (certitude élevée) : L\\'usage d\\'un langage violent et d\\'un emoji humoristique vise à choquer et à provoquer une réaction.\\n3. **Méprisant** (certitude élevée) : Le langage dégradant dénote un profond mépris pour le groupe visé.\\n\\nDoutes : Il est possible qu\\'une tentative de sarcasme existe, mais le ton général est clairement négatif.\\n</think>\\n<think>\\nIntentions :\\n1. **Dénoncer** (certitude faible) : Bien que l\\'intention principale semble hostile, il pourrait y avoir une volonté d\\'exprimer une rébellion sociale contre un groupe identifié, mais cela est en grande partie masqué par le ton agressif.\\n\\n2. **Inciter à la violence** (certitude élevée) : L\\'appel à \"crever\" un groupe spécifique suggère clairement une intention de provoquer des actes violents contre les Juifs.\\n\\n3. **Déshumaniser** (certitude élevée) : En utilisant des termes dégradants comme \"SALES JUIFS DE MERDE,\" l\\'auteur cherche à réduire ce groupe à un objet de mépris, niant son humanité.\\n\\n4. **Provocation** (certitude très élevée) : L\\'emploi d’un emoji rieur dans un contexte de langage violent indique une volonté délibérée de choquer le lecteur et de susciter une réaction émotionnelle. \\n\\nCes intentions se conjuguent pour refléter un message profondément haineux et violent.\\n</think>\\n<think>\\nCatégorie(s) de toxicité implicite :\\nÉvocation d’un propos toxique avec adhésion\\n\\nJustification :\\nL\\'auteur exprime explicitement une haine violente envers un groupe, renforcée par un emoji moqueur.\\n</think>\\n<think>\\nLabels :\\nS1/H2/V0/R0/A2/I2\\n\\nJustification :\\nLe message contient une incitation explicite à la violence sur un groupe, utilise un langage déshumanisant et hostile, et vise clairement à choquer.\\n</think>\\n<think>\\nScore de toxicité :\\n10/10\\n\\nJustification :\\nMessage explicitement haineux, violent, déshumanisant avec incitation claire à la violence, aggravé par la provocation moqueuse, conditions d’un propos moralement condamnable et illégal.\\n</think>\\n\\nEn conclusion, ce message est-il toxique ?\\n\\n', 'literal_conclusion_annotator': 'oui'}\n"
     ]
    }
   ],
   "source": [
    "test_path = DATA_PATH / \"finetuning_test.parquet\"\n",
    "\n",
    "# Load shared test set once\n",
    "shared_test = load_dataset(\"parquet\", data_files=str(test_path))[\"train\"]\n",
    "\n",
    "# Prepare experiment datasets\n",
    "experiments = {}\n",
    "\n",
    "# Search for train_*.csv recursively\n",
    "for csv_path in DATA_PATH.rglob(\"train_*.csv\"):\n",
    "    experiment_name = csv_path.stem.replace(\"train_\", \"\")  # e.g. \"odal\"\n",
    "    train_dataset = load_dataset(\"csv\", data_files=str(csv_path))[\"train\"]\n",
    "\n",
    "    # Create DatasetDict with shared test\n",
    "    experiments[experiment_name] = DatasetDict({\n",
    "        \"train\": train_dataset,\n",
    "        \"test\": shared_test\n",
    "    })\n",
    "\n",
    "# ✅ Example: print available experiments\n",
    "print(\"Loaded experiments:\", list(experiments.keys()))\n",
    "print(\"Sample from 'odal':\", experiments[\"odal\"][\"train\"][0])\n"
   ]
  },
  {
   "cell_type": "code",
   "execution_count": 16,
   "id": "158a8006",
   "metadata": {},
   "outputs": [],
   "source": [
    "cols_to_keep = ['msg_id', 'content', 'cot_text', 'literal_conclusion_annotator']\n",
    "\n",
    "# Replace test split in all experiments with trimmed version\n",
    "trimmed_test = shared_test.remove_columns(\n",
    "    [col for col in shared_test.column_names if col not in cols_to_keep]\n",
    ")\n",
    "\n",
    "# Then build unified DatasetDict\n",
    "combined = {f\"train_{k}\": v[\"train\"] for k, v in experiments.items()}\n",
    "combined[\"test\"] = trimmed_test\n",
    "\n",
    "from datasets import DatasetDict\n",
    "combined_ds = DatasetDict(combined)"
   ]
  },
  {
   "cell_type": "code",
   "execution_count": 17,
   "id": "fef6c951",
   "metadata": {},
   "outputs": [
    {
     "data": {
      "text/plain": [
       "'<think>\\nExplication :\\n**Sujet du message** : Attitude hostile envers un groupe particulier.\\n\\n**Sens probable** : L\\'auteur exprime des sentiments de haine ou de mépris à l\\'égard des Juifs, utilisant un langage vulgaire et provocateur. \\n\\n**Explication** : Le terme \"SALES JUIFS\" représente une insulte stéréotypée envers les Juifs, et \"crever\" signifie faire souffrir ou tuer. Utilisation de symboles d’amusement, ici un emoji rieur, renforce le caractère offensant du propos.\\n</think>\\n<think>\\nTons :\\nTons perçus : \\n\\n1. **Hostile** (certitude élevée) : L\\'auteur manifeste une haine claire envers un groupe religieux/ethnique, avec des insultes directes.\\n2. **Provocateur** (certitude élevée) : L\\'usage d\\'un langage violent et d\\'un emoji humoristique vise à choquer et à provoquer une réaction.\\n3. **Méprisant** (certitude élevée) : Le langage dégradant dénote un profond mépris pour le groupe visé.\\n\\nDoutes : Il est possible qu\\'une tentative de sarcasme existe, mais le ton général est clairement négatif.\\n</think>\\n<think>\\nIntentions :\\n1. **Dénoncer** (certitude faible) : Bien que l\\'intention principale semble hostile, il pourrait y avoir une volonté d\\'exprimer une rébellion sociale contre un groupe identifié, mais cela est en grande partie masqué par le ton agressif.\\n\\n2. **Inciter à la violence** (certitude élevée) : L\\'appel à \"crever\" un groupe spécifique suggère clairement une intention de provoquer des actes violents contre les Juifs.\\n\\n3. **Déshumaniser** (certitude élevée) : En utilisant des termes dégradants comme \"SALES JUIFS DE MERDE,\" l\\'auteur cherche à réduire ce groupe à un objet de mépris, niant son humanité.\\n\\n4. **Provocation** (certitude très élevée) : L\\'emploi d’un emoji rieur dans un contexte de langage violent indique une volonté délibérée de choquer le lecteur et de susciter une réaction émotionnelle. \\n\\nCes intentions se conjuguent pour refléter un message profondément haineux et violent.\\n</think>\\n<think>\\nCatégorie(s) de toxicité implicite :\\nÉvocation d’un propos toxique avec adhésion\\n\\nJustification :\\nL\\'auteur exprime explicitement une haine violente envers un groupe, renforcée par un emoji moqueur.\\n</think>\\n<think>\\nLabels :\\nS1/H2/V0/R0/A2/I2\\n\\nJustification :\\nLe message contient une incitation explicite à la violence sur un groupe, utilise un langage déshumanisant et hostile, et vise clairement à choquer.\\n</think>\\n<think>\\nScore de toxicité :\\n10/10\\n\\nJustification :\\nMessage explicitement haineux, violent, déshumanisant avec incitation claire à la violence, aggravé par la provocation moqueuse, conditions d’un propos moralement condamnable et illégal.\\n</think>\\n\\nEn conclusion, ce message est-il toxique ?\\n\\n'"
      ]
     },
     "execution_count": 17,
     "metadata": {},
     "output_type": "execute_result"
    }
   ],
   "source": [
    "combined_ds['train_odal']['cot_text'][0]"
   ]
  },
  {
   "cell_type": "code",
   "execution_count": 18,
   "id": "0a3e7f91",
   "metadata": {},
   "outputs": [
    {
     "data": {
      "application/vnd.jupyter.widget-view+json": {
       "model_id": "ab273768f1e34e5986c9e96b86ed3a13",
       "version_major": 2,
       "version_minor": 0
      },
      "text/plain": [
       "Uploading the dataset shards:   0%|          | 0/1 [00:00<?, ?it/s]"
      ]
     },
     "metadata": {},
     "output_type": "display_data"
    },
    {
     "data": {
      "application/vnd.jupyter.widget-view+json": {
       "model_id": "7e1a88556ba94366a774c5d3978cf097",
       "version_major": 2,
       "version_minor": 0
      },
      "text/plain": [
       "Creating parquet from Arrow format:   0%|          | 0/1 [00:00<?, ?ba/s]"
      ]
     },
     "metadata": {},
     "output_type": "display_data"
    },
    {
     "data": {
      "application/vnd.jupyter.widget-view+json": {
       "model_id": "939dadad3c944de9b77c9ebedda8d68a",
       "version_major": 2,
       "version_minor": 0
      },
      "text/plain": [
       "Uploading the dataset shards:   0%|          | 0/1 [00:00<?, ?it/s]"
      ]
     },
     "metadata": {},
     "output_type": "display_data"
    },
    {
     "data": {
      "application/vnd.jupyter.widget-view+json": {
       "model_id": "016de93903c748c7a33c8f632a9d5101",
       "version_major": 2,
       "version_minor": 0
      },
      "text/plain": [
       "Creating parquet from Arrow format:   0%|          | 0/1 [00:00<?, ?ba/s]"
      ]
     },
     "metadata": {},
     "output_type": "display_data"
    },
    {
     "data": {
      "application/vnd.jupyter.widget-view+json": {
       "model_id": "f364162dd4084b7798cfe9b1c01e698c",
       "version_major": 2,
       "version_minor": 0
      },
      "text/plain": [
       "Uploading the dataset shards:   0%|          | 0/1 [00:00<?, ?it/s]"
      ]
     },
     "metadata": {},
     "output_type": "display_data"
    },
    {
     "data": {
      "application/vnd.jupyter.widget-view+json": {
       "model_id": "7b0e7bf5b9394fa2ab89a4ef9290bf3e",
       "version_major": 2,
       "version_minor": 0
      },
      "text/plain": [
       "Creating parquet from Arrow format:   0%|          | 0/5 [00:00<?, ?ba/s]"
      ]
     },
     "metadata": {},
     "output_type": "display_data"
    },
    {
     "data": {
      "application/vnd.jupyter.widget-view+json": {
       "model_id": "ac8c1400183846009f66950341f483ff",
       "version_major": 2,
       "version_minor": 0
      },
      "text/plain": [
       "Uploading the dataset shards:   0%|          | 0/1 [00:00<?, ?it/s]"
      ]
     },
     "metadata": {},
     "output_type": "display_data"
    },
    {
     "data": {
      "application/vnd.jupyter.widget-view+json": {
       "model_id": "b29533a3e8f644bd8ef6780acea52234",
       "version_major": 2,
       "version_minor": 0
      },
      "text/plain": [
       "Creating parquet from Arrow format:   0%|          | 0/1 [00:00<?, ?ba/s]"
      ]
     },
     "metadata": {},
     "output_type": "display_data"
    },
    {
     "data": {
      "application/vnd.jupyter.widget-view+json": {
       "model_id": "33cc9647432e4c399d6ef911fe7236ff",
       "version_major": 2,
       "version_minor": 0
      },
      "text/plain": [
       "Uploading the dataset shards:   0%|          | 0/1 [00:00<?, ?it/s]"
      ]
     },
     "metadata": {},
     "output_type": "display_data"
    },
    {
     "data": {
      "application/vnd.jupyter.widget-view+json": {
       "model_id": "73d8f14bf0cb4a108b552428981e707d",
       "version_major": 2,
       "version_minor": 0
      },
      "text/plain": [
       "Creating parquet from Arrow format:   0%|          | 0/1 [00:00<?, ?ba/s]"
      ]
     },
     "metadata": {},
     "output_type": "display_data"
    },
    {
     "data": {
      "application/vnd.jupyter.widget-view+json": {
       "model_id": "8a2c68f11f834d4895f6c55ad68132be",
       "version_major": 2,
       "version_minor": 0
      },
      "text/plain": [
       "Uploading the dataset shards:   0%|          | 0/1 [00:00<?, ?it/s]"
      ]
     },
     "metadata": {},
     "output_type": "display_data"
    },
    {
     "data": {
      "application/vnd.jupyter.widget-view+json": {
       "model_id": "91069fc428e641ee8bc8921c604ed5c3",
       "version_major": 2,
       "version_minor": 0
      },
      "text/plain": [
       "Creating parquet from Arrow format:   0%|          | 0/5 [00:00<?, ?ba/s]"
      ]
     },
     "metadata": {},
     "output_type": "display_data"
    },
    {
     "data": {
      "application/vnd.jupyter.widget-view+json": {
       "model_id": "8c16a94cad22428e9f41cbddf673d4ca",
       "version_major": 2,
       "version_minor": 0
      },
      "text/plain": [
       "Uploading the dataset shards:   0%|          | 0/1 [00:00<?, ?it/s]"
      ]
     },
     "metadata": {},
     "output_type": "display_data"
    },
    {
     "data": {
      "application/vnd.jupyter.widget-view+json": {
       "model_id": "51b71d82efc74d28ad631bc21b82394b",
       "version_major": 2,
       "version_minor": 0
      },
      "text/plain": [
       "Creating parquet from Arrow format:   0%|          | 0/1 [00:00<?, ?ba/s]"
      ]
     },
     "metadata": {},
     "output_type": "display_data"
    },
    {
     "data": {
      "application/vnd.jupyter.widget-view+json": {
       "model_id": "f24e9ca126364e109002ee505a41dc02",
       "version_major": 2,
       "version_minor": 0
      },
      "text/plain": [
       "Uploading the dataset shards:   0%|          | 0/1 [00:00<?, ?it/s]"
      ]
     },
     "metadata": {},
     "output_type": "display_data"
    },
    {
     "data": {
      "application/vnd.jupyter.widget-view+json": {
       "model_id": "43fafbe7a04f4cd3937b242627a54776",
       "version_major": 2,
       "version_minor": 0
      },
      "text/plain": [
       "Creating parquet from Arrow format:   0%|          | 0/1 [00:00<?, ?ba/s]"
      ]
     },
     "metadata": {},
     "output_type": "display_data"
    },
    {
     "data": {
      "application/vnd.jupyter.widget-view+json": {
       "model_id": "c203a8aa65d444909bf2abc7950cf247",
       "version_major": 2,
       "version_minor": 0
      },
      "text/plain": [
       "Uploading the dataset shards:   0%|          | 0/1 [00:00<?, ?it/s]"
      ]
     },
     "metadata": {},
     "output_type": "display_data"
    },
    {
     "data": {
      "application/vnd.jupyter.widget-view+json": {
       "model_id": "2abfdea47b084d81b26a4f9221784eb5",
       "version_major": 2,
       "version_minor": 0
      },
      "text/plain": [
       "Creating parquet from Arrow format:   0%|          | 0/53 [00:00<?, ?ba/s]"
      ]
     },
     "metadata": {},
     "output_type": "display_data"
    },
    {
     "data": {
      "application/vnd.jupyter.widget-view+json": {
       "model_id": "9a0aa53d734546e1b047c4bb14a81735",
       "version_major": 2,
       "version_minor": 0
      },
      "text/plain": [
       "Uploading the dataset shards:   0%|          | 0/1 [00:00<?, ?it/s]"
      ]
     },
     "metadata": {},
     "output_type": "display_data"
    },
    {
     "data": {
      "application/vnd.jupyter.widget-view+json": {
       "model_id": "0b51cd5ee3874d7ab2df4e0e2746563e",
       "version_major": 2,
       "version_minor": 0
      },
      "text/plain": [
       "Creating parquet from Arrow format:   0%|          | 0/1 [00:00<?, ?ba/s]"
      ]
     },
     "metadata": {},
     "output_type": "display_data"
    },
    {
     "data": {
      "application/vnd.jupyter.widget-view+json": {
       "model_id": "895aacee946746d5b9557f7220f6f0d7",
       "version_major": 2,
       "version_minor": 0
      },
      "text/plain": [
       "Uploading the dataset shards:   0%|          | 0/1 [00:00<?, ?it/s]"
      ]
     },
     "metadata": {},
     "output_type": "display_data"
    },
    {
     "data": {
      "application/vnd.jupyter.widget-view+json": {
       "model_id": "f4021f281eb64762abdbc27f379717d1",
       "version_major": 2,
       "version_minor": 0
      },
      "text/plain": [
       "Creating parquet from Arrow format:   0%|          | 0/1 [00:00<?, ?ba/s]"
      ]
     },
     "metadata": {},
     "output_type": "display_data"
    },
    {
     "data": {
      "application/vnd.jupyter.widget-view+json": {
       "model_id": "c1eda84b74884c3cbd32d59cd5b0b1e2",
       "version_major": 2,
       "version_minor": 0
      },
      "text/plain": [
       "Uploading the dataset shards:   0%|          | 0/1 [00:00<?, ?it/s]"
      ]
     },
     "metadata": {},
     "output_type": "display_data"
    },
    {
     "data": {
      "application/vnd.jupyter.widget-view+json": {
       "model_id": "39f943f1440741b5a0e5154c4225a493",
       "version_major": 2,
       "version_minor": 0
      },
      "text/plain": [
       "Creating parquet from Arrow format:   0%|          | 0/53 [00:00<?, ?ba/s]"
      ]
     },
     "metadata": {},
     "output_type": "display_data"
    },
    {
     "data": {
      "application/vnd.jupyter.widget-view+json": {
       "model_id": "208e378d94c84f16ba3864c83a124f40",
       "version_major": 2,
       "version_minor": 0
      },
      "text/plain": [
       "Uploading the dataset shards:   0%|          | 0/1 [00:00<?, ?it/s]"
      ]
     },
     "metadata": {},
     "output_type": "display_data"
    },
    {
     "data": {
      "application/vnd.jupyter.widget-view+json": {
       "model_id": "21f9a6dfb03d4569a67c195c38da8730",
       "version_major": 2,
       "version_minor": 0
      },
      "text/plain": [
       "Creating parquet from Arrow format:   0%|          | 0/1 [00:00<?, ?ba/s]"
      ]
     },
     "metadata": {},
     "output_type": "display_data"
    },
    {
     "data": {
      "application/vnd.jupyter.widget-view+json": {
       "model_id": "cd0f82d2b6d04f9c9494f5cb01366766",
       "version_major": 2,
       "version_minor": 0
      },
      "text/plain": [
       "Uploading the dataset shards:   0%|          | 0/1 [00:00<?, ?it/s]"
      ]
     },
     "metadata": {},
     "output_type": "display_data"
    },
    {
     "data": {
      "application/vnd.jupyter.widget-view+json": {
       "model_id": "44dc3d64f54b473fa4f527a274c85f73",
       "version_major": 2,
       "version_minor": 0
      },
      "text/plain": [
       "Creating parquet from Arrow format:   0%|          | 0/1 [00:00<?, ?ba/s]"
      ]
     },
     "metadata": {},
     "output_type": "display_data"
    },
    {
     "data": {
      "application/vnd.jupyter.widget-view+json": {
       "model_id": "dea396a403a64bf89adf6ed7d0237522",
       "version_major": 2,
       "version_minor": 0
      },
      "text/plain": [
       "Uploading the dataset shards:   0%|          | 0/1 [00:00<?, ?it/s]"
      ]
     },
     "metadata": {},
     "output_type": "display_data"
    },
    {
     "data": {
      "application/vnd.jupyter.widget-view+json": {
       "model_id": "7188fd89b5b54928ab3a7c58633891c7",
       "version_major": 2,
       "version_minor": 0
      },
      "text/plain": [
       "Creating parquet from Arrow format:   0%|          | 0/5 [00:00<?, ?ba/s]"
      ]
     },
     "metadata": {},
     "output_type": "display_data"
    },
    {
     "data": {
      "application/vnd.jupyter.widget-view+json": {
       "model_id": "d8772f169f7a4deca9374a399470d2c5",
       "version_major": 2,
       "version_minor": 0
      },
      "text/plain": [
       "Uploading the dataset shards:   0%|          | 0/1 [00:00<?, ?it/s]"
      ]
     },
     "metadata": {},
     "output_type": "display_data"
    },
    {
     "data": {
      "application/vnd.jupyter.widget-view+json": {
       "model_id": "a1bc7960ae3d47628bfad63808e4775b",
       "version_major": 2,
       "version_minor": 0
      },
      "text/plain": [
       "Creating parquet from Arrow format:   0%|          | 0/1 [00:00<?, ?ba/s]"
      ]
     },
     "metadata": {},
     "output_type": "display_data"
    },
    {
     "data": {
      "application/vnd.jupyter.widget-view+json": {
       "model_id": "71349e2000a445bb9e4f3986ad1871e9",
       "version_major": 2,
       "version_minor": 0
      },
      "text/plain": [
       "Uploading the dataset shards:   0%|          | 0/1 [00:00<?, ?it/s]"
      ]
     },
     "metadata": {},
     "output_type": "display_data"
    },
    {
     "data": {
      "application/vnd.jupyter.widget-view+json": {
       "model_id": "b84eda4458684816bfe7f26c2d1f883d",
       "version_major": 2,
       "version_minor": 0
      },
      "text/plain": [
       "Creating parquet from Arrow format:   0%|          | 0/1 [00:00<?, ?ba/s]"
      ]
     },
     "metadata": {},
     "output_type": "display_data"
    },
    {
     "data": {
      "application/vnd.jupyter.widget-view+json": {
       "model_id": "dd91caa80c324192a9a14456f07f3923",
       "version_major": 2,
       "version_minor": 0
      },
      "text/plain": [
       "Uploading the dataset shards:   0%|          | 0/1 [00:00<?, ?it/s]"
      ]
     },
     "metadata": {},
     "output_type": "display_data"
    },
    {
     "data": {
      "application/vnd.jupyter.widget-view+json": {
       "model_id": "7be7d4c4a92a42ceaed8a61004264318",
       "version_major": 2,
       "version_minor": 0
      },
      "text/plain": [
       "Creating parquet from Arrow format:   0%|          | 0/5 [00:00<?, ?ba/s]"
      ]
     },
     "metadata": {},
     "output_type": "display_data"
    },
    {
     "data": {
      "application/vnd.jupyter.widget-view+json": {
       "model_id": "504020d35d104e20b8b6476bf70f2092",
       "version_major": 2,
       "version_minor": 0
      },
      "text/plain": [
       "Uploading the dataset shards:   0%|          | 0/1 [00:00<?, ?it/s]"
      ]
     },
     "metadata": {},
     "output_type": "display_data"
    },
    {
     "data": {
      "application/vnd.jupyter.widget-view+json": {
       "model_id": "84bb356822d346da8fa389c8a5c226da",
       "version_major": 2,
       "version_minor": 0
      },
      "text/plain": [
       "Creating parquet from Arrow format:   0%|          | 0/1 [00:00<?, ?ba/s]"
      ]
     },
     "metadata": {},
     "output_type": "display_data"
    },
    {
     "data": {
      "application/vnd.jupyter.widget-view+json": {
       "model_id": "0aa70e1b42a040baba8ace01eecc51dc",
       "version_major": 2,
       "version_minor": 0
      },
      "text/plain": [
       "Uploading the dataset shards:   0%|          | 0/1 [00:00<?, ?it/s]"
      ]
     },
     "metadata": {},
     "output_type": "display_data"
    },
    {
     "data": {
      "application/vnd.jupyter.widget-view+json": {
       "model_id": "109237bf72c14ca8a0d736e6a9e3adb4",
       "version_major": 2,
       "version_minor": 0
      },
      "text/plain": [
       "Creating parquet from Arrow format:   0%|          | 0/1 [00:00<?, ?ba/s]"
      ]
     },
     "metadata": {},
     "output_type": "display_data"
    },
    {
     "data": {
      "application/vnd.jupyter.widget-view+json": {
       "model_id": "2dd705de57ae40f887b0c656be329bf9",
       "version_major": 2,
       "version_minor": 0
      },
      "text/plain": [
       "Uploading the dataset shards:   0%|          | 0/1 [00:00<?, ?it/s]"
      ]
     },
     "metadata": {},
     "output_type": "display_data"
    },
    {
     "data": {
      "application/vnd.jupyter.widget-view+json": {
       "model_id": "1ecad1e4b8e34cde941d0cf60805850a",
       "version_major": 2,
       "version_minor": 0
      },
      "text/plain": [
       "Creating parquet from Arrow format:   0%|          | 0/53 [00:00<?, ?ba/s]"
      ]
     },
     "metadata": {},
     "output_type": "display_data"
    },
    {
     "data": {
      "application/vnd.jupyter.widget-view+json": {
       "model_id": "81e2fabb85474799a25b419966b0c233",
       "version_major": 2,
       "version_minor": 0
      },
      "text/plain": [
       "Uploading the dataset shards:   0%|          | 0/1 [00:00<?, ?it/s]"
      ]
     },
     "metadata": {},
     "output_type": "display_data"
    },
    {
     "data": {
      "application/vnd.jupyter.widget-view+json": {
       "model_id": "b2c3d647907f4ef592f69ddfb7ceebcb",
       "version_major": 2,
       "version_minor": 0
      },
      "text/plain": [
       "Creating parquet from Arrow format:   0%|          | 0/1 [00:00<?, ?ba/s]"
      ]
     },
     "metadata": {},
     "output_type": "display_data"
    },
    {
     "data": {
      "application/vnd.jupyter.widget-view+json": {
       "model_id": "ddee7e2ce4ed4889b28d9a05ef092c48",
       "version_major": 2,
       "version_minor": 0
      },
      "text/plain": [
       "Uploading the dataset shards:   0%|          | 0/1 [00:00<?, ?it/s]"
      ]
     },
     "metadata": {},
     "output_type": "display_data"
    },
    {
     "data": {
      "application/vnd.jupyter.widget-view+json": {
       "model_id": "dd3d326ef49d410db9ecfd40caac0ffe",
       "version_major": 2,
       "version_minor": 0
      },
      "text/plain": [
       "Creating parquet from Arrow format:   0%|          | 0/1 [00:00<?, ?ba/s]"
      ]
     },
     "metadata": {},
     "output_type": "display_data"
    },
    {
     "data": {
      "application/vnd.jupyter.widget-view+json": {
       "model_id": "e4314552903e43a88f3794267aba0f02",
       "version_major": 2,
       "version_minor": 0
      },
      "text/plain": [
       "Uploading the dataset shards:   0%|          | 0/1 [00:00<?, ?it/s]"
      ]
     },
     "metadata": {},
     "output_type": "display_data"
    },
    {
     "data": {
      "application/vnd.jupyter.widget-view+json": {
       "model_id": "e159dd9528414325872dcebf3e2afa0f",
       "version_major": 2,
       "version_minor": 0
      },
      "text/plain": [
       "Creating parquet from Arrow format:   0%|          | 0/53 [00:00<?, ?ba/s]"
      ]
     },
     "metadata": {},
     "output_type": "display_data"
    },
    {
     "data": {
      "application/vnd.jupyter.widget-view+json": {
       "model_id": "ba130ecdaea94b97b2322218c25f6990",
       "version_major": 2,
       "version_minor": 0
      },
      "text/plain": [
       "Uploading the dataset shards:   0%|          | 0/1 [00:00<?, ?it/s]"
      ]
     },
     "metadata": {},
     "output_type": "display_data"
    },
    {
     "data": {
      "application/vnd.jupyter.widget-view+json": {
       "model_id": "c7b4878fd6be4596abb47b449a4e937e",
       "version_major": 2,
       "version_minor": 0
      },
      "text/plain": [
       "Creating parquet from Arrow format:   0%|          | 0/2 [00:00<?, ?ba/s]"
      ]
     },
     "metadata": {},
     "output_type": "display_data"
    },
    {
     "data": {
      "application/vnd.jupyter.widget-view+json": {
       "model_id": "98e9013d13f54e449790ec8cefe5b01f",
       "version_major": 2,
       "version_minor": 0
      },
      "text/plain": [
       "README.md:   0%|          | 0.00/8.78k [00:00<?, ?B/s]"
      ]
     },
     "metadata": {},
     "output_type": "display_data"
    },
    {
     "data": {
      "text/plain": [
       "CommitInfo(commit_url='https://huggingface.co/datasets/Naela00/ToxiFrenchFinetuning/commit/ec8d665bfa6b8016484917a86880247004adcf2f', commit_message='Upload dataset', commit_description='', oid='ec8d665bfa6b8016484917a86880247004adcf2f', pr_url=None, repo_url=RepoUrl('https://huggingface.co/datasets/Naela00/ToxiFrenchFinetuning', endpoint='https://huggingface.co', repo_type='dataset', repo_id='Naela00/ToxiFrenchFinetuning'), pr_revision=None, pr_num=None)"
      ]
     },
     "execution_count": 18,
     "metadata": {},
     "output_type": "execute_result"
    }
   ],
   "source": [
    "combined_ds.push_to_hub(\"Naela00/ToxiFrenchFinetuning\")"
   ]
  },
  {
   "cell_type": "code",
   "execution_count": 19,
   "id": "96d07fb7",
   "metadata": {},
   "outputs": [
    {
     "data": {
      "application/vnd.jupyter.widget-view+json": {
       "model_id": "5426ec94f3614ddfb8f0fe7fe1a20498",
       "version_major": 2,
       "version_minor": 0
      },
      "text/plain": [
       "README.md:   0%|          | 0.00/8.78k [00:00<?, ?B/s]"
      ]
     },
     "metadata": {},
     "output_type": "display_data"
    },
    {
     "data": {
      "application/vnd.jupyter.widget-view+json": {
       "model_id": "6815f4e46a2c4096ae5e873172279c5e",
       "version_major": 2,
       "version_minor": 0
      },
      "text/plain": [
       "ToxiFrenchFinetuning.py:   0%|          | 0.00/2.38k [00:00<?, ?B/s]"
      ]
     },
     "metadata": {},
     "output_type": "display_data"
    },
    {
     "data": {
      "application/vnd.jupyter.widget-view+json": {
       "model_id": "1e6c6fe79c2e43368b5fd112aba9d8d9",
       "version_major": 2,
       "version_minor": 0
      },
      "text/plain": [
       "train_rdal-00000-of-00001.parquet:   0%|          | 0.00/51.4M [00:00<?, ?B/s]"
      ]
     },
     "metadata": {},
     "output_type": "display_data"
    },
    {
     "data": {
      "application/vnd.jupyter.widget-view+json": {
       "model_id": "63803f27417e461189d2b5a75cd7356d",
       "version_major": 2,
       "version_minor": 0
      },
      "text/plain": [
       "test-00000-of-00001.parquet:   0%|          | 0.00/1.26M [00:00<?, ?B/s]"
      ]
     },
     "metadata": {},
     "output_type": "display_data"
    },
    {
     "data": {
      "application/vnd.jupyter.widget-view+json": {
       "model_id": "fda397ab8b1e4a2b8da9f5ffd29500d0",
       "version_major": 2,
       "version_minor": 0
      },
      "text/plain": [
       "Generating train split: 0 examples [00:00, ? examples/s]"
      ]
     },
     "metadata": {},
     "output_type": "display_data"
    },
    {
     "data": {
      "application/vnd.jupyter.widget-view+json": {
       "model_id": "2676a8d378f64e9c831e78f993010389",
       "version_major": 2,
       "version_minor": 0
      },
      "text/plain": [
       "Generating test split: 0 examples [00:00, ? examples/s]"
      ]
     },
     "metadata": {},
     "output_type": "display_data"
    }
   ],
   "source": [
    "from datasets import load_dataset\n",
    "\n",
    "dataset_path    = \"Naela00/ToxiFrenchFinetuning\"    # Link to the dataset on Hugging Face\n",
    "dataset_name    = \"rdal\"                                    # Name of the dataset to load\n",
    "\n",
    "dataset_splits = load_dataset(dataset_path, name=dataset_name, trust_remote_code=True) "
   ]
  },
  {
   "cell_type": "code",
   "execution_count": 20,
   "id": "94e79449",
   "metadata": {},
   "outputs": [
    {
     "data": {
      "text/plain": [
       "'<think>\\nExplication :\\n**Sujet du message** : Activités estivales et plans futurs.\\n\\n**Résumé** : L\\'auteur mentionne qu\\'il réalise diverses petites activités pendant l\\'été, qu\\'il alterne entre ces tâches et l\\'écriture de son mémoire, et qu\\'il sera au chômage à la rentrée.\\n\\n**Sens probable** : L\\'auteur décrit ses occupations actuelles et indique une situation de chômage à venir. \\n\\nAucune expression ou terme n\\'est ambigu dans ce contexte.\\n</think>\\n<think>\\nTons :\\nTons perçus : Neutre, Réaliste, Légèrement préoccupé.\\n\\nAnalyse : Le ton est neutre en décrivant des faits simples. Le terme \"chômage\" induit une légère préoccupation sur l\\'avenir. Aucune ambiguïté perceptible. Certitude élevée.\\n</think>\\n<think>\\nIntentions :\\n1. **Informer** (Certitude élevée) : L\\'auteur présente des informations sur ses activités estivales, son travail sur son mémoire et sa situation de chômage, apportant des données factuelles sur sa vie professionnelle.\\n\\n2. **Partager** (Certitude modérée) : En évoquant son emploi du temps, l\\'auteur pourrait vouloir partager son expérience personnelle avec un interlocuteur, favorisant une connexion sociale.\\n\\n3. **Exprimer une préoccupation** (Certitude modérée) : La mention du chômage à la rentrée peut indiquer une inquiétude sur son avenir professionnel, même si le ton reste neutre.\\n\\nCes intentions montrent une volonté d\\'exposer des faits tout en laissant entrevoir une légère inquiétude face à l\\'avenir.\\n</think>\\n<think>\\nCatégorie(s) de toxicité implicite :\\nNone\\n\\nJustification :\\nLe message est neutre et factuel, sans propos problématique ou ambigu.\\n</think>\\n<think>\\nLabels :\\nS0/H0/V0/R0/A0/I0\\n\\nJustification :\\nLe message est factuel et descriptif, sans contenu problématique ni sous-entendu identifiable, partageant simplement des détails de vie sans agressivité ni intention hostile.\\n</think>\\n<think>\\nScore de toxicité :\\n0/10\\n\\nJustification :\\nLe message est neutre et factuel, sans aucune expression problématique, agressive ou ambiguë.\\n</think>\\n\\nEn conclusion, ce message est-il toxique ?\\n\\n'"
      ]
     },
     "execution_count": 20,
     "metadata": {},
     "output_type": "execute_result"
    }
   ],
   "source": [
    "dataset_splits['train']['cot_text'][0]"
   ]
  },
  {
   "cell_type": "markdown",
   "id": "ba9598e9",
   "metadata": {},
   "source": [
    "## Test area"
   ]
  },
  {
   "cell_type": "code",
   "execution_count": null,
   "id": "0945caa9",
   "metadata": {},
   "outputs": [],
   "source": []
  }
 ],
 "metadata": {
  "kernelspec": {
   "display_name": "SJTU",
   "language": "python",
   "name": "python3"
  },
  "language_info": {
   "codemirror_mode": {
    "name": "ipython",
    "version": 3
   },
   "file_extension": ".py",
   "mimetype": "text/x-python",
   "name": "python",
   "nbconvert_exporter": "python",
   "pygments_lexer": "ipython3",
   "version": "3.10.13"
  }
 },
 "nbformat": 4,
 "nbformat_minor": 5
}
