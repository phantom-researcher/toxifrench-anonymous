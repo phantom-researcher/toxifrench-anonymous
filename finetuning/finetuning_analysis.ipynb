{
 "cells": [
  {
   "cell_type": "markdown",
   "id": "236b6b64",
   "metadata": {},
   "source": [
    "# Analysing the results after finetuning"
   ]
  },
  {
   "cell_type": "markdown",
   "id": "0cf3d44b",
   "metadata": {},
   "source": [
    "## Libraries"
   ]
  },
  {
   "cell_type": "code",
   "execution_count": 1,
   "id": "09101134",
   "metadata": {},
   "outputs": [
    {
     "name": "stdout",
     "output_type": "stream",
     "text": [
      "Running on RANK 0\n"
     ]
    }
   ],
   "source": [
    "import pandas as pd\n",
    "from qlora_handler import QLoRAModelHandler\n",
    "import numpy as np"
   ]
  },
  {
   "cell_type": "markdown",
   "id": "e1f2cb0c",
   "metadata": {},
   "source": [
    "## Global variables"
   ]
  },
  {
   "cell_type": "code",
   "execution_count": 2,
   "id": "84ff08a6",
   "metadata": {},
   "outputs": [],
   "source": [
    "model = \"Qwen/Qwen3-4B\" # \"Qwen/Qwen2.5-3B\"\n",
    "dataset_path = \"Naela00/ToxiFrenchFinetuning\"\n",
    "dataset_name = \"odal\"\n",
    "remove_thoughts = ['<cot_intention>','<cot_categorie_list>','<cot_labels_list>']\n",
    "checkpoint_name = \"checkpoint-400\"\n",
    "local_checkpoint = f\"output_{dataset_name}_{model.split('/')[-1]}_{'-'.join(remove_thoughts)}/{checkpoint_name}\"\n",
    "text_field = \"content\"\n",
    "cot_field = \"cot_text\"\n",
    "label_field = \"literal_conclusion_annotator\"\n",
    "use_proxy = True\n",
    "\n",
    "max_new_tokens = 1024\n",
    "temperature = 0.7\n",
    "top_p = 0.9\n",
    "top_k = 50\n",
    "repetition_penalty = 1.1\n",
    "nb_generations = 5"
   ]
  },
  {
   "cell_type": "markdown",
   "id": "e5435413",
   "metadata": {},
   "source": [
    "## Load handler"
   ]
  },
  {
   "cell_type": "code",
   "execution_count": 3,
   "id": "e20368d1",
   "metadata": {},
   "outputs": [
    {
     "data": {
      "text/html": [
       "<pre style=\"white-space:pre;overflow-x:auto;line-height:normal;font-family:Menlo,'DejaVu Sans Mono',consolas,'Courier New',monospace\">\n",
       "\n",
       "</pre>\n"
      ],
      "text/plain": [
       "\n",
       "\n"
      ]
     },
     "metadata": {},
     "output_type": "display_data"
    },
    {
     "data": {
      "text/html": [
       "<pre style=\"white-space:pre;overflow-x:auto;line-height:normal;font-family:Menlo,'DejaVu Sans Mono',consolas,'Courier New',monospace\"><span style=\"color: #008080; text-decoration-color: #008080\">╭─────────────────────</span> QLoRA Utility <span style=\"color: #008080; text-decoration-color: #008080\">──────────────────────╮</span>\n",
       "<span style=\"color: #008080; text-decoration-color: #008080\">│ </span><span style=\"color: #008000; text-decoration-color: #008000; font-weight: bold\"> __ __|            _)  ____|                        |</span><span style=\"color: #008080; text-decoration-color: #008080\">    │</span>\n",
       "<span style=\"color: #008080; text-decoration-color: #008080\">│ </span><span style=\"color: #008000; text-decoration-color: #008000; font-weight: bold\">   |   _ \\ \\ \\  /  |  |     __|  _ \\  __ \\    __|  __ \\</span><span style=\"color: #008080; text-decoration-color: #008080\">  │</span>\n",
       "<span style=\"color: #008080; text-decoration-color: #008080\">│ </span><span style=\"color: #008000; text-decoration-color: #008000; font-weight: bold\">   |  (   | `  &lt;   |  __|  |     __/  |   |  (     | | |</span><span style=\"color: #008080; text-decoration-color: #008080\"> │</span>\n",
       "<span style=\"color: #008080; text-decoration-color: #008080\">│ </span><span style=\"color: #008000; text-decoration-color: #008000; font-weight: bold\">  _| \\___/  _/\\_\\ _| _|   _|   \\___| _|  _| \\___| _| |_|</span><span style=\"color: #008080; text-decoration-color: #008080\"> │</span>\n",
       "<span style=\"color: #008080; text-decoration-color: #008080\">╰──────────────────────────────────────────────────────────╯</span>\n",
       "</pre>\n"
      ],
      "text/plain": [
       "\u001b[36m╭─\u001b[0m\u001b[36m────────────────────\u001b[0m QLoRA Utility \u001b[36m─────────────────────\u001b[0m\u001b[36m─╮\u001b[0m\n",
       "\u001b[36m│\u001b[0m\u001b[36m \u001b[0m\u001b[1;32m __ __|            _)  ____|                        |\u001b[0m\u001b[36m   \u001b[0m\u001b[36m \u001b[0m\u001b[36m│\u001b[0m\n",
       "\u001b[36m│\u001b[0m\u001b[36m \u001b[0m\u001b[1;32m   |   _ \\ \\ \\  /  |  |     __|  _ \\  __ \\    __|  __ \\\u001b[0m\u001b[36m \u001b[0m\u001b[36m \u001b[0m\u001b[36m│\u001b[0m\n",
       "\u001b[36m│\u001b[0m\u001b[36m \u001b[0m\u001b[1;32m   |  (   | `  <   |  __|  |     __/  |   |  (     | | |\u001b[0m\u001b[36m \u001b[0m\u001b[36m│\u001b[0m\n",
       "\u001b[36m│\u001b[0m\u001b[36m \u001b[0m\u001b[1;32m  _| \\___/  _/\\_\\ _| _|   _|   \\___| _|  _| \\___| _| |_|\u001b[0m\u001b[36m \u001b[0m\u001b[36m│\u001b[0m\n",
       "\u001b[36m╰──────────────────────────────────────────────────────────╯\u001b[0m\n"
      ]
     },
     "metadata": {},
     "output_type": "display_data"
    },
    {
     "data": {
      "text/html": [
       "<pre style=\"white-space:pre;overflow-x:auto;line-height:normal;font-family:Menlo,'DejaVu Sans Mono',consolas,'Courier New',monospace\">\n",
       "\n",
       "</pre>\n"
      ],
      "text/plain": [
       "\n",
       "\n"
      ]
     },
     "metadata": {},
     "output_type": "display_data"
    },
    {
     "data": {
      "text/html": [
       "<pre style=\"white-space:pre;overflow-x:auto;line-height:normal;font-family:Menlo,'DejaVu Sans Mono',consolas,'Courier New',monospace\">\n",
       "<span style=\"color: #808000; text-decoration-color: #808000; font-weight: bold\"> • </span>Using model: <span style=\"color: #008080; text-decoration-color: #008080; background-color: #000000; font-weight: bold\">Qwen/Qwen3-4B</span>                                                                                      \n",
       "<span style=\"color: #808000; text-decoration-color: #808000; font-weight: bold\"> • </span>Dataset: <span style=\"color: #008080; text-decoration-color: #008080; background-color: #000000; font-weight: bold\">Naela00/ToxiFrenchFinetuning</span> (<span style=\"color: #008080; text-decoration-color: #008080; background-color: #000000; font-weight: bold\">odal</span>)                                                                    \n",
       "<span style=\"color: #808000; text-decoration-color: #808000; font-weight: bold\"> • </span>text / cot / label fields: <span style=\"color: #008080; text-decoration-color: #008080; background-color: #000000; font-weight: bold\">content</span> | <span style=\"color: #008080; text-decoration-color: #008080; background-color: #000000; font-weight: bold\">cot_text</span> | <span style=\"color: #008080; text-decoration-color: #008080; background-color: #000000; font-weight: bold\">literal_conclusion_annotator</span>                                    \n",
       "</pre>\n"
      ],
      "text/plain": [
       "\n",
       "\u001b[1;33m • \u001b[0mUsing model: \u001b[1;36;40mQwen/Qwen3-4B\u001b[0m                                                                                      \n",
       "\u001b[1;33m • \u001b[0mDataset: \u001b[1;36;40mNaela00/ToxiFrenchFinetuning\u001b[0m (\u001b[1;36;40modal\u001b[0m)                                                                    \n",
       "\u001b[1;33m • \u001b[0mtext / cot / label fields: \u001b[1;36;40mcontent\u001b[0m | \u001b[1;36;40mcot_text\u001b[0m | \u001b[1;36;40mliteral_conclusion_annotator\u001b[0m                                    \n"
      ]
     },
     "metadata": {},
     "output_type": "display_data"
    },
    {
     "data": {
      "text/html": [
       "<pre style=\"white-space:pre;overflow-x:auto;line-height:normal;font-family:Menlo,'DejaVu Sans Mono',consolas,'Courier New',monospace\">\n",
       "</pre>\n"
      ],
      "text/plain": [
       "\n"
      ]
     },
     "metadata": {},
     "output_type": "display_data"
    },
    {
     "data": {
      "text/html": [
       "<pre style=\"white-space:pre;overflow-x:auto;line-height:normal;font-family:Menlo,'DejaVu Sans Mono',consolas,'Courier New',monospace\"><span style=\"color: #00ff00; text-decoration-color: #00ff00\">───────────────────────────────────── </span><span style=\"color: #008080; text-decoration-color: #008080; font-weight: bold\">Initializing handler for Qwen/Qwen3-4B</span><span style=\"color: #00ff00; text-decoration-color: #00ff00\"> ──────────────────────────────────────</span>\n",
       "</pre>\n"
      ],
      "text/plain": [
       "\u001b[92m───────────────────────────────────── \u001b[0m\u001b[1;36mInitializing handler for Qwen/Qwen3-4B\u001b[0m\u001b[92m ──────────────────────────────────────\u001b[0m\n"
      ]
     },
     "metadata": {},
     "output_type": "display_data"
    },
    {
     "data": {
      "text/html": [
       "<pre style=\"white-space:pre;overflow-x:auto;line-height:normal;font-family:Menlo,'DejaVu Sans Mono',consolas,'Courier New',monospace\">\n",
       "</pre>\n"
      ],
      "text/plain": [
       "\n"
      ]
     },
     "metadata": {},
     "output_type": "display_data"
    },
    {
     "data": {
      "text/html": [
       "<pre style=\"white-space:pre;overflow-x:auto;line-height:normal;font-family:Menlo,'DejaVu Sans Mono',consolas,'Courier New',monospace\">Proxy configured to: socks5h:<span style=\"color: #800080; text-decoration-color: #800080\">//</span><span style=\"color: #ff00ff; text-decoration-color: #ff00ff\">127.0.0.1</span>:<span style=\"color: #008080; text-decoration-color: #008080; font-weight: bold\">1080</span>\n",
       "</pre>\n"
      ],
      "text/plain": [
       "Proxy configured to: socks5h:\u001b[35m/\u001b[0m\u001b[35m/\u001b[0m\u001b[95m127.0.0.1\u001b[0m:\u001b[1;36m1080\u001b[0m\n"
      ]
     },
     "metadata": {},
     "output_type": "display_data"
    },
    {
     "data": {
      "text/html": [
       "<pre style=\"white-space:pre;overflow-x:auto;line-height:normal;font-family:Menlo,'DejaVu Sans Mono',consolas,'Courier New',monospace\">Using BitsAndBytesConfig: <span style=\"font-weight: bold\">{</span><span style=\"color: #008000; text-decoration-color: #008000\">'load_in_4bit'</span>: <span style=\"color: #00ff00; text-decoration-color: #00ff00; font-style: italic\">True</span>, <span style=\"color: #008000; text-decoration-color: #008000\">'bnb_4bit_use_double_quant'</span>: <span style=\"color: #00ff00; text-decoration-color: #00ff00; font-style: italic\">True</span>, <span style=\"color: #008000; text-decoration-color: #008000\">'bnb_4bit_quant_type'</span>: <span style=\"color: #008000; text-decoration-color: #008000\">'nf4'</span>, \n",
       "<span style=\"color: #008000; text-decoration-color: #008000\">'bnb_4bit_compute_dtype'</span>: torch.float16<span style=\"font-weight: bold\">}</span>\n",
       "</pre>\n"
      ],
      "text/plain": [
       "Using BitsAndBytesConfig: \u001b[1m{\u001b[0m\u001b[32m'load_in_4bit'\u001b[0m: \u001b[3;92mTrue\u001b[0m, \u001b[32m'bnb_4bit_use_double_quant'\u001b[0m: \u001b[3;92mTrue\u001b[0m, \u001b[32m'bnb_4bit_quant_type'\u001b[0m: \u001b[32m'nf4'\u001b[0m, \n",
       "\u001b[32m'bnb_4bit_compute_dtype'\u001b[0m: torch.float16\u001b[1m}\u001b[0m\n"
      ]
     },
     "metadata": {},
     "output_type": "display_data"
    },
    {
     "data": {
      "text/html": [
       "<pre style=\"white-space:pre;overflow-x:auto;line-height:normal;font-family:Menlo,'DejaVu Sans Mono',consolas,'Courier New',monospace\">Using model: Qwen/Qwen3-4B\n",
       "</pre>\n"
      ],
      "text/plain": [
       "Using model: Qwen/Qwen3-4B\n"
      ]
     },
     "metadata": {},
     "output_type": "display_data"
    },
    {
     "data": {
      "text/html": [
       "<pre style=\"white-space:pre;overflow-x:auto;line-height:normal;font-family:Menlo,'DejaVu Sans Mono',consolas,'Courier New',monospace\">\n",
       "\n",
       "</pre>\n"
      ],
      "text/plain": [
       "\n",
       "\n"
      ]
     },
     "metadata": {},
     "output_type": "display_data"
    },
    {
     "data": {
      "text/html": [
       "<pre style=\"white-space:pre;overflow-x:auto;line-height:normal;font-family:Menlo,'DejaVu Sans Mono',consolas,'Courier New',monospace\"><span style=\"color: #008080; text-decoration-color: #008080\">─────────────────────────────────────────── </span><span style=\"color: #008080; text-decoration-color: #008080; font-weight: bold\">Loading Tokenizer and Model</span><span style=\"color: #008080; text-decoration-color: #008080\"> ───────────────────────────────────────────</span>\n",
       "</pre>\n"
      ],
      "text/plain": [
       "\u001b[36m─────────────────────────────────────────── \u001b[0m\u001b[1;36mLoading Tokenizer and Model\u001b[0m\u001b[36m ───────────────────────────────────────────\u001b[0m\n"
      ]
     },
     "metadata": {},
     "output_type": "display_data"
    },
    {
     "data": {
      "text/html": [
       "<pre style=\"white-space:pre;overflow-x:auto;line-height:normal;font-family:Menlo,'DejaVu Sans Mono',consolas,'Courier New',monospace\">\n",
       "\n",
       "</pre>\n"
      ],
      "text/plain": [
       "\n",
       "\n"
      ]
     },
     "metadata": {},
     "output_type": "display_data"
    },
    {
     "data": {
      "text/html": [
       "<pre style=\"white-space:pre;overflow-x:auto;line-height:normal;font-family:Menlo,'DejaVu Sans Mono',consolas,'Courier New',monospace\">Process <span style=\"color: #008080; text-decoration-color: #008080; font-weight: bold\">0</span> using device: NVIDIA GeForce RTX <span style=\"color: #008080; text-decoration-color: #008080; font-weight: bold\">3090</span>\n",
       "</pre>\n"
      ],
      "text/plain": [
       "Process \u001b[1;36m0\u001b[0m using device: NVIDIA GeForce RTX \u001b[1;36m3090\u001b[0m\n"
      ]
     },
     "metadata": {},
     "output_type": "display_data"
    },
    {
     "data": {
      "text/html": [
       "<pre style=\"white-space:pre;overflow-x:auto;line-height:normal;font-family:Menlo,'DejaVu Sans Mono',consolas,'Courier New',monospace\">\n",
       "</pre>\n"
      ],
      "text/plain": [
       "\n"
      ]
     },
     "metadata": {},
     "output_type": "display_data"
    },
    {
     "data": {
      "text/html": [
       "<pre style=\"white-space:pre;overflow-x:auto;line-height:normal;font-family:Menlo,'DejaVu Sans Mono',consolas,'Courier New',monospace\">Loading tokenizer from: <span style=\"color: #008080; text-decoration-color: #008080; font-weight: bold\">Qwen/Qwen3-4B</span>\n",
       "</pre>\n"
      ],
      "text/plain": [
       "Loading tokenizer from: \u001b[1;36mQwen/Qwen3-4B\u001b[0m\n"
      ]
     },
     "metadata": {},
     "output_type": "display_data"
    },
    {
     "data": {
      "application/vnd.jupyter.widget-view+json": {
       "model_id": "0db3e8cc66d14d1a835cbd708ee3cb59",
       "version_major": 2,
       "version_minor": 0
      },
      "text/plain": [
       "Output()"
      ]
     },
     "metadata": {},
     "output_type": "display_data"
    },
    {
     "data": {
      "text/html": [
       "<pre style=\"white-space:pre;overflow-x:auto;line-height:normal;font-family:Menlo,'DejaVu Sans Mono',consolas,'Courier New',monospace\"><span style=\"color: #008000; text-decoration-color: #008000; font-weight: bold\">Tokenizer </span><span style=\"color: #008000; text-decoration-color: #008000; font-weight: bold\">'Qwen/Qwen3-4B'</span><span style=\"color: #008000; text-decoration-color: #008000; font-weight: bold\"> loaded successfully!</span>\n",
       "</pre>\n"
      ],
      "text/plain": [
       "\u001b[1;32mTokenizer \u001b[0m\u001b[1;32m'Qwen/Qwen3-4B'\u001b[0m\u001b[1;32m loaded successfully!\u001b[0m\n"
      ]
     },
     "metadata": {},
     "output_type": "display_data"
    },
    {
     "data": {
      "text/html": [
       "<pre style=\"white-space:pre;overflow-x:auto;line-height:normal;font-family:Menlo,'DejaVu Sans Mono',consolas,'Courier New',monospace\">\n",
       "\n",
       "</pre>\n"
      ],
      "text/plain": [
       "\n",
       "\n"
      ]
     },
     "metadata": {},
     "output_type": "display_data"
    },
    {
     "data": {
      "text/html": [
       "<pre style=\"white-space:pre;overflow-x:auto;line-height:normal;font-family:Menlo,'DejaVu Sans Mono',consolas,'Courier New',monospace\"></pre>\n"
      ],
      "text/plain": []
     },
     "metadata": {},
     "output_type": "display_data"
    },
    {
     "data": {
      "application/vnd.jupyter.widget-view+json": {
       "model_id": "9e38046db81248bba3891d98938898d9",
       "version_major": 2,
       "version_minor": 0
      },
      "text/plain": [
       "Output()"
      ]
     },
     "metadata": {},
     "output_type": "display_data"
    },
    {
     "data": {
      "application/vnd.jupyter.widget-view+json": {
       "model_id": "df8964cb06f14296845bfb117ed25494",
       "version_major": 2,
       "version_minor": 0
      },
      "text/plain": [
       "Loading checkpoint shards:   0%|          | 0/3 [00:00<?, ?it/s]"
      ]
     },
     "metadata": {},
     "output_type": "display_data"
    },
    {
     "data": {
      "text/html": [
       "<pre style=\"white-space:pre;overflow-x:auto;line-height:normal;font-family:Menlo,'DejaVu Sans Mono',consolas,'Courier New',monospace\"><span style=\"color: #008000; text-decoration-color: #008000; font-weight: bold\">Model </span><span style=\"color: #008000; text-decoration-color: #008000; font-weight: bold\">'Qwen/Qwen3-4B'</span><span style=\"color: #008000; text-decoration-color: #008000; font-weight: bold\"> loaded successfully!</span>\n",
       "</pre>\n"
      ],
      "text/plain": [
       "\u001b[1;32mModel \u001b[0m\u001b[1;32m'Qwen/Qwen3-4B'\u001b[0m\u001b[1;32m loaded successfully!\u001b[0m\n"
      ]
     },
     "metadata": {},
     "output_type": "display_data"
    },
    {
     "data": {
      "text/html": [
       "<pre style=\"white-space:pre;overflow-x:auto;line-height:normal;font-family:Menlo,'DejaVu Sans Mono',consolas,'Courier New',monospace\">\n",
       "\n",
       "</pre>\n"
      ],
      "text/plain": [
       "\n",
       "\n"
      ]
     },
     "metadata": {},
     "output_type": "display_data"
    },
    {
     "data": {
      "text/html": [
       "<pre style=\"white-space:pre;overflow-x:auto;line-height:normal;font-family:Menlo,'DejaVu Sans Mono',consolas,'Courier New',monospace\"></pre>\n"
      ],
      "text/plain": []
     },
     "metadata": {},
     "output_type": "display_data"
    },
    {
     "data": {
      "text/html": [
       "<pre style=\"white-space:pre;overflow-x:auto;line-height:normal;font-family:Menlo,'DejaVu Sans Mono',consolas,'Courier New',monospace\"><span style=\"color: #00ff00; text-decoration-color: #00ff00\">─────────────────────────────────────── </span><span style=\"color: #808000; text-decoration-color: #808000; font-weight: bold\">Handling Special Tokens &amp; Resizing</span><span style=\"color: #00ff00; text-decoration-color: #00ff00\"> ────────────────────────────────────────</span>\n",
       "</pre>\n"
      ],
      "text/plain": [
       "\u001b[92m─────────────────────────────────────── \u001b[0m\u001b[1;33mHandling Special Tokens & Resizing\u001b[0m\u001b[92m ────────────────────────────────────────\u001b[0m\n"
      ]
     },
     "metadata": {},
     "output_type": "display_data"
    },
    {
     "data": {
      "text/html": [
       "<pre style=\"white-space:pre;overflow-x:auto;line-height:normal;font-family:Menlo,'DejaVu Sans Mono',consolas,'Courier New',monospace\"><span style=\"color: #808000; text-decoration-color: #808000\">Warning: Vocab size mismatch.</span> Model embeddings: <span style=\"color: #008080; text-decoration-color: #008080; font-weight: bold\">151936</span>, Tokenizer vocab: <span style=\"color: #008080; text-decoration-color: #008080; font-weight: bold\">151669</span>\n",
       "</pre>\n"
      ],
      "text/plain": [
       "\u001b[33mWarning: Vocab size mismatch.\u001b[0m Model embeddings: \u001b[1;36m151936\u001b[0m, Tokenizer vocab: \u001b[1;36m151669\u001b[0m\n"
      ]
     },
     "metadata": {},
     "output_type": "display_data"
    },
    {
     "data": {
      "text/html": [
       "<pre style=\"white-space:pre;overflow-x:auto;line-height:normal;font-family:Menlo,'DejaVu Sans Mono',consolas,'Courier New',monospace\">Resizing model token embeddings to match tokenizer<span style=\"color: #808000; text-decoration-color: #808000\">...</span>\n",
       "</pre>\n"
      ],
      "text/plain": [
       "Resizing model token embeddings to match tokenizer\u001b[33m...\u001b[0m\n"
      ]
     },
     "metadata": {},
     "output_type": "display_data"
    },
    {
     "data": {
      "text/html": [
       "<pre style=\"white-space:pre;overflow-x:auto;line-height:normal;font-family:Menlo,'DejaVu Sans Mono',consolas,'Courier New',monospace\"><span style=\"color: #008000; text-decoration-color: #008000; font-weight: bold\">Resized model embeddings to: </span><span style=\"color: #008000; text-decoration-color: #008000; font-weight: bold\">151669</span>\n",
       "</pre>\n"
      ],
      "text/plain": [
       "\u001b[1;32mResized model embeddings to: \u001b[0m\u001b[1;32m151669\u001b[0m\n"
      ]
     },
     "metadata": {},
     "output_type": "display_data"
    },
    {
     "data": {
      "text/html": [
       "<pre style=\"white-space:pre;overflow-x:auto;line-height:normal;font-family:Menlo,'DejaVu Sans Mono',consolas,'Courier New',monospace\">\n",
       "</pre>\n"
      ],
      "text/plain": [
       "\n"
      ]
     },
     "metadata": {},
     "output_type": "display_data"
    },
    {
     "data": {
      "text/html": [
       "<pre style=\"white-space:pre;overflow-x:auto;line-height:normal;font-family:Menlo,'DejaVu Sans Mono',consolas,'Courier New',monospace\"><span style=\"font-weight: bold\">Verification of a special token:</span>\n",
       "</pre>\n"
      ],
      "text/plain": [
       "\u001b[1mVerification of a special token:\u001b[0m\n"
      ]
     },
     "metadata": {},
     "output_type": "display_data"
    },
    {
     "data": {
      "text/html": [
       "<pre style=\"white-space:pre;overflow-x:auto;line-height:normal;font-family:Menlo,'DejaVu Sans Mono',consolas,'Courier New',monospace\">Tokenized example: <span style=\"color: #008000; text-decoration-color: #008000\">'Here is my thought process: &lt;think&gt;&lt;cot_explication&gt; I will analyze the situation. </span>\n",
       "<span style=\"color: #008000; text-decoration-color: #008000\">&lt;/think&gt;&lt;think&gt;Tons : I will be neutral. &lt;/think&gt; Now, I conclude that the answer is </span>\n",
       "<span style=\"color: #008000; text-decoration-color: #008000\">correct.&lt;/think&gt;&lt;think&gt;Intentions : I want to provide a clear explanation. &lt;/think&gt;&lt;think&gt;Catégorie(s) de toxicité </span>\n",
       "<span style=\"color: #008000; text-decoration-color: #008000\">implicite : Category1, Category2 &lt;/think&gt;&lt;think&gt;Justification : These categories are relevant. </span>\n",
       "<span style=\"color: #008000; text-decoration-color: #008000\">&lt;/think&gt;&lt;think&gt;Labels : Label1, Label2 &lt;/think&gt;&lt;think&gt;Justification : These labels are justified. </span>\n",
       "<span style=\"color: #008000; text-decoration-color: #008000\">&lt;/think&gt;&lt;think&gt;Score de toxicité : 0.5 &lt;/think&gt;&lt;think&gt;Justification : The content is neutral. &lt;/think&gt;'</span>\n",
       "</pre>\n"
      ],
      "text/plain": [
       "Tokenized example: \u001b[32m'Here is my thought process: \u001b[0m\u001b[32m<\u001b[0m\u001b[32mthink\u001b[0m\u001b[32m><cot_explication> I will analyze the situation. \u001b[0m\n",
       "\u001b[32m</think><think>Tons : I will be neutral. </think> Now, I conclude that the answer is \u001b[0m\n",
       "\u001b[32mcorrect.</think><think>Intentions : I want to provide a clear explanation. </think><think>Catégorie\u001b[0m\u001b[32m(\u001b[0m\u001b[32ms\u001b[0m\u001b[32m)\u001b[0m\u001b[32m de toxicité \u001b[0m\n",
       "\u001b[32mimplicite : Category1, Category2 </think><think>Justification : These categories are relevant. \u001b[0m\n",
       "\u001b[32m</think><think>Labels : Label1, Label2 </think><think>Justification : These labels are justified. \u001b[0m\n",
       "\u001b[32m</think><think>Score de toxicité : 0.5 </think><think>Justification : The content is neutral. </think\u001b[0m\u001b[32m>\u001b[0m\u001b[32m'\u001b[0m\n"
      ]
     },
     "metadata": {},
     "output_type": "display_data"
    },
    {
     "data": {
      "text/html": [
       "<pre style=\"white-space:pre;overflow-x:auto;line-height:normal;font-family:Menlo,'DejaVu Sans Mono',consolas,'Courier New',monospace\">-&gt; <span style=\"color: #008080; text-decoration-color: #008080; font-weight: bold\">[</span><span style=\"color: #008080; text-decoration-color: #008080\">'Here'</span><span style=\"color: #008080; text-decoration-color: #008080\">, </span><span style=\"color: #008080; text-decoration-color: #008080\">'Ġis'</span><span style=\"color: #008080; text-decoration-color: #008080\">, </span><span style=\"color: #008080; text-decoration-color: #008080\">'Ġmy'</span><span style=\"color: #008080; text-decoration-color: #008080\">, </span><span style=\"color: #008080; text-decoration-color: #008080\">'Ġthought'</span><span style=\"color: #008080; text-decoration-color: #008080\">, </span><span style=\"color: #008080; text-decoration-color: #008080\">'Ġprocess'</span><span style=\"color: #008080; text-decoration-color: #008080\">, </span><span style=\"color: #008080; text-decoration-color: #008080\">':'</span><span style=\"color: #008080; text-decoration-color: #008080\">, </span><span style=\"color: #008080; text-decoration-color: #008080\">'Ġ'</span><span style=\"color: #008080; text-decoration-color: #008080\">, </span><span style=\"color: #008080; text-decoration-color: #008080\">'&lt;think&gt;'</span><span style=\"color: #008080; text-decoration-color: #008080\">, </span><span style=\"color: #008080; text-decoration-color: #008080\">'&lt;c'</span><span style=\"color: #008080; text-decoration-color: #008080\">, </span><span style=\"color: #008080; text-decoration-color: #008080\">'ot'</span><span style=\"color: #008080; text-decoration-color: #008080\">, </span><span style=\"color: #008080; text-decoration-color: #008080\">'_exp'</span><span style=\"color: #008080; text-decoration-color: #008080\">, </span><span style=\"color: #008080; text-decoration-color: #008080\">'lication'</span><span style=\"color: #008080; text-decoration-color: #008080\">, </span><span style=\"color: #008080; text-decoration-color: #008080\">'&gt;'</span><span style=\"color: #008080; text-decoration-color: #008080\">, </span><span style=\"color: #008080; text-decoration-color: #008080\">'ĠI'</span><span style=\"color: #008080; text-decoration-color: #008080\">, </span>\n",
       "<span style=\"color: #008080; text-decoration-color: #008080\">'Ġwill'</span><span style=\"color: #008080; text-decoration-color: #008080\">, </span><span style=\"color: #008080; text-decoration-color: #008080\">'Ġanalyze'</span><span style=\"color: #008080; text-decoration-color: #008080\">, </span><span style=\"color: #008080; text-decoration-color: #008080\">'Ġthe'</span><span style=\"color: #008080; text-decoration-color: #008080\">, </span><span style=\"color: #008080; text-decoration-color: #008080\">'Ġsituation'</span><span style=\"color: #008080; text-decoration-color: #008080\">, </span><span style=\"color: #008080; text-decoration-color: #008080\">'.'</span><span style=\"color: #008080; text-decoration-color: #008080\">, </span><span style=\"color: #008080; text-decoration-color: #008080\">'Ġ'</span><span style=\"color: #008080; text-decoration-color: #008080\">, </span><span style=\"color: #008080; text-decoration-color: #008080\">'&lt;/think&gt;'</span><span style=\"color: #008080; text-decoration-color: #008080\">, </span><span style=\"color: #008080; text-decoration-color: #008080\">'&lt;think&gt;'</span><span style=\"color: #008080; text-decoration-color: #008080\">, </span><span style=\"color: #008080; text-decoration-color: #008080\">'T'</span><span style=\"color: #008080; text-decoration-color: #008080\">, </span><span style=\"color: #008080; text-decoration-color: #008080\">'ons'</span><span style=\"color: #008080; text-decoration-color: #008080\">, </span><span style=\"color: #008080; text-decoration-color: #008080\">'Ġ:'</span><span style=\"color: #008080; text-decoration-color: #008080\">, </span><span style=\"color: #008080; text-decoration-color: #008080\">'ĠI'</span><span style=\"color: #008080; text-decoration-color: #008080\">, </span><span style=\"color: #008080; text-decoration-color: #008080\">'Ġwill'</span><span style=\"color: #008080; text-decoration-color: #008080\">, </span><span style=\"color: #008080; text-decoration-color: #008080\">'Ġbe'</span><span style=\"color: #008080; text-decoration-color: #008080\">,</span>\n",
       "<span style=\"color: #008080; text-decoration-color: #008080\">'Ġneutral'</span><span style=\"color: #008080; text-decoration-color: #008080\">, </span><span style=\"color: #008080; text-decoration-color: #008080\">'.'</span><span style=\"color: #008080; text-decoration-color: #008080\">, </span><span style=\"color: #008080; text-decoration-color: #008080\">'Ġ'</span><span style=\"color: #008080; text-decoration-color: #008080\">, </span><span style=\"color: #008080; text-decoration-color: #008080\">'&lt;/think&gt;'</span><span style=\"color: #008080; text-decoration-color: #008080\">, </span><span style=\"color: #008080; text-decoration-color: #008080\">'ĠNow'</span><span style=\"color: #008080; text-decoration-color: #008080\">, </span><span style=\"color: #008080; text-decoration-color: #008080\">','</span><span style=\"color: #008080; text-decoration-color: #008080\">, </span><span style=\"color: #008080; text-decoration-color: #008080\">'ĠI'</span><span style=\"color: #008080; text-decoration-color: #008080\">, </span><span style=\"color: #008080; text-decoration-color: #008080\">'Ġconclude'</span><span style=\"color: #008080; text-decoration-color: #008080\">, </span><span style=\"color: #008080; text-decoration-color: #008080\">'Ġthat'</span><span style=\"color: #008080; text-decoration-color: #008080\">, </span><span style=\"color: #008080; text-decoration-color: #008080\">'Ġthe'</span><span style=\"color: #008080; text-decoration-color: #008080\">, </span><span style=\"color: #008080; text-decoration-color: #008080\">'Ġanswer'</span><span style=\"color: #008080; text-decoration-color: #008080\">, </span><span style=\"color: #008080; text-decoration-color: #008080\">'Ġis'</span><span style=\"color: #008080; text-decoration-color: #008080\">, </span><span style=\"color: #008080; text-decoration-color: #008080\">'Ġcorrect'</span><span style=\"color: #008080; text-decoration-color: #008080\">, </span>\n",
       "<span style=\"color: #008080; text-decoration-color: #008080\">'.'</span><span style=\"color: #008080; text-decoration-color: #008080\">, </span><span style=\"color: #008080; text-decoration-color: #008080\">'&lt;/think&gt;'</span><span style=\"color: #008080; text-decoration-color: #008080\">, </span><span style=\"color: #008080; text-decoration-color: #008080\">'&lt;think&gt;'</span><span style=\"color: #008080; text-decoration-color: #008080\">, </span><span style=\"color: #008080; text-decoration-color: #008080\">'Intent'</span><span style=\"color: #008080; text-decoration-color: #008080\">, </span><span style=\"color: #008080; text-decoration-color: #008080\">'ions'</span><span style=\"color: #008080; text-decoration-color: #008080\">, </span><span style=\"color: #008080; text-decoration-color: #008080\">'Ġ:'</span><span style=\"color: #008080; text-decoration-color: #008080\">, </span><span style=\"color: #008080; text-decoration-color: #008080\">'ĠI'</span><span style=\"color: #008080; text-decoration-color: #008080\">, </span><span style=\"color: #008080; text-decoration-color: #008080\">'Ġwant'</span><span style=\"color: #008080; text-decoration-color: #008080\">, </span><span style=\"color: #008080; text-decoration-color: #008080\">'Ġto'</span><span style=\"color: #008080; text-decoration-color: #008080\">, </span><span style=\"color: #008080; text-decoration-color: #008080\">'Ġprovide'</span><span style=\"color: #008080; text-decoration-color: #008080\">, </span><span style=\"color: #008080; text-decoration-color: #008080\">'Ġa'</span><span style=\"color: #008080; text-decoration-color: #008080\">, </span><span style=\"color: #008080; text-decoration-color: #008080\">'Ġclear'</span><span style=\"color: #008080; text-decoration-color: #008080\">, </span>\n",
       "<span style=\"color: #008080; text-decoration-color: #008080\">'Ġexplanation'</span><span style=\"color: #008080; text-decoration-color: #008080\">, </span><span style=\"color: #008080; text-decoration-color: #008080\">'.'</span><span style=\"color: #008080; text-decoration-color: #008080\">, </span><span style=\"color: #008080; text-decoration-color: #008080\">'Ġ'</span><span style=\"color: #008080; text-decoration-color: #008080\">, </span><span style=\"color: #008080; text-decoration-color: #008080\">'&lt;/think&gt;'</span><span style=\"color: #008080; text-decoration-color: #008080\">, </span><span style=\"color: #008080; text-decoration-color: #008080\">'&lt;think&gt;'</span><span style=\"color: #008080; text-decoration-color: #008080\">, </span><span style=\"color: #008080; text-decoration-color: #008080\">'Cat'</span><span style=\"color: #008080; text-decoration-color: #008080\">, </span><span style=\"color: #008080; text-decoration-color: #008080\">'Ã©gorie'</span><span style=\"color: #008080; text-decoration-color: #008080\">, </span><span style=\"color: #008080; text-decoration-color: #008080\">'(s'</span><span style=\"color: #008080; text-decoration-color: #008080\">, </span><span style=\"color: #008080; text-decoration-color: #008080\">')'</span><span style=\"color: #008080; text-decoration-color: #008080\">, </span><span style=\"color: #008080; text-decoration-color: #008080\">'Ġde'</span><span style=\"color: #008080; text-decoration-color: #008080\">, </span><span style=\"color: #008080; text-decoration-color: #008080\">'Ġtoxic'</span><span style=\"color: #008080; text-decoration-color: #008080\">, </span><span style=\"color: #008080; text-decoration-color: #008080\">'itÃ©'</span><span style=\"color: #008080; text-decoration-color: #008080\">, </span><span style=\"color: #008080; text-decoration-color: #008080\">'Ġimplic'</span><span style=\"color: #008080; text-decoration-color: #008080\">, </span>\n",
       "<span style=\"color: #008080; text-decoration-color: #008080\">'ite'</span><span style=\"color: #008080; text-decoration-color: #008080\">, </span><span style=\"color: #008080; text-decoration-color: #008080\">'Ġ:'</span><span style=\"color: #008080; text-decoration-color: #008080\">, </span><span style=\"color: #008080; text-decoration-color: #008080\">'ĠCategory'</span><span style=\"color: #008080; text-decoration-color: #008080\">, </span><span style=\"color: #008080; text-decoration-color: #008080\">'1'</span><span style=\"color: #008080; text-decoration-color: #008080\">, </span><span style=\"color: #008080; text-decoration-color: #008080\">','</span><span style=\"color: #008080; text-decoration-color: #008080\">, </span><span style=\"color: #008080; text-decoration-color: #008080\">'ĠCategory'</span><span style=\"color: #008080; text-decoration-color: #008080\">, </span><span style=\"color: #008080; text-decoration-color: #008080\">'2'</span><span style=\"color: #008080; text-decoration-color: #008080\">, </span><span style=\"color: #008080; text-decoration-color: #008080\">'Ġ'</span><span style=\"color: #008080; text-decoration-color: #008080\">, </span><span style=\"color: #008080; text-decoration-color: #008080\">'&lt;/think&gt;'</span><span style=\"color: #008080; text-decoration-color: #008080\">, </span><span style=\"color: #008080; text-decoration-color: #008080\">'&lt;think&gt;'</span><span style=\"color: #008080; text-decoration-color: #008080\">, </span><span style=\"color: #008080; text-decoration-color: #008080\">'Just'</span><span style=\"color: #008080; text-decoration-color: #008080\">, </span><span style=\"color: #008080; text-decoration-color: #008080\">'ification'</span><span style=\"color: #008080; text-decoration-color: #008080\">, </span><span style=\"color: #008080; text-decoration-color: #008080\">'Ġ:'</span><span style=\"color: #008080; text-decoration-color: #008080\">, </span>\n",
       "<span style=\"color: #008080; text-decoration-color: #008080\">'ĠThese'</span><span style=\"color: #008080; text-decoration-color: #008080\">, </span><span style=\"color: #008080; text-decoration-color: #008080\">'Ġcategories'</span><span style=\"color: #008080; text-decoration-color: #008080\">, </span><span style=\"color: #008080; text-decoration-color: #008080\">'Ġare'</span><span style=\"color: #008080; text-decoration-color: #008080\">, </span><span style=\"color: #008080; text-decoration-color: #008080\">'Ġrelevant'</span><span style=\"color: #008080; text-decoration-color: #008080\">, </span><span style=\"color: #008080; text-decoration-color: #008080\">'.'</span><span style=\"color: #008080; text-decoration-color: #008080\">, </span><span style=\"color: #008080; text-decoration-color: #008080\">'Ġ'</span><span style=\"color: #008080; text-decoration-color: #008080\">, </span><span style=\"color: #008080; text-decoration-color: #008080\">'&lt;/think&gt;'</span><span style=\"color: #008080; text-decoration-color: #008080\">, </span><span style=\"color: #008080; text-decoration-color: #008080\">'&lt;think&gt;'</span><span style=\"color: #008080; text-decoration-color: #008080\">, </span><span style=\"color: #008080; text-decoration-color: #008080\">'Labels'</span><span style=\"color: #008080; text-decoration-color: #008080\">, </span><span style=\"color: #008080; text-decoration-color: #008080\">'Ġ:'</span><span style=\"color: #008080; text-decoration-color: #008080\">, </span><span style=\"color: #008080; text-decoration-color: #008080\">'ĠLabel'</span><span style=\"color: #008080; text-decoration-color: #008080\">, </span><span style=\"color: #008080; text-decoration-color: #008080\">'1'</span><span style=\"color: #008080; text-decoration-color: #008080\">, </span><span style=\"color: #008080; text-decoration-color: #008080\">','</span><span style=\"color: #008080; text-decoration-color: #008080\">, </span>\n",
       "<span style=\"color: #008080; text-decoration-color: #008080\">'ĠLabel'</span><span style=\"color: #008080; text-decoration-color: #008080\">, </span><span style=\"color: #008080; text-decoration-color: #008080\">'2'</span><span style=\"color: #008080; text-decoration-color: #008080\">, </span><span style=\"color: #008080; text-decoration-color: #008080\">'Ġ'</span><span style=\"color: #008080; text-decoration-color: #008080\">, </span><span style=\"color: #008080; text-decoration-color: #008080\">'&lt;/think&gt;'</span><span style=\"color: #008080; text-decoration-color: #008080\">, </span><span style=\"color: #008080; text-decoration-color: #008080\">'&lt;think&gt;'</span><span style=\"color: #008080; text-decoration-color: #008080\">, </span><span style=\"color: #008080; text-decoration-color: #008080\">'Just'</span><span style=\"color: #008080; text-decoration-color: #008080\">, </span><span style=\"color: #008080; text-decoration-color: #008080\">'ification'</span><span style=\"color: #008080; text-decoration-color: #008080\">, </span><span style=\"color: #008080; text-decoration-color: #008080\">'Ġ:'</span><span style=\"color: #008080; text-decoration-color: #008080\">, </span><span style=\"color: #008080; text-decoration-color: #008080\">'ĠThese'</span><span style=\"color: #008080; text-decoration-color: #008080\">, </span><span style=\"color: #008080; text-decoration-color: #008080\">'Ġlabels'</span><span style=\"color: #008080; text-decoration-color: #008080\">, </span><span style=\"color: #008080; text-decoration-color: #008080\">'Ġare'</span><span style=\"color: #008080; text-decoration-color: #008080\">, </span><span style=\"color: #008080; text-decoration-color: #008080\">'Ġjustified'</span><span style=\"color: #008080; text-decoration-color: #008080\">, </span>\n",
       "<span style=\"color: #008080; text-decoration-color: #008080\">'.'</span><span style=\"color: #008080; text-decoration-color: #008080\">, </span><span style=\"color: #008080; text-decoration-color: #008080\">'Ġ'</span><span style=\"color: #008080; text-decoration-color: #008080\">, </span><span style=\"color: #008080; text-decoration-color: #008080\">'&lt;/think&gt;'</span><span style=\"color: #008080; text-decoration-color: #008080\">, </span><span style=\"color: #008080; text-decoration-color: #008080\">'&lt;think&gt;'</span><span style=\"color: #008080; text-decoration-color: #008080\">, </span><span style=\"color: #008080; text-decoration-color: #008080\">'Score'</span><span style=\"color: #008080; text-decoration-color: #008080\">, </span><span style=\"color: #008080; text-decoration-color: #008080\">'Ġde'</span><span style=\"color: #008080; text-decoration-color: #008080\">, </span><span style=\"color: #008080; text-decoration-color: #008080\">'Ġtoxic'</span><span style=\"color: #008080; text-decoration-color: #008080\">, </span><span style=\"color: #008080; text-decoration-color: #008080\">'itÃ©'</span><span style=\"color: #008080; text-decoration-color: #008080\">, </span><span style=\"color: #008080; text-decoration-color: #008080\">'Ġ:'</span><span style=\"color: #008080; text-decoration-color: #008080\">, </span><span style=\"color: #008080; text-decoration-color: #008080\">'Ġ'</span><span style=\"color: #008080; text-decoration-color: #008080\">, </span><span style=\"color: #008080; text-decoration-color: #008080\">'0'</span><span style=\"color: #008080; text-decoration-color: #008080\">, </span><span style=\"color: #008080; text-decoration-color: #008080\">'.'</span><span style=\"color: #008080; text-decoration-color: #008080\">, </span><span style=\"color: #008080; text-decoration-color: #008080\">'5'</span><span style=\"color: #008080; text-decoration-color: #008080\">, </span><span style=\"color: #008080; text-decoration-color: #008080\">'Ġ'</span><span style=\"color: #008080; text-decoration-color: #008080\">, </span><span style=\"color: #008080; text-decoration-color: #008080\">'&lt;/think&gt;'</span><span style=\"color: #008080; text-decoration-color: #008080\">, </span>\n",
       "<span style=\"color: #008080; text-decoration-color: #008080\">'&lt;think&gt;'</span><span style=\"color: #008080; text-decoration-color: #008080\">, </span><span style=\"color: #008080; text-decoration-color: #008080\">'Just'</span><span style=\"color: #008080; text-decoration-color: #008080\">, </span><span style=\"color: #008080; text-decoration-color: #008080\">'ification'</span><span style=\"color: #008080; text-decoration-color: #008080\">, </span><span style=\"color: #008080; text-decoration-color: #008080\">'Ġ:'</span><span style=\"color: #008080; text-decoration-color: #008080\">, </span><span style=\"color: #008080; text-decoration-color: #008080\">'ĠThe'</span><span style=\"color: #008080; text-decoration-color: #008080\">, </span><span style=\"color: #008080; text-decoration-color: #008080\">'Ġcontent'</span><span style=\"color: #008080; text-decoration-color: #008080\">, </span><span style=\"color: #008080; text-decoration-color: #008080\">'Ġis'</span><span style=\"color: #008080; text-decoration-color: #008080\">, </span><span style=\"color: #008080; text-decoration-color: #008080\">'Ġneutral'</span><span style=\"color: #008080; text-decoration-color: #008080\">, </span><span style=\"color: #008080; text-decoration-color: #008080\">'.'</span><span style=\"color: #008080; text-decoration-color: #008080\">, </span><span style=\"color: #008080; text-decoration-color: #008080\">'Ġ'</span><span style=\"color: #008080; text-decoration-color: #008080\">, </span><span style=\"color: #008080; text-decoration-color: #008080\">'&lt;/think&gt;'</span><span style=\"color: #008080; text-decoration-color: #008080; font-weight: bold\">]</span>\n",
       "</pre>\n"
      ],
      "text/plain": [
       "-> \u001b[1;36m[\u001b[0m\u001b[36m'Here'\u001b[0m\u001b[36m, \u001b[0m\u001b[36m'Ġis'\u001b[0m\u001b[36m, \u001b[0m\u001b[36m'Ġmy'\u001b[0m\u001b[36m, \u001b[0m\u001b[36m'Ġthought'\u001b[0m\u001b[36m, \u001b[0m\u001b[36m'Ġprocess'\u001b[0m\u001b[36m, \u001b[0m\u001b[36m':'\u001b[0m\u001b[36m, \u001b[0m\u001b[36m'Ġ'\u001b[0m\u001b[36m, \u001b[0m\u001b[36m'\u001b[0m\u001b[36m<\u001b[0m\u001b[36mthink\u001b[0m\u001b[36m>'\u001b[0m\u001b[36m, \u001b[0m\u001b[36m'<c'\u001b[0m\u001b[36m, \u001b[0m\u001b[36m'ot'\u001b[0m\u001b[36m, \u001b[0m\u001b[36m'_exp'\u001b[0m\u001b[36m, \u001b[0m\u001b[36m'lication'\u001b[0m\u001b[36m, \u001b[0m\u001b[36m'>'\u001b[0m\u001b[36m, \u001b[0m\u001b[36m'ĠI'\u001b[0m\u001b[36m, \u001b[0m\n",
       "\u001b[36m'Ġwill'\u001b[0m\u001b[36m, \u001b[0m\u001b[36m'Ġanalyze'\u001b[0m\u001b[36m, \u001b[0m\u001b[36m'Ġthe'\u001b[0m\u001b[36m, \u001b[0m\u001b[36m'Ġsituation'\u001b[0m\u001b[36m, \u001b[0m\u001b[36m'.'\u001b[0m\u001b[36m, \u001b[0m\u001b[36m'Ġ'\u001b[0m\u001b[36m, \u001b[0m\u001b[36m'</think>'\u001b[0m\u001b[36m, \u001b[0m\u001b[36m'<think>'\u001b[0m\u001b[36m, \u001b[0m\u001b[36m'T'\u001b[0m\u001b[36m, \u001b[0m\u001b[36m'ons'\u001b[0m\u001b[36m, \u001b[0m\u001b[36m'Ġ:'\u001b[0m\u001b[36m, \u001b[0m\u001b[36m'ĠI'\u001b[0m\u001b[36m, \u001b[0m\u001b[36m'Ġwill'\u001b[0m\u001b[36m, \u001b[0m\u001b[36m'Ġbe'\u001b[0m\u001b[36m,\u001b[0m\n",
       "\u001b[36m'Ġneutral'\u001b[0m\u001b[36m, \u001b[0m\u001b[36m'.'\u001b[0m\u001b[36m, \u001b[0m\u001b[36m'Ġ'\u001b[0m\u001b[36m, \u001b[0m\u001b[36m'</think>'\u001b[0m\u001b[36m, \u001b[0m\u001b[36m'ĠNow'\u001b[0m\u001b[36m, \u001b[0m\u001b[36m','\u001b[0m\u001b[36m, \u001b[0m\u001b[36m'ĠI'\u001b[0m\u001b[36m, \u001b[0m\u001b[36m'Ġconclude'\u001b[0m\u001b[36m, \u001b[0m\u001b[36m'Ġthat'\u001b[0m\u001b[36m, \u001b[0m\u001b[36m'Ġthe'\u001b[0m\u001b[36m, \u001b[0m\u001b[36m'Ġanswer'\u001b[0m\u001b[36m, \u001b[0m\u001b[36m'Ġis'\u001b[0m\u001b[36m, \u001b[0m\u001b[36m'Ġcorrect'\u001b[0m\u001b[36m, \u001b[0m\n",
       "\u001b[36m'.'\u001b[0m\u001b[36m, \u001b[0m\u001b[36m'</think>'\u001b[0m\u001b[36m, \u001b[0m\u001b[36m'<think>'\u001b[0m\u001b[36m, \u001b[0m\u001b[36m'Intent'\u001b[0m\u001b[36m, \u001b[0m\u001b[36m'ions'\u001b[0m\u001b[36m, \u001b[0m\u001b[36m'Ġ:'\u001b[0m\u001b[36m, \u001b[0m\u001b[36m'ĠI'\u001b[0m\u001b[36m, \u001b[0m\u001b[36m'Ġwant'\u001b[0m\u001b[36m, \u001b[0m\u001b[36m'Ġto'\u001b[0m\u001b[36m, \u001b[0m\u001b[36m'Ġprovide'\u001b[0m\u001b[36m, \u001b[0m\u001b[36m'Ġa'\u001b[0m\u001b[36m, \u001b[0m\u001b[36m'Ġclear'\u001b[0m\u001b[36m, \u001b[0m\n",
       "\u001b[36m'Ġexplanation'\u001b[0m\u001b[36m, \u001b[0m\u001b[36m'.'\u001b[0m\u001b[36m, \u001b[0m\u001b[36m'Ġ'\u001b[0m\u001b[36m, \u001b[0m\u001b[36m'</think>'\u001b[0m\u001b[36m, \u001b[0m\u001b[36m'<think>'\u001b[0m\u001b[36m, \u001b[0m\u001b[36m'Cat'\u001b[0m\u001b[36m, \u001b[0m\u001b[36m'Ã©gorie'\u001b[0m\u001b[36m, \u001b[0m\u001b[36m'\u001b[0m\u001b[36m(\u001b[0m\u001b[36ms'\u001b[0m\u001b[36m, \u001b[0m\u001b[36m'\u001b[0m\u001b[36m)\u001b[0m\u001b[36m'\u001b[0m\u001b[36m, \u001b[0m\u001b[36m'Ġde'\u001b[0m\u001b[36m, \u001b[0m\u001b[36m'Ġtoxic'\u001b[0m\u001b[36m, \u001b[0m\u001b[36m'itÃ©'\u001b[0m\u001b[36m, \u001b[0m\u001b[36m'Ġimplic'\u001b[0m\u001b[36m, \u001b[0m\n",
       "\u001b[36m'ite'\u001b[0m\u001b[36m, \u001b[0m\u001b[36m'Ġ:'\u001b[0m\u001b[36m, \u001b[0m\u001b[36m'ĠCategory'\u001b[0m\u001b[36m, \u001b[0m\u001b[36m'1'\u001b[0m\u001b[36m, \u001b[0m\u001b[36m','\u001b[0m\u001b[36m, \u001b[0m\u001b[36m'ĠCategory'\u001b[0m\u001b[36m, \u001b[0m\u001b[36m'2'\u001b[0m\u001b[36m, \u001b[0m\u001b[36m'Ġ'\u001b[0m\u001b[36m, \u001b[0m\u001b[36m'</think>'\u001b[0m\u001b[36m, \u001b[0m\u001b[36m'<think>'\u001b[0m\u001b[36m, \u001b[0m\u001b[36m'Just'\u001b[0m\u001b[36m, \u001b[0m\u001b[36m'ification'\u001b[0m\u001b[36m, \u001b[0m\u001b[36m'Ġ:'\u001b[0m\u001b[36m, \u001b[0m\n",
       "\u001b[36m'ĠThese'\u001b[0m\u001b[36m, \u001b[0m\u001b[36m'Ġcategories'\u001b[0m\u001b[36m, \u001b[0m\u001b[36m'Ġare'\u001b[0m\u001b[36m, \u001b[0m\u001b[36m'Ġrelevant'\u001b[0m\u001b[36m, \u001b[0m\u001b[36m'.'\u001b[0m\u001b[36m, \u001b[0m\u001b[36m'Ġ'\u001b[0m\u001b[36m, \u001b[0m\u001b[36m'</think>'\u001b[0m\u001b[36m, \u001b[0m\u001b[36m'<think>'\u001b[0m\u001b[36m, \u001b[0m\u001b[36m'Labels'\u001b[0m\u001b[36m, \u001b[0m\u001b[36m'Ġ:'\u001b[0m\u001b[36m, \u001b[0m\u001b[36m'ĠLabel'\u001b[0m\u001b[36m, \u001b[0m\u001b[36m'1'\u001b[0m\u001b[36m, \u001b[0m\u001b[36m','\u001b[0m\u001b[36m, \u001b[0m\n",
       "\u001b[36m'ĠLabel'\u001b[0m\u001b[36m, \u001b[0m\u001b[36m'2'\u001b[0m\u001b[36m, \u001b[0m\u001b[36m'Ġ'\u001b[0m\u001b[36m, \u001b[0m\u001b[36m'</think>'\u001b[0m\u001b[36m, \u001b[0m\u001b[36m'<think>'\u001b[0m\u001b[36m, \u001b[0m\u001b[36m'Just'\u001b[0m\u001b[36m, \u001b[0m\u001b[36m'ification'\u001b[0m\u001b[36m, \u001b[0m\u001b[36m'Ġ:'\u001b[0m\u001b[36m, \u001b[0m\u001b[36m'ĠThese'\u001b[0m\u001b[36m, \u001b[0m\u001b[36m'Ġlabels'\u001b[0m\u001b[36m, \u001b[0m\u001b[36m'Ġare'\u001b[0m\u001b[36m, \u001b[0m\u001b[36m'Ġjustified'\u001b[0m\u001b[36m, \u001b[0m\n",
       "\u001b[36m'.'\u001b[0m\u001b[36m, \u001b[0m\u001b[36m'Ġ'\u001b[0m\u001b[36m, \u001b[0m\u001b[36m'</think>'\u001b[0m\u001b[36m, \u001b[0m\u001b[36m'<think>'\u001b[0m\u001b[36m, \u001b[0m\u001b[36m'Score'\u001b[0m\u001b[36m, \u001b[0m\u001b[36m'Ġde'\u001b[0m\u001b[36m, \u001b[0m\u001b[36m'Ġtoxic'\u001b[0m\u001b[36m, \u001b[0m\u001b[36m'itÃ©'\u001b[0m\u001b[36m, \u001b[0m\u001b[36m'Ġ:'\u001b[0m\u001b[36m, \u001b[0m\u001b[36m'Ġ'\u001b[0m\u001b[36m, \u001b[0m\u001b[36m'0'\u001b[0m\u001b[36m, \u001b[0m\u001b[36m'.'\u001b[0m\u001b[36m, \u001b[0m\u001b[36m'5'\u001b[0m\u001b[36m, \u001b[0m\u001b[36m'Ġ'\u001b[0m\u001b[36m, \u001b[0m\u001b[36m'</think>'\u001b[0m\u001b[36m, \u001b[0m\n",
       "\u001b[36m'<think>'\u001b[0m\u001b[36m, \u001b[0m\u001b[36m'Just'\u001b[0m\u001b[36m, \u001b[0m\u001b[36m'ification'\u001b[0m\u001b[36m, \u001b[0m\u001b[36m'Ġ:'\u001b[0m\u001b[36m, \u001b[0m\u001b[36m'ĠThe'\u001b[0m\u001b[36m, \u001b[0m\u001b[36m'Ġcontent'\u001b[0m\u001b[36m, \u001b[0m\u001b[36m'Ġis'\u001b[0m\u001b[36m, \u001b[0m\u001b[36m'Ġneutral'\u001b[0m\u001b[36m, \u001b[0m\u001b[36m'.'\u001b[0m\u001b[36m, \u001b[0m\u001b[36m'Ġ'\u001b[0m\u001b[36m, \u001b[0m\u001b[36m'</think\u001b[0m\u001b[36m>\u001b[0m\u001b[36m'\u001b[0m\u001b[1;36m]\u001b[0m\n"
      ]
     },
     "metadata": {},
     "output_type": "display_data"
    },
    {
     "data": {
      "text/html": [
       "<pre style=\"white-space:pre;overflow-x:auto;line-height:normal;font-family:Menlo,'DejaVu Sans Mono',consolas,'Courier New',monospace\">\n",
       "</pre>\n"
      ],
      "text/plain": [
       "\n"
      ]
     },
     "metadata": {},
     "output_type": "display_data"
    },
    {
     "data": {
      "text/html": [
       "<pre style=\"white-space:pre;overflow-x:auto;line-height:normal;font-family:Menlo,'DejaVu Sans Mono',consolas,'Courier New',monospace\"><span style=\"color: #00ff00; text-decoration-color: #00ff00\">─────────────────────────────────── </span><span style=\"color: #808000; text-decoration-color: #808000; font-weight: bold\">Loading LoRA Adapters from Local Checkpoint</span><span style=\"color: #00ff00; text-decoration-color: #00ff00\"> ───────────────────────────────────</span>\n",
       "</pre>\n"
      ],
      "text/plain": [
       "\u001b[92m─────────────────────────────────── \u001b[0m\u001b[1;33mLoading LoRA Adapters from Local Checkpoint\u001b[0m\u001b[92m ───────────────────────────────────\u001b[0m\n"
      ]
     },
     "metadata": {},
     "output_type": "display_data"
    },
    {
     "data": {
      "text/html": [
       "<pre style=\"white-space:pre;overflow-x:auto;line-height:normal;font-family:Menlo,'DejaVu Sans Mono',consolas,'Courier New',monospace\">Attempting to load adapters from: \n",
       "<span style=\"color: #008080; text-decoration-color: #008080\">output_odal_Qwen3-4B_</span><span style=\"color: #008080; text-decoration-color: #008080; font-weight: bold\">&lt;cot_intention</span><span style=\"color: #008080; text-decoration-color: #008080\">&gt;-&lt;cot_categorie_list&gt;-&lt;cot_labels_list</span><span style=\"color: #008080; text-decoration-color: #008080; font-weight: bold\">&gt;</span><span style=\"color: #008080; text-decoration-color: #008080\">/checkpoint-400</span>\n",
       "</pre>\n"
      ],
      "text/plain": [
       "Attempting to load adapters from: \n",
       "\u001b[36moutput_odal_Qwen3-4B_\u001b[0m\u001b[1;36m<\u001b[0m\u001b[1;36mcot_intention\u001b[0m\u001b[36m>-<cot_categorie_list>-<cot_labels_list\u001b[0m\u001b[1;36m>\u001b[0m\u001b[36m/\u001b[0m\u001b[36mcheckpoint-400\u001b[0m\n"
      ]
     },
     "metadata": {},
     "output_type": "display_data"
    },
    {
     "data": {
      "text/html": [
       "<pre style=\"white-space:pre;overflow-x:auto;line-height:normal;font-family:Menlo,'DejaVu Sans Mono',consolas,'Courier New',monospace\"><span style=\"color: #008000; text-decoration-color: #008000; font-weight: bold\">Successfully loaded LoRA adapters from </span>\n",
       "<span style=\"color: #008000; text-decoration-color: #008000; font-weight: bold\">'output_odal_Qwen3-4B_&lt;cot_intention&gt;-&lt;cot_categorie_list&gt;-&lt;cot_labels_list&gt;/checkpoint-400'</span><span style=\"color: #008000; text-decoration-color: #008000; font-weight: bold\">!</span>\n",
       "</pre>\n"
      ],
      "text/plain": [
       "\u001b[1;32mSuccessfully loaded LoRA adapters from \u001b[0m\n",
       "\u001b[1;32m'output_odal_Qwen3-4B_\u001b[0m\u001b[1;32m<\u001b[0m\u001b[1;32mcot_intention\u001b[0m\u001b[1;32m>-<cot_categorie_list>-<cot_labels_list\u001b[0m\u001b[1;32m>\u001b[0m\u001b[1;32m/checkpoint-400'\u001b[0m\u001b[1;32m!\u001b[0m\n"
      ]
     },
     "metadata": {},
     "output_type": "display_data"
    },
    {
     "data": {
      "text/html": [
       "<pre style=\"white-space:pre;overflow-x:auto;line-height:normal;font-family:Menlo,'DejaVu Sans Mono',consolas,'Courier New',monospace\">Model with adapters moved to device: <span style=\"color: #008080; text-decoration-color: #008080\">cu</span><span style=\"color: #008080; text-decoration-color: #008080; font-weight: bold\">da:0</span>\n",
       "</pre>\n"
      ],
      "text/plain": [
       "Model with adapters moved to device: \u001b[36mcu\u001b[0m\u001b[1;36mda:0\u001b[0m\n"
      ]
     },
     "metadata": {},
     "output_type": "display_data"
    },
    {
     "data": {
      "text/html": [
       "<pre style=\"white-space:pre;overflow-x:auto;line-height:normal;font-family:Menlo,'DejaVu Sans Mono',consolas,'Courier New',monospace\">\n",
       "</pre>\n"
      ],
      "text/plain": [
       "\n"
      ]
     },
     "metadata": {},
     "output_type": "display_data"
    },
    {
     "data": {
      "text/html": [
       "<pre style=\"white-space:pre;overflow-x:auto;line-height:normal;font-family:Menlo,'DejaVu Sans Mono',consolas,'Courier New',monospace\">\n",
       "</pre>\n"
      ],
      "text/plain": [
       "\n"
      ]
     },
     "metadata": {},
     "output_type": "display_data"
    },
    {
     "data": {
      "text/html": [
       "<pre style=\"white-space:pre;overflow-x:auto;line-height:normal;font-family:Menlo,'DejaVu Sans Mono',consolas,'Courier New',monospace\">\n",
       "\n",
       "</pre>\n"
      ],
      "text/plain": [
       "\n",
       "\n"
      ]
     },
     "metadata": {},
     "output_type": "display_data"
    },
    {
     "data": {
      "text/html": [
       "<pre style=\"white-space:pre;overflow-x:auto;line-height:normal;font-family:Menlo,'DejaVu Sans Mono',consolas,'Courier New',monospace\"><span style=\"color: #00ff00; text-decoration-color: #00ff00\">─────────────────────────────────────────────── </span><span style=\"color: #808000; text-decoration-color: #808000; font-weight: bold\">Model Configuration</span><span style=\"color: #00ff00; text-decoration-color: #00ff00\"> ───────────────────────────────────────────────</span>\n",
       "</pre>\n"
      ],
      "text/plain": [
       "\u001b[92m─────────────────────────────────────────────── \u001b[0m\u001b[1;33mModel Configuration\u001b[0m\u001b[92m ───────────────────────────────────────────────\u001b[0m\n"
      ]
     },
     "metadata": {},
     "output_type": "display_data"
    },
    {
     "data": {
      "text/html": [
       "<pre style=\"white-space:pre;overflow-x:auto;line-height:normal;font-family:Menlo,'DejaVu Sans Mono',consolas,'Courier New',monospace\">Model Max Sequence Length: <span style=\"color: #008080; text-decoration-color: #008080; font-weight: bold\">40960</span> tokens\n",
       "</pre>\n"
      ],
      "text/plain": [
       "Model Max Sequence Length: \u001b[1;36m40960\u001b[0m tokens\n"
      ]
     },
     "metadata": {},
     "output_type": "display_data"
    },
    {
     "data": {
      "text/html": [
       "<pre style=\"white-space:pre;overflow-x:auto;line-height:normal;font-family:Menlo,'DejaVu Sans Mono',consolas,'Courier New',monospace\">Sliding Window Attention Size: <span style=\"color: #008080; text-decoration-color: #008080; font-weight: bold; font-style: italic\">None</span> tokens\n",
       "</pre>\n"
      ],
      "text/plain": [
       "Sliding Window Attention Size: \u001b[1;3;36mNone\u001b[0m tokens\n"
      ]
     },
     "metadata": {},
     "output_type": "display_data"
    },
    {
     "data": {
      "text/html": [
       "<pre style=\"white-space:pre;overflow-x:auto;line-height:normal;font-family:Menlo,'DejaVu Sans Mono',consolas,'Courier New',monospace\">\n",
       "</pre>\n"
      ],
      "text/plain": [
       "\n"
      ]
     },
     "metadata": {},
     "output_type": "display_data"
    }
   ],
   "source": [
    "handler = QLoRAModelHandler(\n",
    "        model_name=model,\n",
    "        dataset_path=dataset_path,\n",
    "        dataset_name=dataset_name,\n",
    "        text_field=text_field,\n",
    "        cot_field=cot_field,\n",
    "        label_field=label_field,\n",
    "        use_proxy=use_proxy,\n",
    "        local_checkpoint=local_checkpoint,\n",
    "    )"
   ]
  },
  {
   "cell_type": "markdown",
   "id": "e69d019c",
   "metadata": {},
   "source": [
    "## Import dataset"
   ]
  },
  {
   "cell_type": "code",
   "execution_count": 4,
   "id": "0cbc09df",
   "metadata": {},
   "outputs": [
    {
     "data": {
      "application/vnd.jupyter.widget-view+json": {
       "model_id": "2bf8b6660f284ea4aed1912917595553",
       "version_major": 2,
       "version_minor": 0
      },
      "text/plain": [
       "Map:   0%|          | 0/52274 [00:00<?, ? examples/s]"
      ]
     },
     "metadata": {},
     "output_type": "display_data"
    },
    {
     "data": {
      "application/vnd.jupyter.widget-view+json": {
       "model_id": "70e1175f7c894ca6b6e8a1406f393630",
       "version_major": 2,
       "version_minor": 0
      },
      "text/plain": [
       "Map:   0%|          | 0/1388 [00:00<?, ? examples/s]"
      ]
     },
     "metadata": {},
     "output_type": "display_data"
    },
    {
     "data": {
      "text/html": [
       "<pre style=\"white-space:pre;overflow-x:auto;line-height:normal;font-family:Menlo,'DejaVu Sans Mono',consolas,'Courier New',monospace\"><span style=\"color: #008000; text-decoration-color: #008000\">Train:</span> <span style=\"color: #008080; text-decoration-color: #008080; font-weight: bold\">52274</span>  <span style=\"color: #008080; text-decoration-color: #008080\">Test:</span> <span style=\"color: #008080; text-decoration-color: #008080; font-weight: bold\">1388</span>\n",
       "</pre>\n"
      ],
      "text/plain": [
       "\u001b[32mTrain:\u001b[0m \u001b[1;36m52274\u001b[0m  \u001b[36mTest:\u001b[0m \u001b[1;36m1388\u001b[0m\n"
      ]
     },
     "metadata": {},
     "output_type": "display_data"
    }
   ],
   "source": [
    "handler.prepare_dataset()"
   ]
  },
  {
   "cell_type": "markdown",
   "id": "c8682f48",
   "metadata": {},
   "source": [
    "## Generate predictions"
   ]
  },
  {
   "cell_type": "code",
   "execution_count": 5,
   "id": "ccb7f604",
   "metadata": {},
   "outputs": [],
   "source": [
    "# Chose a random sample from the dataset\n",
    "rng = np.random.default_rng(42)\n",
    "sampled_index = rng.integers(0, len(handler.dataset['test']), size=nb_generations)\n",
    "sampled_data = np.array(handler.dataset['test']['prompt'])[sampled_index]"
   ]
  },
  {
   "cell_type": "code",
   "execution_count": 6,
   "id": "8d7f5e80",
   "metadata": {},
   "outputs": [
    {
     "name": "stdout",
     "output_type": "stream",
     "text": [
      "- Sujet : Une personne en train de courir rapidement.\n",
      "- Sens probable : L'auteur exprime une surprise ou une admiration face à la vitesse de quelqu'un, tout en utilisant une language outrancier. L'expression \"peuple des ténèbres\" semble faire référence à un groupe ou une entité négative, mais son sens exact reste flou.\n",
      "</think>\n",
      "<think>\n",
      "Tons :\n",
      "Tons perçus : Agressif (90%), Méprisant (80%), Étonné (70%).\n",
      "\n",
      "Justification : L’expression \"pute\" indique une connotation péjorative et offensante, ce qui traduit une agressivité et un mépris envers la personne mentionnée. L'étonnement est suggéré par l'utilisation de \"dingue\", mais cela est atténué par le langage choquant. Doutes existent sur le niveau d'admiration réelle.\n",
      "</think>\n",
      "<think>\n",
      "Score de toxicité :\n",
      "6/10\n",
      "\n",
      "Justification :\n",
      "Utilisation d’un terme dégradant avec ton agressif et méprisant, mais sans incitation à la violence ou haine généralisée.\n",
      "</think>\n",
      "\n",
      "En conclusion, ce message est-il toxique ?\n",
      "\n",
      "oui<|im_end|>\n"
     ]
    }
   ],
   "source": [
    "print(handler.dataset['test']['completion'][3])"
   ]
  },
  {
   "cell_type": "code",
   "execution_count": 7,
   "id": "0e74445c",
   "metadata": {},
   "outputs": [
    {
     "data": {
      "text/html": [
       "<pre style=\"white-space:pre;overflow-x:auto;line-height:normal;font-family:Menlo,'DejaVu Sans Mono',consolas,'Courier New',monospace\">\n",
       "\n",
       "</pre>\n"
      ],
      "text/plain": [
       "\n",
       "\n"
      ]
     },
     "metadata": {},
     "output_type": "display_data"
    },
    {
     "data": {
      "text/html": [
       "<pre style=\"white-space:pre;overflow-x:auto;line-height:normal;font-family:Menlo,'DejaVu Sans Mono',consolas,'Courier New',monospace\"><span style=\"color: #00ff00; text-decoration-color: #00ff00\">───────────────────────────────────────────────────── </span><span style=\"color: #808000; text-decoration-color: #808000; font-weight: bold\">Prompt</span><span style=\"color: #00ff00; text-decoration-color: #00ff00\"> ──────────────────────────────────────────────────────</span>\n",
       "</pre>\n"
      ],
      "text/plain": [
       "\u001b[92m───────────────────────────────────────────────────── \u001b[0m\u001b[1;33mPrompt\u001b[0m\u001b[92m ──────────────────────────────────────────────────────\u001b[0m\n"
      ]
     },
     "metadata": {},
     "output_type": "display_data"
    },
    {
     "data": {
      "text/html": [
       "<pre style=\"white-space:pre;overflow-x:auto;line-height:normal;font-family:Menlo,'DejaVu Sans Mono',consolas,'Courier New',monospace\">\n",
       "\n",
       "</pre>\n"
      ],
      "text/plain": [
       "\n",
       "\n"
      ]
     },
     "metadata": {},
     "output_type": "display_data"
    },
    {
     "data": {
      "text/html": [
       "<pre style=\"white-space:pre;overflow-x:auto;line-height:normal;font-family:Menlo,'DejaVu Sans Mono',consolas,'Courier New',monospace\"><span style=\"color: #c0c0c0; text-decoration-color: #c0c0c0; background-color: #000000; font-style: italic\">╭─────────────────────</span> Prompt <span style=\"color: #c0c0c0; text-decoration-color: #c0c0c0; background-color: #000000; font-style: italic\">──────────────────────╮</span>\n",
       "<span style=\"color: #c0c0c0; text-decoration-color: #c0c0c0; background-color: #000000; font-style: italic\">│ Message:                                          │</span>\n",
       "<span style=\"color: #c0c0c0; text-decoration-color: #c0c0c0; background-color: #000000; font-style: italic\">│ bordel et l'odeur comment tu gères ??             │</span>\n",
       "<span style=\"color: #c0c0c0; text-decoration-color: #c0c0c0; background-color: #000000; font-style: italic\">│ t'arrives à maintenir une érection et pas vomir ? │</span>\n",
       "<span style=\"color: #c0c0c0; text-decoration-color: #c0c0c0; background-color: #000000; font-style: italic\">│ :hap:                                             │</span>\n",
       "<span style=\"color: #c0c0c0; text-decoration-color: #c0c0c0; background-color: #000000; font-style: italic\">│                                                   │</span>\n",
       "<span style=\"color: #c0c0c0; text-decoration-color: #c0c0c0; background-color: #000000; font-style: italic\">│ Analyse:                                          │</span>\n",
       "<span style=\"color: #c0c0c0; text-decoration-color: #c0c0c0; background-color: #000000; font-style: italic\">│ &lt;think&gt;                                           │</span>\n",
       "<span style=\"color: #c0c0c0; text-decoration-color: #c0c0c0; background-color: #000000; font-style: italic\">│ Explication :                                     │</span>\n",
       "<span style=\"color: #c0c0c0; text-decoration-color: #c0c0c0; background-color: #000000; font-style: italic\">│                                                   │</span>\n",
       "<span style=\"color: #c0c0c0; text-decoration-color: #c0c0c0; background-color: #000000; font-style: italic\">╰───────────────────────────────────────────────────╯</span>\n",
       "</pre>\n"
      ],
      "text/plain": [
       "\u001b[3;37;40m╭─\u001b[0m\u001b[3;37;40m────────────────────\u001b[0m Prompt \u001b[3;37;40m─────────────────────\u001b[0m\u001b[3;37;40m─╮\u001b[0m\n",
       "\u001b[3;37;40m│\u001b[0m\u001b[3;37;40m \u001b[0m\u001b[3;37;40mMessage:\u001b[0m\u001b[3;37;40m                                         \u001b[0m\u001b[3;37;40m \u001b[0m\u001b[3;37;40m│\u001b[0m\n",
       "\u001b[3;37;40m│\u001b[0m\u001b[3;37;40m \u001b[0m\u001b[3;37;40mbordel et l'odeur comment tu gères ??\u001b[0m\u001b[3;37;40m            \u001b[0m\u001b[3;37;40m \u001b[0m\u001b[3;37;40m│\u001b[0m\n",
       "\u001b[3;37;40m│\u001b[0m\u001b[3;37;40m \u001b[0m\u001b[3;37;40mt'arrives à maintenir une érection et pas vomir ?\u001b[0m\u001b[3;37;40m \u001b[0m\u001b[3;37;40m│\u001b[0m\n",
       "\u001b[3;37;40m│\u001b[0m\u001b[3;37;40m \u001b[0m\u001b[3;37;40m:hap:\u001b[0m\u001b[3;37;40m                                            \u001b[0m\u001b[3;37;40m \u001b[0m\u001b[3;37;40m│\u001b[0m\n",
       "\u001b[3;37;40m│\u001b[0m\u001b[3;37;40m \u001b[0m\u001b[3;37;40m                                                 \u001b[0m\u001b[3;37;40m \u001b[0m\u001b[3;37;40m│\u001b[0m\n",
       "\u001b[3;37;40m│\u001b[0m\u001b[3;37;40m \u001b[0m\u001b[3;37;40mAnalyse:\u001b[0m\u001b[3;37;40m                                         \u001b[0m\u001b[3;37;40m \u001b[0m\u001b[3;37;40m│\u001b[0m\n",
       "\u001b[3;37;40m│\u001b[0m\u001b[3;37;40m \u001b[0m\u001b[3;37;40m<think>\u001b[0m\u001b[3;37;40m                                          \u001b[0m\u001b[3;37;40m \u001b[0m\u001b[3;37;40m│\u001b[0m\n",
       "\u001b[3;37;40m│\u001b[0m\u001b[3;37;40m \u001b[0m\u001b[3;37;40mExplication :\u001b[0m\u001b[3;37;40m                                    \u001b[0m\u001b[3;37;40m \u001b[0m\u001b[3;37;40m│\u001b[0m\n",
       "\u001b[3;37;40m│\u001b[0m\u001b[3;37;40m \u001b[0m\u001b[3;37;40m                                                 \u001b[0m\u001b[3;37;40m \u001b[0m\u001b[3;37;40m│\u001b[0m\n",
       "\u001b[3;37;40m╰───────────────────────────────────────────────────╯\u001b[0m\n"
      ]
     },
     "metadata": {},
     "output_type": "display_data"
    },
    {
     "data": {
      "text/html": [
       "<pre style=\"white-space:pre;overflow-x:auto;line-height:normal;font-family:Menlo,'DejaVu Sans Mono',consolas,'Courier New',monospace\">\n",
       "\n",
       "</pre>\n"
      ],
      "text/plain": [
       "\n",
       "\n"
      ]
     },
     "metadata": {},
     "output_type": "display_data"
    },
    {
     "data": {
      "text/html": [
       "<pre style=\"white-space:pre;overflow-x:auto;line-height:normal;font-family:Menlo,'DejaVu Sans Mono',consolas,'Courier New',monospace\"><span style=\"color: #00ff00; text-decoration-color: #00ff00\">────────────────────────────────────────────────── </span><span style=\"color: #800080; text-decoration-color: #800080; font-weight: bold\">Model Output</span><span style=\"color: #00ff00; text-decoration-color: #00ff00\"> ───────────────────────────────────────────────────</span>\n",
       "</pre>\n"
      ],
      "text/plain": [
       "\u001b[92m────────────────────────────────────────────────── \u001b[0m\u001b[1;35mModel Output\u001b[0m\u001b[92m ───────────────────────────────────────────────────\u001b[0m\n"
      ]
     },
     "metadata": {},
     "output_type": "display_data"
    },
    {
     "data": {
      "text/html": [
       "<pre style=\"white-space:pre;overflow-x:auto;line-height:normal;font-family:Menlo,'DejaVu Sans Mono',consolas,'Courier New',monospace\">\n",
       "\n",
       "</pre>\n"
      ],
      "text/plain": [
       "\n",
       "\n"
      ]
     },
     "metadata": {},
     "output_type": "display_data"
    },
    {
     "data": {
      "text/html": [
       "<pre style=\"white-space:pre;overflow-x:auto;line-height:normal;font-family:Menlo,'DejaVu Sans Mono',consolas,'Courier New',monospace\"><span style=\"color: #c0c0c0; text-decoration-color: #c0c0c0; background-color: #000000; font-weight: bold\">╭────────────────────────────────────────────────</span> Generated Text <span style=\"color: #c0c0c0; text-decoration-color: #c0c0c0; background-color: #000000; font-weight: bold\">─────────────────────────────────────────────────╮</span>\n",
       "<span style=\"color: #c0c0c0; text-decoration-color: #c0c0c0; background-color: #000000; font-weight: bold\">│ Message:                                                                                                        │</span>\n",
       "<span style=\"color: #c0c0c0; text-decoration-color: #c0c0c0; background-color: #000000; font-weight: bold\">│ bordel et l'odeur comment tu gères ??                                                                           │</span>\n",
       "<span style=\"color: #c0c0c0; text-decoration-color: #c0c0c0; background-color: #000000; font-weight: bold\">│ t'arrives à maintenir une érection et pas vomir ?                                                               │</span>\n",
       "<span style=\"color: #c0c0c0; text-decoration-color: #c0c0c0; background-color: #000000; font-weight: bold\">│ :hap:                                                                                                           │</span>\n",
       "<span style=\"color: #c0c0c0; text-decoration-color: #c0c0c0; background-color: #000000; font-weight: bold\">│                                                                                                                 │</span>\n",
       "<span style=\"color: #c0c0c0; text-decoration-color: #c0c0c0; background-color: #000000; font-weight: bold\">│ Analyse:                                                                                                        │</span>\n",
       "<span style=\"color: #c0c0c0; text-decoration-color: #c0c0c0; background-color: #000000; font-weight: bold\">│ &lt;think&gt;                                                                                                         │</span>\n",
       "<span style=\"color: #c0c0c0; text-decoration-color: #c0c0c0; background-color: #000000; font-weight: bold\">│ Explication :                                                                                                   │</span>\n",
       "<span style=\"color: #c0c0c0; text-decoration-color: #c0c0c0; background-color: #000000; font-weight: bold\">│ **Sujet du message :** Gestion de l'odeur corporelle.                                                           │</span>\n",
       "<span style=\"color: #c0c0c0; text-decoration-color: #c0c0c0; background-color: #000000; font-weight: bold\">│                                                                                                                 │</span>\n",
       "<span style=\"color: #c0c0c0; text-decoration-color: #c0c0c0; background-color: #000000; font-weight: bold\">│ **Sens probable :** L'auteur s'interroge sur la capacité d'une personne à résister à l'odeur corporelle, tout   │</span>\n",
       "<span style=\"color: #c0c0c0; text-decoration-color: #c0c0c0; background-color: #000000; font-weight: bold\">│ en se demandant si elle peut encore avoir un rapport sexuel sans vomir.                                         │</span>\n",
       "<span style=\"color: #c0c0c0; text-decoration-color: #c0c0c0; background-color: #000000; font-weight: bold\">│                                                                                                                 │</span>\n",
       "<span style=\"color: #c0c0c0; text-decoration-color: #c0c0c0; background-color: #000000; font-weight: bold\">│ L'expression \"t'arrives\" semble désigner une réponse ou une expérience personnelle.                             │</span>\n",
       "<span style=\"color: #c0c0c0; text-decoration-color: #c0c0c0; background-color: #000000; font-weight: bold\">│ &lt;/think&gt;                                                                                                        │</span>\n",
       "<span style=\"color: #c0c0c0; text-decoration-color: #c0c0c0; background-color: #000000; font-weight: bold\">│ &lt;think&gt;                                                                                                         │</span>\n",
       "<span style=\"color: #c0c0c0; text-decoration-color: #c0c0c0; background-color: #000000; font-weight: bold\">│ Tons :                                                                                                          │</span>\n",
       "<span style=\"color: #c0c0c0; text-decoration-color: #c0c0c0; background-color: #000000; font-weight: bold\">│ Tons identifiés :                                                                                               │</span>\n",
       "<span style=\"color: #c0c0c0; text-decoration-color: #c0c0c0; background-color: #000000; font-weight: bold\">│                                                                                                                 │</span>\n",
       "<span style=\"color: #c0c0c0; text-decoration-color: #c0c0c0; background-color: #000000; font-weight: bold\">│ 1. **Humoristique (80%)** : Le ton léger est marqué par des expressions comme « bordel » et le questionnement   │</span>\n",
       "<span style=\"color: #c0c0c0; text-decoration-color: #c0c0c0; background-color: #000000; font-weight: bold\">│ absurde sur la capacité à maintenir une érection sans vomir. Cela dénote une intention comique.                 │</span>\n",
       "<span style=\"color: #c0c0c0; text-decoration-color: #c0c0c0; background-color: #000000; font-weight: bold\">│                                                                                                                 │</span>\n",
       "<span style=\"color: #c0c0c0; text-decoration-color: #c0c0c0; background-color: #000000; font-weight: bold\">│ 2. **Provocateur (75%)** : La formulation directe et les questions sur la gestion de l'odeur peuvent être       │</span>\n",
       "<span style=\"color: #c0c0c0; text-decoration-color: #c0c0c0; background-color: #000000; font-weight: bold\">│ perçues comme provocantes, visant à susciter une réaction chez l'autre.                                         │</span>\n",
       "<span style=\"color: #c0c0c0; text-decoration-color: #c0c0c0; background-color: #000000; font-weight: bold\">│                                                                                                                 │</span>\n",
       "<span style=\"color: #c0c0c0; text-decoration-color: #c0c0c0; background-color: #000000; font-weight: bold\">│ 3. **Apathique (60%)** : Un certain désintérêt pour la situation pourrait transparaître dans le choix des mots  │</span>\n",
       "<span style=\"color: #c0c0c0; text-decoration-color: #c0c0c0; background-color: #000000; font-weight: bold\">│ et le ton général, ce qui pourrait indiquer une forme de distanciation.                                         │</span>\n",
       "<span style=\"color: #c0c0c0; text-decoration-color: #c0c0c0; background-color: #000000; font-weight: bold\">│                                                                                                                 │</span>\n",
       "<span style=\"color: #c0c0c0; text-decoration-color: #c0c0c0; background-color: #000000; font-weight: bold\">│ Doutes : L'humour peut varier selon le contexte relationnel entre les interlocuteurs.                           │</span>\n",
       "<span style=\"color: #c0c0c0; text-decoration-color: #c0c0c0; background-color: #000000; font-weight: bold\">│ &lt;/think&gt;                                                                                                        │</span>\n",
       "<span style=\"color: #c0c0c0; text-decoration-color: #c0c0c0; background-color: #000000; font-weight: bold\">│ &lt;think&gt;                                                                                                         │</span>\n",
       "<span style=\"color: #c0c0c0; text-decoration-color: #c0c0c0; background-color: #000000; font-weight: bold\">│ Score de toxicité :                                                                                             │</span>\n",
       "<span style=\"color: #c0c0c0; text-decoration-color: #c0c0c0; background-color: #000000; font-weight: bold\">│ 4/10                                                                                                            │</span>\n",
       "<span style=\"color: #c0c0c0; text-decoration-color: #c0c0c0; background-color: #000000; font-weight: bold\">│                                                                                                                 │</span>\n",
       "<span style=\"color: #c0c0c0; text-decoration-color: #c0c0c0; background-color: #000000; font-weight: bold\">│ Justification :                                                                                                 │</span>\n",
       "<span style=\"color: #c0c0c0; text-decoration-color: #c0c0c0; background-color: #000000; font-weight: bold\">│ Le message utilise l'humour avec une moquerie implicite, mais reste ambigu sans incitation claire à la haine ou │</span>\n",
       "<span style=\"color: #c0c0c0; text-decoration-color: #c0c0c0; background-color: #000000; font-weight: bold\">│ à la violence.                                                                                                  │</span>\n",
       "<span style=\"color: #c0c0c0; text-decoration-color: #c0c0c0; background-color: #000000; font-weight: bold\">│ &lt;/think&gt;                                                                                                        │</span>\n",
       "<span style=\"color: #c0c0c0; text-decoration-color: #c0c0c0; background-color: #000000; font-weight: bold\">│                                                                                                                 │</span>\n",
       "<span style=\"color: #c0c0c0; text-decoration-color: #c0c0c0; background-color: #000000; font-weight: bold\">│ En conclusion, ce message est-il toxique ?                                                                      │</span>\n",
       "<span style=\"color: #c0c0c0; text-decoration-color: #c0c0c0; background-color: #000000; font-weight: bold\">│                                                                                                                 │</span>\n",
       "<span style=\"color: #c0c0c0; text-decoration-color: #c0c0c0; background-color: #000000; font-weight: bold\">│ non&lt;|im_end|&gt;                                                                                                   │</span>\n",
       "<span style=\"color: #c0c0c0; text-decoration-color: #c0c0c0; background-color: #000000; font-weight: bold\">╰─────────────────────────────────────────────────────────────────────────────────────────────────────────────────╯</span>\n",
       "</pre>\n"
      ],
      "text/plain": [
       "\u001b[1;37;40m╭─\u001b[0m\u001b[1;37;40m───────────────────────────────────────────────\u001b[0m Generated Text \u001b[1;37;40m────────────────────────────────────────────────\u001b[0m\u001b[1;37;40m─╮\u001b[0m\n",
       "\u001b[1;37;40m│\u001b[0m\u001b[1;37;40m \u001b[0m\u001b[1;37;40mMessage:\u001b[0m\u001b[1;37;40m                                                                                                       \u001b[0m\u001b[1;37;40m \u001b[0m\u001b[1;37;40m│\u001b[0m\n",
       "\u001b[1;37;40m│\u001b[0m\u001b[1;37;40m \u001b[0m\u001b[1;37;40mbordel et l'odeur comment tu gères ??\u001b[0m\u001b[1;37;40m                                                                          \u001b[0m\u001b[1;37;40m \u001b[0m\u001b[1;37;40m│\u001b[0m\n",
       "\u001b[1;37;40m│\u001b[0m\u001b[1;37;40m \u001b[0m\u001b[1;37;40mt'arrives à maintenir une érection et pas vomir ?\u001b[0m\u001b[1;37;40m                                                              \u001b[0m\u001b[1;37;40m \u001b[0m\u001b[1;37;40m│\u001b[0m\n",
       "\u001b[1;37;40m│\u001b[0m\u001b[1;37;40m \u001b[0m\u001b[1;37;40m:hap:\u001b[0m\u001b[1;37;40m                                                                                                          \u001b[0m\u001b[1;37;40m \u001b[0m\u001b[1;37;40m│\u001b[0m\n",
       "\u001b[1;37;40m│\u001b[0m\u001b[1;37;40m \u001b[0m\u001b[1;37;40m                                                                                                               \u001b[0m\u001b[1;37;40m \u001b[0m\u001b[1;37;40m│\u001b[0m\n",
       "\u001b[1;37;40m│\u001b[0m\u001b[1;37;40m \u001b[0m\u001b[1;37;40mAnalyse:\u001b[0m\u001b[1;37;40m                                                                                                       \u001b[0m\u001b[1;37;40m \u001b[0m\u001b[1;37;40m│\u001b[0m\n",
       "\u001b[1;37;40m│\u001b[0m\u001b[1;37;40m \u001b[0m\u001b[1;37;40m<think>\u001b[0m\u001b[1;37;40m                                                                                                        \u001b[0m\u001b[1;37;40m \u001b[0m\u001b[1;37;40m│\u001b[0m\n",
       "\u001b[1;37;40m│\u001b[0m\u001b[1;37;40m \u001b[0m\u001b[1;37;40mExplication :\u001b[0m\u001b[1;37;40m                                                                                                  \u001b[0m\u001b[1;37;40m \u001b[0m\u001b[1;37;40m│\u001b[0m\n",
       "\u001b[1;37;40m│\u001b[0m\u001b[1;37;40m \u001b[0m\u001b[1;37;40m**Sujet du message :** Gestion de l'odeur corporelle.\u001b[0m\u001b[1;37;40m                                                          \u001b[0m\u001b[1;37;40m \u001b[0m\u001b[1;37;40m│\u001b[0m\n",
       "\u001b[1;37;40m│\u001b[0m\u001b[1;37;40m \u001b[0m\u001b[1;37;40m                                                                                                               \u001b[0m\u001b[1;37;40m \u001b[0m\u001b[1;37;40m│\u001b[0m\n",
       "\u001b[1;37;40m│\u001b[0m\u001b[1;37;40m \u001b[0m\u001b[1;37;40m**Sens probable :** L'auteur s'interroge sur la capacité d'une personne à résister à l'odeur corporelle, tout \u001b[0m\u001b[1;37;40m \u001b[0m\u001b[1;37;40m \u001b[0m\u001b[1;37;40m│\u001b[0m\n",
       "\u001b[1;37;40m│\u001b[0m\u001b[1;37;40m \u001b[0m\u001b[1;37;40men se demandant si elle peut encore avoir un rapport sexuel sans vomir. \u001b[0m\u001b[1;37;40m                                       \u001b[0m\u001b[1;37;40m \u001b[0m\u001b[1;37;40m│\u001b[0m\n",
       "\u001b[1;37;40m│\u001b[0m\u001b[1;37;40m \u001b[0m\u001b[1;37;40m                                                                                                               \u001b[0m\u001b[1;37;40m \u001b[0m\u001b[1;37;40m│\u001b[0m\n",
       "\u001b[1;37;40m│\u001b[0m\u001b[1;37;40m \u001b[0m\u001b[1;37;40mL'expression \"t'arrives\" semble désigner une réponse ou une expérience personnelle.\u001b[0m\u001b[1;37;40m                            \u001b[0m\u001b[1;37;40m \u001b[0m\u001b[1;37;40m│\u001b[0m\n",
       "\u001b[1;37;40m│\u001b[0m\u001b[1;37;40m \u001b[0m\u001b[1;37;40m</think>\u001b[0m\u001b[1;37;40m                                                                                                       \u001b[0m\u001b[1;37;40m \u001b[0m\u001b[1;37;40m│\u001b[0m\n",
       "\u001b[1;37;40m│\u001b[0m\u001b[1;37;40m \u001b[0m\u001b[1;37;40m<think>\u001b[0m\u001b[1;37;40m                                                                                                        \u001b[0m\u001b[1;37;40m \u001b[0m\u001b[1;37;40m│\u001b[0m\n",
       "\u001b[1;37;40m│\u001b[0m\u001b[1;37;40m \u001b[0m\u001b[1;37;40mTons :\u001b[0m\u001b[1;37;40m                                                                                                         \u001b[0m\u001b[1;37;40m \u001b[0m\u001b[1;37;40m│\u001b[0m\n",
       "\u001b[1;37;40m│\u001b[0m\u001b[1;37;40m \u001b[0m\u001b[1;37;40mTons identifiés :\u001b[0m\u001b[1;37;40m                                                                                              \u001b[0m\u001b[1;37;40m \u001b[0m\u001b[1;37;40m│\u001b[0m\n",
       "\u001b[1;37;40m│\u001b[0m\u001b[1;37;40m \u001b[0m\u001b[1;37;40m                                                                                                               \u001b[0m\u001b[1;37;40m \u001b[0m\u001b[1;37;40m│\u001b[0m\n",
       "\u001b[1;37;40m│\u001b[0m\u001b[1;37;40m \u001b[0m\u001b[1;37;40m1. **Humoristique (80%)** : Le ton léger est marqué par des expressions comme « bordel » et le questionnement \u001b[0m\u001b[1;37;40m \u001b[0m\u001b[1;37;40m \u001b[0m\u001b[1;37;40m│\u001b[0m\n",
       "\u001b[1;37;40m│\u001b[0m\u001b[1;37;40m \u001b[0m\u001b[1;37;40mabsurde sur la capacité à maintenir une érection sans vomir. Cela dénote une intention comique.\u001b[0m\u001b[1;37;40m                \u001b[0m\u001b[1;37;40m \u001b[0m\u001b[1;37;40m│\u001b[0m\n",
       "\u001b[1;37;40m│\u001b[0m\u001b[1;37;40m \u001b[0m\u001b[1;37;40m   \u001b[0m\u001b[1;37;40m                                                                                                            \u001b[0m\u001b[1;37;40m \u001b[0m\u001b[1;37;40m│\u001b[0m\n",
       "\u001b[1;37;40m│\u001b[0m\u001b[1;37;40m \u001b[0m\u001b[1;37;40m2. **Provocateur (75%)** : La formulation directe et les questions sur la gestion de l'odeur peuvent être \u001b[0m\u001b[1;37;40m     \u001b[0m\u001b[1;37;40m \u001b[0m\u001b[1;37;40m│\u001b[0m\n",
       "\u001b[1;37;40m│\u001b[0m\u001b[1;37;40m \u001b[0m\u001b[1;37;40mperçues comme provocantes, visant à susciter une réaction chez l'autre.\u001b[0m\u001b[1;37;40m                                        \u001b[0m\u001b[1;37;40m \u001b[0m\u001b[1;37;40m│\u001b[0m\n",
       "\u001b[1;37;40m│\u001b[0m\u001b[1;37;40m \u001b[0m\u001b[1;37;40m                                                                                                               \u001b[0m\u001b[1;37;40m \u001b[0m\u001b[1;37;40m│\u001b[0m\n",
       "\u001b[1;37;40m│\u001b[0m\u001b[1;37;40m \u001b[0m\u001b[1;37;40m3. **Apathique (60%)** : Un certain désintérêt pour la situation pourrait transparaître dans le choix des mots \u001b[0m\u001b[1;37;40m \u001b[0m\u001b[1;37;40m│\u001b[0m\n",
       "\u001b[1;37;40m│\u001b[0m\u001b[1;37;40m \u001b[0m\u001b[1;37;40met le ton général, ce qui pourrait indiquer une forme de distanciation.\u001b[0m\u001b[1;37;40m                                        \u001b[0m\u001b[1;37;40m \u001b[0m\u001b[1;37;40m│\u001b[0m\n",
       "\u001b[1;37;40m│\u001b[0m\u001b[1;37;40m \u001b[0m\u001b[1;37;40m                                                                                                               \u001b[0m\u001b[1;37;40m \u001b[0m\u001b[1;37;40m│\u001b[0m\n",
       "\u001b[1;37;40m│\u001b[0m\u001b[1;37;40m \u001b[0m\u001b[1;37;40mDoutes : L'humour peut varier selon le contexte relationnel entre les interlocuteurs.\u001b[0m\u001b[1;37;40m                          \u001b[0m\u001b[1;37;40m \u001b[0m\u001b[1;37;40m│\u001b[0m\n",
       "\u001b[1;37;40m│\u001b[0m\u001b[1;37;40m \u001b[0m\u001b[1;37;40m</think>\u001b[0m\u001b[1;37;40m                                                                                                       \u001b[0m\u001b[1;37;40m \u001b[0m\u001b[1;37;40m│\u001b[0m\n",
       "\u001b[1;37;40m│\u001b[0m\u001b[1;37;40m \u001b[0m\u001b[1;37;40m<think>\u001b[0m\u001b[1;37;40m                                                                                                        \u001b[0m\u001b[1;37;40m \u001b[0m\u001b[1;37;40m│\u001b[0m\n",
       "\u001b[1;37;40m│\u001b[0m\u001b[1;37;40m \u001b[0m\u001b[1;37;40mScore de toxicité :\u001b[0m\u001b[1;37;40m                                                                                            \u001b[0m\u001b[1;37;40m \u001b[0m\u001b[1;37;40m│\u001b[0m\n",
       "\u001b[1;37;40m│\u001b[0m\u001b[1;37;40m \u001b[0m\u001b[1;37;40m4/10\u001b[0m\u001b[1;37;40m                                                                                                           \u001b[0m\u001b[1;37;40m \u001b[0m\u001b[1;37;40m│\u001b[0m\n",
       "\u001b[1;37;40m│\u001b[0m\u001b[1;37;40m \u001b[0m\u001b[1;37;40m                                                                                                               \u001b[0m\u001b[1;37;40m \u001b[0m\u001b[1;37;40m│\u001b[0m\n",
       "\u001b[1;37;40m│\u001b[0m\u001b[1;37;40m \u001b[0m\u001b[1;37;40mJustification :\u001b[0m\u001b[1;37;40m                                                                                                \u001b[0m\u001b[1;37;40m \u001b[0m\u001b[1;37;40m│\u001b[0m\n",
       "\u001b[1;37;40m│\u001b[0m\u001b[1;37;40m \u001b[0m\u001b[1;37;40mLe message utilise l'humour avec une moquerie implicite, mais reste ambigu sans incitation claire à la haine ou\u001b[0m\u001b[1;37;40m \u001b[0m\u001b[1;37;40m│\u001b[0m\n",
       "\u001b[1;37;40m│\u001b[0m\u001b[1;37;40m \u001b[0m\u001b[1;37;40mà la violence.\u001b[0m\u001b[1;37;40m                                                                                                 \u001b[0m\u001b[1;37;40m \u001b[0m\u001b[1;37;40m│\u001b[0m\n",
       "\u001b[1;37;40m│\u001b[0m\u001b[1;37;40m \u001b[0m\u001b[1;37;40m</think>\u001b[0m\u001b[1;37;40m                                                                                                       \u001b[0m\u001b[1;37;40m \u001b[0m\u001b[1;37;40m│\u001b[0m\n",
       "\u001b[1;37;40m│\u001b[0m\u001b[1;37;40m \u001b[0m\u001b[1;37;40m                                                                                                               \u001b[0m\u001b[1;37;40m \u001b[0m\u001b[1;37;40m│\u001b[0m\n",
       "\u001b[1;37;40m│\u001b[0m\u001b[1;37;40m \u001b[0m\u001b[1;37;40mEn conclusion, ce message est-il toxique ?\u001b[0m\u001b[1;37;40m                                                                     \u001b[0m\u001b[1;37;40m \u001b[0m\u001b[1;37;40m│\u001b[0m\n",
       "\u001b[1;37;40m│\u001b[0m\u001b[1;37;40m \u001b[0m\u001b[1;37;40m                                                                                                               \u001b[0m\u001b[1;37;40m \u001b[0m\u001b[1;37;40m│\u001b[0m\n",
       "\u001b[1;37;40m│\u001b[0m\u001b[1;37;40m \u001b[0m\u001b[1;37;40mnon<|im_end|>\u001b[0m\u001b[1;37;40m                                                                                                  \u001b[0m\u001b[1;37;40m \u001b[0m\u001b[1;37;40m│\u001b[0m\n",
       "\u001b[1;37;40m╰─────────────────────────────────────────────────────────────────────────────────────────────────────────────────╯\u001b[0m\n"
      ]
     },
     "metadata": {},
     "output_type": "display_data"
    },
    {
     "data": {
      "text/html": [
       "<pre style=\"white-space:pre;overflow-x:auto;line-height:normal;font-family:Menlo,'DejaVu Sans Mono',consolas,'Courier New',monospace\">\n",
       "\n",
       "</pre>\n"
      ],
      "text/plain": [
       "\n",
       "\n"
      ]
     },
     "metadata": {},
     "output_type": "display_data"
    },
    {
     "data": {
      "text/html": [
       "<pre style=\"white-space:pre;overflow-x:auto;line-height:normal;font-family:Menlo,'DejaVu Sans Mono',consolas,'Courier New',monospace\"><span style=\"color: #00ff00; text-decoration-color: #00ff00\">───────────────────────────────────────────────────── </span><span style=\"color: #808000; text-decoration-color: #808000; font-weight: bold\">Prompt</span><span style=\"color: #00ff00; text-decoration-color: #00ff00\"> ──────────────────────────────────────────────────────</span>\n",
       "</pre>\n"
      ],
      "text/plain": [
       "\u001b[92m───────────────────────────────────────────────────── \u001b[0m\u001b[1;33mPrompt\u001b[0m\u001b[92m ──────────────────────────────────────────────────────\u001b[0m\n"
      ]
     },
     "metadata": {},
     "output_type": "display_data"
    },
    {
     "data": {
      "text/html": [
       "<pre style=\"white-space:pre;overflow-x:auto;line-height:normal;font-family:Menlo,'DejaVu Sans Mono',consolas,'Courier New',monospace\">\n",
       "\n",
       "</pre>\n"
      ],
      "text/plain": [
       "\n",
       "\n"
      ]
     },
     "metadata": {},
     "output_type": "display_data"
    },
    {
     "data": {
      "text/html": [
       "<pre style=\"white-space:pre;overflow-x:auto;line-height:normal;font-family:Menlo,'DejaVu Sans Mono',consolas,'Courier New',monospace\"><span style=\"color: #c0c0c0; text-decoration-color: #c0c0c0; background-color: #000000; font-style: italic\">╭──────────────────────────────────────</span> Prompt <span style=\"color: #c0c0c0; text-decoration-color: #c0c0c0; background-color: #000000; font-style: italic\">──────────────────────────────────────╮</span>\n",
       "<span style=\"color: #c0c0c0; text-decoration-color: #c0c0c0; background-color: #000000; font-style: italic\">│ Message:                                                                           │</span>\n",
       "<span style=\"color: #c0c0c0; text-decoration-color: #c0c0c0; background-color: #000000; font-style: italic\">│ t'es tellement malaisant                                                           │</span>\n",
       "<span style=\"color: #c0c0c0; text-decoration-color: #c0c0c0; background-color: #000000; font-style: italic\">│ quand je pense que le contribuable se fatigue pour payer l'AAH de cassos comme toi │</span>\n",
       "<span style=\"color: #c0c0c0; text-decoration-color: #c0c0c0; background-color: #000000; font-style: italic\">│                                                                                    │</span>\n",
       "<span style=\"color: #c0c0c0; text-decoration-color: #c0c0c0; background-color: #000000; font-style: italic\">│ Analyse:                                                                           │</span>\n",
       "<span style=\"color: #c0c0c0; text-decoration-color: #c0c0c0; background-color: #000000; font-style: italic\">│ &lt;think&gt;                                                                            │</span>\n",
       "<span style=\"color: #c0c0c0; text-decoration-color: #c0c0c0; background-color: #000000; font-style: italic\">│ Explication :                                                                      │</span>\n",
       "<span style=\"color: #c0c0c0; text-decoration-color: #c0c0c0; background-color: #000000; font-style: italic\">│                                                                                    │</span>\n",
       "<span style=\"color: #c0c0c0; text-decoration-color: #c0c0c0; background-color: #000000; font-style: italic\">╰────────────────────────────────────────────────────────────────────────────────────╯</span>\n",
       "</pre>\n"
      ],
      "text/plain": [
       "\u001b[3;37;40m╭─\u001b[0m\u001b[3;37;40m─────────────────────────────────────\u001b[0m Prompt \u001b[3;37;40m─────────────────────────────────────\u001b[0m\u001b[3;37;40m─╮\u001b[0m\n",
       "\u001b[3;37;40m│\u001b[0m\u001b[3;37;40m \u001b[0m\u001b[3;37;40mMessage:\u001b[0m\u001b[3;37;40m                                                                          \u001b[0m\u001b[3;37;40m \u001b[0m\u001b[3;37;40m│\u001b[0m\n",
       "\u001b[3;37;40m│\u001b[0m\u001b[3;37;40m \u001b[0m\u001b[3;37;40mt'es tellement malaisant\u001b[0m\u001b[3;37;40m                                                          \u001b[0m\u001b[3;37;40m \u001b[0m\u001b[3;37;40m│\u001b[0m\n",
       "\u001b[3;37;40m│\u001b[0m\u001b[3;37;40m \u001b[0m\u001b[3;37;40mquand je pense que le contribuable se fatigue pour payer l'AAH de cassos comme toi\u001b[0m\u001b[3;37;40m \u001b[0m\u001b[3;37;40m│\u001b[0m\n",
       "\u001b[3;37;40m│\u001b[0m\u001b[3;37;40m \u001b[0m\u001b[3;37;40m                                                                                  \u001b[0m\u001b[3;37;40m \u001b[0m\u001b[3;37;40m│\u001b[0m\n",
       "\u001b[3;37;40m│\u001b[0m\u001b[3;37;40m \u001b[0m\u001b[3;37;40mAnalyse:\u001b[0m\u001b[3;37;40m                                                                          \u001b[0m\u001b[3;37;40m \u001b[0m\u001b[3;37;40m│\u001b[0m\n",
       "\u001b[3;37;40m│\u001b[0m\u001b[3;37;40m \u001b[0m\u001b[3;37;40m<think>\u001b[0m\u001b[3;37;40m                                                                           \u001b[0m\u001b[3;37;40m \u001b[0m\u001b[3;37;40m│\u001b[0m\n",
       "\u001b[3;37;40m│\u001b[0m\u001b[3;37;40m \u001b[0m\u001b[3;37;40mExplication :\u001b[0m\u001b[3;37;40m                                                                     \u001b[0m\u001b[3;37;40m \u001b[0m\u001b[3;37;40m│\u001b[0m\n",
       "\u001b[3;37;40m│\u001b[0m\u001b[3;37;40m \u001b[0m\u001b[3;37;40m                                                                                  \u001b[0m\u001b[3;37;40m \u001b[0m\u001b[3;37;40m│\u001b[0m\n",
       "\u001b[3;37;40m╰────────────────────────────────────────────────────────────────────────────────────╯\u001b[0m\n"
      ]
     },
     "metadata": {},
     "output_type": "display_data"
    },
    {
     "data": {
      "text/html": [
       "<pre style=\"white-space:pre;overflow-x:auto;line-height:normal;font-family:Menlo,'DejaVu Sans Mono',consolas,'Courier New',monospace\">\n",
       "\n",
       "</pre>\n"
      ],
      "text/plain": [
       "\n",
       "\n"
      ]
     },
     "metadata": {},
     "output_type": "display_data"
    },
    {
     "data": {
      "text/html": [
       "<pre style=\"white-space:pre;overflow-x:auto;line-height:normal;font-family:Menlo,'DejaVu Sans Mono',consolas,'Courier New',monospace\"><span style=\"color: #00ff00; text-decoration-color: #00ff00\">────────────────────────────────────────────────── </span><span style=\"color: #800080; text-decoration-color: #800080; font-weight: bold\">Model Output</span><span style=\"color: #00ff00; text-decoration-color: #00ff00\"> ───────────────────────────────────────────────────</span>\n",
       "</pre>\n"
      ],
      "text/plain": [
       "\u001b[92m────────────────────────────────────────────────── \u001b[0m\u001b[1;35mModel Output\u001b[0m\u001b[92m ───────────────────────────────────────────────────\u001b[0m\n"
      ]
     },
     "metadata": {},
     "output_type": "display_data"
    },
    {
     "data": {
      "text/html": [
       "<pre style=\"white-space:pre;overflow-x:auto;line-height:normal;font-family:Menlo,'DejaVu Sans Mono',consolas,'Courier New',monospace\">\n",
       "\n",
       "</pre>\n"
      ],
      "text/plain": [
       "\n",
       "\n"
      ]
     },
     "metadata": {},
     "output_type": "display_data"
    },
    {
     "data": {
      "text/html": [
       "<pre style=\"white-space:pre;overflow-x:auto;line-height:normal;font-family:Menlo,'DejaVu Sans Mono',consolas,'Courier New',monospace\"><span style=\"color: #c0c0c0; text-decoration-color: #c0c0c0; background-color: #000000; font-weight: bold\">╭────────────────────────────────────────────────</span> Generated Text <span style=\"color: #c0c0c0; text-decoration-color: #c0c0c0; background-color: #000000; font-weight: bold\">─────────────────────────────────────────────────╮</span>\n",
       "<span style=\"color: #c0c0c0; text-decoration-color: #c0c0c0; background-color: #000000; font-weight: bold\">│ Message:                                                                                                        │</span>\n",
       "<span style=\"color: #c0c0c0; text-decoration-color: #c0c0c0; background-color: #000000; font-weight: bold\">│ t'es tellement malaisant                                                                                        │</span>\n",
       "<span style=\"color: #c0c0c0; text-decoration-color: #c0c0c0; background-color: #000000; font-weight: bold\">│ quand je pense que le contribuable se fatigue pour payer l'AAH de cassos comme toi                              │</span>\n",
       "<span style=\"color: #c0c0c0; text-decoration-color: #c0c0c0; background-color: #000000; font-weight: bold\">│                                                                                                                 │</span>\n",
       "<span style=\"color: #c0c0c0; text-decoration-color: #c0c0c0; background-color: #000000; font-weight: bold\">│ Analyse:                                                                                                        │</span>\n",
       "<span style=\"color: #c0c0c0; text-decoration-color: #c0c0c0; background-color: #000000; font-weight: bold\">│ &lt;think&gt;                                                                                                         │</span>\n",
       "<span style=\"color: #c0c0c0; text-decoration-color: #c0c0c0; background-color: #000000; font-weight: bold\">│ Explication :                                                                                                   │</span>\n",
       "<span style=\"color: #c0c0c0; text-decoration-color: #c0c0c0; background-color: #000000; font-weight: bold\">│ **Sujet du message** : Critique d'un individu vis-à-vis de la sécurité sociale.                                 │</span>\n",
       "<span style=\"color: #c0c0c0; text-decoration-color: #c0c0c0; background-color: #000000; font-weight: bold\">│                                                                                                                 │</span>\n",
       "<span style=\"color: #c0c0c0; text-decoration-color: #c0c0c0; background-color: #000000; font-weight: bold\">│ **Résumé** : L'auteur exprime son mécontentement envers une personne qu'il considère peu respectueuse, tout en  │</span>\n",
       "<span style=\"color: #c0c0c0; text-decoration-color: #c0c0c0; background-color: #000000; font-weight: bold\">│ soulignant que les fonds publics financent des aides sociales (AAH) pour des personnes jugées en difficulté.    │</span>\n",
       "<span style=\"color: #c0c0c0; text-decoration-color: #c0c0c0; background-color: #000000; font-weight: bold\">│                                                                                                                 │</span>\n",
       "<span style=\"color: #c0c0c0; text-decoration-color: #c0c0c0; background-color: #000000; font-weight: bold\">│ **Sens probable** : L'auteur critique la mauvaise attitude d'une personne et aborde un sujet social sur la      │</span>\n",
       "<span style=\"color: #c0c0c0; text-decoration-color: #c0c0c0; background-color: #000000; font-weight: bold\">│ gestion des ressources publiques.                                                                               │</span>\n",
       "<span style=\"color: #c0c0c0; text-decoration-color: #c0c0c0; background-color: #000000; font-weight: bold\">│ &lt;/think&gt;                                                                                                        │</span>\n",
       "<span style=\"color: #c0c0c0; text-decoration-color: #c0c0c0; background-color: #000000; font-weight: bold\">│ &lt;think&gt;                                                                                                         │</span>\n",
       "<span style=\"color: #c0c0c0; text-decoration-color: #c0c0c0; background-color: #000000; font-weight: bold\">│ Tons :                                                                                                          │</span>\n",
       "<span style=\"color: #c0c0c0; text-decoration-color: #c0c0c0; background-color: #000000; font-weight: bold\">│ 1. **Critique** - L'utilisation de \"malaisant\" indique une désapprobation claire envers l'individu mentionné,   │</span>\n",
       "<span style=\"color: #c0c0c0; text-decoration-color: #c0c0c0; background-color: #000000; font-weight: bold\">│ suggérant un ton accusateur.                                                                                    │</span>\n",
       "<span style=\"color: #c0c0c0; text-decoration-color: #c0c0c0; background-color: #000000; font-weight: bold\">│                                                                                                                 │</span>\n",
       "<span style=\"color: #c0c0c0; text-decoration-color: #c0c0c0; background-color: #000000; font-weight: bold\">│ 2. **Méprisant** - Le terme \"cassos\" dénote une condescendance envers cette personne, insinuant une opinion     │</span>\n",
       "<span style=\"color: #c0c0c0; text-decoration-color: #c0c0c0; background-color: #000000; font-weight: bold\">│ négative sur sa qualité ou son comportement.                                                                    │</span>\n",
       "<span style=\"color: #c0c0c0; text-decoration-color: #c0c0c0; background-color: #000000; font-weight: bold\">│                                                                                                                 │</span>\n",
       "<span style=\"color: #c0c0c0; text-decoration-color: #c0c0c0; background-color: #000000; font-weight: bold\">│ 3. **Provocateur** - En évoquant le paiement des fonds publics par les contribuables, l’auteur cherche à        │</span>\n",
       "<span style=\"color: #c0c0c0; text-decoration-color: #c0c0c0; background-color: #000000; font-weight: bold\">│ susciter une réaction émotionnelle ou une controverse.                                                          │</span>\n",
       "<span style=\"color: #c0c0c0; text-decoration-color: #c0c0c0; background-color: #000000; font-weight: bold\">│                                                                                                                 │</span>\n",
       "<span style=\"color: #c0c0c0; text-decoration-color: #c0c0c0; background-color: #000000; font-weight: bold\">│ Doutes : L'intention peut varier selon l'interprétation personnelle de \"malaisant\", pouvant aussi être perçue   │</span>\n",
       "<span style=\"color: #c0c0c0; text-decoration-color: #c0c0c0; background-color: #000000; font-weight: bold\">│ différemment.                                                                                                   │</span>\n",
       "<span style=\"color: #c0c0c0; text-decoration-color: #c0c0c0; background-color: #000000; font-weight: bold\">│ &lt;/think&gt;                                                                                                        │</span>\n",
       "<span style=\"color: #c0c0c0; text-decoration-color: #c0c0c0; background-color: #000000; font-weight: bold\">│ &lt;think&gt;                                                                                                         │</span>\n",
       "<span style=\"color: #c0c0c0; text-decoration-color: #c0c0c0; background-color: #000000; font-weight: bold\">│ Score de toxicité :                                                                                             │</span>\n",
       "<span style=\"color: #c0c0c0; text-decoration-color: #c0c0c0; background-color: #000000; font-weight: bold\">│ 5/10                                                                                                            │</span>\n",
       "<span style=\"color: #c0c0c0; text-decoration-color: #c0c0c0; background-color: #000000; font-weight: bold\">│                                                                                                                 │</span>\n",
       "<span style=\"color: #c0c0c0; text-decoration-color: #c0c0c0; background-color: #000000; font-weight: bold\">│ Justification :                                                                                                 │</span>\n",
       "<span style=\"color: #c0c0c0; text-decoration-color: #c0c0c0; background-color: #000000; font-weight: bold\">│ Le message présente une moquerie appuyée et un mépris, sans incitation directe à la haine mais avec une         │</span>\n",
       "<span style=\"color: #c0c0c0; text-decoration-color: #c0c0c0; background-color: #000000; font-weight: bold\">│ intention provocatrice qui pourrait blesser certaines sensibilités.                                             │</span>\n",
       "<span style=\"color: #c0c0c0; text-decoration-color: #c0c0c0; background-color: #000000; font-weight: bold\">│ &lt;/think&gt;                                                                                                        │</span>\n",
       "<span style=\"color: #c0c0c0; text-decoration-color: #c0c0c0; background-color: #000000; font-weight: bold\">│                                                                                                                 │</span>\n",
       "<span style=\"color: #c0c0c0; text-decoration-color: #c0c0c0; background-color: #000000; font-weight: bold\">│ En conclusion, ce message est-il toxique ?                                                                      │</span>\n",
       "<span style=\"color: #c0c0c0; text-decoration-color: #c0c0c0; background-color: #000000; font-weight: bold\">│                                                                                                                 │</span>\n",
       "<span style=\"color: #c0c0c0; text-decoration-color: #c0c0c0; background-color: #000000; font-weight: bold\">│ non&lt;|im_end|&gt;                                                                                                   │</span>\n",
       "<span style=\"color: #c0c0c0; text-decoration-color: #c0c0c0; background-color: #000000; font-weight: bold\">╰─────────────────────────────────────────────────────────────────────────────────────────────────────────────────╯</span>\n",
       "</pre>\n"
      ],
      "text/plain": [
       "\u001b[1;37;40m╭─\u001b[0m\u001b[1;37;40m───────────────────────────────────────────────\u001b[0m Generated Text \u001b[1;37;40m────────────────────────────────────────────────\u001b[0m\u001b[1;37;40m─╮\u001b[0m\n",
       "\u001b[1;37;40m│\u001b[0m\u001b[1;37;40m \u001b[0m\u001b[1;37;40mMessage:\u001b[0m\u001b[1;37;40m                                                                                                       \u001b[0m\u001b[1;37;40m \u001b[0m\u001b[1;37;40m│\u001b[0m\n",
       "\u001b[1;37;40m│\u001b[0m\u001b[1;37;40m \u001b[0m\u001b[1;37;40mt'es tellement malaisant\u001b[0m\u001b[1;37;40m                                                                                       \u001b[0m\u001b[1;37;40m \u001b[0m\u001b[1;37;40m│\u001b[0m\n",
       "\u001b[1;37;40m│\u001b[0m\u001b[1;37;40m \u001b[0m\u001b[1;37;40mquand je pense que le contribuable se fatigue pour payer l'AAH de cassos comme toi\u001b[0m\u001b[1;37;40m                             \u001b[0m\u001b[1;37;40m \u001b[0m\u001b[1;37;40m│\u001b[0m\n",
       "\u001b[1;37;40m│\u001b[0m\u001b[1;37;40m \u001b[0m\u001b[1;37;40m                                                                                                               \u001b[0m\u001b[1;37;40m \u001b[0m\u001b[1;37;40m│\u001b[0m\n",
       "\u001b[1;37;40m│\u001b[0m\u001b[1;37;40m \u001b[0m\u001b[1;37;40mAnalyse:\u001b[0m\u001b[1;37;40m                                                                                                       \u001b[0m\u001b[1;37;40m \u001b[0m\u001b[1;37;40m│\u001b[0m\n",
       "\u001b[1;37;40m│\u001b[0m\u001b[1;37;40m \u001b[0m\u001b[1;37;40m<think>\u001b[0m\u001b[1;37;40m                                                                                                        \u001b[0m\u001b[1;37;40m \u001b[0m\u001b[1;37;40m│\u001b[0m\n",
       "\u001b[1;37;40m│\u001b[0m\u001b[1;37;40m \u001b[0m\u001b[1;37;40mExplication :\u001b[0m\u001b[1;37;40m                                                                                                  \u001b[0m\u001b[1;37;40m \u001b[0m\u001b[1;37;40m│\u001b[0m\n",
       "\u001b[1;37;40m│\u001b[0m\u001b[1;37;40m \u001b[0m\u001b[1;37;40m**Sujet du message** : Critique d'un individu vis-à-vis de la sécurité sociale.\u001b[0m\u001b[1;37;40m                                \u001b[0m\u001b[1;37;40m \u001b[0m\u001b[1;37;40m│\u001b[0m\n",
       "\u001b[1;37;40m│\u001b[0m\u001b[1;37;40m \u001b[0m\u001b[1;37;40m                                                                                                               \u001b[0m\u001b[1;37;40m \u001b[0m\u001b[1;37;40m│\u001b[0m\n",
       "\u001b[1;37;40m│\u001b[0m\u001b[1;37;40m \u001b[0m\u001b[1;37;40m**Résumé** : L'auteur exprime son mécontentement envers une personne qu'il considère peu respectueuse, tout en \u001b[0m\u001b[1;37;40m \u001b[0m\u001b[1;37;40m│\u001b[0m\n",
       "\u001b[1;37;40m│\u001b[0m\u001b[1;37;40m \u001b[0m\u001b[1;37;40msoulignant que les fonds publics financent des aides sociales (AAH) pour des personnes jugées en difficulté. \u001b[0m\u001b[1;37;40m  \u001b[0m\u001b[1;37;40m \u001b[0m\u001b[1;37;40m│\u001b[0m\n",
       "\u001b[1;37;40m│\u001b[0m\u001b[1;37;40m \u001b[0m\u001b[1;37;40m                                                                                                               \u001b[0m\u001b[1;37;40m \u001b[0m\u001b[1;37;40m│\u001b[0m\n",
       "\u001b[1;37;40m│\u001b[0m\u001b[1;37;40m \u001b[0m\u001b[1;37;40m**Sens probable** : L'auteur critique la mauvaise attitude d'une personne et aborde un sujet social sur la \u001b[0m\u001b[1;37;40m    \u001b[0m\u001b[1;37;40m \u001b[0m\u001b[1;37;40m│\u001b[0m\n",
       "\u001b[1;37;40m│\u001b[0m\u001b[1;37;40m \u001b[0m\u001b[1;37;40mgestion des ressources publiques.\u001b[0m\u001b[1;37;40m                                                                              \u001b[0m\u001b[1;37;40m \u001b[0m\u001b[1;37;40m│\u001b[0m\n",
       "\u001b[1;37;40m│\u001b[0m\u001b[1;37;40m \u001b[0m\u001b[1;37;40m</think>\u001b[0m\u001b[1;37;40m                                                                                                       \u001b[0m\u001b[1;37;40m \u001b[0m\u001b[1;37;40m│\u001b[0m\n",
       "\u001b[1;37;40m│\u001b[0m\u001b[1;37;40m \u001b[0m\u001b[1;37;40m<think>\u001b[0m\u001b[1;37;40m                                                                                                        \u001b[0m\u001b[1;37;40m \u001b[0m\u001b[1;37;40m│\u001b[0m\n",
       "\u001b[1;37;40m│\u001b[0m\u001b[1;37;40m \u001b[0m\u001b[1;37;40mTons :\u001b[0m\u001b[1;37;40m                                                                                                         \u001b[0m\u001b[1;37;40m \u001b[0m\u001b[1;37;40m│\u001b[0m\n",
       "\u001b[1;37;40m│\u001b[0m\u001b[1;37;40m \u001b[0m\u001b[1;37;40m1. **Critique** - L'utilisation de \"malaisant\" indique une désapprobation claire envers l'individu mentionné, \u001b[0m\u001b[1;37;40m \u001b[0m\u001b[1;37;40m \u001b[0m\u001b[1;37;40m│\u001b[0m\n",
       "\u001b[1;37;40m│\u001b[0m\u001b[1;37;40m \u001b[0m\u001b[1;37;40msuggérant un ton accusateur.\u001b[0m\u001b[1;37;40m                                                                                   \u001b[0m\u001b[1;37;40m \u001b[0m\u001b[1;37;40m│\u001b[0m\n",
       "\u001b[1;37;40m│\u001b[0m\u001b[1;37;40m \u001b[0m\u001b[1;37;40m                                                                                                               \u001b[0m\u001b[1;37;40m \u001b[0m\u001b[1;37;40m│\u001b[0m\n",
       "\u001b[1;37;40m│\u001b[0m\u001b[1;37;40m \u001b[0m\u001b[1;37;40m2. **Méprisant** - Le terme \"cassos\" dénote une condescendance envers cette personne, insinuant une opinion \u001b[0m\u001b[1;37;40m   \u001b[0m\u001b[1;37;40m \u001b[0m\u001b[1;37;40m│\u001b[0m\n",
       "\u001b[1;37;40m│\u001b[0m\u001b[1;37;40m \u001b[0m\u001b[1;37;40mnégative sur sa qualité ou son comportement.\u001b[0m\u001b[1;37;40m                                                                   \u001b[0m\u001b[1;37;40m \u001b[0m\u001b[1;37;40m│\u001b[0m\n",
       "\u001b[1;37;40m│\u001b[0m\u001b[1;37;40m \u001b[0m\u001b[1;37;40m                                                                                                               \u001b[0m\u001b[1;37;40m \u001b[0m\u001b[1;37;40m│\u001b[0m\n",
       "\u001b[1;37;40m│\u001b[0m\u001b[1;37;40m \u001b[0m\u001b[1;37;40m3. **Provocateur** - En évoquant le paiement des fonds publics par les contribuables, l’auteur cherche à \u001b[0m\u001b[1;37;40m      \u001b[0m\u001b[1;37;40m \u001b[0m\u001b[1;37;40m│\u001b[0m\n",
       "\u001b[1;37;40m│\u001b[0m\u001b[1;37;40m \u001b[0m\u001b[1;37;40msusciter une réaction émotionnelle ou une controverse.\u001b[0m\u001b[1;37;40m                                                         \u001b[0m\u001b[1;37;40m \u001b[0m\u001b[1;37;40m│\u001b[0m\n",
       "\u001b[1;37;40m│\u001b[0m\u001b[1;37;40m \u001b[0m\u001b[1;37;40m                                                                                                               \u001b[0m\u001b[1;37;40m \u001b[0m\u001b[1;37;40m│\u001b[0m\n",
       "\u001b[1;37;40m│\u001b[0m\u001b[1;37;40m \u001b[0m\u001b[1;37;40mDoutes : L'intention peut varier selon l'interprétation personnelle de \"malaisant\", pouvant aussi être perçue \u001b[0m\u001b[1;37;40m \u001b[0m\u001b[1;37;40m \u001b[0m\u001b[1;37;40m│\u001b[0m\n",
       "\u001b[1;37;40m│\u001b[0m\u001b[1;37;40m \u001b[0m\u001b[1;37;40mdifféremment.\u001b[0m\u001b[1;37;40m                                                                                                  \u001b[0m\u001b[1;37;40m \u001b[0m\u001b[1;37;40m│\u001b[0m\n",
       "\u001b[1;37;40m│\u001b[0m\u001b[1;37;40m \u001b[0m\u001b[1;37;40m</think>\u001b[0m\u001b[1;37;40m                                                                                                       \u001b[0m\u001b[1;37;40m \u001b[0m\u001b[1;37;40m│\u001b[0m\n",
       "\u001b[1;37;40m│\u001b[0m\u001b[1;37;40m \u001b[0m\u001b[1;37;40m<think>\u001b[0m\u001b[1;37;40m                                                                                                        \u001b[0m\u001b[1;37;40m \u001b[0m\u001b[1;37;40m│\u001b[0m\n",
       "\u001b[1;37;40m│\u001b[0m\u001b[1;37;40m \u001b[0m\u001b[1;37;40mScore de toxicité :\u001b[0m\u001b[1;37;40m                                                                                            \u001b[0m\u001b[1;37;40m \u001b[0m\u001b[1;37;40m│\u001b[0m\n",
       "\u001b[1;37;40m│\u001b[0m\u001b[1;37;40m \u001b[0m\u001b[1;37;40m5/10\u001b[0m\u001b[1;37;40m                                                                                                           \u001b[0m\u001b[1;37;40m \u001b[0m\u001b[1;37;40m│\u001b[0m\n",
       "\u001b[1;37;40m│\u001b[0m\u001b[1;37;40m \u001b[0m\u001b[1;37;40m                                                                                                               \u001b[0m\u001b[1;37;40m \u001b[0m\u001b[1;37;40m│\u001b[0m\n",
       "\u001b[1;37;40m│\u001b[0m\u001b[1;37;40m \u001b[0m\u001b[1;37;40mJustification :\u001b[0m\u001b[1;37;40m                                                                                                \u001b[0m\u001b[1;37;40m \u001b[0m\u001b[1;37;40m│\u001b[0m\n",
       "\u001b[1;37;40m│\u001b[0m\u001b[1;37;40m \u001b[0m\u001b[1;37;40mLe message présente une moquerie appuyée et un mépris, sans incitation directe à la haine mais avec une \u001b[0m\u001b[1;37;40m       \u001b[0m\u001b[1;37;40m \u001b[0m\u001b[1;37;40m│\u001b[0m\n",
       "\u001b[1;37;40m│\u001b[0m\u001b[1;37;40m \u001b[0m\u001b[1;37;40mintention provocatrice qui pourrait blesser certaines sensibilités.\u001b[0m\u001b[1;37;40m                                            \u001b[0m\u001b[1;37;40m \u001b[0m\u001b[1;37;40m│\u001b[0m\n",
       "\u001b[1;37;40m│\u001b[0m\u001b[1;37;40m \u001b[0m\u001b[1;37;40m</think>\u001b[0m\u001b[1;37;40m                                                                                                       \u001b[0m\u001b[1;37;40m \u001b[0m\u001b[1;37;40m│\u001b[0m\n",
       "\u001b[1;37;40m│\u001b[0m\u001b[1;37;40m \u001b[0m\u001b[1;37;40m                                                                                                               \u001b[0m\u001b[1;37;40m \u001b[0m\u001b[1;37;40m│\u001b[0m\n",
       "\u001b[1;37;40m│\u001b[0m\u001b[1;37;40m \u001b[0m\u001b[1;37;40mEn conclusion, ce message est-il toxique ?\u001b[0m\u001b[1;37;40m                                                                     \u001b[0m\u001b[1;37;40m \u001b[0m\u001b[1;37;40m│\u001b[0m\n",
       "\u001b[1;37;40m│\u001b[0m\u001b[1;37;40m \u001b[0m\u001b[1;37;40m                                                                                                               \u001b[0m\u001b[1;37;40m \u001b[0m\u001b[1;37;40m│\u001b[0m\n",
       "\u001b[1;37;40m│\u001b[0m\u001b[1;37;40m \u001b[0m\u001b[1;37;40mnon<|im_end|>\u001b[0m\u001b[1;37;40m                                                                                                  \u001b[0m\u001b[1;37;40m \u001b[0m\u001b[1;37;40m│\u001b[0m\n",
       "\u001b[1;37;40m╰─────────────────────────────────────────────────────────────────────────────────────────────────────────────────╯\u001b[0m\n"
      ]
     },
     "metadata": {},
     "output_type": "display_data"
    },
    {
     "data": {
      "text/html": [
       "<pre style=\"white-space:pre;overflow-x:auto;line-height:normal;font-family:Menlo,'DejaVu Sans Mono',consolas,'Courier New',monospace\">\n",
       "\n",
       "</pre>\n"
      ],
      "text/plain": [
       "\n",
       "\n"
      ]
     },
     "metadata": {},
     "output_type": "display_data"
    },
    {
     "data": {
      "text/html": [
       "<pre style=\"white-space:pre;overflow-x:auto;line-height:normal;font-family:Menlo,'DejaVu Sans Mono',consolas,'Courier New',monospace\"><span style=\"color: #00ff00; text-decoration-color: #00ff00\">───────────────────────────────────────────────────── </span><span style=\"color: #808000; text-decoration-color: #808000; font-weight: bold\">Prompt</span><span style=\"color: #00ff00; text-decoration-color: #00ff00\"> ──────────────────────────────────────────────────────</span>\n",
       "</pre>\n"
      ],
      "text/plain": [
       "\u001b[92m───────────────────────────────────────────────────── \u001b[0m\u001b[1;33mPrompt\u001b[0m\u001b[92m ──────────────────────────────────────────────────────\u001b[0m\n"
      ]
     },
     "metadata": {},
     "output_type": "display_data"
    },
    {
     "data": {
      "text/html": [
       "<pre style=\"white-space:pre;overflow-x:auto;line-height:normal;font-family:Menlo,'DejaVu Sans Mono',consolas,'Courier New',monospace\">\n",
       "\n",
       "</pre>\n"
      ],
      "text/plain": [
       "\n",
       "\n"
      ]
     },
     "metadata": {},
     "output_type": "display_data"
    },
    {
     "data": {
      "text/html": [
       "<pre style=\"white-space:pre;overflow-x:auto;line-height:normal;font-family:Menlo,'DejaVu Sans Mono',consolas,'Courier New',monospace\"><span style=\"color: #c0c0c0; text-decoration-color: #c0c0c0; background-color: #000000; font-style: italic\">╭───────────────────────────────────</span> Prompt <span style=\"color: #c0c0c0; text-decoration-color: #c0c0c0; background-color: #000000; font-style: italic\">────────────────────────────────────╮</span>\n",
       "<span style=\"color: #c0c0c0; text-decoration-color: #c0c0c0; background-color: #000000; font-style: italic\">│ Message:                                                                      │</span>\n",
       "<span style=\"color: #c0c0c0; text-decoration-color: #c0c0c0; background-color: #000000; font-style: italic\">│ On dirait bien qu'un inspecteur vient de faire son apparition dans l'histoire │</span>\n",
       "<span style=\"color: #c0c0c0; text-decoration-color: #c0c0c0; background-color: #000000; font-style: italic\">│ Prend garde Criminel Soyeux, elle est peut-être plus perspicace que ton N+1   │</span>\n",
       "<span style=\"color: #c0c0c0; text-decoration-color: #c0c0c0; background-color: #000000; font-style: italic\">│                                                                               │</span>\n",
       "<span style=\"color: #c0c0c0; text-decoration-color: #c0c0c0; background-color: #000000; font-style: italic\">│ Analyse:                                                                      │</span>\n",
       "<span style=\"color: #c0c0c0; text-decoration-color: #c0c0c0; background-color: #000000; font-style: italic\">│ &lt;think&gt;                                                                       │</span>\n",
       "<span style=\"color: #c0c0c0; text-decoration-color: #c0c0c0; background-color: #000000; font-style: italic\">│ Explication :                                                                 │</span>\n",
       "<span style=\"color: #c0c0c0; text-decoration-color: #c0c0c0; background-color: #000000; font-style: italic\">│                                                                               │</span>\n",
       "<span style=\"color: #c0c0c0; text-decoration-color: #c0c0c0; background-color: #000000; font-style: italic\">╰───────────────────────────────────────────────────────────────────────────────╯</span>\n",
       "</pre>\n"
      ],
      "text/plain": [
       "\u001b[3;37;40m╭─\u001b[0m\u001b[3;37;40m──────────────────────────────────\u001b[0m Prompt \u001b[3;37;40m───────────────────────────────────\u001b[0m\u001b[3;37;40m─╮\u001b[0m\n",
       "\u001b[3;37;40m│\u001b[0m\u001b[3;37;40m \u001b[0m\u001b[3;37;40mMessage:\u001b[0m\u001b[3;37;40m                                                                     \u001b[0m\u001b[3;37;40m \u001b[0m\u001b[3;37;40m│\u001b[0m\n",
       "\u001b[3;37;40m│\u001b[0m\u001b[3;37;40m \u001b[0m\u001b[3;37;40mOn dirait bien qu'un inspecteur vient de faire son apparition dans l'histoire\u001b[0m\u001b[3;37;40m \u001b[0m\u001b[3;37;40m│\u001b[0m\n",
       "\u001b[3;37;40m│\u001b[0m\u001b[3;37;40m \u001b[0m\u001b[3;37;40mPrend garde Criminel Soyeux, elle est peut-être plus perspicace que ton N+1\u001b[0m\u001b[3;37;40m  \u001b[0m\u001b[3;37;40m \u001b[0m\u001b[3;37;40m│\u001b[0m\n",
       "\u001b[3;37;40m│\u001b[0m\u001b[3;37;40m \u001b[0m\u001b[3;37;40m                                                                             \u001b[0m\u001b[3;37;40m \u001b[0m\u001b[3;37;40m│\u001b[0m\n",
       "\u001b[3;37;40m│\u001b[0m\u001b[3;37;40m \u001b[0m\u001b[3;37;40mAnalyse:\u001b[0m\u001b[3;37;40m                                                                     \u001b[0m\u001b[3;37;40m \u001b[0m\u001b[3;37;40m│\u001b[0m\n",
       "\u001b[3;37;40m│\u001b[0m\u001b[3;37;40m \u001b[0m\u001b[3;37;40m<think>\u001b[0m\u001b[3;37;40m                                                                      \u001b[0m\u001b[3;37;40m \u001b[0m\u001b[3;37;40m│\u001b[0m\n",
       "\u001b[3;37;40m│\u001b[0m\u001b[3;37;40m \u001b[0m\u001b[3;37;40mExplication :\u001b[0m\u001b[3;37;40m                                                                \u001b[0m\u001b[3;37;40m \u001b[0m\u001b[3;37;40m│\u001b[0m\n",
       "\u001b[3;37;40m│\u001b[0m\u001b[3;37;40m \u001b[0m\u001b[3;37;40m                                                                             \u001b[0m\u001b[3;37;40m \u001b[0m\u001b[3;37;40m│\u001b[0m\n",
       "\u001b[3;37;40m╰───────────────────────────────────────────────────────────────────────────────╯\u001b[0m\n"
      ]
     },
     "metadata": {},
     "output_type": "display_data"
    },
    {
     "data": {
      "text/html": [
       "<pre style=\"white-space:pre;overflow-x:auto;line-height:normal;font-family:Menlo,'DejaVu Sans Mono',consolas,'Courier New',monospace\">\n",
       "\n",
       "</pre>\n"
      ],
      "text/plain": [
       "\n",
       "\n"
      ]
     },
     "metadata": {},
     "output_type": "display_data"
    },
    {
     "data": {
      "text/html": [
       "<pre style=\"white-space:pre;overflow-x:auto;line-height:normal;font-family:Menlo,'DejaVu Sans Mono',consolas,'Courier New',monospace\"><span style=\"color: #00ff00; text-decoration-color: #00ff00\">────────────────────────────────────────────────── </span><span style=\"color: #800080; text-decoration-color: #800080; font-weight: bold\">Model Output</span><span style=\"color: #00ff00; text-decoration-color: #00ff00\"> ───────────────────────────────────────────────────</span>\n",
       "</pre>\n"
      ],
      "text/plain": [
       "\u001b[92m────────────────────────────────────────────────── \u001b[0m\u001b[1;35mModel Output\u001b[0m\u001b[92m ───────────────────────────────────────────────────\u001b[0m\n"
      ]
     },
     "metadata": {},
     "output_type": "display_data"
    },
    {
     "data": {
      "text/html": [
       "<pre style=\"white-space:pre;overflow-x:auto;line-height:normal;font-family:Menlo,'DejaVu Sans Mono',consolas,'Courier New',monospace\">\n",
       "\n",
       "</pre>\n"
      ],
      "text/plain": [
       "\n",
       "\n"
      ]
     },
     "metadata": {},
     "output_type": "display_data"
    },
    {
     "data": {
      "text/html": [
       "<pre style=\"white-space:pre;overflow-x:auto;line-height:normal;font-family:Menlo,'DejaVu Sans Mono',consolas,'Courier New',monospace\"><span style=\"color: #c0c0c0; text-decoration-color: #c0c0c0; background-color: #000000; font-weight: bold\">╭────────────────────────────────────────────────</span> Generated Text <span style=\"color: #c0c0c0; text-decoration-color: #c0c0c0; background-color: #000000; font-weight: bold\">─────────────────────────────────────────────────╮</span>\n",
       "<span style=\"color: #c0c0c0; text-decoration-color: #c0c0c0; background-color: #000000; font-weight: bold\">│ Message:                                                                                                        │</span>\n",
       "<span style=\"color: #c0c0c0; text-decoration-color: #c0c0c0; background-color: #000000; font-weight: bold\">│ On dirait bien qu'un inspecteur vient de faire son apparition dans l'histoire                                   │</span>\n",
       "<span style=\"color: #c0c0c0; text-decoration-color: #c0c0c0; background-color: #000000; font-weight: bold\">│ Prend garde Criminel Soyeux, elle est peut-être plus perspicace que ton N+1                                     │</span>\n",
       "<span style=\"color: #c0c0c0; text-decoration-color: #c0c0c0; background-color: #000000; font-weight: bold\">│                                                                                                                 │</span>\n",
       "<span style=\"color: #c0c0c0; text-decoration-color: #c0c0c0; background-color: #000000; font-weight: bold\">│ Analyse:                                                                                                        │</span>\n",
       "<span style=\"color: #c0c0c0; text-decoration-color: #c0c0c0; background-color: #000000; font-weight: bold\">│ &lt;think&gt;                                                                                                         │</span>\n",
       "<span style=\"color: #c0c0c0; text-decoration-color: #c0c0c0; background-color: #000000; font-weight: bold\">│ Explication :                                                                                                   │</span>\n",
       "<span style=\"color: #c0c0c0; text-decoration-color: #c0c0c0; background-color: #000000; font-weight: bold\">│ **Sujet du message :** Apparition d'un personnage inspecteur.                                                   │</span>\n",
       "<span style=\"color: #c0c0c0; text-decoration-color: #c0c0c0; background-color: #000000; font-weight: bold\">│                                                                                                                 │</span>\n",
       "<span style=\"color: #c0c0c0; text-decoration-color: #c0c0c0; background-color: #000000; font-weight: bold\">│ **Résumé et explication :** L'auteur suggère qu'un inspecteur réside maintenant dans la situation en cours. Il  │</span>\n",
       "<span style=\"color: #c0c0c0; text-decoration-color: #c0c0c0; background-color: #000000; font-weight: bold\">│ conseille également à une personne nommée \"Criminel Soyeux\" de se méfier, estimant qu'elle pourrait être plus   │</span>\n",
       "<span style=\"color: #c0c0c0; text-decoration-color: #c0c0c0; background-color: #000000; font-weight: bold\">│ intelligente que son N+1 (terme désignant un élément ou un groupe qui suit). Le niveau de certitude sur ces     │</span>\n",
       "<span style=\"color: #c0c0c0; text-decoration-color: #c0c0c0; background-color: #000000; font-weight: bold\">│ interprétations est élevé.                                                                                      │</span>\n",
       "<span style=\"color: #c0c0c0; text-decoration-color: #c0c0c0; background-color: #000000; font-weight: bold\">│ &lt;/think&gt;                                                                                                        │</span>\n",
       "<span style=\"color: #c0c0c0; text-decoration-color: #c0c0c0; background-color: #000000; font-weight: bold\">│ &lt;think&gt;                                                                                                         │</span>\n",
       "<span style=\"color: #c0c0c0; text-decoration-color: #c0c0c0; background-color: #000000; font-weight: bold\">│ Tons :                                                                                                          │</span>\n",
       "<span style=\"color: #c0c0c0; text-decoration-color: #c0c0c0; background-color: #000000; font-weight: bold\">│ Tons perçus : Sarcastique (80%), Provocateur (70%).                                                             │</span>\n",
       "<span style=\"color: #c0c0c0; text-decoration-color: #c0c0c0; background-color: #000000; font-weight: bold\">│                                                                                                                 │</span>\n",
       "<span style=\"color: #c0c0c0; text-decoration-color: #c0c0c0; background-color: #000000; font-weight: bold\">│ Justification : Le terme « On dirait bien » et le conseil à « Criminel Soyeux » utilisent des ironies qui       │</span>\n",
       "<span style=\"color: #c0c0c0; text-decoration-color: #c0c0c0; background-color: #000000; font-weight: bold\">│ soulignent un jugement négatif. La mention de « perspicace » ajoute une nuance sarcastique. Doutes sur          │</span>\n",
       "<span style=\"color: #c0c0c0; text-decoration-color: #c0c0c0; background-color: #000000; font-weight: bold\">│ l'intention humoristique potentielle.                                                                           │</span>\n",
       "<span style=\"color: #c0c0c0; text-decoration-color: #c0c0c0; background-color: #000000; font-weight: bold\">│ &lt;/think&gt;                                                                                                        │</span>\n",
       "<span style=\"color: #c0c0c0; text-decoration-color: #c0c0c0; background-color: #000000; font-weight: bold\">│ &lt;think&gt;                                                                                                         │</span>\n",
       "<span style=\"color: #c0c0c0; text-decoration-color: #c0c0c0; background-color: #000000; font-weight: bold\">│ Score de toxicité :                                                                                             │</span>\n",
       "<span style=\"color: #c0c0c0; text-decoration-color: #c0c0c0; background-color: #000000; font-weight: bold\">│ 4/10                                                                                                            │</span>\n",
       "<span style=\"color: #c0c0c0; text-decoration-color: #c0c0c0; background-color: #000000; font-weight: bold\">│                                                                                                                 │</span>\n",
       "<span style=\"color: #c0c0c0; text-decoration-color: #c0c0c0; background-color: #000000; font-weight: bold\">│ Justification :                                                                                                 │</span>\n",
       "<span style=\"color: #c0c0c0; text-decoration-color: #c0c0c0; background-color: #000000; font-weight: bold\">│ Le message utilise sarcasme et moquerie sans incitation claire à la haine, mais il reste condescendant et       │</span>\n",
       "<span style=\"color: #c0c0c0; text-decoration-color: #c0c0c0; background-color: #000000; font-weight: bold\">│ potentiellement blessant.                                                                                       │</span>\n",
       "<span style=\"color: #c0c0c0; text-decoration-color: #c0c0c0; background-color: #000000; font-weight: bold\">│ &lt;/think&gt;                                                                                                        │</span>\n",
       "<span style=\"color: #c0c0c0; text-decoration-color: #c0c0c0; background-color: #000000; font-weight: bold\">│                                                                                                                 │</span>\n",
       "<span style=\"color: #c0c0c0; text-decoration-color: #c0c0c0; background-color: #000000; font-weight: bold\">│ En conclusion, ce message est-il toxique ?                                                                      │</span>\n",
       "<span style=\"color: #c0c0c0; text-decoration-color: #c0c0c0; background-color: #000000; font-weight: bold\">│                                                                                                                 │</span>\n",
       "<span style=\"color: #c0c0c0; text-decoration-color: #c0c0c0; background-color: #000000; font-weight: bold\">│ non&lt;|im_end|&gt;                                                                                                   │</span>\n",
       "<span style=\"color: #c0c0c0; text-decoration-color: #c0c0c0; background-color: #000000; font-weight: bold\">╰─────────────────────────────────────────────────────────────────────────────────────────────────────────────────╯</span>\n",
       "</pre>\n"
      ],
      "text/plain": [
       "\u001b[1;37;40m╭─\u001b[0m\u001b[1;37;40m───────────────────────────────────────────────\u001b[0m Generated Text \u001b[1;37;40m────────────────────────────────────────────────\u001b[0m\u001b[1;37;40m─╮\u001b[0m\n",
       "\u001b[1;37;40m│\u001b[0m\u001b[1;37;40m \u001b[0m\u001b[1;37;40mMessage:\u001b[0m\u001b[1;37;40m                                                                                                       \u001b[0m\u001b[1;37;40m \u001b[0m\u001b[1;37;40m│\u001b[0m\n",
       "\u001b[1;37;40m│\u001b[0m\u001b[1;37;40m \u001b[0m\u001b[1;37;40mOn dirait bien qu'un inspecteur vient de faire son apparition dans l'histoire\u001b[0m\u001b[1;37;40m                                  \u001b[0m\u001b[1;37;40m \u001b[0m\u001b[1;37;40m│\u001b[0m\n",
       "\u001b[1;37;40m│\u001b[0m\u001b[1;37;40m \u001b[0m\u001b[1;37;40mPrend garde Criminel Soyeux, elle est peut-être plus perspicace que ton N+1\u001b[0m\u001b[1;37;40m                                    \u001b[0m\u001b[1;37;40m \u001b[0m\u001b[1;37;40m│\u001b[0m\n",
       "\u001b[1;37;40m│\u001b[0m\u001b[1;37;40m \u001b[0m\u001b[1;37;40m                                                                                                               \u001b[0m\u001b[1;37;40m \u001b[0m\u001b[1;37;40m│\u001b[0m\n",
       "\u001b[1;37;40m│\u001b[0m\u001b[1;37;40m \u001b[0m\u001b[1;37;40mAnalyse:\u001b[0m\u001b[1;37;40m                                                                                                       \u001b[0m\u001b[1;37;40m \u001b[0m\u001b[1;37;40m│\u001b[0m\n",
       "\u001b[1;37;40m│\u001b[0m\u001b[1;37;40m \u001b[0m\u001b[1;37;40m<think>\u001b[0m\u001b[1;37;40m                                                                                                        \u001b[0m\u001b[1;37;40m \u001b[0m\u001b[1;37;40m│\u001b[0m\n",
       "\u001b[1;37;40m│\u001b[0m\u001b[1;37;40m \u001b[0m\u001b[1;37;40mExplication :\u001b[0m\u001b[1;37;40m                                                                                                  \u001b[0m\u001b[1;37;40m \u001b[0m\u001b[1;37;40m│\u001b[0m\n",
       "\u001b[1;37;40m│\u001b[0m\u001b[1;37;40m \u001b[0m\u001b[1;37;40m**Sujet du message :** Apparition d'un personnage inspecteur.\u001b[0m\u001b[1;37;40m                                                  \u001b[0m\u001b[1;37;40m \u001b[0m\u001b[1;37;40m│\u001b[0m\n",
       "\u001b[1;37;40m│\u001b[0m\u001b[1;37;40m \u001b[0m\u001b[1;37;40m                                                                                                               \u001b[0m\u001b[1;37;40m \u001b[0m\u001b[1;37;40m│\u001b[0m\n",
       "\u001b[1;37;40m│\u001b[0m\u001b[1;37;40m \u001b[0m\u001b[1;37;40m**Résumé et explication :** L'auteur suggère qu'un inspecteur réside maintenant dans la situation en cours. Il \u001b[0m\u001b[1;37;40m \u001b[0m\u001b[1;37;40m│\u001b[0m\n",
       "\u001b[1;37;40m│\u001b[0m\u001b[1;37;40m \u001b[0m\u001b[1;37;40mconseille également à une personne nommée \"Criminel Soyeux\" de se méfier, estimant qu'elle pourrait être plus \u001b[0m\u001b[1;37;40m \u001b[0m\u001b[1;37;40m \u001b[0m\u001b[1;37;40m│\u001b[0m\n",
       "\u001b[1;37;40m│\u001b[0m\u001b[1;37;40m \u001b[0m\u001b[1;37;40mintelligente que son N+1 (terme désignant un élément ou un groupe qui suit). Le niveau de certitude sur ces \u001b[0m\u001b[1;37;40m   \u001b[0m\u001b[1;37;40m \u001b[0m\u001b[1;37;40m│\u001b[0m\n",
       "\u001b[1;37;40m│\u001b[0m\u001b[1;37;40m \u001b[0m\u001b[1;37;40minterprétations est élevé.\u001b[0m\u001b[1;37;40m                                                                                     \u001b[0m\u001b[1;37;40m \u001b[0m\u001b[1;37;40m│\u001b[0m\n",
       "\u001b[1;37;40m│\u001b[0m\u001b[1;37;40m \u001b[0m\u001b[1;37;40m</think>\u001b[0m\u001b[1;37;40m                                                                                                       \u001b[0m\u001b[1;37;40m \u001b[0m\u001b[1;37;40m│\u001b[0m\n",
       "\u001b[1;37;40m│\u001b[0m\u001b[1;37;40m \u001b[0m\u001b[1;37;40m<think>\u001b[0m\u001b[1;37;40m                                                                                                        \u001b[0m\u001b[1;37;40m \u001b[0m\u001b[1;37;40m│\u001b[0m\n",
       "\u001b[1;37;40m│\u001b[0m\u001b[1;37;40m \u001b[0m\u001b[1;37;40mTons :\u001b[0m\u001b[1;37;40m                                                                                                         \u001b[0m\u001b[1;37;40m \u001b[0m\u001b[1;37;40m│\u001b[0m\n",
       "\u001b[1;37;40m│\u001b[0m\u001b[1;37;40m \u001b[0m\u001b[1;37;40mTons perçus : Sarcastique (80%), Provocateur (70%).\u001b[0m\u001b[1;37;40m                                                            \u001b[0m\u001b[1;37;40m \u001b[0m\u001b[1;37;40m│\u001b[0m\n",
       "\u001b[1;37;40m│\u001b[0m\u001b[1;37;40m \u001b[0m\u001b[1;37;40m                                                                                                               \u001b[0m\u001b[1;37;40m \u001b[0m\u001b[1;37;40m│\u001b[0m\n",
       "\u001b[1;37;40m│\u001b[0m\u001b[1;37;40m \u001b[0m\u001b[1;37;40mJustification : Le terme « On dirait bien » et le conseil à « Criminel Soyeux » utilisent des ironies qui \u001b[0m\u001b[1;37;40m     \u001b[0m\u001b[1;37;40m \u001b[0m\u001b[1;37;40m│\u001b[0m\n",
       "\u001b[1;37;40m│\u001b[0m\u001b[1;37;40m \u001b[0m\u001b[1;37;40msoulignent un jugement négatif. La mention de « perspicace » ajoute une nuance sarcastique. Doutes sur \u001b[0m\u001b[1;37;40m        \u001b[0m\u001b[1;37;40m \u001b[0m\u001b[1;37;40m│\u001b[0m\n",
       "\u001b[1;37;40m│\u001b[0m\u001b[1;37;40m \u001b[0m\u001b[1;37;40ml'intention humoristique potentielle.\u001b[0m\u001b[1;37;40m                                                                          \u001b[0m\u001b[1;37;40m \u001b[0m\u001b[1;37;40m│\u001b[0m\n",
       "\u001b[1;37;40m│\u001b[0m\u001b[1;37;40m \u001b[0m\u001b[1;37;40m</think>\u001b[0m\u001b[1;37;40m                                                                                                       \u001b[0m\u001b[1;37;40m \u001b[0m\u001b[1;37;40m│\u001b[0m\n",
       "\u001b[1;37;40m│\u001b[0m\u001b[1;37;40m \u001b[0m\u001b[1;37;40m<think>\u001b[0m\u001b[1;37;40m                                                                                                        \u001b[0m\u001b[1;37;40m \u001b[0m\u001b[1;37;40m│\u001b[0m\n",
       "\u001b[1;37;40m│\u001b[0m\u001b[1;37;40m \u001b[0m\u001b[1;37;40mScore de toxicité :\u001b[0m\u001b[1;37;40m                                                                                            \u001b[0m\u001b[1;37;40m \u001b[0m\u001b[1;37;40m│\u001b[0m\n",
       "\u001b[1;37;40m│\u001b[0m\u001b[1;37;40m \u001b[0m\u001b[1;37;40m4/10\u001b[0m\u001b[1;37;40m                                                                                                           \u001b[0m\u001b[1;37;40m \u001b[0m\u001b[1;37;40m│\u001b[0m\n",
       "\u001b[1;37;40m│\u001b[0m\u001b[1;37;40m \u001b[0m\u001b[1;37;40m                                                                                                               \u001b[0m\u001b[1;37;40m \u001b[0m\u001b[1;37;40m│\u001b[0m\n",
       "\u001b[1;37;40m│\u001b[0m\u001b[1;37;40m \u001b[0m\u001b[1;37;40mJustification :\u001b[0m\u001b[1;37;40m                                                                                                \u001b[0m\u001b[1;37;40m \u001b[0m\u001b[1;37;40m│\u001b[0m\n",
       "\u001b[1;37;40m│\u001b[0m\u001b[1;37;40m \u001b[0m\u001b[1;37;40mLe message utilise sarcasme et moquerie sans incitation claire à la haine, mais il reste condescendant et \u001b[0m\u001b[1;37;40m     \u001b[0m\u001b[1;37;40m \u001b[0m\u001b[1;37;40m│\u001b[0m\n",
       "\u001b[1;37;40m│\u001b[0m\u001b[1;37;40m \u001b[0m\u001b[1;37;40mpotentiellement blessant.\u001b[0m\u001b[1;37;40m                                                                                      \u001b[0m\u001b[1;37;40m \u001b[0m\u001b[1;37;40m│\u001b[0m\n",
       "\u001b[1;37;40m│\u001b[0m\u001b[1;37;40m \u001b[0m\u001b[1;37;40m</think>\u001b[0m\u001b[1;37;40m                                                                                                       \u001b[0m\u001b[1;37;40m \u001b[0m\u001b[1;37;40m│\u001b[0m\n",
       "\u001b[1;37;40m│\u001b[0m\u001b[1;37;40m \u001b[0m\u001b[1;37;40m                                                                                                               \u001b[0m\u001b[1;37;40m \u001b[0m\u001b[1;37;40m│\u001b[0m\n",
       "\u001b[1;37;40m│\u001b[0m\u001b[1;37;40m \u001b[0m\u001b[1;37;40mEn conclusion, ce message est-il toxique ?\u001b[0m\u001b[1;37;40m                                                                     \u001b[0m\u001b[1;37;40m \u001b[0m\u001b[1;37;40m│\u001b[0m\n",
       "\u001b[1;37;40m│\u001b[0m\u001b[1;37;40m \u001b[0m\u001b[1;37;40m                                                                                                               \u001b[0m\u001b[1;37;40m \u001b[0m\u001b[1;37;40m│\u001b[0m\n",
       "\u001b[1;37;40m│\u001b[0m\u001b[1;37;40m \u001b[0m\u001b[1;37;40mnon<|im_end|>\u001b[0m\u001b[1;37;40m                                                                                                  \u001b[0m\u001b[1;37;40m \u001b[0m\u001b[1;37;40m│\u001b[0m\n",
       "\u001b[1;37;40m╰─────────────────────────────────────────────────────────────────────────────────────────────────────────────────╯\u001b[0m\n"
      ]
     },
     "metadata": {},
     "output_type": "display_data"
    },
    {
     "data": {
      "text/html": [
       "<pre style=\"white-space:pre;overflow-x:auto;line-height:normal;font-family:Menlo,'DejaVu Sans Mono',consolas,'Courier New',monospace\">\n",
       "\n",
       "</pre>\n"
      ],
      "text/plain": [
       "\n",
       "\n"
      ]
     },
     "metadata": {},
     "output_type": "display_data"
    },
    {
     "data": {
      "text/html": [
       "<pre style=\"white-space:pre;overflow-x:auto;line-height:normal;font-family:Menlo,'DejaVu Sans Mono',consolas,'Courier New',monospace\"><span style=\"color: #00ff00; text-decoration-color: #00ff00\">───────────────────────────────────────────────────── </span><span style=\"color: #808000; text-decoration-color: #808000; font-weight: bold\">Prompt</span><span style=\"color: #00ff00; text-decoration-color: #00ff00\"> ──────────────────────────────────────────────────────</span>\n",
       "</pre>\n"
      ],
      "text/plain": [
       "\u001b[92m───────────────────────────────────────────────────── \u001b[0m\u001b[1;33mPrompt\u001b[0m\u001b[92m ──────────────────────────────────────────────────────\u001b[0m\n"
      ]
     },
     "metadata": {},
     "output_type": "display_data"
    },
    {
     "data": {
      "text/html": [
       "<pre style=\"white-space:pre;overflow-x:auto;line-height:normal;font-family:Menlo,'DejaVu Sans Mono',consolas,'Courier New',monospace\">\n",
       "\n",
       "</pre>\n"
      ],
      "text/plain": [
       "\n",
       "\n"
      ]
     },
     "metadata": {},
     "output_type": "display_data"
    },
    {
     "data": {
      "text/html": [
       "<pre style=\"white-space:pre;overflow-x:auto;line-height:normal;font-family:Menlo,'DejaVu Sans Mono',consolas,'Courier New',monospace\"><span style=\"color: #c0c0c0; text-decoration-color: #c0c0c0; background-color: #000000; font-style: italic\">╭────────────────</span> Prompt <span style=\"color: #c0c0c0; text-decoration-color: #c0c0c0; background-color: #000000; font-style: italic\">────────────────╮</span>\n",
       "<span style=\"color: #c0c0c0; text-decoration-color: #c0c0c0; background-color: #000000; font-style: italic\">│ Message:                               │</span>\n",
       "<span style=\"color: #c0c0c0; text-decoration-color: #c0c0c0; background-color: #000000; font-style: italic\">│ imaginer vos couilles contre ses fesse │</span>\n",
       "<span style=\"color: #c0c0c0; text-decoration-color: #c0c0c0; background-color: #000000; font-style: italic\">│                                        │</span>\n",
       "<span style=\"color: #c0c0c0; text-decoration-color: #c0c0c0; background-color: #000000; font-style: italic\">│ Analyse:                               │</span>\n",
       "<span style=\"color: #c0c0c0; text-decoration-color: #c0c0c0; background-color: #000000; font-style: italic\">│ &lt;think&gt;                                │</span>\n",
       "<span style=\"color: #c0c0c0; text-decoration-color: #c0c0c0; background-color: #000000; font-style: italic\">│ Explication :                          │</span>\n",
       "<span style=\"color: #c0c0c0; text-decoration-color: #c0c0c0; background-color: #000000; font-style: italic\">│                                        │</span>\n",
       "<span style=\"color: #c0c0c0; text-decoration-color: #c0c0c0; background-color: #000000; font-style: italic\">╰────────────────────────────────────────╯</span>\n",
       "</pre>\n"
      ],
      "text/plain": [
       "\u001b[3;37;40m╭─\u001b[0m\u001b[3;37;40m───────────────\u001b[0m Prompt \u001b[3;37;40m───────────────\u001b[0m\u001b[3;37;40m─╮\u001b[0m\n",
       "\u001b[3;37;40m│\u001b[0m\u001b[3;37;40m \u001b[0m\u001b[3;37;40mMessage:\u001b[0m\u001b[3;37;40m                              \u001b[0m\u001b[3;37;40m \u001b[0m\u001b[3;37;40m│\u001b[0m\n",
       "\u001b[3;37;40m│\u001b[0m\u001b[3;37;40m \u001b[0m\u001b[3;37;40mimaginer vos couilles contre ses fesse\u001b[0m\u001b[3;37;40m \u001b[0m\u001b[3;37;40m│\u001b[0m\n",
       "\u001b[3;37;40m│\u001b[0m\u001b[3;37;40m \u001b[0m\u001b[3;37;40m                                      \u001b[0m\u001b[3;37;40m \u001b[0m\u001b[3;37;40m│\u001b[0m\n",
       "\u001b[3;37;40m│\u001b[0m\u001b[3;37;40m \u001b[0m\u001b[3;37;40mAnalyse:\u001b[0m\u001b[3;37;40m                              \u001b[0m\u001b[3;37;40m \u001b[0m\u001b[3;37;40m│\u001b[0m\n",
       "\u001b[3;37;40m│\u001b[0m\u001b[3;37;40m \u001b[0m\u001b[3;37;40m<think>\u001b[0m\u001b[3;37;40m                               \u001b[0m\u001b[3;37;40m \u001b[0m\u001b[3;37;40m│\u001b[0m\n",
       "\u001b[3;37;40m│\u001b[0m\u001b[3;37;40m \u001b[0m\u001b[3;37;40mExplication :\u001b[0m\u001b[3;37;40m                         \u001b[0m\u001b[3;37;40m \u001b[0m\u001b[3;37;40m│\u001b[0m\n",
       "\u001b[3;37;40m│\u001b[0m\u001b[3;37;40m \u001b[0m\u001b[3;37;40m                                      \u001b[0m\u001b[3;37;40m \u001b[0m\u001b[3;37;40m│\u001b[0m\n",
       "\u001b[3;37;40m╰────────────────────────────────────────╯\u001b[0m\n"
      ]
     },
     "metadata": {},
     "output_type": "display_data"
    },
    {
     "data": {
      "text/html": [
       "<pre style=\"white-space:pre;overflow-x:auto;line-height:normal;font-family:Menlo,'DejaVu Sans Mono',consolas,'Courier New',monospace\">\n",
       "\n",
       "</pre>\n"
      ],
      "text/plain": [
       "\n",
       "\n"
      ]
     },
     "metadata": {},
     "output_type": "display_data"
    },
    {
     "data": {
      "text/html": [
       "<pre style=\"white-space:pre;overflow-x:auto;line-height:normal;font-family:Menlo,'DejaVu Sans Mono',consolas,'Courier New',monospace\"><span style=\"color: #00ff00; text-decoration-color: #00ff00\">────────────────────────────────────────────────── </span><span style=\"color: #800080; text-decoration-color: #800080; font-weight: bold\">Model Output</span><span style=\"color: #00ff00; text-decoration-color: #00ff00\"> ───────────────────────────────────────────────────</span>\n",
       "</pre>\n"
      ],
      "text/plain": [
       "\u001b[92m────────────────────────────────────────────────── \u001b[0m\u001b[1;35mModel Output\u001b[0m\u001b[92m ───────────────────────────────────────────────────\u001b[0m\n"
      ]
     },
     "metadata": {},
     "output_type": "display_data"
    },
    {
     "data": {
      "text/html": [
       "<pre style=\"white-space:pre;overflow-x:auto;line-height:normal;font-family:Menlo,'DejaVu Sans Mono',consolas,'Courier New',monospace\">\n",
       "\n",
       "</pre>\n"
      ],
      "text/plain": [
       "\n",
       "\n"
      ]
     },
     "metadata": {},
     "output_type": "display_data"
    },
    {
     "data": {
      "text/html": [
       "<pre style=\"white-space:pre;overflow-x:auto;line-height:normal;font-family:Menlo,'DejaVu Sans Mono',consolas,'Courier New',monospace\"><span style=\"color: #c0c0c0; text-decoration-color: #c0c0c0; background-color: #000000; font-weight: bold\">╭────────────────────────────────────────────────</span> Generated Text <span style=\"color: #c0c0c0; text-decoration-color: #c0c0c0; background-color: #000000; font-weight: bold\">─────────────────────────────────────────────────╮</span>\n",
       "<span style=\"color: #c0c0c0; text-decoration-color: #c0c0c0; background-color: #000000; font-weight: bold\">│ Message:                                                                                                        │</span>\n",
       "<span style=\"color: #c0c0c0; text-decoration-color: #c0c0c0; background-color: #000000; font-weight: bold\">│ imaginer vos couilles contre ses fesse                                                                          │</span>\n",
       "<span style=\"color: #c0c0c0; text-decoration-color: #c0c0c0; background-color: #000000; font-weight: bold\">│                                                                                                                 │</span>\n",
       "<span style=\"color: #c0c0c0; text-decoration-color: #c0c0c0; background-color: #000000; font-weight: bold\">│ Analyse:                                                                                                        │</span>\n",
       "<span style=\"color: #c0c0c0; text-decoration-color: #c0c0c0; background-color: #000000; font-weight: bold\">│ &lt;think&gt;                                                                                                         │</span>\n",
       "<span style=\"color: #c0c0c0; text-decoration-color: #c0c0c0; background-color: #000000; font-weight: bold\">│ Explication :                                                                                                   │</span>\n",
       "<span style=\"color: #c0c0c0; text-decoration-color: #c0c0c0; background-color: #000000; font-weight: bold\">│ - **Sujet du message** : Une référence suggestive liée à une relation sexuelle.                                 │</span>\n",
       "<span style=\"color: #c0c0c0; text-decoration-color: #c0c0c0; background-color: #000000; font-weight: bold\">│ - **Sens probable** : Le message évoque des images ou des pensées intimes, impliquant un contact physique entre │</span>\n",
       "<span style=\"color: #c0c0c0; text-decoration-color: #c0c0c0; background-color: #000000; font-weight: bold\">│ deux personnes.                                                                                                 │</span>\n",
       "<span style=\"color: #c0c0c0; text-decoration-color: #c0c0c0; background-color: #000000; font-weight: bold\">│                                                                                                                 │</span>\n",
       "<span style=\"color: #c0c0c0; text-decoration-color: #c0c0c0; background-color: #000000; font-weight: bold\">│ L'expression \"couilles\" et \"fesse\" fait allusion à des parties génitales, ce qui peut être perçu comme vulgaire │</span>\n",
       "<span style=\"color: #c0c0c0; text-decoration-color: #c0c0c0; background-color: #000000; font-weight: bold\">│ ou provocateur.                                                                                                 │</span>\n",
       "<span style=\"color: #c0c0c0; text-decoration-color: #c0c0c0; background-color: #000000; font-weight: bold\">│ &lt;/think&gt;                                                                                                        │</span>\n",
       "<span style=\"color: #c0c0c0; text-decoration-color: #c0c0c0; background-color: #000000; font-weight: bold\">│ &lt;think&gt;                                                                                                         │</span>\n",
       "<span style=\"color: #c0c0c0; text-decoration-color: #c0c0c0; background-color: #000000; font-weight: bold\">│ Tons :                                                                                                          │</span>\n",
       "<span style=\"color: #c0c0c0; text-decoration-color: #c0c0c0; background-color: #000000; font-weight: bold\">│ Les tons présents dans le message sont :                                                                        │</span>\n",
       "<span style=\"color: #c0c0c0; text-decoration-color: #c0c0c0; background-color: #000000; font-weight: bold\">│                                                                                                                 │</span>\n",
       "<span style=\"color: #c0c0c0; text-decoration-color: #c0c0c0; background-color: #000000; font-weight: bold\">│ 1. Provocateur (certitude élevée) - L'utilisation de termes explicites attire l'attention et vise à susciter    │</span>\n",
       "<span style=\"color: #c0c0c0; text-decoration-color: #c0c0c0; background-color: #000000; font-weight: bold\">│ une réaction.                                                                                                   │</span>\n",
       "<span style=\"color: #c0c0c0; text-decoration-color: #c0c0c0; background-color: #000000; font-weight: bold\">│ 2. Vulgaire (certitude élevée) - La formulation dégradante des parties anatomiques indique un langage familier  │</span>\n",
       "<span style=\"color: #c0c0c0; text-decoration-color: #c0c0c0; background-color: #000000; font-weight: bold\">│ et direct.                                                                                                      │</span>\n",
       "<span style=\"color: #c0c0c0; text-decoration-color: #c0c0c0; background-color: #000000; font-weight: bold\">│                                                                                                                 │</span>\n",
       "<span style=\"color: #c0c0c0; text-decoration-color: #c0c0c0; background-color: #000000; font-weight: bold\">│ Doutes : Aucun ton bienveillant ou léger n'est présent, la gravité des mots suggère une intention d'excitation  │</span>\n",
       "<span style=\"color: #c0c0c0; text-decoration-color: #c0c0c0; background-color: #000000; font-weight: bold\">│ plutôt que de provocation amicale.                                                                              │</span>\n",
       "<span style=\"color: #c0c0c0; text-decoration-color: #c0c0c0; background-color: #000000; font-weight: bold\">│ &lt;/think&gt;                                                                                                        │</span>\n",
       "<span style=\"color: #c0c0c0; text-decoration-color: #c0c0c0; background-color: #000000; font-weight: bold\">│ &lt;think&gt;                                                                                                         │</span>\n",
       "<span style=\"color: #c0c0c0; text-decoration-color: #c0c0c0; background-color: #000000; font-weight: bold\">│ Score de toxicité :                                                                                             │</span>\n",
       "<span style=\"color: #c0c0c0; text-decoration-color: #c0c0c0; background-color: #000000; font-weight: bold\">│ 6/10                                                                                                            │</span>\n",
       "<span style=\"color: #c0c0c0; text-decoration-color: #c0c0c0; background-color: #000000; font-weight: bold\">│                                                                                                                 │</span>\n",
       "<span style=\"color: #c0c0c0; text-decoration-color: #c0c0c0; background-color: #000000; font-weight: bold\">│ Justification :                                                                                                 │</span>\n",
       "<span style=\"color: #c0c0c0; text-decoration-color: #c0c0c0; background-color: #000000; font-weight: bold\">│ Propos explicite et vulgarité fortement connotés avec intention de choquer et visant à attirer une réaction     │</span>\n",
       "<span style=\"color: #c0c0c0; text-decoration-color: #c0c0c0; background-color: #000000; font-weight: bold\">│ intense.                                                                                                        │</span>\n",
       "<span style=\"color: #c0c0c0; text-decoration-color: #c0c0c0; background-color: #000000; font-weight: bold\">│ &lt;/think&gt;                                                                                                        │</span>\n",
       "<span style=\"color: #c0c0c0; text-decoration-color: #c0c0c0; background-color: #000000; font-weight: bold\">│                                                                                                                 │</span>\n",
       "<span style=\"color: #c0c0c0; text-decoration-color: #c0c0c0; background-color: #000000; font-weight: bold\">│ En conclusion, ce message est-il toxique ?                                                                      │</span>\n",
       "<span style=\"color: #c0c0c0; text-decoration-color: #c0c0c0; background-color: #000000; font-weight: bold\">│                                                                                                                 │</span>\n",
       "<span style=\"color: #c0c0c0; text-decoration-color: #c0c0c0; background-color: #000000; font-weight: bold\">│ non&lt;|im_end|&gt;                                                                                                   │</span>\n",
       "<span style=\"color: #c0c0c0; text-decoration-color: #c0c0c0; background-color: #000000; font-weight: bold\">╰─────────────────────────────────────────────────────────────────────────────────────────────────────────────────╯</span>\n",
       "</pre>\n"
      ],
      "text/plain": [
       "\u001b[1;37;40m╭─\u001b[0m\u001b[1;37;40m───────────────────────────────────────────────\u001b[0m Generated Text \u001b[1;37;40m────────────────────────────────────────────────\u001b[0m\u001b[1;37;40m─╮\u001b[0m\n",
       "\u001b[1;37;40m│\u001b[0m\u001b[1;37;40m \u001b[0m\u001b[1;37;40mMessage:\u001b[0m\u001b[1;37;40m                                                                                                       \u001b[0m\u001b[1;37;40m \u001b[0m\u001b[1;37;40m│\u001b[0m\n",
       "\u001b[1;37;40m│\u001b[0m\u001b[1;37;40m \u001b[0m\u001b[1;37;40mimaginer vos couilles contre ses fesse\u001b[0m\u001b[1;37;40m                                                                         \u001b[0m\u001b[1;37;40m \u001b[0m\u001b[1;37;40m│\u001b[0m\n",
       "\u001b[1;37;40m│\u001b[0m\u001b[1;37;40m \u001b[0m\u001b[1;37;40m                                                                                                               \u001b[0m\u001b[1;37;40m \u001b[0m\u001b[1;37;40m│\u001b[0m\n",
       "\u001b[1;37;40m│\u001b[0m\u001b[1;37;40m \u001b[0m\u001b[1;37;40mAnalyse:\u001b[0m\u001b[1;37;40m                                                                                                       \u001b[0m\u001b[1;37;40m \u001b[0m\u001b[1;37;40m│\u001b[0m\n",
       "\u001b[1;37;40m│\u001b[0m\u001b[1;37;40m \u001b[0m\u001b[1;37;40m<think>\u001b[0m\u001b[1;37;40m                                                                                                        \u001b[0m\u001b[1;37;40m \u001b[0m\u001b[1;37;40m│\u001b[0m\n",
       "\u001b[1;37;40m│\u001b[0m\u001b[1;37;40m \u001b[0m\u001b[1;37;40mExplication :\u001b[0m\u001b[1;37;40m                                                                                                  \u001b[0m\u001b[1;37;40m \u001b[0m\u001b[1;37;40m│\u001b[0m\n",
       "\u001b[1;37;40m│\u001b[0m\u001b[1;37;40m \u001b[0m\u001b[1;37;40m- **Sujet du message** : Une référence suggestive liée à une relation sexuelle.\u001b[0m\u001b[1;37;40m                                \u001b[0m\u001b[1;37;40m \u001b[0m\u001b[1;37;40m│\u001b[0m\n",
       "\u001b[1;37;40m│\u001b[0m\u001b[1;37;40m \u001b[0m\u001b[1;37;40m- **Sens probable** : Le message évoque des images ou des pensées intimes, impliquant un contact physique entre\u001b[0m\u001b[1;37;40m \u001b[0m\u001b[1;37;40m│\u001b[0m\n",
       "\u001b[1;37;40m│\u001b[0m\u001b[1;37;40m \u001b[0m\u001b[1;37;40mdeux personnes. \u001b[0m\u001b[1;37;40m                                                                                               \u001b[0m\u001b[1;37;40m \u001b[0m\u001b[1;37;40m│\u001b[0m\n",
       "\u001b[1;37;40m│\u001b[0m\u001b[1;37;40m \u001b[0m\u001b[1;37;40m                                                                                                               \u001b[0m\u001b[1;37;40m \u001b[0m\u001b[1;37;40m│\u001b[0m\n",
       "\u001b[1;37;40m│\u001b[0m\u001b[1;37;40m \u001b[0m\u001b[1;37;40mL'expression \"couilles\" et \"fesse\" fait allusion à des parties génitales, ce qui peut être perçu comme vulgaire\u001b[0m\u001b[1;37;40m \u001b[0m\u001b[1;37;40m│\u001b[0m\n",
       "\u001b[1;37;40m│\u001b[0m\u001b[1;37;40m \u001b[0m\u001b[1;37;40mou provocateur.\u001b[0m\u001b[1;37;40m                                                                                                \u001b[0m\u001b[1;37;40m \u001b[0m\u001b[1;37;40m│\u001b[0m\n",
       "\u001b[1;37;40m│\u001b[0m\u001b[1;37;40m \u001b[0m\u001b[1;37;40m</think>\u001b[0m\u001b[1;37;40m                                                                                                       \u001b[0m\u001b[1;37;40m \u001b[0m\u001b[1;37;40m│\u001b[0m\n",
       "\u001b[1;37;40m│\u001b[0m\u001b[1;37;40m \u001b[0m\u001b[1;37;40m<think>\u001b[0m\u001b[1;37;40m                                                                                                        \u001b[0m\u001b[1;37;40m \u001b[0m\u001b[1;37;40m│\u001b[0m\n",
       "\u001b[1;37;40m│\u001b[0m\u001b[1;37;40m \u001b[0m\u001b[1;37;40mTons :\u001b[0m\u001b[1;37;40m                                                                                                         \u001b[0m\u001b[1;37;40m \u001b[0m\u001b[1;37;40m│\u001b[0m\n",
       "\u001b[1;37;40m│\u001b[0m\u001b[1;37;40m \u001b[0m\u001b[1;37;40mLes tons présents dans le message sont :\u001b[0m\u001b[1;37;40m                                                                       \u001b[0m\u001b[1;37;40m \u001b[0m\u001b[1;37;40m│\u001b[0m\n",
       "\u001b[1;37;40m│\u001b[0m\u001b[1;37;40m \u001b[0m\u001b[1;37;40m                                                                                                               \u001b[0m\u001b[1;37;40m \u001b[0m\u001b[1;37;40m│\u001b[0m\n",
       "\u001b[1;37;40m│\u001b[0m\u001b[1;37;40m \u001b[0m\u001b[1;37;40m1. Provocateur (certitude élevée) - L'utilisation de termes explicites attire l'attention et vise à susciter \u001b[0m\u001b[1;37;40m  \u001b[0m\u001b[1;37;40m \u001b[0m\u001b[1;37;40m│\u001b[0m\n",
       "\u001b[1;37;40m│\u001b[0m\u001b[1;37;40m \u001b[0m\u001b[1;37;40mune réaction.\u001b[0m\u001b[1;37;40m                                                                                                  \u001b[0m\u001b[1;37;40m \u001b[0m\u001b[1;37;40m│\u001b[0m\n",
       "\u001b[1;37;40m│\u001b[0m\u001b[1;37;40m \u001b[0m\u001b[1;37;40m2. Vulgaire (certitude élevée) - La formulation dégradante des parties anatomiques indique un langage familier \u001b[0m\u001b[1;37;40m \u001b[0m\u001b[1;37;40m│\u001b[0m\n",
       "\u001b[1;37;40m│\u001b[0m\u001b[1;37;40m \u001b[0m\u001b[1;37;40met direct.\u001b[0m\u001b[1;37;40m                                                                                                     \u001b[0m\u001b[1;37;40m \u001b[0m\u001b[1;37;40m│\u001b[0m\n",
       "\u001b[1;37;40m│\u001b[0m\u001b[1;37;40m \u001b[0m\u001b[1;37;40m                                                                                                               \u001b[0m\u001b[1;37;40m \u001b[0m\u001b[1;37;40m│\u001b[0m\n",
       "\u001b[1;37;40m│\u001b[0m\u001b[1;37;40m \u001b[0m\u001b[1;37;40mDoutes : Aucun ton bienveillant ou léger n'est présent, la gravité des mots suggère une intention d'excitation \u001b[0m\u001b[1;37;40m \u001b[0m\u001b[1;37;40m│\u001b[0m\n",
       "\u001b[1;37;40m│\u001b[0m\u001b[1;37;40m \u001b[0m\u001b[1;37;40mplutôt que de provocation amicale.\u001b[0m\u001b[1;37;40m                                                                             \u001b[0m\u001b[1;37;40m \u001b[0m\u001b[1;37;40m│\u001b[0m\n",
       "\u001b[1;37;40m│\u001b[0m\u001b[1;37;40m \u001b[0m\u001b[1;37;40m</think>\u001b[0m\u001b[1;37;40m                                                                                                       \u001b[0m\u001b[1;37;40m \u001b[0m\u001b[1;37;40m│\u001b[0m\n",
       "\u001b[1;37;40m│\u001b[0m\u001b[1;37;40m \u001b[0m\u001b[1;37;40m<think>\u001b[0m\u001b[1;37;40m                                                                                                        \u001b[0m\u001b[1;37;40m \u001b[0m\u001b[1;37;40m│\u001b[0m\n",
       "\u001b[1;37;40m│\u001b[0m\u001b[1;37;40m \u001b[0m\u001b[1;37;40mScore de toxicité :\u001b[0m\u001b[1;37;40m                                                                                            \u001b[0m\u001b[1;37;40m \u001b[0m\u001b[1;37;40m│\u001b[0m\n",
       "\u001b[1;37;40m│\u001b[0m\u001b[1;37;40m \u001b[0m\u001b[1;37;40m6/10\u001b[0m\u001b[1;37;40m                                                                                                           \u001b[0m\u001b[1;37;40m \u001b[0m\u001b[1;37;40m│\u001b[0m\n",
       "\u001b[1;37;40m│\u001b[0m\u001b[1;37;40m \u001b[0m\u001b[1;37;40m                                                                                                               \u001b[0m\u001b[1;37;40m \u001b[0m\u001b[1;37;40m│\u001b[0m\n",
       "\u001b[1;37;40m│\u001b[0m\u001b[1;37;40m \u001b[0m\u001b[1;37;40mJustification :\u001b[0m\u001b[1;37;40m                                                                                                \u001b[0m\u001b[1;37;40m \u001b[0m\u001b[1;37;40m│\u001b[0m\n",
       "\u001b[1;37;40m│\u001b[0m\u001b[1;37;40m \u001b[0m\u001b[1;37;40mPropos explicite et vulgarité fortement connotés avec intention de choquer et visant à attirer une réaction \u001b[0m\u001b[1;37;40m   \u001b[0m\u001b[1;37;40m \u001b[0m\u001b[1;37;40m│\u001b[0m\n",
       "\u001b[1;37;40m│\u001b[0m\u001b[1;37;40m \u001b[0m\u001b[1;37;40mintense.\u001b[0m\u001b[1;37;40m                                                                                                       \u001b[0m\u001b[1;37;40m \u001b[0m\u001b[1;37;40m│\u001b[0m\n",
       "\u001b[1;37;40m│\u001b[0m\u001b[1;37;40m \u001b[0m\u001b[1;37;40m</think>\u001b[0m\u001b[1;37;40m                                                                                                       \u001b[0m\u001b[1;37;40m \u001b[0m\u001b[1;37;40m│\u001b[0m\n",
       "\u001b[1;37;40m│\u001b[0m\u001b[1;37;40m \u001b[0m\u001b[1;37;40m                                                                                                               \u001b[0m\u001b[1;37;40m \u001b[0m\u001b[1;37;40m│\u001b[0m\n",
       "\u001b[1;37;40m│\u001b[0m\u001b[1;37;40m \u001b[0m\u001b[1;37;40mEn conclusion, ce message est-il toxique ?\u001b[0m\u001b[1;37;40m                                                                     \u001b[0m\u001b[1;37;40m \u001b[0m\u001b[1;37;40m│\u001b[0m\n",
       "\u001b[1;37;40m│\u001b[0m\u001b[1;37;40m \u001b[0m\u001b[1;37;40m                                                                                                               \u001b[0m\u001b[1;37;40m \u001b[0m\u001b[1;37;40m│\u001b[0m\n",
       "\u001b[1;37;40m│\u001b[0m\u001b[1;37;40m \u001b[0m\u001b[1;37;40mnon<|im_end|>\u001b[0m\u001b[1;37;40m                                                                                                  \u001b[0m\u001b[1;37;40m \u001b[0m\u001b[1;37;40m│\u001b[0m\n",
       "\u001b[1;37;40m╰─────────────────────────────────────────────────────────────────────────────────────────────────────────────────╯\u001b[0m\n"
      ]
     },
     "metadata": {},
     "output_type": "display_data"
    },
    {
     "data": {
      "text/html": [
       "<pre style=\"white-space:pre;overflow-x:auto;line-height:normal;font-family:Menlo,'DejaVu Sans Mono',consolas,'Courier New',monospace\">\n",
       "\n",
       "</pre>\n"
      ],
      "text/plain": [
       "\n",
       "\n"
      ]
     },
     "metadata": {},
     "output_type": "display_data"
    },
    {
     "data": {
      "text/html": [
       "<pre style=\"white-space:pre;overflow-x:auto;line-height:normal;font-family:Menlo,'DejaVu Sans Mono',consolas,'Courier New',monospace\"><span style=\"color: #00ff00; text-decoration-color: #00ff00\">───────────────────────────────────────────────────── </span><span style=\"color: #808000; text-decoration-color: #808000; font-weight: bold\">Prompt</span><span style=\"color: #00ff00; text-decoration-color: #00ff00\"> ──────────────────────────────────────────────────────</span>\n",
       "</pre>\n"
      ],
      "text/plain": [
       "\u001b[92m───────────────────────────────────────────────────── \u001b[0m\u001b[1;33mPrompt\u001b[0m\u001b[92m ──────────────────────────────────────────────────────\u001b[0m\n"
      ]
     },
     "metadata": {},
     "output_type": "display_data"
    },
    {
     "data": {
      "text/html": [
       "<pre style=\"white-space:pre;overflow-x:auto;line-height:normal;font-family:Menlo,'DejaVu Sans Mono',consolas,'Courier New',monospace\">\n",
       "\n",
       "</pre>\n"
      ],
      "text/plain": [
       "\n",
       "\n"
      ]
     },
     "metadata": {},
     "output_type": "display_data"
    },
    {
     "data": {
      "text/html": [
       "<pre style=\"white-space:pre;overflow-x:auto;line-height:normal;font-family:Menlo,'DejaVu Sans Mono',consolas,'Courier New',monospace\"><span style=\"color: #c0c0c0; text-decoration-color: #c0c0c0; background-color: #000000; font-style: italic\">╭────────────────────────────────────────────────────</span> Prompt <span style=\"color: #c0c0c0; text-decoration-color: #c0c0c0; background-color: #000000; font-style: italic\">─────────────────────────────────────────────────────╮</span>\n",
       "<span style=\"color: #c0c0c0; text-decoration-color: #c0c0c0; background-color: #000000; font-style: italic\">│ Message:                                                                                                        │</span>\n",
       "<span style=\"color: #c0c0c0; text-decoration-color: #c0c0c0; background-color: #000000; font-style: italic\">│ C'est ce qui finira par arriver à tous les blancs de la LFI dans les zones GR et ce sera bien fait pour leurs   │</span>\n",
       "<span style=\"color: #c0c0c0; text-decoration-color: #c0c0c0; background-color: #000000; font-style: italic\">│ gueules                                                                                                         │</span>\n",
       "<span style=\"color: #c0c0c0; text-decoration-color: #c0c0c0; background-color: #000000; font-style: italic\">│                                                                                                                 │</span>\n",
       "<span style=\"color: #c0c0c0; text-decoration-color: #c0c0c0; background-color: #000000; font-style: italic\">│ Analyse:                                                                                                        │</span>\n",
       "<span style=\"color: #c0c0c0; text-decoration-color: #c0c0c0; background-color: #000000; font-style: italic\">│ &lt;think&gt;                                                                                                         │</span>\n",
       "<span style=\"color: #c0c0c0; text-decoration-color: #c0c0c0; background-color: #000000; font-style: italic\">│ Explication :                                                                                                   │</span>\n",
       "<span style=\"color: #c0c0c0; text-decoration-color: #c0c0c0; background-color: #000000; font-style: italic\">│                                                                                                                 │</span>\n",
       "<span style=\"color: #c0c0c0; text-decoration-color: #c0c0c0; background-color: #000000; font-style: italic\">╰─────────────────────────────────────────────────────────────────────────────────────────────────────────────────╯</span>\n",
       "</pre>\n"
      ],
      "text/plain": [
       "\u001b[3;37;40m╭─\u001b[0m\u001b[3;37;40m───────────────────────────────────────────────────\u001b[0m Prompt \u001b[3;37;40m────────────────────────────────────────────────────\u001b[0m\u001b[3;37;40m─╮\u001b[0m\n",
       "\u001b[3;37;40m│\u001b[0m\u001b[3;37;40m \u001b[0m\u001b[3;37;40mMessage:\u001b[0m\u001b[3;37;40m                                                                                                       \u001b[0m\u001b[3;37;40m \u001b[0m\u001b[3;37;40m│\u001b[0m\n",
       "\u001b[3;37;40m│\u001b[0m\u001b[3;37;40m \u001b[0m\u001b[3;37;40mC'est ce qui finira par arriver à tous les blancs de la LFI dans les zones GR et ce sera bien fait pour leurs \u001b[0m\u001b[3;37;40m \u001b[0m\u001b[3;37;40m \u001b[0m\u001b[3;37;40m│\u001b[0m\n",
       "\u001b[3;37;40m│\u001b[0m\u001b[3;37;40m \u001b[0m\u001b[3;37;40mgueules\u001b[0m\u001b[3;37;40m                                                                                                        \u001b[0m\u001b[3;37;40m \u001b[0m\u001b[3;37;40m│\u001b[0m\n",
       "\u001b[3;37;40m│\u001b[0m\u001b[3;37;40m \u001b[0m\u001b[3;37;40m                                                                                                               \u001b[0m\u001b[3;37;40m \u001b[0m\u001b[3;37;40m│\u001b[0m\n",
       "\u001b[3;37;40m│\u001b[0m\u001b[3;37;40m \u001b[0m\u001b[3;37;40mAnalyse:\u001b[0m\u001b[3;37;40m                                                                                                       \u001b[0m\u001b[3;37;40m \u001b[0m\u001b[3;37;40m│\u001b[0m\n",
       "\u001b[3;37;40m│\u001b[0m\u001b[3;37;40m \u001b[0m\u001b[3;37;40m<think>\u001b[0m\u001b[3;37;40m                                                                                                        \u001b[0m\u001b[3;37;40m \u001b[0m\u001b[3;37;40m│\u001b[0m\n",
       "\u001b[3;37;40m│\u001b[0m\u001b[3;37;40m \u001b[0m\u001b[3;37;40mExplication :\u001b[0m\u001b[3;37;40m                                                                                                  \u001b[0m\u001b[3;37;40m \u001b[0m\u001b[3;37;40m│\u001b[0m\n",
       "\u001b[3;37;40m│\u001b[0m\u001b[3;37;40m \u001b[0m\u001b[3;37;40m                                                                                                               \u001b[0m\u001b[3;37;40m \u001b[0m\u001b[3;37;40m│\u001b[0m\n",
       "\u001b[3;37;40m╰─────────────────────────────────────────────────────────────────────────────────────────────────────────────────╯\u001b[0m\n"
      ]
     },
     "metadata": {},
     "output_type": "display_data"
    },
    {
     "data": {
      "text/html": [
       "<pre style=\"white-space:pre;overflow-x:auto;line-height:normal;font-family:Menlo,'DejaVu Sans Mono',consolas,'Courier New',monospace\">\n",
       "\n",
       "</pre>\n"
      ],
      "text/plain": [
       "\n",
       "\n"
      ]
     },
     "metadata": {},
     "output_type": "display_data"
    },
    {
     "data": {
      "text/html": [
       "<pre style=\"white-space:pre;overflow-x:auto;line-height:normal;font-family:Menlo,'DejaVu Sans Mono',consolas,'Courier New',monospace\"><span style=\"color: #00ff00; text-decoration-color: #00ff00\">────────────────────────────────────────────────── </span><span style=\"color: #800080; text-decoration-color: #800080; font-weight: bold\">Model Output</span><span style=\"color: #00ff00; text-decoration-color: #00ff00\"> ───────────────────────────────────────────────────</span>\n",
       "</pre>\n"
      ],
      "text/plain": [
       "\u001b[92m────────────────────────────────────────────────── \u001b[0m\u001b[1;35mModel Output\u001b[0m\u001b[92m ───────────────────────────────────────────────────\u001b[0m\n"
      ]
     },
     "metadata": {},
     "output_type": "display_data"
    },
    {
     "data": {
      "text/html": [
       "<pre style=\"white-space:pre;overflow-x:auto;line-height:normal;font-family:Menlo,'DejaVu Sans Mono',consolas,'Courier New',monospace\">\n",
       "\n",
       "</pre>\n"
      ],
      "text/plain": [
       "\n",
       "\n"
      ]
     },
     "metadata": {},
     "output_type": "display_data"
    },
    {
     "data": {
      "text/html": [
       "<pre style=\"white-space:pre;overflow-x:auto;line-height:normal;font-family:Menlo,'DejaVu Sans Mono',consolas,'Courier New',monospace\"><span style=\"color: #c0c0c0; text-decoration-color: #c0c0c0; background-color: #000000; font-weight: bold\">╭────────────────────────────────────────────────</span> Generated Text <span style=\"color: #c0c0c0; text-decoration-color: #c0c0c0; background-color: #000000; font-weight: bold\">─────────────────────────────────────────────────╮</span>\n",
       "<span style=\"color: #c0c0c0; text-decoration-color: #c0c0c0; background-color: #000000; font-weight: bold\">│ Message:                                                                                                        │</span>\n",
       "<span style=\"color: #c0c0c0; text-decoration-color: #c0c0c0; background-color: #000000; font-weight: bold\">│ C'est ce qui finira par arriver à tous les blancs de la LFI dans les zones GR et ce sera bien fait pour leurs   │</span>\n",
       "<span style=\"color: #c0c0c0; text-decoration-color: #c0c0c0; background-color: #000000; font-weight: bold\">│ gueules                                                                                                         │</span>\n",
       "<span style=\"color: #c0c0c0; text-decoration-color: #c0c0c0; background-color: #000000; font-weight: bold\">│                                                                                                                 │</span>\n",
       "<span style=\"color: #c0c0c0; text-decoration-color: #c0c0c0; background-color: #000000; font-weight: bold\">│ Analyse:                                                                                                        │</span>\n",
       "<span style=\"color: #c0c0c0; text-decoration-color: #c0c0c0; background-color: #000000; font-weight: bold\">│ &lt;think&gt;                                                                                                         │</span>\n",
       "<span style=\"color: #c0c0c0; text-decoration-color: #c0c0c0; background-color: #000000; font-weight: bold\">│ Explication :                                                                                                   │</span>\n",
       "<span style=\"color: #c0c0c0; text-decoration-color: #c0c0c0; background-color: #000000; font-weight: bold\">│ **Sujet du message :** La perception des conséquences sur les personnes blanches affiliées à la LFI (Ligue de   │</span>\n",
       "<span style=\"color: #c0c0c0; text-decoration-color: #c0c0c0; background-color: #000000; font-weight: bold\">│ Football Indépendant) en zones de Grande Résistance.                                                            │</span>\n",
       "<span style=\"color: #c0c0c0; text-decoration-color: #c0c0c0; background-color: #000000; font-weight: bold\">│                                                                                                                 │</span>\n",
       "<span style=\"color: #c0c0c0; text-decoration-color: #c0c0c0; background-color: #000000; font-weight: bold\">│ **Sens probable :** L'auteur exprime une opinion négative, suggérant que ces individus subiront des             │</span>\n",
       "<span style=\"color: #c0c0c0; text-decoration-color: #c0c0c0; background-color: #000000; font-weight: bold\">│ conséquences négatives.                                                                                         │</span>\n",
       "<span style=\"color: #c0c0c0; text-decoration-color: #c0c0c0; background-color: #000000; font-weight: bold\">│                                                                                                                 │</span>\n",
       "<span style=\"color: #c0c0c0; text-decoration-color: #c0c0c0; background-color: #000000; font-weight: bold\">│ **Éclaircissement :** \"GR\" pourrait faire référence aux zones de Grande Résistance, un concept souvent utilisé  │</span>\n",
       "<span style=\"color: #c0c0c0; text-decoration-color: #c0c0c0; background-color: #000000; font-weight: bold\">│ dans le football pour désigner des zones avec un fort soutien aux équipes locales.                              │</span>\n",
       "<span style=\"color: #c0c0c0; text-decoration-color: #c0c0c0; background-color: #000000; font-weight: bold\">│ &lt;/think&gt;                                                                                                        │</span>\n",
       "<span style=\"color: #c0c0c0; text-decoration-color: #c0c0c0; background-color: #000000; font-weight: bold\">│ &lt;think&gt;                                                                                                         │</span>\n",
       "<span style=\"color: #c0c0c0; text-decoration-color: #c0c0c0; background-color: #000000; font-weight: bold\">│ Tons :                                                                                                          │</span>\n",
       "<span style=\"color: #c0c0c0; text-decoration-color: #c0c0c0; background-color: #000000; font-weight: bold\">│ 1. **Provocateur** - Certitude élevée : Le message incite à la réflexion ou à l'indignation en utilisant un     │</span>\n",
       "<span style=\"color: #c0c0c0; text-decoration-color: #c0c0c0; background-color: #000000; font-weight: bold\">│ langage chargé d'émotion (\"bien fait pour leurs gueules\").                                                      │</span>\n",
       "<span style=\"color: #c0c0c0; text-decoration-color: #c0c0c0; background-color: #000000; font-weight: bold\">│                                                                                                                 │</span>\n",
       "<span style=\"color: #c0c0c0; text-decoration-color: #c0c0c0; background-color: #000000; font-weight: bold\">│ 2. **Négatif** - Certitude élevée : Le contenu exprime une opinion défavorable sur les personnes mentionnées,   │</span>\n",
       "<span style=\"color: #c0c0c0; text-decoration-color: #c0c0c0; background-color: #000000; font-weight: bold\">│ insinuant des conséquences dramatiques.                                                                         │</span>\n",
       "<span style=\"color: #c0c0c0; text-decoration-color: #c0c0c0; background-color: #000000; font-weight: bold\">│                                                                                                                 │</span>\n",
       "<span style=\"color: #c0c0c0; text-decoration-color: #c0c0c0; background-color: #000000; font-weight: bold\">│ 3. **Apathique** - Certitude modérée : Bien qu'il y ait une provocation, il semble que l'auteur ne montre pas   │</span>\n",
       "<span style=\"color: #c0c0c0; text-decoration-color: #c0c0c0; background-color: #000000; font-weight: bold\">│ de compassion ni de prise de conscience concernant les impacts possibles sur ceux visés.                        │</span>\n",
       "<span style=\"color: #c0c0c0; text-decoration-color: #c0c0c0; background-color: #000000; font-weight: bold\">│                                                                                                                 │</span>\n",
       "<span style=\"color: #c0c0c0; text-decoration-color: #c0c0c0; background-color: #000000; font-weight: bold\">│ Doutes : Le ton apathique pourrait être interprété différemment selon le contexte ou l'intention de l'auteur.   │</span>\n",
       "<span style=\"color: #c0c0c0; text-decoration-color: #c0c0c0; background-color: #000000; font-weight: bold\">│ &lt;/think&gt;                                                                                                        │</span>\n",
       "<span style=\"color: #c0c0c0; text-decoration-color: #c0c0c0; background-color: #000000; font-weight: bold\">│ &lt;think&gt;                                                                                                         │</span>\n",
       "<span style=\"color: #c0c0c0; text-decoration-color: #c0c0c0; background-color: #000000; font-weight: bold\">│ Score de toxicité :                                                                                             │</span>\n",
       "<span style=\"color: #c0c0c0; text-decoration-color: #c0c0c0; background-color: #000000; font-weight: bold\">│ 6/10                                                                                                            │</span>\n",
       "<span style=\"color: #c0c0c0; text-decoration-color: #c0c0c0; background-color: #000000; font-weight: bold\">│                                                                                                                 │</span>\n",
       "<span style=\"color: #c0c0c0; text-decoration-color: #c0c0c0; background-color: #000000; font-weight: bold\">│ Justification :                                                                                                 │</span>\n",
       "<span style=\"color: #c0c0c0; text-decoration-color: #c0c0c0; background-color: #000000; font-weight: bold\">│ Propos dégradants et stigmatisants envers un groupe spécifique, avec intention provocatrice et méprisante, sans │</span>\n",
       "<span style=\"color: #c0c0c0; text-decoration-color: #c0c0c0; background-color: #000000; font-weight: bold\">│ appel direct à la haine mais avec une forte hostilité manifeste.                                                │</span>\n",
       "<span style=\"color: #c0c0c0; text-decoration-color: #c0c0c0; background-color: #000000; font-weight: bold\">│ &lt;/think&gt;                                                                                                        │</span>\n",
       "<span style=\"color: #c0c0c0; text-decoration-color: #c0c0c0; background-color: #000000; font-weight: bold\">│                                                                                                                 │</span>\n",
       "<span style=\"color: #c0c0c0; text-decoration-color: #c0c0c0; background-color: #000000; font-weight: bold\">│ En conclusion, ce message est-il toxique ?                                                                      │</span>\n",
       "<span style=\"color: #c0c0c0; text-decoration-color: #c0c0c0; background-color: #000000; font-weight: bold\">│                                                                                                                 │</span>\n",
       "<span style=\"color: #c0c0c0; text-decoration-color: #c0c0c0; background-color: #000000; font-weight: bold\">│ oui&lt;|im_end|&gt;                                                                                                   │</span>\n",
       "<span style=\"color: #c0c0c0; text-decoration-color: #c0c0c0; background-color: #000000; font-weight: bold\">╰─────────────────────────────────────────────────────────────────────────────────────────────────────────────────╯</span>\n",
       "</pre>\n"
      ],
      "text/plain": [
       "\u001b[1;37;40m╭─\u001b[0m\u001b[1;37;40m───────────────────────────────────────────────\u001b[0m Generated Text \u001b[1;37;40m────────────────────────────────────────────────\u001b[0m\u001b[1;37;40m─╮\u001b[0m\n",
       "\u001b[1;37;40m│\u001b[0m\u001b[1;37;40m \u001b[0m\u001b[1;37;40mMessage:\u001b[0m\u001b[1;37;40m                                                                                                       \u001b[0m\u001b[1;37;40m \u001b[0m\u001b[1;37;40m│\u001b[0m\n",
       "\u001b[1;37;40m│\u001b[0m\u001b[1;37;40m \u001b[0m\u001b[1;37;40mC'est ce qui finira par arriver à tous les blancs de la LFI dans les zones GR et ce sera bien fait pour leurs \u001b[0m\u001b[1;37;40m \u001b[0m\u001b[1;37;40m \u001b[0m\u001b[1;37;40m│\u001b[0m\n",
       "\u001b[1;37;40m│\u001b[0m\u001b[1;37;40m \u001b[0m\u001b[1;37;40mgueules\u001b[0m\u001b[1;37;40m                                                                                                        \u001b[0m\u001b[1;37;40m \u001b[0m\u001b[1;37;40m│\u001b[0m\n",
       "\u001b[1;37;40m│\u001b[0m\u001b[1;37;40m \u001b[0m\u001b[1;37;40m                                                                                                               \u001b[0m\u001b[1;37;40m \u001b[0m\u001b[1;37;40m│\u001b[0m\n",
       "\u001b[1;37;40m│\u001b[0m\u001b[1;37;40m \u001b[0m\u001b[1;37;40mAnalyse:\u001b[0m\u001b[1;37;40m                                                                                                       \u001b[0m\u001b[1;37;40m \u001b[0m\u001b[1;37;40m│\u001b[0m\n",
       "\u001b[1;37;40m│\u001b[0m\u001b[1;37;40m \u001b[0m\u001b[1;37;40m<think>\u001b[0m\u001b[1;37;40m                                                                                                        \u001b[0m\u001b[1;37;40m \u001b[0m\u001b[1;37;40m│\u001b[0m\n",
       "\u001b[1;37;40m│\u001b[0m\u001b[1;37;40m \u001b[0m\u001b[1;37;40mExplication :\u001b[0m\u001b[1;37;40m                                                                                                  \u001b[0m\u001b[1;37;40m \u001b[0m\u001b[1;37;40m│\u001b[0m\n",
       "\u001b[1;37;40m│\u001b[0m\u001b[1;37;40m \u001b[0m\u001b[1;37;40m**Sujet du message :** La perception des conséquences sur les personnes blanches affiliées à la LFI (Ligue de \u001b[0m\u001b[1;37;40m \u001b[0m\u001b[1;37;40m \u001b[0m\u001b[1;37;40m│\u001b[0m\n",
       "\u001b[1;37;40m│\u001b[0m\u001b[1;37;40m \u001b[0m\u001b[1;37;40mFootball Indépendant) en zones de Grande Résistance.\u001b[0m\u001b[1;37;40m                                                           \u001b[0m\u001b[1;37;40m \u001b[0m\u001b[1;37;40m│\u001b[0m\n",
       "\u001b[1;37;40m│\u001b[0m\u001b[1;37;40m \u001b[0m\u001b[1;37;40m                                                                                                               \u001b[0m\u001b[1;37;40m \u001b[0m\u001b[1;37;40m│\u001b[0m\n",
       "\u001b[1;37;40m│\u001b[0m\u001b[1;37;40m \u001b[0m\u001b[1;37;40m**Sens probable :** L'auteur exprime une opinion négative, suggérant que ces individus subiront des \u001b[0m\u001b[1;37;40m           \u001b[0m\u001b[1;37;40m \u001b[0m\u001b[1;37;40m│\u001b[0m\n",
       "\u001b[1;37;40m│\u001b[0m\u001b[1;37;40m \u001b[0m\u001b[1;37;40mconséquences négatives. \u001b[0m\u001b[1;37;40m                                                                                       \u001b[0m\u001b[1;37;40m \u001b[0m\u001b[1;37;40m│\u001b[0m\n",
       "\u001b[1;37;40m│\u001b[0m\u001b[1;37;40m \u001b[0m\u001b[1;37;40m                                                                                                               \u001b[0m\u001b[1;37;40m \u001b[0m\u001b[1;37;40m│\u001b[0m\n",
       "\u001b[1;37;40m│\u001b[0m\u001b[1;37;40m \u001b[0m\u001b[1;37;40m**Éclaircissement :** \"GR\" pourrait faire référence aux zones de Grande Résistance, un concept souvent utilisé \u001b[0m\u001b[1;37;40m \u001b[0m\u001b[1;37;40m│\u001b[0m\n",
       "\u001b[1;37;40m│\u001b[0m\u001b[1;37;40m \u001b[0m\u001b[1;37;40mdans le football pour désigner des zones avec un fort soutien aux équipes locales.\u001b[0m\u001b[1;37;40m                             \u001b[0m\u001b[1;37;40m \u001b[0m\u001b[1;37;40m│\u001b[0m\n",
       "\u001b[1;37;40m│\u001b[0m\u001b[1;37;40m \u001b[0m\u001b[1;37;40m</think>\u001b[0m\u001b[1;37;40m                                                                                                       \u001b[0m\u001b[1;37;40m \u001b[0m\u001b[1;37;40m│\u001b[0m\n",
       "\u001b[1;37;40m│\u001b[0m\u001b[1;37;40m \u001b[0m\u001b[1;37;40m<think>\u001b[0m\u001b[1;37;40m                                                                                                        \u001b[0m\u001b[1;37;40m \u001b[0m\u001b[1;37;40m│\u001b[0m\n",
       "\u001b[1;37;40m│\u001b[0m\u001b[1;37;40m \u001b[0m\u001b[1;37;40mTons :\u001b[0m\u001b[1;37;40m                                                                                                         \u001b[0m\u001b[1;37;40m \u001b[0m\u001b[1;37;40m│\u001b[0m\n",
       "\u001b[1;37;40m│\u001b[0m\u001b[1;37;40m \u001b[0m\u001b[1;37;40m1. **Provocateur** - Certitude élevée : Le message incite à la réflexion ou à l'indignation en utilisant un \u001b[0m\u001b[1;37;40m   \u001b[0m\u001b[1;37;40m \u001b[0m\u001b[1;37;40m│\u001b[0m\n",
       "\u001b[1;37;40m│\u001b[0m\u001b[1;37;40m \u001b[0m\u001b[1;37;40mlangage chargé d'émotion (\"bien fait pour leurs gueules\").\u001b[0m\u001b[1;37;40m                                                     \u001b[0m\u001b[1;37;40m \u001b[0m\u001b[1;37;40m│\u001b[0m\n",
       "\u001b[1;37;40m│\u001b[0m\u001b[1;37;40m \u001b[0m\u001b[1;37;40m   \u001b[0m\u001b[1;37;40m                                                                                                            \u001b[0m\u001b[1;37;40m \u001b[0m\u001b[1;37;40m│\u001b[0m\n",
       "\u001b[1;37;40m│\u001b[0m\u001b[1;37;40m \u001b[0m\u001b[1;37;40m2. **Négatif** - Certitude élevée : Le contenu exprime une opinion défavorable sur les personnes mentionnées, \u001b[0m\u001b[1;37;40m \u001b[0m\u001b[1;37;40m \u001b[0m\u001b[1;37;40m│\u001b[0m\n",
       "\u001b[1;37;40m│\u001b[0m\u001b[1;37;40m \u001b[0m\u001b[1;37;40minsinuant des conséquences dramatiques.\u001b[0m\u001b[1;37;40m                                                                        \u001b[0m\u001b[1;37;40m \u001b[0m\u001b[1;37;40m│\u001b[0m\n",
       "\u001b[1;37;40m│\u001b[0m\u001b[1;37;40m \u001b[0m\u001b[1;37;40m                                                                                                               \u001b[0m\u001b[1;37;40m \u001b[0m\u001b[1;37;40m│\u001b[0m\n",
       "\u001b[1;37;40m│\u001b[0m\u001b[1;37;40m \u001b[0m\u001b[1;37;40m3. **Apathique** - Certitude modérée : Bien qu'il y ait une provocation, il semble que l'auteur ne montre pas \u001b[0m\u001b[1;37;40m \u001b[0m\u001b[1;37;40m \u001b[0m\u001b[1;37;40m│\u001b[0m\n",
       "\u001b[1;37;40m│\u001b[0m\u001b[1;37;40m \u001b[0m\u001b[1;37;40mde compassion ni de prise de conscience concernant les impacts possibles sur ceux visés.\u001b[0m\u001b[1;37;40m                       \u001b[0m\u001b[1;37;40m \u001b[0m\u001b[1;37;40m│\u001b[0m\n",
       "\u001b[1;37;40m│\u001b[0m\u001b[1;37;40m \u001b[0m\u001b[1;37;40m                                                                                                               \u001b[0m\u001b[1;37;40m \u001b[0m\u001b[1;37;40m│\u001b[0m\n",
       "\u001b[1;37;40m│\u001b[0m\u001b[1;37;40m \u001b[0m\u001b[1;37;40mDoutes : Le ton apathique pourrait être interprété différemment selon le contexte ou l'intention de l'auteur.\u001b[0m\u001b[1;37;40m  \u001b[0m\u001b[1;37;40m \u001b[0m\u001b[1;37;40m│\u001b[0m\n",
       "\u001b[1;37;40m│\u001b[0m\u001b[1;37;40m \u001b[0m\u001b[1;37;40m</think>\u001b[0m\u001b[1;37;40m                                                                                                       \u001b[0m\u001b[1;37;40m \u001b[0m\u001b[1;37;40m│\u001b[0m\n",
       "\u001b[1;37;40m│\u001b[0m\u001b[1;37;40m \u001b[0m\u001b[1;37;40m<think>\u001b[0m\u001b[1;37;40m                                                                                                        \u001b[0m\u001b[1;37;40m \u001b[0m\u001b[1;37;40m│\u001b[0m\n",
       "\u001b[1;37;40m│\u001b[0m\u001b[1;37;40m \u001b[0m\u001b[1;37;40mScore de toxicité :\u001b[0m\u001b[1;37;40m                                                                                            \u001b[0m\u001b[1;37;40m \u001b[0m\u001b[1;37;40m│\u001b[0m\n",
       "\u001b[1;37;40m│\u001b[0m\u001b[1;37;40m \u001b[0m\u001b[1;37;40m6/10\u001b[0m\u001b[1;37;40m                                                                                                           \u001b[0m\u001b[1;37;40m \u001b[0m\u001b[1;37;40m│\u001b[0m\n",
       "\u001b[1;37;40m│\u001b[0m\u001b[1;37;40m \u001b[0m\u001b[1;37;40m                                                                                                               \u001b[0m\u001b[1;37;40m \u001b[0m\u001b[1;37;40m│\u001b[0m\n",
       "\u001b[1;37;40m│\u001b[0m\u001b[1;37;40m \u001b[0m\u001b[1;37;40mJustification :\u001b[0m\u001b[1;37;40m                                                                                                \u001b[0m\u001b[1;37;40m \u001b[0m\u001b[1;37;40m│\u001b[0m\n",
       "\u001b[1;37;40m│\u001b[0m\u001b[1;37;40m \u001b[0m\u001b[1;37;40mPropos dégradants et stigmatisants envers un groupe spécifique, avec intention provocatrice et méprisante, sans\u001b[0m\u001b[1;37;40m \u001b[0m\u001b[1;37;40m│\u001b[0m\n",
       "\u001b[1;37;40m│\u001b[0m\u001b[1;37;40m \u001b[0m\u001b[1;37;40mappel direct à la haine mais avec une forte hostilité manifeste.\u001b[0m\u001b[1;37;40m                                               \u001b[0m\u001b[1;37;40m \u001b[0m\u001b[1;37;40m│\u001b[0m\n",
       "\u001b[1;37;40m│\u001b[0m\u001b[1;37;40m \u001b[0m\u001b[1;37;40m</think>\u001b[0m\u001b[1;37;40m                                                                                                       \u001b[0m\u001b[1;37;40m \u001b[0m\u001b[1;37;40m│\u001b[0m\n",
       "\u001b[1;37;40m│\u001b[0m\u001b[1;37;40m \u001b[0m\u001b[1;37;40m                                                                                                               \u001b[0m\u001b[1;37;40m \u001b[0m\u001b[1;37;40m│\u001b[0m\n",
       "\u001b[1;37;40m│\u001b[0m\u001b[1;37;40m \u001b[0m\u001b[1;37;40mEn conclusion, ce message est-il toxique ?\u001b[0m\u001b[1;37;40m                                                                     \u001b[0m\u001b[1;37;40m \u001b[0m\u001b[1;37;40m│\u001b[0m\n",
       "\u001b[1;37;40m│\u001b[0m\u001b[1;37;40m \u001b[0m\u001b[1;37;40m                                                                                                               \u001b[0m\u001b[1;37;40m \u001b[0m\u001b[1;37;40m│\u001b[0m\n",
       "\u001b[1;37;40m│\u001b[0m\u001b[1;37;40m \u001b[0m\u001b[1;37;40moui<|im_end|>\u001b[0m\u001b[1;37;40m                                                                                                  \u001b[0m\u001b[1;37;40m \u001b[0m\u001b[1;37;40m│\u001b[0m\n",
       "\u001b[1;37;40m╰─────────────────────────────────────────────────────────────────────────────────────────────────────────────────╯\u001b[0m\n"
      ]
     },
     "metadata": {},
     "output_type": "display_data"
    }
   ],
   "source": [
    "for i, sample in enumerate(sampled_data):\n",
    "    handler.generate_text(\n",
    "        prompt=sample,\n",
    "        max_new_tokens=max_new_tokens,\n",
    "        temperature=temperature,\n",
    "        top_p=top_p,\n",
    "        top_k=top_k,\n",
    "        repetition_penalty=repetition_penalty\n",
    "    )"
   ]
  },
  {
   "cell_type": "code",
   "execution_count": 8,
   "id": "c93196ec",
   "metadata": {},
   "outputs": [
    {
     "name": "stdout",
     "output_type": "stream",
     "text": [
      "PeftModelForCausalLM(\n",
      "  (base_model): LoraModel(\n",
      "    (model): Qwen3ForCausalLM(\n",
      "      (model): Qwen3Model(\n",
      "        (embed_tokens): Embedding(151669, 2560)\n",
      "        (layers): ModuleList(\n",
      "          (0-35): 36 x Qwen3DecoderLayer(\n",
      "            (self_attn): Qwen3Attention(\n",
      "              (q_proj): lora.Linear4bit(\n",
      "                (base_layer): Linear4bit(in_features=2560, out_features=4096, bias=False)\n",
      "                (lora_dropout): ModuleDict(\n",
      "                  (default): Dropout(p=0.05, inplace=False)\n",
      "                )\n",
      "                (lora_A): ModuleDict(\n",
      "                  (default): Linear(in_features=2560, out_features=8, bias=False)\n",
      "                )\n",
      "                (lora_B): ModuleDict(\n",
      "                  (default): Linear(in_features=8, out_features=4096, bias=False)\n",
      "                )\n",
      "                (lora_embedding_A): ParameterDict()\n",
      "                (lora_embedding_B): ParameterDict()\n",
      "                (lora_magnitude_vector): ModuleDict()\n",
      "              )\n",
      "              (k_proj): lora.Linear4bit(\n",
      "                (base_layer): Linear4bit(in_features=2560, out_features=1024, bias=False)\n",
      "                (lora_dropout): ModuleDict(\n",
      "                  (default): Dropout(p=0.05, inplace=False)\n",
      "                )\n",
      "                (lora_A): ModuleDict(\n",
      "                  (default): Linear(in_features=2560, out_features=8, bias=False)\n",
      "                )\n",
      "                (lora_B): ModuleDict(\n",
      "                  (default): Linear(in_features=8, out_features=1024, bias=False)\n",
      "                )\n",
      "                (lora_embedding_A): ParameterDict()\n",
      "                (lora_embedding_B): ParameterDict()\n",
      "                (lora_magnitude_vector): ModuleDict()\n",
      "              )\n",
      "              (v_proj): lora.Linear4bit(\n",
      "                (base_layer): Linear4bit(in_features=2560, out_features=1024, bias=False)\n",
      "                (lora_dropout): ModuleDict(\n",
      "                  (default): Dropout(p=0.05, inplace=False)\n",
      "                )\n",
      "                (lora_A): ModuleDict(\n",
      "                  (default): Linear(in_features=2560, out_features=8, bias=False)\n",
      "                )\n",
      "                (lora_B): ModuleDict(\n",
      "                  (default): Linear(in_features=8, out_features=1024, bias=False)\n",
      "                )\n",
      "                (lora_embedding_A): ParameterDict()\n",
      "                (lora_embedding_B): ParameterDict()\n",
      "                (lora_magnitude_vector): ModuleDict()\n",
      "              )\n",
      "              (o_proj): lora.Linear4bit(\n",
      "                (base_layer): Linear4bit(in_features=4096, out_features=2560, bias=False)\n",
      "                (lora_dropout): ModuleDict(\n",
      "                  (default): Dropout(p=0.05, inplace=False)\n",
      "                )\n",
      "                (lora_A): ModuleDict(\n",
      "                  (default): Linear(in_features=4096, out_features=8, bias=False)\n",
      "                )\n",
      "                (lora_B): ModuleDict(\n",
      "                  (default): Linear(in_features=8, out_features=2560, bias=False)\n",
      "                )\n",
      "                (lora_embedding_A): ParameterDict()\n",
      "                (lora_embedding_B): ParameterDict()\n",
      "                (lora_magnitude_vector): ModuleDict()\n",
      "              )\n",
      "              (q_norm): Qwen3RMSNorm((128,), eps=1e-06)\n",
      "              (k_norm): Qwen3RMSNorm((128,), eps=1e-06)\n",
      "            )\n",
      "            (mlp): Qwen3MLP(\n",
      "              (gate_proj): Linear4bit(in_features=2560, out_features=9728, bias=False)\n",
      "              (up_proj): lora.Linear4bit(\n",
      "                (base_layer): Linear4bit(in_features=2560, out_features=9728, bias=False)\n",
      "                (lora_dropout): ModuleDict(\n",
      "                  (default): Dropout(p=0.05, inplace=False)\n",
      "                )\n",
      "                (lora_A): ModuleDict(\n",
      "                  (default): Linear(in_features=2560, out_features=8, bias=False)\n",
      "                )\n",
      "                (lora_B): ModuleDict(\n",
      "                  (default): Linear(in_features=8, out_features=9728, bias=False)\n",
      "                )\n",
      "                (lora_embedding_A): ParameterDict()\n",
      "                (lora_embedding_B): ParameterDict()\n",
      "                (lora_magnitude_vector): ModuleDict()\n",
      "              )\n",
      "              (down_proj): lora.Linear4bit(\n",
      "                (base_layer): Linear4bit(in_features=9728, out_features=2560, bias=False)\n",
      "                (lora_dropout): ModuleDict(\n",
      "                  (default): Dropout(p=0.05, inplace=False)\n",
      "                )\n",
      "                (lora_A): ModuleDict(\n",
      "                  (default): Linear(in_features=9728, out_features=8, bias=False)\n",
      "                )\n",
      "                (lora_B): ModuleDict(\n",
      "                  (default): Linear(in_features=8, out_features=2560, bias=False)\n",
      "                )\n",
      "                (lora_embedding_A): ParameterDict()\n",
      "                (lora_embedding_B): ParameterDict()\n",
      "                (lora_magnitude_vector): ModuleDict()\n",
      "              )\n",
      "              (act_fn): SiLU()\n",
      "            )\n",
      "            (input_layernorm): Qwen3RMSNorm((2560,), eps=1e-06)\n",
      "            (post_attention_layernorm): Qwen3RMSNorm((2560,), eps=1e-06)\n",
      "          )\n",
      "        )\n",
      "        (norm): Qwen3RMSNorm((2560,), eps=1e-06)\n",
      "        (rotary_emb): Qwen3RotaryEmbedding()\n",
      "      )\n",
      "      (lm_head): Linear(in_features=2560, out_features=151669, bias=False)\n",
      "    )\n",
      "  )\n",
      ")\n"
     ]
    }
   ],
   "source": [
    "print(handler.model)"
   ]
  },
  {
   "cell_type": "code",
   "execution_count": null,
   "id": "89215533",
   "metadata": {},
   "outputs": [],
   "source": []
  }
 ],
 "metadata": {
  "kernelspec": {
   "display_name": "SJTU",
   "language": "python",
   "name": "python3"
  },
  "language_info": {
   "codemirror_mode": {
    "name": "ipython",
    "version": 3
   },
   "file_extension": ".py",
   "mimetype": "text/x-python",
   "name": "python",
   "nbconvert_exporter": "python",
   "pygments_lexer": "ipython3",
   "version": "3.10.13"
  }
 },
 "nbformat": 4,
 "nbformat_minor": 5
}
