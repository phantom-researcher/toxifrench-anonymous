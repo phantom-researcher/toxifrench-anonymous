{
 "cells": [
  {
   "cell_type": "markdown",
   "id": "540ef521",
   "metadata": {},
   "source": [
    "# Benchmarking [Mistral Medium 3](https://mistral.ai/news/mistral-medium-3)"
   ]
  },
  {
   "cell_type": "markdown",
   "id": "288605a4",
   "metadata": {},
   "source": [
    "[Here](https://docs.mistral.ai/getting-started/models/models_overview/) is the list of Mistral's models."
   ]
  },
  {
   "cell_type": "markdown",
   "id": "922dd626",
   "metadata": {},
   "source": [
    "## Libraries"
   ]
  },
  {
   "cell_type": "code",
   "execution_count": 1,
   "id": "103136ac",
   "metadata": {},
   "outputs": [],
   "source": [
    "from mistralai import Mistral\n",
    "from pathlib import Path\n",
    "from time import sleep\n",
    "import os\n",
    "import pandas as pd\n",
    "from tqdm.rich import tqdm\n",
    "from sklearn.metrics import (\n",
    "    classification_report, confusion_matrix, roc_auc_score\n",
    ")\n",
    "import json\n",
    "from rich.console import Console\n",
    "from rich.table import Table\n",
    "from rich.panel import Panel\n",
    "from rich.text import Text\n",
    "import warnings\n",
    "\n",
    "tqdm.pandas(desc=\"Fetching moderation scores\")\n",
    "console = Console()\n",
    "warnings.filterwarnings(\"ignore\")"
   ]
  },
  {
   "cell_type": "markdown",
   "id": "f80fec44",
   "metadata": {},
   "source": [
    "## Global variables"
   ]
  },
  {
   "cell_type": "code",
   "execution_count": 2,
   "id": "345da9c6",
   "metadata": {},
   "outputs": [],
   "source": [
    "ROOT = Path(\"../..\")\n",
    "DATA_DIR = ROOT / \"data\"\n",
    "BENCHMARK_PATH = DATA_DIR / \"benchmark_jigsaw\" / \"benchmark_jigsaw.csv\"\n",
    "output_path = DATA_DIR / \"benchmark_jigsaw\" / \"eng-mistral_medium.csv\"\n",
    "API_KEY_PATH = DATA_DIR / \"confidential\" / \"MISTRAL_API.txt\"\n",
    "console = Console()\n",
    "model = \"mistral-medium-2505\"\n",
    "system_prompt = (Path(\".\") / \"API_SYSTEM_PROMPT.txt\").read_text().strip()\n",
    "prompt = (Path(\".\") / \"API_PROMPT.txt\").read_text().strip()"
   ]
  },
  {
   "cell_type": "code",
   "execution_count": 3,
   "id": "aebace85",
   "metadata": {},
   "outputs": [],
   "source": [
    "os.environ[\"HTTP_PROXY\"] = \"socks5h://127.0.0.1:1080\"\n",
    "os.environ[\"HTTPS_PROXY\"] = \"socks5h://127.0.0.1:1080\""
   ]
  },
  {
   "cell_type": "code",
   "execution_count": 4,
   "id": "61336530",
   "metadata": {},
   "outputs": [],
   "source": [
    "client = Mistral(api_key=API_KEY_PATH.read_text().strip())"
   ]
  },
  {
   "cell_type": "markdown",
   "id": "c97e432b",
   "metadata": {},
   "source": [
    "## Load dataset"
   ]
  },
  {
   "cell_type": "code",
   "execution_count": 5,
   "id": "5b4bff82",
   "metadata": {},
   "outputs": [
    {
     "data": {
      "text/html": [
       "<pre style=\"white-space:pre;overflow-x:auto;line-height:normal;font-family:Menlo,'DejaVu Sans Mono',consolas,'Courier New',monospace\"><span style=\"font-style: italic\">     Label Counts     </span>                                                                                             \n",
       "┏━━━━━━━━━━━━┳━━━━━━━┓                                                                                             \n",
       "┃<span style=\"font-weight: bold\">   Label    </span>┃<span style=\"font-weight: bold\"> Count </span>┃                                                                                             \n",
       "┡━━━━━━━━━━━━╇━━━━━━━┩                                                                                             \n",
       "│<span style=\"color: #008080; text-decoration-color: #008080\"> Total Rows </span>│<span style=\"color: #808000; text-decoration-color: #808000\">  396  </span>│                                                                                             \n",
       "├────────────┼───────┤                                                                                             \n",
       "│<span style=\"color: #008080; text-decoration-color: #008080\">     0      </span>│<span style=\"color: #808000; text-decoration-color: #808000\">  198  </span>│                                                                                             \n",
       "├────────────┼───────┤                                                                                             \n",
       "│<span style=\"color: #008080; text-decoration-color: #008080\">     1      </span>│<span style=\"color: #808000; text-decoration-color: #808000\">  198  </span>│                                                                                             \n",
       "└────────────┴───────┘                                                                                             \n",
       "</pre>\n"
      ],
      "text/plain": [
       "\u001b[3m     Label Counts     \u001b[0m                                                                                             \n",
       "┏━━━━━━━━━━━━┳━━━━━━━┓                                                                                             \n",
       "┃\u001b[1m \u001b[0m\u001b[1m  Label   \u001b[0m\u001b[1m \u001b[0m┃\u001b[1m \u001b[0m\u001b[1mCount\u001b[0m\u001b[1m \u001b[0m┃                                                                                             \n",
       "┡━━━━━━━━━━━━╇━━━━━━━┩                                                                                             \n",
       "│\u001b[36m \u001b[0m\u001b[36mTotal Rows\u001b[0m\u001b[36m \u001b[0m│\u001b[33m \u001b[0m\u001b[33m 396 \u001b[0m\u001b[33m \u001b[0m│                                                                                             \n",
       "├────────────┼───────┤                                                                                             \n",
       "│\u001b[36m \u001b[0m\u001b[36m    0     \u001b[0m\u001b[36m \u001b[0m│\u001b[33m \u001b[0m\u001b[33m 198 \u001b[0m\u001b[33m \u001b[0m│                                                                                             \n",
       "├────────────┼───────┤                                                                                             \n",
       "│\u001b[36m \u001b[0m\u001b[36m    1     \u001b[0m\u001b[36m \u001b[0m│\u001b[33m \u001b[0m\u001b[33m 198 \u001b[0m\u001b[33m \u001b[0m│                                                                                             \n",
       "└────────────┴───────┘                                                                                             \n"
      ]
     },
     "metadata": {},
     "output_type": "display_data"
    },
    {
     "data": {
      "text/html": [
       "<div>\n",
       "<style scoped>\n",
       "    .dataframe tbody tr th:only-of-type {\n",
       "        vertical-align: middle;\n",
       "    }\n",
       "\n",
       "    .dataframe tbody tr th {\n",
       "        vertical-align: top;\n",
       "    }\n",
       "\n",
       "    .dataframe thead th {\n",
       "        text-align: right;\n",
       "    }\n",
       "</style>\n",
       "<table border=\"1\" class=\"dataframe\">\n",
       "  <thead>\n",
       "    <tr style=\"text-align: right;\">\n",
       "      <th></th>\n",
       "      <th>msg_id</th>\n",
       "      <th>original_text</th>\n",
       "      <th>content</th>\n",
       "      <th>label</th>\n",
       "    </tr>\n",
       "  </thead>\n",
       "  <tbody>\n",
       "    <tr>\n",
       "      <th>78</th>\n",
       "      <td>ddb11abeca87bb3c</td>\n",
       "      <td>birth place  \\n\\n YC was not born in Jonesboro...</td>\n",
       "      <td>lieu de naissance  \\n\\nYC n'est pas né à Jones...</td>\n",
       "      <td>0</td>\n",
       "    </tr>\n",
       "    <tr>\n",
       "      <th>277</th>\n",
       "      <td>6e9826f166b7d7fe</td>\n",
       "      <td>Nazis like you deserve worse than death. \\n\\nI...</td>\n",
       "      <td>Des nazis comme toi méritent pire que la mort....</td>\n",
       "      <td>1</td>\n",
       "    </tr>\n",
       "    <tr>\n",
       "      <th>250</th>\n",
       "      <td>5bff63ef016af9be</td>\n",
       "      <td>You can rationalize your dishonesty however yo...</td>\n",
       "      <td>Tu peux rationaliser ton malhonnêteté comme tu...</td>\n",
       "      <td>1</td>\n",
       "    </tr>\n",
       "    <tr>\n",
       "      <th>55</th>\n",
       "      <td>e8ea81d9eac81735</td>\n",
       "      <td>Deletion\\nThis has been tagged for Speedy Dele...</td>\n",
       "      <td>Suppression  \\nCeci a été marqué pour une supp...</td>\n",
       "      <td>0</td>\n",
       "    </tr>\n",
       "    <tr>\n",
       "      <th>391</th>\n",
       "      <td>bf5aae5b17fb0b77</td>\n",
       "      <td>because I am a huge faggot</td>\n",
       "      <td>parce que je suis un énorme pédé</td>\n",
       "      <td>1</td>\n",
       "    </tr>\n",
       "  </tbody>\n",
       "</table>\n",
       "</div>"
      ],
      "text/plain": [
       "               msg_id                                      original_text  \\\n",
       "78   ddb11abeca87bb3c  birth place  \\n\\n YC was not born in Jonesboro...   \n",
       "277  6e9826f166b7d7fe  Nazis like you deserve worse than death. \\n\\nI...   \n",
       "250  5bff63ef016af9be  You can rationalize your dishonesty however yo...   \n",
       "55   e8ea81d9eac81735  Deletion\\nThis has been tagged for Speedy Dele...   \n",
       "391  bf5aae5b17fb0b77                         because I am a huge faggot   \n",
       "\n",
       "                                               content  label  \n",
       "78   lieu de naissance  \\n\\nYC n'est pas né à Jones...      0  \n",
       "277  Des nazis comme toi méritent pire que la mort....      1  \n",
       "250  Tu peux rationaliser ton malhonnêteté comme tu...      1  \n",
       "55   Suppression  \\nCeci a été marqué pour une supp...      0  \n",
       "391                   parce que je suis un énorme pédé      1  "
      ]
     },
     "execution_count": 5,
     "metadata": {},
     "output_type": "execute_result"
    }
   ],
   "source": [
    "df = pd.read_csv(BENCHMARK_PATH, encoding=\"utf-8\")\n",
    "df = df.dropna(subset=[\"content\", \"label\"])\n",
    "df[\"label\"] = df[\"label\"].astype(int)\n",
    "\n",
    "label_counts = df[\"label\"].value_counts().reset_index()\n",
    "label_counts.columns = [\"label\", \"count\"]\n",
    "table = Table(title=\"Label Counts\", show_lines=True)\n",
    "table.add_column(\"Label\", justify=\"center\", style=\"cyan\")\n",
    "table.add_column(\"Count\", justify=\"center\", style=\"yellow\")\n",
    "table.add_row(\"Total Rows\", str(len(df)))\n",
    "for _, row in label_counts.iterrows():\n",
    "    table.add_row(str(row[\"label\"]), str(row[\"count\"]))\n",
    "console.print(table, justify=\"left\")\n",
    "df.sample(5, random_state=42)"
   ]
  },
  {
   "cell_type": "markdown",
   "id": "e6a62d8a",
   "metadata": {},
   "source": [
    "## Define prediction function"
   ]
  },
  {
   "cell_type": "code",
   "execution_count": 6,
   "id": "cb249cb4",
   "metadata": {},
   "outputs": [],
   "source": [
    "def create_batch_file(\n",
    "        text: str,\n",
    "        max_tokens: int = 20,\n",
    "    ):\n",
    "    input_text = prompt + f\"« {text} »\" + \"\\n Is this message toxic ?\\n\"\n",
    "    return {\n",
    "        \"messages\": [\n",
    "            {\"role\": \"system\", \"content\": system_prompt},\n",
    "            {\"role\": \"user\", \"content\": input_text}\n",
    "        ],\n",
    "        \"max_tokens\": max_tokens\n",
    "        }"
   ]
  },
  {
   "cell_type": "code",
   "execution_count": 7,
   "id": "32fecf7f",
   "metadata": {},
   "outputs": [],
   "source": [
    "def create_json_batch(df, batch_path):\n",
    "\n",
    "    json_batch = {}\n",
    "\n",
    "    for i, row in df.iterrows():\n",
    "        text = row[\"original_text\"]\n",
    "        if text in json_batch:\n",
    "            continue\n",
    "\n",
    "        json_batch[text] = {\n",
    "            \"custom_id\": f\"id_{i}\",\n",
    "            \"body\": create_batch_file(\n",
    "                text=text\n",
    "            )\n",
    "        }\n",
    "\n",
    "    batch_path.parent.mkdir(parents=True, exist_ok=True)\n",
    "    with batch_path.open(\"w\", encoding=\"utf-8\") as f:\n",
    "        for entry in json_batch.values():\n",
    "            f.write(json.dumps(entry) + \"\\n\")\n",
    "    console.print(f\"Batch file written to {batch_path}\")"
   ]
  },
  {
   "cell_type": "code",
   "execution_count": 8,
   "id": "7c0717df",
   "metadata": {},
   "outputs": [],
   "source": [
    "def upload_batch(batch_path) -> str:\n",
    "    file = open(batch_path, \"rb\")\n",
    "\n",
    "    uploaded = client.files.upload(\n",
    "        file={\n",
    "            \"file_name\": \"batch_path\",\n",
    "            \"content\": file\n",
    "        },\n",
    "        purpose = \"batch\"\n",
    "    )\n",
    "\n",
    "    uploaded_file_id = uploaded.id\n",
    "\n",
    "    console.print(f\"[green]✔ Uploaded batch file. ID: [bold]{uploaded_file_id}[/bold]\")\n",
    "\n",
    "    return uploaded_file_id"
   ]
  },
  {
   "cell_type": "code",
   "execution_count": 9,
   "id": "e1ad0744",
   "metadata": {},
   "outputs": [],
   "source": [
    "def submit_batch(uploaded_file_id) -> str:\n",
    "\n",
    "    batch_job = client.batch.jobs.create(\n",
    "        input_files=[uploaded_file_id],\n",
    "        model=model,\n",
    "        endpoint=\"/v1/chat/completions\",\n",
    "    )\n",
    "\n",
    "    console.print(f\"[green]✔ Batch submitted. ID: [bold]{batch_job.id}[/bold]\")\n",
    "    return batch_job"
   ]
  },
  {
   "cell_type": "code",
   "execution_count": 10,
   "id": "7a0c2622",
   "metadata": {},
   "outputs": [],
   "source": [
    "def wait_for_completion(batch_job):\n",
    "    elapsed = 0\n",
    "    while batch_job.status in [\"QUEUED\", \"RUNNING\"]:\n",
    "        batch_job = client.batch.jobs.get(job_id=batch_job.id)\n",
    "        console.print(f\"[yellow] Batch status (after {elapsed}s): [bold]{batch_job.status}[/bold]\")\n",
    "        sleep(60)\n",
    "        elapsed += 60\n",
    "    print(f\"Batch job {batch_job.id} completed with status: {batch_job.status}\")\n",
    "    return batch_job"
   ]
  },
  {
   "cell_type": "code",
   "execution_count": 11,
   "id": "0adfb723",
   "metadata": {},
   "outputs": [],
   "source": [
    "def download_and_parse_results(batch, output_path) -> pd.DataFrame:\n",
    "    if batch.output_file is not None:\n",
    "        print(f\"Downloading file to {output_path}\")\n",
    "        output_file = client.files.download(file_id=batch.output_file)\n",
    "        with open(output_path, \"w\") as f:\n",
    "            for chunk in output_file.stream:\n",
    "                f.write(chunk.decode(\"utf-8\"))\n",
    "        print(f\"Downloaded file to {output_path}\")\n",
    "    \n",
    "    content = output_path.read_bytes()\n",
    "\n",
    "    results = []\n",
    "    for line in content.decode(\"utf-8\").splitlines():\n",
    "        data = json.loads(line)\n",
    "        if data.get(\"error\"):\n",
    "            console.print(f\"[red] Error for {data['custom_id']}: {data['error']}\")\n",
    "            continue\n",
    "        id = data[\"custom_id\"]\n",
    "        choice = data[\"response\"][\"body\"][\"choices\"][0][\"message\"][\"content\"].strip()\n",
    "        usage = data[\"response\"][\"body\"].get(\"usage\", {})\n",
    "        results.append({\n",
    "            \"id\": id,\n",
    "            \"conversation\": choice,\n",
    "        })\n",
    "    return pd.DataFrame(results)"
   ]
  },
  {
   "cell_type": "code",
   "execution_count": 12,
   "id": "fed7b6eb",
   "metadata": {},
   "outputs": [],
   "source": [
    "def pipeline_for(df):\n",
    "    create_json_batch(\n",
    "        df,\n",
    "        Path(f\"batch_{model}.jsonl\")\n",
    "    )\n",
    "    uploaded_file_id = upload_batch(Path(f\"batch_{model}.jsonl\"))\n",
    "    batch = submit_batch(uploaded_file_id)\n",
    "    batch = wait_for_completion(batch)\n",
    "    df_answers = download_and_parse_results(batch, Path(f\"answers_{model}.jsonl\"))\n",
    "    return df_answers"
   ]
  },
  {
   "cell_type": "code",
   "execution_count": 13,
   "id": "cba8c88a",
   "metadata": {},
   "outputs": [
    {
     "data": {
      "text/html": [
       "<pre style=\"white-space:pre;overflow-x:auto;line-height:normal;font-family:Menlo,'DejaVu Sans Mono',consolas,'Courier New',monospace\">Batch file written to batch_mistral-medium-<span style=\"color: #008080; text-decoration-color: #008080; font-weight: bold\">2505.j</span>sonl\n",
       "</pre>\n"
      ],
      "text/plain": [
       "Batch file written to batch_mistral-medium-\u001b[1;36m2505.j\u001b[0msonl\n"
      ]
     },
     "metadata": {},
     "output_type": "display_data"
    },
    {
     "data": {
      "text/html": [
       "<pre style=\"white-space:pre;overflow-x:auto;line-height:normal;font-family:Menlo,'DejaVu Sans Mono',consolas,'Courier New',monospace\"><span style=\"color: #008000; text-decoration-color: #008000\">✔ Uploaded batch file. ID: </span><span style=\"color: #008000; text-decoration-color: #008000; font-weight: bold\">d83fe50b-fecc-45be-8558-4b5f7fc6270f</span>\n",
       "</pre>\n"
      ],
      "text/plain": [
       "\u001b[32m✔ Uploaded batch file. ID: \u001b[0m\u001b[1;32md83fe50b-fecc-45be-8558-4b5f7fc6270f\u001b[0m\n"
      ]
     },
     "metadata": {},
     "output_type": "display_data"
    },
    {
     "data": {
      "text/html": [
       "<pre style=\"white-space:pre;overflow-x:auto;line-height:normal;font-family:Menlo,'DejaVu Sans Mono',consolas,'Courier New',monospace\"><span style=\"color: #008000; text-decoration-color: #008000\">✔ Batch submitted. ID: </span><span style=\"color: #008000; text-decoration-color: #008000; font-weight: bold\">e19ec2f0-3dc1-46d5-b540-23b86d78dc0a</span>\n",
       "</pre>\n"
      ],
      "text/plain": [
       "\u001b[32m✔ Batch submitted. ID: \u001b[0m\u001b[1;32me19ec2f0-3dc1-46d5-b540-23b86d78dc0a\u001b[0m\n"
      ]
     },
     "metadata": {},
     "output_type": "display_data"
    },
    {
     "data": {
      "text/html": [
       "<pre style=\"white-space:pre;overflow-x:auto;line-height:normal;font-family:Menlo,'DejaVu Sans Mono',consolas,'Courier New',monospace\"><span style=\"color: #808000; text-decoration-color: #808000\"> Batch status </span><span style=\"color: #808000; text-decoration-color: #808000; font-weight: bold\">(</span><span style=\"color: #808000; text-decoration-color: #808000\">after 0s</span><span style=\"color: #808000; text-decoration-color: #808000; font-weight: bold\">)</span><span style=\"color: #808000; text-decoration-color: #808000\">: </span><span style=\"color: #808000; text-decoration-color: #808000; font-weight: bold\">QUEUED</span>\n",
       "</pre>\n"
      ],
      "text/plain": [
       "\u001b[33m Batch status \u001b[0m\u001b[1;33m(\u001b[0m\u001b[33mafter 0s\u001b[0m\u001b[1;33m)\u001b[0m\u001b[33m: \u001b[0m\u001b[1;33mQUEUED\u001b[0m\n"
      ]
     },
     "metadata": {},
     "output_type": "display_data"
    },
    {
     "data": {
      "text/html": [
       "<pre style=\"white-space:pre;overflow-x:auto;line-height:normal;font-family:Menlo,'DejaVu Sans Mono',consolas,'Courier New',monospace\"><span style=\"color: #808000; text-decoration-color: #808000\"> Batch status </span><span style=\"color: #808000; text-decoration-color: #808000; font-weight: bold\">(</span><span style=\"color: #808000; text-decoration-color: #808000\">after 60s</span><span style=\"color: #808000; text-decoration-color: #808000; font-weight: bold\">)</span><span style=\"color: #808000; text-decoration-color: #808000\">: </span><span style=\"color: #808000; text-decoration-color: #808000; font-weight: bold\">SUCCESS</span>\n",
       "</pre>\n"
      ],
      "text/plain": [
       "\u001b[33m Batch status \u001b[0m\u001b[1;33m(\u001b[0m\u001b[33mafter 60s\u001b[0m\u001b[1;33m)\u001b[0m\u001b[33m: \u001b[0m\u001b[1;33mSUCCESS\u001b[0m\n"
      ]
     },
     "metadata": {},
     "output_type": "display_data"
    },
    {
     "name": "stdout",
     "output_type": "stream",
     "text": [
      "Batch job e19ec2f0-3dc1-46d5-b540-23b86d78dc0a completed with status: SUCCESS\n",
      "Downloading file to answers_mistral-medium-2505.jsonl\n",
      "Downloaded file to answers_mistral-medium-2505.jsonl\n"
     ]
    }
   ],
   "source": [
    "results = pipeline_for(df)"
   ]
  },
  {
   "cell_type": "code",
   "execution_count": 14,
   "id": "40d8d3cb",
   "metadata": {},
   "outputs": [],
   "source": [
    "df['id'] = [f\"id_{i}\" for i in range(len(df))]\n",
    "results.sort_values(by='id', inplace=True)\n",
    "df.sort_values(by='id', inplace=True)\n",
    "df['toxicity_score'] = results['conversation'].tolist()"
   ]
  },
  {
   "cell_type": "code",
   "execution_count": 15,
   "id": "ec6f61e9",
   "metadata": {},
   "outputs": [],
   "source": [
    "df['toxicity_score'] = results['conversation'].tolist()"
   ]
  },
  {
   "cell_type": "code",
   "execution_count": 16,
   "id": "76b68ef2",
   "metadata": {},
   "outputs": [
    {
     "data": {
      "text/html": [
       "<div>\n",
       "<style scoped>\n",
       "    .dataframe tbody tr th:only-of-type {\n",
       "        vertical-align: middle;\n",
       "    }\n",
       "\n",
       "    .dataframe tbody tr th {\n",
       "        vertical-align: top;\n",
       "    }\n",
       "\n",
       "    .dataframe thead th {\n",
       "        text-align: right;\n",
       "    }\n",
       "</style>\n",
       "<table border=\"1\" class=\"dataframe\">\n",
       "  <thead>\n",
       "    <tr style=\"text-align: right;\">\n",
       "      <th></th>\n",
       "      <th>msg_id</th>\n",
       "      <th>original_text</th>\n",
       "      <th>content</th>\n",
       "      <th>label</th>\n",
       "      <th>id</th>\n",
       "      <th>toxicity_score</th>\n",
       "    </tr>\n",
       "  </thead>\n",
       "  <tbody>\n",
       "    <tr>\n",
       "      <th>0</th>\n",
       "      <td>e6865c831da40459</td>\n",
       "      <td>Combining 'Official requests for clemency' sec...</td>\n",
       "      <td>Combiner la section 'Demandes officielles de c...</td>\n",
       "      <td>0</td>\n",
       "      <td>id_0</td>\n",
       "      <td>non-toxic</td>\n",
       "    </tr>\n",
       "    <tr>\n",
       "      <th>1</th>\n",
       "      <td>cff2b456e5059b47</td>\n",
       "      <td>Web \\n\\nIs this her own website? 113.22.84.65</td>\n",
       "      <td>Web\\n\\nEst-ce son propre site web ? 113.22.84.65</td>\n",
       "      <td>0</td>\n",
       "      <td>id_1</td>\n",
       "      <td>non-toxic</td>\n",
       "    </tr>\n",
       "    <tr>\n",
       "      <th>10</th>\n",
       "      <td>547f596e29854539</td>\n",
       "      <td>It looks like the same person to me earoot@yah...</td>\n",
       "      <td>Ça me semble être la même personne à moi earoo...</td>\n",
       "      <td>0</td>\n",
       "      <td>id_10</td>\n",
       "      <td>non-toxic</td>\n",
       "    </tr>\n",
       "    <tr>\n",
       "      <th>100</th>\n",
       "      <td>74795a18fe96b5cb</td>\n",
       "      <td>\"\\nDude, you keep vandalizing it by adding spe...</td>\n",
       "      <td>Mec, tu continues à le vandaliser en ajoutant ...</td>\n",
       "      <td>0</td>\n",
       "      <td>id_100</td>\n",
       "      <td>non-toxic</td>\n",
       "    </tr>\n",
       "    <tr>\n",
       "      <th>101</th>\n",
       "      <td>807168058208dc6a</td>\n",
       "      <td>I think John Milton died a few centuries ago! ...</td>\n",
       "      <td>Je pense que John Milton est mort il y a quelq...</td>\n",
       "      <td>0</td>\n",
       "      <td>id_101</td>\n",
       "      <td>non-toxic</td>\n",
       "    </tr>\n",
       "    <tr>\n",
       "      <th>...</th>\n",
       "      <td>...</td>\n",
       "      <td>...</td>\n",
       "      <td>...</td>\n",
       "      <td>...</td>\n",
       "      <td>...</td>\n",
       "      <td>...</td>\n",
       "    </tr>\n",
       "    <tr>\n",
       "      <th>95</th>\n",
       "      <td>e7df978258868f5e</td>\n",
       "      <td>hu.... Does it refresh every time I refresh th...</td>\n",
       "      <td>Euh... Est-ce que ça se met à jour chaque fois...</td>\n",
       "      <td>0</td>\n",
       "      <td>id_95</td>\n",
       "      <td>non-toxic</td>\n",
       "    </tr>\n",
       "    <tr>\n",
       "      <th>96</th>\n",
       "      <td>909b3bec738614f9</td>\n",
       "      <td>Please, could you explain your thinking for yo...</td>\n",
       "      <td>S'il te plaît, pourrais-tu expliquer tes réfle...</td>\n",
       "      <td>0</td>\n",
       "      <td>id_96</td>\n",
       "      <td>non-toxic</td>\n",
       "    </tr>\n",
       "    <tr>\n",
       "      <th>97</th>\n",
       "      <td>baf86b93cc212702</td>\n",
       "      <td>pdf \\n\\nI doubt you'll be surprised to learn I...</td>\n",
       "      <td>Je ne doute pas que tu seras surpris d'apprend...</td>\n",
       "      <td>0</td>\n",
       "      <td>id_97</td>\n",
       "      <td>non-toxic</td>\n",
       "    </tr>\n",
       "    <tr>\n",
       "      <th>98</th>\n",
       "      <td>63ef41ee3e3f5fd7</td>\n",
       "      <td>\"\\n\\nI think \"\"1st Lord Hailes\"\" should be add...</td>\n",
       "      <td>Je pense que \"\"1er Lord Hailes\"\" devrait être ...</td>\n",
       "      <td>0</td>\n",
       "      <td>id_98</td>\n",
       "      <td>non-toxic</td>\n",
       "    </tr>\n",
       "    <tr>\n",
       "      <th>99</th>\n",
       "      <td>47b60ce20228d51f</td>\n",
       "      <td>\", 28 May 2010 (UTC)\\n —·comms 17:28\"</td>\n",
       "      <td>, 28 mai 2010 (UTC)  \\n—·comms 17:28</td>\n",
       "      <td>0</td>\n",
       "      <td>id_99</td>\n",
       "      <td>non-toxic</td>\n",
       "    </tr>\n",
       "  </tbody>\n",
       "</table>\n",
       "<p>396 rows × 6 columns</p>\n",
       "</div>"
      ],
      "text/plain": [
       "               msg_id                                      original_text  \\\n",
       "0    e6865c831da40459  Combining 'Official requests for clemency' sec...   \n",
       "1    cff2b456e5059b47      Web \\n\\nIs this her own website? 113.22.84.65   \n",
       "10   547f596e29854539  It looks like the same person to me earoot@yah...   \n",
       "100  74795a18fe96b5cb  \"\\nDude, you keep vandalizing it by adding spe...   \n",
       "101  807168058208dc6a  I think John Milton died a few centuries ago! ...   \n",
       "..                ...                                                ...   \n",
       "95   e7df978258868f5e  hu.... Does it refresh every time I refresh th...   \n",
       "96   909b3bec738614f9  Please, could you explain your thinking for yo...   \n",
       "97   baf86b93cc212702  pdf \\n\\nI doubt you'll be surprised to learn I...   \n",
       "98   63ef41ee3e3f5fd7  \"\\n\\nI think \"\"1st Lord Hailes\"\" should be add...   \n",
       "99   47b60ce20228d51f              \", 28 May 2010 (UTC)\\n —·comms 17:28\"   \n",
       "\n",
       "                                               content  label      id  \\\n",
       "0    Combiner la section 'Demandes officielles de c...      0    id_0   \n",
       "1     Web\\n\\nEst-ce son propre site web ? 113.22.84.65      0    id_1   \n",
       "10   Ça me semble être la même personne à moi earoo...      0   id_10   \n",
       "100  Mec, tu continues à le vandaliser en ajoutant ...      0  id_100   \n",
       "101  Je pense que John Milton est mort il y a quelq...      0  id_101   \n",
       "..                                                 ...    ...     ...   \n",
       "95   Euh... Est-ce que ça se met à jour chaque fois...      0   id_95   \n",
       "96   S'il te plaît, pourrais-tu expliquer tes réfle...      0   id_96   \n",
       "97   Je ne doute pas que tu seras surpris d'apprend...      0   id_97   \n",
       "98   Je pense que \"\"1er Lord Hailes\"\" devrait être ...      0   id_98   \n",
       "99                , 28 mai 2010 (UTC)  \\n—·comms 17:28      0   id_99   \n",
       "\n",
       "    toxicity_score  \n",
       "0        non-toxic  \n",
       "1        non-toxic  \n",
       "10       non-toxic  \n",
       "100      non-toxic  \n",
       "101      non-toxic  \n",
       "..             ...  \n",
       "95       non-toxic  \n",
       "96       non-toxic  \n",
       "97       non-toxic  \n",
       "98       non-toxic  \n",
       "99       non-toxic  \n",
       "\n",
       "[396 rows x 6 columns]"
      ]
     },
     "execution_count": 16,
     "metadata": {},
     "output_type": "execute_result"
    }
   ],
   "source": [
    "df"
   ]
  },
  {
   "cell_type": "code",
   "execution_count": 21,
   "id": "e612a4a8",
   "metadata": {},
   "outputs": [],
   "source": [
    "df['prediction'] = df['toxicity_score'].apply(lambda x: 1 if x.lower() == \"toxic\" else 0)"
   ]
  },
  {
   "cell_type": "code",
   "execution_count": 22,
   "id": "23ba8ce7",
   "metadata": {},
   "outputs": [
    {
     "data": {
      "text/html": [
       "<pre style=\"white-space:pre;overflow-x:auto;line-height:normal;font-family:Menlo,'DejaVu Sans Mono',consolas,'Courier New',monospace\"><span style=\"color: #800080; text-decoration-color: #800080\">╭────────────────────────────────────────────────── Exemple 170 ──────────────────────────────────────────────────╮</span>\n",
       "<span style=\"color: #800080; text-decoration-color: #800080\">│</span> bon vieux Sterbinski ! quel dommage de perdre cette fleur de l'intelligentsia macédonienne pour Wikipédia )     <span style=\"color: #800080; text-decoration-color: #800080\">│</span>\n",
       "<span style=\"color: #800080; text-decoration-color: #800080\">│</span> (ᛏ)                                                                                                             <span style=\"color: #800080; text-decoration-color: #800080\">│</span>\n",
       "<span style=\"color: #800080; text-decoration-color: #800080\">│</span>                                                                                                                 <span style=\"color: #800080; text-decoration-color: #800080\">│</span>\n",
       "<span style=\"color: #800080; text-decoration-color: #800080\">│</span> <span style=\"color: #808000; text-decoration-color: #808000\">Toxicity Score:</span> <span style=\"font-weight: bold\">0</span>                                                                                               <span style=\"color: #800080; text-decoration-color: #800080\">│</span>\n",
       "<span style=\"color: #800080; text-decoration-color: #800080\">│</span> <span style=\"color: #008080; text-decoration-color: #008080\">Label:</span> <span style=\"font-weight: bold\">0</span>                                                                                                        <span style=\"color: #800080; text-decoration-color: #800080\">│</span>\n",
       "<span style=\"color: #800080; text-decoration-color: #800080\">╰─────────────────────────────────────────────────────────────────────────────────────────────────────────────────╯</span>\n",
       "</pre>\n"
      ],
      "text/plain": [
       "\u001b[35m╭─\u001b[0m\u001b[35m─────────────────────────────────────────────────\u001b[0m\u001b[35m Exemple 170 \u001b[0m\u001b[35m─────────────────────────────────────────────────\u001b[0m\u001b[35m─╮\u001b[0m\n",
       "\u001b[35m│\u001b[0m bon vieux Sterbinski ! quel dommage de perdre cette fleur de l'intelligentsia macédonienne pour Wikipédia )     \u001b[35m│\u001b[0m\n",
       "\u001b[35m│\u001b[0m (ᛏ)                                                                                                             \u001b[35m│\u001b[0m\n",
       "\u001b[35m│\u001b[0m                                                                                                                 \u001b[35m│\u001b[0m\n",
       "\u001b[35m│\u001b[0m \u001b[33mToxicity Score:\u001b[0m \u001b[1m0\u001b[0m                                                                                               \u001b[35m│\u001b[0m\n",
       "\u001b[35m│\u001b[0m \u001b[36mLabel:\u001b[0m \u001b[1m0\u001b[0m                                                                                                        \u001b[35m│\u001b[0m\n",
       "\u001b[35m╰─────────────────────────────────────────────────────────────────────────────────────────────────────────────────╯\u001b[0m\n"
      ]
     },
     "metadata": {},
     "output_type": "display_data"
    },
    {
     "data": {
      "text/html": [
       "<pre style=\"white-space:pre;overflow-x:auto;line-height:normal;font-family:Menlo,'DejaVu Sans Mono',consolas,'Courier New',monospace\"><span style=\"color: #800080; text-decoration-color: #800080\">╭────────────────────────────── Exemple 349 ──────────────────────────────╮</span>\n",
       "<span style=\"color: #800080; text-decoration-color: #800080\">│</span> Putain d'idiot                                                          <span style=\"color: #800080; text-decoration-color: #800080\">│</span>\n",
       "<span style=\"color: #800080; text-decoration-color: #800080\">│</span>                                                                         <span style=\"color: #800080; text-decoration-color: #800080\">│</span>\n",
       "<span style=\"color: #800080; text-decoration-color: #800080\">│</span> Freak, ne fais pas de chichis et ne fais pas la tête...                 <span style=\"color: #800080; text-decoration-color: #800080\">│</span>\n",
       "<span style=\"color: #800080; text-decoration-color: #800080\">│</span>                                                                         <span style=\"color: #800080; text-decoration-color: #800080\">│</span>\n",
       "<span style=\"color: #800080; text-decoration-color: #800080\">│</span> Je m'appelle Amanbir Singh, et je peux te prendre à tous les niveaux... <span style=\"color: #800080; text-decoration-color: #800080\">│</span>\n",
       "<span style=\"color: #800080; text-decoration-color: #800080\">│</span>                                                                         <span style=\"color: #800080; text-decoration-color: #800080\">│</span>\n",
       "<span style=\"color: #800080; text-decoration-color: #800080\">│</span> <span style=\"color: #808000; text-decoration-color: #808000\">Toxicity Score:</span> <span style=\"font-weight: bold\">1</span>                                                       <span style=\"color: #800080; text-decoration-color: #800080\">│</span>\n",
       "<span style=\"color: #800080; text-decoration-color: #800080\">│</span> <span style=\"color: #008080; text-decoration-color: #008080\">Label:</span> <span style=\"font-weight: bold\">1</span>                                                                <span style=\"color: #800080; text-decoration-color: #800080\">│</span>\n",
       "<span style=\"color: #800080; text-decoration-color: #800080\">╰─────────────────────────────────────────────────────────────────────────╯</span>\n",
       "</pre>\n"
      ],
      "text/plain": [
       "\u001b[35m╭─\u001b[0m\u001b[35m─────────────────────────────\u001b[0m\u001b[35m Exemple 349 \u001b[0m\u001b[35m─────────────────────────────\u001b[0m\u001b[35m─╮\u001b[0m\n",
       "\u001b[35m│\u001b[0m Putain d'idiot                                                          \u001b[35m│\u001b[0m\n",
       "\u001b[35m│\u001b[0m                                                                         \u001b[35m│\u001b[0m\n",
       "\u001b[35m│\u001b[0m Freak, ne fais pas de chichis et ne fais pas la tête...                 \u001b[35m│\u001b[0m\n",
       "\u001b[35m│\u001b[0m                                                                         \u001b[35m│\u001b[0m\n",
       "\u001b[35m│\u001b[0m Je m'appelle Amanbir Singh, et je peux te prendre à tous les niveaux... \u001b[35m│\u001b[0m\n",
       "\u001b[35m│\u001b[0m                                                                         \u001b[35m│\u001b[0m\n",
       "\u001b[35m│\u001b[0m \u001b[33mToxicity Score:\u001b[0m \u001b[1m1\u001b[0m                                                       \u001b[35m│\u001b[0m\n",
       "\u001b[35m│\u001b[0m \u001b[36mLabel:\u001b[0m \u001b[1m1\u001b[0m                                                                \u001b[35m│\u001b[0m\n",
       "\u001b[35m╰─────────────────────────────────────────────────────────────────────────╯\u001b[0m\n"
      ]
     },
     "metadata": {},
     "output_type": "display_data"
    },
    {
     "data": {
      "text/html": [
       "<pre style=\"white-space:pre;overflow-x:auto;line-height:normal;font-family:Menlo,'DejaVu Sans Mono',consolas,'Courier New',monospace\"><span style=\"color: #800080; text-decoration-color: #800080\">╭──────────────────── Exemple 324 ────────────────────╮</span>\n",
       "<span style=\"color: #800080; text-decoration-color: #800080\">│</span> Qu'est-ce que c'est que ça !                        <span style=\"color: #800080; text-decoration-color: #800080\">│</span>\n",
       "<span style=\"color: #800080; text-decoration-color: #800080\">│</span>                                                     <span style=\"color: #800080; text-decoration-color: #800080\">│</span>\n",
       "<span style=\"color: #800080; text-decoration-color: #800080\">│</span> T'as même pas lu mon post à ICECOLDBEER, connard !! <span style=\"color: #800080; text-decoration-color: #800080\">│</span>\n",
       "<span style=\"color: #800080; text-decoration-color: #800080\">│</span>                                                     <span style=\"color: #800080; text-decoration-color: #800080\">│</span>\n",
       "<span style=\"color: #800080; text-decoration-color: #800080\">│</span> <span style=\"color: #808000; text-decoration-color: #808000\">Toxicity Score:</span> <span style=\"font-weight: bold\">1</span>                                   <span style=\"color: #800080; text-decoration-color: #800080\">│</span>\n",
       "<span style=\"color: #800080; text-decoration-color: #800080\">│</span> <span style=\"color: #008080; text-decoration-color: #008080\">Label:</span> <span style=\"font-weight: bold\">1</span>                                            <span style=\"color: #800080; text-decoration-color: #800080\">│</span>\n",
       "<span style=\"color: #800080; text-decoration-color: #800080\">╰─────────────────────────────────────────────────────╯</span>\n",
       "</pre>\n"
      ],
      "text/plain": [
       "\u001b[35m╭─\u001b[0m\u001b[35m───────────────────\u001b[0m\u001b[35m Exemple 324 \u001b[0m\u001b[35m───────────────────\u001b[0m\u001b[35m─╮\u001b[0m\n",
       "\u001b[35m│\u001b[0m Qu'est-ce que c'est que ça !                        \u001b[35m│\u001b[0m\n",
       "\u001b[35m│\u001b[0m                                                     \u001b[35m│\u001b[0m\n",
       "\u001b[35m│\u001b[0m T'as même pas lu mon post à ICECOLDBEER, connard !! \u001b[35m│\u001b[0m\n",
       "\u001b[35m│\u001b[0m                                                     \u001b[35m│\u001b[0m\n",
       "\u001b[35m│\u001b[0m \u001b[33mToxicity Score:\u001b[0m \u001b[1m1\u001b[0m                                   \u001b[35m│\u001b[0m\n",
       "\u001b[35m│\u001b[0m \u001b[36mLabel:\u001b[0m \u001b[1m1\u001b[0m                                            \u001b[35m│\u001b[0m\n",
       "\u001b[35m╰─────────────────────────────────────────────────────╯\u001b[0m\n"
      ]
     },
     "metadata": {},
     "output_type": "display_data"
    },
    {
     "data": {
      "text/html": [
       "<pre style=\"white-space:pre;overflow-x:auto;line-height:normal;font-family:Menlo,'DejaVu Sans Mono',consolas,'Courier New',monospace\"><span style=\"color: #800080; text-decoration-color: #800080\">╭────────────────────────────────────────────────── Exemple 149 ──────────────────────────────────────────────────╮</span>\n",
       "<span style=\"color: #800080; text-decoration-color: #800080\">│</span> Ce qu'il nous reste à résoudre, c'est la discussion sur le NPOV dans la section ci-dessus. 04:05, 23 juillet    <span style=\"color: #800080; text-decoration-color: #800080\">│</span>\n",
       "<span style=\"color: #800080; text-decoration-color: #800080\">│</span> 2005 (UTC)                                                                                                      <span style=\"color: #800080; text-decoration-color: #800080\">│</span>\n",
       "<span style=\"color: #800080; text-decoration-color: #800080\">│</span>                                                                                                                 <span style=\"color: #800080; text-decoration-color: #800080\">│</span>\n",
       "<span style=\"color: #800080; text-decoration-color: #800080\">│</span> <span style=\"color: #808000; text-decoration-color: #808000\">Toxicity Score:</span> <span style=\"font-weight: bold\">0</span>                                                                                               <span style=\"color: #800080; text-decoration-color: #800080\">│</span>\n",
       "<span style=\"color: #800080; text-decoration-color: #800080\">│</span> <span style=\"color: #008080; text-decoration-color: #008080\">Label:</span> <span style=\"font-weight: bold\">0</span>                                                                                                        <span style=\"color: #800080; text-decoration-color: #800080\">│</span>\n",
       "<span style=\"color: #800080; text-decoration-color: #800080\">╰─────────────────────────────────────────────────────────────────────────────────────────────────────────────────╯</span>\n",
       "</pre>\n"
      ],
      "text/plain": [
       "\u001b[35m╭─\u001b[0m\u001b[35m─────────────────────────────────────────────────\u001b[0m\u001b[35m Exemple 149 \u001b[0m\u001b[35m─────────────────────────────────────────────────\u001b[0m\u001b[35m─╮\u001b[0m\n",
       "\u001b[35m│\u001b[0m Ce qu'il nous reste à résoudre, c'est la discussion sur le NPOV dans la section ci-dessus. 04:05, 23 juillet    \u001b[35m│\u001b[0m\n",
       "\u001b[35m│\u001b[0m 2005 (UTC)                                                                                                      \u001b[35m│\u001b[0m\n",
       "\u001b[35m│\u001b[0m                                                                                                                 \u001b[35m│\u001b[0m\n",
       "\u001b[35m│\u001b[0m \u001b[33mToxicity Score:\u001b[0m \u001b[1m0\u001b[0m                                                                                               \u001b[35m│\u001b[0m\n",
       "\u001b[35m│\u001b[0m \u001b[36mLabel:\u001b[0m \u001b[1m0\u001b[0m                                                                                                        \u001b[35m│\u001b[0m\n",
       "\u001b[35m╰─────────────────────────────────────────────────────────────────────────────────────────────────────────────────╯\u001b[0m\n"
      ]
     },
     "metadata": {},
     "output_type": "display_data"
    },
    {
     "data": {
      "text/html": [
       "<pre style=\"white-space:pre;overflow-x:auto;line-height:normal;font-family:Menlo,'DejaVu Sans Mono',consolas,'Courier New',monospace\"><span style=\"color: #800080; text-decoration-color: #800080\">╭──────────────────────────────── Exemple 96 ────────────────────────────────╮</span>\n",
       "<span style=\"color: #800080; text-decoration-color: #800080\">│</span> Euh... Est-ce que ça se met à jour chaque fois que je rafraîchis la page ? <span style=\"color: #800080; text-decoration-color: #800080\">│</span>\n",
       "<span style=\"color: #800080; text-decoration-color: #800080\">│</span>                                                                            <span style=\"color: #800080; text-decoration-color: #800080\">│</span>\n",
       "<span style=\"color: #800080; text-decoration-color: #800080\">│</span> <span style=\"color: #808000; text-decoration-color: #808000\">Toxicity Score:</span> <span style=\"font-weight: bold\">0</span>                                                          <span style=\"color: #800080; text-decoration-color: #800080\">│</span>\n",
       "<span style=\"color: #800080; text-decoration-color: #800080\">│</span> <span style=\"color: #008080; text-decoration-color: #008080\">Label:</span> <span style=\"font-weight: bold\">0</span>                                                                   <span style=\"color: #800080; text-decoration-color: #800080\">│</span>\n",
       "<span style=\"color: #800080; text-decoration-color: #800080\">╰────────────────────────────────────────────────────────────────────────────╯</span>\n",
       "</pre>\n"
      ],
      "text/plain": [
       "\u001b[35m╭─\u001b[0m\u001b[35m───────────────────────────────\u001b[0m\u001b[35m Exemple 96 \u001b[0m\u001b[35m───────────────────────────────\u001b[0m\u001b[35m─╮\u001b[0m\n",
       "\u001b[35m│\u001b[0m Euh... Est-ce que ça se met à jour chaque fois que je rafraîchis la page ? \u001b[35m│\u001b[0m\n",
       "\u001b[35m│\u001b[0m                                                                            \u001b[35m│\u001b[0m\n",
       "\u001b[35m│\u001b[0m \u001b[33mToxicity Score:\u001b[0m \u001b[1m0\u001b[0m                                                          \u001b[35m│\u001b[0m\n",
       "\u001b[35m│\u001b[0m \u001b[36mLabel:\u001b[0m \u001b[1m0\u001b[0m                                                                   \u001b[35m│\u001b[0m\n",
       "\u001b[35m╰────────────────────────────────────────────────────────────────────────────╯\u001b[0m\n"
      ]
     },
     "metadata": {},
     "output_type": "display_data"
    }
   ],
   "source": [
    "for i, row in df.sample(5, random_state=42).iterrows():\n",
    "    content = Text(row['content'], style=\"bold\")\n",
    "    toxicity = f\"[yellow]Toxicity Score:[/yellow] [bold]{row['prediction']}[/bold]\"\n",
    "    label = f\"[cyan]Label:[/cyan] [bold]{row['label']}[/bold]\"\n",
    "    panel = Panel.fit(\n",
    "        f\"{content}\\n\\n{toxicity}\\n{label}\",\n",
    "        title=f\"Exemple {i+1}\",\n",
    "        border_style=\"magenta\"\n",
    "    )\n",
    "    console.print(panel)"
   ]
  },
  {
   "cell_type": "markdown",
   "id": "d190c935",
   "metadata": {},
   "source": [
    "## Metrics & Report        "
   ]
  },
  {
   "cell_type": "markdown",
   "id": "a79ba1fd",
   "metadata": {},
   "source": [
    "| Metric                     | Formula                                           | Interpretation                                                                                                       |\n",
    "| -------------------------- | ------------------------------------------------- | -------------------------------------------------------------------------------------------------------------------- |\n",
    "| **Precision**              | `TP / (TP + FP)`                                  | Of the samples predicted **toxic**, how many were **actually toxic**? <br>→ High precision = **low false positives** |\n",
    "| **Recall** *(Sensitivity)* | `TP / (TP + FN)`                                  | Of the **actual toxic** samples, how many did we **correctly identify**? <br>→ High recall = **low false negatives** |\n",
    "| **F1-score**               | `2 * (Precision * Recall) / (Precision + Recall)` | Harmonic mean of precision and recall. <br>→ Best when **balance** is needed                                         |\n",
    "| **Accuracy**               | `(TP + TN) / (TP + TN + FP + FN)`                 | Fraction of all correct predictions (toxic and non-toxic). <br>→ Can be misleading on imbalanced data                |\n",
    "| **ROC AUC**                | Area under the ROC Curve                          | Measures the **ranking ability** of the classifier. <br>→ Higher = better separation of toxic vs. non-toxic          |\n"
   ]
  },
  {
   "cell_type": "code",
   "execution_count": 23,
   "id": "76673d8f",
   "metadata": {},
   "outputs": [],
   "source": [
    "y_true = df[\"label\"]\n",
    "y_pred = df[\"prediction\"]"
   ]
  },
  {
   "cell_type": "code",
   "execution_count": 24,
   "id": "7bf73e55",
   "metadata": {},
   "outputs": [
    {
     "data": {
      "text/html": [
       "<pre style=\"white-space:pre;overflow-x:auto;line-height:normal;font-family:Menlo,'DejaVu Sans Mono',consolas,'Courier New',monospace\"><span style=\"font-style: italic\">                Classification Report                 </span>\n",
       "┏━━━━━━━━━━┳━━━━━━━━━━━┳━━━━━━━━┳━━━━━━━━━━┳━━━━━━━━━┓\n",
       "┃<span style=\"font-weight: bold\">  Classe  </span>┃<span style=\"font-weight: bold\"> Precision </span>┃<span style=\"font-weight: bold\"> Recall </span>┃<span style=\"font-weight: bold\"> F1-score </span>┃<span style=\"font-weight: bold\"> Support </span>┃\n",
       "┡━━━━━━━━━━╇━━━━━━━━━━━╇━━━━━━━━╇━━━━━━━━━━╇━━━━━━━━━┩\n",
       "│<span style=\"color: #008080; text-decoration-color: #008080\">    0     </span>│   0.874   │ 0.949  │  0.910   │   198   │\n",
       "├──────────┼───────────┼────────┼──────────┼─────────┤\n",
       "│<span style=\"color: #008080; text-decoration-color: #008080\">    1     </span>│   0.945   │ 0.864  │  0.902   │   198   │\n",
       "├──────────┼───────────┼────────┼──────────┼─────────┤\n",
       "│<span style=\"color: #008080; text-decoration-color: #008080\"> </span><span style=\"color: #808000; text-decoration-color: #808000; font-weight: bold\">Accuracy</span><span style=\"color: #008080; text-decoration-color: #008080\"> </span>│     -     │   -    │  0.907   │    -    │\n",
       "└──────────┴───────────┴────────┴──────────┴─────────┘\n",
       "</pre>\n"
      ],
      "text/plain": [
       "\u001b[3m                Classification Report                 \u001b[0m\n",
       "┏━━━━━━━━━━┳━━━━━━━━━━━┳━━━━━━━━┳━━━━━━━━━━┳━━━━━━━━━┓\n",
       "┃\u001b[1m \u001b[0m\u001b[1m Classe \u001b[0m\u001b[1m \u001b[0m┃\u001b[1m \u001b[0m\u001b[1mPrecision\u001b[0m\u001b[1m \u001b[0m┃\u001b[1m \u001b[0m\u001b[1mRecall\u001b[0m\u001b[1m \u001b[0m┃\u001b[1m \u001b[0m\u001b[1mF1-score\u001b[0m\u001b[1m \u001b[0m┃\u001b[1m \u001b[0m\u001b[1mSupport\u001b[0m\u001b[1m \u001b[0m┃\n",
       "┡━━━━━━━━━━╇━━━━━━━━━━━╇━━━━━━━━╇━━━━━━━━━━╇━━━━━━━━━┩\n",
       "│\u001b[36m \u001b[0m\u001b[36m   0    \u001b[0m\u001b[36m \u001b[0m│   0.874   │ 0.949  │  0.910   │   198   │\n",
       "├──────────┼───────────┼────────┼──────────┼─────────┤\n",
       "│\u001b[36m \u001b[0m\u001b[36m   1    \u001b[0m\u001b[36m \u001b[0m│   0.945   │ 0.864  │  0.902   │   198   │\n",
       "├──────────┼───────────┼────────┼──────────┼─────────┤\n",
       "│\u001b[36m \u001b[0m\u001b[1;33mAccuracy\u001b[0m\u001b[36m \u001b[0m│     -     │   -    │  0.907   │    -    │\n",
       "└──────────┴───────────┴────────┴──────────┴─────────┘\n"
      ]
     },
     "metadata": {},
     "output_type": "display_data"
    },
    {
     "data": {
      "text/html": [
       "<pre style=\"white-space:pre;overflow-x:auto;line-height:normal;font-family:Menlo,'DejaVu Sans Mono',consolas,'Courier New',monospace\"><span style=\"font-style: italic\">      Matrice de Confusion      </span>\n",
       "┏━━━━━━━━┳━━━━━━━━━━┳━━━━━━━━━━┓\n",
       "┃<span style=\"font-weight: bold\">        </span>┃<span style=\"font-weight: bold\"> Prédit 0 </span>┃<span style=\"font-weight: bold\"> Prédit 1 </span>┃\n",
       "┡━━━━━━━━╇━━━━━━━━━━╇━━━━━━━━━━┩\n",
       "│<span style=\"font-weight: bold\"> Réel 0 </span>│   188    │    10    │\n",
       "├────────┼──────────┼──────────┤\n",
       "│<span style=\"font-weight: bold\"> Réel 1 </span>│    27    │   171    │\n",
       "└────────┴──────────┴──────────┘\n",
       "</pre>\n"
      ],
      "text/plain": [
       "\u001b[3m      Matrice de Confusion      \u001b[0m\n",
       "┏━━━━━━━━┳━━━━━━━━━━┳━━━━━━━━━━┓\n",
       "┃\u001b[1m \u001b[0m\u001b[1m      \u001b[0m\u001b[1m \u001b[0m┃\u001b[1m \u001b[0m\u001b[1mPrédit 0\u001b[0m\u001b[1m \u001b[0m┃\u001b[1m \u001b[0m\u001b[1mPrédit 1\u001b[0m\u001b[1m \u001b[0m┃\n",
       "┡━━━━━━━━╇━━━━━━━━━━╇━━━━━━━━━━┩\n",
       "│\u001b[1m \u001b[0m\u001b[1mRéel 0\u001b[0m\u001b[1m \u001b[0m│   188    │    10    │\n",
       "├────────┼──────────┼──────────┤\n",
       "│\u001b[1m \u001b[0m\u001b[1mRéel 1\u001b[0m\u001b[1m \u001b[0m│    27    │   171    │\n",
       "└────────┴──────────┴──────────┘\n"
      ]
     },
     "metadata": {},
     "output_type": "display_data"
    },
    {
     "data": {
      "text/html": [
       "<pre style=\"white-space:pre;overflow-x:auto;line-height:normal;font-family:Menlo,'DejaVu Sans Mono',consolas,'Courier New',monospace\">╭──────────────────────────────────────────────────── ROC AUC ────────────────────────────────────────────────────╮\n",
       "│ <span style=\"color: #008000; text-decoration-color: #008000; font-weight: bold\">ROC AUC Score : 0.907</span>                                                                                           │\n",
       "╰─────────────────────────────────────────────────────────────────────────────────────────────────────────────────╯\n",
       "</pre>\n"
      ],
      "text/plain": [
       "╭──────────────────────────────────────────────────── ROC AUC ────────────────────────────────────────────────────╮\n",
       "│ \u001b[1;32mROC AUC Score : 0.907\u001b[0m                                                                                           │\n",
       "╰─────────────────────────────────────────────────────────────────────────────────────────────────────────────────╯\n"
      ]
     },
     "metadata": {},
     "output_type": "display_data"
    }
   ],
   "source": [
    "# Rapport de classification\n",
    "report = classification_report(y_true, y_pred, digits=3, output_dict=True)\n",
    "table = Table(title=\"Classification Report\", show_lines=True)\n",
    "table.add_column(\"Classe\", style=\"cyan\", justify=\"center\")\n",
    "table.add_column(\"Precision\", justify=\"center\")\n",
    "table.add_column(\"Recall\", justify=\"center\")\n",
    "table.add_column(\"F1-score\", justify=\"center\")\n",
    "table.add_column(\"Support\", justify=\"center\")\n",
    "\n",
    "for label, metrics in report.items():\n",
    "    if label in [\"accuracy\", \"macro avg\", \"weighted avg\"]:\n",
    "        continue\n",
    "    table.add_row(\n",
    "        str(label),\n",
    "        f\"{metrics['precision']:.3f}\",\n",
    "        f\"{metrics['recall']:.3f}\",\n",
    "        f\"{metrics['f1-score']:.3f}\",\n",
    "        f\"{int(metrics['support'])}\"\n",
    "    )\n",
    "# Ajout de l'accuracy\n",
    "table.add_row(\n",
    "    \"[bold yellow]Accuracy[/bold yellow]\",\n",
    "    \"-\",\n",
    "    \"-\",\n",
    "    f\"{report['accuracy']:.3f}\",\n",
    "    \"-\"\n",
    ")\n",
    "console.print(table)\n",
    "\n",
    "# Matrice de confusion\n",
    "cm = confusion_matrix(y_true, y_pred)\n",
    "cm_table = Table(title=\"Matrice de Confusion\", show_lines=True)\n",
    "cm_table.add_column(\" \", style=\"bold\")\n",
    "cm_table.add_column(\"Prédit 0\", justify=\"center\")\n",
    "cm_table.add_column(\"Prédit 1\", justify=\"center\")\n",
    "cm_table.add_row(\"Réel 0\", str(cm[0, 0]), str(cm[0, 1]))\n",
    "cm_table.add_row(\"Réel 1\", str(cm[1, 0]), str(cm[1, 1]))\n",
    "console.print(cm_table)\n",
    "\n",
    "# ROC AUC\n",
    "try:\n",
    "    auc = roc_auc_score(y_true, df[\"prediction\"])\n",
    "    console.print(Panel(f\"[bold green]ROC AUC Score : {auc:.3f}[/bold green]\", title=\"ROC AUC\"))\n",
    "except:\n",
    "    console.print(Panel(\"[bold red]Impossible de calculer le ROC AUC.[/bold red]\", title=\"ROC AUC\"))"
   ]
  },
  {
   "cell_type": "markdown",
   "id": "5ae781b8",
   "metadata": {},
   "source": [
    "## Save the predictions"
   ]
  },
  {
   "cell_type": "code",
   "execution_count": 25,
   "id": "07519936",
   "metadata": {},
   "outputs": [
    {
     "data": {
      "text/html": [
       "<div>\n",
       "<style scoped>\n",
       "    .dataframe tbody tr th:only-of-type {\n",
       "        vertical-align: middle;\n",
       "    }\n",
       "\n",
       "    .dataframe tbody tr th {\n",
       "        vertical-align: top;\n",
       "    }\n",
       "\n",
       "    .dataframe thead th {\n",
       "        text-align: right;\n",
       "    }\n",
       "</style>\n",
       "<table border=\"1\" class=\"dataframe\">\n",
       "  <thead>\n",
       "    <tr style=\"text-align: right;\">\n",
       "      <th></th>\n",
       "      <th>msg_id</th>\n",
       "      <th>original_text</th>\n",
       "      <th>content</th>\n",
       "      <th>label</th>\n",
       "      <th>id</th>\n",
       "      <th>toxicity_score</th>\n",
       "      <th>prediction</th>\n",
       "    </tr>\n",
       "  </thead>\n",
       "  <tbody>\n",
       "    <tr>\n",
       "      <th>0</th>\n",
       "      <td>e6865c831da40459</td>\n",
       "      <td>Combining 'Official requests for clemency' sec...</td>\n",
       "      <td>Combiner la section 'Demandes officielles de c...</td>\n",
       "      <td>0</td>\n",
       "      <td>id_0</td>\n",
       "      <td>non-toxic</td>\n",
       "      <td>0</td>\n",
       "    </tr>\n",
       "    <tr>\n",
       "      <th>1</th>\n",
       "      <td>cff2b456e5059b47</td>\n",
       "      <td>Web \\n\\nIs this her own website? 113.22.84.65</td>\n",
       "      <td>Web\\n\\nEst-ce son propre site web ? 113.22.84.65</td>\n",
       "      <td>0</td>\n",
       "      <td>id_1</td>\n",
       "      <td>non-toxic</td>\n",
       "      <td>0</td>\n",
       "    </tr>\n",
       "    <tr>\n",
       "      <th>10</th>\n",
       "      <td>547f596e29854539</td>\n",
       "      <td>It looks like the same person to me earoot@yah...</td>\n",
       "      <td>Ça me semble être la même personne à moi earoo...</td>\n",
       "      <td>0</td>\n",
       "      <td>id_10</td>\n",
       "      <td>non-toxic</td>\n",
       "      <td>0</td>\n",
       "    </tr>\n",
       "    <tr>\n",
       "      <th>100</th>\n",
       "      <td>74795a18fe96b5cb</td>\n",
       "      <td>\"\\nDude, you keep vandalizing it by adding spe...</td>\n",
       "      <td>Mec, tu continues à le vandaliser en ajoutant ...</td>\n",
       "      <td>0</td>\n",
       "      <td>id_100</td>\n",
       "      <td>non-toxic</td>\n",
       "      <td>0</td>\n",
       "    </tr>\n",
       "    <tr>\n",
       "      <th>101</th>\n",
       "      <td>807168058208dc6a</td>\n",
       "      <td>I think John Milton died a few centuries ago! ...</td>\n",
       "      <td>Je pense que John Milton est mort il y a quelq...</td>\n",
       "      <td>0</td>\n",
       "      <td>id_101</td>\n",
       "      <td>non-toxic</td>\n",
       "      <td>0</td>\n",
       "    </tr>\n",
       "    <tr>\n",
       "      <th>...</th>\n",
       "      <td>...</td>\n",
       "      <td>...</td>\n",
       "      <td>...</td>\n",
       "      <td>...</td>\n",
       "      <td>...</td>\n",
       "      <td>...</td>\n",
       "      <td>...</td>\n",
       "    </tr>\n",
       "    <tr>\n",
       "      <th>95</th>\n",
       "      <td>e7df978258868f5e</td>\n",
       "      <td>hu.... Does it refresh every time I refresh th...</td>\n",
       "      <td>Euh... Est-ce que ça se met à jour chaque fois...</td>\n",
       "      <td>0</td>\n",
       "      <td>id_95</td>\n",
       "      <td>non-toxic</td>\n",
       "      <td>0</td>\n",
       "    </tr>\n",
       "    <tr>\n",
       "      <th>96</th>\n",
       "      <td>909b3bec738614f9</td>\n",
       "      <td>Please, could you explain your thinking for yo...</td>\n",
       "      <td>S'il te plaît, pourrais-tu expliquer tes réfle...</td>\n",
       "      <td>0</td>\n",
       "      <td>id_96</td>\n",
       "      <td>non-toxic</td>\n",
       "      <td>0</td>\n",
       "    </tr>\n",
       "    <tr>\n",
       "      <th>97</th>\n",
       "      <td>baf86b93cc212702</td>\n",
       "      <td>pdf \\n\\nI doubt you'll be surprised to learn I...</td>\n",
       "      <td>Je ne doute pas que tu seras surpris d'apprend...</td>\n",
       "      <td>0</td>\n",
       "      <td>id_97</td>\n",
       "      <td>non-toxic</td>\n",
       "      <td>0</td>\n",
       "    </tr>\n",
       "    <tr>\n",
       "      <th>98</th>\n",
       "      <td>63ef41ee3e3f5fd7</td>\n",
       "      <td>\"\\n\\nI think \"\"1st Lord Hailes\"\" should be add...</td>\n",
       "      <td>Je pense que \"\"1er Lord Hailes\"\" devrait être ...</td>\n",
       "      <td>0</td>\n",
       "      <td>id_98</td>\n",
       "      <td>non-toxic</td>\n",
       "      <td>0</td>\n",
       "    </tr>\n",
       "    <tr>\n",
       "      <th>99</th>\n",
       "      <td>47b60ce20228d51f</td>\n",
       "      <td>\", 28 May 2010 (UTC)\\n —·comms 17:28\"</td>\n",
       "      <td>, 28 mai 2010 (UTC)  \\n—·comms 17:28</td>\n",
       "      <td>0</td>\n",
       "      <td>id_99</td>\n",
       "      <td>non-toxic</td>\n",
       "      <td>0</td>\n",
       "    </tr>\n",
       "  </tbody>\n",
       "</table>\n",
       "<p>396 rows × 7 columns</p>\n",
       "</div>"
      ],
      "text/plain": [
       "               msg_id                                      original_text  \\\n",
       "0    e6865c831da40459  Combining 'Official requests for clemency' sec...   \n",
       "1    cff2b456e5059b47      Web \\n\\nIs this her own website? 113.22.84.65   \n",
       "10   547f596e29854539  It looks like the same person to me earoot@yah...   \n",
       "100  74795a18fe96b5cb  \"\\nDude, you keep vandalizing it by adding spe...   \n",
       "101  807168058208dc6a  I think John Milton died a few centuries ago! ...   \n",
       "..                ...                                                ...   \n",
       "95   e7df978258868f5e  hu.... Does it refresh every time I refresh th...   \n",
       "96   909b3bec738614f9  Please, could you explain your thinking for yo...   \n",
       "97   baf86b93cc212702  pdf \\n\\nI doubt you'll be surprised to learn I...   \n",
       "98   63ef41ee3e3f5fd7  \"\\n\\nI think \"\"1st Lord Hailes\"\" should be add...   \n",
       "99   47b60ce20228d51f              \", 28 May 2010 (UTC)\\n —·comms 17:28\"   \n",
       "\n",
       "                                               content  label      id  \\\n",
       "0    Combiner la section 'Demandes officielles de c...      0    id_0   \n",
       "1     Web\\n\\nEst-ce son propre site web ? 113.22.84.65      0    id_1   \n",
       "10   Ça me semble être la même personne à moi earoo...      0   id_10   \n",
       "100  Mec, tu continues à le vandaliser en ajoutant ...      0  id_100   \n",
       "101  Je pense que John Milton est mort il y a quelq...      0  id_101   \n",
       "..                                                 ...    ...     ...   \n",
       "95   Euh... Est-ce que ça se met à jour chaque fois...      0   id_95   \n",
       "96   S'il te plaît, pourrais-tu expliquer tes réfle...      0   id_96   \n",
       "97   Je ne doute pas que tu seras surpris d'apprend...      0   id_97   \n",
       "98   Je pense que \"\"1er Lord Hailes\"\" devrait être ...      0   id_98   \n",
       "99                , 28 mai 2010 (UTC)  \\n—·comms 17:28      0   id_99   \n",
       "\n",
       "    toxicity_score  prediction  \n",
       "0        non-toxic           0  \n",
       "1        non-toxic           0  \n",
       "10       non-toxic           0  \n",
       "100      non-toxic           0  \n",
       "101      non-toxic           0  \n",
       "..             ...         ...  \n",
       "95       non-toxic           0  \n",
       "96       non-toxic           0  \n",
       "97       non-toxic           0  \n",
       "98       non-toxic           0  \n",
       "99       non-toxic           0  \n",
       "\n",
       "[396 rows x 7 columns]"
      ]
     },
     "execution_count": 25,
     "metadata": {},
     "output_type": "execute_result"
    }
   ],
   "source": [
    "df"
   ]
  },
  {
   "cell_type": "code",
   "execution_count": 26,
   "id": "f64344e1",
   "metadata": {},
   "outputs": [
    {
     "data": {
      "text/plain": [
       "PosixPath('../../data/benchmark_jigsaw/eng-mistral_medium.csv')"
      ]
     },
     "execution_count": 26,
     "metadata": {},
     "output_type": "execute_result"
    }
   ],
   "source": [
    "output_path"
   ]
  },
  {
   "cell_type": "code",
   "execution_count": 27,
   "id": "a1cda421",
   "metadata": {},
   "outputs": [],
   "source": [
    "df.to_csv(output_path, index=False, encoding=\"utf-8\")"
   ]
  },
  {
   "cell_type": "code",
   "execution_count": null,
   "id": "1c505d35",
   "metadata": {},
   "outputs": [],
   "source": []
  }
 ],
 "metadata": {
  "kernelspec": {
   "display_name": "SJTU",
   "language": "python",
   "name": "python3"
  },
  "language_info": {
   "codemirror_mode": {
    "name": "ipython",
    "version": 3
   },
   "file_extension": ".py",
   "mimetype": "text/x-python",
   "name": "python",
   "nbconvert_exporter": "python",
   "pygments_lexer": "ipython3",
   "version": "3.10.13"
  }
 },
 "nbformat": 4,
 "nbformat_minor": 5
}
