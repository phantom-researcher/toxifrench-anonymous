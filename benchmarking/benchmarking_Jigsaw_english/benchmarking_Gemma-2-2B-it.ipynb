{
 "cells": [
  {
   "cell_type": "markdown",
   "id": "540ef521",
   "metadata": {},
   "source": [
    "# Benchmarking [gemma-2-2b-it](https://huggingface.co/google/gemma-2-2b-it)"
   ]
  },
  {
   "cell_type": "markdown",
   "id": "922dd626",
   "metadata": {},
   "source": [
    "## Libraries"
   ]
  },
  {
   "cell_type": "code",
   "execution_count": 2,
   "id": "103136ac",
   "metadata": {},
   "outputs": [],
   "source": [
    "# --- Libraries ---\n",
    "import pandas as pd\n",
    "from sklearn.metrics import classification_report, confusion_matrix, roc_auc_score\n",
    "from pathlib import Path\n",
    "import os\n",
    "from transformers import AutoTokenizer, AutoModelForCausalLM, pipeline\n",
    "from rich.console import Console\n",
    "from rich.table import Table\n",
    "import warnings\n",
    "from tqdm import tqdm\n",
    "import torch\n",
    "\n",
    "# Suppress warnings for a cleaner output\n",
    "warnings.filterwarnings(\"ignore\")\n",
    "\n",
    "from rich.panel import Panel\n",
    "from rich.text import Text\n",
    "\n",
    "# --- Performance Settings ---\n",
    "# Set to 'high' for better performance on Ampere GPUs as suggested by the warning.\n",
    "torch.set_float32_matmul_precision('high')\n"
   ]
  },
  {
   "cell_type": "markdown",
   "id": "f80fec44",
   "metadata": {},
   "source": [
    "## Global variables"
   ]
  },
  {
   "cell_type": "code",
   "execution_count": 3,
   "id": "345da9c6",
   "metadata": {},
   "outputs": [],
   "source": [
    "ROOT = Path(\"../..\")\n",
    "DATA_DIR = ROOT / \"data\"\n",
    "BENCHMARK_PATH = DATA_DIR / \"benchmark_jigsaw\" / \"benchmark_jigsaw.csv\"\n",
    "output_path = DATA_DIR / \"benchmark_jigsaw\" / \"eng-google-gemma-2-2b-it.csv\"\n",
    "console = Console()\n",
    "system_prompt = (Path(\".\") / \"API_SYSTEM_PROMPT.txt\").read_text().strip()\n",
    "prompt = (Path(\".\") / \"API_PROMPT.txt\").read_text().strip()"
   ]
  },
  {
   "cell_type": "code",
   "execution_count": 4,
   "id": "aebace85",
   "metadata": {},
   "outputs": [],
   "source": [
    "os.environ[\"HTTP_PROXY\"] = \"socks5h://127.0.0.1:1080\"\n",
    "os.environ[\"HTTPS_PROXY\"] = \"socks5h://127.0.0.1:1080\""
   ]
  },
  {
   "cell_type": "code",
   "execution_count": 5,
   "id": "9331a129",
   "metadata": {},
   "outputs": [],
   "source": [
    "torch.set_float32_matmul_precision('high')"
   ]
  },
  {
   "cell_type": "markdown",
   "id": "c97e432b",
   "metadata": {},
   "source": [
    "## Load dataset"
   ]
  },
  {
   "cell_type": "code",
   "execution_count": 6,
   "id": "5b4bff82",
   "metadata": {},
   "outputs": [
    {
     "data": {
      "text/html": [
       "<pre style=\"white-space:pre;overflow-x:auto;line-height:normal;font-family:Menlo,'DejaVu Sans Mono',consolas,'Courier New',monospace\">╭─────────────────────────────────────────────────────────────────────────────────────────────────────────────────╮\n",
       "│ <span style=\"color: #008080; text-decoration-color: #008080; font-weight: bold\">Step 1: Loading Dataset</span>                                                                                         │\n",
       "╰─────────────────────────────────────────────────────────────────────────────────────────────────────────────────╯\n",
       "</pre>\n"
      ],
      "text/plain": [
       "╭─────────────────────────────────────────────────────────────────────────────────────────────────────────────────╮\n",
       "│ \u001b[1;36mStep 1: Loading Dataset\u001b[0m                                                                                         │\n",
       "╰─────────────────────────────────────────────────────────────────────────────────────────────────────────────────╯\n"
      ]
     },
     "metadata": {},
     "output_type": "display_data"
    },
    {
     "data": {
      "text/html": [
       "<pre style=\"white-space:pre;overflow-x:auto;line-height:normal;font-family:Menlo,'DejaVu Sans Mono',consolas,'Courier New',monospace\"><span style=\"font-style: italic\">        Dataset Overview        </span>                                                                                   \n",
       "┏━━━━━━━━━━━━━━━━━━━━━━┳━━━━━━━┓                                                                                   \n",
       "┃<span style=\"font-weight: bold\">     Description      </span>┃<span style=\"font-weight: bold\"> Value </span>┃                                                                                   \n",
       "┡━━━━━━━━━━━━━━━━━━━━━━╇━━━━━━━┩                                                                                   \n",
       "│<span style=\"color: #008080; text-decoration-color: #008080\">      Total Rows      </span>│<span style=\"color: #808000; text-decoration-color: #808000\">  396  </span>│                                                                                   \n",
       "├──────────────────────┼───────┤                                                                                   \n",
       "│<span style=\"color: #008080; text-decoration-color: #008080\"> Label: Non-Toxic (0) </span>│<span style=\"color: #808000; text-decoration-color: #808000\">  198  </span>│                                                                                   \n",
       "├──────────────────────┼───────┤                                                                                   \n",
       "│<span style=\"color: #008080; text-decoration-color: #008080\">   Label: Toxic (1)   </span>│<span style=\"color: #808000; text-decoration-color: #808000\">  198  </span>│                                                                                   \n",
       "└──────────────────────┴───────┘                                                                                   \n",
       "</pre>\n"
      ],
      "text/plain": [
       "\u001b[3m        Dataset Overview        \u001b[0m                                                                                   \n",
       "┏━━━━━━━━━━━━━━━━━━━━━━┳━━━━━━━┓                                                                                   \n",
       "┃\u001b[1m \u001b[0m\u001b[1m    Description     \u001b[0m\u001b[1m \u001b[0m┃\u001b[1m \u001b[0m\u001b[1mValue\u001b[0m\u001b[1m \u001b[0m┃                                                                                   \n",
       "┡━━━━━━━━━━━━━━━━━━━━━━╇━━━━━━━┩                                                                                   \n",
       "│\u001b[36m \u001b[0m\u001b[36m     Total Rows     \u001b[0m\u001b[36m \u001b[0m│\u001b[33m \u001b[0m\u001b[33m 396 \u001b[0m\u001b[33m \u001b[0m│                                                                                   \n",
       "├──────────────────────┼───────┤                                                                                   \n",
       "│\u001b[36m \u001b[0m\u001b[36mLabel: Non-Toxic (0)\u001b[0m\u001b[36m \u001b[0m│\u001b[33m \u001b[0m\u001b[33m 198 \u001b[0m\u001b[33m \u001b[0m│                                                                                   \n",
       "├──────────────────────┼───────┤                                                                                   \n",
       "│\u001b[36m \u001b[0m\u001b[36m  Label: Toxic (1)  \u001b[0m\u001b[36m \u001b[0m│\u001b[33m \u001b[0m\u001b[33m 198 \u001b[0m\u001b[33m \u001b[0m│                                                                                   \n",
       "└──────────────────────┴───────┘                                                                                   \n"
      ]
     },
     "metadata": {},
     "output_type": "display_data"
    }
   ],
   "source": [
    "# --- Load Dataset ---\n",
    "console.print(Panel(\"[bold cyan]Step 1: Loading Dataset[/bold cyan]\"))\n",
    "try:\n",
    "    df = pd.read_csv(BENCHMARK_PATH, encoding=\"utf-8\")\n",
    "    df = df.dropna(subset=[\"content\", \"label\"])\n",
    "    df[\"label\"] = df[\"label\"].astype(int)\n",
    "\n",
    "    # Display dataset info\n",
    "    label_counts = df[\"label\"].value_counts().reset_index()\n",
    "    label_counts.columns = [\"label\", \"count\"]\n",
    "    table = Table(title=\"Dataset Overview\", show_lines=True)\n",
    "    table.add_column(\"Description\", justify=\"center\", style=\"cyan\")\n",
    "    table.add_column(\"Value\", justify=\"center\", style=\"yellow\")\n",
    "    table.add_row(\"Total Rows\", str(len(df)))\n",
    "    for _, row in label_counts.iterrows():\n",
    "        label_name = \"Non-Toxic (0)\" if row[\"label\"] == 0 else \"Toxic (1)\"\n",
    "        table.add_row(f\"Label: {label_name}\", str(row[\"count\"]))\n",
    "    console.print(table, justify=\"left\")\n",
    "except FileNotFoundError:\n",
    "    console.print(f\"[bold red]Error: The file was not found at {BENCHMARK_PATH}. Please check the path.[/bold red]\")\n",
    "    exit()\n"
   ]
  },
  {
   "cell_type": "markdown",
   "id": "d0bfe50b",
   "metadata": {},
   "source": [
    "## Load model"
   ]
  },
  {
   "cell_type": "code",
   "execution_count": 7,
   "id": "79ea7c98",
   "metadata": {},
   "outputs": [
    {
     "data": {
      "text/html": [
       "<pre style=\"white-space:pre;overflow-x:auto;line-height:normal;font-family:Menlo,'DejaVu Sans Mono',consolas,'Courier New',monospace\">╭─────────────────────────────────────────────────────────────────────────────────────────────────────────────────╮\n",
       "│ <span style=\"color: #008080; text-decoration-color: #008080; font-weight: bold\">Step 2: Loading Model and Creating Inference Pipeline</span>                                                           │\n",
       "╰─────────────────────────────────────────────────────────────────────────────────────────────────────────────────╯\n",
       "</pre>\n"
      ],
      "text/plain": [
       "╭─────────────────────────────────────────────────────────────────────────────────────────────────────────────────╮\n",
       "│ \u001b[1;36mStep 2: Loading Model and Creating Inference Pipeline\u001b[0m                                                           │\n",
       "╰─────────────────────────────────────────────────────────────────────────────────────────────────────────────────╯\n"
      ]
     },
     "metadata": {},
     "output_type": "display_data"
    },
    {
     "data": {
      "application/vnd.jupyter.widget-view+json": {
       "model_id": "5f68f2e5c08e49859b5cac0c40a64963",
       "version_major": 2,
       "version_minor": 0
      },
      "text/plain": [
       "Loading checkpoint shards:   0%|          | 0/2 [00:00<?, ?it/s]"
      ]
     },
     "metadata": {},
     "output_type": "display_data"
    },
    {
     "name": "stderr",
     "output_type": "stream",
     "text": [
      "Device set to use cuda:0\n"
     ]
    },
    {
     "data": {
      "text/html": [
       "<pre style=\"white-space:pre;overflow-x:auto;line-height:normal;font-family:Menlo,'DejaVu Sans Mono',consolas,'Courier New',monospace\"><span style=\"color: #008000; text-decoration-color: #008000\">Successfully created pipeline for model: google/gemma-</span><span style=\"color: #008000; text-decoration-color: #008000; font-weight: bold\">2</span><span style=\"color: #008000; text-decoration-color: #008000\">-2b-it</span>\n",
       "</pre>\n"
      ],
      "text/plain": [
       "\u001b[32mSuccessfully created pipeline for model: google/gemma-\u001b[0m\u001b[1;32m2\u001b[0m\u001b[32m-2b-it\u001b[0m\n"
      ]
     },
     "metadata": {},
     "output_type": "display_data"
    }
   ],
   "source": [
    "# --- Load Model and Create Pipeline ---\n",
    "console.print(Panel(\"[bold cyan]Step 2: Loading Model and Creating Inference Pipeline[/bold cyan]\"))\n",
    "model_name = \"google/gemma-2-2b-it\"\n",
    "\n",
    "try:\n",
    "    # Using a pipeline is much more efficient for inference as it handles batching automatically.\n",
    "    pipe = pipeline(\n",
    "        \"text-generation\",\n",
    "        model=model_name,\n",
    "        model_kwargs={\"torch_dtype\": torch.bfloat16},\n",
    "        device=0, # Use device=0 to force it to the first GPU\n",
    "        trust_remote_code=True\n",
    "    )\n",
    "    console.print(f\"[green]Successfully created pipeline for model: {model_name}[/green]\")\n",
    "except Exception as e:\n",
    "    console.print(f\"[bold red]Error creating the pipeline: {e}[/bold red]\")\n",
    "    console.print(\"[yellow]Please ensure you have accepted the model's license on Hugging Face and are logged in via `huggingface-cli login`.[/yellow]\")\n",
    "    exit()\n"
   ]
  },
  {
   "cell_type": "markdown",
   "id": "495491e3",
   "metadata": {},
   "source": [
    "## Define prediction function"
   ]
  },
  {
   "cell_type": "code",
   "execution_count": 10,
   "id": "4018eea6",
   "metadata": {},
   "outputs": [
    {
     "data": {
      "text/html": [
       "<pre style=\"white-space:pre;overflow-x:auto;line-height:normal;font-family:Menlo,'DejaVu Sans Mono',consolas,'Courier New',monospace\">╭─────────────────────────────────────────────────────────────────────────────────────────────────────────────────╮\n",
       "│ <span style=\"color: #008080; text-decoration-color: #008080; font-weight: bold\">Step 3: Running Predictions in Batches</span>                                                                          │\n",
       "╰─────────────────────────────────────────────────────────────────────────────────────────────────────────────────╯\n",
       "</pre>\n"
      ],
      "text/plain": [
       "╭─────────────────────────────────────────────────────────────────────────────────────────────────────────────────╮\n",
       "│ \u001b[1;36mStep 3: Running Predictions in Batches\u001b[0m                                                                          │\n",
       "╰─────────────────────────────────────────────────────────────────────────────────────────────────────────────────╯\n"
      ]
     },
     "metadata": {},
     "output_type": "display_data"
    }
   ],
   "source": [
    "# --- Run Prediction (Optimized with Pipeline) ---\n",
    "console.print(Panel(\"[bold cyan]Step 3: Running Predictions in Batches[/bold cyan]\"))\n",
    "\n",
    "def generate_prompt_text(text):\n",
    "    input_text = system_prompt + prompt + f\"« {text} »\" + \"\\n Is this message toxic ?\\n\"\n",
    "    chat = [{\"role\": \"user\", \"content\": input_text}]\n",
    "    # The tokenizer's chat template adds the special tokens (<bos>, etc.)\n",
    "    return pipe.tokenizer.apply_chat_template(chat, tokenize=False, add_generation_prompt=True)"
   ]
  },
  {
   "cell_type": "markdown",
   "id": "1fe256d9",
   "metadata": {},
   "source": [
    "## Run prediction"
   ]
  },
  {
   "cell_type": "code",
   "execution_count": 11,
   "id": "60c8f0b0",
   "metadata": {},
   "outputs": [],
   "source": [
    "# Generate all prompts first\n",
    "prompts = [generate_prompt_text(text) for text in df[\"original_text\"]]"
   ]
  },
  {
   "cell_type": "code",
   "execution_count": 12,
   "id": "aa4c51ea",
   "metadata": {},
   "outputs": [
    {
     "data": {
      "application/vnd.jupyter.widget-view+json": {
       "model_id": "909abb81f7a14a1792a9f6ad0defaf90",
       "version_major": 2,
       "version_minor": 0
      },
      "text/plain": [
       "Output()"
      ]
     },
     "metadata": {},
     "output_type": "display_data"
    },
    {
     "data": {
      "text/html": [
       "<pre style=\"white-space:pre;overflow-x:auto;line-height:normal;font-family:Menlo,'DejaVu Sans Mono',consolas,'Courier New',monospace\"></pre>\n"
      ],
      "text/plain": []
     },
     "metadata": {},
     "output_type": "display_data"
    }
   ],
   "source": [
    "# Use the pipeline to predict in batches (much faster)\n",
    "# The pipeline will show its own progress bar if tqdm is installed.\n",
    "# We can set a batch size to control memory usage.\n",
    "raw_outputs = []\n",
    "# Using tqdm for a custom progress bar over the pipeline iterator\n",
    "# use tqdm to show progress\n",
    "from tqdm.rich import tqdm\n",
    "for output in tqdm(pipe(prompts, max_new_tokens=10, batch_size=16), total=len(prompts), desc=\"Predicting Toxicity\"):\n",
    "    raw_outputs.append(output)\n"
   ]
  },
  {
   "cell_type": "code",
   "execution_count": 14,
   "id": "04e018e3",
   "metadata": {},
   "outputs": [],
   "source": [
    "# Extract the generated part from the full response\n",
    "def extract_classification(output):\n",
    "    # The pipeline output is a list of dictionaries, e.g., [{'generated_text': '...'}]\n",
    "    full_text = output[0]['generated_text']\n",
    "    # The logic to extract the final word remains the same\n",
    "    return full_text.split(\"Is this message toxic ?\")[-1].strip()\n",
    "\n",
    "df[\"toxicity_score_raw\"] = [extract_classification(output) for output in raw_outputs]\n"
   ]
  },
  {
   "cell_type": "code",
   "execution_count": 15,
   "id": "c17fb5a4",
   "metadata": {},
   "outputs": [],
   "source": [
    "# Process the raw predictions to get a clean label\n",
    "def clean_prediction(raw_score):\n",
    "    raw_score = str(raw_score).lower()\n",
    "    if \"non-toxic\" in raw_score or \"not toxic\" in raw_score or \"non toxic\" in raw_score:\n",
    "        return \"non-toxique\"\n",
    "    if \"toxic\" in raw_score:\n",
    "        return \"toxique\"\n",
    "    return \"unknown\" # Handle cases where the model output is not clear\n",
    "\n",
    "df[\"toxicity_score\"] = df[\"toxicity_score_raw\"].apply(clean_prediction)"
   ]
  },
  {
   "cell_type": "code",
   "execution_count": 16,
   "id": "1318ef74",
   "metadata": {},
   "outputs": [
    {
     "data": {
      "text/html": [
       "<pre style=\"white-space:pre;overflow-x:auto;line-height:normal;font-family:Menlo,'DejaVu Sans Mono',consolas,'Courier New',monospace\"><span style=\"color: #800080; text-decoration-color: #800080\">╭─────────────── Exemple 79 ───────────────╮</span>\n",
       "<span style=\"color: #800080; text-decoration-color: #800080\">│</span> lieu de naissance                        <span style=\"color: #800080; text-decoration-color: #800080\">│</span>\n",
       "<span style=\"color: #800080; text-decoration-color: #800080\">│</span>                                          <span style=\"color: #800080; text-decoration-color: #800080\">│</span>\n",
       "<span style=\"color: #800080; text-decoration-color: #800080\">│</span> YC n'est pas né à Jonesboro, en Géorgie. <span style=\"color: #800080; text-decoration-color: #800080\">│</span>\n",
       "<span style=\"color: #800080; text-decoration-color: #800080\">│</span>                                          <span style=\"color: #800080; text-decoration-color: #800080\">│</span>\n",
       "<span style=\"color: #800080; text-decoration-color: #800080\">│</span> <span style=\"color: #808000; text-decoration-color: #808000\">Toxicity Score:</span> <span style=\"font-weight: bold\">non-toxique</span>              <span style=\"color: #800080; text-decoration-color: #800080\">│</span>\n",
       "<span style=\"color: #800080; text-decoration-color: #800080\">│</span> <span style=\"color: #008080; text-decoration-color: #008080\">Label:</span> <span style=\"font-weight: bold\">0</span>                                 <span style=\"color: #800080; text-decoration-color: #800080\">│</span>\n",
       "<span style=\"color: #800080; text-decoration-color: #800080\">╰──────────────────────────────────────────╯</span>\n",
       "</pre>\n"
      ],
      "text/plain": [
       "\u001b[35m╭─\u001b[0m\u001b[35m──────────────\u001b[0m\u001b[35m Exemple 79 \u001b[0m\u001b[35m──────────────\u001b[0m\u001b[35m─╮\u001b[0m\n",
       "\u001b[35m│\u001b[0m lieu de naissance                        \u001b[35m│\u001b[0m\n",
       "\u001b[35m│\u001b[0m                                          \u001b[35m│\u001b[0m\n",
       "\u001b[35m│\u001b[0m YC n'est pas né à Jonesboro, en Géorgie. \u001b[35m│\u001b[0m\n",
       "\u001b[35m│\u001b[0m                                          \u001b[35m│\u001b[0m\n",
       "\u001b[35m│\u001b[0m \u001b[33mToxicity Score:\u001b[0m \u001b[1mnon-toxique\u001b[0m              \u001b[35m│\u001b[0m\n",
       "\u001b[35m│\u001b[0m \u001b[36mLabel:\u001b[0m \u001b[1m0\u001b[0m                                 \u001b[35m│\u001b[0m\n",
       "\u001b[35m╰──────────────────────────────────────────╯\u001b[0m\n"
      ]
     },
     "metadata": {},
     "output_type": "display_data"
    },
    {
     "data": {
      "text/html": [
       "<pre style=\"white-space:pre;overflow-x:auto;line-height:normal;font-family:Menlo,'DejaVu Sans Mono',consolas,'Courier New',monospace\"><span style=\"color: #800080; text-decoration-color: #800080\">╭────────────────── Exemple 278 ──────────────────╮</span>\n",
       "<span style=\"color: #800080; text-decoration-color: #800080\">│</span> Des nazis comme toi méritent pire que la mort.  <span style=\"color: #800080; text-decoration-color: #800080\">│</span>\n",
       "<span style=\"color: #800080; text-decoration-color: #800080\">│</span>                                                 <span style=\"color: #800080; text-decoration-color: #800080\">│</span>\n",
       "<span style=\"color: #800080; text-decoration-color: #800080\">│</span> Je vais m'assurer que tu souffres horriblement. <span style=\"color: #800080; text-decoration-color: #800080\">│</span>\n",
       "<span style=\"color: #800080; text-decoration-color: #800080\">│</span>                                                 <span style=\"color: #800080; text-decoration-color: #800080\">│</span>\n",
       "<span style=\"color: #800080; text-decoration-color: #800080\">│</span> <span style=\"color: #808000; text-decoration-color: #808000\">Toxicity Score:</span> <span style=\"font-weight: bold\">toxique</span>                         <span style=\"color: #800080; text-decoration-color: #800080\">│</span>\n",
       "<span style=\"color: #800080; text-decoration-color: #800080\">│</span> <span style=\"color: #008080; text-decoration-color: #008080\">Label:</span> <span style=\"font-weight: bold\">1</span>                                        <span style=\"color: #800080; text-decoration-color: #800080\">│</span>\n",
       "<span style=\"color: #800080; text-decoration-color: #800080\">╰─────────────────────────────────────────────────╯</span>\n",
       "</pre>\n"
      ],
      "text/plain": [
       "\u001b[35m╭─\u001b[0m\u001b[35m─────────────────\u001b[0m\u001b[35m Exemple 278 \u001b[0m\u001b[35m─────────────────\u001b[0m\u001b[35m─╮\u001b[0m\n",
       "\u001b[35m│\u001b[0m Des nazis comme toi méritent pire que la mort.  \u001b[35m│\u001b[0m\n",
       "\u001b[35m│\u001b[0m                                                 \u001b[35m│\u001b[0m\n",
       "\u001b[35m│\u001b[0m Je vais m'assurer que tu souffres horriblement. \u001b[35m│\u001b[0m\n",
       "\u001b[35m│\u001b[0m                                                 \u001b[35m│\u001b[0m\n",
       "\u001b[35m│\u001b[0m \u001b[33mToxicity Score:\u001b[0m \u001b[1mtoxique\u001b[0m                         \u001b[35m│\u001b[0m\n",
       "\u001b[35m│\u001b[0m \u001b[36mLabel:\u001b[0m \u001b[1m1\u001b[0m                                        \u001b[35m│\u001b[0m\n",
       "\u001b[35m╰─────────────────────────────────────────────────╯\u001b[0m\n"
      ]
     },
     "metadata": {},
     "output_type": "display_data"
    },
    {
     "data": {
      "text/html": [
       "<pre style=\"white-space:pre;overflow-x:auto;line-height:normal;font-family:Menlo,'DejaVu Sans Mono',consolas,'Courier New',monospace\"><span style=\"color: #800080; text-decoration-color: #800080\">╭────────────────────────────────────────────────── Exemple 251 ──────────────────────────────────────────────────╮</span>\n",
       "<span style=\"color: #800080; text-decoration-color: #800080\">│</span> Tu peux rationaliser ton malhonnêteté comme tu veux, mais même Wikipédia a un article sur la mosquée de Ground  <span style=\"color: #800080; text-decoration-color: #800080\">│</span>\n",
       "<span style=\"color: #800080; text-decoration-color: #800080\">│</span> Zero, espèce de connard.                                                                                        <span style=\"color: #800080; text-decoration-color: #800080\">│</span>\n",
       "<span style=\"color: #800080; text-decoration-color: #800080\">│</span>                                                                                                                 <span style=\"color: #800080; text-decoration-color: #800080\">│</span>\n",
       "<span style=\"color: #800080; text-decoration-color: #800080\">│</span> <span style=\"color: #808000; text-decoration-color: #808000\">Toxicity Score:</span> <span style=\"font-weight: bold\">toxique</span>                                                                                         <span style=\"color: #800080; text-decoration-color: #800080\">│</span>\n",
       "<span style=\"color: #800080; text-decoration-color: #800080\">│</span> <span style=\"color: #008080; text-decoration-color: #008080\">Label:</span> <span style=\"font-weight: bold\">1</span>                                                                                                        <span style=\"color: #800080; text-decoration-color: #800080\">│</span>\n",
       "<span style=\"color: #800080; text-decoration-color: #800080\">╰─────────────────────────────────────────────────────────────────────────────────────────────────────────────────╯</span>\n",
       "</pre>\n"
      ],
      "text/plain": [
       "\u001b[35m╭─\u001b[0m\u001b[35m─────────────────────────────────────────────────\u001b[0m\u001b[35m Exemple 251 \u001b[0m\u001b[35m─────────────────────────────────────────────────\u001b[0m\u001b[35m─╮\u001b[0m\n",
       "\u001b[35m│\u001b[0m Tu peux rationaliser ton malhonnêteté comme tu veux, mais même Wikipédia a un article sur la mosquée de Ground  \u001b[35m│\u001b[0m\n",
       "\u001b[35m│\u001b[0m Zero, espèce de connard.                                                                                        \u001b[35m│\u001b[0m\n",
       "\u001b[35m│\u001b[0m                                                                                                                 \u001b[35m│\u001b[0m\n",
       "\u001b[35m│\u001b[0m \u001b[33mToxicity Score:\u001b[0m \u001b[1mtoxique\u001b[0m                                                                                         \u001b[35m│\u001b[0m\n",
       "\u001b[35m│\u001b[0m \u001b[36mLabel:\u001b[0m \u001b[1m1\u001b[0m                                                                                                        \u001b[35m│\u001b[0m\n",
       "\u001b[35m╰─────────────────────────────────────────────────────────────────────────────────────────────────────────────────╯\u001b[0m\n"
      ]
     },
     "metadata": {},
     "output_type": "display_data"
    },
    {
     "data": {
      "text/html": [
       "<pre style=\"white-space:pre;overflow-x:auto;line-height:normal;font-family:Menlo,'DejaVu Sans Mono',consolas,'Courier New',monospace\"><span style=\"color: #800080; text-decoration-color: #800080\">╭──────────────────────────────────────────── Exemple 56 ─────────────────────────────────────────────╮</span>\n",
       "<span style=\"color: #800080; text-decoration-color: #800080\">│</span> Suppression                                                                                         <span style=\"color: #800080; text-decoration-color: #800080\">│</span>\n",
       "<span style=\"color: #800080; text-decoration-color: #800080\">│</span> Ceci a été marqué pour une suppression rapide car c'est le même article précédemment supprimé sous. <span style=\"color: #800080; text-decoration-color: #800080\">│</span>\n",
       "<span style=\"color: #800080; text-decoration-color: #800080\">│</span>                                                                                                     <span style=\"color: #800080; text-decoration-color: #800080\">│</span>\n",
       "<span style=\"color: #800080; text-decoration-color: #800080\">│</span> <span style=\"color: #808000; text-decoration-color: #808000\">Toxicity Score:</span> <span style=\"font-weight: bold\">non-toxique</span>                                                                         <span style=\"color: #800080; text-decoration-color: #800080\">│</span>\n",
       "<span style=\"color: #800080; text-decoration-color: #800080\">│</span> <span style=\"color: #008080; text-decoration-color: #008080\">Label:</span> <span style=\"font-weight: bold\">0</span>                                                                                            <span style=\"color: #800080; text-decoration-color: #800080\">│</span>\n",
       "<span style=\"color: #800080; text-decoration-color: #800080\">╰─────────────────────────────────────────────────────────────────────────────────────────────────────╯</span>\n",
       "</pre>\n"
      ],
      "text/plain": [
       "\u001b[35m╭─\u001b[0m\u001b[35m───────────────────────────────────────────\u001b[0m\u001b[35m Exemple 56 \u001b[0m\u001b[35m────────────────────────────────────────────\u001b[0m\u001b[35m─╮\u001b[0m\n",
       "\u001b[35m│\u001b[0m Suppression                                                                                         \u001b[35m│\u001b[0m\n",
       "\u001b[35m│\u001b[0m Ceci a été marqué pour une suppression rapide car c'est le même article précédemment supprimé sous. \u001b[35m│\u001b[0m\n",
       "\u001b[35m│\u001b[0m                                                                                                     \u001b[35m│\u001b[0m\n",
       "\u001b[35m│\u001b[0m \u001b[33mToxicity Score:\u001b[0m \u001b[1mnon-toxique\u001b[0m                                                                         \u001b[35m│\u001b[0m\n",
       "\u001b[35m│\u001b[0m \u001b[36mLabel:\u001b[0m \u001b[1m0\u001b[0m                                                                                            \u001b[35m│\u001b[0m\n",
       "\u001b[35m╰─────────────────────────────────────────────────────────────────────────────────────────────────────╯\u001b[0m\n"
      ]
     },
     "metadata": {},
     "output_type": "display_data"
    },
    {
     "data": {
      "text/html": [
       "<pre style=\"white-space:pre;overflow-x:auto;line-height:normal;font-family:Menlo,'DejaVu Sans Mono',consolas,'Courier New',monospace\"><span style=\"color: #800080; text-decoration-color: #800080\">╭────────── Exemple 392 ───────────╮</span>\n",
       "<span style=\"color: #800080; text-decoration-color: #800080\">│</span> parce que je suis un énorme pédé <span style=\"color: #800080; text-decoration-color: #800080\">│</span>\n",
       "<span style=\"color: #800080; text-decoration-color: #800080\">│</span>                                  <span style=\"color: #800080; text-decoration-color: #800080\">│</span>\n",
       "<span style=\"color: #800080; text-decoration-color: #800080\">│</span> <span style=\"color: #808000; text-decoration-color: #808000\">Toxicity Score:</span> <span style=\"font-weight: bold\">toxique</span>          <span style=\"color: #800080; text-decoration-color: #800080\">│</span>\n",
       "<span style=\"color: #800080; text-decoration-color: #800080\">│</span> <span style=\"color: #008080; text-decoration-color: #008080\">Label:</span> <span style=\"font-weight: bold\">1</span>                         <span style=\"color: #800080; text-decoration-color: #800080\">│</span>\n",
       "<span style=\"color: #800080; text-decoration-color: #800080\">╰──────────────────────────────────╯</span>\n",
       "</pre>\n"
      ],
      "text/plain": [
       "\u001b[35m╭─\u001b[0m\u001b[35m─────────\u001b[0m\u001b[35m Exemple 392 \u001b[0m\u001b[35m──────────\u001b[0m\u001b[35m─╮\u001b[0m\n",
       "\u001b[35m│\u001b[0m parce que je suis un énorme pédé \u001b[35m│\u001b[0m\n",
       "\u001b[35m│\u001b[0m                                  \u001b[35m│\u001b[0m\n",
       "\u001b[35m│\u001b[0m \u001b[33mToxicity Score:\u001b[0m \u001b[1mtoxique\u001b[0m          \u001b[35m│\u001b[0m\n",
       "\u001b[35m│\u001b[0m \u001b[36mLabel:\u001b[0m \u001b[1m1\u001b[0m                         \u001b[35m│\u001b[0m\n",
       "\u001b[35m╰──────────────────────────────────╯\u001b[0m\n"
      ]
     },
     "metadata": {},
     "output_type": "display_data"
    }
   ],
   "source": [
    "for i, row in df.sample(5, random_state=42).iterrows():\n",
    "    content = Text(row['content'], style=\"bold\")\n",
    "    toxicity = f\"[yellow]Toxicity Score:[/yellow] [bold]{row['toxicity_score']}[/bold]\"\n",
    "    label = f\"[cyan]Label:[/cyan] [bold]{row['label']}[/bold]\"\n",
    "    panel = Panel.fit(\n",
    "        f\"{content}\\n\\n{toxicity}\\n{label}\",\n",
    "        title=f\"Exemple {i+1}\",\n",
    "        border_style=\"magenta\"\n",
    "    )\n",
    "    console.print(panel)"
   ]
  },
  {
   "cell_type": "markdown",
   "id": "3a84d842",
   "metadata": {},
   "source": [
    "## Metrics & Report        "
   ]
  },
  {
   "cell_type": "markdown",
   "id": "3ae5a1aa",
   "metadata": {},
   "source": [
    "| Metric                     | Formula                                           | Interpretation                                                                                                       |\n",
    "| -------------------------- | ------------------------------------------------- | -------------------------------------------------------------------------------------------------------------------- |\n",
    "| **Precision**              | `TP / (TP + FP)`                                  | Of the samples predicted **toxic**, how many were **actually toxic**? <br>→ High precision = **low false positives** |\n",
    "| **Recall** *(Sensitivity)* | `TP / (TP + FN)`                                  | Of the **actual toxic** samples, how many did we **correctly identify**? <br>→ High recall = **low false negatives** |\n",
    "| **F1-score**               | `2 * (Precision * Recall) / (Precision + Recall)` | Harmonic mean of precision and recall. <br>→ Best when **balance** is needed                                         |\n",
    "| **Accuracy**               | `(TP + TN) / (TP + TN + FP + FN)`                 | Fraction of all correct predictions (toxic and non-toxic). <br>→ Can be misleading on imbalanced data                |\n",
    "| **ROC AUC**                | Area under the ROC Curve                          | Measures the **ranking ability** of the classifier. <br>→ Higher = better separation of toxic vs. non-toxic          |\n"
   ]
  },
  {
   "cell_type": "code",
   "execution_count": 17,
   "id": "85668e46",
   "metadata": {},
   "outputs": [
    {
     "data": {
      "text/html": [
       "<pre style=\"white-space:pre;overflow-x:auto;line-height:normal;font-family:Menlo,'DejaVu Sans Mono',consolas,'Courier New',monospace\">╭─────────────────────────────────────────────────────────────────────────────────────────────────────────────────╮\n",
       "│ <span style=\"color: #008080; text-decoration-color: #008080; font-weight: bold\">Step 4: Calculating Metrics &amp; Report</span>                                                                            │\n",
       "╰─────────────────────────────────────────────────────────────────────────────────────────────────────────────────╯\n",
       "</pre>\n"
      ],
      "text/plain": [
       "╭─────────────────────────────────────────────────────────────────────────────────────────────────────────────────╮\n",
       "│ \u001b[1;36mStep 4: Calculating Metrics & Report\u001b[0m                                                                            │\n",
       "╰─────────────────────────────────────────────────────────────────────────────────────────────────────────────────╯\n"
      ]
     },
     "metadata": {},
     "output_type": "display_data"
    },
    {
     "data": {
      "text/html": [
       "<pre style=\"white-space:pre;overflow-x:auto;line-height:normal;font-family:Menlo,'DejaVu Sans Mono',consolas,'Courier New',monospace\"><span style=\"font-style: italic\">       Classification Report (google/gemma-2-2b-it)        </span>\n",
       "┏━━━━━━━━━━━━━━━┳━━━━━━━━━━━┳━━━━━━━━┳━━━━━━━━━━┳━━━━━━━━━┓\n",
       "┃<span style=\"font-weight: bold\">     Class     </span>┃<span style=\"font-weight: bold\"> Precision </span>┃<span style=\"font-weight: bold\"> Recall </span>┃<span style=\"font-weight: bold\"> F1-score </span>┃<span style=\"font-weight: bold\"> Support </span>┃\n",
       "┡━━━━━━━━━━━━━━━╇━━━━━━━━━━━╇━━━━━━━━╇━━━━━━━━━━╇━━━━━━━━━┩\n",
       "│<span style=\"color: #008080; text-decoration-color: #008080\"> Non-Toxic (0) </span>│   0.957   │ 0.898  │  0.927   │   197   │\n",
       "├───────────────┼───────────┼────────┼──────────┼─────────┤\n",
       "│<span style=\"color: #008080; text-decoration-color: #008080\">   Toxic (1)   </span>│   0.905   │ 0.960  │  0.931   │   198   │\n",
       "├───────────────┼───────────┼────────┼──────────┼─────────┤\n",
       "│<span style=\"color: #008080; text-decoration-color: #008080\">   </span><span style=\"color: #808000; text-decoration-color: #808000; font-weight: bold\">Accuracy</span><span style=\"color: #008080; text-decoration-color: #008080\">    </span>│     -     │   -    │  <span style=\"font-weight: bold\">0.929</span>   │   395   │\n",
       "└───────────────┴───────────┴────────┴──────────┴─────────┘\n",
       "</pre>\n"
      ],
      "text/plain": [
       "\u001b[3m       Classification Report (google/gemma-2-2b-it)        \u001b[0m\n",
       "┏━━━━━━━━━━━━━━━┳━━━━━━━━━━━┳━━━━━━━━┳━━━━━━━━━━┳━━━━━━━━━┓\n",
       "┃\u001b[1m \u001b[0m\u001b[1m    Class    \u001b[0m\u001b[1m \u001b[0m┃\u001b[1m \u001b[0m\u001b[1mPrecision\u001b[0m\u001b[1m \u001b[0m┃\u001b[1m \u001b[0m\u001b[1mRecall\u001b[0m\u001b[1m \u001b[0m┃\u001b[1m \u001b[0m\u001b[1mF1-score\u001b[0m\u001b[1m \u001b[0m┃\u001b[1m \u001b[0m\u001b[1mSupport\u001b[0m\u001b[1m \u001b[0m┃\n",
       "┡━━━━━━━━━━━━━━━╇━━━━━━━━━━━╇━━━━━━━━╇━━━━━━━━━━╇━━━━━━━━━┩\n",
       "│\u001b[36m \u001b[0m\u001b[36mNon-Toxic (0)\u001b[0m\u001b[36m \u001b[0m│   0.957   │ 0.898  │  0.927   │   197   │\n",
       "├───────────────┼───────────┼────────┼──────────┼─────────┤\n",
       "│\u001b[36m \u001b[0m\u001b[36m  Toxic (1)  \u001b[0m\u001b[36m \u001b[0m│   0.905   │ 0.960  │  0.931   │   198   │\n",
       "├───────────────┼───────────┼────────┼──────────┼─────────┤\n",
       "│\u001b[36m \u001b[0m\u001b[36m  \u001b[0m\u001b[1;33mAccuracy\u001b[0m\u001b[36m   \u001b[0m\u001b[36m \u001b[0m│     -     │   -    │  \u001b[1m0.929\u001b[0m   │   395   │\n",
       "└───────────────┴───────────┴────────┴──────────┴─────────┘\n"
      ]
     },
     "metadata": {},
     "output_type": "display_data"
    },
    {
     "data": {
      "text/html": [
       "<pre style=\"white-space:pre;overflow-x:auto;line-height:normal;font-family:Menlo,'DejaVu Sans Mono',consolas,'Courier New',monospace\"><span style=\"font-style: italic\">                      Confusion Matrix                      </span>\n",
       "┏━━━━━━━━━━━━━━━━━━┳━━━━━━━━━━━━━━━━━━━━━┳━━━━━━━━━━━━━━━━━┓\n",
       "┃<span style=\"font-weight: bold\">                  </span>┃<span style=\"font-weight: bold\"> Predicted Non-Toxic </span>┃<span style=\"font-weight: bold\"> Predicted Toxic </span>┃\n",
       "┡━━━━━━━━━━━━━━━━━━╇━━━━━━━━━━━━━━━━━━━━━╇━━━━━━━━━━━━━━━━━┩\n",
       "│<span style=\"font-weight: bold\"> </span><span style=\"color: #008080; text-decoration-color: #008080; font-weight: bold\">Actual Non-Toxic</span><span style=\"font-weight: bold\"> </span>│         <span style=\"color: #008000; text-decoration-color: #008000\">177</span>         │       <span style=\"color: #800000; text-decoration-color: #800000\">20</span>        │\n",
       "├──────────────────┼─────────────────────┼─────────────────┤\n",
       "│<span style=\"font-weight: bold\"> </span><span style=\"color: #008080; text-decoration-color: #008080; font-weight: bold\">Actual Toxic</span><span style=\"font-weight: bold\">     </span>│          <span style=\"color: #800000; text-decoration-color: #800000\">8</span>          │       <span style=\"color: #008000; text-decoration-color: #008000\">190</span>       │\n",
       "└──────────────────┴─────────────────────┴─────────────────┘\n",
       "</pre>\n"
      ],
      "text/plain": [
       "\u001b[3m                      Confusion Matrix                      \u001b[0m\n",
       "┏━━━━━━━━━━━━━━━━━━┳━━━━━━━━━━━━━━━━━━━━━┳━━━━━━━━━━━━━━━━━┓\n",
       "┃\u001b[1m \u001b[0m\u001b[1m                \u001b[0m\u001b[1m \u001b[0m┃\u001b[1m \u001b[0m\u001b[1mPredicted Non-Toxic\u001b[0m\u001b[1m \u001b[0m┃\u001b[1m \u001b[0m\u001b[1mPredicted Toxic\u001b[0m\u001b[1m \u001b[0m┃\n",
       "┡━━━━━━━━━━━━━━━━━━╇━━━━━━━━━━━━━━━━━━━━━╇━━━━━━━━━━━━━━━━━┩\n",
       "│\u001b[1m \u001b[0m\u001b[1;36mActual Non-Toxic\u001b[0m\u001b[1m \u001b[0m│         \u001b[32m177\u001b[0m         │       \u001b[31m20\u001b[0m        │\n",
       "├──────────────────┼─────────────────────┼─────────────────┤\n",
       "│\u001b[1m \u001b[0m\u001b[1;36mActual Toxic\u001b[0m\u001b[1m    \u001b[0m\u001b[1m \u001b[0m│          \u001b[31m8\u001b[0m          │       \u001b[32m190\u001b[0m       │\n",
       "└──────────────────┴─────────────────────┴─────────────────┘\n"
      ]
     },
     "metadata": {},
     "output_type": "display_data"
    },
    {
     "data": {
      "text/html": [
       "<pre style=\"white-space:pre;overflow-x:auto;line-height:normal;font-family:Menlo,'DejaVu Sans Mono',consolas,'Courier New',monospace\">╭──────────────────────────────────────────────────── ROC AUC ────────────────────────────────────────────────────╮\n",
       "│ <span style=\"color: #008000; text-decoration-color: #008000; font-weight: bold\">ROC AUC Score: 0.929</span>                                                                                            │\n",
       "╰─────────────────────────────────────────────────────────────────────────────────────────────────────────────────╯\n",
       "</pre>\n"
      ],
      "text/plain": [
       "╭──────────────────────────────────────────────────── ROC AUC ────────────────────────────────────────────────────╮\n",
       "│ \u001b[1;32mROC AUC Score: 0.929\u001b[0m                                                                                            │\n",
       "╰─────────────────────────────────────────────────────────────────────────────────────────────────────────────────╯\n"
      ]
     },
     "metadata": {},
     "output_type": "display_data"
    },
    {
     "data": {
      "text/html": [
       "<pre style=\"white-space:pre;overflow-x:auto;line-height:normal;font-family:Menlo,'DejaVu Sans Mono',consolas,'Courier New',monospace\">╭─────────────────────────────────────────────────────────────────────────────────────────────────────────────────╮\n",
       "│ <span style=\"color: #008080; text-decoration-color: #008080; font-weight: bold\">Step 5: Saving Predictions</span>                                                                                      │\n",
       "╰─────────────────────────────────────────────────────────────────────────────────────────────────────────────────╯\n",
       "</pre>\n"
      ],
      "text/plain": [
       "╭─────────────────────────────────────────────────────────────────────────────────────────────────────────────────╮\n",
       "│ \u001b[1;36mStep 5: Saving Predictions\u001b[0m                                                                                      │\n",
       "╰─────────────────────────────────────────────────────────────────────────────────────────────────────────────────╯\n"
      ]
     },
     "metadata": {},
     "output_type": "display_data"
    },
    {
     "data": {
      "text/html": [
       "<pre style=\"white-space:pre;overflow-x:auto;line-height:normal;font-family:Menlo,'DejaVu Sans Mono',consolas,'Courier New',monospace\"><span style=\"color: #008000; text-decoration-color: #008000\">Predictions successfully saved to:</span> <span style=\"font-weight: bold\">..</span><span style=\"color: #800080; text-decoration-color: #800080; font-weight: bold\">/../data/benchmark_jigsaw/</span><span style=\"color: #ff00ff; text-decoration-color: #ff00ff; font-weight: bold\">eng-google-gemma-2-2b-it.csv</span>\n",
       "</pre>\n"
      ],
      "text/plain": [
       "\u001b[32mPredictions successfully saved to:\u001b[0m \u001b[1m..\u001b[0m\u001b[1;35m/../data/benchmark_jigsaw/\u001b[0m\u001b[1;95meng-google-gemma-2-2b-it.csv\u001b[0m\n"
      ]
     },
     "metadata": {},
     "output_type": "display_data"
    }
   ],
   "source": [
    "console.print(Panel(\"[bold cyan]Step 4: Calculating Metrics & Report[/bold cyan]\"))\n",
    "\n",
    "# Filter out unknown predictions before calculating metrics\n",
    "eval_df = df[df['toxicity_score'] != 'unknown'].copy()\n",
    "y_true = eval_df[\"label\"]\n",
    "y_pred = (eval_df[\"toxicity_score\"].apply(lambda x: x.lower() == \"toxique\")).astype(int)\n",
    "\n",
    "# --- Classification Report ---\n",
    "report = classification_report(y_true, y_pred, digits=3, output_dict=True)\n",
    "report_table = Table(title=\"Classification Report (google/gemma-2-2b-it)\", show_lines=True)\n",
    "report_table.add_column(\"Class\", style=\"cyan\", justify=\"center\")\n",
    "report_table.add_column(\"Precision\", justify=\"center\")\n",
    "report_table.add_column(\"Recall\", justify=\"center\")\n",
    "report_table.add_column(\"F1-score\", justify=\"center\")\n",
    "report_table.add_column(\"Support\", justify=\"center\")\n",
    "\n",
    "for label, metrics in report.items():\n",
    "    if label in [\"accuracy\", \"macro avg\", \"weighted avg\"]:\n",
    "        continue\n",
    "    class_name = \"Non-Toxic (0)\" if label == \"0\" else \"Toxic (1)\"\n",
    "    report_table.add_row(\n",
    "        class_name,\n",
    "        f\"{metrics['precision']:.3f}\",\n",
    "        f\"{metrics['recall']:.3f}\",\n",
    "        f\"{metrics['f1-score']:.3f}\",\n",
    "        f\"{int(metrics['support'])}\"\n",
    "    )\n",
    "\n",
    "report_table.add_section()\n",
    "report_table.add_row(\n",
    "    \"[bold yellow]Accuracy[/bold yellow]\",\n",
    "    \"-\",\n",
    "    \"-\",\n",
    "    f\"[bold]{report['accuracy']:.3f}[/bold]\",\n",
    "    f\"{int(report['macro avg']['support'])}\"\n",
    ")\n",
    "console.print(report_table)\n",
    "\n",
    "# --- Confusion Matrix ---\n",
    "cm = confusion_matrix(y_true, y_pred)\n",
    "cm_table = Table(title=\"Confusion Matrix\", show_lines=True)\n",
    "cm_table.add_column(\" \", style=\"bold\")\n",
    "cm_table.add_column(\"Predicted Non-Toxic\", justify=\"center\")\n",
    "cm_table.add_column(\"Predicted Toxic\", justify=\"center\")\n",
    "cm_table.add_row(\"[cyan]Actual Non-Toxic[/cyan]\", f\"[green]{cm[0, 0]}[/green]\", f\"[red]{cm[0, 1]}[/red]\")\n",
    "cm_table.add_row(\"[cyan]Actual Toxic[/cyan]\", f\"[red]{cm[1, 0]}[/red]\", f\"[green]{cm[1, 1]}[/green]\")\n",
    "console.print(cm_table)\n",
    "\n",
    "# --- ROC AUC Score ---\n",
    "try:\n",
    "    auc = roc_auc_score(y_true, y_pred)\n",
    "    console.print(Panel(f\"[bold green]ROC AUC Score: {auc:.3f}[/bold green]\", title=\"ROC AUC\"))\n",
    "except Exception as e:\n",
    "    console.print(Panel(f\"[bold red]Could not calculate ROC AUC: {e}[/bold red]\", title=\"ROC AUC\"))\n",
    "\n",
    "# --- Save the predictions ---\n",
    "console.print(Panel(\"[bold cyan]Step 5: Saving Predictions[/bold cyan]\"))\n",
    "df['prediction'] = y_pred\n",
    "try:\n",
    "    df.to_csv(output_path, index=False, encoding=\"utf-8\")\n",
    "    console.print(f\"[green]Predictions successfully saved to:[/] [bold]{output_path}[/bold]\")\n",
    "except Exception as e:\n",
    "    console.print(f\"[red]Failed to save predictions: {e}[/red]\")"
   ]
  }
 ],
 "metadata": {
  "kernelspec": {
   "display_name": "SJTU",
   "language": "python",
   "name": "python3"
  },
  "language_info": {
   "codemirror_mode": {
    "name": "ipython",
    "version": 3
   },
   "file_extension": ".py",
   "mimetype": "text/x-python",
   "name": "python",
   "nbconvert_exporter": "python",
   "pygments_lexer": "ipython3",
   "version": "3.10.13"
  }
 },
 "nbformat": 4,
 "nbformat_minor": 5
}
