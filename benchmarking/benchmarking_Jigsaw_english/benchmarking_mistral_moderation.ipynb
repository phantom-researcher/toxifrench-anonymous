{
 "cells": [
  {
   "cell_type": "markdown",
   "id": "540ef521",
   "metadata": {},
   "source": [
    "# Benchmarking [Mistral Moderation API](https://mistral.ai/fr/news/mistral-moderation)"
   ]
  },
  {
   "cell_type": "markdown",
   "id": "70cee7d5",
   "metadata": {},
   "source": [
    "The following tabular summarizes the categories that are evaluated by Mistral API, we put ✅ for the categories that enter our definition of `toxicity` and ❌ for those which are not considered as toxic.\n",
    "\n",
    "| Catégorie                      | Description                                                                                                                                                                                                                                                                                                                                                                                                                                                                                                 |\n",
    "|--------------------------------|-------------------------------------------------------------------------------------------------------------------------------------------------------------------------------------------------------------------------------------------------------------------------------------------------------------------------------------------------------------------------------------------------------------------------------------------------------------------------------------------------------------|\n",
    "| **Sexual** ✅                     | Matériel qui décrit, représente ou promeut explicitement des activités sexuelles, la nudité ou des services sexuels. Cela inclut le contenu pornographique, les descriptions graphiques d'actes sexuels et la sollicitation à des fins sexuelles. Le contenu éducatif ou médical sur la santé sexuelle présenté de manière non explicite et informative est généralement exempté.                                                        |\n",
    "| **Hate and Discrimination** ✅   | Contenu exprimant des préjugés, de l'hostilité ou prônant la discrimination envers des individus ou groupes sur la base de caractéristiques protégées (race, ethnie, religion, genre, orientation sexuelle, handicap, etc.). Cela inclut les insultes, le langage déshumanisant, les appels à l'exclusion ou à la violence ciblée, ainsi que le harcèlement persistant fondé sur ces caractéristiques.                                  |\n",
    "| **Violence and Threats** ✅      | Contenu décrivant, glorifiant, incitant ou menaçant de violence physique envers des individus ou groupes. Cela inclut les descriptions graphiques de blessures ou de décès, les menaces explicites de préjudice et les instructions pour commettre des actes violents. Cette catégorie couvre les menaces ciblées ainsi que la promotion ou la glorification générale de la violence.                                               |\n",
    "| **Dangerous and Criminal Content** ✅ | Contenu promouvant ou fournissant des instructions pour des activités illégales ou des comportements extrêmement dangereux présentant un risque important de préjudice physique, de décès ou de conséquences juridiques. Cela inclut la fabrication d'armes ou d'explosifs, l'encouragement à des comportements à risque extrême, et la promotion de crimes non violents comme la fraude, le vol ou le trafic de drogue. |\n",
    "| **Self-Harm** ✅                 | Contenu promouvant, instruisant, planifiant ou encourageant l'automutilation, le suicide, les troubles alimentaires ou d'autres comportements autodestructeurs. Cela inclut les méthodes détaillées, la glorification, les déclarations d'intention, les défis dangereux et le vocabulaire associé.                                                                                                                                |\n",
    "| **Health** ❌                    | Contenu contenant ou cherchant à obtenir des conseils médicaux détaillés ou personnalisés.                                                                                                                                                                                                                                                                                                                                                                          |\n",
    "| **Financial** ❌                 | Contenu contenant ou cherchant à obtenir des conseils financiers détaillés ou personnalisés.                                                                                                                                                                                                                                                                                                                                                                         |\n",
    "| **Law** ❌                       | Contenu contenant ou cherchant à obtenir des conseils juridiques détaillés ou personnalisés.                                                                                                                                                                                                                                                                                                                                                                        |\n",
    "| **PII** ❌                       | Contenu demandant, partageant ou tentant d'obtenir des informations personnelles identifiantes telles que noms complets, adresses, numéros de téléphone, numéros de sécurité sociale ou coordonnées bancaires.                                                                                                                                                                                                                                                        |"
   ]
  },
  {
   "cell_type": "markdown",
   "id": "922dd626",
   "metadata": {},
   "source": [
    "## Libraries"
   ]
  },
  {
   "cell_type": "code",
   "execution_count": 1,
   "id": "103136ac",
   "metadata": {},
   "outputs": [],
   "source": [
    "from mistralai import Mistral\n",
    "from pathlib import Path\n",
    "import os\n",
    "import pandas as pd\n",
    "from tqdm.rich import tqdm\n",
    "from sklearn.metrics import (\n",
    "    classification_report, confusion_matrix, roc_auc_score\n",
    ")\n",
    "from rich.console import Console\n",
    "from rich.table import Table\n",
    "from rich.panel import Panel\n",
    "from rich.text import Text\n",
    "import warnings\n",
    "\n",
    "tqdm.pandas(desc=\"Fetching moderation scores\")\n",
    "console = Console()\n",
    "warnings.filterwarnings(\"ignore\")"
   ]
  },
  {
   "cell_type": "markdown",
   "id": "f80fec44",
   "metadata": {},
   "source": [
    "## Global variables"
   ]
  },
  {
   "cell_type": "code",
   "execution_count": 2,
   "id": "345da9c6",
   "metadata": {},
   "outputs": [],
   "source": [
    "ROOT = Path(\"../..\")\n",
    "DATA_DIR = ROOT / \"data\"\n",
    "BENCHMARK_PATH = DATA_DIR / \"benchmark_jigsaw\" / \"benchmark_jigsaw.csv\"\n",
    "output_path = DATA_DIR / \"benchmark_jigsaw\" / \"eng-mistral_moderation.csv\"\n",
    "API_KEY_PATH = DATA_DIR / \"confidential\" / \"MISTRAL_API.txt\"\n",
    "console = Console()"
   ]
  },
  {
   "cell_type": "code",
   "execution_count": 3,
   "id": "aebace85",
   "metadata": {},
   "outputs": [],
   "source": [
    "os.environ[\"HTTP_PROXY\"] = \"socks5h://127.0.0.1:1080\"\n",
    "os.environ[\"HTTPS_PROXY\"] = \"socks5h://127.0.0.1:1080\""
   ]
  },
  {
   "cell_type": "code",
   "execution_count": 4,
   "id": "61336530",
   "metadata": {},
   "outputs": [],
   "source": [
    "client = Mistral(api_key=API_KEY_PATH.read_text().strip())"
   ]
  },
  {
   "cell_type": "markdown",
   "id": "c97e432b",
   "metadata": {},
   "source": [
    "## Load dataset"
   ]
  },
  {
   "cell_type": "code",
   "execution_count": 5,
   "id": "5b4bff82",
   "metadata": {},
   "outputs": [
    {
     "data": {
      "text/html": [
       "<pre style=\"white-space:pre;overflow-x:auto;line-height:normal;font-family:Menlo,'DejaVu Sans Mono',consolas,'Courier New',monospace\"><span style=\"font-style: italic\">     Label Counts     </span>                                                                                             \n",
       "┏━━━━━━━━━━━━┳━━━━━━━┓                                                                                             \n",
       "┃<span style=\"font-weight: bold\">   Label    </span>┃<span style=\"font-weight: bold\"> Count </span>┃                                                                                             \n",
       "┡━━━━━━━━━━━━╇━━━━━━━┩                                                                                             \n",
       "│<span style=\"color: #008080; text-decoration-color: #008080\"> Total Rows </span>│<span style=\"color: #808000; text-decoration-color: #808000\">  396  </span>│                                                                                             \n",
       "├────────────┼───────┤                                                                                             \n",
       "│<span style=\"color: #008080; text-decoration-color: #008080\">     0      </span>│<span style=\"color: #808000; text-decoration-color: #808000\">  198  </span>│                                                                                             \n",
       "├────────────┼───────┤                                                                                             \n",
       "│<span style=\"color: #008080; text-decoration-color: #008080\">     1      </span>│<span style=\"color: #808000; text-decoration-color: #808000\">  198  </span>│                                                                                             \n",
       "└────────────┴───────┘                                                                                             \n",
       "</pre>\n"
      ],
      "text/plain": [
       "\u001b[3m     Label Counts     \u001b[0m                                                                                             \n",
       "┏━━━━━━━━━━━━┳━━━━━━━┓                                                                                             \n",
       "┃\u001b[1m \u001b[0m\u001b[1m  Label   \u001b[0m\u001b[1m \u001b[0m┃\u001b[1m \u001b[0m\u001b[1mCount\u001b[0m\u001b[1m \u001b[0m┃                                                                                             \n",
       "┡━━━━━━━━━━━━╇━━━━━━━┩                                                                                             \n",
       "│\u001b[36m \u001b[0m\u001b[36mTotal Rows\u001b[0m\u001b[36m \u001b[0m│\u001b[33m \u001b[0m\u001b[33m 396 \u001b[0m\u001b[33m \u001b[0m│                                                                                             \n",
       "├────────────┼───────┤                                                                                             \n",
       "│\u001b[36m \u001b[0m\u001b[36m    0     \u001b[0m\u001b[36m \u001b[0m│\u001b[33m \u001b[0m\u001b[33m 198 \u001b[0m\u001b[33m \u001b[0m│                                                                                             \n",
       "├────────────┼───────┤                                                                                             \n",
       "│\u001b[36m \u001b[0m\u001b[36m    1     \u001b[0m\u001b[36m \u001b[0m│\u001b[33m \u001b[0m\u001b[33m 198 \u001b[0m\u001b[33m \u001b[0m│                                                                                             \n",
       "└────────────┴───────┘                                                                                             \n"
      ]
     },
     "metadata": {},
     "output_type": "display_data"
    },
    {
     "data": {
      "text/html": [
       "<div>\n",
       "<style scoped>\n",
       "    .dataframe tbody tr th:only-of-type {\n",
       "        vertical-align: middle;\n",
       "    }\n",
       "\n",
       "    .dataframe tbody tr th {\n",
       "        vertical-align: top;\n",
       "    }\n",
       "\n",
       "    .dataframe thead th {\n",
       "        text-align: right;\n",
       "    }\n",
       "</style>\n",
       "<table border=\"1\" class=\"dataframe\">\n",
       "  <thead>\n",
       "    <tr style=\"text-align: right;\">\n",
       "      <th></th>\n",
       "      <th>msg_id</th>\n",
       "      <th>original_text</th>\n",
       "      <th>content</th>\n",
       "      <th>label</th>\n",
       "    </tr>\n",
       "  </thead>\n",
       "  <tbody>\n",
       "    <tr>\n",
       "      <th>78</th>\n",
       "      <td>ddb11abeca87bb3c</td>\n",
       "      <td>birth place  \\n\\n YC was not born in Jonesboro...</td>\n",
       "      <td>lieu de naissance  \\n\\nYC n'est pas né à Jones...</td>\n",
       "      <td>0</td>\n",
       "    </tr>\n",
       "    <tr>\n",
       "      <th>277</th>\n",
       "      <td>6e9826f166b7d7fe</td>\n",
       "      <td>Nazis like you deserve worse than death. \\n\\nI...</td>\n",
       "      <td>Des nazis comme toi méritent pire que la mort....</td>\n",
       "      <td>1</td>\n",
       "    </tr>\n",
       "    <tr>\n",
       "      <th>250</th>\n",
       "      <td>5bff63ef016af9be</td>\n",
       "      <td>You can rationalize your dishonesty however yo...</td>\n",
       "      <td>Tu peux rationaliser ton malhonnêteté comme tu...</td>\n",
       "      <td>1</td>\n",
       "    </tr>\n",
       "    <tr>\n",
       "      <th>55</th>\n",
       "      <td>e8ea81d9eac81735</td>\n",
       "      <td>Deletion\\nThis has been tagged for Speedy Dele...</td>\n",
       "      <td>Suppression  \\nCeci a été marqué pour une supp...</td>\n",
       "      <td>0</td>\n",
       "    </tr>\n",
       "    <tr>\n",
       "      <th>391</th>\n",
       "      <td>bf5aae5b17fb0b77</td>\n",
       "      <td>because I am a huge faggot</td>\n",
       "      <td>parce que je suis un énorme pédé</td>\n",
       "      <td>1</td>\n",
       "    </tr>\n",
       "  </tbody>\n",
       "</table>\n",
       "</div>"
      ],
      "text/plain": [
       "               msg_id                                      original_text  \\\n",
       "78   ddb11abeca87bb3c  birth place  \\n\\n YC was not born in Jonesboro...   \n",
       "277  6e9826f166b7d7fe  Nazis like you deserve worse than death. \\n\\nI...   \n",
       "250  5bff63ef016af9be  You can rationalize your dishonesty however yo...   \n",
       "55   e8ea81d9eac81735  Deletion\\nThis has been tagged for Speedy Dele...   \n",
       "391  bf5aae5b17fb0b77                         because I am a huge faggot   \n",
       "\n",
       "                                               content  label  \n",
       "78   lieu de naissance  \\n\\nYC n'est pas né à Jones...      0  \n",
       "277  Des nazis comme toi méritent pire que la mort....      1  \n",
       "250  Tu peux rationaliser ton malhonnêteté comme tu...      1  \n",
       "55   Suppression  \\nCeci a été marqué pour une supp...      0  \n",
       "391                   parce que je suis un énorme pédé      1  "
      ]
     },
     "execution_count": 5,
     "metadata": {},
     "output_type": "execute_result"
    }
   ],
   "source": [
    "df = pd.read_csv(BENCHMARK_PATH, encoding=\"utf-8\")\n",
    "df = df.dropna(subset=[\"content\", \"label\"])\n",
    "df[\"label\"] = df[\"label\"].astype(int)\n",
    "\n",
    "label_counts = df[\"label\"].value_counts().reset_index()\n",
    "label_counts.columns = [\"label\", \"count\"]\n",
    "table = Table(title=\"Label Counts\", show_lines=True)\n",
    "table.add_column(\"Label\", justify=\"center\", style=\"cyan\")\n",
    "table.add_column(\"Count\", justify=\"center\", style=\"yellow\")\n",
    "table.add_row(\"Total Rows\", str(len(df)))\n",
    "for _, row in label_counts.iterrows():\n",
    "    table.add_row(str(row[\"label\"]), str(row[\"count\"]))\n",
    "console.print(table, justify=\"left\")\n",
    "df.sample(5, random_state=42)"
   ]
  },
  {
   "cell_type": "markdown",
   "id": "e6a62d8a",
   "metadata": {},
   "source": [
    "## Define prediction function"
   ]
  },
  {
   "cell_type": "code",
   "execution_count": 6,
   "id": "2f18f8be",
   "metadata": {},
   "outputs": [],
   "source": [
    "def predict(text):\n",
    "    response = client.classifiers.moderate(\n",
    "        model = \"mistral-moderation-latest\",  \n",
    "        inputs=[text],\n",
    "    )\n",
    "    return response"
   ]
  },
  {
   "cell_type": "markdown",
   "id": "6f16e4c4",
   "metadata": {},
   "source": [
    "## Run prediction"
   ]
  },
  {
   "cell_type": "code",
   "execution_count": 7,
   "id": "3c92b6f4",
   "metadata": {},
   "outputs": [
    {
     "data": {
      "application/vnd.jupyter.widget-view+json": {
       "model_id": "19bc4b1576f04b489506a11a134bbe04",
       "version_major": 2,
       "version_minor": 0
      },
      "text/plain": [
       "Output()"
      ]
     },
     "metadata": {},
     "output_type": "display_data"
    },
    {
     "data": {
      "text/html": [
       "<pre style=\"white-space:pre;overflow-x:auto;line-height:normal;font-family:Menlo,'DejaVu Sans Mono',consolas,'Courier New',monospace\"></pre>\n"
      ],
      "text/plain": []
     },
     "metadata": {},
     "output_type": "display_data"
    }
   ],
   "source": [
    "df[\"toxicity_score\"] = df[\"original_text\"].progress_apply(predict)\n",
    "df = df.dropna(subset=[\"toxicity_score\"])"
   ]
  },
  {
   "cell_type": "code",
   "execution_count": 8,
   "id": "3addc449",
   "metadata": {},
   "outputs": [
    {
     "data": {
      "text/plain": [
       "{'sexual': False,\n",
       " 'hate_and_discrimination': False,\n",
       " 'violence_and_threats': False,\n",
       " 'dangerous_and_criminal_content': False,\n",
       " 'selfharm': False,\n",
       " 'health': False,\n",
       " 'financial': False,\n",
       " 'law': False,\n",
       " 'pii': False}"
      ]
     },
     "execution_count": 8,
     "metadata": {},
     "output_type": "execute_result"
    }
   ],
   "source": [
    "df['toxicity_score'][0].results[0].categories"
   ]
  },
  {
   "cell_type": "code",
   "execution_count": 9,
   "id": "6802b9f2",
   "metadata": {},
   "outputs": [],
   "source": [
    "def is_toxic(score):\n",
    "    categories = score.results[0].categories\n",
    "    toxic_categories = [\"sexual\", \"hate_and_discrimination\", \"violence_and_threats\", \"dangerous_and_criminal_content\", \"selfharm\"]\n",
    "    return any(categories.get(cat, False)for cat in toxic_categories)"
   ]
  },
  {
   "cell_type": "code",
   "execution_count": 10,
   "id": "e612a4a8",
   "metadata": {},
   "outputs": [],
   "source": [
    "df['prediction'] = df['toxicity_score'].apply(is_toxic).astype(int)"
   ]
  },
  {
   "cell_type": "code",
   "execution_count": 11,
   "id": "23ba8ce7",
   "metadata": {},
   "outputs": [
    {
     "data": {
      "text/html": [
       "<pre style=\"white-space:pre;overflow-x:auto;line-height:normal;font-family:Menlo,'DejaVu Sans Mono',consolas,'Courier New',monospace\"><span style=\"color: #800080; text-decoration-color: #800080\">╭─────────────── Exemple 79 ───────────────╮</span>\n",
       "<span style=\"color: #800080; text-decoration-color: #800080\">│</span> lieu de naissance                        <span style=\"color: #800080; text-decoration-color: #800080\">│</span>\n",
       "<span style=\"color: #800080; text-decoration-color: #800080\">│</span>                                          <span style=\"color: #800080; text-decoration-color: #800080\">│</span>\n",
       "<span style=\"color: #800080; text-decoration-color: #800080\">│</span> YC n'est pas né à Jonesboro, en Géorgie. <span style=\"color: #800080; text-decoration-color: #800080\">│</span>\n",
       "<span style=\"color: #800080; text-decoration-color: #800080\">│</span>                                          <span style=\"color: #800080; text-decoration-color: #800080\">│</span>\n",
       "<span style=\"color: #800080; text-decoration-color: #800080\">│</span> <span style=\"color: #808000; text-decoration-color: #808000\">Toxicity Score:</span> <span style=\"font-weight: bold\">0</span>                        <span style=\"color: #800080; text-decoration-color: #800080\">│</span>\n",
       "<span style=\"color: #800080; text-decoration-color: #800080\">│</span> <span style=\"color: #008080; text-decoration-color: #008080\">Label:</span> <span style=\"font-weight: bold\">0</span>                                 <span style=\"color: #800080; text-decoration-color: #800080\">│</span>\n",
       "<span style=\"color: #800080; text-decoration-color: #800080\">╰──────────────────────────────────────────╯</span>\n",
       "</pre>\n"
      ],
      "text/plain": [
       "\u001b[35m╭─\u001b[0m\u001b[35m──────────────\u001b[0m\u001b[35m Exemple 79 \u001b[0m\u001b[35m──────────────\u001b[0m\u001b[35m─╮\u001b[0m\n",
       "\u001b[35m│\u001b[0m lieu de naissance                        \u001b[35m│\u001b[0m\n",
       "\u001b[35m│\u001b[0m                                          \u001b[35m│\u001b[0m\n",
       "\u001b[35m│\u001b[0m YC n'est pas né à Jonesboro, en Géorgie. \u001b[35m│\u001b[0m\n",
       "\u001b[35m│\u001b[0m                                          \u001b[35m│\u001b[0m\n",
       "\u001b[35m│\u001b[0m \u001b[33mToxicity Score:\u001b[0m \u001b[1m0\u001b[0m                        \u001b[35m│\u001b[0m\n",
       "\u001b[35m│\u001b[0m \u001b[36mLabel:\u001b[0m \u001b[1m0\u001b[0m                                 \u001b[35m│\u001b[0m\n",
       "\u001b[35m╰──────────────────────────────────────────╯\u001b[0m\n"
      ]
     },
     "metadata": {},
     "output_type": "display_data"
    },
    {
     "data": {
      "text/html": [
       "<pre style=\"white-space:pre;overflow-x:auto;line-height:normal;font-family:Menlo,'DejaVu Sans Mono',consolas,'Courier New',monospace\"><span style=\"color: #800080; text-decoration-color: #800080\">╭────────────────── Exemple 278 ──────────────────╮</span>\n",
       "<span style=\"color: #800080; text-decoration-color: #800080\">│</span> Des nazis comme toi méritent pire que la mort.  <span style=\"color: #800080; text-decoration-color: #800080\">│</span>\n",
       "<span style=\"color: #800080; text-decoration-color: #800080\">│</span>                                                 <span style=\"color: #800080; text-decoration-color: #800080\">│</span>\n",
       "<span style=\"color: #800080; text-decoration-color: #800080\">│</span> Je vais m'assurer que tu souffres horriblement. <span style=\"color: #800080; text-decoration-color: #800080\">│</span>\n",
       "<span style=\"color: #800080; text-decoration-color: #800080\">│</span>                                                 <span style=\"color: #800080; text-decoration-color: #800080\">│</span>\n",
       "<span style=\"color: #800080; text-decoration-color: #800080\">│</span> <span style=\"color: #808000; text-decoration-color: #808000\">Toxicity Score:</span> <span style=\"font-weight: bold\">1</span>                               <span style=\"color: #800080; text-decoration-color: #800080\">│</span>\n",
       "<span style=\"color: #800080; text-decoration-color: #800080\">│</span> <span style=\"color: #008080; text-decoration-color: #008080\">Label:</span> <span style=\"font-weight: bold\">1</span>                                        <span style=\"color: #800080; text-decoration-color: #800080\">│</span>\n",
       "<span style=\"color: #800080; text-decoration-color: #800080\">╰─────────────────────────────────────────────────╯</span>\n",
       "</pre>\n"
      ],
      "text/plain": [
       "\u001b[35m╭─\u001b[0m\u001b[35m─────────────────\u001b[0m\u001b[35m Exemple 278 \u001b[0m\u001b[35m─────────────────\u001b[0m\u001b[35m─╮\u001b[0m\n",
       "\u001b[35m│\u001b[0m Des nazis comme toi méritent pire que la mort.  \u001b[35m│\u001b[0m\n",
       "\u001b[35m│\u001b[0m                                                 \u001b[35m│\u001b[0m\n",
       "\u001b[35m│\u001b[0m Je vais m'assurer que tu souffres horriblement. \u001b[35m│\u001b[0m\n",
       "\u001b[35m│\u001b[0m                                                 \u001b[35m│\u001b[0m\n",
       "\u001b[35m│\u001b[0m \u001b[33mToxicity Score:\u001b[0m \u001b[1m1\u001b[0m                               \u001b[35m│\u001b[0m\n",
       "\u001b[35m│\u001b[0m \u001b[36mLabel:\u001b[0m \u001b[1m1\u001b[0m                                        \u001b[35m│\u001b[0m\n",
       "\u001b[35m╰─────────────────────────────────────────────────╯\u001b[0m\n"
      ]
     },
     "metadata": {},
     "output_type": "display_data"
    },
    {
     "data": {
      "text/html": [
       "<pre style=\"white-space:pre;overflow-x:auto;line-height:normal;font-family:Menlo,'DejaVu Sans Mono',consolas,'Courier New',monospace\"><span style=\"color: #800080; text-decoration-color: #800080\">╭────────────────────────────────────────────────── Exemple 251 ──────────────────────────────────────────────────╮</span>\n",
       "<span style=\"color: #800080; text-decoration-color: #800080\">│</span> Tu peux rationaliser ton malhonnêteté comme tu veux, mais même Wikipédia a un article sur la mosquée de Ground  <span style=\"color: #800080; text-decoration-color: #800080\">│</span>\n",
       "<span style=\"color: #800080; text-decoration-color: #800080\">│</span> Zero, espèce de connard.                                                                                        <span style=\"color: #800080; text-decoration-color: #800080\">│</span>\n",
       "<span style=\"color: #800080; text-decoration-color: #800080\">│</span>                                                                                                                 <span style=\"color: #800080; text-decoration-color: #800080\">│</span>\n",
       "<span style=\"color: #800080; text-decoration-color: #800080\">│</span> <span style=\"color: #808000; text-decoration-color: #808000\">Toxicity Score:</span> <span style=\"font-weight: bold\">1</span>                                                                                               <span style=\"color: #800080; text-decoration-color: #800080\">│</span>\n",
       "<span style=\"color: #800080; text-decoration-color: #800080\">│</span> <span style=\"color: #008080; text-decoration-color: #008080\">Label:</span> <span style=\"font-weight: bold\">1</span>                                                                                                        <span style=\"color: #800080; text-decoration-color: #800080\">│</span>\n",
       "<span style=\"color: #800080; text-decoration-color: #800080\">╰─────────────────────────────────────────────────────────────────────────────────────────────────────────────────╯</span>\n",
       "</pre>\n"
      ],
      "text/plain": [
       "\u001b[35m╭─\u001b[0m\u001b[35m─────────────────────────────────────────────────\u001b[0m\u001b[35m Exemple 251 \u001b[0m\u001b[35m─────────────────────────────────────────────────\u001b[0m\u001b[35m─╮\u001b[0m\n",
       "\u001b[35m│\u001b[0m Tu peux rationaliser ton malhonnêteté comme tu veux, mais même Wikipédia a un article sur la mosquée de Ground  \u001b[35m│\u001b[0m\n",
       "\u001b[35m│\u001b[0m Zero, espèce de connard.                                                                                        \u001b[35m│\u001b[0m\n",
       "\u001b[35m│\u001b[0m                                                                                                                 \u001b[35m│\u001b[0m\n",
       "\u001b[35m│\u001b[0m \u001b[33mToxicity Score:\u001b[0m \u001b[1m1\u001b[0m                                                                                               \u001b[35m│\u001b[0m\n",
       "\u001b[35m│\u001b[0m \u001b[36mLabel:\u001b[0m \u001b[1m1\u001b[0m                                                                                                        \u001b[35m│\u001b[0m\n",
       "\u001b[35m╰─────────────────────────────────────────────────────────────────────────────────────────────────────────────────╯\u001b[0m\n"
      ]
     },
     "metadata": {},
     "output_type": "display_data"
    },
    {
     "data": {
      "text/html": [
       "<pre style=\"white-space:pre;overflow-x:auto;line-height:normal;font-family:Menlo,'DejaVu Sans Mono',consolas,'Courier New',monospace\"><span style=\"color: #800080; text-decoration-color: #800080\">╭──────────────────────────────────────────── Exemple 56 ─────────────────────────────────────────────╮</span>\n",
       "<span style=\"color: #800080; text-decoration-color: #800080\">│</span> Suppression                                                                                         <span style=\"color: #800080; text-decoration-color: #800080\">│</span>\n",
       "<span style=\"color: #800080; text-decoration-color: #800080\">│</span> Ceci a été marqué pour une suppression rapide car c'est le même article précédemment supprimé sous. <span style=\"color: #800080; text-decoration-color: #800080\">│</span>\n",
       "<span style=\"color: #800080; text-decoration-color: #800080\">│</span>                                                                                                     <span style=\"color: #800080; text-decoration-color: #800080\">│</span>\n",
       "<span style=\"color: #800080; text-decoration-color: #800080\">│</span> <span style=\"color: #808000; text-decoration-color: #808000\">Toxicity Score:</span> <span style=\"font-weight: bold\">0</span>                                                                                   <span style=\"color: #800080; text-decoration-color: #800080\">│</span>\n",
       "<span style=\"color: #800080; text-decoration-color: #800080\">│</span> <span style=\"color: #008080; text-decoration-color: #008080\">Label:</span> <span style=\"font-weight: bold\">0</span>                                                                                            <span style=\"color: #800080; text-decoration-color: #800080\">│</span>\n",
       "<span style=\"color: #800080; text-decoration-color: #800080\">╰─────────────────────────────────────────────────────────────────────────────────────────────────────╯</span>\n",
       "</pre>\n"
      ],
      "text/plain": [
       "\u001b[35m╭─\u001b[0m\u001b[35m───────────────────────────────────────────\u001b[0m\u001b[35m Exemple 56 \u001b[0m\u001b[35m────────────────────────────────────────────\u001b[0m\u001b[35m─╮\u001b[0m\n",
       "\u001b[35m│\u001b[0m Suppression                                                                                         \u001b[35m│\u001b[0m\n",
       "\u001b[35m│\u001b[0m Ceci a été marqué pour une suppression rapide car c'est le même article précédemment supprimé sous. \u001b[35m│\u001b[0m\n",
       "\u001b[35m│\u001b[0m                                                                                                     \u001b[35m│\u001b[0m\n",
       "\u001b[35m│\u001b[0m \u001b[33mToxicity Score:\u001b[0m \u001b[1m0\u001b[0m                                                                                   \u001b[35m│\u001b[0m\n",
       "\u001b[35m│\u001b[0m \u001b[36mLabel:\u001b[0m \u001b[1m0\u001b[0m                                                                                            \u001b[35m│\u001b[0m\n",
       "\u001b[35m╰─────────────────────────────────────────────────────────────────────────────────────────────────────╯\u001b[0m\n"
      ]
     },
     "metadata": {},
     "output_type": "display_data"
    },
    {
     "data": {
      "text/html": [
       "<pre style=\"white-space:pre;overflow-x:auto;line-height:normal;font-family:Menlo,'DejaVu Sans Mono',consolas,'Courier New',monospace\"><span style=\"color: #800080; text-decoration-color: #800080\">╭────────── Exemple 392 ───────────╮</span>\n",
       "<span style=\"color: #800080; text-decoration-color: #800080\">│</span> parce que je suis un énorme pédé <span style=\"color: #800080; text-decoration-color: #800080\">│</span>\n",
       "<span style=\"color: #800080; text-decoration-color: #800080\">│</span>                                  <span style=\"color: #800080; text-decoration-color: #800080\">│</span>\n",
       "<span style=\"color: #800080; text-decoration-color: #800080\">│</span> <span style=\"color: #808000; text-decoration-color: #808000\">Toxicity Score:</span> <span style=\"font-weight: bold\">1</span>                <span style=\"color: #800080; text-decoration-color: #800080\">│</span>\n",
       "<span style=\"color: #800080; text-decoration-color: #800080\">│</span> <span style=\"color: #008080; text-decoration-color: #008080\">Label:</span> <span style=\"font-weight: bold\">1</span>                         <span style=\"color: #800080; text-decoration-color: #800080\">│</span>\n",
       "<span style=\"color: #800080; text-decoration-color: #800080\">╰──────────────────────────────────╯</span>\n",
       "</pre>\n"
      ],
      "text/plain": [
       "\u001b[35m╭─\u001b[0m\u001b[35m─────────\u001b[0m\u001b[35m Exemple 392 \u001b[0m\u001b[35m──────────\u001b[0m\u001b[35m─╮\u001b[0m\n",
       "\u001b[35m│\u001b[0m parce que je suis un énorme pédé \u001b[35m│\u001b[0m\n",
       "\u001b[35m│\u001b[0m                                  \u001b[35m│\u001b[0m\n",
       "\u001b[35m│\u001b[0m \u001b[33mToxicity Score:\u001b[0m \u001b[1m1\u001b[0m                \u001b[35m│\u001b[0m\n",
       "\u001b[35m│\u001b[0m \u001b[36mLabel:\u001b[0m \u001b[1m1\u001b[0m                         \u001b[35m│\u001b[0m\n",
       "\u001b[35m╰──────────────────────────────────╯\u001b[0m\n"
      ]
     },
     "metadata": {},
     "output_type": "display_data"
    }
   ],
   "source": [
    "for i, row in df.sample(5, random_state=42).iterrows():\n",
    "    content = Text(row['content'], style=\"bold\")\n",
    "    toxicity = f\"[yellow]Toxicity Score:[/yellow] [bold]{row['prediction']}[/bold]\"\n",
    "    label = f\"[cyan]Label:[/cyan] [bold]{row['label']}[/bold]\"\n",
    "    panel = Panel.fit(\n",
    "        f\"{content}\\n\\n{toxicity}\\n{label}\",\n",
    "        title=f\"Exemple {i+1}\",\n",
    "        border_style=\"magenta\"\n",
    "    )\n",
    "    console.print(panel)"
   ]
  },
  {
   "cell_type": "markdown",
   "id": "d190c935",
   "metadata": {},
   "source": [
    "## Metrics & Report        "
   ]
  },
  {
   "cell_type": "markdown",
   "id": "a79ba1fd",
   "metadata": {},
   "source": [
    "| Metric                     | Formula                                           | Interpretation                                                                                                       |\n",
    "| -------------------------- | ------------------------------------------------- | -------------------------------------------------------------------------------------------------------------------- |\n",
    "| **Precision**              | `TP / (TP + FP)`                                  | Of the samples predicted **toxic**, how many were **actually toxic**? <br>→ High precision = **low false positives** |\n",
    "| **Recall** *(Sensitivity)* | `TP / (TP + FN)`                                  | Of the **actual toxic** samples, how many did we **correctly identify**? <br>→ High recall = **low false negatives** |\n",
    "| **F1-score**               | `2 * (Precision * Recall) / (Precision + Recall)` | Harmonic mean of precision and recall. <br>→ Best when **balance** is needed                                         |\n",
    "| **Accuracy**               | `(TP + TN) / (TP + TN + FP + FN)`                 | Fraction of all correct predictions (toxic and non-toxic). <br>→ Can be misleading on imbalanced data                |\n",
    "| **ROC AUC**                | Area under the ROC Curve                          | Measures the **ranking ability** of the classifier. <br>→ Higher = better separation of toxic vs. non-toxic          |\n"
   ]
  },
  {
   "cell_type": "code",
   "execution_count": 12,
   "id": "76673d8f",
   "metadata": {},
   "outputs": [],
   "source": [
    "y_true = df[\"label\"]\n",
    "y_pred = df[\"prediction\"]"
   ]
  },
  {
   "cell_type": "code",
   "execution_count": 13,
   "id": "7bf73e55",
   "metadata": {},
   "outputs": [
    {
     "data": {
      "text/html": [
       "<pre style=\"white-space:pre;overflow-x:auto;line-height:normal;font-family:Menlo,'DejaVu Sans Mono',consolas,'Courier New',monospace\"><span style=\"font-style: italic\">                Classification Report                 </span>\n",
       "┏━━━━━━━━━━┳━━━━━━━━━━━┳━━━━━━━━┳━━━━━━━━━━┳━━━━━━━━━┓\n",
       "┃<span style=\"font-weight: bold\">  Classe  </span>┃<span style=\"font-weight: bold\"> Precision </span>┃<span style=\"font-weight: bold\"> Recall </span>┃<span style=\"font-weight: bold\"> F1-score </span>┃<span style=\"font-weight: bold\"> Support </span>┃\n",
       "┡━━━━━━━━━━╇━━━━━━━━━━━╇━━━━━━━━╇━━━━━━━━━━╇━━━━━━━━━┩\n",
       "│<span style=\"color: #008080; text-decoration-color: #008080\">    0     </span>│   0.874   │ 0.944  │  0.908   │   198   │\n",
       "├──────────┼───────────┼────────┼──────────┼─────────┤\n",
       "│<span style=\"color: #008080; text-decoration-color: #008080\">    1     </span>│   0.940   │ 0.864  │  0.900   │   198   │\n",
       "├──────────┼───────────┼────────┼──────────┼─────────┤\n",
       "│<span style=\"color: #008080; text-decoration-color: #008080\"> </span><span style=\"color: #808000; text-decoration-color: #808000; font-weight: bold\">Accuracy</span><span style=\"color: #008080; text-decoration-color: #008080\"> </span>│     -     │   -    │  0.904   │    -    │\n",
       "└──────────┴───────────┴────────┴──────────┴─────────┘\n",
       "</pre>\n"
      ],
      "text/plain": [
       "\u001b[3m                Classification Report                 \u001b[0m\n",
       "┏━━━━━━━━━━┳━━━━━━━━━━━┳━━━━━━━━┳━━━━━━━━━━┳━━━━━━━━━┓\n",
       "┃\u001b[1m \u001b[0m\u001b[1m Classe \u001b[0m\u001b[1m \u001b[0m┃\u001b[1m \u001b[0m\u001b[1mPrecision\u001b[0m\u001b[1m \u001b[0m┃\u001b[1m \u001b[0m\u001b[1mRecall\u001b[0m\u001b[1m \u001b[0m┃\u001b[1m \u001b[0m\u001b[1mF1-score\u001b[0m\u001b[1m \u001b[0m┃\u001b[1m \u001b[0m\u001b[1mSupport\u001b[0m\u001b[1m \u001b[0m┃\n",
       "┡━━━━━━━━━━╇━━━━━━━━━━━╇━━━━━━━━╇━━━━━━━━━━╇━━━━━━━━━┩\n",
       "│\u001b[36m \u001b[0m\u001b[36m   0    \u001b[0m\u001b[36m \u001b[0m│   0.874   │ 0.944  │  0.908   │   198   │\n",
       "├──────────┼───────────┼────────┼──────────┼─────────┤\n",
       "│\u001b[36m \u001b[0m\u001b[36m   1    \u001b[0m\u001b[36m \u001b[0m│   0.940   │ 0.864  │  0.900   │   198   │\n",
       "├──────────┼───────────┼────────┼──────────┼─────────┤\n",
       "│\u001b[36m \u001b[0m\u001b[1;33mAccuracy\u001b[0m\u001b[36m \u001b[0m│     -     │   -    │  0.904   │    -    │\n",
       "└──────────┴───────────┴────────┴──────────┴─────────┘\n"
      ]
     },
     "metadata": {},
     "output_type": "display_data"
    },
    {
     "data": {
      "text/html": [
       "<pre style=\"white-space:pre;overflow-x:auto;line-height:normal;font-family:Menlo,'DejaVu Sans Mono',consolas,'Courier New',monospace\"><span style=\"font-style: italic\">      Matrice de Confusion      </span>\n",
       "┏━━━━━━━━┳━━━━━━━━━━┳━━━━━━━━━━┓\n",
       "┃<span style=\"font-weight: bold\">        </span>┃<span style=\"font-weight: bold\"> Prédit 0 </span>┃<span style=\"font-weight: bold\"> Prédit 1 </span>┃\n",
       "┡━━━━━━━━╇━━━━━━━━━━╇━━━━━━━━━━┩\n",
       "│<span style=\"font-weight: bold\"> Réel 0 </span>│   187    │    11    │\n",
       "├────────┼──────────┼──────────┤\n",
       "│<span style=\"font-weight: bold\"> Réel 1 </span>│    27    │   171    │\n",
       "└────────┴──────────┴──────────┘\n",
       "</pre>\n"
      ],
      "text/plain": [
       "\u001b[3m      Matrice de Confusion      \u001b[0m\n",
       "┏━━━━━━━━┳━━━━━━━━━━┳━━━━━━━━━━┓\n",
       "┃\u001b[1m \u001b[0m\u001b[1m      \u001b[0m\u001b[1m \u001b[0m┃\u001b[1m \u001b[0m\u001b[1mPrédit 0\u001b[0m\u001b[1m \u001b[0m┃\u001b[1m \u001b[0m\u001b[1mPrédit 1\u001b[0m\u001b[1m \u001b[0m┃\n",
       "┡━━━━━━━━╇━━━━━━━━━━╇━━━━━━━━━━┩\n",
       "│\u001b[1m \u001b[0m\u001b[1mRéel 0\u001b[0m\u001b[1m \u001b[0m│   187    │    11    │\n",
       "├────────┼──────────┼──────────┤\n",
       "│\u001b[1m \u001b[0m\u001b[1mRéel 1\u001b[0m\u001b[1m \u001b[0m│    27    │   171    │\n",
       "└────────┴──────────┴──────────┘\n"
      ]
     },
     "metadata": {},
     "output_type": "display_data"
    },
    {
     "data": {
      "text/html": [
       "<pre style=\"white-space:pre;overflow-x:auto;line-height:normal;font-family:Menlo,'DejaVu Sans Mono',consolas,'Courier New',monospace\">╭──────────────────────────────────────────────────── ROC AUC ────────────────────────────────────────────────────╮\n",
       "│ <span style=\"color: #008000; text-decoration-color: #008000; font-weight: bold\">ROC AUC Score : 0.904</span>                                                                                           │\n",
       "╰─────────────────────────────────────────────────────────────────────────────────────────────────────────────────╯\n",
       "</pre>\n"
      ],
      "text/plain": [
       "╭──────────────────────────────────────────────────── ROC AUC ────────────────────────────────────────────────────╮\n",
       "│ \u001b[1;32mROC AUC Score : 0.904\u001b[0m                                                                                           │\n",
       "╰─────────────────────────────────────────────────────────────────────────────────────────────────────────────────╯\n"
      ]
     },
     "metadata": {},
     "output_type": "display_data"
    }
   ],
   "source": [
    "# Rapport de classification\n",
    "report = classification_report(y_true, y_pred, digits=3, output_dict=True)\n",
    "table = Table(title=\"Classification Report\", show_lines=True)\n",
    "table.add_column(\"Classe\", style=\"cyan\", justify=\"center\")\n",
    "table.add_column(\"Precision\", justify=\"center\")\n",
    "table.add_column(\"Recall\", justify=\"center\")\n",
    "table.add_column(\"F1-score\", justify=\"center\")\n",
    "table.add_column(\"Support\", justify=\"center\")\n",
    "\n",
    "for label, metrics in report.items():\n",
    "    if label in [\"accuracy\", \"macro avg\", \"weighted avg\"]:\n",
    "        continue\n",
    "    table.add_row(\n",
    "        str(label),\n",
    "        f\"{metrics['precision']:.3f}\",\n",
    "        f\"{metrics['recall']:.3f}\",\n",
    "        f\"{metrics['f1-score']:.3f}\",\n",
    "        f\"{int(metrics['support'])}\"\n",
    "    )\n",
    "# Ajout de l'accuracy\n",
    "table.add_row(\n",
    "    \"[bold yellow]Accuracy[/bold yellow]\",\n",
    "    \"-\",\n",
    "    \"-\",\n",
    "    f\"{report['accuracy']:.3f}\",\n",
    "    \"-\"\n",
    ")\n",
    "console.print(table)\n",
    "\n",
    "# Matrice de confusion\n",
    "cm = confusion_matrix(y_true, y_pred)\n",
    "cm_table = Table(title=\"Matrice de Confusion\", show_lines=True)\n",
    "cm_table.add_column(\" \", style=\"bold\")\n",
    "cm_table.add_column(\"Prédit 0\", justify=\"center\")\n",
    "cm_table.add_column(\"Prédit 1\", justify=\"center\")\n",
    "cm_table.add_row(\"Réel 0\", str(cm[0, 0]), str(cm[0, 1]))\n",
    "cm_table.add_row(\"Réel 1\", str(cm[1, 0]), str(cm[1, 1]))\n",
    "console.print(cm_table)\n",
    "\n",
    "# ROC AUC\n",
    "try:\n",
    "    auc = roc_auc_score(y_true, df[\"prediction\"])\n",
    "    console.print(Panel(f\"[bold green]ROC AUC Score : {auc:.3f}[/bold green]\", title=\"ROC AUC\"))\n",
    "except:\n",
    "    console.print(Panel(\"[bold red]Impossible de calculer le ROC AUC.[/bold red]\", title=\"ROC AUC\"))"
   ]
  },
  {
   "cell_type": "markdown",
   "id": "5ae781b8",
   "metadata": {},
   "source": [
    "## Save the predictions"
   ]
  },
  {
   "cell_type": "code",
   "execution_count": 14,
   "id": "07519936",
   "metadata": {},
   "outputs": [
    {
     "data": {
      "text/html": [
       "<div>\n",
       "<style scoped>\n",
       "    .dataframe tbody tr th:only-of-type {\n",
       "        vertical-align: middle;\n",
       "    }\n",
       "\n",
       "    .dataframe tbody tr th {\n",
       "        vertical-align: top;\n",
       "    }\n",
       "\n",
       "    .dataframe thead th {\n",
       "        text-align: right;\n",
       "    }\n",
       "</style>\n",
       "<table border=\"1\" class=\"dataframe\">\n",
       "  <thead>\n",
       "    <tr style=\"text-align: right;\">\n",
       "      <th></th>\n",
       "      <th>msg_id</th>\n",
       "      <th>original_text</th>\n",
       "      <th>content</th>\n",
       "      <th>label</th>\n",
       "      <th>toxicity_score</th>\n",
       "      <th>prediction</th>\n",
       "    </tr>\n",
       "  </thead>\n",
       "  <tbody>\n",
       "    <tr>\n",
       "      <th>0</th>\n",
       "      <td>e6865c831da40459</td>\n",
       "      <td>Combining 'Official requests for clemency' sec...</td>\n",
       "      <td>Combiner la section 'Demandes officielles de c...</td>\n",
       "      <td>0</td>\n",
       "      <td>id='fce8f1db4b34465fbfeb0f177a6f780d' model='m...</td>\n",
       "      <td>0</td>\n",
       "    </tr>\n",
       "    <tr>\n",
       "      <th>1</th>\n",
       "      <td>cff2b456e5059b47</td>\n",
       "      <td>Web \\n\\nIs this her own website? 113.22.84.65</td>\n",
       "      <td>Web\\n\\nEst-ce son propre site web ? 113.22.84.65</td>\n",
       "      <td>0</td>\n",
       "      <td>id='764eadaaff28492da0eadb61bd1eef6c' model='m...</td>\n",
       "      <td>0</td>\n",
       "    </tr>\n",
       "    <tr>\n",
       "      <th>2</th>\n",
       "      <td>880d3d608f37bee3</td>\n",
       "      <td>RFCU \\n\\nFYI, I have opened Wikipedia:Requests...</td>\n",
       "      <td>RFCU \\n\\nPour info, j'ai ouvert Wikipedia:Requ...</td>\n",
       "      <td>0</td>\n",
       "      <td>id='82eaf9743bbb4f22bc7aae986124576f' model='m...</td>\n",
       "      <td>0</td>\n",
       "    </tr>\n",
       "    <tr>\n",
       "      <th>3</th>\n",
       "      <td>dd29d52a4320a2e4</td>\n",
       "      <td>Monitor for cleanup: \\nAs of the date signed b...</td>\n",
       "      <td>Surveillance pour nettoyage :  \\nÀ la date sig...</td>\n",
       "      <td>0</td>\n",
       "      <td>id='f2ead21d55b042cbaee21c28cfb1b9d7' model='m...</td>\n",
       "      <td>0</td>\n",
       "    </tr>\n",
       "    <tr>\n",
       "      <th>4</th>\n",
       "      <td>d70e773c975839e1</td>\n",
       "      <td>I concur and have done so.</td>\n",
       "      <td>Je suis d'accord et je l'ai fait.</td>\n",
       "      <td>0</td>\n",
       "      <td>id='5468bed552c440db8c87111c6d9d09a3' model='m...</td>\n",
       "      <td>0</td>\n",
       "    </tr>\n",
       "    <tr>\n",
       "      <th>...</th>\n",
       "      <td>...</td>\n",
       "      <td>...</td>\n",
       "      <td>...</td>\n",
       "      <td>...</td>\n",
       "      <td>...</td>\n",
       "      <td>...</td>\n",
       "    </tr>\n",
       "    <tr>\n",
       "      <th>391</th>\n",
       "      <td>bf5aae5b17fb0b77</td>\n",
       "      <td>because I am a huge faggot</td>\n",
       "      <td>parce que je suis un énorme pédé</td>\n",
       "      <td>1</td>\n",
       "      <td>id='fae8b2c8e9ab4cef9de2a775d97e6946' model='m...</td>\n",
       "      <td>1</td>\n",
       "    </tr>\n",
       "    <tr>\n",
       "      <th>392</th>\n",
       "      <td>8947f2c12aea0a32</td>\n",
       "      <td>If no-one beats me to it, I'll knock something...</td>\n",
       "      <td>Si personne ne me devance, je vais bricoler qu...</td>\n",
       "      <td>1</td>\n",
       "      <td>id='94590f806875498cbcbd942f839c4daf' model='m...</td>\n",
       "      <td>0</td>\n",
       "    </tr>\n",
       "    <tr>\n",
       "      <th>393</th>\n",
       "      <td>ccf05c5d4b791836</td>\n",
       "      <td>ur a faggot, fuck off and get a real job and s...</td>\n",
       "      <td>T'es un pédé, casse-toi et trouve un vrai boul...</td>\n",
       "      <td>1</td>\n",
       "      <td>id='c961ae115d5e4230a7620e9c93ed1cf8' model='m...</td>\n",
       "      <td>1</td>\n",
       "    </tr>\n",
       "    <tr>\n",
       "      <th>394</th>\n",
       "      <td>ae7a53526025c0e2</td>\n",
       "      <td>I SAID SHUT UP, YOU STUPID, STUPID...</td>\n",
       "      <td>J'AI DIT FERME TA GUEULE, ESPÈCE DE BÊTE, BÊTE...</td>\n",
       "      <td>1</td>\n",
       "      <td>id='8d3a8f2c43d04d3ca4630dd7c3e7a613' model='m...</td>\n",
       "      <td>1</td>\n",
       "    </tr>\n",
       "    <tr>\n",
       "      <th>395</th>\n",
       "      <td>c253e034605ee865</td>\n",
       "      <td>is true. so i want to express that grant is ga...</td>\n",
       "      <td>C'est vrai. Donc je veux dire que Grant est pé...</td>\n",
       "      <td>1</td>\n",
       "      <td>id='a2529590f9c6422fb017700229f583ba' model='m...</td>\n",
       "      <td>1</td>\n",
       "    </tr>\n",
       "  </tbody>\n",
       "</table>\n",
       "<p>396 rows × 6 columns</p>\n",
       "</div>"
      ],
      "text/plain": [
       "               msg_id                                      original_text  \\\n",
       "0    e6865c831da40459  Combining 'Official requests for clemency' sec...   \n",
       "1    cff2b456e5059b47      Web \\n\\nIs this her own website? 113.22.84.65   \n",
       "2    880d3d608f37bee3  RFCU \\n\\nFYI, I have opened Wikipedia:Requests...   \n",
       "3    dd29d52a4320a2e4  Monitor for cleanup: \\nAs of the date signed b...   \n",
       "4    d70e773c975839e1                         I concur and have done so.   \n",
       "..                ...                                                ...   \n",
       "391  bf5aae5b17fb0b77                         because I am a huge faggot   \n",
       "392  8947f2c12aea0a32  If no-one beats me to it, I'll knock something...   \n",
       "393  ccf05c5d4b791836  ur a faggot, fuck off and get a real job and s...   \n",
       "394  ae7a53526025c0e2              I SAID SHUT UP, YOU STUPID, STUPID...   \n",
       "395  c253e034605ee865  is true. so i want to express that grant is ga...   \n",
       "\n",
       "                                               content  label  \\\n",
       "0    Combiner la section 'Demandes officielles de c...      0   \n",
       "1     Web\\n\\nEst-ce son propre site web ? 113.22.84.65      0   \n",
       "2    RFCU \\n\\nPour info, j'ai ouvert Wikipedia:Requ...      0   \n",
       "3    Surveillance pour nettoyage :  \\nÀ la date sig...      0   \n",
       "4                    Je suis d'accord et je l'ai fait.      0   \n",
       "..                                                 ...    ...   \n",
       "391                   parce que je suis un énorme pédé      1   \n",
       "392  Si personne ne me devance, je vais bricoler qu...      1   \n",
       "393  T'es un pédé, casse-toi et trouve un vrai boul...      1   \n",
       "394  J'AI DIT FERME TA GUEULE, ESPÈCE DE BÊTE, BÊTE...      1   \n",
       "395  C'est vrai. Donc je veux dire que Grant est pé...      1   \n",
       "\n",
       "                                        toxicity_score  prediction  \n",
       "0    id='fce8f1db4b34465fbfeb0f177a6f780d' model='m...           0  \n",
       "1    id='764eadaaff28492da0eadb61bd1eef6c' model='m...           0  \n",
       "2    id='82eaf9743bbb4f22bc7aae986124576f' model='m...           0  \n",
       "3    id='f2ead21d55b042cbaee21c28cfb1b9d7' model='m...           0  \n",
       "4    id='5468bed552c440db8c87111c6d9d09a3' model='m...           0  \n",
       "..                                                 ...         ...  \n",
       "391  id='fae8b2c8e9ab4cef9de2a775d97e6946' model='m...           1  \n",
       "392  id='94590f806875498cbcbd942f839c4daf' model='m...           0  \n",
       "393  id='c961ae115d5e4230a7620e9c93ed1cf8' model='m...           1  \n",
       "394  id='8d3a8f2c43d04d3ca4630dd7c3e7a613' model='m...           1  \n",
       "395  id='a2529590f9c6422fb017700229f583ba' model='m...           1  \n",
       "\n",
       "[396 rows x 6 columns]"
      ]
     },
     "execution_count": 14,
     "metadata": {},
     "output_type": "execute_result"
    }
   ],
   "source": [
    "df"
   ]
  },
  {
   "cell_type": "code",
   "execution_count": 15,
   "id": "f87860ee",
   "metadata": {},
   "outputs": [
    {
     "data": {
      "text/plain": [
       "PosixPath('../../data/benchmark_jigsaw/eng-mistral_moderation.csv')"
      ]
     },
     "execution_count": 15,
     "metadata": {},
     "output_type": "execute_result"
    }
   ],
   "source": [
    "output_path"
   ]
  },
  {
   "cell_type": "code",
   "execution_count": 16,
   "id": "a1cda421",
   "metadata": {},
   "outputs": [],
   "source": [
    "df.to_csv(output_path, index=False, encoding=\"utf-8\")"
   ]
  },
  {
   "cell_type": "code",
   "execution_count": null,
   "id": "ee2de4a8",
   "metadata": {},
   "outputs": [],
   "source": []
  }
 ],
 "metadata": {
  "kernelspec": {
   "display_name": "SJTU",
   "language": "python",
   "name": "python3"
  },
  "language_info": {
   "codemirror_mode": {
    "name": "ipython",
    "version": 3
   },
   "file_extension": ".py",
   "mimetype": "text/x-python",
   "name": "python",
   "nbconvert_exporter": "python",
   "pygments_lexer": "ipython3",
   "version": "3.10.13"
  }
 },
 "nbformat": 4,
 "nbformat_minor": 5
}
