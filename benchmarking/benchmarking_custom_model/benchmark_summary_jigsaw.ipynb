{
 "cells": [
  {
   "cell_type": "markdown",
   "id": "7a203dcb",
   "metadata": {},
   "source": [
    "# Summary of the benchmark"
   ]
  },
  {
   "cell_type": "markdown",
   "id": "d8e30488",
   "metadata": {},
   "source": [
    "The results can be compared with [this article](https://arxiv.org/pdf/2403.08035) in which GPT-3.5 achieves $\\text{acc}=0.89$ and $F_1=0.93$ in *English Hate Speech Detection*. We use newer models in this benchmark."
   ]
  },
  {
   "cell_type": "markdown",
   "id": "1eb68075",
   "metadata": {},
   "source": [
    "## Metrics\n",
    "\n",
    "Our task is a binary classification. We aim at reaching a ground truth $f:E\\to\\{0,1\\}$ which we will estimate with $\\hat f:E\\to\\{0,1\\}$.\n",
    "\n",
    "### Confusion Matrix Notations (Binary Classification)\n",
    "\n",
    "|              | Predicted 0 | Predicted 1 |\n",
    "| ------------ | ----------- | ----------- |\n",
    "| **Actual 0** | TN          | FP          |\n",
    "| **Actual 1** | FN          | TP          |\n",
    "\n",
    "* **TP** = True Positives (predicted 1, actual 1)\n",
    "* **TN** = True Negatives (predicted 0, actual 0)\n",
    "* **FP** = False Positives (predicted 1, actual 0)\n",
    "* **FN** = False Negatives (predicted 0, actual 1)\n",
    "\n",
    "### Metrics \n",
    "\n",
    "- **Precision\\_0** : The proportion of predicted class 0 that is actually class 0 : $$\\text{Precision}\\_0 = \\frac{\\text{TN}}{\\text{TN} + \\text{FN}}$$\n",
    "- **Recall\\_0** : The proportion of actual class 0 correctly predicted as class 0 : $$\\text{Recall}\\_0 = \\frac{\\text{TN}}{\\text{TN} + \\text{FP}}$$\n",
    "- **F1\\_0** : The harmonic mean of Precision\\_0 and Recall\\_0 : $$\\text{F1}_0 = 2 \\cdot \\frac{\\text{Precision}\\_0 \\times \\text{Recall}\\_0}{\\text{Precision}\\_0 + \\text{Recall}\\_0}$$\n",
    "- **Precision\\_1** : The proportion of predicted class 1 that is actually class 1 : $$\\text{Precision}\\_1 = \\frac{\\text{TN}}{\\text{TN} + \\text{FN}}$$\n",
    "- **Recall\\_1** : The proportion of actual class 1 correctly predicted as class 1 : $$\\text{Recall}\\_1 = \\frac{\\text{TN}}{\\text{TN} + \\text{FP}}$$\n",
    "- **F1\\_1** : The harmonic mean of Precision\\_1 and Recall\\_1 : $$\\text{F1}_0 = 2 \\cdot \\frac{\\text{Precision}\\_1 \\times \\text{Recall}\\_1}{\\text{Precision}\\_1 + \\text{Recall}\\_1}$$\n",
    "- **Accuracy** : The proportion of all correct predictions : $$\\text{Accuracy} = \\frac{\\text{TP} + \\text{TN}}{\\text{TP} + \\text{TN} + \\text{FP} + \\text{FN}}$$\n",
    "- **ROC AUC** : Area under the **Receiver Operating Characteristic** curve. It evaluates the tradeoff between True Positive Rate (TPR) and False Positive Rate (FPR) over all thresholds : $$\\text{TPR (Recall)} = \\frac{\\text{TP}}{\\text{TP} + \\text{FN}}, \\quad \n",
    "\\text{FPR} = \\frac{\\text{FP}}{\\text{FP} + \\text{TN}}$$"
   ]
  },
  {
   "cell_type": "markdown",
   "id": "32fce313",
   "metadata": {},
   "source": [
    "## Libraries"
   ]
  },
  {
   "cell_type": "code",
   "execution_count": 51,
   "id": "407caa8c",
   "metadata": {},
   "outputs": [],
   "source": [
    "import pandas as pd \n",
    "from pathlib import Path\n",
    "import os\n",
    "from rich.console import Console\n",
    "from rich.table import Table\n",
    "from rich.panel import Panel\n",
    "from sklearn.metrics import (\n",
    "    classification_report, confusion_matrix, roc_auc_score\n",
    ")"
   ]
  },
  {
   "cell_type": "markdown",
   "id": "1736e7f7",
   "metadata": {},
   "source": [
    "## Global variables"
   ]
  },
  {
   "cell_type": "code",
   "execution_count": 52,
   "id": "2ed44c73",
   "metadata": {},
   "outputs": [],
   "source": [
    "ROOT = Path('../..')\n",
    "DATA_PATH = ROOT / \"data\"\n",
    "BENCHMARK_PATH = DATA_PATH / \"benchmark\"\n",
    "\n",
    "console = Console()"
   ]
  },
  {
   "cell_type": "markdown",
   "id": "dc73b774",
   "metadata": {},
   "source": [
    "## Load predictions"
   ]
  },
  {
   "cell_type": "code",
   "execution_count": 53,
   "id": "4cffbb7c",
   "metadata": {},
   "outputs": [],
   "source": [
    "to_exclude = []"
   ]
  },
  {
   "cell_type": "code",
   "execution_count": 54,
   "id": "8744c715",
   "metadata": {},
   "outputs": [
    {
     "data": {
      "text/html": [
       "<pre style=\"white-space:pre;overflow-x:auto;line-height:normal;font-family:Menlo,'DejaVu Sans Mono',consolas,'Courier New',monospace\">Loaded benchmark with <span style=\"color: #008080; text-decoration-color: #008080; font-weight: bold\">396</span> entries.\n",
       "</pre>\n"
      ],
      "text/plain": [
       "Loaded benchmark with \u001b[1;36m396\u001b[0m entries.\n"
      ]
     },
     "metadata": {},
     "output_type": "display_data"
    }
   ],
   "source": [
    "df_benchmark = pd.read_csv(DATA_PATH / \"benchmark_jigsaw\" / \"benchmark_jigsaw.csv\", encoding = 'utf-8')\n",
    "len_benchmark = len(df_benchmark)\n",
    "console.print(f\"Loaded benchmark with {len_benchmark} entries.\")"
   ]
  },
  {
   "cell_type": "code",
   "execution_count": 55,
   "id": "f5e526e4",
   "metadata": {},
   "outputs": [
    {
     "data": {
      "text/plain": [
       "['jigsawen_output_rebl_Qwen3-4B_<cot_intention>-<cot_categorie_list>_0.csv',\n",
       " 'jigsawfr_output_rebl_Qwen3-4B_<cot_intention>-<cot_categorie_list>_0.csv',\n",
       " 'jigsawen_output_oeal_Qwen3-4B_<cot_intention>-<cot_categorie_list>_0.csv',\n",
       " 'jigsawfr_output_odal_Qwen3-4B_<cot_intention>-<cot_categorie_list>_0.csv',\n",
       " 'jigsawfr_output_rdal_Qwen3-4B_<cot_intention>-<cot_categorie_list>_0.csv',\n",
       " 'jigsawfr_output_oebl_Qwen3-4B_<cot_intention>-<cot_categorie_list>_0.csv',\n",
       " 'jigsawfr_output_real_Qwen3-4B_<cot_intention>-<cot_categorie_list>_0.csv',\n",
       " 'jigsawen_output_real_Qwen3-4B_<cot_intention>-<cot_categorie_list>_0.csv',\n",
       " 'jigsawfr_output_oeal_Qwen3-4B_<cot_intention>-<cot_categorie_list>_0.csv',\n",
       " 'jigsawen_output_rdal_Qwen3-4B_<cot_intention>-<cot_categorie_list>_0.csv',\n",
       " 'jigsawen_output_odal_Qwen3-4B_<cot_intention>-<cot_categorie_list>_0.csv',\n",
       " 'jigsawen_output_oebl_Qwen3-4B_<cot_intention>-<cot_categorie_list>_0.csv']"
      ]
     },
     "execution_count": 55,
     "metadata": {},
     "output_type": "execute_result"
    }
   ],
   "source": [
    "# Group the files by pairs (first name finish with _0 and second with _1)\n",
    "files = os.listdir(BENCHMARK_PATH / \"benchmark_our_custom_model_jigsaw\")\n",
    "files = [f for f in files if f.endswith('_0.csv') and not f.startswith('.') and f not in to_exclude]\n",
    "files = [f for f in files if not any(ex in f for ex in to_exclude)]\n",
    "files"
   ]
  },
  {
   "cell_type": "code",
   "execution_count": 56,
   "id": "4c8024b5",
   "metadata": {},
   "outputs": [
    {
     "data": {
      "text/html": [
       "<pre style=\"white-space:pre;overflow-x:auto;line-height:normal;font-family:Menlo,'DejaVu Sans Mono',consolas,'Courier New',monospace\">Loaded <span style=\"color: #008080; text-decoration-color: #008080; font-weight: bold\">12</span> additional files from benchmark directory.\n",
       "</pre>\n"
      ],
      "text/plain": [
       "Loaded \u001b[1;36m12\u001b[0m additional files from benchmark directory.\n"
      ]
     },
     "metadata": {},
     "output_type": "display_data"
    }
   ],
   "source": [
    "dfs = []\n",
    "\n",
    "for file in files:\n",
    "    file_0 = file\n",
    "    file_1 = file.replace('_0', '_1')\n",
    "    # Verify that the files are paired correctly\n",
    "    if file_1 not in os.listdir(BENCHMARK_PATH / \"benchmark_our_custom_model_jigsaw\"):\n",
    "        console.print(f\"Warning: Unmatched files {file_0} and {file_1}. Skipping.\")\n",
    "        continue\n",
    "    file_path_0 = BENCHMARK_PATH / \"benchmark_our_custom_model_jigsaw\" / file_0\n",
    "    file_path_1 = BENCHMARK_PATH / \"benchmark_our_custom_model_jigsaw\" / file_1 if file_1 else None\n",
    "    df0 = pd.read_csv(file_path_0, encoding='utf-8')\n",
    "    df0['file'] = file_0\n",
    "    df1 = pd.read_csv(file_path_1, encoding='utf-8') if file_1 else None\n",
    "    if df1 is not None:\n",
    "        df1['file'] = file_1\n",
    "    if df1 is not None:\n",
    "        assert len(df0) == len(df1), f\"Length mismatch between {file_0} and {file_1}\"\n",
    "        df = pd.concat([df0, df1], ignore_index=True)\n",
    "    else:\n",
    "        df = df0\n",
    "    assert len(df) == len_benchmark, f\"Length mismatch for {file_0}: {len(df)} vs {len_benchmark}\"\n",
    "    assert \"prediction\" in df.columns, f\"'prediction' column missing in {file_0}\"\n",
    "    assert \"label\" in df.columns, f\"'label' column missing in {file_0}\"\n",
    "    dfs.append(df)\n",
    "\n",
    "console.print(f\"Loaded {len(dfs)} additional files from benchmark directory.\")"
   ]
  },
  {
   "cell_type": "markdown",
   "id": "35a088d5",
   "metadata": {},
   "source": [
    "## Compute the metrics"
   ]
  },
  {
   "cell_type": "code",
   "execution_count": 57,
   "id": "3a8630eb",
   "metadata": {},
   "outputs": [],
   "source": [
    "results = []\n",
    "\n",
    "for df in dfs:\n",
    "    file_name = df['file'].iloc[0]\n",
    "    y_true = df['label'].apply(lambda x: 1 if x == 'tensor(1)' else 0)\n",
    "    y_pred = df['prediction']\n",
    "    row = {\"Model\": file_name.replace('.csv', '').replace('_', ' ')}\n",
    "\n",
    "    try:\n",
    "        report = classification_report(y_true, y_pred, output_dict=True)\n",
    "        row.update({\n",
    "            \"Precision_0\": report['0']['precision'],\n",
    "            \"Recall_0\": report['0']['recall'],\n",
    "            \"F1_0\": report['0']['f1-score'],\n",
    "            \"Precision_1\": report['1']['precision'],\n",
    "            \"Recall_1\": report['1']['recall'],\n",
    "            \"F1_1\": report['1']['f1-score'],\n",
    "            \"Accuracy\": report['accuracy'],\n",
    "        })\n",
    "    except Exception as e:\n",
    "        console.print(f\"[red]Error computing classification report for {file_name}: {e}[/red]\")\n",
    "\n",
    "    try:\n",
    "        roc_auc = roc_auc_score(y_true, y_pred)\n",
    "        row[\"ROC_AUC\"] = roc_auc\n",
    "    except:\n",
    "        row[\"ROC_AUC\"] = None\n",
    "\n",
    "    results.append(row)"
   ]
  },
  {
   "cell_type": "code",
   "execution_count": 58,
   "id": "cab93c1b",
   "metadata": {},
   "outputs": [
    {
     "data": {
      "text/html": [
       "<pre style=\"white-space:pre;overflow-x:auto;line-height:normal;font-family:Menlo,'DejaVu Sans Mono',consolas,'Courier New',monospace\"><span style=\"font-style: italic\">                                         Benchmark Summary for All Models                                          </span>\n",
       "┏━━━━━━━━━━━━━━━━━━━━━━━━━━┳━━━━━━━━━━━━━┳━━━━━━━━━━┳━━━━━━━┳━━━━━━━━━━━━━┳━━━━━━━━━━┳━━━━━━━┳━━━━━━━━━━┳━━━━━━━━━┓\n",
       "┃<span style=\"font-weight: bold\">          Model           </span>┃<span style=\"font-weight: bold\"> Precision_0 </span>┃<span style=\"font-weight: bold\"> Recall_0 </span>┃<span style=\"font-weight: bold\"> F1_0  </span>┃<span style=\"font-weight: bold\"> Precision_1 </span>┃<span style=\"font-weight: bold\"> Recall_1 </span>┃<span style=\"font-weight: bold\"> F1_1  </span>┃<span style=\"font-weight: bold\"> Accuracy </span>┃<span style=\"font-weight: bold\"> ROC_AUC </span>┃\n",
       "┡━━━━━━━━━━━━━━━━━━━━━━━━━━╇━━━━━━━━━━━━━╇━━━━━━━━━━╇━━━━━━━╇━━━━━━━━━━━━━╇━━━━━━━━━━╇━━━━━━━╇━━━━━━━━━━╇━━━━━━━━━┩\n",
       "│   jigsawen output real   │    0.874    │  0.949   │ 0.910 │    0.945    │  0.864   │ 0.902 │  0.907   │  0.907  │\n",
       "│      Qwen3-4B &lt;cot       │             │          │       │             │          │       │          │         │\n",
       "│     intention&gt;-&lt;cot      │             │          │       │             │          │       │          │         │\n",
       "│    categorie list&gt; 0     │             │          │       │             │          │       │          │         │\n",
       "├──────────────────────────┼─────────────┼──────────┼───────┼─────────────┼──────────┼───────┼──────────┼─────────┤\n",
       "│   jigsawfr output oebl   │    0.844    │  0.960   │ 0.898 │    0.953    │  0.823   │ 0.883 │  0.891   │  0.891  │\n",
       "│      Qwen3-4B &lt;cot       │             │          │       │             │          │       │          │         │\n",
       "│     intention&gt;-&lt;cot      │             │          │       │             │          │       │          │         │\n",
       "│    categorie list&gt; 0     │             │          │       │             │          │       │          │         │\n",
       "├──────────────────────────┼─────────────┼──────────┼───────┼─────────────┼──────────┼───────┼──────────┼─────────┤\n",
       "│   jigsawfr output real   │    0.847    │  0.924   │ 0.884 │    0.917    │  0.833   │ 0.873 │  0.879   │  0.879  │\n",
       "│      Qwen3-4B &lt;cot       │             │          │       │             │          │       │          │         │\n",
       "│     intention&gt;-&lt;cot      │             │          │       │             │          │       │          │         │\n",
       "│    categorie list&gt; 0     │             │          │       │             │          │       │          │         │\n",
       "├──────────────────────────┼─────────────┼──────────┼───────┼─────────────┼──────────┼───────┼──────────┼─────────┤\n",
       "│   jigsawen output oeal   │    0.791    │  0.975   │ 0.873 │    0.967    │  0.742   │ 0.840 │  0.859   │  0.859  │\n",
       "│      Qwen3-4B &lt;cot       │             │          │       │             │          │       │          │         │\n",
       "│     intention&gt;-&lt;cot      │             │          │       │             │          │       │          │         │\n",
       "│    categorie list&gt; 0     │             │          │       │             │          │       │          │         │\n",
       "├──────────────────────────┼─────────────┼──────────┼───────┼─────────────┼──────────┼───────┼──────────┼─────────┤\n",
       "│   jigsawen output rdal   │    0.792    │  0.960   │ 0.868 │    0.949    │  0.747   │ 0.836 │  0.854   │  0.854  │\n",
       "│      Qwen3-4B &lt;cot       │             │          │       │             │          │       │          │         │\n",
       "│     intention&gt;-&lt;cot      │             │          │       │             │          │       │          │         │\n",
       "│    categorie list&gt; 0     │             │          │       │             │          │       │          │         │\n",
       "├──────────────────────────┼─────────────┼──────────┼───────┼─────────────┼──────────┼───────┼──────────┼─────────┤\n",
       "│   jigsawen output oebl   │    0.778    │  0.975   │ 0.865 │    0.966    │  0.722   │ 0.827 │  0.848   │  0.848  │\n",
       "│      Qwen3-4B &lt;cot       │             │          │       │             │          │       │          │         │\n",
       "│     intention&gt;-&lt;cot      │             │          │       │             │          │       │          │         │\n",
       "│    categorie list&gt; 0     │             │          │       │             │          │       │          │         │\n",
       "├──────────────────────────┼─────────────┼──────────┼───────┼─────────────┼──────────┼───────┼──────────┼─────────┤\n",
       "│   jigsawfr output oeal   │    0.760    │  0.975   │ 0.854 │    0.965    │  0.692   │ 0.806 │  0.833   │  0.833  │\n",
       "│      Qwen3-4B &lt;cot       │             │          │       │             │          │       │          │         │\n",
       "│     intention&gt;-&lt;cot      │             │          │       │             │          │       │          │         │\n",
       "│    categorie list&gt; 0     │             │          │       │             │          │       │          │         │\n",
       "├──────────────────────────┼─────────────┼──────────┼───────┼─────────────┼──────────┼───────┼──────────┼─────────┤\n",
       "│   jigsawfr output rdal   │    0.750    │  0.970   │ 0.846 │    0.957    │  0.677   │ 0.793 │  0.823   │  0.823  │\n",
       "│      Qwen3-4B &lt;cot       │             │          │       │             │          │       │          │         │\n",
       "│     intention&gt;-&lt;cot      │             │          │       │             │          │       │          │         │\n",
       "│    categorie list&gt; 0     │             │          │       │             │          │       │          │         │\n",
       "├──────────────────────────┼─────────────┼──────────┼───────┼─────────────┼──────────┼───────┼──────────┼─────────┤\n",
       "│   jigsawen output odal   │    0.659    │  0.985   │ 0.789 │    0.970    │  0.490   │ 0.651 │  0.737   │  0.737  │\n",
       "│      Qwen3-4B &lt;cot       │             │          │       │             │          │       │          │         │\n",
       "│     intention&gt;-&lt;cot      │             │          │       │             │          │       │          │         │\n",
       "│    categorie list&gt; 0     │             │          │       │             │          │       │          │         │\n",
       "├──────────────────────────┼─────────────┼──────────┼───────┼─────────────┼──────────┼───────┼──────────┼─────────┤\n",
       "│   jigsawfr output rebl   │    0.644    │  0.995   │ 0.782 │    0.989    │  0.449   │ 0.618 │  0.722   │  0.722  │\n",
       "│      Qwen3-4B &lt;cot       │             │          │       │             │          │       │          │         │\n",
       "│     intention&gt;-&lt;cot      │             │          │       │             │          │       │          │         │\n",
       "│    categorie list&gt; 0     │             │          │       │             │          │       │          │         │\n",
       "├──────────────────────────┼─────────────┼──────────┼───────┼─────────────┼──────────┼───────┼──────────┼─────────┤\n",
       "│   jigsawfr output odal   │    0.621    │  0.985   │ 0.762 │    0.963    │  0.399   │ 0.564 │  0.692   │  0.692  │\n",
       "│      Qwen3-4B &lt;cot       │             │          │       │             │          │       │          │         │\n",
       "│     intention&gt;-&lt;cot      │             │          │       │             │          │       │          │         │\n",
       "│    categorie list&gt; 0     │             │          │       │             │          │       │          │         │\n",
       "├──────────────────────────┼─────────────┼──────────┼───────┼─────────────┼──────────┼───────┼──────────┼─────────┤\n",
       "│   jigsawen output rebl   │    0.609    │  0.990   │ 0.754 │    0.973    │  0.364   │ 0.529 │  0.677   │  0.677  │\n",
       "│      Qwen3-4B &lt;cot       │             │          │       │             │          │       │          │         │\n",
       "│     intention&gt;-&lt;cot      │             │          │       │             │          │       │          │         │\n",
       "│    categorie list&gt; 0     │             │          │       │             │          │       │          │         │\n",
       "└──────────────────────────┴─────────────┴──────────┴───────┴─────────────┴──────────┴───────┴──────────┴─────────┘\n",
       "</pre>\n"
      ],
      "text/plain": [
       "\u001b[3m                                         Benchmark Summary for All Models                                          \u001b[0m\n",
       "┏━━━━━━━━━━━━━━━━━━━━━━━━━━┳━━━━━━━━━━━━━┳━━━━━━━━━━┳━━━━━━━┳━━━━━━━━━━━━━┳━━━━━━━━━━┳━━━━━━━┳━━━━━━━━━━┳━━━━━━━━━┓\n",
       "┃\u001b[1m \u001b[0m\u001b[1m         Model          \u001b[0m\u001b[1m \u001b[0m┃\u001b[1m \u001b[0m\u001b[1mPrecision_0\u001b[0m\u001b[1m \u001b[0m┃\u001b[1m \u001b[0m\u001b[1mRecall_0\u001b[0m\u001b[1m \u001b[0m┃\u001b[1m \u001b[0m\u001b[1mF1_0 \u001b[0m\u001b[1m \u001b[0m┃\u001b[1m \u001b[0m\u001b[1mPrecision_1\u001b[0m\u001b[1m \u001b[0m┃\u001b[1m \u001b[0m\u001b[1mRecall_1\u001b[0m\u001b[1m \u001b[0m┃\u001b[1m \u001b[0m\u001b[1mF1_1 \u001b[0m\u001b[1m \u001b[0m┃\u001b[1m \u001b[0m\u001b[1mAccuracy\u001b[0m\u001b[1m \u001b[0m┃\u001b[1m \u001b[0m\u001b[1mROC_AUC\u001b[0m\u001b[1m \u001b[0m┃\n",
       "┡━━━━━━━━━━━━━━━━━━━━━━━━━━╇━━━━━━━━━━━━━╇━━━━━━━━━━╇━━━━━━━╇━━━━━━━━━━━━━╇━━━━━━━━━━╇━━━━━━━╇━━━━━━━━━━╇━━━━━━━━━┩\n",
       "│   jigsawen output real   │    0.874    │  0.949   │ 0.910 │    0.945    │  0.864   │ 0.902 │  0.907   │  0.907  │\n",
       "│      Qwen3-4B <cot       │             │          │       │             │          │       │          │         │\n",
       "│     intention>-<cot      │             │          │       │             │          │       │          │         │\n",
       "│    categorie list> 0     │             │          │       │             │          │       │          │         │\n",
       "├──────────────────────────┼─────────────┼──────────┼───────┼─────────────┼──────────┼───────┼──────────┼─────────┤\n",
       "│   jigsawfr output oebl   │    0.844    │  0.960   │ 0.898 │    0.953    │  0.823   │ 0.883 │  0.891   │  0.891  │\n",
       "│      Qwen3-4B <cot       │             │          │       │             │          │       │          │         │\n",
       "│     intention>-<cot      │             │          │       │             │          │       │          │         │\n",
       "│    categorie list> 0     │             │          │       │             │          │       │          │         │\n",
       "├──────────────────────────┼─────────────┼──────────┼───────┼─────────────┼──────────┼───────┼──────────┼─────────┤\n",
       "│   jigsawfr output real   │    0.847    │  0.924   │ 0.884 │    0.917    │  0.833   │ 0.873 │  0.879   │  0.879  │\n",
       "│      Qwen3-4B <cot       │             │          │       │             │          │       │          │         │\n",
       "│     intention>-<cot      │             │          │       │             │          │       │          │         │\n",
       "│    categorie list> 0     │             │          │       │             │          │       │          │         │\n",
       "├──────────────────────────┼─────────────┼──────────┼───────┼─────────────┼──────────┼───────┼──────────┼─────────┤\n",
       "│   jigsawen output oeal   │    0.791    │  0.975   │ 0.873 │    0.967    │  0.742   │ 0.840 │  0.859   │  0.859  │\n",
       "│      Qwen3-4B <cot       │             │          │       │             │          │       │          │         │\n",
       "│     intention>-<cot      │             │          │       │             │          │       │          │         │\n",
       "│    categorie list> 0     │             │          │       │             │          │       │          │         │\n",
       "├──────────────────────────┼─────────────┼──────────┼───────┼─────────────┼──────────┼───────┼──────────┼─────────┤\n",
       "│   jigsawen output rdal   │    0.792    │  0.960   │ 0.868 │    0.949    │  0.747   │ 0.836 │  0.854   │  0.854  │\n",
       "│      Qwen3-4B <cot       │             │          │       │             │          │       │          │         │\n",
       "│     intention>-<cot      │             │          │       │             │          │       │          │         │\n",
       "│    categorie list> 0     │             │          │       │             │          │       │          │         │\n",
       "├──────────────────────────┼─────────────┼──────────┼───────┼─────────────┼──────────┼───────┼──────────┼─────────┤\n",
       "│   jigsawen output oebl   │    0.778    │  0.975   │ 0.865 │    0.966    │  0.722   │ 0.827 │  0.848   │  0.848  │\n",
       "│      Qwen3-4B <cot       │             │          │       │             │          │       │          │         │\n",
       "│     intention>-<cot      │             │          │       │             │          │       │          │         │\n",
       "│    categorie list> 0     │             │          │       │             │          │       │          │         │\n",
       "├──────────────────────────┼─────────────┼──────────┼───────┼─────────────┼──────────┼───────┼──────────┼─────────┤\n",
       "│   jigsawfr output oeal   │    0.760    │  0.975   │ 0.854 │    0.965    │  0.692   │ 0.806 │  0.833   │  0.833  │\n",
       "│      Qwen3-4B <cot       │             │          │       │             │          │       │          │         │\n",
       "│     intention>-<cot      │             │          │       │             │          │       │          │         │\n",
       "│    categorie list> 0     │             │          │       │             │          │       │          │         │\n",
       "├──────────────────────────┼─────────────┼──────────┼───────┼─────────────┼──────────┼───────┼──────────┼─────────┤\n",
       "│   jigsawfr output rdal   │    0.750    │  0.970   │ 0.846 │    0.957    │  0.677   │ 0.793 │  0.823   │  0.823  │\n",
       "│      Qwen3-4B <cot       │             │          │       │             │          │       │          │         │\n",
       "│     intention>-<cot      │             │          │       │             │          │       │          │         │\n",
       "│    categorie list> 0     │             │          │       │             │          │       │          │         │\n",
       "├──────────────────────────┼─────────────┼──────────┼───────┼─────────────┼──────────┼───────┼──────────┼─────────┤\n",
       "│   jigsawen output odal   │    0.659    │  0.985   │ 0.789 │    0.970    │  0.490   │ 0.651 │  0.737   │  0.737  │\n",
       "│      Qwen3-4B <cot       │             │          │       │             │          │       │          │         │\n",
       "│     intention>-<cot      │             │          │       │             │          │       │          │         │\n",
       "│    categorie list> 0     │             │          │       │             │          │       │          │         │\n",
       "├──────────────────────────┼─────────────┼──────────┼───────┼─────────────┼──────────┼───────┼──────────┼─────────┤\n",
       "│   jigsawfr output rebl   │    0.644    │  0.995   │ 0.782 │    0.989    │  0.449   │ 0.618 │  0.722   │  0.722  │\n",
       "│      Qwen3-4B <cot       │             │          │       │             │          │       │          │         │\n",
       "│     intention>-<cot      │             │          │       │             │          │       │          │         │\n",
       "│    categorie list> 0     │             │          │       │             │          │       │          │         │\n",
       "├──────────────────────────┼─────────────┼──────────┼───────┼─────────────┼──────────┼───────┼──────────┼─────────┤\n",
       "│   jigsawfr output odal   │    0.621    │  0.985   │ 0.762 │    0.963    │  0.399   │ 0.564 │  0.692   │  0.692  │\n",
       "│      Qwen3-4B <cot       │             │          │       │             │          │       │          │         │\n",
       "│     intention>-<cot      │             │          │       │             │          │       │          │         │\n",
       "│    categorie list> 0     │             │          │       │             │          │       │          │         │\n",
       "├──────────────────────────┼─────────────┼──────────┼───────┼─────────────┼──────────┼───────┼──────────┼─────────┤\n",
       "│   jigsawen output rebl   │    0.609    │  0.990   │ 0.754 │    0.973    │  0.364   │ 0.529 │  0.677   │  0.677  │\n",
       "│      Qwen3-4B <cot       │             │          │       │             │          │       │          │         │\n",
       "│     intention>-<cot      │             │          │       │             │          │       │          │         │\n",
       "│    categorie list> 0     │             │          │       │             │          │       │          │         │\n",
       "└──────────────────────────┴─────────────┴──────────┴───────┴─────────────┴──────────┴───────┴──────────┴─────────┘\n"
      ]
     },
     "metadata": {},
     "output_type": "display_data"
    }
   ],
   "source": [
    "# === Convert to DataFrame & Display as Rich Table ===\n",
    "summary_df = pd.DataFrame(results)\n",
    "summary_df = summary_df.sort_values(by=\"Accuracy\", ascending=False) \n",
    "\n",
    "# === Print Table in Rich ===\n",
    "rich_table = Table(title=\"Benchmark Summary for All Models\", show_lines=True)\n",
    "for col in summary_df.columns:\n",
    "    rich_table.add_column(col, justify=\"center\", no_wrap=False)\n",
    "\n",
    "for _, row in summary_df.iterrows():\n",
    "    rich_table.add_row(*[f\"{x:.3f}\" if isinstance(x, float) else str(x) for x in row])\n",
    "\n",
    "console.print(rich_table)"
   ]
  },
  {
   "cell_type": "code",
   "execution_count": null,
   "id": "684d5f22",
   "metadata": {},
   "outputs": [],
   "source": []
  }
 ],
 "metadata": {
  "kernelspec": {
   "display_name": "SJTU",
   "language": "python",
   "name": "python3"
  },
  "language_info": {
   "codemirror_mode": {
    "name": "ipython",
    "version": 3
   },
   "file_extension": ".py",
   "mimetype": "text/x-python",
   "name": "python",
   "nbconvert_exporter": "python",
   "pygments_lexer": "ipython3",
   "version": "3.10.13"
  }
 },
 "nbformat": 4,
 "nbformat_minor": 5
}
