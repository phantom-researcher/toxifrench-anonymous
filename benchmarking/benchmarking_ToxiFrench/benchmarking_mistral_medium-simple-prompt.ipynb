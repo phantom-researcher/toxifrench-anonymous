{
 "cells": [
  {
   "cell_type": "markdown",
   "id": "540ef521",
   "metadata": {},
   "source": [
    "# Benchmarking [Mistral Medium 3](https://mistral.ai/news/mistral-medium-3)"
   ]
  },
  {
   "cell_type": "markdown",
   "id": "288605a4",
   "metadata": {},
   "source": [
    "[Here](https://docs.mistral.ai/getting-started/models/models_overview/) is the list of Mistral's models."
   ]
  },
  {
   "cell_type": "markdown",
   "id": "922dd626",
   "metadata": {},
   "source": [
    "## Libraries"
   ]
  },
  {
   "cell_type": "code",
   "execution_count": 1,
   "id": "103136ac",
   "metadata": {},
   "outputs": [],
   "source": [
    "from mistralai import Mistral\n",
    "from pathlib import Path\n",
    "from time import sleep\n",
    "import os\n",
    "import pandas as pd\n",
    "from tqdm.rich import tqdm\n",
    "from sklearn.metrics import (\n",
    "    classification_report, confusion_matrix, roc_auc_score\n",
    ")\n",
    "import json\n",
    "from rich.console import Console\n",
    "from rich.table import Table\n",
    "from rich.panel import Panel\n",
    "from rich.text import Text\n",
    "import warnings\n",
    "\n",
    "tqdm.pandas(desc=\"Fetching moderation scores\")\n",
    "console = Console()\n",
    "warnings.filterwarnings(\"ignore\")"
   ]
  },
  {
   "cell_type": "markdown",
   "id": "f80fec44",
   "metadata": {},
   "source": [
    "## Global variables"
   ]
  },
  {
   "cell_type": "code",
   "execution_count": null,
   "id": "345da9c6",
   "metadata": {},
   "outputs": [],
   "source": [
    "ROOT = Path('../..')\n",
    "DATA_DIR = ROOT / \"data\"\n",
    "BENCHMARK_PATH = DATA_DIR / \"benchmark\" / \"benchmark_balanced_subset.csv\"\n",
    "output_path = DATA_DIR / \"benchmark\" / \"mistral_medium_simple_prompt.csv\"\n",
    "API_KEY_PATH = DATA_DIR / \"confidential\" / \"MISTRAL_API.txt\"\n",
    "console = Console()\n",
    "model = \"mistral-medium-2505\"\n",
    "system_prompt = (Path(\".\") / \"API_SYSTEM_PROMPT_simple.txt\").read_text().strip()\n",
    "prompt = (Path(\".\") / \"API_PROMPT_simple.txt\").read_text().strip()"
   ]
  },
  {
   "cell_type": "code",
   "execution_count": 3,
   "id": "aebace85",
   "metadata": {},
   "outputs": [],
   "source": [
    "os.environ[\"HTTP_PROXY\"] = \"socks5h://127.0.0.1:1080\"\n",
    "os.environ[\"HTTPS_PROXY\"] = \"socks5h://127.0.0.1:1080\""
   ]
  },
  {
   "cell_type": "code",
   "execution_count": 4,
   "id": "61336530",
   "metadata": {},
   "outputs": [],
   "source": [
    "client = Mistral(api_key=API_KEY_PATH.read_text().strip())"
   ]
  },
  {
   "cell_type": "markdown",
   "id": "c97e432b",
   "metadata": {},
   "source": [
    "## Load dataset"
   ]
  },
  {
   "cell_type": "code",
   "execution_count": 5,
   "id": "5b4bff82",
   "metadata": {},
   "outputs": [
    {
     "data": {
      "text/html": [
       "<pre style=\"white-space:pre;overflow-x:auto;line-height:normal;font-family:Menlo,'DejaVu Sans Mono',consolas,'Courier New',monospace\"><span style=\"font-style: italic\">     Label Counts     </span>                                                                                             \n",
       "┏━━━━━━━━━━━━┳━━━━━━━┓                                                                                             \n",
       "┃<span style=\"font-weight: bold\">   Label    </span>┃<span style=\"font-weight: bold\"> Count </span>┃                                                                                             \n",
       "┡━━━━━━━━━━━━╇━━━━━━━┩                                                                                             \n",
       "│<span style=\"color: #008080; text-decoration-color: #008080\"> Total Rows </span>│<span style=\"color: #808000; text-decoration-color: #808000\"> 1388  </span>│                                                                                             \n",
       "├────────────┼───────┤                                                                                             \n",
       "│<span style=\"color: #008080; text-decoration-color: #008080\">     1      </span>│<span style=\"color: #808000; text-decoration-color: #808000\">  694  </span>│                                                                                             \n",
       "├────────────┼───────┤                                                                                             \n",
       "│<span style=\"color: #008080; text-decoration-color: #008080\">     0      </span>│<span style=\"color: #808000; text-decoration-color: #808000\">  694  </span>│                                                                                             \n",
       "└────────────┴───────┘                                                                                             \n",
       "</pre>\n"
      ],
      "text/plain": [
       "\u001b[3m     Label Counts     \u001b[0m                                                                                             \n",
       "┏━━━━━━━━━━━━┳━━━━━━━┓                                                                                             \n",
       "┃\u001b[1m \u001b[0m\u001b[1m  Label   \u001b[0m\u001b[1m \u001b[0m┃\u001b[1m \u001b[0m\u001b[1mCount\u001b[0m\u001b[1m \u001b[0m┃                                                                                             \n",
       "┡━━━━━━━━━━━━╇━━━━━━━┩                                                                                             \n",
       "│\u001b[36m \u001b[0m\u001b[36mTotal Rows\u001b[0m\u001b[36m \u001b[0m│\u001b[33m \u001b[0m\u001b[33m1388 \u001b[0m\u001b[33m \u001b[0m│                                                                                             \n",
       "├────────────┼───────┤                                                                                             \n",
       "│\u001b[36m \u001b[0m\u001b[36m    1     \u001b[0m\u001b[36m \u001b[0m│\u001b[33m \u001b[0m\u001b[33m 694 \u001b[0m\u001b[33m \u001b[0m│                                                                                             \n",
       "├────────────┼───────┤                                                                                             \n",
       "│\u001b[36m \u001b[0m\u001b[36m    0     \u001b[0m\u001b[36m \u001b[0m│\u001b[33m \u001b[0m\u001b[33m 694 \u001b[0m\u001b[33m \u001b[0m│                                                                                             \n",
       "└────────────┴───────┘                                                                                             \n"
      ]
     },
     "metadata": {},
     "output_type": "display_data"
    },
    {
     "data": {
      "text/html": [
       "<div>\n",
       "<style scoped>\n",
       "    .dataframe tbody tr th:only-of-type {\n",
       "        vertical-align: middle;\n",
       "    }\n",
       "\n",
       "    .dataframe tbody tr th {\n",
       "        vertical-align: top;\n",
       "    }\n",
       "\n",
       "    .dataframe thead th {\n",
       "        text-align: right;\n",
       "    }\n",
       "</style>\n",
       "<table border=\"1\" class=\"dataframe\">\n",
       "  <thead>\n",
       "    <tr style=\"text-align: right;\">\n",
       "      <th></th>\n",
       "      <th>msg_id</th>\n",
       "      <th>content</th>\n",
       "      <th>label</th>\n",
       "    </tr>\n",
       "  </thead>\n",
       "  <tbody>\n",
       "    <tr>\n",
       "      <th>650</th>\n",
       "      <td>anon_msg_5ff0a5549f65</td>\n",
       "      <td>des bovins mon pote, j'ai jamais vu ça sauf en...</td>\n",
       "      <td>0</td>\n",
       "    </tr>\n",
       "    <tr>\n",
       "      <th>208</th>\n",
       "      <td>anon_msg_2ea521264d58</td>\n",
       "      <td>Cet accent du sud dégueulasse</td>\n",
       "      <td>1</td>\n",
       "    </tr>\n",
       "    <tr>\n",
       "      <th>427</th>\n",
       "      <td>anon_msg_99e41015a911</td>\n",
       "      <td>Joffrin, je serais capable de faire des trucs ...</td>\n",
       "      <td>1</td>\n",
       "    </tr>\n",
       "    <tr>\n",
       "      <th>677</th>\n",
       "      <td>anon_msg_31edc839b8b8</td>\n",
       "      <td>D'accord le julf, mais vous n'êtes pas BLANC.</td>\n",
       "      <td>1</td>\n",
       "    </tr>\n",
       "    <tr>\n",
       "      <th>1272</th>\n",
       "      <td>anon_msg_15c39b3b7e9a</td>\n",
       "      <td>C'est Siemens Espagne hein... Pas le PDG du gr...</td>\n",
       "      <td>0</td>\n",
       "    </tr>\n",
       "  </tbody>\n",
       "</table>\n",
       "</div>"
      ],
      "text/plain": [
       "                     msg_id  \\\n",
       "650   anon_msg_5ff0a5549f65   \n",
       "208   anon_msg_2ea521264d58   \n",
       "427   anon_msg_99e41015a911   \n",
       "677   anon_msg_31edc839b8b8   \n",
       "1272  anon_msg_15c39b3b7e9a   \n",
       "\n",
       "                                                content  label  \n",
       "650   des bovins mon pote, j'ai jamais vu ça sauf en...      0  \n",
       "208                       Cet accent du sud dégueulasse      1  \n",
       "427   Joffrin, je serais capable de faire des trucs ...      1  \n",
       "677       D'accord le julf, mais vous n'êtes pas BLANC.      1  \n",
       "1272  C'est Siemens Espagne hein... Pas le PDG du gr...      0  "
      ]
     },
     "execution_count": 5,
     "metadata": {},
     "output_type": "execute_result"
    }
   ],
   "source": [
    "df = pd.read_csv(BENCHMARK_PATH, encoding=\"utf-8\")\n",
    "df = df.dropna(subset=[\"content\", \"label\"])\n",
    "df[\"label\"] = df[\"label\"].astype(int)\n",
    "\n",
    "label_counts = df[\"label\"].value_counts().reset_index()\n",
    "label_counts.columns = [\"label\", \"count\"]\n",
    "table = Table(title=\"Label Counts\", show_lines=True)\n",
    "table.add_column(\"Label\", justify=\"center\", style=\"cyan\")\n",
    "table.add_column(\"Count\", justify=\"center\", style=\"yellow\")\n",
    "table.add_row(\"Total Rows\", str(len(df)))\n",
    "for _, row in label_counts.iterrows():\n",
    "    table.add_row(str(row[\"label\"]), str(row[\"count\"]))\n",
    "console.print(table, justify=\"left\")\n",
    "df.sample(5, random_state=42)"
   ]
  },
  {
   "cell_type": "markdown",
   "id": "e6a62d8a",
   "metadata": {},
   "source": [
    "## Define prediction function"
   ]
  },
  {
   "cell_type": "code",
   "execution_count": 6,
   "id": "cb249cb4",
   "metadata": {},
   "outputs": [],
   "source": [
    "def create_batch_file(\n",
    "        text: str,\n",
    "        max_tokens: int = 20,\n",
    "    ):\n",
    "    input_text = prompt + f\"« {text} »\" + \"\\n Ce message est-il toxique ?\\n\"\n",
    "    return {\n",
    "        \"messages\": [\n",
    "            {\"role\": \"system\", \"content\": system_prompt},\n",
    "            {\"role\": \"user\", \"content\": input_text}\n",
    "        ],\n",
    "        \"max_tokens\": max_tokens\n",
    "        }"
   ]
  },
  {
   "cell_type": "code",
   "execution_count": 7,
   "id": "32fecf7f",
   "metadata": {},
   "outputs": [],
   "source": [
    "def create_json_batch(df, batch_path):\n",
    "\n",
    "    json_batch = {}\n",
    "\n",
    "    for i, row in df.iterrows():\n",
    "        text = row[\"content\"]\n",
    "        if text in json_batch:\n",
    "            continue\n",
    "\n",
    "        json_batch[text] = {\n",
    "            \"custom_id\": f\"id_{i}\",\n",
    "            \"body\": create_batch_file(\n",
    "                text=text\n",
    "            )\n",
    "        }\n",
    "\n",
    "    batch_path.parent.mkdir(parents=True, exist_ok=True)\n",
    "    with batch_path.open(\"w\", encoding=\"utf-8\") as f:\n",
    "        for entry in json_batch.values():\n",
    "            f.write(json.dumps(entry) + \"\\n\")\n",
    "    console.print(f\"Batch file written to {batch_path}\")"
   ]
  },
  {
   "cell_type": "code",
   "execution_count": 8,
   "id": "7c0717df",
   "metadata": {},
   "outputs": [],
   "source": [
    "def upload_batch(batch_path) -> str:\n",
    "    file = open(batch_path, \"rb\")\n",
    "\n",
    "    uploaded = client.files.upload(\n",
    "        file={\n",
    "            \"file_name\": \"batch_path\",\n",
    "            \"content\": file\n",
    "        },\n",
    "        purpose = \"batch\"\n",
    "    )\n",
    "\n",
    "    uploaded_file_id = uploaded.id\n",
    "\n",
    "    console.print(f\"[green]✔ Uploaded batch file. ID: [bold]{uploaded_file_id}[/bold]\")\n",
    "\n",
    "    return uploaded_file_id"
   ]
  },
  {
   "cell_type": "code",
   "execution_count": 9,
   "id": "e1ad0744",
   "metadata": {},
   "outputs": [],
   "source": [
    "def submit_batch(uploaded_file_id) -> str:\n",
    "\n",
    "    batch_job = client.batch.jobs.create(\n",
    "        input_files=[uploaded_file_id],\n",
    "        model=model,\n",
    "        endpoint=\"/v1/chat/completions\",\n",
    "    )\n",
    "\n",
    "    console.print(f\"[green]✔ Batch submitted. ID: [bold]{batch_job.id}[/bold]\")\n",
    "    return batch_job"
   ]
  },
  {
   "cell_type": "code",
   "execution_count": 10,
   "id": "7a0c2622",
   "metadata": {},
   "outputs": [],
   "source": [
    "def wait_for_completion(batch_job):\n",
    "    elapsed = 0\n",
    "    while batch_job.status in [\"QUEUED\", \"RUNNING\"]:\n",
    "        batch_job = client.batch.jobs.get(job_id=batch_job.id)\n",
    "        console.print(f\"[yellow] Batch status (after {elapsed}s): [bold]{batch_job.status}[/bold]\")\n",
    "        sleep(60)\n",
    "        elapsed += 60\n",
    "    print(f\"Batch job {batch_job.id} completed with status: {batch_job.status}\")\n",
    "    return batch_job"
   ]
  },
  {
   "cell_type": "code",
   "execution_count": 11,
   "id": "0adfb723",
   "metadata": {},
   "outputs": [],
   "source": [
    "def download_and_parse_results(batch, output_path) -> pd.DataFrame:\n",
    "    if batch.output_file is not None:\n",
    "        print(f\"Downloading file to {output_path}\")\n",
    "        output_file = client.files.download(file_id=batch.output_file)\n",
    "        with open(output_path, \"w\") as f:\n",
    "            for chunk in output_file.stream:\n",
    "                f.write(chunk.decode(\"utf-8\"))\n",
    "        print(f\"Downloaded file to {output_path}\")\n",
    "    \n",
    "    content = output_path.read_bytes()\n",
    "\n",
    "    results = []\n",
    "    for line in content.decode(\"utf-8\").splitlines():\n",
    "        data = json.loads(line)\n",
    "        if data.get(\"error\"):\n",
    "            console.print(f\"[red] Error for {data['custom_id']}: {data['error']}\")\n",
    "            continue\n",
    "        id = data[\"custom_id\"]\n",
    "        choice = data[\"response\"][\"body\"][\"choices\"][0][\"message\"][\"content\"].strip()\n",
    "        usage = data[\"response\"][\"body\"].get(\"usage\", {})\n",
    "        results.append({\n",
    "            \"id\": id,\n",
    "            \"conversation\": choice,\n",
    "        })\n",
    "    return pd.DataFrame(results)"
   ]
  },
  {
   "cell_type": "code",
   "execution_count": 12,
   "id": "fed7b6eb",
   "metadata": {},
   "outputs": [],
   "source": [
    "def pipeline_for(df):\n",
    "    create_json_batch(\n",
    "        df,\n",
    "        Path(f\"batch_{model}.jsonl\")\n",
    "    )\n",
    "    uploaded_file_id = upload_batch(Path(f\"batch_{model}.jsonl\"))\n",
    "    batch = submit_batch(uploaded_file_id)\n",
    "    batch = wait_for_completion(batch)\n",
    "    df_answers = download_and_parse_results(batch, Path(f\"answers_{model}.jsonl\"))\n",
    "    return df_answers"
   ]
  },
  {
   "cell_type": "code",
   "execution_count": 13,
   "id": "cba8c88a",
   "metadata": {},
   "outputs": [
    {
     "data": {
      "text/html": [
       "<pre style=\"white-space:pre;overflow-x:auto;line-height:normal;font-family:Menlo,'DejaVu Sans Mono',consolas,'Courier New',monospace\">Batch file written to batch_mistral-medium-<span style=\"color: #008080; text-decoration-color: #008080; font-weight: bold\">2505.j</span>sonl\n",
       "</pre>\n"
      ],
      "text/plain": [
       "Batch file written to batch_mistral-medium-\u001b[1;36m2505.j\u001b[0msonl\n"
      ]
     },
     "metadata": {},
     "output_type": "display_data"
    },
    {
     "data": {
      "text/html": [
       "<pre style=\"white-space:pre;overflow-x:auto;line-height:normal;font-family:Menlo,'DejaVu Sans Mono',consolas,'Courier New',monospace\"><span style=\"color: #008000; text-decoration-color: #008000\">✔ Uploaded batch file. ID: </span><span style=\"color: #008000; text-decoration-color: #008000; font-weight: bold\">071c631d-2bfd-4e63-a22d-a011fe7894ad</span>\n",
       "</pre>\n"
      ],
      "text/plain": [
       "\u001b[32m✔ Uploaded batch file. ID: \u001b[0m\u001b[1;32m071c631d-2bfd-4e63-a22d-a011fe7894ad\u001b[0m\n"
      ]
     },
     "metadata": {},
     "output_type": "display_data"
    },
    {
     "data": {
      "text/html": [
       "<pre style=\"white-space:pre;overflow-x:auto;line-height:normal;font-family:Menlo,'DejaVu Sans Mono',consolas,'Courier New',monospace\"><span style=\"color: #008000; text-decoration-color: #008000\">✔ Batch submitted. ID: </span><span style=\"color: #008000; text-decoration-color: #008000; font-weight: bold\">dea0fff5-94b6-43b7-971a-20d4aa02bd6a</span>\n",
       "</pre>\n"
      ],
      "text/plain": [
       "\u001b[32m✔ Batch submitted. ID: \u001b[0m\u001b[1;32mdea0fff5-94b6-43b7-971a-20d4aa02bd6a\u001b[0m\n"
      ]
     },
     "metadata": {},
     "output_type": "display_data"
    },
    {
     "data": {
      "text/html": [
       "<pre style=\"white-space:pre;overflow-x:auto;line-height:normal;font-family:Menlo,'DejaVu Sans Mono',consolas,'Courier New',monospace\"><span style=\"color: #808000; text-decoration-color: #808000\"> Batch status </span><span style=\"color: #808000; text-decoration-color: #808000; font-weight: bold\">(</span><span style=\"color: #808000; text-decoration-color: #808000\">after 0s</span><span style=\"color: #808000; text-decoration-color: #808000; font-weight: bold\">)</span><span style=\"color: #808000; text-decoration-color: #808000\">: </span><span style=\"color: #808000; text-decoration-color: #808000; font-weight: bold\">RUNNING</span>\n",
       "</pre>\n"
      ],
      "text/plain": [
       "\u001b[33m Batch status \u001b[0m\u001b[1;33m(\u001b[0m\u001b[33mafter 0s\u001b[0m\u001b[1;33m)\u001b[0m\u001b[33m: \u001b[0m\u001b[1;33mRUNNING\u001b[0m\n"
      ]
     },
     "metadata": {},
     "output_type": "display_data"
    },
    {
     "data": {
      "text/html": [
       "<pre style=\"white-space:pre;overflow-x:auto;line-height:normal;font-family:Menlo,'DejaVu Sans Mono',consolas,'Courier New',monospace\"><span style=\"color: #808000; text-decoration-color: #808000\"> Batch status </span><span style=\"color: #808000; text-decoration-color: #808000; font-weight: bold\">(</span><span style=\"color: #808000; text-decoration-color: #808000\">after 60s</span><span style=\"color: #808000; text-decoration-color: #808000; font-weight: bold\">)</span><span style=\"color: #808000; text-decoration-color: #808000\">: </span><span style=\"color: #808000; text-decoration-color: #808000; font-weight: bold\">RUNNING</span>\n",
       "</pre>\n"
      ],
      "text/plain": [
       "\u001b[33m Batch status \u001b[0m\u001b[1;33m(\u001b[0m\u001b[33mafter 60s\u001b[0m\u001b[1;33m)\u001b[0m\u001b[33m: \u001b[0m\u001b[1;33mRUNNING\u001b[0m\n"
      ]
     },
     "metadata": {},
     "output_type": "display_data"
    },
    {
     "data": {
      "text/html": [
       "<pre style=\"white-space:pre;overflow-x:auto;line-height:normal;font-family:Menlo,'DejaVu Sans Mono',consolas,'Courier New',monospace\"><span style=\"color: #808000; text-decoration-color: #808000\"> Batch status </span><span style=\"color: #808000; text-decoration-color: #808000; font-weight: bold\">(</span><span style=\"color: #808000; text-decoration-color: #808000\">after 120s</span><span style=\"color: #808000; text-decoration-color: #808000; font-weight: bold\">)</span><span style=\"color: #808000; text-decoration-color: #808000\">: </span><span style=\"color: #808000; text-decoration-color: #808000; font-weight: bold\">RUNNING</span>\n",
       "</pre>\n"
      ],
      "text/plain": [
       "\u001b[33m Batch status \u001b[0m\u001b[1;33m(\u001b[0m\u001b[33mafter 120s\u001b[0m\u001b[1;33m)\u001b[0m\u001b[33m: \u001b[0m\u001b[1;33mRUNNING\u001b[0m\n"
      ]
     },
     "metadata": {},
     "output_type": "display_data"
    },
    {
     "data": {
      "text/html": [
       "<pre style=\"white-space:pre;overflow-x:auto;line-height:normal;font-family:Menlo,'DejaVu Sans Mono',consolas,'Courier New',monospace\"><span style=\"color: #808000; text-decoration-color: #808000\"> Batch status </span><span style=\"color: #808000; text-decoration-color: #808000; font-weight: bold\">(</span><span style=\"color: #808000; text-decoration-color: #808000\">after 180s</span><span style=\"color: #808000; text-decoration-color: #808000; font-weight: bold\">)</span><span style=\"color: #808000; text-decoration-color: #808000\">: </span><span style=\"color: #808000; text-decoration-color: #808000; font-weight: bold\">RUNNING</span>\n",
       "</pre>\n"
      ],
      "text/plain": [
       "\u001b[33m Batch status \u001b[0m\u001b[1;33m(\u001b[0m\u001b[33mafter 180s\u001b[0m\u001b[1;33m)\u001b[0m\u001b[33m: \u001b[0m\u001b[1;33mRUNNING\u001b[0m\n"
      ]
     },
     "metadata": {},
     "output_type": "display_data"
    },
    {
     "data": {
      "text/html": [
       "<pre style=\"white-space:pre;overflow-x:auto;line-height:normal;font-family:Menlo,'DejaVu Sans Mono',consolas,'Courier New',monospace\"><span style=\"color: #808000; text-decoration-color: #808000\"> Batch status </span><span style=\"color: #808000; text-decoration-color: #808000; font-weight: bold\">(</span><span style=\"color: #808000; text-decoration-color: #808000\">after 240s</span><span style=\"color: #808000; text-decoration-color: #808000; font-weight: bold\">)</span><span style=\"color: #808000; text-decoration-color: #808000\">: </span><span style=\"color: #808000; text-decoration-color: #808000; font-weight: bold\">RUNNING</span>\n",
       "</pre>\n"
      ],
      "text/plain": [
       "\u001b[33m Batch status \u001b[0m\u001b[1;33m(\u001b[0m\u001b[33mafter 240s\u001b[0m\u001b[1;33m)\u001b[0m\u001b[33m: \u001b[0m\u001b[1;33mRUNNING\u001b[0m\n"
      ]
     },
     "metadata": {},
     "output_type": "display_data"
    },
    {
     "data": {
      "text/html": [
       "<pre style=\"white-space:pre;overflow-x:auto;line-height:normal;font-family:Menlo,'DejaVu Sans Mono',consolas,'Courier New',monospace\"><span style=\"color: #808000; text-decoration-color: #808000\"> Batch status </span><span style=\"color: #808000; text-decoration-color: #808000; font-weight: bold\">(</span><span style=\"color: #808000; text-decoration-color: #808000\">after 300s</span><span style=\"color: #808000; text-decoration-color: #808000; font-weight: bold\">)</span><span style=\"color: #808000; text-decoration-color: #808000\">: </span><span style=\"color: #808000; text-decoration-color: #808000; font-weight: bold\">RUNNING</span>\n",
       "</pre>\n"
      ],
      "text/plain": [
       "\u001b[33m Batch status \u001b[0m\u001b[1;33m(\u001b[0m\u001b[33mafter 300s\u001b[0m\u001b[1;33m)\u001b[0m\u001b[33m: \u001b[0m\u001b[1;33mRUNNING\u001b[0m\n"
      ]
     },
     "metadata": {},
     "output_type": "display_data"
    },
    {
     "data": {
      "text/html": [
       "<pre style=\"white-space:pre;overflow-x:auto;line-height:normal;font-family:Menlo,'DejaVu Sans Mono',consolas,'Courier New',monospace\"><span style=\"color: #808000; text-decoration-color: #808000\"> Batch status </span><span style=\"color: #808000; text-decoration-color: #808000; font-weight: bold\">(</span><span style=\"color: #808000; text-decoration-color: #808000\">after 360s</span><span style=\"color: #808000; text-decoration-color: #808000; font-weight: bold\">)</span><span style=\"color: #808000; text-decoration-color: #808000\">: </span><span style=\"color: #808000; text-decoration-color: #808000; font-weight: bold\">SUCCESS</span>\n",
       "</pre>\n"
      ],
      "text/plain": [
       "\u001b[33m Batch status \u001b[0m\u001b[1;33m(\u001b[0m\u001b[33mafter 360s\u001b[0m\u001b[1;33m)\u001b[0m\u001b[33m: \u001b[0m\u001b[1;33mSUCCESS\u001b[0m\n"
      ]
     },
     "metadata": {},
     "output_type": "display_data"
    },
    {
     "name": "stdout",
     "output_type": "stream",
     "text": [
      "Batch job dea0fff5-94b6-43b7-971a-20d4aa02bd6a completed with status: SUCCESS\n",
      "Downloading file to answers_mistral-medium-2505.jsonl\n",
      "Downloaded file to answers_mistral-medium-2505.jsonl\n"
     ]
    }
   ],
   "source": [
    "results = pipeline_for(df)"
   ]
  },
  {
   "cell_type": "code",
   "execution_count": 14,
   "id": "40d8d3cb",
   "metadata": {},
   "outputs": [],
   "source": [
    "df['id'] = [f\"id_{i}\" for i in range(len(df))]\n",
    "results.sort_values(by='id', inplace=True)\n",
    "df.sort_values(by='id', inplace=True)\n",
    "df['toxicity_score'] = results['conversation'].tolist()"
   ]
  },
  {
   "cell_type": "code",
   "execution_count": 15,
   "id": "ec6f61e9",
   "metadata": {},
   "outputs": [],
   "source": [
    "df['toxicity_score'] = results['conversation'].tolist()"
   ]
  },
  {
   "cell_type": "code",
   "execution_count": 16,
   "id": "76b68ef2",
   "metadata": {},
   "outputs": [
    {
     "data": {
      "text/html": [
       "<div>\n",
       "<style scoped>\n",
       "    .dataframe tbody tr th:only-of-type {\n",
       "        vertical-align: middle;\n",
       "    }\n",
       "\n",
       "    .dataframe tbody tr th {\n",
       "        vertical-align: top;\n",
       "    }\n",
       "\n",
       "    .dataframe thead th {\n",
       "        text-align: right;\n",
       "    }\n",
       "</style>\n",
       "<table border=\"1\" class=\"dataframe\">\n",
       "  <thead>\n",
       "    <tr style=\"text-align: right;\">\n",
       "      <th></th>\n",
       "      <th>msg_id</th>\n",
       "      <th>content</th>\n",
       "      <th>label</th>\n",
       "      <th>id</th>\n",
       "      <th>toxicity_score</th>\n",
       "    </tr>\n",
       "  </thead>\n",
       "  <tbody>\n",
       "    <tr>\n",
       "      <th>0</th>\n",
       "      <td>anon_msg_468ffd36870c</td>\n",
       "      <td>AYAAAAAAAAAAAA LES CRACKHEAD ANTI MIGRANT BORD...</td>\n",
       "      <td>1</td>\n",
       "      <td>id_0</td>\n",
       "      <td>toxique</td>\n",
       "    </tr>\n",
       "    <tr>\n",
       "      <th>1</th>\n",
       "      <td>anon_msg_c30ce8c67bac</td>\n",
       "      <td>Bordel le gars chantait 'FN souffrance' alors ...</td>\n",
       "      <td>1</td>\n",
       "      <td>id_1</td>\n",
       "      <td>toxique</td>\n",
       "    </tr>\n",
       "    <tr>\n",
       "      <th>10</th>\n",
       "      <td>anon_msg_4446a6421aed</td>\n",
       "      <td>Tous les débiles qui publient du contenu pour ...</td>\n",
       "      <td>1</td>\n",
       "      <td>id_10</td>\n",
       "      <td>toxique</td>\n",
       "    </tr>\n",
       "    <tr>\n",
       "      <th>100</th>\n",
       "      <td>anon_msg_41a115e1fdb3</td>\n",
       "      <td>pays ultrapauvre à l'islam archi-rigoriste\\nét...</td>\n",
       "      <td>1</td>\n",
       "      <td>id_100</td>\n",
       "      <td>toxique</td>\n",
       "    </tr>\n",
       "    <tr>\n",
       "      <th>1000</th>\n",
       "      <td>anon_msg_f75718ce6344</td>\n",
       "      <td>Ils ont raison\\nLes gauchistes en sueur devant...</td>\n",
       "      <td>0</td>\n",
       "      <td>id_1000</td>\n",
       "      <td>toxique</td>\n",
       "    </tr>\n",
       "    <tr>\n",
       "      <th>...</th>\n",
       "      <td>...</td>\n",
       "      <td>...</td>\n",
       "      <td>...</td>\n",
       "      <td>...</td>\n",
       "      <td>...</td>\n",
       "    </tr>\n",
       "    <tr>\n",
       "      <th>995</th>\n",
       "      <td>anon_msg_051f30d6f917</td>\n",
       "      <td>Bah oui, il est où le problème ?\\nSi j'ai plus...</td>\n",
       "      <td>1</td>\n",
       "      <td>id_995</td>\n",
       "      <td>toxique</td>\n",
       "    </tr>\n",
       "    <tr>\n",
       "      <th>996</th>\n",
       "      <td>anon_msg_6b90c4e1b70c</td>\n",
       "      <td>Je suis étonné que personne ne fasse un dessin...</td>\n",
       "      <td>0</td>\n",
       "      <td>id_996</td>\n",
       "      <td>non-toxique</td>\n",
       "    </tr>\n",
       "    <tr>\n",
       "      <th>997</th>\n",
       "      <td>anon_msg_f781e76d1745</td>\n",
       "      <td>Les nazis c'est fini depuis 45, faut arrêter a...</td>\n",
       "      <td>1</td>\n",
       "      <td>id_997</td>\n",
       "      <td>non-toxique</td>\n",
       "    </tr>\n",
       "    <tr>\n",
       "      <th>998</th>\n",
       "      <td>anon_msg_58e47fd26d87</td>\n",
       "      <td>Par contre le Jap sur 20m il les tabasse\\n:noel:</td>\n",
       "      <td>0</td>\n",
       "      <td>id_998</td>\n",
       "      <td>toxique</td>\n",
       "    </tr>\n",
       "    <tr>\n",
       "      <th>999</th>\n",
       "      <td>anon_msg_982557a16566</td>\n",
       "      <td>Le climat parisien est asymptomatique et d'ext...</td>\n",
       "      <td>0</td>\n",
       "      <td>id_999</td>\n",
       "      <td>toxique</td>\n",
       "    </tr>\n",
       "  </tbody>\n",
       "</table>\n",
       "<p>1388 rows × 5 columns</p>\n",
       "</div>"
      ],
      "text/plain": [
       "                     msg_id  \\\n",
       "0     anon_msg_468ffd36870c   \n",
       "1     anon_msg_c30ce8c67bac   \n",
       "10    anon_msg_4446a6421aed   \n",
       "100   anon_msg_41a115e1fdb3   \n",
       "1000  anon_msg_f75718ce6344   \n",
       "...                     ...   \n",
       "995   anon_msg_051f30d6f917   \n",
       "996   anon_msg_6b90c4e1b70c   \n",
       "997   anon_msg_f781e76d1745   \n",
       "998   anon_msg_58e47fd26d87   \n",
       "999   anon_msg_982557a16566   \n",
       "\n",
       "                                                content  label       id  \\\n",
       "0     AYAAAAAAAAAAAA LES CRACKHEAD ANTI MIGRANT BORD...      1     id_0   \n",
       "1     Bordel le gars chantait 'FN souffrance' alors ...      1     id_1   \n",
       "10    Tous les débiles qui publient du contenu pour ...      1    id_10   \n",
       "100   pays ultrapauvre à l'islam archi-rigoriste\\nét...      1   id_100   \n",
       "1000  Ils ont raison\\nLes gauchistes en sueur devant...      0  id_1000   \n",
       "...                                                 ...    ...      ...   \n",
       "995   Bah oui, il est où le problème ?\\nSi j'ai plus...      1   id_995   \n",
       "996   Je suis étonné que personne ne fasse un dessin...      0   id_996   \n",
       "997   Les nazis c'est fini depuis 45, faut arrêter a...      1   id_997   \n",
       "998    Par contre le Jap sur 20m il les tabasse\\n:noel:      0   id_998   \n",
       "999   Le climat parisien est asymptomatique et d'ext...      0   id_999   \n",
       "\n",
       "     toxicity_score  \n",
       "0           toxique  \n",
       "1           toxique  \n",
       "10          toxique  \n",
       "100         toxique  \n",
       "1000        toxique  \n",
       "...             ...  \n",
       "995         toxique  \n",
       "996     non-toxique  \n",
       "997     non-toxique  \n",
       "998         toxique  \n",
       "999         toxique  \n",
       "\n",
       "[1388 rows x 5 columns]"
      ]
     },
     "execution_count": 16,
     "metadata": {},
     "output_type": "execute_result"
    }
   ],
   "source": [
    "df"
   ]
  },
  {
   "cell_type": "code",
   "execution_count": 17,
   "id": "e612a4a8",
   "metadata": {},
   "outputs": [],
   "source": [
    "df['prediction'] = df['toxicity_score'].apply(lambda x: 1 if x.lower() == \"toxique\" else 0)"
   ]
  },
  {
   "cell_type": "code",
   "execution_count": 18,
   "id": "23ba8ce7",
   "metadata": {},
   "outputs": [
    {
     "data": {
      "text/html": [
       "<pre style=\"white-space:pre;overflow-x:auto;line-height:normal;font-family:Menlo,'DejaVu Sans Mono',consolas,'Courier New',monospace\"><span style=\"color: #800080; text-decoration-color: #800080\">╭────────────────────────────────────────────────── Exemple 335 ──────────────────────────────────────────────────╮</span>\n",
       "<span style=\"color: #800080; text-decoration-color: #800080\">│</span> Contre son camp, on n'oublie pas que les Grecs pratiquaient la pédérastie, et bâtissaient des statues d'hommes  <span style=\"color: #800080; text-decoration-color: #800080\">│</span>\n",
       "<span style=\"color: #800080; text-decoration-color: #800080\">│</span> dénudés.                                                                                                        <span style=\"color: #800080; text-decoration-color: #800080\">│</span>\n",
       "<span style=\"color: #800080; text-decoration-color: #800080\">│</span>                                                                                                                 <span style=\"color: #800080; text-decoration-color: #800080\">│</span>\n",
       "<span style=\"color: #800080; text-decoration-color: #800080\">│</span> <span style=\"color: #808000; text-decoration-color: #808000\">Toxicity Score:</span> <span style=\"font-weight: bold\">1</span>                                                                                               <span style=\"color: #800080; text-decoration-color: #800080\">│</span>\n",
       "<span style=\"color: #800080; text-decoration-color: #800080\">│</span> <span style=\"color: #008080; text-decoration-color: #008080\">Label:</span> <span style=\"font-weight: bold\">1</span>                                                                                                        <span style=\"color: #800080; text-decoration-color: #800080\">│</span>\n",
       "<span style=\"color: #800080; text-decoration-color: #800080\">╰─────────────────────────────────────────────────────────────────────────────────────────────────────────────────╯</span>\n",
       "</pre>\n"
      ],
      "text/plain": [
       "\u001b[35m╭─\u001b[0m\u001b[35m─────────────────────────────────────────────────\u001b[0m\u001b[35m Exemple 335 \u001b[0m\u001b[35m─────────────────────────────────────────────────\u001b[0m\u001b[35m─╮\u001b[0m\n",
       "\u001b[35m│\u001b[0m Contre son camp, on n'oublie pas que les Grecs pratiquaient la pédérastie, et bâtissaient des statues d'hommes  \u001b[35m│\u001b[0m\n",
       "\u001b[35m│\u001b[0m dénudés.                                                                                                        \u001b[35m│\u001b[0m\n",
       "\u001b[35m│\u001b[0m                                                                                                                 \u001b[35m│\u001b[0m\n",
       "\u001b[35m│\u001b[0m \u001b[33mToxicity Score:\u001b[0m \u001b[1m1\u001b[0m                                                                                               \u001b[35m│\u001b[0m\n",
       "\u001b[35m│\u001b[0m \u001b[36mLabel:\u001b[0m \u001b[1m1\u001b[0m                                                                                                        \u001b[35m│\u001b[0m\n",
       "\u001b[35m╰─────────────────────────────────────────────────────────────────────────────────────────────────────────────────╯\u001b[0m\n"
      ]
     },
     "metadata": {},
     "output_type": "display_data"
    },
    {
     "data": {
      "text/html": [
       "<pre style=\"white-space:pre;overflow-x:auto;line-height:normal;font-family:Menlo,'DejaVu Sans Mono',consolas,'Courier New',monospace\"><span style=\"color: #800080; text-decoration-color: #800080\">╭─────── Exemple 1186 ────────╮</span>\n",
       "<span style=\"color: #800080; text-decoration-color: #800080\">│</span> Ca marche pas si tu fais ça <span style=\"color: #800080; text-decoration-color: #800080\">│</span>\n",
       "<span style=\"color: #800080; text-decoration-color: #800080\">│</span>                             <span style=\"color: #800080; text-decoration-color: #800080\">│</span>\n",
       "<span style=\"color: #800080; text-decoration-color: #800080\">│</span> <span style=\"color: #808000; text-decoration-color: #808000\">Toxicity Score:</span> <span style=\"font-weight: bold\">0</span>           <span style=\"color: #800080; text-decoration-color: #800080\">│</span>\n",
       "<span style=\"color: #800080; text-decoration-color: #800080\">│</span> <span style=\"color: #008080; text-decoration-color: #008080\">Label:</span> <span style=\"font-weight: bold\">0</span>                    <span style=\"color: #800080; text-decoration-color: #800080\">│</span>\n",
       "<span style=\"color: #800080; text-decoration-color: #800080\">╰─────────────────────────────╯</span>\n",
       "</pre>\n"
      ],
      "text/plain": [
       "\u001b[35m╭─\u001b[0m\u001b[35m──────\u001b[0m\u001b[35m Exemple 1186 \u001b[0m\u001b[35m───────\u001b[0m\u001b[35m─╮\u001b[0m\n",
       "\u001b[35m│\u001b[0m Ca marche pas si tu fais ça \u001b[35m│\u001b[0m\n",
       "\u001b[35m│\u001b[0m                             \u001b[35m│\u001b[0m\n",
       "\u001b[35m│\u001b[0m \u001b[33mToxicity Score:\u001b[0m \u001b[1m0\u001b[0m           \u001b[35m│\u001b[0m\n",
       "\u001b[35m│\u001b[0m \u001b[36mLabel:\u001b[0m \u001b[1m0\u001b[0m                    \u001b[35m│\u001b[0m\n",
       "\u001b[35m╰─────────────────────────────╯\u001b[0m\n"
      ]
     },
     "metadata": {},
     "output_type": "display_data"
    },
    {
     "data": {
      "text/html": [
       "<pre style=\"white-space:pre;overflow-x:auto;line-height:normal;font-family:Menlo,'DejaVu Sans Mono',consolas,'Courier New',monospace\"><span style=\"color: #800080; text-decoration-color: #800080\">╭──────────── Exemple 1383 ─────────────╮</span>\n",
       "<span style=\"color: #800080; text-decoration-color: #800080\">│</span> Le retour à la monarchie change tout. <span style=\"color: #800080; text-decoration-color: #800080\">│</span>\n",
       "<span style=\"color: #800080; text-decoration-color: #800080\">│</span> Sortir de l'UE change tout.           <span style=\"color: #800080; text-decoration-color: #800080\">│</span>\n",
       "<span style=\"color: #800080; text-decoration-color: #800080\">│</span>                                       <span style=\"color: #800080; text-decoration-color: #800080\">│</span>\n",
       "<span style=\"color: #800080; text-decoration-color: #800080\">│</span> <span style=\"color: #808000; text-decoration-color: #808000\">Toxicity Score:</span> <span style=\"font-weight: bold\">0</span>                     <span style=\"color: #800080; text-decoration-color: #800080\">│</span>\n",
       "<span style=\"color: #800080; text-decoration-color: #800080\">│</span> <span style=\"color: #008080; text-decoration-color: #008080\">Label:</span> <span style=\"font-weight: bold\">0</span>                              <span style=\"color: #800080; text-decoration-color: #800080\">│</span>\n",
       "<span style=\"color: #800080; text-decoration-color: #800080\">╰───────────────────────────────────────╯</span>\n",
       "</pre>\n"
      ],
      "text/plain": [
       "\u001b[35m╭─\u001b[0m\u001b[35m───────────\u001b[0m\u001b[35m Exemple 1383 \u001b[0m\u001b[35m────────────\u001b[0m\u001b[35m─╮\u001b[0m\n",
       "\u001b[35m│\u001b[0m Le retour à la monarchie change tout. \u001b[35m│\u001b[0m\n",
       "\u001b[35m│\u001b[0m Sortir de l'UE change tout.           \u001b[35m│\u001b[0m\n",
       "\u001b[35m│\u001b[0m                                       \u001b[35m│\u001b[0m\n",
       "\u001b[35m│\u001b[0m \u001b[33mToxicity Score:\u001b[0m \u001b[1m0\u001b[0m                     \u001b[35m│\u001b[0m\n",
       "\u001b[35m│\u001b[0m \u001b[36mLabel:\u001b[0m \u001b[1m0\u001b[0m                              \u001b[35m│\u001b[0m\n",
       "\u001b[35m╰───────────────────────────────────────╯\u001b[0m\n"
      ]
     },
     "metadata": {},
     "output_type": "display_data"
    },
    {
     "data": {
      "text/html": [
       "<pre style=\"white-space:pre;overflow-x:auto;line-height:normal;font-family:Menlo,'DejaVu Sans Mono',consolas,'Courier New',monospace\"><span style=\"color: #800080; text-decoration-color: #800080\">╭───────────────────────────── Exemple 360 ─────────────────────────────╮</span>\n",
       "<span style=\"color: #800080; text-decoration-color: #800080\">│</span> Voilà pourquoi il faut se débarrasser de vous en France et en Europe. <span style=\"color: #800080; text-decoration-color: #800080\">│</span>\n",
       "<span style=\"color: #800080; text-decoration-color: #800080\">│</span> On veut pas d'arriérés de votre genre.                                <span style=\"color: #800080; text-decoration-color: #800080\">│</span>\n",
       "<span style=\"color: #800080; text-decoration-color: #800080\">│</span>                                                                       <span style=\"color: #800080; text-decoration-color: #800080\">│</span>\n",
       "<span style=\"color: #800080; text-decoration-color: #800080\">│</span> <span style=\"color: #808000; text-decoration-color: #808000\">Toxicity Score:</span> <span style=\"font-weight: bold\">1</span>                                                     <span style=\"color: #800080; text-decoration-color: #800080\">│</span>\n",
       "<span style=\"color: #800080; text-decoration-color: #800080\">│</span> <span style=\"color: #008080; text-decoration-color: #008080\">Label:</span> <span style=\"font-weight: bold\">1</span>                                                              <span style=\"color: #800080; text-decoration-color: #800080\">│</span>\n",
       "<span style=\"color: #800080; text-decoration-color: #800080\">╰───────────────────────────────────────────────────────────────────────╯</span>\n",
       "</pre>\n"
      ],
      "text/plain": [
       "\u001b[35m╭─\u001b[0m\u001b[35m────────────────────────────\u001b[0m\u001b[35m Exemple 360 \u001b[0m\u001b[35m────────────────────────────\u001b[0m\u001b[35m─╮\u001b[0m\n",
       "\u001b[35m│\u001b[0m Voilà pourquoi il faut se débarrasser de vous en France et en Europe. \u001b[35m│\u001b[0m\n",
       "\u001b[35m│\u001b[0m On veut pas d'arriérés de votre genre.                                \u001b[35m│\u001b[0m\n",
       "\u001b[35m│\u001b[0m                                                                       \u001b[35m│\u001b[0m\n",
       "\u001b[35m│\u001b[0m \u001b[33mToxicity Score:\u001b[0m \u001b[1m1\u001b[0m                                                     \u001b[35m│\u001b[0m\n",
       "\u001b[35m│\u001b[0m \u001b[36mLabel:\u001b[0m \u001b[1m1\u001b[0m                                                              \u001b[35m│\u001b[0m\n",
       "\u001b[35m╰───────────────────────────────────────────────────────────────────────╯\u001b[0m\n"
      ]
     },
     "metadata": {},
     "output_type": "display_data"
    },
    {
     "data": {
      "text/html": [
       "<pre style=\"white-space:pre;overflow-x:auto;line-height:normal;font-family:Menlo,'DejaVu Sans Mono',consolas,'Courier New',monospace\"><span style=\"color: #800080; text-decoration-color: #800080\">╭───────────────────────────────────────────── Exemple 896 ─────────────────────────────────────────────╮</span>\n",
       "<span style=\"color: #800080; text-decoration-color: #800080\">│</span> Sincèrement je pense qu'il a un gros problème psycatrique le mec qui boucle depuis 2 ans sur le topic <span style=\"color: #800080; text-decoration-color: #800080\">│</span>\n",
       "<span style=\"color: #800080; text-decoration-color: #800080\">│</span>                                                                                                       <span style=\"color: #800080; text-decoration-color: #800080\">│</span>\n",
       "<span style=\"color: #800080; text-decoration-color: #800080\">│</span> <span style=\"color: #808000; text-decoration-color: #808000\">Toxicity Score:</span> <span style=\"font-weight: bold\">1</span>                                                                                     <span style=\"color: #800080; text-decoration-color: #800080\">│</span>\n",
       "<span style=\"color: #800080; text-decoration-color: #800080\">│</span> <span style=\"color: #008080; text-decoration-color: #008080\">Label:</span> <span style=\"font-weight: bold\">0</span>                                                                                              <span style=\"color: #800080; text-decoration-color: #800080\">│</span>\n",
       "<span style=\"color: #800080; text-decoration-color: #800080\">╰───────────────────────────────────────────────────────────────────────────────────────────────────────╯</span>\n",
       "</pre>\n"
      ],
      "text/plain": [
       "\u001b[35m╭─\u001b[0m\u001b[35m────────────────────────────────────────────\u001b[0m\u001b[35m Exemple 896 \u001b[0m\u001b[35m────────────────────────────────────────────\u001b[0m\u001b[35m─╮\u001b[0m\n",
       "\u001b[35m│\u001b[0m Sincèrement je pense qu'il a un gros problème psycatrique le mec qui boucle depuis 2 ans sur le topic \u001b[35m│\u001b[0m\n",
       "\u001b[35m│\u001b[0m                                                                                                       \u001b[35m│\u001b[0m\n",
       "\u001b[35m│\u001b[0m \u001b[33mToxicity Score:\u001b[0m \u001b[1m1\u001b[0m                                                                                     \u001b[35m│\u001b[0m\n",
       "\u001b[35m│\u001b[0m \u001b[36mLabel:\u001b[0m \u001b[1m0\u001b[0m                                                                                              \u001b[35m│\u001b[0m\n",
       "\u001b[35m╰───────────────────────────────────────────────────────────────────────────────────────────────────────╯\u001b[0m\n"
      ]
     },
     "metadata": {},
     "output_type": "display_data"
    }
   ],
   "source": [
    "for i, row in df.sample(5, random_state=42).iterrows():\n",
    "    content = Text(row['content'], style=\"bold\")\n",
    "    toxicity = f\"[yellow]Toxicity Score:[/yellow] [bold]{row['prediction']}[/bold]\"\n",
    "    label = f\"[cyan]Label:[/cyan] [bold]{row['label']}[/bold]\"\n",
    "    panel = Panel.fit(\n",
    "        f\"{content}\\n\\n{toxicity}\\n{label}\",\n",
    "        title=f\"Exemple {i+1}\",\n",
    "        border_style=\"magenta\"\n",
    "    )\n",
    "    console.print(panel)"
   ]
  },
  {
   "cell_type": "markdown",
   "id": "d190c935",
   "metadata": {},
   "source": [
    "## Metrics & Report        "
   ]
  },
  {
   "cell_type": "markdown",
   "id": "a79ba1fd",
   "metadata": {},
   "source": [
    "| Metric                     | Formula                                           | Interpretation                                                                                                       |\n",
    "| -------------------------- | ------------------------------------------------- | -------------------------------------------------------------------------------------------------------------------- |\n",
    "| **Precision**              | `TP / (TP + FP)`                                  | Of the samples predicted **toxic**, how many were **actually toxic**? <br>→ High precision = **low false positives** |\n",
    "| **Recall** *(Sensitivity)* | `TP / (TP + FN)`                                  | Of the **actual toxic** samples, how many did we **correctly identify**? <br>→ High recall = **low false negatives** |\n",
    "| **F1-score**               | `2 * (Precision * Recall) / (Precision + Recall)` | Harmonic mean of precision and recall. <br>→ Best when **balance** is needed                                         |\n",
    "| **Accuracy**               | `(TP + TN) / (TP + TN + FP + FN)`                 | Fraction of all correct predictions (toxic and non-toxic). <br>→ Can be misleading on imbalanced data                |\n",
    "| **ROC AUC**                | Area under the ROC Curve                          | Measures the **ranking ability** of the classifier. <br>→ Higher = better separation of toxic vs. non-toxic          |\n"
   ]
  },
  {
   "cell_type": "code",
   "execution_count": 19,
   "id": "76673d8f",
   "metadata": {},
   "outputs": [],
   "source": [
    "y_true = df[\"label\"]\n",
    "y_pred = df[\"prediction\"]"
   ]
  },
  {
   "cell_type": "code",
   "execution_count": 20,
   "id": "7bf73e55",
   "metadata": {},
   "outputs": [
    {
     "data": {
      "text/html": [
       "<pre style=\"white-space:pre;overflow-x:auto;line-height:normal;font-family:Menlo,'DejaVu Sans Mono',consolas,'Courier New',monospace\"><span style=\"font-style: italic\">                Classification Report                 </span>\n",
       "┏━━━━━━━━━━┳━━━━━━━━━━━┳━━━━━━━━┳━━━━━━━━━━┳━━━━━━━━━┓\n",
       "┃<span style=\"font-weight: bold\">  Classe  </span>┃<span style=\"font-weight: bold\"> Precision </span>┃<span style=\"font-weight: bold\"> Recall </span>┃<span style=\"font-weight: bold\"> F1-score </span>┃<span style=\"font-weight: bold\"> Support </span>┃\n",
       "┡━━━━━━━━━━╇━━━━━━━━━━━╇━━━━━━━━╇━━━━━━━━━━╇━━━━━━━━━┩\n",
       "│<span style=\"color: #008080; text-decoration-color: #008080\">    0     </span>│   0.971   │ 0.679  │  0.799   │   694   │\n",
       "├──────────┼───────────┼────────┼──────────┼─────────┤\n",
       "│<span style=\"color: #008080; text-decoration-color: #008080\">    1     </span>│   0.753   │ 0.980  │  0.852   │   694   │\n",
       "├──────────┼───────────┼────────┼──────────┼─────────┤\n",
       "│<span style=\"color: #008080; text-decoration-color: #008080\"> </span><span style=\"color: #808000; text-decoration-color: #808000; font-weight: bold\">Accuracy</span><span style=\"color: #008080; text-decoration-color: #008080\"> </span>│     -     │   -    │  0.829   │    -    │\n",
       "└──────────┴───────────┴────────┴──────────┴─────────┘\n",
       "</pre>\n"
      ],
      "text/plain": [
       "\u001b[3m                Classification Report                 \u001b[0m\n",
       "┏━━━━━━━━━━┳━━━━━━━━━━━┳━━━━━━━━┳━━━━━━━━━━┳━━━━━━━━━┓\n",
       "┃\u001b[1m \u001b[0m\u001b[1m Classe \u001b[0m\u001b[1m \u001b[0m┃\u001b[1m \u001b[0m\u001b[1mPrecision\u001b[0m\u001b[1m \u001b[0m┃\u001b[1m \u001b[0m\u001b[1mRecall\u001b[0m\u001b[1m \u001b[0m┃\u001b[1m \u001b[0m\u001b[1mF1-score\u001b[0m\u001b[1m \u001b[0m┃\u001b[1m \u001b[0m\u001b[1mSupport\u001b[0m\u001b[1m \u001b[0m┃\n",
       "┡━━━━━━━━━━╇━━━━━━━━━━━╇━━━━━━━━╇━━━━━━━━━━╇━━━━━━━━━┩\n",
       "│\u001b[36m \u001b[0m\u001b[36m   0    \u001b[0m\u001b[36m \u001b[0m│   0.971   │ 0.679  │  0.799   │   694   │\n",
       "├──────────┼───────────┼────────┼──────────┼─────────┤\n",
       "│\u001b[36m \u001b[0m\u001b[36m   1    \u001b[0m\u001b[36m \u001b[0m│   0.753   │ 0.980  │  0.852   │   694   │\n",
       "├──────────┼───────────┼────────┼──────────┼─────────┤\n",
       "│\u001b[36m \u001b[0m\u001b[1;33mAccuracy\u001b[0m\u001b[36m \u001b[0m│     -     │   -    │  0.829   │    -    │\n",
       "└──────────┴───────────┴────────┴──────────┴─────────┘\n"
      ]
     },
     "metadata": {},
     "output_type": "display_data"
    },
    {
     "data": {
      "text/html": [
       "<pre style=\"white-space:pre;overflow-x:auto;line-height:normal;font-family:Menlo,'DejaVu Sans Mono',consolas,'Courier New',monospace\"><span style=\"font-style: italic\">      Matrice de Confusion      </span>\n",
       "┏━━━━━━━━┳━━━━━━━━━━┳━━━━━━━━━━┓\n",
       "┃<span style=\"font-weight: bold\">        </span>┃<span style=\"font-weight: bold\"> Prédit 0 </span>┃<span style=\"font-weight: bold\"> Prédit 1 </span>┃\n",
       "┡━━━━━━━━╇━━━━━━━━━━╇━━━━━━━━━━┩\n",
       "│<span style=\"font-weight: bold\"> Réel 0 </span>│   471    │   223    │\n",
       "├────────┼──────────┼──────────┤\n",
       "│<span style=\"font-weight: bold\"> Réel 1 </span>│    14    │   680    │\n",
       "└────────┴──────────┴──────────┘\n",
       "</pre>\n"
      ],
      "text/plain": [
       "\u001b[3m      Matrice de Confusion      \u001b[0m\n",
       "┏━━━━━━━━┳━━━━━━━━━━┳━━━━━━━━━━┓\n",
       "┃\u001b[1m \u001b[0m\u001b[1m      \u001b[0m\u001b[1m \u001b[0m┃\u001b[1m \u001b[0m\u001b[1mPrédit 0\u001b[0m\u001b[1m \u001b[0m┃\u001b[1m \u001b[0m\u001b[1mPrédit 1\u001b[0m\u001b[1m \u001b[0m┃\n",
       "┡━━━━━━━━╇━━━━━━━━━━╇━━━━━━━━━━┩\n",
       "│\u001b[1m \u001b[0m\u001b[1mRéel 0\u001b[0m\u001b[1m \u001b[0m│   471    │   223    │\n",
       "├────────┼──────────┼──────────┤\n",
       "│\u001b[1m \u001b[0m\u001b[1mRéel 1\u001b[0m\u001b[1m \u001b[0m│    14    │   680    │\n",
       "└────────┴──────────┴──────────┘\n"
      ]
     },
     "metadata": {},
     "output_type": "display_data"
    },
    {
     "data": {
      "text/html": [
       "<pre style=\"white-space:pre;overflow-x:auto;line-height:normal;font-family:Menlo,'DejaVu Sans Mono',consolas,'Courier New',monospace\">╭──────────────────────────────────────────────────── ROC AUC ────────────────────────────────────────────────────╮\n",
       "│ <span style=\"color: #008000; text-decoration-color: #008000; font-weight: bold\">ROC AUC Score : 0.829</span>                                                                                           │\n",
       "╰─────────────────────────────────────────────────────────────────────────────────────────────────────────────────╯\n",
       "</pre>\n"
      ],
      "text/plain": [
       "╭──────────────────────────────────────────────────── ROC AUC ────────────────────────────────────────────────────╮\n",
       "│ \u001b[1;32mROC AUC Score : 0.829\u001b[0m                                                                                           │\n",
       "╰─────────────────────────────────────────────────────────────────────────────────────────────────────────────────╯\n"
      ]
     },
     "metadata": {},
     "output_type": "display_data"
    }
   ],
   "source": [
    "# Rapport de classification\n",
    "report = classification_report(y_true, y_pred, digits=3, output_dict=True)\n",
    "table = Table(title=\"Classification Report\", show_lines=True)\n",
    "table.add_column(\"Classe\", style=\"cyan\", justify=\"center\")\n",
    "table.add_column(\"Precision\", justify=\"center\")\n",
    "table.add_column(\"Recall\", justify=\"center\")\n",
    "table.add_column(\"F1-score\", justify=\"center\")\n",
    "table.add_column(\"Support\", justify=\"center\")\n",
    "\n",
    "for label, metrics in report.items():\n",
    "    if label in [\"accuracy\", \"macro avg\", \"weighted avg\"]:\n",
    "        continue\n",
    "    table.add_row(\n",
    "        str(label),\n",
    "        f\"{metrics['precision']:.3f}\",\n",
    "        f\"{metrics['recall']:.3f}\",\n",
    "        f\"{metrics['f1-score']:.3f}\",\n",
    "        f\"{int(metrics['support'])}\"\n",
    "    )\n",
    "# Ajout de l'accuracy\n",
    "table.add_row(\n",
    "    \"[bold yellow]Accuracy[/bold yellow]\",\n",
    "    \"-\",\n",
    "    \"-\",\n",
    "    f\"{report['accuracy']:.3f}\",\n",
    "    \"-\"\n",
    ")\n",
    "console.print(table)\n",
    "\n",
    "# Matrice de confusion\n",
    "cm = confusion_matrix(y_true, y_pred)\n",
    "cm_table = Table(title=\"Matrice de Confusion\", show_lines=True)\n",
    "cm_table.add_column(\" \", style=\"bold\")\n",
    "cm_table.add_column(\"Prédit 0\", justify=\"center\")\n",
    "cm_table.add_column(\"Prédit 1\", justify=\"center\")\n",
    "cm_table.add_row(\"Réel 0\", str(cm[0, 0]), str(cm[0, 1]))\n",
    "cm_table.add_row(\"Réel 1\", str(cm[1, 0]), str(cm[1, 1]))\n",
    "console.print(cm_table)\n",
    "\n",
    "# ROC AUC\n",
    "try:\n",
    "    auc = roc_auc_score(y_true, df[\"prediction\"])\n",
    "    console.print(Panel(f\"[bold green]ROC AUC Score : {auc:.3f}[/bold green]\", title=\"ROC AUC\"))\n",
    "except:\n",
    "    console.print(Panel(\"[bold red]Impossible de calculer le ROC AUC.[/bold red]\", title=\"ROC AUC\"))"
   ]
  },
  {
   "cell_type": "markdown",
   "id": "5ae781b8",
   "metadata": {},
   "source": [
    "## Save the predictions"
   ]
  },
  {
   "cell_type": "code",
   "execution_count": 21,
   "id": "07519936",
   "metadata": {},
   "outputs": [
    {
     "data": {
      "text/html": [
       "<div>\n",
       "<style scoped>\n",
       "    .dataframe tbody tr th:only-of-type {\n",
       "        vertical-align: middle;\n",
       "    }\n",
       "\n",
       "    .dataframe tbody tr th {\n",
       "        vertical-align: top;\n",
       "    }\n",
       "\n",
       "    .dataframe thead th {\n",
       "        text-align: right;\n",
       "    }\n",
       "</style>\n",
       "<table border=\"1\" class=\"dataframe\">\n",
       "  <thead>\n",
       "    <tr style=\"text-align: right;\">\n",
       "      <th></th>\n",
       "      <th>msg_id</th>\n",
       "      <th>content</th>\n",
       "      <th>label</th>\n",
       "      <th>id</th>\n",
       "      <th>toxicity_score</th>\n",
       "      <th>prediction</th>\n",
       "    </tr>\n",
       "  </thead>\n",
       "  <tbody>\n",
       "    <tr>\n",
       "      <th>0</th>\n",
       "      <td>anon_msg_468ffd36870c</td>\n",
       "      <td>AYAAAAAAAAAAAA LES CRACKHEAD ANTI MIGRANT BORD...</td>\n",
       "      <td>1</td>\n",
       "      <td>id_0</td>\n",
       "      <td>toxique</td>\n",
       "      <td>1</td>\n",
       "    </tr>\n",
       "    <tr>\n",
       "      <th>1</th>\n",
       "      <td>anon_msg_c30ce8c67bac</td>\n",
       "      <td>Bordel le gars chantait 'FN souffrance' alors ...</td>\n",
       "      <td>1</td>\n",
       "      <td>id_1</td>\n",
       "      <td>toxique</td>\n",
       "      <td>1</td>\n",
       "    </tr>\n",
       "    <tr>\n",
       "      <th>10</th>\n",
       "      <td>anon_msg_4446a6421aed</td>\n",
       "      <td>Tous les débiles qui publient du contenu pour ...</td>\n",
       "      <td>1</td>\n",
       "      <td>id_10</td>\n",
       "      <td>toxique</td>\n",
       "      <td>1</td>\n",
       "    </tr>\n",
       "    <tr>\n",
       "      <th>100</th>\n",
       "      <td>anon_msg_41a115e1fdb3</td>\n",
       "      <td>pays ultrapauvre à l'islam archi-rigoriste\\nét...</td>\n",
       "      <td>1</td>\n",
       "      <td>id_100</td>\n",
       "      <td>toxique</td>\n",
       "      <td>1</td>\n",
       "    </tr>\n",
       "    <tr>\n",
       "      <th>1000</th>\n",
       "      <td>anon_msg_f75718ce6344</td>\n",
       "      <td>Ils ont raison\\nLes gauchistes en sueur devant...</td>\n",
       "      <td>0</td>\n",
       "      <td>id_1000</td>\n",
       "      <td>toxique</td>\n",
       "      <td>1</td>\n",
       "    </tr>\n",
       "    <tr>\n",
       "      <th>...</th>\n",
       "      <td>...</td>\n",
       "      <td>...</td>\n",
       "      <td>...</td>\n",
       "      <td>...</td>\n",
       "      <td>...</td>\n",
       "      <td>...</td>\n",
       "    </tr>\n",
       "    <tr>\n",
       "      <th>995</th>\n",
       "      <td>anon_msg_051f30d6f917</td>\n",
       "      <td>Bah oui, il est où le problème ?\\nSi j'ai plus...</td>\n",
       "      <td>1</td>\n",
       "      <td>id_995</td>\n",
       "      <td>toxique</td>\n",
       "      <td>1</td>\n",
       "    </tr>\n",
       "    <tr>\n",
       "      <th>996</th>\n",
       "      <td>anon_msg_6b90c4e1b70c</td>\n",
       "      <td>Je suis étonné que personne ne fasse un dessin...</td>\n",
       "      <td>0</td>\n",
       "      <td>id_996</td>\n",
       "      <td>non-toxique</td>\n",
       "      <td>0</td>\n",
       "    </tr>\n",
       "    <tr>\n",
       "      <th>997</th>\n",
       "      <td>anon_msg_f781e76d1745</td>\n",
       "      <td>Les nazis c'est fini depuis 45, faut arrêter a...</td>\n",
       "      <td>1</td>\n",
       "      <td>id_997</td>\n",
       "      <td>non-toxique</td>\n",
       "      <td>0</td>\n",
       "    </tr>\n",
       "    <tr>\n",
       "      <th>998</th>\n",
       "      <td>anon_msg_58e47fd26d87</td>\n",
       "      <td>Par contre le Jap sur 20m il les tabasse\\n:noel:</td>\n",
       "      <td>0</td>\n",
       "      <td>id_998</td>\n",
       "      <td>toxique</td>\n",
       "      <td>1</td>\n",
       "    </tr>\n",
       "    <tr>\n",
       "      <th>999</th>\n",
       "      <td>anon_msg_982557a16566</td>\n",
       "      <td>Le climat parisien est asymptomatique et d'ext...</td>\n",
       "      <td>0</td>\n",
       "      <td>id_999</td>\n",
       "      <td>toxique</td>\n",
       "      <td>1</td>\n",
       "    </tr>\n",
       "  </tbody>\n",
       "</table>\n",
       "<p>1388 rows × 6 columns</p>\n",
       "</div>"
      ],
      "text/plain": [
       "                     msg_id  \\\n",
       "0     anon_msg_468ffd36870c   \n",
       "1     anon_msg_c30ce8c67bac   \n",
       "10    anon_msg_4446a6421aed   \n",
       "100   anon_msg_41a115e1fdb3   \n",
       "1000  anon_msg_f75718ce6344   \n",
       "...                     ...   \n",
       "995   anon_msg_051f30d6f917   \n",
       "996   anon_msg_6b90c4e1b70c   \n",
       "997   anon_msg_f781e76d1745   \n",
       "998   anon_msg_58e47fd26d87   \n",
       "999   anon_msg_982557a16566   \n",
       "\n",
       "                                                content  label       id  \\\n",
       "0     AYAAAAAAAAAAAA LES CRACKHEAD ANTI MIGRANT BORD...      1     id_0   \n",
       "1     Bordel le gars chantait 'FN souffrance' alors ...      1     id_1   \n",
       "10    Tous les débiles qui publient du contenu pour ...      1    id_10   \n",
       "100   pays ultrapauvre à l'islam archi-rigoriste\\nét...      1   id_100   \n",
       "1000  Ils ont raison\\nLes gauchistes en sueur devant...      0  id_1000   \n",
       "...                                                 ...    ...      ...   \n",
       "995   Bah oui, il est où le problème ?\\nSi j'ai plus...      1   id_995   \n",
       "996   Je suis étonné que personne ne fasse un dessin...      0   id_996   \n",
       "997   Les nazis c'est fini depuis 45, faut arrêter a...      1   id_997   \n",
       "998    Par contre le Jap sur 20m il les tabasse\\n:noel:      0   id_998   \n",
       "999   Le climat parisien est asymptomatique et d'ext...      0   id_999   \n",
       "\n",
       "     toxicity_score  prediction  \n",
       "0           toxique           1  \n",
       "1           toxique           1  \n",
       "10          toxique           1  \n",
       "100         toxique           1  \n",
       "1000        toxique           1  \n",
       "...             ...         ...  \n",
       "995         toxique           1  \n",
       "996     non-toxique           0  \n",
       "997     non-toxique           0  \n",
       "998         toxique           1  \n",
       "999         toxique           1  \n",
       "\n",
       "[1388 rows x 6 columns]"
      ]
     },
     "execution_count": 21,
     "metadata": {},
     "output_type": "execute_result"
    }
   ],
   "source": [
    "df"
   ]
  },
  {
   "cell_type": "code",
   "execution_count": 22,
   "id": "f64344e1",
   "metadata": {},
   "outputs": [
    {
     "data": {
      "text/plain": [
       "PosixPath('../data/benchmark/mistral_medium_simple_prompt.csv')"
      ]
     },
     "execution_count": 22,
     "metadata": {},
     "output_type": "execute_result"
    }
   ],
   "source": [
    "output_path"
   ]
  },
  {
   "cell_type": "code",
   "execution_count": 23,
   "id": "a1cda421",
   "metadata": {},
   "outputs": [],
   "source": [
    "df.to_csv(output_path, index=False, encoding=\"utf-8\")"
   ]
  }
 ],
 "metadata": {
  "kernelspec": {
   "display_name": "SJTU",
   "language": "python",
   "name": "python3"
  },
  "language_info": {
   "codemirror_mode": {
    "name": "ipython",
    "version": 3
   },
   "file_extension": ".py",
   "mimetype": "text/x-python",
   "name": "python",
   "nbconvert_exporter": "python",
   "pygments_lexer": "ipython3",
   "version": "3.10.13"
  }
 },
 "nbformat": 4,
 "nbformat_minor": 5
}
