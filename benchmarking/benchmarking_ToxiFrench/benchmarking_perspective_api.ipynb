{
 "cells": [
  {
   "cell_type": "markdown",
   "id": "540ef521",
   "metadata": {},
   "source": [
    "# Benchmarking [Perspective API](https://developers.perspectiveapi.com/s/about-the-api?language=en_US)"
   ]
  },
  {
   "cell_type": "markdown",
   "id": "922dd626",
   "metadata": {},
   "source": [
    "## Libraries"
   ]
  },
  {
   "cell_type": "code",
   "execution_count": 19,
   "id": "103136ac",
   "metadata": {},
   "outputs": [],
   "source": [
    "import requests\n",
    "from pathlib import Path\n",
    "from time import sleep\n",
    "import os\n",
    "import pandas as pd\n",
    "import json\n",
    "from tqdm.rich import tqdm\n",
    "from sklearn.metrics import (\n",
    "    classification_report, confusion_matrix, roc_auc_score,\n",
    "    precision_score, recall_score, f1_score, accuracy_score\n",
    ")\n",
    "from rich.console import Console\n",
    "from rich.table import Table\n",
    "from rich.panel import Panel\n",
    "from rich.text import Text\n",
    "import matplotlib.pyplot as plt\n",
    "import warnings\n",
    "\n",
    "tqdm.pandas(desc=\"Fetching moderation scores\")\n",
    "console = Console()\n",
    "warnings.filterwarnings(\"ignore\")"
   ]
  },
  {
   "cell_type": "markdown",
   "id": "f80fec44",
   "metadata": {},
   "source": [
    "## Global variables"
   ]
  },
  {
   "cell_type": "code",
   "execution_count": null,
   "id": "345da9c6",
   "metadata": {},
   "outputs": [],
   "source": [
    "ROOT = Path('../..')\n",
    "DATA_DIR = ROOT / \"data\"\n",
    "BENCHMARK_PATH = DATA_DIR / \"benchmark\" / \"benchmark_balanced_subset.csv\"\n",
    "output_path = DATA_DIR / \"benchmark\" / \"perspective_scores.csv\"\n",
    "API_KEY_PATH = DATA_DIR / \"confidential\" / \"perspective_API.txt\"\n",
    "API_KEY = API_KEY_PATH.read_text().strip()\n",
    "console = Console()"
   ]
  },
  {
   "cell_type": "code",
   "execution_count": 3,
   "id": "aebace85",
   "metadata": {},
   "outputs": [],
   "source": [
    "os.environ[\"HTTP_PROXY\"] = \"socks5h://127.0.0.1:1080\"\n",
    "os.environ[\"HTTPS_PROXY\"] = \"socks5h://127.0.0.1:1080\""
   ]
  },
  {
   "cell_type": "markdown",
   "id": "c97e432b",
   "metadata": {},
   "source": [
    "## Load dataset"
   ]
  },
  {
   "cell_type": "code",
   "execution_count": 4,
   "id": "5b4bff82",
   "metadata": {},
   "outputs": [
    {
     "data": {
      "text/html": [
       "<pre style=\"white-space:pre;overflow-x:auto;line-height:normal;font-family:Menlo,'DejaVu Sans Mono',consolas,'Courier New',monospace\"><span style=\"font-style: italic\">     Label Counts     </span>                                                                                             \n",
       "┏━━━━━━━━━━━━┳━━━━━━━┓                                                                                             \n",
       "┃<span style=\"font-weight: bold\">   Label    </span>┃<span style=\"font-weight: bold\"> Count </span>┃                                                                                             \n",
       "┡━━━━━━━━━━━━╇━━━━━━━┩                                                                                             \n",
       "│<span style=\"color: #008080; text-decoration-color: #008080\"> Total Rows </span>│<span style=\"color: #808000; text-decoration-color: #808000\"> 1388  </span>│                                                                                             \n",
       "├────────────┼───────┤                                                                                             \n",
       "│<span style=\"color: #008080; text-decoration-color: #008080\">     1      </span>│<span style=\"color: #808000; text-decoration-color: #808000\">  694  </span>│                                                                                             \n",
       "├────────────┼───────┤                                                                                             \n",
       "│<span style=\"color: #008080; text-decoration-color: #008080\">     0      </span>│<span style=\"color: #808000; text-decoration-color: #808000\">  694  </span>│                                                                                             \n",
       "└────────────┴───────┘                                                                                             \n",
       "</pre>\n"
      ],
      "text/plain": [
       "\u001b[3m     Label Counts     \u001b[0m                                                                                             \n",
       "┏━━━━━━━━━━━━┳━━━━━━━┓                                                                                             \n",
       "┃\u001b[1m \u001b[0m\u001b[1m  Label   \u001b[0m\u001b[1m \u001b[0m┃\u001b[1m \u001b[0m\u001b[1mCount\u001b[0m\u001b[1m \u001b[0m┃                                                                                             \n",
       "┡━━━━━━━━━━━━╇━━━━━━━┩                                                                                             \n",
       "│\u001b[36m \u001b[0m\u001b[36mTotal Rows\u001b[0m\u001b[36m \u001b[0m│\u001b[33m \u001b[0m\u001b[33m1388 \u001b[0m\u001b[33m \u001b[0m│                                                                                             \n",
       "├────────────┼───────┤                                                                                             \n",
       "│\u001b[36m \u001b[0m\u001b[36m    1     \u001b[0m\u001b[36m \u001b[0m│\u001b[33m \u001b[0m\u001b[33m 694 \u001b[0m\u001b[33m \u001b[0m│                                                                                             \n",
       "├────────────┼───────┤                                                                                             \n",
       "│\u001b[36m \u001b[0m\u001b[36m    0     \u001b[0m\u001b[36m \u001b[0m│\u001b[33m \u001b[0m\u001b[33m 694 \u001b[0m\u001b[33m \u001b[0m│                                                                                             \n",
       "└────────────┴───────┘                                                                                             \n"
      ]
     },
     "metadata": {},
     "output_type": "display_data"
    },
    {
     "data": {
      "text/html": [
       "<div>\n",
       "<style scoped>\n",
       "    .dataframe tbody tr th:only-of-type {\n",
       "        vertical-align: middle;\n",
       "    }\n",
       "\n",
       "    .dataframe tbody tr th {\n",
       "        vertical-align: top;\n",
       "    }\n",
       "\n",
       "    .dataframe thead th {\n",
       "        text-align: right;\n",
       "    }\n",
       "</style>\n",
       "<table border=\"1\" class=\"dataframe\">\n",
       "  <thead>\n",
       "    <tr style=\"text-align: right;\">\n",
       "      <th></th>\n",
       "      <th>msg_id</th>\n",
       "      <th>content</th>\n",
       "      <th>label</th>\n",
       "    </tr>\n",
       "  </thead>\n",
       "  <tbody>\n",
       "    <tr>\n",
       "      <th>650</th>\n",
       "      <td>anon_msg_5ff0a5549f65</td>\n",
       "      <td>des bovins mon pote, j'ai jamais vu ça sauf en...</td>\n",
       "      <td>0</td>\n",
       "    </tr>\n",
       "    <tr>\n",
       "      <th>208</th>\n",
       "      <td>anon_msg_2ea521264d58</td>\n",
       "      <td>Cet accent du sud dégueulasse</td>\n",
       "      <td>1</td>\n",
       "    </tr>\n",
       "    <tr>\n",
       "      <th>427</th>\n",
       "      <td>anon_msg_99e41015a911</td>\n",
       "      <td>Joffrin, je serais capable de faire des trucs ...</td>\n",
       "      <td>1</td>\n",
       "    </tr>\n",
       "    <tr>\n",
       "      <th>677</th>\n",
       "      <td>anon_msg_31edc839b8b8</td>\n",
       "      <td>D'accord le julf, mais vous n'êtes pas BLANC.</td>\n",
       "      <td>1</td>\n",
       "    </tr>\n",
       "    <tr>\n",
       "      <th>1272</th>\n",
       "      <td>anon_msg_15c39b3b7e9a</td>\n",
       "      <td>C'est Siemens Espagne hein... Pas le PDG du gr...</td>\n",
       "      <td>0</td>\n",
       "    </tr>\n",
       "  </tbody>\n",
       "</table>\n",
       "</div>"
      ],
      "text/plain": [
       "                     msg_id  \\\n",
       "650   anon_msg_5ff0a5549f65   \n",
       "208   anon_msg_2ea521264d58   \n",
       "427   anon_msg_99e41015a911   \n",
       "677   anon_msg_31edc839b8b8   \n",
       "1272  anon_msg_15c39b3b7e9a   \n",
       "\n",
       "                                                content  label  \n",
       "650   des bovins mon pote, j'ai jamais vu ça sauf en...      0  \n",
       "208                       Cet accent du sud dégueulasse      1  \n",
       "427   Joffrin, je serais capable de faire des trucs ...      1  \n",
       "677       D'accord le julf, mais vous n'êtes pas BLANC.      1  \n",
       "1272  C'est Siemens Espagne hein... Pas le PDG du gr...      0  "
      ]
     },
     "execution_count": 4,
     "metadata": {},
     "output_type": "execute_result"
    }
   ],
   "source": [
    "df = pd.read_csv(BENCHMARK_PATH, encoding=\"utf-8\")\n",
    "df = df.dropna(subset=[\"content\", \"label\"])\n",
    "df[\"label\"] = df[\"label\"].astype(int)\n",
    "\n",
    "label_counts = df[\"label\"].value_counts().reset_index()\n",
    "label_counts.columns = [\"label\", \"count\"]\n",
    "table = Table(title=\"Label Counts\", show_lines=True)\n",
    "table.add_column(\"Label\", justify=\"center\", style=\"cyan\")\n",
    "table.add_column(\"Count\", justify=\"center\", style=\"yellow\")\n",
    "table.add_row(\"Total Rows\", str(len(df)))\n",
    "for _, row in label_counts.iterrows():\n",
    "    table.add_row(str(row[\"label\"]), str(row[\"count\"]))\n",
    "console.print(table, justify=\"left\")\n",
    "df.sample(5, random_state=42)"
   ]
  },
  {
   "cell_type": "markdown",
   "id": "e6a62d8a",
   "metadata": {},
   "source": [
    "## Define prediction function"
   ]
  },
  {
   "cell_type": "code",
   "execution_count": 9,
   "id": "a8aba345",
   "metadata": {},
   "outputs": [],
   "source": [
    "def predict(text):\n",
    "    url = f\"https://commentanalyzer.googleapis.com/v1alpha1/comments:analyze?key={API_KEY}\"\n",
    "\n",
    "    data = {\n",
    "        \"comment\": {\"text\": text},\n",
    "        \"languages\": [\"fr\"],\n",
    "        \"requestedAttributes\": {\n",
    "            \"TOXICITY\": {},\n",
    "            \"INSULT\": {},\n",
    "            \"THREAT\": {},\n",
    "            \"PROFANITY\": {},\n",
    "            \"SEVERE_TOXICITY\": {},\n",
    "            # Optional: \"IDENTITY_ATTACK\": {}, \"FLIRTATION\": {}, etc.\n",
    "        }\n",
    "    }\n",
    "\n",
    "    response = requests.post(url, json=data)\n",
    "    if response.status_code != 200:\n",
    "        raise Exception(f\"Perspective API error {response.status_code}: {response.text}\")\n",
    "    \n",
    "    result = response.json()\n",
    "    scores = {\n",
    "        attr: result[\"attributeScores\"][attr][\"summaryScore\"][\"value\"]\n",
    "        for attr in result[\"attributeScores\"]\n",
    "    }\n",
    "    sleep(0.5)\n",
    "    return scores"
   ]
  },
  {
   "cell_type": "markdown",
   "id": "6f16e4c4",
   "metadata": {},
   "source": [
    "## Run prediction"
   ]
  },
  {
   "cell_type": "code",
   "execution_count": 10,
   "id": "3c92b6f4",
   "metadata": {},
   "outputs": [
    {
     "data": {
      "application/vnd.jupyter.widget-view+json": {
       "model_id": "9fe17a71fe46448fa2e63d1f546dc0b7",
       "version_major": 2,
       "version_minor": 0
      },
      "text/plain": [
       "Output()"
      ]
     },
     "metadata": {},
     "output_type": "display_data"
    },
    {
     "data": {
      "text/html": [
       "<pre style=\"white-space:pre;overflow-x:auto;line-height:normal;font-family:Menlo,'DejaVu Sans Mono',consolas,'Courier New',monospace\"></pre>\n"
      ],
      "text/plain": []
     },
     "metadata": {},
     "output_type": "display_data"
    }
   ],
   "source": [
    "df[\"toxicity_score\"] = df[\"content\"].progress_apply(predict)\n",
    "df = df.dropna(subset=[\"toxicity_score\"])"
   ]
  },
  {
   "cell_type": "code",
   "execution_count": 9,
   "id": "1e881476",
   "metadata": {},
   "outputs": [],
   "source": [
    "def is_toxic(score, threshold=0.5):\n",
    "    return any(\n",
    "        score[attr] >= threshold for attr in [\"TOXICITY\", \"INSULT\", \"THREAT\", \"PROFANITY\", \"SEVERE_TOXICITY\"]\n",
    "    )\n"
   ]
  },
  {
   "cell_type": "code",
   "execution_count": null,
   "id": "86b52d03",
   "metadata": {},
   "outputs": [],
   "source": [
    "df[\"is_toxic\"] = df[\"toxicity_score\"].apply(is_toxic)"
   ]
  },
  {
   "cell_type": "code",
   "execution_count": 18,
   "id": "23ba8ce7",
   "metadata": {},
   "outputs": [
    {
     "data": {
      "text/html": [
       "<pre style=\"white-space:pre;overflow-x:auto;line-height:normal;font-family:Menlo,'DejaVu Sans Mono',consolas,'Courier New',monospace\"><span style=\"color: #800080; text-decoration-color: #800080\">╭─────────────────────── Exemple 651 ────────────────────────╮</span>\n",
       "<span style=\"color: #800080; text-decoration-color: #800080\">│</span> des bovins mon pote, j'ai jamais vu ça sauf en tir sportif <span style=\"color: #800080; text-decoration-color: #800080\">│</span>\n",
       "<span style=\"color: #800080; text-decoration-color: #800080\">│</span> :rire:                                                     <span style=\"color: #800080; text-decoration-color: #800080\">│</span>\n",
       "<span style=\"color: #800080; text-decoration-color: #800080\">│</span>                                                            <span style=\"color: #800080; text-decoration-color: #800080\">│</span>\n",
       "<span style=\"color: #800080; text-decoration-color: #800080\">│</span> <span style=\"color: #808000; text-decoration-color: #808000\">Toxicity Score:</span> <span style=\"font-weight: bold\">False</span>                                      <span style=\"color: #800080; text-decoration-color: #800080\">│</span>\n",
       "<span style=\"color: #800080; text-decoration-color: #800080\">│</span> <span style=\"color: #008080; text-decoration-color: #008080\">Label:</span> <span style=\"font-weight: bold\">0</span>                                                   <span style=\"color: #800080; text-decoration-color: #800080\">│</span>\n",
       "<span style=\"color: #800080; text-decoration-color: #800080\">╰────────────────────────────────────────────────────────────╯</span>\n",
       "</pre>\n"
      ],
      "text/plain": [
       "\u001b[35m╭─\u001b[0m\u001b[35m──────────────────────\u001b[0m\u001b[35m Exemple 651 \u001b[0m\u001b[35m───────────────────────\u001b[0m\u001b[35m─╮\u001b[0m\n",
       "\u001b[35m│\u001b[0m des bovins mon pote, j'ai jamais vu ça sauf en tir sportif \u001b[35m│\u001b[0m\n",
       "\u001b[35m│\u001b[0m :rire:                                                     \u001b[35m│\u001b[0m\n",
       "\u001b[35m│\u001b[0m                                                            \u001b[35m│\u001b[0m\n",
       "\u001b[35m│\u001b[0m \u001b[33mToxicity Score:\u001b[0m \u001b[1mFalse\u001b[0m                                      \u001b[35m│\u001b[0m\n",
       "\u001b[35m│\u001b[0m \u001b[36mLabel:\u001b[0m \u001b[1m0\u001b[0m                                                   \u001b[35m│\u001b[0m\n",
       "\u001b[35m╰────────────────────────────────────────────────────────────╯\u001b[0m\n"
      ]
     },
     "metadata": {},
     "output_type": "display_data"
    },
    {
     "data": {
      "text/html": [
       "<pre style=\"white-space:pre;overflow-x:auto;line-height:normal;font-family:Menlo,'DejaVu Sans Mono',consolas,'Courier New',monospace\"><span style=\"color: #800080; text-decoration-color: #800080\">╭───────── Exemple 209 ─────────╮</span>\n",
       "<span style=\"color: #800080; text-decoration-color: #800080\">│</span> Cet accent du sud dégueulasse <span style=\"color: #800080; text-decoration-color: #800080\">│</span>\n",
       "<span style=\"color: #800080; text-decoration-color: #800080\">│</span>                               <span style=\"color: #800080; text-decoration-color: #800080\">│</span>\n",
       "<span style=\"color: #800080; text-decoration-color: #800080\">│</span> <span style=\"color: #808000; text-decoration-color: #808000\">Toxicity Score:</span> <span style=\"font-weight: bold\">False</span>         <span style=\"color: #800080; text-decoration-color: #800080\">│</span>\n",
       "<span style=\"color: #800080; text-decoration-color: #800080\">│</span> <span style=\"color: #008080; text-decoration-color: #008080\">Label:</span> <span style=\"font-weight: bold\">1</span>                      <span style=\"color: #800080; text-decoration-color: #800080\">│</span>\n",
       "<span style=\"color: #800080; text-decoration-color: #800080\">╰───────────────────────────────╯</span>\n",
       "</pre>\n"
      ],
      "text/plain": [
       "\u001b[35m╭─\u001b[0m\u001b[35m────────\u001b[0m\u001b[35m Exemple 209 \u001b[0m\u001b[35m────────\u001b[0m\u001b[35m─╮\u001b[0m\n",
       "\u001b[35m│\u001b[0m Cet accent du sud dégueulasse \u001b[35m│\u001b[0m\n",
       "\u001b[35m│\u001b[0m                               \u001b[35m│\u001b[0m\n",
       "\u001b[35m│\u001b[0m \u001b[33mToxicity Score:\u001b[0m \u001b[1mFalse\u001b[0m         \u001b[35m│\u001b[0m\n",
       "\u001b[35m│\u001b[0m \u001b[36mLabel:\u001b[0m \u001b[1m1\u001b[0m                      \u001b[35m│\u001b[0m\n",
       "\u001b[35m╰───────────────────────────────╯\u001b[0m\n"
      ]
     },
     "metadata": {},
     "output_type": "display_data"
    },
    {
     "data": {
      "text/html": [
       "<pre style=\"white-space:pre;overflow-x:auto;line-height:normal;font-family:Menlo,'DejaVu Sans Mono',consolas,'Courier New',monospace\"><span style=\"color: #800080; text-decoration-color: #800080\">╭─────────────────────────────────────── Exemple 428 ────────────────────────────────────────╮</span>\n",
       "<span style=\"color: #800080; text-decoration-color: #800080\">│</span> Joffrin, je serais capable de faire des trucs sans déconner, il me fait bouillonner ce fdp <span style=\"color: #800080; text-decoration-color: #800080\">│</span>\n",
       "<span style=\"color: #800080; text-decoration-color: #800080\">│</span>                                                                                            <span style=\"color: #800080; text-decoration-color: #800080\">│</span>\n",
       "<span style=\"color: #800080; text-decoration-color: #800080\">│</span> <span style=\"color: #808000; text-decoration-color: #808000\">Toxicity Score:</span> <span style=\"font-weight: bold\">True</span>                                                                       <span style=\"color: #800080; text-decoration-color: #800080\">│</span>\n",
       "<span style=\"color: #800080; text-decoration-color: #800080\">│</span> <span style=\"color: #008080; text-decoration-color: #008080\">Label:</span> <span style=\"font-weight: bold\">1</span>                                                                                   <span style=\"color: #800080; text-decoration-color: #800080\">│</span>\n",
       "<span style=\"color: #800080; text-decoration-color: #800080\">╰────────────────────────────────────────────────────────────────────────────────────────────╯</span>\n",
       "</pre>\n"
      ],
      "text/plain": [
       "\u001b[35m╭─\u001b[0m\u001b[35m──────────────────────────────────────\u001b[0m\u001b[35m Exemple 428 \u001b[0m\u001b[35m───────────────────────────────────────\u001b[0m\u001b[35m─╮\u001b[0m\n",
       "\u001b[35m│\u001b[0m Joffrin, je serais capable de faire des trucs sans déconner, il me fait bouillonner ce fdp \u001b[35m│\u001b[0m\n",
       "\u001b[35m│\u001b[0m                                                                                            \u001b[35m│\u001b[0m\n",
       "\u001b[35m│\u001b[0m \u001b[33mToxicity Score:\u001b[0m \u001b[1mTrue\u001b[0m                                                                       \u001b[35m│\u001b[0m\n",
       "\u001b[35m│\u001b[0m \u001b[36mLabel:\u001b[0m \u001b[1m1\u001b[0m                                                                                   \u001b[35m│\u001b[0m\n",
       "\u001b[35m╰────────────────────────────────────────────────────────────────────────────────────────────╯\u001b[0m\n"
      ]
     },
     "metadata": {},
     "output_type": "display_data"
    },
    {
     "data": {
      "text/html": [
       "<pre style=\"white-space:pre;overflow-x:auto;line-height:normal;font-family:Menlo,'DejaVu Sans Mono',consolas,'Courier New',monospace\"><span style=\"color: #800080; text-decoration-color: #800080\">╭───────────────── Exemple 678 ─────────────────╮</span>\n",
       "<span style=\"color: #800080; text-decoration-color: #800080\">│</span> D'accord le julf, mais vous n'êtes pas BLANC. <span style=\"color: #800080; text-decoration-color: #800080\">│</span>\n",
       "<span style=\"color: #800080; text-decoration-color: #800080\">│</span>                                               <span style=\"color: #800080; text-decoration-color: #800080\">│</span>\n",
       "<span style=\"color: #800080; text-decoration-color: #800080\">│</span> <span style=\"color: #808000; text-decoration-color: #808000\">Toxicity Score:</span> <span style=\"font-weight: bold\">False</span>                         <span style=\"color: #800080; text-decoration-color: #800080\">│</span>\n",
       "<span style=\"color: #800080; text-decoration-color: #800080\">│</span> <span style=\"color: #008080; text-decoration-color: #008080\">Label:</span> <span style=\"font-weight: bold\">1</span>                                      <span style=\"color: #800080; text-decoration-color: #800080\">│</span>\n",
       "<span style=\"color: #800080; text-decoration-color: #800080\">╰───────────────────────────────────────────────╯</span>\n",
       "</pre>\n"
      ],
      "text/plain": [
       "\u001b[35m╭─\u001b[0m\u001b[35m────────────────\u001b[0m\u001b[35m Exemple 678 \u001b[0m\u001b[35m────────────────\u001b[0m\u001b[35m─╮\u001b[0m\n",
       "\u001b[35m│\u001b[0m D'accord le julf, mais vous n'êtes pas BLANC. \u001b[35m│\u001b[0m\n",
       "\u001b[35m│\u001b[0m                                               \u001b[35m│\u001b[0m\n",
       "\u001b[35m│\u001b[0m \u001b[33mToxicity Score:\u001b[0m \u001b[1mFalse\u001b[0m                         \u001b[35m│\u001b[0m\n",
       "\u001b[35m│\u001b[0m \u001b[36mLabel:\u001b[0m \u001b[1m1\u001b[0m                                      \u001b[35m│\u001b[0m\n",
       "\u001b[35m╰───────────────────────────────────────────────╯\u001b[0m\n"
      ]
     },
     "metadata": {},
     "output_type": "display_data"
    },
    {
     "data": {
      "text/html": [
       "<pre style=\"white-space:pre;overflow-x:auto;line-height:normal;font-family:Menlo,'DejaVu Sans Mono',consolas,'Courier New',monospace\"><span style=\"color: #800080; text-decoration-color: #800080\">╭─────────────────────────────────────── Exemple 1273 ────────────────────────────────────────╮</span>\n",
       "<span style=\"color: #800080; text-decoration-color: #800080\">│</span> C'est Siemens Espagne hein... Pas le PDG du groupe. Je pense pas que ça soit un assassinat. <span style=\"color: #800080; text-decoration-color: #800080\">│</span>\n",
       "<span style=\"color: #800080; text-decoration-color: #800080\">│</span>                                                                                             <span style=\"color: #800080; text-decoration-color: #800080\">│</span>\n",
       "<span style=\"color: #800080; text-decoration-color: #800080\">│</span> <span style=\"color: #808000; text-decoration-color: #808000\">Toxicity Score:</span> <span style=\"font-weight: bold\">False</span>                                                                       <span style=\"color: #800080; text-decoration-color: #800080\">│</span>\n",
       "<span style=\"color: #800080; text-decoration-color: #800080\">│</span> <span style=\"color: #008080; text-decoration-color: #008080\">Label:</span> <span style=\"font-weight: bold\">0</span>                                                                                    <span style=\"color: #800080; text-decoration-color: #800080\">│</span>\n",
       "<span style=\"color: #800080; text-decoration-color: #800080\">╰─────────────────────────────────────────────────────────────────────────────────────────────╯</span>\n",
       "</pre>\n"
      ],
      "text/plain": [
       "\u001b[35m╭─\u001b[0m\u001b[35m──────────────────────────────────────\u001b[0m\u001b[35m Exemple 1273 \u001b[0m\u001b[35m───────────────────────────────────────\u001b[0m\u001b[35m─╮\u001b[0m\n",
       "\u001b[35m│\u001b[0m C'est Siemens Espagne hein... Pas le PDG du groupe. Je pense pas que ça soit un assassinat. \u001b[35m│\u001b[0m\n",
       "\u001b[35m│\u001b[0m                                                                                             \u001b[35m│\u001b[0m\n",
       "\u001b[35m│\u001b[0m \u001b[33mToxicity Score:\u001b[0m \u001b[1mFalse\u001b[0m                                                                       \u001b[35m│\u001b[0m\n",
       "\u001b[35m│\u001b[0m \u001b[36mLabel:\u001b[0m \u001b[1m0\u001b[0m                                                                                    \u001b[35m│\u001b[0m\n",
       "\u001b[35m╰─────────────────────────────────────────────────────────────────────────────────────────────╯\u001b[0m\n"
      ]
     },
     "metadata": {},
     "output_type": "display_data"
    }
   ],
   "source": [
    "for i, row in df.sample(5, random_state=42).iterrows():\n",
    "    content = Text(row['content'], style=\"bold\")\n",
    "    toxicity = f\"[yellow]Toxicity Score:[/yellow] [bold]{row['is_toxic']}[/bold]\"\n",
    "    label = f\"[cyan]Label:[/cyan] [bold]{row['label']}[/bold]\"\n",
    "    panel = Panel.fit(\n",
    "        f\"{content}\\n\\n{toxicity}\\n{label}\",\n",
    "        title=f\"Exemple {i+1}\",\n",
    "        border_style=\"magenta\"\n",
    "    )\n",
    "    console.print(panel)"
   ]
  },
  {
   "cell_type": "markdown",
   "id": "d190c935",
   "metadata": {},
   "source": [
    "## Metrics & Report        "
   ]
  },
  {
   "cell_type": "markdown",
   "id": "a79ba1fd",
   "metadata": {},
   "source": [
    "| Metric                     | Formula                                           | Interpretation                                                                                                       |\n",
    "| -------------------------- | ------------------------------------------------- | -------------------------------------------------------------------------------------------------------------------- |\n",
    "| **Precision**              | `TP / (TP + FP)`                                  | Of the samples predicted **toxic**, how many were **actually toxic**? <br>→ High precision = **low false positives** |\n",
    "| **Recall** *(Sensitivity)* | `TP / (TP + FN)`                                  | Of the **actual toxic** samples, how many did we **correctly identify**? <br>→ High recall = **low false negatives** |\n",
    "| **F1-score**               | `2 * (Precision * Recall) / (Precision + Recall)` | Harmonic mean of precision and recall. <br>→ Best when **balance** is needed                                         |\n",
    "| **Accuracy**               | `(TP + TN) / (TP + TN + FP + FN)`                 | Fraction of all correct predictions (toxic and non-toxic). <br>→ Can be misleading on imbalanced data                |\n",
    "| **ROC AUC**                | Area under the ROC Curve                          | Measures the **ranking ability** of the classifier. <br>→ Higher = better separation of toxic vs. non-toxic          |\n"
   ]
  },
  {
   "cell_type": "code",
   "execution_count": 24,
   "id": "76673d8f",
   "metadata": {},
   "outputs": [],
   "source": [
    "y_true = df[\"label\"]"
   ]
  },
  {
   "cell_type": "code",
   "execution_count": 25,
   "id": "55f6ec37",
   "metadata": {},
   "outputs": [
    {
     "data": {
      "text/html": [
       "<div>\n",
       "<style scoped>\n",
       "    .dataframe tbody tr th:only-of-type {\n",
       "        vertical-align: middle;\n",
       "    }\n",
       "\n",
       "    .dataframe tbody tr th {\n",
       "        vertical-align: top;\n",
       "    }\n",
       "\n",
       "    .dataframe thead th {\n",
       "        text-align: right;\n",
       "    }\n",
       "</style>\n",
       "<table border=\"1\" class=\"dataframe\">\n",
       "  <thead>\n",
       "    <tr style=\"text-align: right;\">\n",
       "      <th></th>\n",
       "      <th>msg_id</th>\n",
       "      <th>content</th>\n",
       "      <th>label</th>\n",
       "      <th>toxicity_score</th>\n",
       "      <th>is_toxic</th>\n",
       "      <th>prediction</th>\n",
       "    </tr>\n",
       "  </thead>\n",
       "  <tbody>\n",
       "    <tr>\n",
       "      <th>0</th>\n",
       "      <td>anon_msg_468ffd36870c</td>\n",
       "      <td>AYAAAAAAAAAAAA LES CRACKHEAD ANTI MIGRANT BORD...</td>\n",
       "      <td>1</td>\n",
       "      <td>{'TOXICITY': 0.6426206, 'PROFANITY': 0.8255558...</td>\n",
       "      <td>True</td>\n",
       "      <td>1</td>\n",
       "    </tr>\n",
       "    <tr>\n",
       "      <th>1</th>\n",
       "      <td>anon_msg_c30ce8c67bac</td>\n",
       "      <td>Bordel le gars chantait 'FN souffrance' alors ...</td>\n",
       "      <td>1</td>\n",
       "      <td>{'THREAT': 0.13127698, 'INSULT': 0.5678696, 'S...</td>\n",
       "      <td>True</td>\n",
       "      <td>1</td>\n",
       "    </tr>\n",
       "    <tr>\n",
       "      <th>2</th>\n",
       "      <td>anon_msg_a7be822bc051</td>\n",
       "      <td>Je vois que ça ddb en masse\\nComme en dictatur...</td>\n",
       "      <td>1</td>\n",
       "      <td>{'TOXICITY': 0.37751234, 'THREAT': 0.011430934...</td>\n",
       "      <td>False</td>\n",
       "      <td>0</td>\n",
       "    </tr>\n",
       "    <tr>\n",
       "      <th>3</th>\n",
       "      <td>anon_msg_8a2c7da3ff85</td>\n",
       "      <td>vous tenez là ? persoent c'est chaud depuis hi...</td>\n",
       "      <td>1</td>\n",
       "      <td>{'THREAT': 0.050744623, 'INSULT': 0.40189892, ...</td>\n",
       "      <td>True</td>\n",
       "      <td>1</td>\n",
       "    </tr>\n",
       "    <tr>\n",
       "      <th>4</th>\n",
       "      <td>anon_msg_b20f2e8b51ed</td>\n",
       "      <td>Le racisme est devenu le crime ultime en Occid...</td>\n",
       "      <td>0</td>\n",
       "      <td>{'INSULT': 0.3388922, 'PROFANITY': 0.04892669,...</td>\n",
       "      <td>False</td>\n",
       "      <td>0</td>\n",
       "    </tr>\n",
       "    <tr>\n",
       "      <th>...</th>\n",
       "      <td>...</td>\n",
       "      <td>...</td>\n",
       "      <td>...</td>\n",
       "      <td>...</td>\n",
       "      <td>...</td>\n",
       "      <td>...</td>\n",
       "    </tr>\n",
       "    <tr>\n",
       "      <th>1383</th>\n",
       "      <td>anon_msg_a3bb41085bd2</td>\n",
       "      <td>que j’entende plus un média dire le danger c’e...</td>\n",
       "      <td>0</td>\n",
       "      <td>{'PROFANITY': 0.013131939, 'TOXICITY': 0.14776...</td>\n",
       "      <td>False</td>\n",
       "      <td>0</td>\n",
       "    </tr>\n",
       "    <tr>\n",
       "      <th>1384</th>\n",
       "      <td>anon_msg_835f5f8a3e25</td>\n",
       "      <td>il raconte absolument n'importe quoi non stop</td>\n",
       "      <td>0</td>\n",
       "      <td>{'THREAT': 0.006155535, 'SEVERE_TOXICITY': 0.0...</td>\n",
       "      <td>False</td>\n",
       "      <td>0</td>\n",
       "    </tr>\n",
       "    <tr>\n",
       "      <th>1385</th>\n",
       "      <td>anon_msg_5de411f54a1b</td>\n",
       "      <td>mais qu'est ce qu'il raconte saint nikos</td>\n",
       "      <td>0</td>\n",
       "      <td>{'THREAT': 0.0053957803, 'PROFANITY': 0.016206...</td>\n",
       "      <td>False</td>\n",
       "      <td>0</td>\n",
       "    </tr>\n",
       "    <tr>\n",
       "      <th>1386</th>\n",
       "      <td>anon_msg_48b9b19e3c3b</td>\n",
       "      <td>Oui el famoso 200 bordel\\n:rire:\\nLE QI bordel...</td>\n",
       "      <td>0</td>\n",
       "      <td>{'SEVERE_TOXICITY': 0.023076924, 'INSULT': 0.2...</td>\n",
       "      <td>False</td>\n",
       "      <td>0</td>\n",
       "    </tr>\n",
       "    <tr>\n",
       "      <th>1387</th>\n",
       "      <td>anon_msg_2f85a6bc5bea</td>\n",
       "      <td>Hello, si on est myope pour bosser dans l'admi...</td>\n",
       "      <td>0</td>\n",
       "      <td>{'PROFANITY': 0.020578653, 'TOXICITY': 0.04612...</td>\n",
       "      <td>False</td>\n",
       "      <td>0</td>\n",
       "    </tr>\n",
       "  </tbody>\n",
       "</table>\n",
       "<p>1388 rows × 6 columns</p>\n",
       "</div>"
      ],
      "text/plain": [
       "                     msg_id  \\\n",
       "0     anon_msg_468ffd36870c   \n",
       "1     anon_msg_c30ce8c67bac   \n",
       "2     anon_msg_a7be822bc051   \n",
       "3     anon_msg_8a2c7da3ff85   \n",
       "4     anon_msg_b20f2e8b51ed   \n",
       "...                     ...   \n",
       "1383  anon_msg_a3bb41085bd2   \n",
       "1384  anon_msg_835f5f8a3e25   \n",
       "1385  anon_msg_5de411f54a1b   \n",
       "1386  anon_msg_48b9b19e3c3b   \n",
       "1387  anon_msg_2f85a6bc5bea   \n",
       "\n",
       "                                                content  label  \\\n",
       "0     AYAAAAAAAAAAAA LES CRACKHEAD ANTI MIGRANT BORD...      1   \n",
       "1     Bordel le gars chantait 'FN souffrance' alors ...      1   \n",
       "2     Je vois que ça ddb en masse\\nComme en dictatur...      1   \n",
       "3     vous tenez là ? persoent c'est chaud depuis hi...      1   \n",
       "4     Le racisme est devenu le crime ultime en Occid...      0   \n",
       "...                                                 ...    ...   \n",
       "1383  que j’entende plus un média dire le danger c’e...      0   \n",
       "1384      il raconte absolument n'importe quoi non stop      0   \n",
       "1385           mais qu'est ce qu'il raconte saint nikos      0   \n",
       "1386  Oui el famoso 200 bordel\\n:rire:\\nLE QI bordel...      0   \n",
       "1387  Hello, si on est myope pour bosser dans l'admi...      0   \n",
       "\n",
       "                                         toxicity_score  is_toxic  prediction  \n",
       "0     {'TOXICITY': 0.6426206, 'PROFANITY': 0.8255558...      True           1  \n",
       "1     {'THREAT': 0.13127698, 'INSULT': 0.5678696, 'S...      True           1  \n",
       "2     {'TOXICITY': 0.37751234, 'THREAT': 0.011430934...     False           0  \n",
       "3     {'THREAT': 0.050744623, 'INSULT': 0.40189892, ...      True           1  \n",
       "4     {'INSULT': 0.3388922, 'PROFANITY': 0.04892669,...     False           0  \n",
       "...                                                 ...       ...         ...  \n",
       "1383  {'PROFANITY': 0.013131939, 'TOXICITY': 0.14776...     False           0  \n",
       "1384  {'THREAT': 0.006155535, 'SEVERE_TOXICITY': 0.0...     False           0  \n",
       "1385  {'THREAT': 0.0053957803, 'PROFANITY': 0.016206...     False           0  \n",
       "1386  {'SEVERE_TOXICITY': 0.023076924, 'INSULT': 0.2...     False           0  \n",
       "1387  {'PROFANITY': 0.020578653, 'TOXICITY': 0.04612...     False           0  \n",
       "\n",
       "[1388 rows x 6 columns]"
      ]
     },
     "execution_count": 25,
     "metadata": {},
     "output_type": "execute_result"
    }
   ],
   "source": [
    "# df = pd.read_csv(output_path, encoding=\"utf-8\")\n",
    "# df['toxicity_score'] = df['toxicity_score'].apply(lambda x: str(x).replace(\"'\", '\"'))\n",
    "# df['toxicity_score'] = df['toxicity_score'].apply(lambda x: json.loads(x))\n",
    "df"
   ]
  },
  {
   "cell_type": "markdown",
   "id": "5066ea62",
   "metadata": {},
   "source": [
    "### Tuning the threshold"
   ]
  },
  {
   "cell_type": "code",
   "execution_count": 26,
   "id": "b446d466",
   "metadata": {},
   "outputs": [
    {
     "name": "stdout",
     "output_type": "stream",
     "text": [
      "Best threshold: 0.1\n"
     ]
    },
    {
     "data": {
      "image/png": "[encoded data removed]",
      "text/plain": [
       "<Figure size 640x480 with 1 Axes>"
      ]
     },
     "metadata": {},
     "output_type": "display_data"
    }
   ],
   "source": [
    "thresholds = [i / 100 for i in range(5, 95, 5)]  \n",
    "results = []\n",
    "\n",
    "for t in thresholds:\n",
    "    preds = (df[\"toxicity_score\"].apply(lambda x: is_toxic(x, threshold=t))).astype(int)\n",
    "    precision = precision_score(df[\"label\"], preds)\n",
    "    recall = recall_score(df[\"label\"], preds)\n",
    "    f1 = f1_score(df[\"label\"], preds)\n",
    "    acc = accuracy_score(df[\"label\"], preds)\n",
    "    results.append((t, precision, recall, f1, acc))\n",
    "\n",
    "best_threshold = max(results, key=lambda x: x[3])  # F1 score\n",
    "print(f\"Best threshold: {best_threshold[0]}\")\n",
    "\n",
    "# Convert to DataFrame for better display\n",
    "threshold_df = pd.DataFrame(results, columns=[\"Threshold\", \"Precision\", \"Recall\", \"F1\", \"Accuracy\"])\n",
    "\n",
    "plt.plot(threshold_df[\"Threshold\"], threshold_df[\"F1\"], label=\"F1\")\n",
    "plt.plot(threshold_df[\"Threshold\"], threshold_df[\"Recall\"], label=\"Recall\", linestyle='--')\n",
    "plt.plot(threshold_df[\"Threshold\"], threshold_df[\"Precision\"], label=\"Precision\", linestyle='--')\n",
    "plt.plot(threshold_df[\"Threshold\"], threshold_df[\"Accuracy\"], label=\"Accuracy\", linestyle='--')\n",
    "plt.axvline(x=best_threshold[0], color='r', linestyle='--', label='Best Threshold')\n",
    "plt.xticks(threshold_df[\"Threshold\"], rotation=45)\n",
    "plt.xlabel(\"Threshold\")\n",
    "plt.ylabel(\"Score\")\n",
    "plt.title(\"Threshold vs Performance\")\n",
    "plt.legend()\n",
    "plt.grid(True)\n",
    "plt.show()\n"
   ]
  },
  {
   "cell_type": "code",
   "execution_count": 27,
   "id": "7bf73e55",
   "metadata": {},
   "outputs": [
    {
     "data": {
      "text/html": [
       "<pre style=\"white-space:pre;overflow-x:auto;line-height:normal;font-family:Menlo,'DejaVu Sans Mono',consolas,'Courier New',monospace\"><span style=\"font-style: italic\">                Classification Report                 </span>\n",
       "┏━━━━━━━━━━┳━━━━━━━━━━━┳━━━━━━━━┳━━━━━━━━━━┳━━━━━━━━━┓\n",
       "┃<span style=\"font-weight: bold\">  Classe  </span>┃<span style=\"font-weight: bold\"> Precision </span>┃<span style=\"font-weight: bold\"> Recall </span>┃<span style=\"font-weight: bold\"> F1-score </span>┃<span style=\"font-weight: bold\"> Support </span>┃\n",
       "┡━━━━━━━━━━╇━━━━━━━━━━━╇━━━━━━━━╇━━━━━━━━━━╇━━━━━━━━━┩\n",
       "│<span style=\"color: #008080; text-decoration-color: #008080\">    0     </span>│   0.910   │ 0.581  │  0.709   │   694   │\n",
       "├──────────┼───────────┼────────┼──────────┼─────────┤\n",
       "│<span style=\"color: #008080; text-decoration-color: #008080\">    1     </span>│   0.692   │ 0.942  │  0.798   │   694   │\n",
       "├──────────┼───────────┼────────┼──────────┼─────────┤\n",
       "│<span style=\"color: #008080; text-decoration-color: #008080\"> </span><span style=\"color: #808000; text-decoration-color: #808000; font-weight: bold\">Accuracy</span><span style=\"color: #008080; text-decoration-color: #008080\"> </span>│     -     │   -    │  0.762   │    -    │\n",
       "└──────────┴───────────┴────────┴──────────┴─────────┘\n",
       "</pre>\n"
      ],
      "text/plain": [
       "\u001b[3m                Classification Report                 \u001b[0m\n",
       "┏━━━━━━━━━━┳━━━━━━━━━━━┳━━━━━━━━┳━━━━━━━━━━┳━━━━━━━━━┓\n",
       "┃\u001b[1m \u001b[0m\u001b[1m Classe \u001b[0m\u001b[1m \u001b[0m┃\u001b[1m \u001b[0m\u001b[1mPrecision\u001b[0m\u001b[1m \u001b[0m┃\u001b[1m \u001b[0m\u001b[1mRecall\u001b[0m\u001b[1m \u001b[0m┃\u001b[1m \u001b[0m\u001b[1mF1-score\u001b[0m\u001b[1m \u001b[0m┃\u001b[1m \u001b[0m\u001b[1mSupport\u001b[0m\u001b[1m \u001b[0m┃\n",
       "┡━━━━━━━━━━╇━━━━━━━━━━━╇━━━━━━━━╇━━━━━━━━━━╇━━━━━━━━━┩\n",
       "│\u001b[36m \u001b[0m\u001b[36m   0    \u001b[0m\u001b[36m \u001b[0m│   0.910   │ 0.581  │  0.709   │   694   │\n",
       "├──────────┼───────────┼────────┼──────────┼─────────┤\n",
       "│\u001b[36m \u001b[0m\u001b[36m   1    \u001b[0m\u001b[36m \u001b[0m│   0.692   │ 0.942  │  0.798   │   694   │\n",
       "├──────────┼───────────┼────────┼──────────┼─────────┤\n",
       "│\u001b[36m \u001b[0m\u001b[1;33mAccuracy\u001b[0m\u001b[36m \u001b[0m│     -     │   -    │  0.762   │    -    │\n",
       "└──────────┴───────────┴────────┴──────────┴─────────┘\n"
      ]
     },
     "metadata": {},
     "output_type": "display_data"
    },
    {
     "data": {
      "text/html": [
       "<pre style=\"white-space:pre;overflow-x:auto;line-height:normal;font-family:Menlo,'DejaVu Sans Mono',consolas,'Courier New',monospace\"><span style=\"font-style: italic\">      Matrice de Confusion      </span>\n",
       "┏━━━━━━━━┳━━━━━━━━━━┳━━━━━━━━━━┓\n",
       "┃<span style=\"font-weight: bold\">        </span>┃<span style=\"font-weight: bold\"> Prédit 0 </span>┃<span style=\"font-weight: bold\"> Prédit 1 </span>┃\n",
       "┡━━━━━━━━╇━━━━━━━━━━╇━━━━━━━━━━┩\n",
       "│<span style=\"font-weight: bold\"> Réel 0 </span>│   403    │   291    │\n",
       "├────────┼──────────┼──────────┤\n",
       "│<span style=\"font-weight: bold\"> Réel 1 </span>│    40    │   654    │\n",
       "└────────┴──────────┴──────────┘\n",
       "</pre>\n"
      ],
      "text/plain": [
       "\u001b[3m      Matrice de Confusion      \u001b[0m\n",
       "┏━━━━━━━━┳━━━━━━━━━━┳━━━━━━━━━━┓\n",
       "┃\u001b[1m \u001b[0m\u001b[1m      \u001b[0m\u001b[1m \u001b[0m┃\u001b[1m \u001b[0m\u001b[1mPrédit 0\u001b[0m\u001b[1m \u001b[0m┃\u001b[1m \u001b[0m\u001b[1mPrédit 1\u001b[0m\u001b[1m \u001b[0m┃\n",
       "┡━━━━━━━━╇━━━━━━━━━━╇━━━━━━━━━━┩\n",
       "│\u001b[1m \u001b[0m\u001b[1mRéel 0\u001b[0m\u001b[1m \u001b[0m│   403    │   291    │\n",
       "├────────┼──────────┼──────────┤\n",
       "│\u001b[1m \u001b[0m\u001b[1mRéel 1\u001b[0m\u001b[1m \u001b[0m│    40    │   654    │\n",
       "└────────┴──────────┴──────────┘\n"
      ]
     },
     "metadata": {},
     "output_type": "display_data"
    },
    {
     "data": {
      "text/html": [
       "<pre style=\"white-space:pre;overflow-x:auto;line-height:normal;font-family:Menlo,'DejaVu Sans Mono',consolas,'Courier New',monospace\">╭──────────────────────────────────────────────────── ROC AUC ────────────────────────────────────────────────────╮\n",
       "│ <span style=\"color: #008000; text-decoration-color: #008000; font-weight: bold\">ROC AUC Score : 0.762</span>                                                                                           │\n",
       "╰─────────────────────────────────────────────────────────────────────────────────────────────────────────────────╯\n",
       "</pre>\n"
      ],
      "text/plain": [
       "╭──────────────────────────────────────────────────── ROC AUC ────────────────────────────────────────────────────╮\n",
       "│ \u001b[1;32mROC AUC Score : 0.762\u001b[0m                                                                                           │\n",
       "╰─────────────────────────────────────────────────────────────────────────────────────────────────────────────────╯\n"
      ]
     },
     "metadata": {},
     "output_type": "display_data"
    }
   ],
   "source": [
    "y_pred = (df[\"toxicity_score\"].apply(lambda x: is_toxic(x, threshold=best_threshold[0]))).astype(float)\n",
    "\n",
    "# Rapport de classification\n",
    "report = classification_report(y_true, y_pred, digits=3, output_dict=True)\n",
    "table = Table(title=\"Classification Report\", show_lines=True)\n",
    "table.add_column(\"Classe\", style=\"cyan\", justify=\"center\")\n",
    "table.add_column(\"Precision\", justify=\"center\")\n",
    "table.add_column(\"Recall\", justify=\"center\")\n",
    "table.add_column(\"F1-score\", justify=\"center\")\n",
    "table.add_column(\"Support\", justify=\"center\")\n",
    "\n",
    "for label, metrics in report.items():\n",
    "    if label in [\"accuracy\", \"macro avg\", \"weighted avg\"]:\n",
    "        continue\n",
    "    table.add_row(\n",
    "        str(label),\n",
    "        f\"{metrics['precision']:.3f}\",\n",
    "        f\"{metrics['recall']:.3f}\",\n",
    "        f\"{metrics['f1-score']:.3f}\",\n",
    "        f\"{int(metrics['support'])}\"\n",
    "    )\n",
    "# Ajout de l'accuracy\n",
    "table.add_row(\n",
    "    \"[bold yellow]Accuracy[/bold yellow]\",\n",
    "    \"-\",\n",
    "    \"-\",\n",
    "    f\"{report['accuracy']:.3f}\",\n",
    "    \"-\"\n",
    ")\n",
    "console.print(table)\n",
    "\n",
    "# Matrice de confusion\n",
    "cm = confusion_matrix(y_true, y_pred)\n",
    "cm_table = Table(title=\"Matrice de Confusion\", show_lines=True)\n",
    "cm_table.add_column(\" \", style=\"bold\")\n",
    "cm_table.add_column(\"Prédit 0\", justify=\"center\")\n",
    "cm_table.add_column(\"Prédit 1\", justify=\"center\")\n",
    "cm_table.add_row(\"Réel 0\", str(cm[0, 0]), str(cm[0, 1]))\n",
    "cm_table.add_row(\"Réel 1\", str(cm[1, 0]), str(cm[1, 1]))\n",
    "console.print(cm_table)\n",
    "\n",
    "# ROC AUC\n",
    "try:\n",
    "    auc = roc_auc_score(y_true, y_pred)\n",
    "    console.print(Panel(f\"[bold green]ROC AUC Score : {auc:.3f}[/bold green]\", title=\"ROC AUC\"))\n",
    "except:\n",
    "    console.print(Panel(\"[bold red]Impossible de calculer le ROC AUC.[/bold red]\", title=\"ROC AUC\"))"
   ]
  },
  {
   "cell_type": "markdown",
   "id": "e1b0d585",
   "metadata": {},
   "source": [
    "## Save the predictions"
   ]
  },
  {
   "cell_type": "code",
   "execution_count": 28,
   "id": "66225a45",
   "metadata": {},
   "outputs": [],
   "source": [
    "df[\"predictions\"] = df['is_toxic'].astype(int)"
   ]
  },
  {
   "cell_type": "code",
   "execution_count": 29,
   "id": "88dc3a5b",
   "metadata": {},
   "outputs": [
    {
     "data": {
      "text/html": [
       "<div>\n",
       "<style scoped>\n",
       "    .dataframe tbody tr th:only-of-type {\n",
       "        vertical-align: middle;\n",
       "    }\n",
       "\n",
       "    .dataframe tbody tr th {\n",
       "        vertical-align: top;\n",
       "    }\n",
       "\n",
       "    .dataframe thead th {\n",
       "        text-align: right;\n",
       "    }\n",
       "</style>\n",
       "<table border=\"1\" class=\"dataframe\">\n",
       "  <thead>\n",
       "    <tr style=\"text-align: right;\">\n",
       "      <th></th>\n",
       "      <th>msg_id</th>\n",
       "      <th>content</th>\n",
       "      <th>label</th>\n",
       "      <th>toxicity_score</th>\n",
       "      <th>is_toxic</th>\n",
       "      <th>prediction</th>\n",
       "      <th>predictions</th>\n",
       "    </tr>\n",
       "  </thead>\n",
       "  <tbody>\n",
       "    <tr>\n",
       "      <th>0</th>\n",
       "      <td>anon_msg_468ffd36870c</td>\n",
       "      <td>AYAAAAAAAAAAAA LES CRACKHEAD ANTI MIGRANT BORD...</td>\n",
       "      <td>1</td>\n",
       "      <td>{'TOXICITY': 0.6426206, 'PROFANITY': 0.8255558...</td>\n",
       "      <td>True</td>\n",
       "      <td>1</td>\n",
       "      <td>1</td>\n",
       "    </tr>\n",
       "    <tr>\n",
       "      <th>1</th>\n",
       "      <td>anon_msg_c30ce8c67bac</td>\n",
       "      <td>Bordel le gars chantait 'FN souffrance' alors ...</td>\n",
       "      <td>1</td>\n",
       "      <td>{'THREAT': 0.13127698, 'INSULT': 0.5678696, 'S...</td>\n",
       "      <td>True</td>\n",
       "      <td>1</td>\n",
       "      <td>1</td>\n",
       "    </tr>\n",
       "    <tr>\n",
       "      <th>2</th>\n",
       "      <td>anon_msg_a7be822bc051</td>\n",
       "      <td>Je vois que ça ddb en masse\\nComme en dictatur...</td>\n",
       "      <td>1</td>\n",
       "      <td>{'TOXICITY': 0.37751234, 'THREAT': 0.011430934...</td>\n",
       "      <td>False</td>\n",
       "      <td>0</td>\n",
       "      <td>0</td>\n",
       "    </tr>\n",
       "    <tr>\n",
       "      <th>3</th>\n",
       "      <td>anon_msg_8a2c7da3ff85</td>\n",
       "      <td>vous tenez là ? persoent c'est chaud depuis hi...</td>\n",
       "      <td>1</td>\n",
       "      <td>{'THREAT': 0.050744623, 'INSULT': 0.40189892, ...</td>\n",
       "      <td>True</td>\n",
       "      <td>1</td>\n",
       "      <td>1</td>\n",
       "    </tr>\n",
       "    <tr>\n",
       "      <th>4</th>\n",
       "      <td>anon_msg_b20f2e8b51ed</td>\n",
       "      <td>Le racisme est devenu le crime ultime en Occid...</td>\n",
       "      <td>0</td>\n",
       "      <td>{'INSULT': 0.3388922, 'PROFANITY': 0.04892669,...</td>\n",
       "      <td>False</td>\n",
       "      <td>0</td>\n",
       "      <td>0</td>\n",
       "    </tr>\n",
       "    <tr>\n",
       "      <th>...</th>\n",
       "      <td>...</td>\n",
       "      <td>...</td>\n",
       "      <td>...</td>\n",
       "      <td>...</td>\n",
       "      <td>...</td>\n",
       "      <td>...</td>\n",
       "      <td>...</td>\n",
       "    </tr>\n",
       "    <tr>\n",
       "      <th>1383</th>\n",
       "      <td>anon_msg_a3bb41085bd2</td>\n",
       "      <td>que j’entende plus un média dire le danger c’e...</td>\n",
       "      <td>0</td>\n",
       "      <td>{'PROFANITY': 0.013131939, 'TOXICITY': 0.14776...</td>\n",
       "      <td>False</td>\n",
       "      <td>0</td>\n",
       "      <td>0</td>\n",
       "    </tr>\n",
       "    <tr>\n",
       "      <th>1384</th>\n",
       "      <td>anon_msg_835f5f8a3e25</td>\n",
       "      <td>il raconte absolument n'importe quoi non stop</td>\n",
       "      <td>0</td>\n",
       "      <td>{'THREAT': 0.006155535, 'SEVERE_TOXICITY': 0.0...</td>\n",
       "      <td>False</td>\n",
       "      <td>0</td>\n",
       "      <td>0</td>\n",
       "    </tr>\n",
       "    <tr>\n",
       "      <th>1385</th>\n",
       "      <td>anon_msg_5de411f54a1b</td>\n",
       "      <td>mais qu'est ce qu'il raconte saint nikos</td>\n",
       "      <td>0</td>\n",
       "      <td>{'THREAT': 0.0053957803, 'PROFANITY': 0.016206...</td>\n",
       "      <td>False</td>\n",
       "      <td>0</td>\n",
       "      <td>0</td>\n",
       "    </tr>\n",
       "    <tr>\n",
       "      <th>1386</th>\n",
       "      <td>anon_msg_48b9b19e3c3b</td>\n",
       "      <td>Oui el famoso 200 bordel\\n:rire:\\nLE QI bordel...</td>\n",
       "      <td>0</td>\n",
       "      <td>{'SEVERE_TOXICITY': 0.023076924, 'INSULT': 0.2...</td>\n",
       "      <td>False</td>\n",
       "      <td>0</td>\n",
       "      <td>0</td>\n",
       "    </tr>\n",
       "    <tr>\n",
       "      <th>1387</th>\n",
       "      <td>anon_msg_2f85a6bc5bea</td>\n",
       "      <td>Hello, si on est myope pour bosser dans l'admi...</td>\n",
       "      <td>0</td>\n",
       "      <td>{'PROFANITY': 0.020578653, 'TOXICITY': 0.04612...</td>\n",
       "      <td>False</td>\n",
       "      <td>0</td>\n",
       "      <td>0</td>\n",
       "    </tr>\n",
       "  </tbody>\n",
       "</table>\n",
       "<p>1388 rows × 7 columns</p>\n",
       "</div>"
      ],
      "text/plain": [
       "                     msg_id  \\\n",
       "0     anon_msg_468ffd36870c   \n",
       "1     anon_msg_c30ce8c67bac   \n",
       "2     anon_msg_a7be822bc051   \n",
       "3     anon_msg_8a2c7da3ff85   \n",
       "4     anon_msg_b20f2e8b51ed   \n",
       "...                     ...   \n",
       "1383  anon_msg_a3bb41085bd2   \n",
       "1384  anon_msg_835f5f8a3e25   \n",
       "1385  anon_msg_5de411f54a1b   \n",
       "1386  anon_msg_48b9b19e3c3b   \n",
       "1387  anon_msg_2f85a6bc5bea   \n",
       "\n",
       "                                                content  label  \\\n",
       "0     AYAAAAAAAAAAAA LES CRACKHEAD ANTI MIGRANT BORD...      1   \n",
       "1     Bordel le gars chantait 'FN souffrance' alors ...      1   \n",
       "2     Je vois que ça ddb en masse\\nComme en dictatur...      1   \n",
       "3     vous tenez là ? persoent c'est chaud depuis hi...      1   \n",
       "4     Le racisme est devenu le crime ultime en Occid...      0   \n",
       "...                                                 ...    ...   \n",
       "1383  que j’entende plus un média dire le danger c’e...      0   \n",
       "1384      il raconte absolument n'importe quoi non stop      0   \n",
       "1385           mais qu'est ce qu'il raconte saint nikos      0   \n",
       "1386  Oui el famoso 200 bordel\\n:rire:\\nLE QI bordel...      0   \n",
       "1387  Hello, si on est myope pour bosser dans l'admi...      0   \n",
       "\n",
       "                                         toxicity_score  is_toxic  prediction  \\\n",
       "0     {'TOXICITY': 0.6426206, 'PROFANITY': 0.8255558...      True           1   \n",
       "1     {'THREAT': 0.13127698, 'INSULT': 0.5678696, 'S...      True           1   \n",
       "2     {'TOXICITY': 0.37751234, 'THREAT': 0.011430934...     False           0   \n",
       "3     {'THREAT': 0.050744623, 'INSULT': 0.40189892, ...      True           1   \n",
       "4     {'INSULT': 0.3388922, 'PROFANITY': 0.04892669,...     False           0   \n",
       "...                                                 ...       ...         ...   \n",
       "1383  {'PROFANITY': 0.013131939, 'TOXICITY': 0.14776...     False           0   \n",
       "1384  {'THREAT': 0.006155535, 'SEVERE_TOXICITY': 0.0...     False           0   \n",
       "1385  {'THREAT': 0.0053957803, 'PROFANITY': 0.016206...     False           0   \n",
       "1386  {'SEVERE_TOXICITY': 0.023076924, 'INSULT': 0.2...     False           0   \n",
       "1387  {'PROFANITY': 0.020578653, 'TOXICITY': 0.04612...     False           0   \n",
       "\n",
       "      predictions  \n",
       "0               1  \n",
       "1               1  \n",
       "2               0  \n",
       "3               1  \n",
       "4               0  \n",
       "...           ...  \n",
       "1383            0  \n",
       "1384            0  \n",
       "1385            0  \n",
       "1386            0  \n",
       "1387            0  \n",
       "\n",
       "[1388 rows x 7 columns]"
      ]
     },
     "execution_count": 29,
     "metadata": {},
     "output_type": "execute_result"
    }
   ],
   "source": [
    "df"
   ]
  },
  {
   "cell_type": "code",
   "execution_count": 30,
   "id": "2e86805a",
   "metadata": {},
   "outputs": [],
   "source": [
    "df.to_csv(output_path, index=False)"
   ]
  }
 ],
 "metadata": {
  "kernelspec": {
   "display_name": "SJTU",
   "language": "python",
   "name": "python3"
  },
  "language_info": {
   "codemirror_mode": {
    "name": "ipython",
    "version": 3
   },
   "file_extension": ".py",
   "mimetype": "text/x-python",
   "name": "python",
   "nbconvert_exporter": "python",
   "pygments_lexer": "ipython3",
   "version": "3.10.13"
  }
 },
 "nbformat": 4,
 "nbformat_minor": 5
}
